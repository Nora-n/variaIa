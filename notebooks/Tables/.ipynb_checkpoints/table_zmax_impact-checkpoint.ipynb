{
 "cells": [
  {
   "cell_type": "markdown",
   "metadata": {},
   "source": [
    "## Modules à importer"
   ]
  },
  {
   "cell_type": "code",
   "execution_count": 1,
   "metadata": {
    "jupyter": {
     "source_hidden": true
    }
   },
   "outputs": [],
   "source": [
    "import math\n",
    "import scipy\n",
    "import pickle\n",
    "import numpy as np\n",
    "import pandas as pd\n",
    "import iminuit as im\n",
    "import ipywidgets as ipw\n",
    "from importlib import reload\n",
    "from scipy.stats import poisson\n",
    "from variaIa import baserate\n",
    "from variaIa import stretchevol\n",
    "from astropy.cosmology import Planck15 as cdata\n",
    "from IPython.display import display, Latex\n",
    "import matplotlib.pyplot as plt\n",
    "import random"
   ]
  },
  {
   "cell_type": "markdown",
   "metadata": {},
   "source": [
    "## Load results from plots_determination_zmax"
   ]
  },
  {
   "cell_type": "code",
   "execution_count": 57,
   "metadata": {},
   "outputs": [],
   "source": [
    "with open('../Data/zmax_result', 'rb') as f:\n",
    "    z_lins, meds, stds, z_max = pickle.load(f)\n",
    "\n",
    "z_max['HST'] = [10, 10, 10]\n",
    "z_max['SNF'] = [10, 10, 10]\n",
    "\n",
    "surveys = list(z_max.keys())\n",
    "z_max_lp = dict()\n",
    "\n",
    "size = 50\n",
    "\n",
    "for survey in surveys:\n",
    "    z_max_lp[survey] = np.linspace(z_max[survey][0], z_max[survey][2], size)\n",
    "    random.shuffle(z_max_lp[survey])"
   ]
  },
  {
   "cell_type": "markdown",
   "metadata": {},
   "source": [
    "## Run zmax_impact"
   ]
  },
  {
   "cell_type": "code",
   "execution_count": 59,
   "metadata": {},
   "outputs": [
    {
     "name": "stderr",
     "output_type": "stream",
     "text": [
      "/home/nora/Documents/Thèse/devpython/variaIa/variaIa/stretchevol.py:452: RuntimeWarning: divide by zero encountered in log\n",
      "  sigma_m, sigma_p)))\n",
      "/home/nora/Documents/Thèse/devpython/variaIa/variaIa/stretchevol.py:748: RuntimeWarning: invalid value encountered in log\n",
      "  mu_3, sigma_3)))\n",
      "/home/nora/.installs/anaconda3/lib/python3.7/site-packages/scipy/stats/_distn_infrastructure.py:1721: RuntimeWarning: invalid value encountered in greater\n",
      "  cond0 = self._argcheck(*args) & (scale > 0)\n",
      "/home/nora/.installs/anaconda3/lib/python3.7/site-packages/scipy/stats/_distn_infrastructure.py:897: RuntimeWarning: invalid value encountered in greater_equal\n",
      "  return (a <= x) & (x <= b)\n",
      "/home/nora/.installs/anaconda3/lib/python3.7/site-packages/scipy/stats/_distn_infrastructure.py:897: RuntimeWarning: invalid value encountered in less_equal\n",
      "  return (a <= x) & (x <= b)\n",
      "/home/nora/.installs/anaconda3/lib/python3.7/site-packages/scipy/stats/_distn_infrastructure.py:1722: RuntimeWarning: invalid value encountered in greater\n",
      "  cond1 = self._support_mask(x, *args) & (scale > 0)\n",
      "/home/nora/Documents/Thèse/devpython/variaIa/variaIa/stretchevol.py:595: RuntimeWarning: divide by zero encountered in log\n",
      "  mu_2)))\n"
     ]
    }
   ],
   "source": [
    "reload(stretchevol)\n",
    "dict_pd, NR_params = stretchevol.zmax_impact(z_max_lp)"
   ]
  },
  {
   "cell_type": "markdown",
   "metadata": {},
   "source": [
    "## Results"
   ]
  },
  {
   "cell_type": "code",
   "execution_count": 60,
   "metadata": {},
   "outputs": [
    {
     "data": {
      "text/plain": [
       "[[0.4737, 0.3625, -1.2449],\n",
       " [0.4656, 0.3509, -1.2299],\n",
       " [0.4574, 0.363, -1.2281],\n",
       " [0.4622, 0.3558, -1.2296],\n",
       " [0.4697, 0.3645, -1.2381],\n",
       " [0.4675, 0.3586, -1.2341],\n",
       " [0.4755, 0.3648, -1.2448],\n",
       " [0.4644, 0.3506, -1.2366],\n",
       " [0.478, 0.3569, -1.2443],\n",
       " [0.4697, 0.3704, -1.2392],\n",
       " [0.4692, 0.3546, -1.2336],\n",
       " [0.4682, 0.3554, -1.2369],\n",
       " [0.4621, 0.3516, -1.2402],\n",
       " [0.4729, 0.3685, -1.2426],\n",
       " [0.4733, 0.3633, -1.2435],\n",
       " [0.4705, 0.3459, -1.2408],\n",
       " [0.4586, 0.3577, -1.2337],\n",
       " [0.4677, 0.3607, -1.2318],\n",
       " [0.4684, 0.3588, -1.2367],\n",
       " [0.471, 0.3568, -1.2383],\n",
       " [0.4783, 0.3624, -1.2472],\n",
       " [0.4699, 0.3486, -1.2413],\n",
       " [0.463, 0.3719, -1.2358],\n",
       " [0.466, 0.3496, -1.2392],\n",
       " [0.4716, 0.3654, -1.2437],\n",
       " [0.4656, 0.3509, -1.2299],\n",
       " [0.4673, 0.3606, -1.2315],\n",
       " [0.4567, 0.3558, -1.2235],\n",
       " [0.4634, 0.3529, -1.2403],\n",
       " [0.4688, 0.3499, -1.2292],\n",
       " [0.4759, 0.3651, -1.2443],\n",
       " [0.4575, 0.3582, -1.2318],\n",
       " [0.4672, 0.3515, -1.2281],\n",
       " [0.4608, 0.3544, -1.222],\n",
       " [0.466, 0.3496, -1.2392],\n",
       " [0.463, 0.3651, -1.2299],\n",
       " [0.4708, 0.3529, -1.2339],\n",
       " [0.4764, 0.3586, -1.244],\n",
       " [0.4757, 0.354, -1.2378],\n",
       " [0.4763, 0.3555, -1.2405],\n",
       " [0.4611, 0.3544, -1.2357],\n",
       " [0.4653, 0.3483, -1.2419],\n",
       " [0.4745, 0.3602, -1.2419],\n",
       " [0.4615, 0.359, -1.2343],\n",
       " [0.4647, 0.3684, -1.2413],\n",
       " [0.466, 0.3557, -1.2344],\n",
       " [0.4629, 0.3633, -1.2314],\n",
       " [0.4718, 0.3557, -1.2342],\n",
       " [0.4725, 0.3582, -1.2357],\n",
       " [0.4672, 0.3712, -1.2394]]"
      ]
     },
     "execution_count": 60,
     "metadata": {},
     "output_type": "execute_result"
    }
   ],
   "source": [
    "NR_params"
   ]
  },
  {
   "cell_type": "code",
   "execution_count": null,
   "metadata": {},
   "outputs": [],
   "source": []
  }
 ],
 "metadata": {
  "kernelspec": {
   "display_name": "Python 3",
   "language": "python",
   "name": "python3"
  },
  "language_info": {
   "codemirror_mode": {
    "name": "ipython",
    "version": 3
   },
   "file_extension": ".py",
   "mimetype": "text/x-python",
   "name": "python",
   "nbconvert_exporter": "python",
   "pygments_lexer": "ipython3",
   "version": "3.7.3"
  }
 },
 "nbformat": 4,
 "nbformat_minor": 4
}
