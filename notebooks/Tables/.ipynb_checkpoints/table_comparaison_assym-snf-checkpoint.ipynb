{
 "cells": [
  {
   "cell_type": "markdown",
   "metadata": {},
   "source": [
    "## Modules à importer"
   ]
  },
  {
   "cell_type": "code",
   "execution_count": 1,
   "metadata": {
    "jupyter": {
     "source_hidden": true
    }
   },
   "outputs": [],
   "source": [
    "import math\n",
    "import scipy\n",
    "import pickle\n",
    "import numpy as np\n",
    "import pandas as pd\n",
    "import iminuit as im\n",
    "import ipywidgets as ipw\n",
    "from importlib import reload\n",
    "from scipy.stats import poisson\n",
    "from variaIa import baserate\n",
    "from variaIa import stretchevol\n",
    "from astropy.cosmology import Planck15 as cdata\n",
    "from IPython.display import display, Latex\n",
    "import matplotlib.pyplot as plt\n",
    "import random"
   ]
  },
  {
   "cell_type": "markdown",
   "metadata": {},
   "source": [
    "## Définitions pandas, surveys, $z[:z_{\\text{max}}]$, $x_1[:z_{\\text{max}}]$, mean, std et données totales"
   ]
  },
  {
   "cell_type": "code",
   "execution_count": 2,
   "metadata": {},
   "outputs": [],
   "source": [
    "cons = ipw.Checkbox(\n",
    "    value=False,\n",
    "    description='Conservative')"
   ]
  },
  {
   "cell_type": "code",
   "execution_count": 3,
   "metadata": {
    "jupyter": {
     "source_hidden": true
    }
   },
   "outputs": [
    {
     "data": {
      "application/vnd.jupyter.widget-view+json": {
       "model_id": "52002d6a3ab7409f91ee4149f62e6b62",
       "version_major": 2,
       "version_minor": 0
      },
      "text/plain": [
       "interactive(children=(Checkbox(value=False, description='Conservative'), Output()), _dom_classes=('widget-inte…"
      ]
     },
     "metadata": {},
     "output_type": "display_data"
    }
   ],
   "source": [
    "d = pd.read_csv('../Data/data_cheat.csv', sep=' ', index_col = 'CID')\n",
    "d_snf = pd.read_csv('../Data/lssfr_paper_full_sntable.csv',sep=',')\n",
    "\n",
    "surveys = ['SNF', 'SDSS', 'PS1', 'SNLS', 'HST']\n",
    "\n",
    "surv = {'SNF':  d_snf.loc[d_snf['name'].str.contains('SNF|LSQ|PTF',na=False,regex=True)],\n",
    "        'SDSS': d[d['IDSURVEY'] == 1],\n",
    "        'PS1':  d[d['IDSURVEY'] == 15],\n",
    "        'SNLS': d[d['IDSURVEY'] == 4],\n",
    "        'HST':  d[d['IDSURVEY'].isin([101, 100, 106])]}\n",
    "\n",
    "dgmap = plt.cm.get_cmap('viridis')\n",
    "colors = {'SNF': dgmap(0),\n",
    "          'SDSS': dgmap(50),\n",
    "          'PS1': dgmap(125),\n",
    "          'SNLS': dgmap(200),\n",
    "          'HST': dgmap(300)}\n",
    "\n",
    "with open('../Data/zmax_mlim', 'rb') as f:\n",
    "    z_max = pickle.load(f)\n",
    "z_max['HST'] = [10, 10]\n",
    "\n",
    "def set_cons(cons):\n",
    "    global df\n",
    "    \n",
    "    zmax_cuts = dict()\n",
    "    z_zcuts = dict()\n",
    "    x1_zcuts = dict()\n",
    "    x1_err_zcuts = dict()\n",
    "    \n",
    "    names = ['SNF' for i in range(len(surv['SNF']['host.zcmb']))]\n",
    "    stretchs = list(surv['SNF']['salt2.X1'])\n",
    "    stretchs_err = list(surv['SNF']['salt2.X1.err'])\n",
    "    redshifts = list(surv['SNF']['host.zcmb'])\n",
    "    infor = list(surv['SNF']['p(prompt)'])\n",
    "    py = list(surv['SNF']['p(prompt)'])\n",
    "    lssfr = list(surv['SNF']['lssfr'])\n",
    "    lssfr_err_d = list(surv['SNF']['lssfr.err_down'])\n",
    "    lssfr_err_u = list(surv['SNF']['lssfr.err_up'])\n",
    "    \n",
    "    if cons:\n",
    "        for survey in surveys[1:]:\n",
    "            zmax_cuts[survey] = np.where(surv[survey].zCMB.values < z_max[survey][0])\n",
    "            z_zcuts[survey] = surv[survey].zCMB.values[zmax_cuts[survey]]\n",
    "            x1_zcuts[survey] = surv[survey].x1.values[zmax_cuts[survey]]\n",
    "            x1_err_zcuts[survey] = surv[survey].x1ERR.values[zmax_cuts[survey]]\n",
    "    else:\n",
    "        for survey in surveys[1:]:\n",
    "            zmax_cuts[survey] = np.where(surv[survey].zCMB.values < z_max[survey][-1])\n",
    "            z_zcuts[survey] = surv[survey].zCMB.values[zmax_cuts[survey]]\n",
    "            x1_zcuts[survey] = surv[survey].x1.values[zmax_cuts[survey]]\n",
    "            x1_err_zcuts[survey] = surv[survey].x1ERR.values[zmax_cuts[survey]]\n",
    "    \n",
    "    for survey in surveys[1:]:\n",
    "        names += [survey for i in range(len(z_zcuts[survey]))]\n",
    "        stretchs += list(x1_zcuts[survey])\n",
    "        stretchs_err += list(x1_err_zcuts[survey])\n",
    "        redshifts += list(z_zcuts[survey])\n",
    "        infor += list(stretchevol.Evol2G2M2S().delta(z_zcuts[survey]))\n",
    "        py += list([0 for i in range(len(z_zcuts[survey]))])\n",
    "        lssfr += list([0 for i in range(len(z_zcuts[survey]))])\n",
    "        lssfr_err_d += list([0 for i in range(len(z_zcuts[survey]))])\n",
    "        lssfr_err_u += list([0 for i in range(len(z_zcuts[survey]))])\n",
    "        \n",
    "    df = pd.DataFrame({'survey': names,\n",
    "                       'stretchs': stretchs,\n",
    "                       'stretchs_err': stretchs_err,\n",
    "                       'redshifts': redshifts,\n",
    "                       'infor': infor,\n",
    "                       'py': py,\n",
    "                       'lssfr': lssfr,\n",
    "                       'lssfr_err_d': lssfr_err_d,\n",
    "                       'lssfr_err_u': lssfr_err_u})\n",
    "\n",
    "    z_mean = np.mean(df.redshifts)\n",
    "    z_std = np.std(df.redshifts)\n",
    "    x1_mean = np.mean(df.stretchs)\n",
    "    x1_std = np.std(df.stretchs)\n",
    "    \n",
    "    return(df)\n",
    "            \n",
    "int_set_cons = ipw.interactive(set_cons, cons=cons)\n",
    "display(int_set_cons)\n",
    "\n",
    "names = ['SNF' for i in range(len(surv['SNF']['host.zcmb'].values))]\n",
    "stretchs = list(surv['SNF']['salt2.X1'].values)\n",
    "stretchs_err = list(surv['SNF']['salt2.X1.err'].values)\n",
    "redshifts = list(surv['SNF']['host.zcmb'].values)\n",
    "infor = list(surv['SNF']['p(prompt)'])\n",
    "py = list(surv['SNF']['p(prompt)'])\n",
    "lssfr = list(surv['SNF']['lssfr'])\n",
    "lssfr_err_d = list(surv['SNF']['lssfr.err_down'])\n",
    "lssfr_err_u = list(surv['SNF']['lssfr.err_up'])\n",
    "\n",
    "for survey in surveys[1:]:\n",
    "    names += [survey for i in range(len(surv[survey].zCMB.values))]\n",
    "    stretchs += list(surv[survey].x1.values)\n",
    "    stretchs_err += list(surv[survey].x1ERR.values)\n",
    "    redshifts += list(surv[survey].zCMB.values)\n",
    "    infor += list(stretchevol.Evol2G2M2S().delta(surv[survey].zCMB.values))\n",
    "    py += list([0 for i in range(len(surv[survey].zCMB.values))])\n",
    "    lssfr += list([0 for i in range(len(surv[survey].zCMB.values))])\n",
    "    lssfr_err_d += list([0 for i in range(len(surv[survey].zCMB.values))])\n",
    "    lssfr_err_u += list([0 for i in range(len(surv[survey].zCMB.values))])\n",
    "\n",
    "df_full = pd.DataFrame({'survey': names,\n",
    "                        'stretchs': stretchs,\n",
    "                        'stretchs_err': stretchs_err,\n",
    "                        'redshifts': redshifts,\n",
    "                        'infor': infor,\n",
    "                        'py': py,\n",
    "                        'lssfr': lssfr,\n",
    "                        'lssfr_err_d': lssfr_err_d,\n",
    "                        'lssfr_err_u': lssfr_err_u})"
   ]
  },
  {
   "cell_type": "markdown",
   "metadata": {},
   "source": [
    "## Minimisation des modèles à mettre dans le _pandas_"
   ]
  },
  {
   "cell_type": "code",
   "execution_count": 4,
   "metadata": {},
   "outputs": [],
   "source": [
    "gen = stretchevol.generic()\n",
    "gen.set_model('Evol1G1M2S')\n",
    "\n",
    "gen.set_data(df[df['survey'] == 'PS1'])\n",
    "assymPS1 = gen.fit()\n",
    "\n",
    "gen.set_data(df[df['survey'] == 'SDSS'])\n",
    "assymSDSS = gen.fit()\n",
    "\n",
    "gen.set_data(df[df['survey'] == 'SNLS'])\n",
    "assymSNLS = gen.fit()\n",
    "\n",
    "gen.set_data(df[df['survey'] == 'SNF'])\n",
    "assymSNF = gen.fit()\n",
    "\n",
    "gen.set_data(df)\n",
    "assymTOT = gen.fit()"
   ]
  },
  {
   "cell_type": "markdown",
   "metadata": {},
   "source": [
    "## Modèle _base_ pour comparaison"
   ]
  },
  {
   "cell_type": "code",
   "execution_count": 5,
   "metadata": {},
   "outputs": [],
   "source": [
    "gen.set_model('Evol3G2M2SSNF')\n",
    "gen.set_data(df[df['survey'] == 'SNF'])\n",
    "base = gen.fit()"
   ]
  },
  {
   "cell_type": "markdown",
   "metadata": {},
   "source": [
    "## Modèles BaseSURVEY"
   ]
  },
  {
   "cell_type": "code",
   "execution_count": 48,
   "metadata": {},
   "outputs": [],
   "source": [
    "baseSDSS = stretchevol.Evol3G2M2S()\n",
    "baseSDSS.set_data(assymSDSS.pd)\n",
    "\n",
    "basePS1 = stretchevol.Evol3G2M2S()\n",
    "basePS1.set_data(assymPS1.pd)\n",
    "\n",
    "baseSNLS = stretchevol.Evol3G2M2S()\n",
    "baseSNLS.set_data(assymSNLS.pd)"
   ]
  },
  {
   "cell_type": "markdown",
   "metadata": {},
   "source": [
    "## Another table comp"
   ]
  },
  {
   "cell_type": "code",
   "execution_count": 59,
   "metadata": {
    "jupyter": {
     "source_hidden": true
    }
   },
   "outputs": [],
   "source": [
    "modelsa = [assymSDSS, assymPS1, assymSNLS, assymSNF]\n",
    "modelsb = [baseSDSS, basePS1, baseSNLS, base]\n",
    "param_sco = [[1.142, 1.652, 0.104], [0.384, 0.987, 0.505], [0.974, 1.236, 0.283]]\n",
    "\n",
    "p_t = base.param\n",
    "\n",
    "comp_L = pd.DataFrame({'#Data': [len(k.pd) for k in modelsa] +\\\n",
    "                       [np.sum([len(k.pd) for k in modelsa])] +\\\n",
    "                       [np.sum([len(k.pd) for k in modelsa[:-1]])],\n",
    "                       'Survey': ['SDSS', 'PS1', 'SNLS', 'SNf', 'Total', 'Total-SNf'],\n",
    "                       '$\\mathcal{L}$ asym (this)': [k.get_logl() for k in modelsa] +\\\n",
    "                       [np.sum([k.get_logl() for k in modelsa])] +\\\n",
    "                       [np.sum([k.get_logl() for k in modelsa[:-1]])],\n",
    "                       'Free param ': [len(k.FREEPARAMETERS) for k in modelsa] +\\\n",
    "                       [np.sum([len(k.FREEPARAMETERS) for k in modelsa])] +\\\n",
    "                       [np.sum([len(k.FREEPARAMETERS) for k in modelsa[:-1]])],\n",
    "                       '$\\mathcal{L}$ Base SNf': [k.loglikelihood(p_t['aa'], p_t['mu_1'], p_t['sigma_1'], p_t['mu_2'], p_t['sigma_2']) for k in modelsb] +\\\n",
    "                       [np.sum([k.loglikelihood(p_t['aa'], p_t['mu_1'], p_t['sigma_1'], p_t['mu_2'], p_t['sigma_2']) for k in modelsb])] +\\\n",
    "                       [np.sum([k.loglikelihood(p_t['aa'], p_t['mu_1'], p_t['sigma_1'], p_t['mu_2'], p_t['sigma_2']) for k in modelsb[:-1]])],\n",
    "                       'Free param': [0, 0, 0, 5, 5, 0],\n",
    "                       '$\\mathcal{L}$ asym Sco': [k.loglikelihood(p[0], p[1], p[2]) for k,p in zip(modelsa, param_sco)] + ['--'] +\\\n",
    "                       ['--'] +\\\n",
    "                       [np.sum([k.loglikelihood(p[0], p[1], p[2]) for k,p in zip(modelsa, param_sco)])],\n",
    "                      })\n",
    "\n",
    "comp_A = pd.DataFrame({'#Data': [len(k.pd) for k in modelsa] +\\\n",
    "                       [np.sum([len(k.pd) for k in modelsa])] +\\\n",
    "                       [np.sum([len(k.pd) for k in modelsa[:-1]])],\n",
    "                       'Survey': ['SDSS', 'PS1', 'SNLS','SNf',\n",
    "                                  'Total',\n",
    "                                  'Total-SNf'],\n",
    "                       'AICc asym (this)': [k.get_aicc() for k in modelsa] +\\\n",
    "                       [2*12 + (2*12*13)/(np.sum([len(k.pd) for k in modelsa])-11) + np.sum([k.get_logl() for k in modelsa])] +\\\n",
    "                       [2*9 + (2*9*10)/(np.sum([len(k.pd) for k in modelsa[:-1]])-8) + np.sum([k.get_logl() for k in modelsa[:-1]])],\n",
    "                       'Free param ': [len(k.FREEPARAMETERS) for k in modelsa] +\\\n",
    "                       [np.sum([len(k.FREEPARAMETERS) for k in modelsa])] +\\\n",
    "                       [np.sum([len(k.FREEPARAMETERS) for k in modelsa[:-1]])],\n",
    "                       'AICc Base SNf': [k.loglikelihood(p_t['aa'], p_t['mu_1'], p_t['sigma_1'], p_t['mu_2'], p_t['sigma_2']) for k in modelsb[:-1]] + [base.get_aicc()] +\\\n",
    "                       [2*5 + (2*5*6)/(np.sum([len(k.pd) for k in modelsb])-4) + np.sum([k.loglikelihood(p_t['aa'], p_t['mu_1'], p_t['sigma_1'], p_t['mu_2'], p_t['sigma_2']) for k in modelsb])] +\\\n",
    "                       [np.sum([k.loglikelihood(p_t['aa'], p_t['mu_1'], p_t['sigma_1'], p_t['mu_2'], p_t['sigma_2']) for k in modelsb[:-1]])],\n",
    "                       'Free param': [0, 0, 0, 5, 5, 5],\n",
    "                       'AICc asym Sco': [2*3 + (2*3*(3+1))/(len(k.pd)-3-1) + k.loglikelihood(p[0], p[1], p[2]) for k,p in zip(modelsa, param_sco)] + ['--'] +\\\n",
    "                       ['--'] +\\\n",
    "                       [2*9 + (2*9*10)/(np.sum([len(k.pd) for k in modelsa[:-1]])-8) + np.sum([k.loglikelihood(p[0], p[1], p[2]) for k,p in zip(modelsa, param_sco)])],\n",
    "                      })"
   ]
  },
  {
   "cell_type": "code",
   "execution_count": 65,
   "metadata": {},
   "outputs": [
    {
     "data": {
      "text/html": [
       "<div>\n",
       "<style scoped>\n",
       "    .dataframe tbody tr th:only-of-type {\n",
       "        vertical-align: middle;\n",
       "    }\n",
       "\n",
       "    .dataframe tbody tr th {\n",
       "        vertical-align: top;\n",
       "    }\n",
       "\n",
       "    .dataframe thead th {\n",
       "        text-align: right;\n",
       "    }\n",
       "</style>\n",
       "<table border=\"1\" class=\"dataframe\">\n",
       "  <thead>\n",
       "    <tr style=\"text-align: right;\">\n",
       "      <th></th>\n",
       "      <th>#Data</th>\n",
       "      <th>Survey</th>\n",
       "      <th>$\\mathcal{L}$ asym (this)</th>\n",
       "      <th>Free param</th>\n",
       "      <th>$\\mathcal{L}$ Base SNf</th>\n",
       "      <th>Free param</th>\n",
       "      <th>$\\mathcal{L}$ asym Sco</th>\n",
       "    </tr>\n",
       "  </thead>\n",
       "  <tbody>\n",
       "    <tr>\n",
       "      <td>0</td>\n",
       "      <td>167</td>\n",
       "      <td>SDSS</td>\n",
       "      <td>445.020350</td>\n",
       "      <td>3</td>\n",
       "      <td>452.853621</td>\n",
       "      <td>0</td>\n",
       "      <td>457.887</td>\n",
       "    </tr>\n",
       "    <tr>\n",
       "      <td>1</td>\n",
       "      <td>160</td>\n",
       "      <td>PS1</td>\n",
       "      <td>397.398958</td>\n",
       "      <td>3</td>\n",
       "      <td>405.156677</td>\n",
       "      <td>0</td>\n",
       "      <td>397.553</td>\n",
       "    </tr>\n",
       "    <tr>\n",
       "      <td>2</td>\n",
       "      <td>102</td>\n",
       "      <td>SNLS</td>\n",
       "      <td>252.748662</td>\n",
       "      <td>3</td>\n",
       "      <td>269.461308</td>\n",
       "      <td>0</td>\n",
       "      <td>254.517</td>\n",
       "    </tr>\n",
       "    <tr>\n",
       "      <td>3</td>\n",
       "      <td>114</td>\n",
       "      <td>SNf</td>\n",
       "      <td>299.302065</td>\n",
       "      <td>3</td>\n",
       "      <td>268.576825</td>\n",
       "      <td>5</td>\n",
       "      <td>--</td>\n",
       "    </tr>\n",
       "    <tr>\n",
       "      <td>4</td>\n",
       "      <td>543</td>\n",
       "      <td>Total</td>\n",
       "      <td>1394.470034</td>\n",
       "      <td>12</td>\n",
       "      <td>1396.048430</td>\n",
       "      <td>5</td>\n",
       "      <td>--</td>\n",
       "    </tr>\n",
       "    <tr>\n",
       "      <td>5</td>\n",
       "      <td>429</td>\n",
       "      <td>Total-SNf</td>\n",
       "      <td>1095.167969</td>\n",
       "      <td>9</td>\n",
       "      <td>1127.471605</td>\n",
       "      <td>0</td>\n",
       "      <td>1109.96</td>\n",
       "    </tr>\n",
       "  </tbody>\n",
       "</table>\n",
       "</div>"
      ],
      "text/plain": [
       "   #Data     Survey  $\\mathcal{L}$ asym (this)  Free param   \\\n",
       "0    167       SDSS                 445.020350            3   \n",
       "1    160        PS1                 397.398958            3   \n",
       "2    102       SNLS                 252.748662            3   \n",
       "3    114        SNf                 299.302065            3   \n",
       "4    543      Total                1394.470034           12   \n",
       "5    429  Total-SNf                1095.167969            9   \n",
       "\n",
       "   $\\mathcal{L}$ Base SNf  Free param $\\mathcal{L}$ asym Sco  \n",
       "0              452.853621           0                457.887  \n",
       "1              405.156677           0                397.553  \n",
       "2              269.461308           0                254.517  \n",
       "3              268.576825           5                     --  \n",
       "4             1396.048430           5                     --  \n",
       "5             1127.471605           0                1109.96  "
      ]
     },
     "execution_count": 65,
     "metadata": {},
     "output_type": "execute_result"
    }
   ],
   "source": [
    "path = '../Data/asym_comp_L'\n",
    "if cons.value:\n",
    "    path += '_cons'\n",
    "path += '.dat'\n",
    "comp_L.to_csv(path)\n",
    "\n",
    "comp_L"
   ]
  },
  {
   "cell_type": "code",
   "execution_count": 66,
   "metadata": {},
   "outputs": [
    {
     "data": {
      "text/html": [
       "<div>\n",
       "<style scoped>\n",
       "    .dataframe tbody tr th:only-of-type {\n",
       "        vertical-align: middle;\n",
       "    }\n",
       "\n",
       "    .dataframe tbody tr th {\n",
       "        vertical-align: top;\n",
       "    }\n",
       "\n",
       "    .dataframe thead th {\n",
       "        text-align: right;\n",
       "    }\n",
       "</style>\n",
       "<table border=\"1\" class=\"dataframe\">\n",
       "  <thead>\n",
       "    <tr style=\"text-align: right;\">\n",
       "      <th></th>\n",
       "      <th>#Data</th>\n",
       "      <th>Survey</th>\n",
       "      <th>AICc asym (this)</th>\n",
       "      <th>Free param</th>\n",
       "      <th>AICc Base SNf</th>\n",
       "      <th>Free param</th>\n",
       "      <th>AICc asym Sco</th>\n",
       "    </tr>\n",
       "  </thead>\n",
       "  <tbody>\n",
       "    <tr>\n",
       "      <td>0</td>\n",
       "      <td>167</td>\n",
       "      <td>SDSS</td>\n",
       "      <td>451.167589</td>\n",
       "      <td>3</td>\n",
       "      <td>452.853621</td>\n",
       "      <td>0</td>\n",
       "      <td>464.034</td>\n",
       "    </tr>\n",
       "    <tr>\n",
       "      <td>1</td>\n",
       "      <td>160</td>\n",
       "      <td>PS1</td>\n",
       "      <td>403.552804</td>\n",
       "      <td>3</td>\n",
       "      <td>405.156677</td>\n",
       "      <td>0</td>\n",
       "      <td>403.707</td>\n",
       "    </tr>\n",
       "    <tr>\n",
       "      <td>2</td>\n",
       "      <td>102</td>\n",
       "      <td>SNLS</td>\n",
       "      <td>258.993560</td>\n",
       "      <td>3</td>\n",
       "      <td>269.461308</td>\n",
       "      <td>0</td>\n",
       "      <td>260.762</td>\n",
       "    </tr>\n",
       "    <tr>\n",
       "      <td>3</td>\n",
       "      <td>114</td>\n",
       "      <td>SNf</td>\n",
       "      <td>305.520247</td>\n",
       "      <td>3</td>\n",
       "      <td>279.132380</td>\n",
       "      <td>5</td>\n",
       "      <td>--</td>\n",
       "    </tr>\n",
       "    <tr>\n",
       "      <td>4</td>\n",
       "      <td>543</td>\n",
       "      <td>Total</td>\n",
       "      <td>1419.056500</td>\n",
       "      <td>12</td>\n",
       "      <td>1406.159747</td>\n",
       "      <td>5</td>\n",
       "      <td>--</td>\n",
       "    </tr>\n",
       "    <tr>\n",
       "      <td>5</td>\n",
       "      <td>429</td>\n",
       "      <td>Total-SNf</td>\n",
       "      <td>1113.595522</td>\n",
       "      <td>9</td>\n",
       "      <td>1127.471605</td>\n",
       "      <td>5</td>\n",
       "      <td>1128.38</td>\n",
       "    </tr>\n",
       "  </tbody>\n",
       "</table>\n",
       "</div>"
      ],
      "text/plain": [
       "   #Data     Survey  AICc asym (this)  Free param   AICc Base SNf  Free param  \\\n",
       "0    167       SDSS        451.167589            3     452.853621           0   \n",
       "1    160        PS1        403.552804            3     405.156677           0   \n",
       "2    102       SNLS        258.993560            3     269.461308           0   \n",
       "3    114        SNf        305.520247            3     279.132380           5   \n",
       "4    543      Total       1419.056500           12    1406.159747           5   \n",
       "5    429  Total-SNf       1113.595522            9    1127.471605           5   \n",
       "\n",
       "  AICc asym Sco  \n",
       "0       464.034  \n",
       "1       403.707  \n",
       "2       260.762  \n",
       "3            --  \n",
       "4            --  \n",
       "5       1128.38  "
      ]
     },
     "execution_count": 66,
     "metadata": {},
     "output_type": "execute_result"
    }
   ],
   "source": [
    "path = '../Data/asym_comp_A'\n",
    "if cons.value:\n",
    "    path += '_cons'\n",
    "path += '.dat'\n",
    "comp_A.to_csv(path)\n",
    "\n",
    "comp_A"
   ]
  },
  {
   "cell_type": "markdown",
   "metadata": {},
   "source": [
    "### Définition likelihood generic"
   ]
  },
  {
   "cell_type": "code",
   "execution_count": 6,
   "metadata": {},
   "outputs": [],
   "source": [
    "def assym_law_gen(x, param):\n",
    "    return(assymPS1.likelihood_tot(x, np.zeros(len(x)), param[0], param[1], param[2]))"
   ]
  },
  {
   "cell_type": "markdown",
   "metadata": {},
   "source": [
    "# PS1"
   ]
  },
  {
   "cell_type": "markdown",
   "metadata": {},
   "source": [
    "## Définition de _cov_ pour sélection aléatoire des paramètres"
   ]
  },
  {
   "cell_type": "code",
   "execution_count": 7,
   "metadata": {},
   "outputs": [],
   "source": [
    "cov_PS1 = im.Minuit.matrix(assymPS1.m_tot)\n",
    "mean_PS1 = [assymPS1.m_tot.values[i] for i in range(3)]\n",
    "param_hesse_mat_PS1 = scipy.stats.multivariate_normal.rvs(mean=mean_PS1, cov=cov_PS1, size=500)"
   ]
  },
  {
   "cell_type": "markdown",
   "metadata": {},
   "source": [
    "### List of all the models"
   ]
  },
  {
   "cell_type": "code",
   "execution_count": 10,
   "metadata": {},
   "outputs": [],
   "source": [
    "xlin = np.linspace(-3, 3, 3000)\n",
    "models_hesse_PS1 = [assym_law_gen(xlin, param_hesse) for param_hesse in param_hesse_mat_PS1]\n",
    "models_hesse_PS1 = np.asarray(models_hesse_PS1)"
   ]
  },
  {
   "cell_type": "markdown",
   "metadata": {},
   "source": [
    "### Take _std_"
   ]
  },
  {
   "cell_type": "code",
   "execution_count": 12,
   "metadata": {},
   "outputs": [],
   "source": [
    "models_std_PS1 = np.std(models_hesse_PS1, axis=0)"
   ]
  },
  {
   "cell_type": "markdown",
   "metadata": {},
   "source": [
    "## Tracé"
   ]
  },
  {
   "cell_type": "code",
   "execution_count": 62,
   "metadata": {
    "jupyter": {
     "source_hidden": true
    }
   },
   "outputs": [
    {
     "data": {
      "image/png": "[encoded data removed]",
      "text/plain": [
       "<Figure size 576x360 with 1 Axes>"
      ]
     },
     "metadata": {
      "needs_background": "light"
     },
     "output_type": "display_data"
    }
   ],
   "source": [
    "fig = plt.figure(figsize=[8, 5])\n",
    "ax = fig.add_axes([0.1, 0.12, 0.8, 0.8])\n",
    "\n",
    "x_linspace = np.linspace(-3, 3, 3000)\n",
    "flag_up = x_linspace >= assymPS1.param['mu']\n",
    "\n",
    "color_p = \"C2\"\n",
    "\n",
    "pdf_PS1 = assymPS1.likelihood_tot(x_linspace,\n",
    "                                  np.zeros(len(x_linspace)),\n",
    "                                  assymPS1.param['mu'],\n",
    "                                  assymPS1.param['sigma_m'],\n",
    "                                  assymPS1.param['sigma_p'])\n",
    "\n",
    "ax.plot(x_linspace,\n",
    "        pdf_PS1,\n",
    "        color=color_p,\n",
    "        lw=1, label='PS1')\n",
    "\n",
    "ax.fill_between(x_linspace,\n",
    "                pdf_PS1 + models_std_PS1,\n",
    "                pdf_PS1 - models_std_PS1,\n",
    "                color=color_p,\n",
    "                lw=1, alpha=.2)\n",
    "\n",
    "ax.vline(assymPS1.param['mu'], ymin=0, ymax=np.max(pdf_PS1),\n",
    "         color=color_p, alpha=.5, linewidth=2.0)\n",
    "\n",
    "mu_s = param_sco[1][0]\n",
    "sigma_m_s = param_sco[1][1]\n",
    "sigma_p_s = param_sco[1][2]\n",
    "flag_up_s = x_linspace >= mu_s\n",
    "\n",
    "color_s = \"C0\"\n",
    "\n",
    "pdf_SCO = assymPS1.likelihood_tot(x_linspace,\n",
    "                                  np.zeros(len(x_linspace)),\n",
    "                                  mu_s,\n",
    "                                  sigma_m_s,\n",
    "                                  sigma_p_s)\n",
    "\n",
    "ax.plot(x_linspace,\n",
    "        pdf_SCO,\n",
    "        color=color_s, label='Scolnic',\n",
    "        lw=1)\n",
    "\n",
    "ax.vline(mu_s, 0, np.max(pdf_SCO),\n",
    "         color=color_s, alpha=.5, linewidth=2.0)\n",
    "\n",
    "dgmap = plt.cm.get_cmap('coolwarm')\n",
    "nb_base = len(surv['PS1'].zCMB)\n",
    "i = 0\n",
    "\n",
    "z_m, z_p = np.percentile(surv['PS1'].zCMB, [0,100])\n",
    "\n",
    "for z in surv['PS1'].zCMB: #np.linspace(0.05, 1, nb_base)[:-1]:\n",
    "    pdf = base.likelihood_tot(base.delta(z),\n",
    "                              x_linspace, np.zeros(len(x_linspace)),\n",
    "                              base.param['aa'],\n",
    "                              base.param['mu_1'], base.param['sigma_1'],\n",
    "                              base.param['mu_2'], base.param['sigma_2'])\n",
    "\n",
    "    ax.plot(x_linspace,\n",
    "            np.max(pdf_PS1)/np.max(pdf)*pdf,\n",
    "            color=dgmap((z-z_m)/(z_p-z_m)), alpha=.15,\n",
    "            lw=1)\n",
    "    i += 1\n",
    " \n",
    "ax.tick_params(direction='in',\n",
    "               length=5, width=1,\n",
    "               labelsize=15,\n",
    "               top=True, right=True)\n",
    " \n",
    "ax.set_xlim([-3, 3])\n",
    "ax.set_ylim([0, np.max(pdf_PS1+models_std_PS1)+0.01])\n",
    "                                                                      \n",
    "ax.set_ylabel(r'$\\mathrm{Probability}$', fontsize='x-large')\n",
    "ax.set_xlabel(r'$\\mathrm{x}_1$', fontsize='x-large')\n",
    "\n",
    "ax.legend(ncol=1, loc='upper right')\n",
    "\n",
    "fig.savefig('../../../Images/bbc_comp_PS1.pdf', bbox_inches='tight')"
   ]
  },
  {
   "cell_type": "markdown",
   "metadata": {},
   "source": [
    "# SDSS"
   ]
  },
  {
   "cell_type": "markdown",
   "metadata": {},
   "source": [
    "## Définition de _cov_ pour sélection aléatoire des paramètres"
   ]
  },
  {
   "cell_type": "code",
   "execution_count": 14,
   "metadata": {},
   "outputs": [],
   "source": [
    "cov_SDSS = im.Minuit.matrix(assymSDSS.m_tot)\n",
    "mean_SDSS = [assymSDSS.m_tot.values[i] for i in range(3)]\n",
    "param_hesse_mat_SDSS = scipy.stats.multivariate_normal.rvs(mean=mean_SDSS, cov=cov_SDSS, size=500)"
   ]
  },
  {
   "cell_type": "markdown",
   "metadata": {},
   "source": [
    "### List of all the models"
   ]
  },
  {
   "cell_type": "code",
   "execution_count": 15,
   "metadata": {},
   "outputs": [],
   "source": [
    "xlin = np.linspace(-3, 3, 3000)\n",
    "models_hesse_SDSS = [assym_law_gen(xlin, param_hesse) for param_hesse in param_hesse_mat_SDSS]\n",
    "models_hesse_SDSS = np.asarray(models_hesse_SDSS)"
   ]
  },
  {
   "cell_type": "markdown",
   "metadata": {},
   "source": [
    "### Take _std_"
   ]
  },
  {
   "cell_type": "code",
   "execution_count": 17,
   "metadata": {},
   "outputs": [],
   "source": [
    "models_std_SDSS = np.std(models_hesse_SDSS, axis=0)"
   ]
  },
  {
   "cell_type": "code",
   "execution_count": 63,
   "metadata": {
    "jupyter": {
     "source_hidden": true
    }
   },
   "outputs": [
    {
     "data": {
      "image/png": "[encoded data removed]",
      "text/plain": [
       "<Figure size 576x360 with 1 Axes>"
      ]
     },
     "metadata": {
      "needs_background": "light"
     },
     "output_type": "display_data"
    }
   ],
   "source": [
    "fig = plt.figure(figsize=[8, 5])\n",
    "ax = fig.add_axes([0.1, 0.12, 0.8, 0.8])\n",
    "\n",
    "x_linspace = np.linspace(-3, 3, 3000)\n",
    "flag_up = x_linspace >= assymSDSS.param['mu']\n",
    "\n",
    "color_p = \"C3\"\n",
    "\n",
    "pdf_SDSS = assymSDSS.likelihood_tot(x_linspace,\n",
    "                                  np.zeros(len(x_linspace)),\n",
    "                                  assymSDSS.param['mu'],\n",
    "                                  assymSDSS.param['sigma_m'],\n",
    "                                  assymSDSS.param['sigma_p'])\n",
    "\n",
    "ax.plot(x_linspace,\n",
    "        pdf_SDSS,\n",
    "        color=color_p,\n",
    "        lw=1, label='SDSS')\n",
    "\n",
    "ax.fill_between(x_linspace,\n",
    "                pdf_SDSS + models_std_SDSS,\n",
    "                pdf_SDSS - models_std_SDSS,\n",
    "                color=color_p,\n",
    "                lw=1, alpha=.2)\n",
    "\n",
    "ax.vline(assymSDSS.param['mu'], ymin=0, ymax=np.max(pdf_SDSS),\n",
    "         color=color_p, alpha=.5, linewidth=2.0)\n",
    "\n",
    "mu_s = param_sco[0][0]\n",
    "sigma_m_s = param_sco[0][1]\n",
    "sigma_p_s = param_sco[0][2]\n",
    "flag_up_s = x_linspace >= mu_s\n",
    "\n",
    "color_s = \"C0\"\n",
    "\n",
    "pdf_SCO = assymSDSS.likelihood_tot(x_linspace,\n",
    "                                  np.zeros(len(x_linspace)),\n",
    "                                  mu_s,\n",
    "                                  sigma_m_s,\n",
    "                                  sigma_p_s)\n",
    "\n",
    "ax.plot(x_linspace,\n",
    "        pdf_SCO,\n",
    "        color=color_s, label='Scolnic',\n",
    "        lw=1)\n",
    "\n",
    "ax.vline(mu_s, 0, np.max(pdf_SCO),\n",
    "         color=color_s, alpha=.5, linewidth=2.0)\n",
    "\n",
    "dgmap = plt.cm.get_cmap('coolwarm')\n",
    "nb_base = len(surv['SDSS'].zCMB)\n",
    "i = 0\n",
    "\n",
    "z_m, z_p = np.percentile(surv['SDSS'].zCMB, [0,100])\n",
    "\n",
    "for z in surv['SDSS'].zCMB: #np.linspace(0.05, 1, nb_base)[:-1]:\n",
    "    pdf = base.likelihood_tot(base.delta(z),\n",
    "                              x_linspace, np.zeros(len(x_linspace)),\n",
    "                              base.param['aa'],\n",
    "                              base.param['mu_1'], base.param['sigma_1'],\n",
    "                              base.param['mu_2'], base.param['sigma_2'])\n",
    "\n",
    "    ax.plot(x_linspace,\n",
    "            np.max(pdf_SDSS)/np.max(pdf)*pdf,\n",
    "            color=dgmap((z-z_m)/(z_p-z_m)), alpha=.15,\n",
    "            lw=1)\n",
    "    i += 1\n",
    " \n",
    "ax.tick_params(direction='in',\n",
    "               length=5, width=1,\n",
    "               labelsize=15,\n",
    "               top=True, right=True)\n",
    " \n",
    "ax.set_xlim([-3, 3])\n",
    "ax.set_ylim([0, np.max(pdf_SDSS+models_std_SDSS)+0.01])\n",
    "                                                                      \n",
    "ax.set_ylabel(r'$\\mathrm{Probability}$', fontsize='x-large')\n",
    "ax.set_xlabel(r'$\\mathrm{x}_1$', fontsize='x-large')\n",
    "\n",
    "ax.legend(ncol=1, loc='upper right')\n",
    "\n",
    "fig.savefig('../../../Images/bbc_comp_SDSS.pdf', bbox_inches='tight')"
   ]
  },
  {
   "cell_type": "code",
   "execution_count": 40,
   "metadata": {},
   "outputs": [
    {
     "data": {
      "text/plain": [
       "702.0370318397174"
      ]
     },
     "execution_count": 40,
     "metadata": {},
     "output_type": "execute_result"
    }
   ],
   "source": [
    "assymPS1.get_logl()"
   ]
  },
  {
   "cell_type": "code",
   "execution_count": 41,
   "metadata": {},
   "outputs": [
    {
     "data": {
      "text/plain": [
       "268.57682453872195"
      ]
     },
     "execution_count": 41,
     "metadata": {},
     "output_type": "execute_result"
    }
   ],
   "source": [
    "base.get_logl()"
   ]
  },
  {
   "cell_type": "markdown",
   "metadata": {},
   "source": [
    "# SNLS"
   ]
  },
  {
   "cell_type": "markdown",
   "metadata": {},
   "source": [
    "## Définition de _cov_ pour sélection aléatoire des paramètres"
   ]
  },
  {
   "cell_type": "code",
   "execution_count": 20,
   "metadata": {},
   "outputs": [],
   "source": [
    "cov_SNLS = im.Minuit.matrix(assymSNLS.m_tot)\n",
    "mean_SNLS = [assymSNLS.m_tot.values[i] for i in range(3)]\n",
    "param_hesse_mat_SNLS = scipy.stats.multivariate_normal.rvs(mean=mean_SNLS, cov=cov_SNLS, size=500)"
   ]
  },
  {
   "cell_type": "markdown",
   "metadata": {},
   "source": [
    "### List of all the models"
   ]
  },
  {
   "cell_type": "code",
   "execution_count": 21,
   "metadata": {},
   "outputs": [],
   "source": [
    "xlin = np.linspace(-3, 3, 3000)\n",
    "models_hesse_SNLS = [assym_law_gen(xlin, param_hesse) for param_hesse in param_hesse_mat_SNLS]\n",
    "models_hesse_SNLS = np.asarray(models_hesse_SNLS)"
   ]
  },
  {
   "cell_type": "markdown",
   "metadata": {},
   "source": [
    "### Take _std_"
   ]
  },
  {
   "cell_type": "code",
   "execution_count": 22,
   "metadata": {},
   "outputs": [],
   "source": [
    "models_std_SNLS = np.std(models_hesse_SNLS, axis=0)"
   ]
  },
  {
   "cell_type": "code",
   "execution_count": 64,
   "metadata": {
    "jupyter": {
     "source_hidden": true
    }
   },
   "outputs": [
    {
     "data": {
      "image/png": "[encoded data removed]",
      "text/plain": [
       "<Figure size 576x360 with 1 Axes>"
      ]
     },
     "metadata": {
      "needs_background": "light"
     },
     "output_type": "display_data"
    }
   ],
   "source": [
    "fig = plt.figure(figsize=[8, 5])\n",
    "ax = fig.add_axes([0.1, 0.12, 0.8, 0.8])\n",
    "\n",
    "x_linspace = np.linspace(-3, 3, 3000)\n",
    "flag_up = x_linspace >= assymSNLS.param['mu']\n",
    "\n",
    "color_p = \"C1\"\n",
    "\n",
    "pdf_SNLS = assymSNLS.likelihood_tot(x_linspace,\n",
    "                                  np.zeros(len(x_linspace)),\n",
    "                                  assymSNLS.param['mu'],\n",
    "                                  assymSNLS.param['sigma_m'],\n",
    "                                  assymSNLS.param['sigma_p'])\n",
    "\n",
    "ax.plot(x_linspace,\n",
    "        pdf_SNLS,\n",
    "        color=color_p,\n",
    "        lw=1, label='SNLS')\n",
    "\n",
    "ax.fill_between(x_linspace,\n",
    "                pdf_SNLS + models_std_SNLS,\n",
    "                pdf_SNLS - models_std_SNLS,\n",
    "                color=color_p,\n",
    "                lw=1, alpha=.2)\n",
    "\n",
    "ax.vline(assymSNLS.param['mu'], ymin=0, ymax=np.max(pdf_SNLS),\n",
    "         color=color_p, alpha=.5, linewidth=2.0)\n",
    "\n",
    "mu_s = param_sco[2][0]\n",
    "sigma_m_s = param_sco[2][1]\n",
    "sigma_p_s = param_sco[2][2]\n",
    "flag_up_s = x_linspace >= mu_s\n",
    "\n",
    "color_s = \"C0\"\n",
    "\n",
    "pdf_SCO = assymSNLS.likelihood_tot(x_linspace,\n",
    "                                  np.zeros(len(x_linspace)),\n",
    "                                  mu_s,\n",
    "                                  sigma_m_s,\n",
    "                                  sigma_p_s)\n",
    "\n",
    "ax.plot(x_linspace,\n",
    "        pdf_SCO,\n",
    "        color=color_s, label='Scolnic',\n",
    "        lw=1)\n",
    "\n",
    "ax.vline(mu_s, 0, np.max(pdf_SCO),\n",
    "         color=color_s, alpha=.5, linewidth=2.0)\n",
    "\n",
    "dgmap = plt.cm.get_cmap('coolwarm')\n",
    "nb_base = len(surv['SNLS'].zCMB)\n",
    "i = 0\n",
    "\n",
    "z_m, z_p = np.percentile(surv['SNLS'].zCMB, [0,100])\n",
    "\n",
    "for z in surv['SNLS'].zCMB: #np.linspace(0.05, 1, nb_base)[:-1]:\n",
    "    pdf = base.likelihood_tot(base.delta(z),\n",
    "                              x_linspace, np.zeros(len(x_linspace)),\n",
    "                              base.param['aa'],\n",
    "                              base.param['mu_1'], base.param['sigma_1'],\n",
    "                              base.param['mu_2'], base.param['sigma_2'])\n",
    "\n",
    "    ax.plot(x_linspace,\n",
    "            np.max(pdf_SNLS)/np.max(pdf)*pdf,\n",
    "            color=dgmap((z-z_m)/(z_p-z_m)), alpha=.15,\n",
    "            lw=1)\n",
    "    i += 1\n",
    " \n",
    "ax.tick_params(direction='in',\n",
    "               length=5, width=1,\n",
    "               labelsize=15,\n",
    "               top=True, right=True)\n",
    " \n",
    "ax.set_xlim([-3, 3])\n",
    "ax.set_ylim([0, np.max(pdf_SNLS+models_std_SNLS)+0.01])\n",
    "                                                                      \n",
    "ax.set_ylabel(r'$\\mathrm{Probability}$', fontsize='x-large')\n",
    "ax.set_xlabel(r'$\\mathrm{x}_1$', fontsize='x-large')\n",
    "\n",
    "ax.legend(ncol=1, loc='upper right')\n",
    "\n",
    "fig.savefig('../../../Images/bbc_comp_SNLS.pdf', bbox_inches='tight')"
   ]
  },
  {
   "cell_type": "markdown",
   "metadata": {},
   "source": [
    "# Associated graph"
   ]
  },
  {
   "cell_type": "code",
   "execution_count": 71,
   "metadata": {},
   "outputs": [],
   "source": [
    "def age_law_all(z):\n",
    "    \"\"\"Analytical law with 3G2M2S results\"\"\"\n",
    "    return (delta(z)*p_t['mu_1']\n",
    "      + (1-delta(z))*(base.get_a(p_t['aa'])*p_t['mu_1']\n",
    "                      + (1 - base.get_a(p_t['aa']))*p_t['mu_2']))\n",
    "\n",
    "def delta(z):\n",
    "    return stretchevol.MockEvol().delta(z)"
   ]
  },
  {
   "cell_type": "code",
   "execution_count": 74,
   "metadata": {},
   "outputs": [
    {
     "data": {
      "text/plain": [
       "[<matplotlib.lines.Line2D at 0x7f4d79c72410>]"
      ]
     },
     "execution_count": 74,
     "metadata": {},
     "output_type": "execute_result"
    },
    {
     "data": {
      "image/png": "[encoded data removed]",
      "text/plain": [
       "<Figure size 576x360 with 1 Axes>"
      ]
     },
     "metadata": {
      "needs_background": "light"
     },
     "output_type": "display_data"
    }
   ],
   "source": [
    "fig = plt.figure(figsize=[8, 5])\n",
    "ax = fig.add_axes([0.1, 0.12, 0.8, 0.8])\n",
    "\n",
    "z_linspace = np.linspace(0, 1.2, 3000)\n",
    "\n",
    "xmean_asymSDSS = np.mean(pdf_SDSS)\n",
    "xmean_asymPS1 = np.mean(pdf_PS1)\n",
    "xmean_asymSNLS = np.mean(pdf_SNLS)\n",
    "\n",
    "fullz_SDSS = [np.min(df[df['survey'] == 'SDSS'].stretchs)]\n",
    "fullz_PS1 = [np.min(df[df['survey'] == 'PS1'].stretchs)]\n",
    "fullz_SNLS = [np.min(df[df['survey'] == 'SNLS'].stretchs)]\n",
    "\n",
    "asz_SDSS = np.percentile(df[df['survey'] == 'SDSS'].stretchs, [5, 95])\n",
    "asz_PS1 = np.percentile(df[df['survey'] == 'PS1'].stretchs, [5, 95])\n",
    "asz_SNLS = np.percentile(df[df['survey'] == 'SNLS'].stretchs, [5, 95])\n",
    "\n",
    "bsz_SDSS = np.percentile(df[df['survey'] == 'SDSS'].stretchs, [16, 84])\n",
    "bsz_PS1 = np.percentile(df[df['survey'] == 'PS1'].stretchs, [16, 84])\n",
    "bsz_SNLS = np.percentile(df[df['survey'] == 'SNLS'].stretchs, [16, 84])\n",
    "\n",
    "#ax.plot(z_linspace,\n",
    "#        age_law_all(z_linspace))\n",
    "\n",
    "ax.plot([fullz_SDSS[0], fullz_SDSS[-1]], [xmean_asymSDSS, xmean_asymSDSS], color='r')"
   ]
  },
  {
   "cell_type": "markdown",
   "metadata": {},
   "source": [
    "## Get proba"
   ]
  },
  {
   "cell_type": "code",
   "execution_count": 11,
   "metadata": {},
   "outputs": [],
   "source": [
    "def get_proba(model):\n",
    "    return np.exp((evol3G2M1S.get_aicc() - model.get_aicc())/2)"
   ]
  },
  {
   "cell_type": "code",
   "execution_count": 44,
   "metadata": {},
   "outputs": [
    {
     "data": {
      "text/html": [
       "<div>\n",
       "<style scoped>\n",
       "    .dataframe tbody tr th:only-of-type {\n",
       "        vertical-align: middle;\n",
       "    }\n",
       "\n",
       "    .dataframe tbody tr th {\n",
       "        vertical-align: top;\n",
       "    }\n",
       "\n",
       "    .dataframe thead th {\n",
       "        text-align: right;\n",
       "    }\n",
       "</style>\n",
       "<table border=\"1\" class=\"dataframe\">\n",
       "  <thead>\n",
       "    <tr style=\"text-align: right;\">\n",
       "      <th></th>\n",
       "      <th>Assym</th>\n",
       "      <th>Free param</th>\n",
       "      <th>$\\sigma^-$</th>\n",
       "      <th>$\\sigma^-_{\\mathrm{err}}$</th>\n",
       "      <th>$\\sigma^+$</th>\n",
       "      <th>$\\sigma^+_{\\mathrm{err}}$</th>\n",
       "      <th>$\\mu^0$</th>\n",
       "      <th>$\\mu^0_{\\mathrm{err}}$</th>\n",
       "      <th>ln $\\mathcal{L}$</th>\n",
       "      <th>AICc</th>\n",
       "    </tr>\n",
       "  </thead>\n",
       "  <tbody>\n",
       "    <tr>\n",
       "      <td>0</td>\n",
       "      <td>SDSS</td>\n",
       "      <td>3</td>\n",
       "      <td>1.31</td>\n",
       "      <td>0.11</td>\n",
       "      <td>0.42</td>\n",
       "      <td>0.09</td>\n",
       "      <td>0.72</td>\n",
       "      <td>0.13</td>\n",
       "      <td>445.0</td>\n",
       "      <td>451.2</td>\n",
       "    </tr>\n",
       "    <tr>\n",
       "      <td>1</td>\n",
       "      <td>PS1</td>\n",
       "      <td>3</td>\n",
       "      <td>1.01</td>\n",
       "      <td>0.11</td>\n",
       "      <td>-0.52</td>\n",
       "      <td>0.12</td>\n",
       "      <td>0.38</td>\n",
       "      <td>0.16</td>\n",
       "      <td>397.4</td>\n",
       "      <td>403.6</td>\n",
       "    </tr>\n",
       "    <tr>\n",
       "      <td>2</td>\n",
       "      <td>SNLS</td>\n",
       "      <td>3</td>\n",
       "      <td>1.41</td>\n",
       "      <td>0.13</td>\n",
       "      <td>0.15</td>\n",
       "      <td>0.13</td>\n",
       "      <td>1.22</td>\n",
       "      <td>0.15</td>\n",
       "      <td>252.7</td>\n",
       "      <td>259.0</td>\n",
       "    </tr>\n",
       "    <tr>\n",
       "      <td>3</td>\n",
       "      <td>Total</td>\n",
       "      <td>9</td>\n",
       "      <td>--</td>\n",
       "      <td>--</td>\n",
       "      <td>--</td>\n",
       "      <td>--</td>\n",
       "      <td>--</td>\n",
       "      <td>--</td>\n",
       "      <td>1095.2</td>\n",
       "      <td>1113.7</td>\n",
       "    </tr>\n",
       "  </tbody>\n",
       "</table>\n",
       "</div>"
      ],
      "text/plain": [
       "   Assym  Free param $\\sigma^-$ $\\sigma^-_{\\mathrm{err}}$ $\\sigma^+$  \\\n",
       "0   SDSS           3       1.31                      0.11       0.42   \n",
       "1    PS1           3       1.01                      0.11      -0.52   \n",
       "2   SNLS           3       1.41                      0.13       0.15   \n",
       "3  Total           9         --                        --         --   \n",
       "\n",
       "  $\\sigma^+_{\\mathrm{err}}$ $\\mu^0$ $\\mu^0_{\\mathrm{err}}$  ln $\\mathcal{L}$  \\\n",
       "0                      0.09    0.72                   0.13             445.0   \n",
       "1                      0.12    0.38                   0.16             397.4   \n",
       "2                      0.13    1.22                   0.15             252.7   \n",
       "3                        --      --                     --            1095.2   \n",
       "\n",
       "     AICc  \n",
       "0   451.2  \n",
       "1   403.6  \n",
       "2   259.0  \n",
       "3  1113.7  "
      ]
     },
     "execution_count": 44,
     "metadata": {},
     "output_type": "execute_result"
    }
   ],
   "source": [
    "modèles = [assymSDSS, assymPS1, assymSNLS]\n",
    "\n",
    "assym_comp = pd.DataFrame({'Assym': ['SDSS', 'PS1', 'SNLS', 'Total'],\n",
    "                           'Free param': [len(k.FREEPARAMETERS) for k in modèles] + [np.sum([len(k.FREEPARAMETERS) for k in modèles])],\n",
    "                           '$\\sigma^-$': [round(k.migrad_out[1][1][2],2) for k in modèles] + ['--'],\n",
    "                           '$\\sigma^-_{\\mathrm{err}}$': [round(k.migrad_out[1][1][3],2) for k in modèles] + ['--'],\n",
    "                           '$\\sigma^+$': [round(k.migrad_out[1][2][2],2) for k in modèles] + ['--'],\n",
    "                           '$\\sigma^+_{\\mathrm{err}}$': [round(k.migrad_out[1][2][3],2) for k in modèles] + ['--'],\n",
    "                           '$\\mu^0$': [round(k.migrad_out[1][0][2],2) for k in modèles] + ['--'],\n",
    "                           '$\\mu^0_{\\mathrm{err}}$': [round(k.migrad_out[1][0][3],2) for k in modèles] + ['--'],\n",
    "                           '$\\mathcal{L}$': [round(k.get_logl(),1) for k in modèles] + [round(np.sum([k.get_logl() for k in modèles]),1)],\n",
    "                           'AICc': [round(k.get_aicc(),1) for k in modèles] + [round(np.sum([k.get_aicc() for k in modèles]),1)]})\n",
    "\n",
    "path = '../Data/assym_comp'\n",
    "if cons.value:\n",
    "    path += '_cons'\n",
    "path += '.dat'\n",
    "assym_comp.to_csv(path)\n",
    "\n",
    "assym_comp"
   ]
  },
  {
   "cell_type": "markdown",
   "metadata": {},
   "source": [
    "## Minimisation du modèle SNF et calcul $\\mathcal{L}$ pour surveys"
   ]
  },
  {
   "cell_type": "code",
   "execution_count": 17,
   "metadata": {},
   "outputs": [],
   "source": [
    "gen.set_model('Evol3G2M2S')\n",
    "gen.set_data(df[df['survey'] == 'SDSS'])\n",
    "baseSDSS = gen.fit()\n",
    "\n",
    "gen.set_data(df[df['survey'] == 'PS1'])\n",
    "basePS1 = gen.fit()\n",
    "\n",
    "gen.set_data(df[df['survey'] == 'SNLS'])\n",
    "baseSNLS = gen.fit()"
   ]
  },
  {
   "cell_type": "code",
   "execution_count": 18,
   "metadata": {},
   "outputs": [
    {
     "data": {
      "text/html": [
       "<div>\n",
       "<style scoped>\n",
       "    .dataframe tbody tr th:only-of-type {\n",
       "        vertical-align: middle;\n",
       "    }\n",
       "\n",
       "    .dataframe tbody tr th {\n",
       "        vertical-align: top;\n",
       "    }\n",
       "\n",
       "    .dataframe thead th {\n",
       "        text-align: right;\n",
       "    }\n",
       "</style>\n",
       "<table border=\"1\" class=\"dataframe\">\n",
       "  <thead>\n",
       "    <tr style=\"text-align: right;\">\n",
       "      <th></th>\n",
       "      <th>Base</th>\n",
       "      <th>Free param</th>\n",
       "      <th>ln $\\mathcal{L}$</th>\n",
       "      <th>AICc</th>\n",
       "    </tr>\n",
       "  </thead>\n",
       "  <tbody>\n",
       "    <tr>\n",
       "      <td>0</td>\n",
       "      <td>SDSS</td>\n",
       "      <td>0</td>\n",
       "      <td>395.2</td>\n",
       "      <td>405.6</td>\n",
       "    </tr>\n",
       "    <tr>\n",
       "      <td>1</td>\n",
       "      <td>PS1</td>\n",
       "      <td>0</td>\n",
       "      <td>444.7</td>\n",
       "      <td>455.0</td>\n",
       "    </tr>\n",
       "    <tr>\n",
       "      <td>2</td>\n",
       "      <td>SNLS</td>\n",
       "      <td>0</td>\n",
       "      <td>254.1</td>\n",
       "      <td>264.7</td>\n",
       "    </tr>\n",
       "    <tr>\n",
       "      <td>3</td>\n",
       "      <td>Total</td>\n",
       "      <td>0</td>\n",
       "      <td>1094.0</td>\n",
       "      <td>1125.4</td>\n",
       "    </tr>\n",
       "  </tbody>\n",
       "</table>\n",
       "</div>"
      ],
      "text/plain": [
       "    Base  Free param  ln $\\mathcal{L}$    AICc\n",
       "0   SDSS           0             395.2   405.6\n",
       "1    PS1           0             444.7   455.0\n",
       "2   SNLS           0             254.1   264.7\n",
       "3  Total           0            1094.0  1125.4"
      ]
     },
     "execution_count": 18,
     "metadata": {},
     "output_type": "execute_result"
    }
   ],
   "source": [
    "models = [basePS1, baseSDSS, baseSNLS]\n",
    "\n",
    "snf_comp = pd.DataFrame({'Base': ['SDSS', 'PS1', 'SNLS', 'Total'],\n",
    "                         'Free param': [0 for k in models] + [0],\n",
    "                         '$\\mathcal{L}$': [round(k.get_logl(),1) for k in models] + [round(np.sum([k.get_logl() for k in models]),1)],\n",
    "                         'AICc': [round(k.get_aicc(),1) for k in models] + [round(np.sum([k.get_aicc() for k in models]),1)]})\n",
    "\n",
    "path = '../Data/snf_comp'\n",
    "if cons.value:\n",
    "    path += '_cons'\n",
    "path += '.dat'\n",
    "snf_comp.to_csv(path)\n",
    "\n",
    "snf_comp"
   ]
  },
  {
   "cell_type": "code",
   "execution_count": null,
   "metadata": {},
   "outputs": [],
   "source": []
  }
 ],
 "metadata": {
  "kernelspec": {
   "display_name": "Python 3",
   "language": "python",
   "name": "python3"
  },
  "language_info": {
   "codemirror_mode": {
    "name": "ipython",
    "version": 3
   },
   "file_extension": ".py",
   "mimetype": "text/x-python",
   "name": "python",
   "nbconvert_exporter": "python",
   "pygments_lexer": "ipython3",
   "version": "3.7.4"
  }
 },
 "nbformat": 4,
 "nbformat_minor": 4
}
