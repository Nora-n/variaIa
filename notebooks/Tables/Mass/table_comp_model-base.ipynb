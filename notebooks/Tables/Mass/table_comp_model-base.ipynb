{
 "cells": [
  {
   "cell_type": "markdown",
   "metadata": {},
   "source": [
    "## Modules à importer"
   ]
  },
  {
   "cell_type": "code",
   "execution_count": 3,
   "metadata": {
    "jupyter": {
     "source_hidden": true
    }
   },
   "outputs": [],
   "source": [
    "import math\n",
    "import scipy\n",
    "import pickle\n",
    "import numpy as np\n",
    "import pandas as pd\n",
    "import iminuit as im\n",
    "import ipywidgets as ipw\n",
    "from snprop import age\n",
    "from snprop import survey\n",
    "from variaIa import tools_ar\n",
    "from variaIa.tools_ar import surveys, df_cons, df_nc, df_c, df_full\n",
    "from variaIa import massevol\n",
    "from importlib import reload\n",
    "from variaIa import stretchevol\n",
    "from matplotlib.lines import Line2D\n",
    "import matplotlib.pyplot as plt\n",
    "import random"
   ]
  },
  {
   "cell_type": "markdown",
   "metadata": {},
   "source": [
    "## Définitions pandas, surveys et sélection de l'échantillon à utiliser"
   ]
  },
  {
   "cell_type": "code",
   "execution_count": 4,
   "metadata": {},
   "outputs": [
    {
     "data": {
      "application/vnd.jupyter.widget-view+json": {
       "model_id": "ab88776b63ed48bd835ce8443743ee23",
       "version_major": 2,
       "version_minor": 0
      },
      "text/plain": [
       "interactive(children=(Checkbox(value=False, description='Conservative'), Dropdown(description='Survey:', optio…"
      ]
     },
     "metadata": {},
     "output_type": "display_data"
    }
   ],
   "source": [
    "def set_survey(cons, su):\n",
    "    global df\n",
    "    if su == 'All':\n",
    "        df = df_cons(cons)\n",
    "    elif 'n' in su:\n",
    "        df = df_cons(cons)[df_cons(cons)['survey'] != su.split('n')[-1]]\n",
    "    else:\n",
    "        df = df_cons(cons)[df_cons(cons)['survey'] == su]\n",
    "    return df\n",
    "\n",
    "int_set_su = ipw.interactive(set_survey, cons=tools_ar.cons, su=tools_ar.su)\n",
    "display(int_set_su)\n",
    "\n",
    "smap = plt.cm.get_cmap('cividis')\n",
    "#smap = plt.cm.get_cmap('viridis')\n",
    "colors = {'SNF': plt.cm.binary(0.9),\n",
    "          'low-z': (1, 0, 0),\n",
    "          'SDSS': smap(0.1),\n",
    "          'PS1': smap(0.5),\n",
    "          'SNLS': smap(0.8),\n",
    "          'HST': smap(0.99),  # for cividis\n",
    "          #'HST': smap(300),  # for viridis\n",
    "          'All': (255/255, 51/255, 0/255)} \n",
    "\n",
    "def alphacolors(alpha, survey):\n",
    "    return(colors[survey][0], colors[survey][1], colors[survey][2], alpha)\n",
    "\n",
    "df_nHST = df_nc[df_nc['survey'] != 'HST']\n",
    "df_nlowz = df_nc[df_nc['survey'] != 'low-z']"
   ]
  },
  {
   "cell_type": "markdown",
   "metadata": {},
   "source": [
    "## Minimisation des modèles à mettre dans le _pandas_"
   ]
  },
  {
   "cell_type": "code",
   "execution_count": 8,
   "metadata": {},
   "outputs": [],
   "source": [
    "gen = massevol.generic()\n",
    "gen.set_model('Evol3G3M3S')\n",
    "evol3G3M3S = gen.fit(df, limit_a=(0,1))\n",
    "\n",
    "gen.set_model('Evol3G3M4S')\n",
    "evol3G3M4S = gen.fit(df, limit_a=(0,1), limit_mu_2=(8, 10), limit_mu=(10, 11))\n",
    "\n",
    "gen.set_model('Evol2G2M2S')\n",
    "evol2G2M2S = gen.fit(df)\n",
    "\n",
    "gen.set_model('Evol2G2M3S')\n",
    "evol2G2M3S = gen.fit(df)"
   ]
  },
  {
   "cell_type": "markdown",
   "metadata": {},
   "source": [
    "## Get proba"
   ]
  },
  {
   "cell_type": "code",
   "execution_count": 9,
   "metadata": {},
   "outputs": [],
   "source": [
    "def get_proba(model):\n",
    "    return np.exp((evol3G3M3S.get_aic() - model.get_aic())/2)"
   ]
  },
  {
   "cell_type": "markdown",
   "metadata": {},
   "source": [
    "## Comparison dataframe"
   ]
  },
  {
   "cell_type": "code",
   "execution_count": 10,
   "metadata": {},
   "outputs": [
    {
     "data": {
      "text/html": [
       "<div>\n",
       "<style scoped>\n",
       "    .dataframe tbody tr th:only-of-type {\n",
       "        vertical-align: middle;\n",
       "    }\n",
       "\n",
       "    .dataframe tbody tr th {\n",
       "        vertical-align: top;\n",
       "    }\n",
       "\n",
       "    .dataframe thead th {\n",
       "        text-align: right;\n",
       "    }\n",
       "</style>\n",
       "<table border=\"1\" class=\"dataframe\">\n",
       "  <thead>\n",
       "    <tr style=\"text-align: right;\">\n",
       "      <th></th>\n",
       "      <th>Name</th>\n",
       "      <th>Fixed</th>\n",
       "      <th>Free param</th>\n",
       "      <th>$\\mathcal{L}$</th>\n",
       "      <th>AIC</th>\n",
       "      <th>$\\Delta$ AIC</th>\n",
       "      <th>Proba</th>\n",
       "    </tr>\n",
       "  </thead>\n",
       "  <tbody>\n",
       "    <tr>\n",
       "      <td>0</td>\n",
       "      <td>3G3M3S</td>\n",
       "      <td>False</td>\n",
       "      <td>7</td>\n",
       "      <td>218.8</td>\n",
       "      <td>232.8</td>\n",
       "      <td>0.0</td>\n",
       "      <td>1.000000</td>\n",
       "    </tr>\n",
       "    <tr>\n",
       "      <td>1</td>\n",
       "      <td>3G3M4S</td>\n",
       "      <td>False</td>\n",
       "      <td>8</td>\n",
       "      <td>220.1</td>\n",
       "      <td>236.1</td>\n",
       "      <td>-3.4</td>\n",
       "      <td>0.184660</td>\n",
       "    </tr>\n",
       "    <tr>\n",
       "      <td>2</td>\n",
       "      <td>2G2M2S</td>\n",
       "      <td>False</td>\n",
       "      <td>4</td>\n",
       "      <td>230.0</td>\n",
       "      <td>238.0</td>\n",
       "      <td>-5.3</td>\n",
       "      <td>0.072142</td>\n",
       "    </tr>\n",
       "    <tr>\n",
       "      <td>3</td>\n",
       "      <td>2G2M3S</td>\n",
       "      <td>False</td>\n",
       "      <td>5</td>\n",
       "      <td>229.8</td>\n",
       "      <td>239.8</td>\n",
       "      <td>-7.1</td>\n",
       "      <td>0.029276</td>\n",
       "    </tr>\n",
       "  </tbody>\n",
       "</table>\n",
       "</div>"
      ],
      "text/plain": [
       "     Name  Fixed  Free param  $\\mathcal{L}$    AIC  $\\Delta$ AIC     Proba\n",
       "0  3G3M3S  False           7          218.8  232.8           0.0  1.000000\n",
       "1  3G3M4S  False           8          220.1  236.1          -3.4  0.184660\n",
       "2  2G2M2S  False           4          230.0  238.0          -5.3  0.072142\n",
       "3  2G2M3S  False           5          229.8  239.8          -7.1  0.029276"
      ]
     },
     "execution_count": 10,
     "metadata": {},
     "output_type": "execute_result"
    }
   ],
   "source": [
    "modèles = [evol3G3M3S, evol3G3M4S, evol2G2M2S, evol2G2M3S]\n",
    "\n",
    "d_mod_comp = pd.DataFrame({'Name': [k.__doc__ for k in modèles],\n",
    "                           'Fixed': [k.FIXED for k in modèles],\n",
    "                           'Free param': [len(k.FREEPARAMETERS) for k in modèles],\n",
    "                           '$\\mathcal{L}$': [round(k.get_logl(),1) for k in modèles],\n",
    "                           'AIC': [round(k.get_aic(),1) for k in modèles],\n",
    "                           '$\\Delta$ AIC': [round(evol3G3M3S.get_aic()-k.get_aic(),1) for k in modèles],\n",
    "                           'Proba': [get_proba(k) for k in modèles]\n",
    "                          })\n",
    "\n",
    "path = '../../../Data/tables/mass/mass_df_comp'\n",
    "if tools.cons.value:\n",
    "    path += '_cons'\n",
    "path += '.dat'\n",
    "d_mod_comp.to_csv(path)\n",
    "\n",
    "d_mod_comp"
   ]
  },
  {
   "cell_type": "code",
   "execution_count": null,
   "metadata": {},
   "outputs": [],
   "source": []
  }
 ],
 "metadata": {
  "kernelspec": {
   "display_name": "Python 3",
   "language": "python",
   "name": "python3"
  },
  "language_info": {
   "codemirror_mode": {
    "name": "ipython",
    "version": 3
   },
   "file_extension": ".py",
   "mimetype": "text/x-python",
   "name": "python",
   "nbconvert_exporter": "python",
   "pygments_lexer": "ipython3",
   "version": "3.7.4"
  }
 },
 "nbformat": 4,
 "nbformat_minor": 4
}
