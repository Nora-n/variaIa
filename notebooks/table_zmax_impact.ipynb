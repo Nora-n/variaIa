{
 "cells": [
  {
   "cell_type": "markdown",
   "metadata": {},
   "source": [
    "## Modules à importer"
   ]
  },
  {
   "cell_type": "code",
   "execution_count": 1,
   "metadata": {
    "jupyter": {
     "source_hidden": true
    }
   },
   "outputs": [],
   "source": [
    "import math\n",
    "import scipy\n",
    "import pickle\n",
    "import numpy as np\n",
    "import pandas as pd\n",
    "import iminuit as im\n",
    "import ipywidgets as ipw\n",
    "from importlib import reload\n",
    "from scipy.stats import poisson\n",
    "from variaIa import baserate\n",
    "from variaIa import stretchevol\n",
    "from astropy.cosmology import Planck15 as cdata\n",
    "from IPython.display import display, Latex\n",
    "import matplotlib.pyplot as plt\n",
    "import random"
   ]
  },
  {
   "cell_type": "markdown",
   "metadata": {},
   "source": [
    "## Load results from plots_determination_zmax"
   ]
  },
  {
   "cell_type": "code",
   "execution_count": 2,
   "metadata": {},
   "outputs": [],
   "source": [
    "with open('../Data/zmax_spec_result', 'rb') as f:\n",
    "    z_lins, meds, stds, z_max, itsc = pickle.load(f)\n",
    "\n",
    "z_max['HST'] = [10, 10, 10]\n",
    "z_max['SNF'] = [10, 10, 10]\n",
    "\n",
    "surveys = list(z_max.keys())\n",
    "z_max_lp = dict()\n",
    "\n",
    "size = 50\n",
    "\n",
    "for survey in surveys:\n",
    "    z_max_lp[survey] = np.linspace(z_max[survey][0], z_max[survey][2], size)\n",
    "    random.shuffle(z_max_lp[survey])"
   ]
  },
  {
   "cell_type": "markdown",
   "metadata": {},
   "source": [
    "## Run zmax_impact"
   ]
  },
  {
   "cell_type": "code",
   "execution_count": 3,
   "metadata": {},
   "outputs": [
    {
     "name": "stderr",
     "output_type": "stream",
     "text": [
      "/home/nora/Documents/Thèse/devpython/variaIa/variaIa/stretchevol.py:452: RuntimeWarning: divide by zero encountered in log\n",
      "  sigma_m, sigma_p)))\n",
      "/home/nora/Documents/Thèse/devpython/variaIa/variaIa/stretchevol.py:595: RuntimeWarning: divide by zero encountered in log\n",
      "  mu_2)))\n",
      "/home/nora/Documents/Thèse/devpython/variaIa/variaIa/stretchevol.py:748: RuntimeWarning: invalid value encountered in log\n",
      "  mu_3, sigma_3)))\n",
      "/home/nora/.installs/anaconda3/lib/python3.7/site-packages/scipy/stats/_distn_infrastructure.py:1721: RuntimeWarning: invalid value encountered in greater\n",
      "  cond0 = self._argcheck(*args) & (scale > 0)\n",
      "/home/nora/.installs/anaconda3/lib/python3.7/site-packages/scipy/stats/_distn_infrastructure.py:897: RuntimeWarning: invalid value encountered in greater_equal\n",
      "  return (a <= x) & (x <= b)\n",
      "/home/nora/.installs/anaconda3/lib/python3.7/site-packages/scipy/stats/_distn_infrastructure.py:897: RuntimeWarning: invalid value encountered in less_equal\n",
      "  return (a <= x) & (x <= b)\n",
      "/home/nora/.installs/anaconda3/lib/python3.7/site-packages/scipy/stats/_distn_infrastructure.py:1722: RuntimeWarning: invalid value encountered in greater\n",
      "  cond1 = self._support_mask(x, *args) & (scale > 0)\n",
      "/home/nora/Documents/Thèse/devpython/variaIa/variaIa/stretchevol.py:437: RuntimeWarning: invalid value encountered in greater_equal\n",
      "  flag_up = x >= mu\n"
     ]
    }
   ],
   "source": [
    "reload(stretchevol)\n",
    "dict_pd, NR_params = stretchevol.zmax_impact(z_max_lp)"
   ]
  },
  {
   "cell_type": "code",
   "execution_count": 61,
   "metadata": {},
   "outputs": [],
   "source": [
    "reload(stretchevol)\n",
    "dict_pd_s, NR_params_s = stretchevol.zmax_impact(z_max)"
   ]
  },
  {
   "cell_type": "markdown",
   "metadata": {},
   "source": [
    "## Results"
   ]
  },
  {
   "cell_type": "code",
   "execution_count": 4,
   "metadata": {},
   "outputs": [
    {
     "data": {
      "text/plain": [
       "[          Name         ln L         AICc  $\\Delta$ AICc         Proba\n",
       " 0   Evol3G2M1S  1377.169327  1385.247758       0.000000  1.000000e+00\n",
       " 1   Evol3G2M2S  1377.149881  1387.267759      -2.020001  3.642189e-01\n",
       " 2   Evol2G2M2S  1379.000959  1387.079390      -1.831632  4.001899e-01\n",
       " 3   Evol3G3M3S  1372.927060  1387.147967      -1.900209  3.867007e-01\n",
       " 4  Evol3G3M3SF  1376.353315  1392.637900      -7.390142  2.484569e-02\n",
       " 5  Evol3G2M2SF  1385.566630  1397.731984     -12.484225  1.945740e-03\n",
       " 6  Evol2G2M2SF  1385.566591  1395.684469     -10.436710  5.416231e-03\n",
       " 7  Evol3G2M1SF  1385.886843  1396.004721     -10.756962  4.614825e-03\n",
       " 8   Evol1G1M2S  1402.484938  1408.531905     -23.284146  8.788443e-06\n",
       " 9   Evol1G1M1S  1429.619405  1433.642842     -48.395084  3.098426e-11,\n",
       "           Name         ln L         AICc  $\\Delta$ AICc         Proba\n",
       " 0   Evol3G2M1S  1396.402319  1404.479391       0.000000  1.000000e+00\n",
       " 1   Evol3G2M2S  1396.402211  1406.518041      -2.038650  3.608384e-01\n",
       " 2   Evol2G2M2S  1398.935650  1407.012721      -2.533331  2.817697e-01\n",
       " 3   Evol3G3M3S  1392.999213  1407.216267      -2.736876  2.545041e-01\n",
       " 4  Evol3G3M3SF  1395.484441  1411.764053      -7.284662  2.619122e-02\n",
       " 5  Evol3G2M2SF  1404.288578  1416.451054     -11.971663  2.514122e-03\n",
       " 6  Evol2G2M2SF  1404.288557  1414.404388      -9.924997  6.995428e-03\n",
       " 7  Evol3G2M1SF  1404.603872  1414.719703     -10.240312  5.975091e-03\n",
       " 8   Evol1G1M2S  1420.541498  1426.587652     -22.108261  1.582166e-05\n",
       " 9   Evol1G1M1S  1448.690837  1452.713869     -48.234479  3.357500e-11,\n",
       "           Name         ln L         AICc  $\\Delta$ AICc         Proba\n",
       " 0   Evol3G2M1S  1434.481194  1442.555821       0.000000  1.000000e+00\n",
       " 1   Evol3G2M2S  1434.479499  1444.591649      -2.035828  3.613480e-01\n",
       " 2   Evol2G2M2S  1437.588788  1445.663415      -3.107594  2.114436e-01\n",
       " 3   Evol3G3M3S  1431.603745  1445.813877      -3.258056  1.961201e-01\n",
       " 4  Evol3G3M3SF  1434.312738  1450.583415      -8.027594  1.806468e-02\n",
       " 5  Evol3G2M2SF  1442.694767  1454.852070     -12.296249  2.137487e-03\n",
       " 6  Evol2G2M2SF  1442.694729  1452.806878     -10.251057  5.943075e-03\n",
       " 7  Evol3G2M1SF  1443.119685  1453.231834     -10.676013  4.805440e-03\n",
       " 8   Evol1G1M2S  1457.006974  1463.051666     -20.495846  3.543102e-05\n",
       " 9   Evol1G1M1S  1490.195761  1494.218066     -51.662245  6.049033e-12,\n",
       "           Name         ln L         AICc  $\\Delta$ AICc         Proba\n",
       " 0   Evol3G2M1S  1543.618341  1551.688027       0.000000  1.000000e+00\n",
       " 1   Evol3G2M2S  1543.600552  1553.705264      -2.017237  3.647226e-01\n",
       " 2   Evol2G2M2S  1546.761431  1554.831117      -3.143090  2.077240e-01\n",
       " 3   Evol3G3M3S  1541.126031  1555.322179      -3.634151  1.625003e-01\n",
       " 4  Evol3G3M3SF  1543.644588  1559.897220      -8.209193  1.649667e-02\n",
       " 5  Evol3G2M2SF  1551.602470  1563.749323     -12.061296  2.403936e-03\n",
       " 6  Evol2G2M2SF  1551.602467  1561.707179     -10.019152  6.673732e-03\n",
       " 7  Evol3G2M1SF  1552.216482  1562.321195     -10.633167  4.909497e-03\n",
       " 8   Evol1G1M2S  1566.273285  1572.315024     -20.626997  3.318215e-05\n",
       " 9   Evol1G1M1S  1595.139436  1599.160270     -47.472243  4.915113e-11,\n",
       "           Name         ln L         AICc  $\\Delta$ AICc         Proba\n",
       " 0   Evol3G2M1S  1691.419968  1699.482762       0.000000  1.000000e+00\n",
       " 1   Evol3G2M2S  1691.389173  1701.483512      -2.000750  3.677415e-01\n",
       " 2   Evol2G2M2S  1693.606743  1701.669537      -2.186775  3.350795e-01\n",
       " 3   Evol3G3M3S  1686.954387  1701.131043      -1.648281  4.386118e-01\n",
       " 4  Evol3G3M3SF  1692.008860  1708.236348      -8.753586  1.256559e-02\n",
       " 5  Evol3G2M2SF  1701.334039  1713.466322     -13.983560  9.194084e-04\n",
       " 6  Evol2G2M2SF  1701.334091  1711.428431     -11.945669  2.547012e-03\n",
       " 7  Evol3G2M1SF  1701.575498  1711.669837     -12.187075  2.257409e-03\n",
       " 8   Evol1G1M2S  1731.637661  1737.675278     -38.192516  5.088626e-09\n",
       " 9   Evol1G1M1S  1751.314435  1755.333214     -55.850452  7.451237e-13]"
      ]
     },
     "execution_count": 4,
     "metadata": {},
     "output_type": "execute_result"
    }
   ],
   "source": [
    "dict_pd[0:5]"
   ]
  },
  {
   "cell_type": "code",
   "execution_count": 11,
   "metadata": {},
   "outputs": [
    {
     "data": {
      "text/plain": [
       "48"
      ]
     },
     "execution_count": 11,
     "metadata": {},
     "output_type": "execute_result"
    }
   ],
   "source": [
    "len(np.unique(NR_params)[np.unique(NR_params) < 0])"
   ]
  },
  {
   "cell_type": "code",
   "execution_count": null,
   "metadata": {},
   "outputs": [],
   "source": []
  }
 ],
 "metadata": {
  "kernelspec": {
   "display_name": "Python 3",
   "language": "python",
   "name": "python3"
  },
  "language_info": {
   "codemirror_mode": {
    "name": "ipython",
    "version": 3
   },
   "file_extension": ".py",
   "mimetype": "text/x-python",
   "name": "python",
   "nbconvert_exporter": "python",
   "pygments_lexer": "ipython3",
   "version": "3.7.3"
  }
 },
 "nbformat": 4,
 "nbformat_minor": 4
}
