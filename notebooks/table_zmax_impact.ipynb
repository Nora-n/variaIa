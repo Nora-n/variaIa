{
 "cells": [
  {
   "cell_type": "markdown",
   "metadata": {},
   "source": [
    "## Modules à importer"
   ]
  },
  {
   "cell_type": "code",
   "execution_count": 2,
   "metadata": {
    "jupyter": {
     "source_hidden": true
    }
   },
   "outputs": [],
   "source": [
    "import math\n",
    "import scipy\n",
    "import pickle\n",
    "import numpy as np\n",
    "import pandas as pd\n",
    "import iminuit as im\n",
    "import ipywidgets as ipw\n",
    "from importlib import reload\n",
    "from scipy.stats import poisson\n",
    "from variaIa import baserate\n",
    "from variaIa import stretchevol\n",
    "from astropy.cosmology import Planck15 as cdata\n",
    "from IPython.display import display, Latex\n",
    "import matplotlib.pyplot as plt\n",
    "import random"
   ]
  },
  {
   "cell_type": "markdown",
   "metadata": {},
   "source": [
    "## Load results from plots_determination_zmax"
   ]
  },
  {
   "cell_type": "code",
   "execution_count": 4,
   "metadata": {},
   "outputs": [],
   "source": [
    "with open('../Data/zmax_spec_result', 'rb') as f:\n",
    "    z_lins, meds, stds, z_max, itsc = pickle.load(f)\n",
    "\n",
    "z_max['HST'] = [10, 10, 10]\n",
    "z_max['SNF'] = [10, 10, 10]\n",
    "\n",
    "surveys = list(z_max.keys())\n",
    "z_max_lp = dict()\n",
    "\n",
    "size = 50\n",
    "\n",
    "for survey in surveys:\n",
    "    z_max_lp[survey] = np.linspace(z_max[survey][0], z_max[survey][2], size)\n",
    "    random.shuffle(z_max_lp[survey])"
   ]
  },
  {
   "cell_type": "markdown",
   "metadata": {},
   "source": [
    "## Run zmax_impact"
   ]
  },
  {
   "cell_type": "code",
   "execution_count": 5,
   "metadata": {},
   "outputs": [
    {
     "name": "stderr",
     "output_type": "stream",
     "text": [
      "/home/nora/Documents/Thèse/devpython/variaIa/variaIa/stretchevol.py:748: RuntimeWarning: invalid value encountered in log\n",
      "  mu_3, sigma_3)))\n",
      "/home/nora/.installs/anaconda3/lib/python3.7/site-packages/scipy/stats/_distn_infrastructure.py:1721: RuntimeWarning: invalid value encountered in greater\n",
      "  cond0 = self._argcheck(*args) & (scale > 0)\n",
      "/home/nora/.installs/anaconda3/lib/python3.7/site-packages/scipy/stats/_distn_infrastructure.py:897: RuntimeWarning: invalid value encountered in greater_equal\n",
      "  return (a <= x) & (x <= b)\n",
      "/home/nora/.installs/anaconda3/lib/python3.7/site-packages/scipy/stats/_distn_infrastructure.py:897: RuntimeWarning: invalid value encountered in less_equal\n",
      "  return (a <= x) & (x <= b)\n",
      "/home/nora/.installs/anaconda3/lib/python3.7/site-packages/scipy/stats/_distn_infrastructure.py:1722: RuntimeWarning: invalid value encountered in greater\n",
      "  cond1 = self._support_mask(x, *args) & (scale > 0)\n",
      "/home/nora/Documents/Thèse/devpython/variaIa/variaIa/stretchevol.py:595: RuntimeWarning: divide by zero encountered in log\n",
      "  mu_2)))\n",
      "/home/nora/Documents/Thèse/devpython/variaIa/variaIa/stretchevol.py:452: RuntimeWarning: divide by zero encountered in log\n",
      "  sigma_m, sigma_p)))\n"
     ]
    }
   ],
   "source": [
    "reload(stretchevol)\n",
    "dict_pd, NR_params = stretchevol.zmax_impact(z_max_lp)"
   ]
  },
  {
   "cell_type": "code",
   "execution_count": 61,
   "metadata": {},
   "outputs": [],
   "source": [
    "reload(stretchevol)\n",
    "dict_pd_s, NR_params_s = stretchevol.zmax_impact(z_max)"
   ]
  },
  {
   "cell_type": "markdown",
   "metadata": {},
   "source": [
    "## Results"
   ]
  },
  {
   "cell_type": "code",
   "execution_count": 70,
   "metadata": {},
   "outputs": [
    {
     "data": {
      "text/plain": [
       "[          Name         ln L         AICc  $\\Delta$ AICc         Proba\n",
       " 0   Evol3G2M1S  1529.261013  1537.330822       0.000000  1.000000e+00\n",
       " 1   Evol3G2M2S  1529.242553  1539.347448      -2.016627  3.648338e-01\n",
       " 2   Evol2G2M2S  1531.380594  1539.450402      -2.119581  3.465284e-01\n",
       " 3   Evol3G3M3S  1525.278086  1539.474578      -2.143756  3.423649e-01\n",
       " 4  Evol3G3M3SF  1527.700586  1543.953662      -6.622840  3.646435e-02\n",
       " 5  Evol3G2M2SF  1537.295385  1549.442496     -12.111674  2.344139e-03\n",
       " 6  Evol2G2M2SF  1537.295461  1547.400356     -10.069535  6.507712e-03\n",
       " 7  Evol3G2M1SF  1537.800206  1547.905101     -10.574279  5.056202e-03\n",
       " 8   Evol1G1M2S  1557.302295  1563.344106     -26.013285  2.245365e-06\n",
       " 9   Evol1G1M1S  1584.918495  1588.939364     -51.608543  6.213658e-12,\n",
       "           Name         ln L         AICc  $\\Delta$ AICc         Proba\n",
       " 0   Evol3G2M1S  1532.287258  1540.356823       0.000000  1.000000e+00\n",
       " 1   Evol3G2M2S  1532.273050  1542.377580      -2.020757  3.640812e-01\n",
       " 2   Evol2G2M2S  1534.522970  1542.592535      -2.235712  3.269801e-01\n",
       " 3   Evol3G3M3S  1528.407764  1542.603568      -2.246745  3.251813e-01\n",
       " 4  Evol3G3M3SF  1531.232856  1547.485045      -7.128222  2.832216e-02\n",
       " 5  Evol3G2M2SF  1540.487652  1552.634249     -12.277426  2.157699e-03\n",
       " 6  Evol2G2M2SF  1540.487621  1550.592151     -10.235328  5.990000e-03\n",
       " 7  Evol3G2M1SF  1540.905382  1551.009912     -10.653088  4.860839e-03\n",
       " 8   Evol1G1M2S  1556.162133  1562.203799     -21.846976  1.802974e-05\n",
       " 9   Evol1G1M1S  1588.509662  1592.530459     -52.173636  4.684238e-12,\n",
       "           Name         ln L         AICc  $\\Delta$ AICc         Proba\n",
       " 0   Evol3G2M1S  1536.131883  1544.201328       0.000000  1.000000e+00\n",
       " 1   Evol3G2M2S  1536.118249  1546.222597      -2.021269  3.639879e-01\n",
       " 2   Evol2G2M2S  1538.403144  1546.472588      -2.271260  3.212196e-01\n",
       " 3   Evol3G3M3S  1532.296434  1546.491896      -2.290569  3.181334e-01\n",
       " 4  Evol3G3M3SF  1534.950928  1551.202676      -7.001349  3.017703e-02\n",
       " 5  Evol3G2M2SF  1544.540545  1556.686886     -12.485559  1.944444e-03\n",
       " 6  Evol2G2M2SF  1544.540489  1554.644837     -10.443509  5.397849e-03\n",
       " 7  Evol3G2M1SF  1544.964307  1555.068654     -10.867327  4.367068e-03\n",
       " 8   Evol1G1M2S  1560.066999  1566.108594     -21.907266  1.749434e-05\n",
       " 9   Evol1G1M1S  1592.338033  1596.358795     -52.157467  4.722261e-12,\n",
       "           Name         ln L         AICc  $\\Delta$ AICc         Proba\n",
       " 0   Evol3G2M1S  1540.722103  1548.791307       0.000000  1.000000e+00\n",
       " 1   Evol3G2M2S  1540.709893  1550.813879      -2.022572  3.637508e-01\n",
       " 2   Evol2G2M2S  1542.958154  1551.027358      -2.236051  3.269247e-01\n",
       " 3   Evol3G3M3S  1536.822213  1551.016996      -2.225689  3.286229e-01\n",
       " 4  Evol3G3M3SF  1539.441029  1555.691900      -6.900593  3.173622e-02\n",
       " 5  Evol3G2M2SF  1549.154776  1561.300609     -12.509303  1.921496e-03\n",
       " 6  Evol2G2M2SF  1549.154722  1559.258708     -10.467401  5.333751e-03\n",
       " 7  Evol3G2M1SF  1549.572492  1559.676478     -10.885171  4.328277e-03\n",
       " 8   Evol1G1M2S  1564.789075  1570.830526     -22.039219  1.637738e-05\n",
       " 9   Evol1G1M1S  1596.247207  1600.267896     -51.476590  6.637440e-12,\n",
       "           Name         ln L         AICc  $\\Delta$ AICc         Proba\n",
       " 0   Evol3G2M1S  1532.601702  1540.671267       0.000000  1.000000e+00\n",
       " 1   Evol3G2M2S  1532.597949  1542.702479      -2.031211  3.621830e-01\n",
       " 2   Evol2G2M2S  1535.052508  1543.122073      -2.450805  2.936394e-01\n",
       " 3   Evol3G3M3S  1528.955495  1543.151299      -2.480031  2.893797e-01\n",
       " 4  Evol3G3M3SF  1531.418513  1547.670703      -6.999435  3.020591e-02\n",
       " 5  Evol3G2M2SF  1540.994126  1553.140723     -12.469456  1.960162e-03\n",
       " 6  Evol2G2M2SF  1540.994110  1551.098639     -10.427372  5.441579e-03\n",
       " 7  Evol3G2M1SF  1541.341366  1551.445896     -10.774629  4.574242e-03\n",
       " 8   Evol1G1M2S  1561.435965  1567.477632     -26.806365  1.510330e-06\n",
       " 9   Evol1G1M1S  1588.378085  1592.398882     -51.727615  5.854519e-12]"
      ]
     },
     "execution_count": 70,
     "metadata": {},
     "output_type": "execute_result"
    }
   ],
   "source": [
    "dict_pd[0:5]"
   ]
  },
  {
   "cell_type": "code",
   "execution_count": 6,
   "metadata": {},
   "outputs": [
    {
     "data": {
      "text/plain": [
       "[[0.4154, 0.3877, -1.2643],\n",
       " [0.4369, 0.3969, -1.2634],\n",
       " [0.4715, 0.3729, -1.2549],\n",
       " [0.4445, 0.3808, -1.2622],\n",
       " [0.4627, 0.375, -1.2628],\n",
       " [0.4621, 0.3618, -1.2679],\n",
       " [0.435, 0.368, -1.2551],\n",
       " [0.4635, 0.3778, -1.2547],\n",
       " [0.4375, 0.3829, -1.2496],\n",
       " [0.4646, 0.3766, -1.2661],\n",
       " [0.4658, 0.3549, -1.2482],\n",
       " [0.4638, 0.3715, -1.2482],\n",
       " [0.4593, 0.3748, -1.2689],\n",
       " [0.471, 0.3503, -1.2628],\n",
       " [0.4796, 0.3457, -1.2476],\n",
       " [0.4691, 0.3621, -1.2651],\n",
       " [0.4775, 0.358, -1.245],\n",
       " [0.4533, 0.3879, -1.2778],\n",
       " [0.4639, 0.3708, -1.2707],\n",
       " [0.458, 0.3634, -1.24],\n",
       " [0.4344, 0.39, -1.2477],\n",
       " [0.4467, 0.3808, -1.2801],\n",
       " [0.4196, 0.3921, -1.2738],\n",
       " [0.4414, 0.3834, -1.2725],\n",
       " [0.4498, 0.3783, -1.267],\n",
       " [0.4645, 0.3653, -1.2643],\n",
       " [0.466, 0.3762, -1.273],\n",
       " [0.4431, 0.3885, -1.2531],\n",
       " [0.4477, 0.3829, -1.2524],\n",
       " [0.4648, 0.3603, -1.2492],\n",
       " [0.4411, 0.4001, -1.2423],\n",
       " [0.4442, 0.3805, -1.2552],\n",
       " [0.4692, 0.3765, -1.256],\n",
       " [0.4068, 0.3933, -1.2744],\n",
       " [0.4507, 0.3847, -1.261],\n",
       " [0.4578, 0.3723, -1.2658],\n",
       " [0.4231, 0.3901, -1.2605],\n",
       " [0.4581, 0.3694, -1.2606],\n",
       " [0.4493, 0.3754, -1.2767],\n",
       " [0.4459, 0.3749, -1.2659],\n",
       " [0.4583, 0.3656, -1.2359],\n",
       " [0.4419, 0.3954, -1.2585],\n",
       " [0.4625, 0.3628, -1.2285],\n",
       " [0.474, 0.3672, -1.2618],\n",
       " [0.4264, 0.3881, -1.2714],\n",
       " [0.4442, 0.3913, -1.2707],\n",
       " [0.4559, 0.3774, -1.2476],\n",
       " [0.4661, 0.3644, -1.2462],\n",
       " [0.4423, 0.3864, -1.2745],\n",
       " [0.4616, 0.3625, -1.267]]"
      ]
     },
     "execution_count": 6,
     "metadata": {},
     "output_type": "execute_result"
    }
   ],
   "source": [
    "NR_params"
   ]
  },
  {
   "cell_type": "code",
   "execution_count": 62,
   "metadata": {},
   "outputs": [
    {
     "data": {
      "text/plain": [
       "[[0.475, 0.3691, -1.2438], [0.4625, 0.359, -1.232], [0.4716, 0.3469, -1.2416]]"
      ]
     },
     "execution_count": 62,
     "metadata": {},
     "output_type": "execute_result"
    }
   ],
   "source": [
    "NR_params_s"
   ]
  },
  {
   "cell_type": "code",
   "execution_count": null,
   "metadata": {},
   "outputs": [],
   "source": []
  }
 ],
 "metadata": {
  "kernelspec": {
   "display_name": "Python 3",
   "language": "python",
   "name": "python3"
  },
  "language_info": {
   "codemirror_mode": {
    "name": "ipython",
    "version": 3
   },
   "file_extension": ".py",
   "mimetype": "text/x-python",
   "name": "python",
   "nbconvert_exporter": "python",
   "pygments_lexer": "ipython3",
   "version": "3.7.3"
  }
 },
 "nbformat": 4,
 "nbformat_minor": 4
}
