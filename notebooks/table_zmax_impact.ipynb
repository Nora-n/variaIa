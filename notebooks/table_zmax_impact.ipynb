{
 "cells": [
  {
   "cell_type": "markdown",
   "metadata": {},
   "source": [
    "## Modules à importer"
   ]
  },
  {
   "cell_type": "code",
   "execution_count": 1,
   "metadata": {
    "jupyter": {
     "source_hidden": true
    }
   },
   "outputs": [],
   "source": [
    "import math\n",
    "import scipy\n",
    "import pickle\n",
    "import numpy as np\n",
    "import pandas as pd\n",
    "import iminuit as im\n",
    "import ipywidgets as ipw\n",
    "from importlib import reload\n",
    "from scipy.stats import poisson\n",
    "from variaIa import baserate\n",
    "from variaIa import stretchevol\n",
    "from astropy.cosmology import Planck15 as cdata\n",
    "from IPython.display import display, Latex\n",
    "import matplotlib.pyplot as plt\n",
    "import random"
   ]
  },
  {
   "cell_type": "markdown",
   "metadata": {},
   "source": [
    "## Load results from plots_determination_zmax"
   ]
  },
  {
   "cell_type": "code",
   "execution_count": 3,
   "metadata": {},
   "outputs": [],
   "source": [
    "with open('../Data/zmax_mlim', 'rb') as f:\n",
    "    z_max = pickle.load(f)\n",
    "\n",
    "z_max['HST'] = [10, 10, 10]\n",
    "z_max['SNF'] = [10, 10, 10]\n",
    "\n",
    "surveys = list(z_max.keys())\n",
    "z_max_lp = dict()\n",
    "\n",
    "size = 50\n",
    "\n",
    "for survey in surveys:\n",
    "    z_max_lp[survey] = np.linspace(z_max[survey][0], z_max[survey][2], size)\n",
    "    random.shuffle(z_max_lp[survey])"
   ]
  },
  {
   "cell_type": "markdown",
   "metadata": {},
   "source": [
    "## Run zmax_impact"
   ]
  },
  {
   "cell_type": "code",
   "execution_count": 4,
   "metadata": {},
   "outputs": [
    {
     "name": "stderr",
     "output_type": "stream",
     "text": [
      "/home/nicolas/.installs/anaconda3/lib/python3.7/site-packages/variaIa-0.8.4-py3.7.egg/variaIa/stretchevol.py:519: RuntimeWarning: divide by zero encountered in log\n",
      "/home/nicolas/.installs/anaconda3/lib/python3.7/site-packages/variaIa-0.8.4-py3.7.egg/variaIa/stretchevol.py:886: RuntimeWarning: invalid value encountered in log\n",
      "/home/nicolas/.installs/anaconda3/lib/python3.7/site-packages/scipy/stats/_distn_infrastructure.py:1721: RuntimeWarning: invalid value encountered in greater\n",
      "  cond0 = self._argcheck(*args) & (scale > 0)\n",
      "/home/nicolas/.installs/anaconda3/lib/python3.7/site-packages/scipy/stats/_distn_infrastructure.py:897: RuntimeWarning: invalid value encountered in greater_equal\n",
      "  return (a <= x) & (x <= b)\n",
      "/home/nicolas/.installs/anaconda3/lib/python3.7/site-packages/scipy/stats/_distn_infrastructure.py:897: RuntimeWarning: invalid value encountered in less_equal\n",
      "  return (a <= x) & (x <= b)\n",
      "/home/nicolas/.installs/anaconda3/lib/python3.7/site-packages/scipy/stats/_distn_infrastructure.py:1722: RuntimeWarning: invalid value encountered in greater\n",
      "  cond1 = self._support_mask(x, *args) & (scale > 0)\n",
      "/home/nicolas/.installs/anaconda3/lib/python3.7/site-packages/variaIa-0.8.4-py3.7.egg/variaIa/stretchevol.py:694: RuntimeWarning: divide by zero encountered in log\n"
     ]
    }
   ],
   "source": [
    "reload(stretchevol)\n",
    "dict_pd, NR_params = stretchevol.zmax_impact(z_max_lp)"
   ]
  },
  {
   "cell_type": "code",
   "execution_count": 61,
   "metadata": {},
   "outputs": [],
   "source": [
    "reload(stretchevol)\n",
    "dict_pd_s, NR_params_s = stretchevol.zmax_impact(z_max)"
   ]
  },
  {
   "cell_type": "markdown",
   "metadata": {},
   "source": [
    "## Results"
   ]
  },
  {
   "cell_type": "code",
   "execution_count": 5,
   "metadata": {},
   "outputs": [
    {
     "data": {
      "text/plain": [
       "[          Name         ln L         AICc  $\\Delta$ AICc         Proba\n",
       " 0   Evol3G2M1S  1604.719050  1612.785385       0.000000  1.000000e+00\n",
       " 1   Evol3G2M2S  1604.619922  1614.719589      -1.934204  3.801831e-01\n",
       " 2   Evol2G2M2S  1608.672464  1616.738799      -3.953413  1.385247e-01\n",
       " 3   Evol3G3M3S  1603.070227  1617.256893      -4.471508  1.069115e-01\n",
       " 4  Evol3G3M3SF  1604.985388  1621.225788      -8.440403  1.469568e-02\n",
       " 5  Evol3G2M2SF  1613.886934  1626.026701     -13.241316  1.332554e-03\n",
       " 6  Evol2G2M2SF  1613.886922  1623.986590     -11.201205  3.695637e-03\n",
       " 7  Evol3G2M1SF  1614.017463  1624.117131     -11.331746  3.462125e-03\n",
       " 8   Evol1G1M2S  1796.817905  1802.857640    -190.072255  5.325181e-42\n",
       " 9   Evol1G1M1S  1658.013902  1662.033737     -49.248352  2.022350e-11,\n",
       "           Name         ln L         AICc  $\\Delta$ AICc         Proba\n",
       " 0   Evol3G2M1S  1585.958843  1594.025844       0.000000  1.000000e+00\n",
       " 1   Evol3G2M2S  1585.888953  1595.989624      -1.963780  3.746024e-01\n",
       " 2   Evol2G2M2S  1589.883387  1597.950389      -3.924545  1.405387e-01\n",
       " 3   Evol3G3M3S  1584.330159  1598.518711      -4.492866  1.057758e-01\n",
       " 4  Evol3G3M3SF  1586.424097  1602.666930      -8.641086  1.329266e-02\n",
       " 5  Evol3G2M2SF  1595.006087  1607.147263     -13.121419  1.414882e-03\n",
       " 6  Evol2G2M2SF  1595.006089  1605.106760     -11.080915  3.924730e-03\n",
       " 7  Evol3G2M1SF  1595.342037  1605.442708     -11.416864  3.317871e-03\n",
       " 8   Evol1G1M2S  1622.284310  1628.324444     -34.298599  3.565774e-08\n",
       " 9   Evol1G1M1S  1639.104802  1643.124835     -49.098991  2.179163e-11,\n",
       "           Name         ln L         AICc  $\\Delta$ AICc         Proba\n",
       " 0   Evol3G2M1S  1668.378381  1676.442381       0.000000  1.000000e+00\n",
       " 1   Evol3G2M2S  1668.369239  1678.465393      -2.023012  3.636709e-01\n",
       " 2   Evol2G2M2S  1671.105125  1679.169125      -2.726744  2.557968e-01\n",
       " 3   Evol3G3M3S  1665.365595  1679.545659      -3.103278  2.119004e-01\n",
       " 4  Evol3G3M3SF  1667.824437  1684.056321      -7.613940  2.221539e-02\n",
       " 5  Evol3G2M2SF  1676.552383  1688.687214     -12.244833  2.193150e-03\n",
       " 6  Evol2G2M2SF  1676.552391  1686.648545     -10.206163  6.077987e-03\n",
       " 7  Evol3G2M1SF  1676.962269  1687.058423     -10.616042  4.951716e-03\n",
       " 8   Evol1G1M2S  1800.318699  1806.357038    -129.914657  6.157307e-29\n",
       " 9   Evol1G1M1S  1719.368529  1723.387668     -46.945287  6.396767e-11,\n",
       "           Name         ln L         AICc  $\\Delta$ AICc         Proba\n",
       " 0   Evol3G2M1S  1572.114997  1580.183140       0.000000  1.000000e+00\n",
       " 1   Evol3G2M2S  1572.113740  1582.216129      -2.032989  3.618612e-01\n",
       " 2   Evol2G2M2S  1575.018500  1583.086644      -2.903504  2.341597e-01\n",
       " 3   Evol3G3M3S  1568.692130  1582.883910      -2.700771  2.591404e-01\n",
       " 4  Evol3G3M3SF  1573.823134  1590.070132      -9.886993  7.129628e-03\n",
       " 5  Evol3G2M2SF  1581.474449  1593.618039     -13.434899  1.209619e-03\n",
       " 6  Evol2G2M2SF  1581.474434  1591.576824     -11.393684  3.356549e-03\n",
       " 7  Evol3G2M1SF  1581.671744  1591.774133     -11.590994  3.041219e-03\n",
       " 8   Evol1G1M2S  1628.842773  1634.883589     -54.700449  1.324184e-12\n",
       " 9   Evol1G1M1S  1626.812951  1630.833324     -50.650184  1.003349e-11,\n",
       "           Name         ln L         AICc  $\\Delta$ AICc         Proba\n",
       " 0   Evol3G2M1S  1639.161331  1647.226372       0.000000  1.000000e+00\n",
       " 1   Evol3G2M2S  1639.112915  1649.210635      -1.984263  3.707854e-01\n",
       " 2   Evol2G2M2S  1642.759402  1650.824443      -3.598071  1.654584e-01\n",
       " 3   Evol3G3M3S  1636.782147  1650.965154      -3.738782  1.542176e-01\n",
       " 4  Evol3G3M3SF  1638.909694  1655.145374      -7.919002  1.907263e-02\n",
       " 5  Evol3G2M2SF  1647.432363  1659.569394     -12.343022  2.088078e-03\n",
       " 6  Evol2G2M2SF  1647.432458  1657.530178     -10.303806  5.788379e-03\n",
       " 7  Evol3G2M1SF  1647.777581  1657.875301     -10.648929  4.870958e-03\n",
       " 8   Evol1G1M2S  1744.602423  1750.641384    -103.415012  3.497159e-23\n",
       " 9   Evol1G1M1S  1692.794807  1696.814256     -49.587884  1.706584e-11]"
      ]
     },
     "execution_count": 5,
     "metadata": {},
     "output_type": "execute_result"
    }
   ],
   "source": [
    "dict_pd[0:5]"
   ]
  },
  {
   "cell_type": "code",
   "execution_count": 6,
   "metadata": {},
   "outputs": [
    {
     "data": {
      "text/plain": [
       "48"
      ]
     },
     "execution_count": 6,
     "metadata": {},
     "output_type": "execute_result"
    }
   ],
   "source": [
    "len(np.unique(NR_params)[np.unique(NR_params) < 0])"
   ]
  },
  {
   "cell_type": "code",
   "execution_count": 7,
   "metadata": {},
   "outputs": [
    {
     "data": {
      "text/plain": [
       "[[0.4789, 0.3644, -1.2542],\n",
       " [0.4759, 0.3582, -1.2557],\n",
       " [0.4636, 0.3576, -1.2352],\n",
       " [0.4628, 0.3662, -1.2672],\n",
       " [0.472, 0.355, -1.261]]"
      ]
     },
     "execution_count": 7,
     "metadata": {},
     "output_type": "execute_result"
    }
   ],
   "source": [
    "NR_params[0:5]"
   ]
  },
  {
   "cell_type": "code",
   "execution_count": null,
   "metadata": {},
   "outputs": [],
   "source": []
  }
 ],
 "metadata": {
  "kernelspec": {
   "display_name": "Python 3",
   "language": "python",
   "name": "python3"
  },
  "language_info": {
   "codemirror_mode": {
    "name": "ipython",
    "version": 3
   },
   "file_extension": ".py",
   "mimetype": "text/x-python",
   "name": "python",
   "nbconvert_exporter": "python",
   "pygments_lexer": "ipython3",
   "version": "3.7.4"
  }
 },
 "nbformat": 4,
 "nbformat_minor": 4
}
