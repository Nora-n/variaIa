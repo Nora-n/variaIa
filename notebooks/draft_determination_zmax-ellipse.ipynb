{
 "cells": [
  {
   "cell_type": "markdown",
   "metadata": {},
   "source": [
    "## Modules à importer"
   ]
  },
  {
   "cell_type": "code",
   "execution_count": 1,
   "metadata": {},
<<<<<<< Updated upstream
   "outputs": [],
=======
   "outputs": [
    {
     "ename": "ModuleNotFoundError",
     "evalue": "No module named 'variaIa'",
     "output_type": "error",
     "traceback": [
      "\u001b[0;31m---------------------------------------------------------------------------\u001b[0m",
      "\u001b[0;31mModuleNotFoundError\u001b[0m                       Traceback (most recent call last)",
      "\u001b[0;32m<ipython-input-6-9fe49c2a410b>\u001b[0m in \u001b[0;36m<module>\u001b[0;34m\u001b[0m\n\u001b[1;32m     10\u001b[0m \u001b[0;32mfrom\u001b[0m \u001b[0mscipy\u001b[0m\u001b[0;34m.\u001b[0m\u001b[0mstats\u001b[0m \u001b[0;32mimport\u001b[0m \u001b[0mpoisson\u001b[0m\u001b[0;34m\u001b[0m\u001b[0;34m\u001b[0m\u001b[0m\n\u001b[1;32m     11\u001b[0m \u001b[0;32mimport\u001b[0m \u001b[0mscipy\u001b[0m\u001b[0;34m.\u001b[0m\u001b[0mintegrate\u001b[0m \u001b[0;32mas\u001b[0m \u001b[0mintegrate\u001b[0m\u001b[0;34m\u001b[0m\u001b[0;34m\u001b[0m\u001b[0m\n\u001b[0;32m---> 12\u001b[0;31m \u001b[0;32mfrom\u001b[0m \u001b[0mvariaIa\u001b[0m\u001b[0;34m.\u001b[0m\u001b[0mvariaIa\u001b[0m \u001b[0;32mimport\u001b[0m \u001b[0mbaserate\u001b[0m\u001b[0;34m\u001b[0m\u001b[0;34m\u001b[0m\u001b[0m\n\u001b[0m\u001b[1;32m     13\u001b[0m \u001b[0;32mfrom\u001b[0m \u001b[0mscipy\u001b[0m\u001b[0;34m.\u001b[0m\u001b[0minterpolate\u001b[0m \u001b[0;32mimport\u001b[0m \u001b[0minterp1d\u001b[0m\u001b[0;34m\u001b[0m\u001b[0;34m\u001b[0m\u001b[0m\n\u001b[1;32m     14\u001b[0m \u001b[0;32mfrom\u001b[0m \u001b[0mvariaIa\u001b[0m\u001b[0;34m.\u001b[0m\u001b[0mvariaIa\u001b[0m \u001b[0;32mimport\u001b[0m \u001b[0mstretchevol\u001b[0m\u001b[0;34m\u001b[0m\u001b[0;34m\u001b[0m\u001b[0m\n",
      "\u001b[0;31mModuleNotFoundError\u001b[0m: No module named 'variaIa'"
     ]
    }
   ],
>>>>>>> Stashed changes
   "source": [
    "import math\n",
    "import scipy\n",
    "import pickle\n",
    "import sncosmo\n",
    "import numpy as np\n",
    "import pandas as pd\n",
    "import iminuit as im\n",
    "import ipywidgets as ipw\n",
    "from importlib import reload\n",
    "from scipy.stats import poisson\n",
    "import scipy.integrate as integrate\n",
    "from variaIa.variaIa import baserate\n",
    "from scipy.interpolate import interp1d\n",
    "from variaIa.variaIa import stretchevol\n",
    "from astropy.cosmology import Planck15\n",
    "import matplotlib.pyplot as plt\n",
    "import random"
   ]
  },
  {
   "cell_type": "markdown",
   "metadata": {},
   "source": [
    "## Définitions et sélection de l'échantillon à utiliser"
   ]
  },
  {
   "cell_type": "code",
   "execution_count": 2,
   "metadata": {},
   "outputs": [
    {
     "data": {
      "application/vnd.jupyter.widget-view+json": {
       "model_id": "b9cc0f3e5ade411e96ac92fd53af001a",
       "version_major": 2,
       "version_minor": 0
      },
      "text/plain": [
       "interactive(children=(Dropdown(description='Survey:', index=2, options=('SNF', 'SDSS', 'PS1', 'SNLS', 'HST'), …"
      ]
     },
     "metadata": {},
     "output_type": "display_data"
    }
   ],
   "source": [
    "d = pd.read_csv('../Data/data_cheat.csv', sep=' ', index_col='CID')\n",
    "d_snf = pd.read_csv('../Data/lssfr_paper_full_sntable.csv', sep=',')\n",
    "\n",
    "surveys = ['SNF', 'SDSS', 'PS1', 'SNLS', 'HST']\n",
    "\n",
    "su = ipw.Dropdown(options=surveys,\n",
    "                  description='Survey:',\n",
    "                  value='PS1')\n",
    "\n",
    "surv = {'SNF':  d_snf,\n",
    "        'SDSS': d[d['IDSURVEY'] == 1],\n",
    "        'PS1':  d[d['IDSURVEY'] == 15],\n",
    "        'SNLS': d[d['IDSURVEY'] == 4],\n",
    "        'HST':  d[d['IDSURVEY'].isin([101, 100, 106])]}\n",
    "\n",
    "# .loc[d_snf['name'].str.contains('SNF|LSQ|PTF',na=False,regex=True)]\n",
    "\n",
    "colors = {'SNF': 'orange',\n",
    "          'SDSS': 'lime',\n",
    "          'PS1': 'blue',\n",
    "          'SNLS': 'red',\n",
    "          'HST': 'purple'}\n",
    "\n",
    "def set_data(su):\n",
    "    global dataz, datax\n",
    "    if su == 'SNF':\n",
    "        dataz = np.sort(surv[su]['host.zcmb'].values)\n",
    "    else:\n",
    "        dataz = np.sort(surv[su].zCMB.values)\n",
    "    \n",
    "int_data = ipw.interactive(set_data, su=su)\n",
    "display(int_data)"
   ]
  },
  {
   "cell_type": "markdown",
   "metadata": {},
   "source": [
    "## Définition de $m_{\\mathrm{obs}}$ depuis la RG"
   ]
  },
  {
   "cell_type": "code",
   "execution_count": 4,
   "metadata": {},
   "outputs": [],
   "source": [
    "alpha = 0.141\n",
    "beta = 3.101\n",
    "O_m = 0.315\n",
    "O_L = 0.692\n",
    "O_R = 1 - O_m - O_L\n",
    "c = 9.715611890751e-9 #in pc.s⁻¹\n",
    "H0 = Planck15.H(0).value*3.2407792899604e-20 #in s⁻¹\n",
    "\n",
    "def integrand(zp):\n",
    "    return((O_R*(1+zp)**4 + O_m*(1+zp)**3 + O_L)**(-1/2))\n",
    "\n",
    "def d_L(z):\n",
    "    return((1+z)*c/H0*integrate.quad(integrand, 0, z)[0])\n",
    "\n",
    "def m_obs(M_abs, x1, c, z):\n",
    "    return(5*np.log10(d_L(z)/10) + M_abs - alpha*x1 + beta*c)"
   ]
  },
  {
   "cell_type": "markdown",
   "metadata": {},
   "source": [
    "## Calcul de $m_{\\mathrm{obs}}$ sur un pavage de $(x_1, c)$"
   ]
  },
  {
   "cell_type": "code",
   "execution_count": 5,
   "metadata": {},
   "outputs": [],
   "source": [
    "c_lin = np.linspace(-.4, .4, 1000)\n",
    "x1_lin = 10*c_lin\n",
    "m_list = [[] for i in range(len(c_lin))]\n",
    "M_abs = -19.3\n",
    "z_obs = 0.50\n",
    "\n",
    "for i in range(len(c_lin)):\n",
    "    m_list[i] = np.asarray([m_obs(M_abs, x1_lin[k], c_lin[i], z_obs) for k in range(len(x1_lin))])\n",
    "\n",
    "m_list = np.asarray(m_list)"
   ]
  },
  {
   "cell_type": "markdown",
   "metadata": {},
   "source": [
    "## Détermination des $(x_1, c)$ observables (i.e. dont $m_{\\mathrm{obs}}$ < $m_{\\mathrm{max}}$)"
   ]
  },
  {
   "cell_type": "code",
   "execution_count": 6,
   "metadata": {},
   "outputs": [],
   "source": [
    "m_max = 23.1\n",
    "x1_max = []\n",
    "\n",
    "for i in range(len(x1_lin)):\n",
    "    loc = np.where(m_list[i] < m_max)\n",
    "    if np.size(loc) > 0:\n",
    "        x1_max.append(x1_lin[np.min(loc)])\n",
    "\n",
    "x1_max = np.asarray(x1_max)\n",
    "\n",
    "c_max = c_lin[:len(x1_max)]"
   ]
  },
  {
   "cell_type": "code",
   "execution_count": 7,
   "metadata": {},
   "outputs": [
    {
     "data": {
      "text/plain": [
       "(-0.4, 0.4)"
      ]
     },
     "execution_count": 7,
     "metadata": {},
     "output_type": "execute_result"
    },
    {
     "data": {
      "image/png": "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\n",
      "text/plain": [
       "<Figure size 576x360 with 1 Axes>"
      ]
     },
     "metadata": {
      "needs_background": "light"
     },
     "output_type": "display_data"
    }
   ],
   "source": [
    "from matplotlib.patches import Ellipse\n",
    "\n",
    "fig = plt.figure(figsize=[8, 5])\n",
    "ax = fig.add_axes([0.1, 0.12, 0.8, 0.8])\n",
    "\n",
    "ax.add_patch(Ellipse((0, 0),\n",
    "             width=6,\n",
    "             height=.6,\n",
    "             ec=\"black\",\n",
    "             fc=\"1\"))\n",
    "\n",
    "ax.plot(x1_max,\n",
    "        c_max, \n",
    "        color=\"blue\")\n",
    "\n",
    "ax.fill_between(x1_max,\n",
    "                c_max,\n",
    "                [-.4 for i in range(len(c_max))],\n",
    "                alpha=.3, zorder=2,\n",
    "                label=r'$m_{\\mathrm{obs}} < m_{\\mathrm{max}}$')\n",
    "\n",
    "ax.tick_params(direction='in',\n",
    "               length=5, width=1,\n",
    "               labelsize=15,\n",
    "               top=True, right=True)\n",
    "\n",
    "ax.set_xlabel(r'$x_1$', fontsize='x-large')\n",
    "ax.set_ylabel(r'$c$', fontsize='x-large')\n",
    "\n",
    "plt.legend(ncol=1, loc='upper left', fontsize='x-large')\n",
    "\n",
    "ax.set_xlim(-4, 4)\n",
    "ax.set_ylim(-.4, .4)"
   ]
  },
  {
   "cell_type": "code",
   "execution_count": 19,
   "metadata": {},
   "outputs": [
    {
     "data": {
      "text/plain": [
       "[<matplotlib.lines.Line2D at 0x7f4f34a51828>]"
      ]
     },
     "execution_count": 19,
     "metadata": {},
     "output_type": "execute_result"
    },
    {
     "data": {
      "image/png": "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\n",
      "text/plain": [
       "<Figure size 432x288 with 1 Axes>"
      ]
     },
     "metadata": {
      "needs_background": "light"
     },
     "output_type": "display_data"
    }
   ],
   "source": [
    "from scipy.stats import multivariate_normal\n",
    "x = np.linspace(0, 5, 10, endpoint=False)\n",
    "y = multivariate_normal.pdf(x, mean=2.5, cov=0.5)\n",
    "plt.plot(x, y)"
   ]
  },
  {
   "cell_type": "code",
   "execution_count": 140,
   "metadata": {},
   "outputs": [
    {
     "data": {
      "text/plain": [
       "(-0.4, 0.4)"
      ]
     },
     "execution_count": 140,
     "metadata": {},
     "output_type": "execute_result"
    },
    {
     "data": {
      "image/png": "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\n",
      "text/plain": [
       "<Figure size 576x360 with 1 Axes>"
      ]
     },
     "metadata": {
      "needs_background": "light"
     },
     "output_type": "display_data"
    }
   ],
   "source": [
    "x, y = np.mgrid[-4:4:.001, -.4:.4:.001]\n",
    "pos = np.empty(x.shape + (2,))\n",
    "pos[:, :, 0] = x; pos[:, :, 1] = y\n",
    "rv = multivariate_normal([0, 0], [[6.0, 0], [0, 0.05]])\n",
    "\n",
    "fig = plt.figure(figsize=[8, 5])\n",
    "ax2 = fig.add_axes([0.1, 0.12, 0.8, 0.8])\n",
    "\n",
    "ax2.contourf(x, y, rv.pdf(pos))\n",
    "\n",
    "ax2.tick_params(direction='in',\n",
    "                length=5, width=1,\n",
    "                labelsize=15,\n",
    "                top=True, right=True)\n",
    "\n",
    "ax2.set_xlabel(r'$x_1$', fontsize='x-large')\n",
    "ax2.set_ylabel(r'$c$', fontsize='x-large')\n",
    "\n",
    "ax2.set_xlim(-4, 4)\n",
    "ax2.set_ylim(-.4, .4)"
   ]
  },
  {
   "cell_type": "code",
   "execution_count": 73,
   "metadata": {},
   "outputs": [
    {
     "ename": "TypeError",
     "evalue": "Input z must be a 2D array.",
     "output_type": "error",
     "traceback": [
      "\u001b[0;31m---------------------------------------------------------------------------\u001b[0m",
      "\u001b[0;31mTypeError\u001b[0m                                 Traceback (most recent call last)",
      "\u001b[0;32m<ipython-input-73-c3c3672fd00c>\u001b[0m in \u001b[0;36m<module>\u001b[0;34m\u001b[0m\n\u001b[1;32m      5\u001b[0m \u001b[0my\u001b[0m \u001b[0;34m=\u001b[0m \u001b[0mnp\u001b[0m\u001b[0;34m.\u001b[0m\u001b[0mlinspace\u001b[0m\u001b[0;34m(\u001b[0m\u001b[0;34m-\u001b[0m\u001b[0;36m.4\u001b[0m\u001b[0;34m,\u001b[0m \u001b[0;36m.4\u001b[0m\u001b[0;34m,\u001b[0m \u001b[0;36m1000\u001b[0m\u001b[0;34m)\u001b[0m\u001b[0;34m\u001b[0m\u001b[0;34m\u001b[0m\u001b[0m\n\u001b[1;32m      6\u001b[0m \u001b[0;34m\u001b[0m\u001b[0m\n\u001b[0;32m----> 7\u001b[0;31m \u001b[0max3\u001b[0m\u001b[0;34m.\u001b[0m\u001b[0mcontourf\u001b[0m\u001b[0;34m(\u001b[0m\u001b[0mx\u001b[0m\u001b[0;34m,\u001b[0m \u001b[0my\u001b[0m\u001b[0;34m,\u001b[0m \u001b[0;34m(\u001b[0m\u001b[0mx\u001b[0m\u001b[0;34m/\u001b[0m\u001b[0;34m(\u001b[0m\u001b[0;36m3.\u001b[0m\u001b[0;34m*\u001b[0m\u001b[0mnp\u001b[0m\u001b[0;34m.\u001b[0m\u001b[0msqrt\u001b[0m\u001b[0;34m(\u001b[0m\u001b[0;36m9.210\u001b[0m\u001b[0;34m)\u001b[0m\u001b[0;34m)\u001b[0m\u001b[0;34m)\u001b[0m\u001b[0;34m**\u001b[0m\u001b[0;36m2\u001b[0m \u001b[0;34m+\u001b[0m \u001b[0;34m(\u001b[0m\u001b[0;34m(\u001b[0m\u001b[0my\u001b[0m\u001b[0;34m)\u001b[0m\u001b[0;34m/\u001b[0m\u001b[0;34m(\u001b[0m\u001b[0;36m1\u001b[0m\u001b[0;34m*\u001b[0m\u001b[0mnp\u001b[0m\u001b[0;34m.\u001b[0m\u001b[0msqrt\u001b[0m\u001b[0;34m(\u001b[0m\u001b[0;36m9.210\u001b[0m\u001b[0;34m)\u001b[0m\u001b[0;34m)\u001b[0m\u001b[0;34m)\u001b[0m\u001b[0;34m)\u001b[0m\u001b[0;34m\u001b[0m\u001b[0;34m\u001b[0m\u001b[0m\n\u001b[0m\u001b[1;32m      8\u001b[0m \u001b[0;34m\u001b[0m\u001b[0m\n\u001b[1;32m      9\u001b[0m ax3.tick_params(direction='in',\n",
      "\u001b[0;32m~/.installs/anaconda3/lib/python3.7/site-packages/matplotlib/__init__.py\u001b[0m in \u001b[0;36minner\u001b[0;34m(ax, data, *args, **kwargs)\u001b[0m\n\u001b[1;32m   1587\u001b[0m     \u001b[0;32mdef\u001b[0m \u001b[0minner\u001b[0m\u001b[0;34m(\u001b[0m\u001b[0max\u001b[0m\u001b[0;34m,\u001b[0m \u001b[0;34m*\u001b[0m\u001b[0margs\u001b[0m\u001b[0;34m,\u001b[0m \u001b[0mdata\u001b[0m\u001b[0;34m=\u001b[0m\u001b[0;32mNone\u001b[0m\u001b[0;34m,\u001b[0m \u001b[0;34m**\u001b[0m\u001b[0mkwargs\u001b[0m\u001b[0;34m)\u001b[0m\u001b[0;34m:\u001b[0m\u001b[0;34m\u001b[0m\u001b[0;34m\u001b[0m\u001b[0m\n\u001b[1;32m   1588\u001b[0m         \u001b[0;32mif\u001b[0m \u001b[0mdata\u001b[0m \u001b[0;32mis\u001b[0m \u001b[0;32mNone\u001b[0m\u001b[0;34m:\u001b[0m\u001b[0;34m\u001b[0m\u001b[0;34m\u001b[0m\u001b[0m\n\u001b[0;32m-> 1589\u001b[0;31m             \u001b[0;32mreturn\u001b[0m \u001b[0mfunc\u001b[0m\u001b[0;34m(\u001b[0m\u001b[0max\u001b[0m\u001b[0;34m,\u001b[0m \u001b[0;34m*\u001b[0m\u001b[0mmap\u001b[0m\u001b[0;34m(\u001b[0m\u001b[0msanitize_sequence\u001b[0m\u001b[0;34m,\u001b[0m \u001b[0margs\u001b[0m\u001b[0;34m)\u001b[0m\u001b[0;34m,\u001b[0m \u001b[0;34m**\u001b[0m\u001b[0mkwargs\u001b[0m\u001b[0;34m)\u001b[0m\u001b[0;34m\u001b[0m\u001b[0;34m\u001b[0m\u001b[0m\n\u001b[0m\u001b[1;32m   1590\u001b[0m \u001b[0;34m\u001b[0m\u001b[0m\n\u001b[1;32m   1591\u001b[0m         \u001b[0mbound\u001b[0m \u001b[0;34m=\u001b[0m \u001b[0mnew_sig\u001b[0m\u001b[0;34m.\u001b[0m\u001b[0mbind\u001b[0m\u001b[0;34m(\u001b[0m\u001b[0max\u001b[0m\u001b[0;34m,\u001b[0m \u001b[0;34m*\u001b[0m\u001b[0margs\u001b[0m\u001b[0;34m,\u001b[0m \u001b[0;34m**\u001b[0m\u001b[0mkwargs\u001b[0m\u001b[0;34m)\u001b[0m\u001b[0;34m\u001b[0m\u001b[0;34m\u001b[0m\u001b[0m\n",
      "\u001b[0;32m~/.installs/anaconda3/lib/python3.7/site-packages/matplotlib/axes/_axes.py\u001b[0m in \u001b[0;36mcontourf\u001b[0;34m(self, *args, **kwargs)\u001b[0m\n\u001b[1;32m   6406\u001b[0m     \u001b[0;32mdef\u001b[0m \u001b[0mcontourf\u001b[0m\u001b[0;34m(\u001b[0m\u001b[0mself\u001b[0m\u001b[0;34m,\u001b[0m \u001b[0;34m*\u001b[0m\u001b[0margs\u001b[0m\u001b[0;34m,\u001b[0m \u001b[0;34m**\u001b[0m\u001b[0mkwargs\u001b[0m\u001b[0;34m)\u001b[0m\u001b[0;34m:\u001b[0m\u001b[0;34m\u001b[0m\u001b[0;34m\u001b[0m\u001b[0m\n\u001b[1;32m   6407\u001b[0m         \u001b[0mkwargs\u001b[0m\u001b[0;34m[\u001b[0m\u001b[0;34m'filled'\u001b[0m\u001b[0;34m]\u001b[0m \u001b[0;34m=\u001b[0m \u001b[0;32mTrue\u001b[0m\u001b[0;34m\u001b[0m\u001b[0;34m\u001b[0m\u001b[0m\n\u001b[0;32m-> 6408\u001b[0;31m         \u001b[0mcontours\u001b[0m \u001b[0;34m=\u001b[0m \u001b[0mmcontour\u001b[0m\u001b[0;34m.\u001b[0m\u001b[0mQuadContourSet\u001b[0m\u001b[0;34m(\u001b[0m\u001b[0mself\u001b[0m\u001b[0;34m,\u001b[0m \u001b[0;34m*\u001b[0m\u001b[0margs\u001b[0m\u001b[0;34m,\u001b[0m \u001b[0;34m**\u001b[0m\u001b[0mkwargs\u001b[0m\u001b[0;34m)\u001b[0m\u001b[0;34m\u001b[0m\u001b[0;34m\u001b[0m\u001b[0m\n\u001b[0m\u001b[1;32m   6409\u001b[0m         \u001b[0mself\u001b[0m\u001b[0;34m.\u001b[0m\u001b[0mautoscale_view\u001b[0m\u001b[0;34m(\u001b[0m\u001b[0;34m)\u001b[0m\u001b[0;34m\u001b[0m\u001b[0;34m\u001b[0m\u001b[0m\n\u001b[1;32m   6410\u001b[0m         \u001b[0;32mreturn\u001b[0m \u001b[0mcontours\u001b[0m\u001b[0;34m\u001b[0m\u001b[0;34m\u001b[0m\u001b[0m\n",
      "\u001b[0;32m~/.installs/anaconda3/lib/python3.7/site-packages/matplotlib/contour.py\u001b[0m in \u001b[0;36m__init__\u001b[0;34m(self, ax, levels, filled, linewidths, linestyles, alpha, origin, extent, cmap, colors, norm, vmin, vmax, extend, antialiased, *args, **kwargs)\u001b[0m\n\u001b[1;32m    853\u001b[0m         \u001b[0mself\u001b[0m\u001b[0;34m.\u001b[0m\u001b[0m_transform\u001b[0m \u001b[0;34m=\u001b[0m \u001b[0mkwargs\u001b[0m\u001b[0;34m.\u001b[0m\u001b[0mpop\u001b[0m\u001b[0;34m(\u001b[0m\u001b[0;34m'transform'\u001b[0m\u001b[0;34m,\u001b[0m \u001b[0;32mNone\u001b[0m\u001b[0;34m)\u001b[0m\u001b[0;34m\u001b[0m\u001b[0;34m\u001b[0m\u001b[0m\n\u001b[1;32m    854\u001b[0m \u001b[0;34m\u001b[0m\u001b[0m\n\u001b[0;32m--> 855\u001b[0;31m         \u001b[0mkwargs\u001b[0m \u001b[0;34m=\u001b[0m \u001b[0mself\u001b[0m\u001b[0;34m.\u001b[0m\u001b[0m_process_args\u001b[0m\u001b[0;34m(\u001b[0m\u001b[0;34m*\u001b[0m\u001b[0margs\u001b[0m\u001b[0;34m,\u001b[0m \u001b[0;34m**\u001b[0m\u001b[0mkwargs\u001b[0m\u001b[0;34m)\u001b[0m\u001b[0;34m\u001b[0m\u001b[0;34m\u001b[0m\u001b[0m\n\u001b[0m\u001b[1;32m    856\u001b[0m         \u001b[0mself\u001b[0m\u001b[0;34m.\u001b[0m\u001b[0m_process_levels\u001b[0m\u001b[0;34m(\u001b[0m\u001b[0;34m)\u001b[0m\u001b[0;34m\u001b[0m\u001b[0;34m\u001b[0m\u001b[0m\n\u001b[1;32m    857\u001b[0m \u001b[0;34m\u001b[0m\u001b[0m\n",
      "\u001b[0;32m~/.installs/anaconda3/lib/python3.7/site-packages/matplotlib/contour.py\u001b[0m in \u001b[0;36m_process_args\u001b[0;34m(self, *args, **kwargs)\u001b[0m\n\u001b[1;32m   1454\u001b[0m                 \u001b[0mself\u001b[0m\u001b[0;34m.\u001b[0m\u001b[0m_corner_mask\u001b[0m \u001b[0;34m=\u001b[0m \u001b[0mmpl\u001b[0m\u001b[0;34m.\u001b[0m\u001b[0mrcParams\u001b[0m\u001b[0;34m[\u001b[0m\u001b[0;34m'contour.corner_mask'\u001b[0m\u001b[0;34m]\u001b[0m\u001b[0;34m\u001b[0m\u001b[0;34m\u001b[0m\u001b[0m\n\u001b[1;32m   1455\u001b[0m \u001b[0;34m\u001b[0m\u001b[0m\n\u001b[0;32m-> 1456\u001b[0;31m             \u001b[0mx\u001b[0m\u001b[0;34m,\u001b[0m \u001b[0my\u001b[0m\u001b[0;34m,\u001b[0m \u001b[0mz\u001b[0m \u001b[0;34m=\u001b[0m \u001b[0mself\u001b[0m\u001b[0;34m.\u001b[0m\u001b[0m_contour_args\u001b[0m\u001b[0;34m(\u001b[0m\u001b[0margs\u001b[0m\u001b[0;34m,\u001b[0m \u001b[0mkwargs\u001b[0m\u001b[0;34m)\u001b[0m\u001b[0;34m\u001b[0m\u001b[0;34m\u001b[0m\u001b[0m\n\u001b[0m\u001b[1;32m   1457\u001b[0m \u001b[0;34m\u001b[0m\u001b[0m\n\u001b[1;32m   1458\u001b[0m             \u001b[0m_mask\u001b[0m \u001b[0;34m=\u001b[0m \u001b[0mma\u001b[0m\u001b[0;34m.\u001b[0m\u001b[0mgetmask\u001b[0m\u001b[0;34m(\u001b[0m\u001b[0mz\u001b[0m\u001b[0;34m)\u001b[0m\u001b[0;34m\u001b[0m\u001b[0;34m\u001b[0m\u001b[0m\n",
      "\u001b[0;32m~/.installs/anaconda3/lib/python3.7/site-packages/matplotlib/contour.py\u001b[0m in \u001b[0;36m_contour_args\u001b[0;34m(self, args, kwargs)\u001b[0m\n\u001b[1;32m   1512\u001b[0m             \u001b[0margs\u001b[0m \u001b[0;34m=\u001b[0m \u001b[0margs\u001b[0m\u001b[0;34m[\u001b[0m\u001b[0;36m1\u001b[0m\u001b[0;34m:\u001b[0m\u001b[0;34m]\u001b[0m\u001b[0;34m\u001b[0m\u001b[0;34m\u001b[0m\u001b[0m\n\u001b[1;32m   1513\u001b[0m         \u001b[0;32melif\u001b[0m \u001b[0mNargs\u001b[0m \u001b[0;34m<=\u001b[0m \u001b[0;36m4\u001b[0m\u001b[0;34m:\u001b[0m\u001b[0;34m\u001b[0m\u001b[0;34m\u001b[0m\u001b[0m\n\u001b[0;32m-> 1514\u001b[0;31m             \u001b[0mx\u001b[0m\u001b[0;34m,\u001b[0m \u001b[0my\u001b[0m\u001b[0;34m,\u001b[0m \u001b[0mz\u001b[0m \u001b[0;34m=\u001b[0m \u001b[0mself\u001b[0m\u001b[0;34m.\u001b[0m\u001b[0m_check_xyz\u001b[0m\u001b[0;34m(\u001b[0m\u001b[0margs\u001b[0m\u001b[0;34m[\u001b[0m\u001b[0;34m:\u001b[0m\u001b[0;36m3\u001b[0m\u001b[0;34m]\u001b[0m\u001b[0;34m,\u001b[0m \u001b[0mkwargs\u001b[0m\u001b[0;34m)\u001b[0m\u001b[0;34m\u001b[0m\u001b[0;34m\u001b[0m\u001b[0m\n\u001b[0m\u001b[1;32m   1515\u001b[0m             \u001b[0margs\u001b[0m \u001b[0;34m=\u001b[0m \u001b[0margs\u001b[0m\u001b[0;34m[\u001b[0m\u001b[0;36m3\u001b[0m\u001b[0;34m:\u001b[0m\u001b[0;34m]\u001b[0m\u001b[0;34m\u001b[0m\u001b[0;34m\u001b[0m\u001b[0m\n\u001b[1;32m   1516\u001b[0m         \u001b[0;32melse\u001b[0m\u001b[0;34m:\u001b[0m\u001b[0;34m\u001b[0m\u001b[0;34m\u001b[0m\u001b[0m\n",
      "\u001b[0;32m~/.installs/anaconda3/lib/python3.7/site-packages/matplotlib/contour.py\u001b[0m in \u001b[0;36m_check_xyz\u001b[0;34m(self, args, kwargs)\u001b[0m\n\u001b[1;32m   1547\u001b[0m \u001b[0;34m\u001b[0m\u001b[0m\n\u001b[1;32m   1548\u001b[0m         \u001b[0;32mif\u001b[0m \u001b[0mz\u001b[0m\u001b[0;34m.\u001b[0m\u001b[0mndim\u001b[0m \u001b[0;34m!=\u001b[0m \u001b[0;36m2\u001b[0m\u001b[0;34m:\u001b[0m\u001b[0;34m\u001b[0m\u001b[0;34m\u001b[0m\u001b[0m\n\u001b[0;32m-> 1549\u001b[0;31m             \u001b[0;32mraise\u001b[0m \u001b[0mTypeError\u001b[0m\u001b[0;34m(\u001b[0m\u001b[0;34m\"Input z must be a 2D array.\"\u001b[0m\u001b[0;34m)\u001b[0m\u001b[0;34m\u001b[0m\u001b[0;34m\u001b[0m\u001b[0m\n\u001b[0m\u001b[1;32m   1550\u001b[0m         \u001b[0;32melif\u001b[0m \u001b[0mz\u001b[0m\u001b[0;34m.\u001b[0m\u001b[0mshape\u001b[0m\u001b[0;34m[\u001b[0m\u001b[0;36m0\u001b[0m\u001b[0;34m]\u001b[0m \u001b[0;34m<\u001b[0m \u001b[0;36m2\u001b[0m \u001b[0;32mor\u001b[0m \u001b[0mz\u001b[0m\u001b[0;34m.\u001b[0m\u001b[0mshape\u001b[0m\u001b[0;34m[\u001b[0m\u001b[0;36m1\u001b[0m\u001b[0;34m]\u001b[0m \u001b[0;34m<\u001b[0m \u001b[0;36m2\u001b[0m\u001b[0;34m:\u001b[0m\u001b[0;34m\u001b[0m\u001b[0;34m\u001b[0m\u001b[0m\n\u001b[1;32m   1551\u001b[0m             \u001b[0;32mraise\u001b[0m \u001b[0mTypeError\u001b[0m\u001b[0;34m(\u001b[0m\u001b[0;34m\"Input z must be at least a 2x2 array.\"\u001b[0m\u001b[0;34m)\u001b[0m\u001b[0;34m\u001b[0m\u001b[0;34m\u001b[0m\u001b[0m\n",
      "\u001b[0;31mTypeError\u001b[0m: Input z must be a 2D array."
     ]
    },
    {
     "data": {
      "image/png": "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\n",
      "text/plain": [
       "<Figure size 576x360 with 1 Axes>"
      ]
     },
     "metadata": {
      "needs_background": "light"
     },
     "output_type": "display_data"
    }
   ],
   "source": [
    "fig = plt.figure(figsize=[8, 5])\n",
    "ax3 = fig.add_axes([0.1, 0.12, 0.8, 0.8])\n",
    "\n",
    "x = np.linspace(-4, 4, 1000)\n",
    "y = np.linspace(-.4, .4, 1000)\n",
    "\n",
    "ax3.contourf(x, y, (x/(3.*np.sqrt(9.210)))**2 + ((y)/(1*np.sqrt(9.210))))\n",
    "\n",
    "ax3.tick_params(direction='in',\n",
    "                length=5, width=1,\n",
    "                labelsize=15,\n",
    "                top=True, right=True)\n",
    "\n",
    "ax3.set_xlabel(r'$x_1$', fontsize='x-large')\n",
    "ax3.set_ylabel(r'$c$', fontsize='x-large')\n",
    "\n",
    "#ax3.set_xlim(-4, 4)\n",
    "#ax3.set_ylim(-.4, .4)"
   ]
  },
  {
   "cell_type": "code",
   "execution_count": 4,
   "metadata": {},
   "outputs": [
    {
     "ename": "ValueError",
     "evalue": "A LinearRing must have at least 3 coordinate tuples",
     "output_type": "error",
     "traceback": [
      "\u001b[0;31m---------------------------------------------------------------------------\u001b[0m",
      "\u001b[0;31mAttributeError\u001b[0m                            Traceback (most recent call last)",
      "\u001b[0;32m~/.installs/anaconda3/lib/python3.7/site-packages/shapely/speedups/_speedups.pyx\u001b[0m in \u001b[0;36mshapely.speedups._speedups.geos_linearring_from_py\u001b[0;34m()\u001b[0m\n",
      "\u001b[0;31mAttributeError\u001b[0m: 'list' object has no attribute '__array_interface__'",
      "\nDuring handling of the above exception, another exception occurred:\n",
      "\u001b[0;31mValueError\u001b[0m                                Traceback (most recent call last)",
      "\u001b[0;32m<ipython-input-4-22f4dfb76289>\u001b[0m in \u001b[0;36m<module>\u001b[0;34m\u001b[0m\n\u001b[1;32m     34\u001b[0m \u001b[0ma\u001b[0m \u001b[0;34m=\u001b[0m \u001b[0mellipse_polyline\u001b[0m\u001b[0;34m(\u001b[0m\u001b[0mellipses\u001b[0m\u001b[0;34m)\u001b[0m\u001b[0;34m\u001b[0m\u001b[0;34m\u001b[0m\u001b[0m\n\u001b[1;32m     35\u001b[0m \u001b[0mline\u001b[0m\u001b[0;34m=\u001b[0m\u001b[0mLineString\u001b[0m\u001b[0;34m(\u001b[0m\u001b[0;34m[\u001b[0m\u001b[0;34m[\u001b[0m\u001b[0;36m0\u001b[0m\u001b[0;34m,\u001b[0m\u001b[0;36m0\u001b[0m\u001b[0;34m]\u001b[0m\u001b[0;34m,\u001b[0m\u001b[0;34m[\u001b[0m\u001b[0;36m4\u001b[0m\u001b[0;34m,\u001b[0m\u001b[0;36m4\u001b[0m\u001b[0;34m]\u001b[0m\u001b[0;34m]\u001b[0m\u001b[0;34m)\u001b[0m\u001b[0;34m\u001b[0m\u001b[0;34m\u001b[0m\u001b[0m\n\u001b[0;32m---> 36\u001b[0;31m \u001b[0mx\u001b[0m\u001b[0;34m,\u001b[0m \u001b[0my\u001b[0m \u001b[0;34m=\u001b[0m \u001b[0mintersections\u001b[0m\u001b[0;34m(\u001b[0m\u001b[0ma\u001b[0m\u001b[0;34m,\u001b[0m \u001b[0mline\u001b[0m\u001b[0;34m)\u001b[0m\u001b[0;34m\u001b[0m\u001b[0;34m\u001b[0m\u001b[0m\n\u001b[0m\u001b[1;32m     37\u001b[0m \u001b[0mfigure\u001b[0m\u001b[0;34m(\u001b[0m\u001b[0;34m)\u001b[0m\u001b[0;34m\u001b[0m\u001b[0;34m\u001b[0m\u001b[0m\n\u001b[1;32m     38\u001b[0m \u001b[0mplot\u001b[0m\u001b[0;34m(\u001b[0m\u001b[0mx\u001b[0m\u001b[0;34m,\u001b[0m \u001b[0my\u001b[0m\u001b[0;34m,\u001b[0m \u001b[0;34m\"o\"\u001b[0m\u001b[0;34m)\u001b[0m\u001b[0;34m\u001b[0m\u001b[0;34m\u001b[0m\u001b[0m\n",
      "\u001b[0;32m<ipython-input-4-22f4dfb76289>\u001b[0m in \u001b[0;36mintersections\u001b[0;34m(a, line)\u001b[0m\n\u001b[1;32m     19\u001b[0m \u001b[0;34m\u001b[0m\u001b[0m\n\u001b[1;32m     20\u001b[0m \u001b[0;32mdef\u001b[0m \u001b[0mintersections\u001b[0m\u001b[0;34m(\u001b[0m\u001b[0ma\u001b[0m\u001b[0;34m,\u001b[0m \u001b[0mline\u001b[0m\u001b[0;34m)\u001b[0m\u001b[0;34m:\u001b[0m\u001b[0;34m\u001b[0m\u001b[0;34m\u001b[0m\u001b[0m\n\u001b[0;32m---> 21\u001b[0;31m     \u001b[0mea\u001b[0m \u001b[0;34m=\u001b[0m \u001b[0mLinearRing\u001b[0m\u001b[0;34m(\u001b[0m\u001b[0ma\u001b[0m\u001b[0;34m)\u001b[0m\u001b[0;34m\u001b[0m\u001b[0;34m\u001b[0m\u001b[0m\n\u001b[0m\u001b[1;32m     22\u001b[0m     \u001b[0mmp\u001b[0m \u001b[0;34m=\u001b[0m \u001b[0mea\u001b[0m\u001b[0;34m.\u001b[0m\u001b[0mintersection\u001b[0m\u001b[0;34m(\u001b[0m\u001b[0mline\u001b[0m\u001b[0;34m)\u001b[0m\u001b[0;34m\u001b[0m\u001b[0;34m\u001b[0m\u001b[0m\n\u001b[1;32m     23\u001b[0m     \u001b[0;32mif\u001b[0m \u001b[0mmp\u001b[0m\u001b[0;34m.\u001b[0m\u001b[0mis_empty\u001b[0m\u001b[0;34m:\u001b[0m\u001b[0;34m\u001b[0m\u001b[0;34m\u001b[0m\u001b[0m\n",
      "\u001b[0;32m~/.installs/anaconda3/lib/python3.7/site-packages/shapely/geometry/polygon.py\u001b[0m in \u001b[0;36m__init__\u001b[0;34m(self, coordinates)\u001b[0m\n\u001b[1;32m     51\u001b[0m         \u001b[0mBaseGeometry\u001b[0m\u001b[0;34m.\u001b[0m\u001b[0m__init__\u001b[0m\u001b[0;34m(\u001b[0m\u001b[0mself\u001b[0m\u001b[0;34m)\u001b[0m\u001b[0;34m\u001b[0m\u001b[0;34m\u001b[0m\u001b[0m\n\u001b[1;32m     52\u001b[0m         \u001b[0;32mif\u001b[0m \u001b[0mcoordinates\u001b[0m \u001b[0;32mis\u001b[0m \u001b[0;32mnot\u001b[0m \u001b[0;32mNone\u001b[0m\u001b[0;34m:\u001b[0m\u001b[0;34m\u001b[0m\u001b[0;34m\u001b[0m\u001b[0m\n\u001b[0;32m---> 53\u001b[0;31m             \u001b[0mself\u001b[0m\u001b[0;34m.\u001b[0m\u001b[0m_set_coords\u001b[0m\u001b[0;34m(\u001b[0m\u001b[0mcoordinates\u001b[0m\u001b[0;34m)\u001b[0m\u001b[0;34m\u001b[0m\u001b[0;34m\u001b[0m\u001b[0m\n\u001b[0m\u001b[1;32m     54\u001b[0m \u001b[0;34m\u001b[0m\u001b[0m\n\u001b[1;32m     55\u001b[0m     \u001b[0;34m@\u001b[0m\u001b[0mproperty\u001b[0m\u001b[0;34m\u001b[0m\u001b[0;34m\u001b[0m\u001b[0m\n",
      "\u001b[0;32m~/.installs/anaconda3/lib/python3.7/site-packages/shapely/geometry/polygon.py\u001b[0m in \u001b[0;36m_set_coords\u001b[0;34m(self, coordinates)\u001b[0m\n\u001b[1;32m     66\u001b[0m     \u001b[0;32mdef\u001b[0m \u001b[0m_set_coords\u001b[0m\u001b[0;34m(\u001b[0m\u001b[0mself\u001b[0m\u001b[0;34m,\u001b[0m \u001b[0mcoordinates\u001b[0m\u001b[0;34m)\u001b[0m\u001b[0;34m:\u001b[0m\u001b[0;34m\u001b[0m\u001b[0;34m\u001b[0m\u001b[0m\n\u001b[1;32m     67\u001b[0m         \u001b[0mself\u001b[0m\u001b[0;34m.\u001b[0m\u001b[0mempty\u001b[0m\u001b[0;34m(\u001b[0m\u001b[0;34m)\u001b[0m\u001b[0;34m\u001b[0m\u001b[0;34m\u001b[0m\u001b[0m\n\u001b[0;32m---> 68\u001b[0;31m         \u001b[0mret\u001b[0m \u001b[0;34m=\u001b[0m \u001b[0mgeos_linearring_from_py\u001b[0m\u001b[0;34m(\u001b[0m\u001b[0mcoordinates\u001b[0m\u001b[0;34m)\u001b[0m\u001b[0;34m\u001b[0m\u001b[0;34m\u001b[0m\u001b[0m\n\u001b[0m\u001b[1;32m     69\u001b[0m         \u001b[0;32mif\u001b[0m \u001b[0mret\u001b[0m \u001b[0;32mis\u001b[0m \u001b[0;32mnot\u001b[0m \u001b[0;32mNone\u001b[0m\u001b[0;34m:\u001b[0m\u001b[0;34m\u001b[0m\u001b[0;34m\u001b[0m\u001b[0m\n\u001b[1;32m     70\u001b[0m             \u001b[0mself\u001b[0m\u001b[0;34m.\u001b[0m\u001b[0m_geom\u001b[0m\u001b[0;34m,\u001b[0m \u001b[0mself\u001b[0m\u001b[0;34m.\u001b[0m\u001b[0m_ndim\u001b[0m \u001b[0;34m=\u001b[0m \u001b[0mret\u001b[0m\u001b[0;34m\u001b[0m\u001b[0;34m\u001b[0m\u001b[0m\n",
      "\u001b[0;32m~/.installs/anaconda3/lib/python3.7/site-packages/shapely/speedups/_speedups.pyx\u001b[0m in \u001b[0;36mshapely.speedups._speedups.geos_linearring_from_py\u001b[0;34m()\u001b[0m\n",
      "\u001b[0;31mValueError\u001b[0m: A LinearRing must have at least 3 coordinate tuples"
     ]
    }
   ],
   "source": [
    "from pylab import *\n",
    "import numpy as np\n",
    "from shapely.geometry.polygon import LinearRing\n",
    "from shapely.geometry import LineString\n",
    "def ellipse_polyline(ellipses, n=100):\n",
    "    t = np.linspace(0, 2*np.pi, n, endpoint=False)\n",
    "    st = np.sin(t)\n",
    "    ct = np.cos(t)\n",
    "    result = []\n",
    "    for x0, y0, a, b, angle in ellipses:\n",
    "        angle = np.deg2rad(angle)\n",
    "        sa = np.sin(angle)\n",
    "        ca = np.cos(angle)\n",
    "        p = np.empty((n, 2))\n",
    "        p[:, 0] = x0 + a * ca * ct - b * sa * st\n",
    "        p[:, 1] = y0 + a * sa * ct + b * ca * st\n",
    "        result.append(p)\n",
    "    return result\n",
    "\n",
    "def intersections(a, line):\n",
    "    ea = LinearRing(a)\n",
    "    mp = ea.intersection(line)\n",
    "    if mp.is_empty:\n",
    "        print('Geometries do not intersect')\n",
    "        return [], []\n",
    "    elif mp.geom_type == 'Point':\n",
    "        return [mp.x], [mp.y]\n",
    "    elif mp.geom_type == 'MultiPoint':\n",
    "        return [p.x for p in mp], [p.y for p in mp]\n",
    "    else:\n",
    "        raise ValueError('something unexpected: ' + mp.geom_type)\n",
    "\n",
    "ellipses = [(1, 1, 2, 1, 45)]\n",
    "a = ellipse_polyline(ellipses)\n",
    "line=LineString([[0,0],[4,4]])\n",
    "x, y = intersections(a, line)\n",
    "figure()\n",
    "plot(x, y, \"o\")\n",
    "plot(a[:,0], a[:,1])\n",
    "plot(b[:,0], b[:,1])\n",
    "show()"
   ]
  },
  {
   "cell_type": "code",
   "execution_count": null,
   "metadata": {},
   "outputs": [],
   "source": []
  }
 ],
 "metadata": {
  "kernelspec": {
   "display_name": "Python 3",
   "language": "python",
   "name": "python3"
  },
  "language_info": {
   "codemirror_mode": {
    "name": "ipython",
    "version": 3
   },
   "file_extension": ".py",
   "mimetype": "text/x-python",
   "name": "python",
   "nbconvert_exporter": "python",
   "pygments_lexer": "ipython3",
   "version": "3.7.3"
  }
 },
 "nbformat": 4,
 "nbformat_minor": 4
}
