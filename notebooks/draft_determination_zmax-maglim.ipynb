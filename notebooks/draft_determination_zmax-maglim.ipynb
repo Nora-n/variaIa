{
 "cells": [
  {
   "cell_type": "markdown",
   "metadata": {},
   "source": [
    "## Modules à importer"
   ]
  },
  {
   "cell_type": "code",
   "execution_count": 1,
   "metadata": {},
   "outputs": [],
   "source": [
    "import math\n",
    "import scipy\n",
    "import pickle\n",
    "import sncosmo\n",
    "import numpy as np\n",
    "import pandas as pd\n",
    "import iminuit as im\n",
    "import ipywidgets as ipw\n",
    "from importlib import reload\n",
    "from variaIa import baserate\n",
    "from variaIa import stretchevol\n",
    "from scipy.stats import poisson\n",
    "import scipy.integrate as integrate\n",
    "from scipy.interpolate import interp1d\n",
    "from astropy.cosmology import Planck15\n",
    "import matplotlib.pyplot as plt\n",
    "import random"
   ]
  },
  {
   "cell_type": "markdown",
   "metadata": {},
   "source": [
    "## Définitions et sélection de l'échantillon à utiliser"
   ]
  },
  {
   "cell_type": "code",
   "execution_count": 2,
   "metadata": {
    "jupyter": {
     "source_hidden": true
    }
   },
   "outputs": [
    {
     "data": {
      "application/vnd.jupyter.widget-view+json": {
       "model_id": "65086ad86c204fae874d617a8d34d41b",
       "version_major": 2,
       "version_minor": 0
      },
      "text/plain": [
       "interactive(children=(Dropdown(description='Survey:', index=2, options=('SNF', 'SDSS', 'PS1', 'SNLS', 'HST'), …"
      ]
     },
     "metadata": {},
     "output_type": "display_data"
    }
   ],
   "source": [
    "d = pd.read_csv('../Data/data_cheat.csv', sep=' ', index_col='CID')\n",
    "d_snf = pd.read_csv('../Data/lssfr_paper_full_sntable.csv', sep=',')\n",
    "\n",
    "surveys = ['SNF', 'SDSS', 'PS1', 'SNLS', 'HST']\n",
    "\n",
    "su = ipw.Dropdown(options=surveys,\n",
    "                  description='Survey:',\n",
    "                  value='PS1')\n",
    "\n",
    "surv = {'SNF':  d_snf,\n",
    "        'SDSS': d[d['IDSURVEY'] == 1],\n",
    "        'PS1':  d[d['IDSURVEY'] == 15],\n",
    "        'SNLS': d[d['IDSURVEY'] == 4],\n",
    "        'HST':  d[d['IDSURVEY'].isin([101, 100, 106])]}\n",
    "\n",
    "# .loc[d_snf['name'].str.contains('SNF|LSQ|PTF',na=False,regex=True)]\n",
    "\n",
    "colors = {'SNF': 'orange',\n",
    "          'SDSS': 'lime',\n",
    "          'PS1': 'blue',\n",
    "          'SNLS': 'red',\n",
    "          'HST': 'purple'}\n",
    "\n",
    "def set_data(su):\n",
    "    global dataz, datax\n",
    "    if su == 'SNF':\n",
    "        dataz = np.sort(surv[su]['host.zcmb'].values)\n",
    "    else:\n",
    "        dataz = np.sort(surv[su].zCMB.values)\n",
    "    \n",
    "int_data = ipw.interactive(set_data, su=su)\n",
    "display(int_data)"
   ]
  },
  {
   "cell_type": "markdown",
   "metadata": {},
   "source": [
    "# Détermination des $z_{\\text{max}}$ _via_ SNcosmo"
   ]
  },
  {
   "cell_type": "code",
   "execution_count": 3,
   "metadata": {},
   "outputs": [],
   "source": [
    "model = sncosmo.Model(source=\"salt2\")\n",
    "model.set(z=.1, t0=55000., x1=1., c=0.1)\n",
    "model.cosmo = Planck15\n",
    "model.set_source_peakabsmag(-19.3, 'bessellb', 'ab', 1.0, Planck15)"
   ]
  },
  {
   "cell_type": "code",
   "execution_count": 4,
   "metadata": {},
   "outputs": [
    {
     "data": {
      "text/plain": [
       "array([-18.69176037, -19.20817641, -17.71643999])"
      ]
     },
     "execution_count": 4,
     "metadata": {},
     "output_type": "execute_result"
    }
   ],
   "source": [
    "model.bandmag('bessellb', 'ab', [54990., 55000., 55020.]) - model.cosmo.distmod(model['z']).value"
   ]
  },
  {
   "cell_type": "code",
   "execution_count": 5,
   "metadata": {},
   "outputs": [
    {
     "data": {
      "text/plain": [
       "38.38500782579381"
      ]
     },
     "execution_count": 5,
     "metadata": {},
     "output_type": "execute_result"
    }
   ],
   "source": [
    "Planck15.distmod(model[\"z\"]).value"
   ]
  },
  {
   "cell_type": "code",
   "execution_count": 6,
   "metadata": {},
   "outputs": [
    {
     "data": {
      "text/plain": [
       "-19.1459702214552"
      ]
     },
     "execution_count": 6,
     "metadata": {},
     "output_type": "execute_result"
    }
   ],
   "source": [
    "model = sncosmo.Model(\"salt2\")\n",
    "model.set(z=0.00000001, t0=55000, c=0., x1=0)\n",
    "model.set_source_peakabsmag(-19.3, \"bessellb\", \"ab\", cosmo=Planck15)\n",
    "model.update({\"c\":0.2})\n",
    "model.bandmag('bessellb', 'ab', model[\"t0\"]-5) - Planck15.distmod(model[\"z\"]).value"
   ]
  },
  {
   "cell_type": "code",
   "execution_count": 10,
   "metadata": {},
   "outputs": [],
   "source": [
    "M_list = []\n",
    "model = sncosmo.Model(\"salt2\")\n",
    "model.set(z=0.00000001, t0=55000, c=0., x1=0)\n",
    "model.set_source_peakabsmag(-19.3, \"bessellb\", \"ab\", cosmo=Planck15)\n",
    "\n",
    "a=3.     #radius on the x-axis\n",
    "b=.3    #radius on the y-axis\n",
    "\n",
    "t = np.linspace(0, 2*np.pi, 100)\n",
    "\n",
    "data = dict()\n",
    "\n",
    "for i in range(len(t)):\n",
    "    data[i] = {'c': b*np.sin(t)[i],\n",
    "                  'x1': a*np.cos(t)[i]}\n",
    "    model.update(data[i])\n",
    "    data[i]['M'] = model.bandmag('bessellb', 'ab', model[\"t0\"]-5) - Planck15.distmod(model[\"z\"]).value"
   ]
  },
  {
   "cell_type": "code",
   "execution_count": 11,
   "metadata": {},
   "outputs": [],
   "source": [
    "df = pd.DataFrame(data).T\n",
    "df['M_eff'] = df['M']-0.141*df['x1']+3.15*df['c']"
   ]
  },
  {
   "cell_type": "code",
   "execution_count": 12,
   "metadata": {},
   "outputs": [
    {
     "data": {
      "image/png": "[encoded data removed]",
      "text/plain": [
       "<Figure size 576x360 with 2 Axes>"
      ]
     },
     "metadata": {
      "needs_background": "light"
     },
     "output_type": "display_data"
    }
   ],
   "source": [
    "fig = plt.figure(figsize=[8, 5])\n",
    "ax = fig.add_axes([0.1, 0.12, 0.8, 0.8])\n",
    "\n",
    "ts = ax.scatter(df['x1'],\n",
    "                df['c'],\n",
    "                marker='o',\n",
    "                cmap='viridis',\n",
    "                c=df['M_eff'], edgecolors=\"None\",\n",
    "                s=20,\n",
    "                zorder=2)\n",
    "\n",
    "fig.colorbar(ts, label=r'$M$ (mag)')\n",
    "\n",
    "for survey in surveys[1:-1]:\n",
    "    ax.scatter(surv[survey].x1,\n",
    "               surv[survey].c,\n",
    "               marker='o',\n",
    "               fc=plt.cm.binary(.5, .5),\n",
    "               edgecolors=\"k\",\n",
    "               lw=.5,\n",
    "               s=80,\n",
    "               zorder=2)\n",
    "    ax.errorbar(surv[survey].x1,\n",
    "                surv[survey].c,\n",
    "                xerr=surv[survey].x1ERR,\n",
    "                yerr=surv[survey].cERR,\n",
    "                marker='None',\n",
    "                ls=\"None\",\n",
    "                zorder=1,\n",
    "                ecolor=\".7\")\n",
    "\n",
    "ax.tick_params(direction='in',\n",
    "               length=5, width=1,\n",
    "               labelsize=15,\n",
    "               top=True, right=True)\n",
    "\n",
    "ax.set_xlabel(r'SALT2.4 $x_1$', fontsize='large')\n",
    "ax.set_ylabel(r'SALT2.4 $c$', fontsize='large')\n",
    "\n",
    "ax.set_xlim(-4, 4)\n",
    "ax.set_ylim(-.4, .4)\n",
    "\n",
    "# plt.legend(ncol=1, loc='upper left', fontsize='x-large')\n",
    "fig=plt.gcf()\n",
    "#fig.savefig('/home/nora/Documents/Thèse/Images/ellipse_zmax_PS1.pdf')"
   ]
  },
  {
   "cell_type": "code",
   "execution_count": null,
   "metadata": {},
   "outputs": [],
   "source": [
    "df.sort_values('M_eff', ascending=False).iloc[0]['M_eff']"
   ]
  },
  {
   "cell_type": "code",
   "execution_count": null,
   "metadata": {},
   "outputs": [],
   "source": [
    "21.8-df.sort_values('M_eff', ascending=False).iloc[0]['M_eff']"
   ]
  },
  {
   "cell_type": "code",
   "execution_count": null,
   "metadata": {},
   "outputs": [],
   "source": [
    "Planck15.distmod(0.18)"
   ]
  },
  {
   "cell_type": "code",
   "execution_count": null,
   "metadata": {},
   "outputs": [],
   "source": [
    "with open('../Data/zmax_spec_result', 'rb') as f:\n",
    "    z_lins, meds, stds, z_max, itsc = pickle.load(f)"
   ]
  },
  {
   "cell_type": "code",
   "execution_count": null,
   "metadata": {},
   "outputs": [],
   "source": [
    "z_max"
   ]
  },
  {
   "cell_type": "code",
   "execution_count": null,
   "metadata": {},
   "outputs": [],
   "source": [
    "from scipy import optimize"
   ]
  },
  {
   "cell_type": "code",
   "execution_count": null,
   "metadata": {},
   "outputs": [],
   "source": [
    "def find_zmax(mag_lim, magabs_lim=-18.):\n",
    "    return(find_z(mag_lim - magabs_lim))\n",
    "\n",
    "def find_z(distmod, cosmo=None):\n",
    "    if cosmo is None:\n",
    "        from astropy.cosmology import Planck15\n",
    "        cosmo = Planck15\n",
    "    return(optimize.fmin(lambda z: np.abs(cosmo.distmod(z).value - distmod), 0.1, disp=0))"
   ]
  },
  {
   "cell_type": "code",
   "execution_count": null,
   "metadata": {},
   "outputs": [],
   "source": [
    "find_zmax(24.5)"
   ]
  },
  {
   "cell_type": "code",
   "execution_count": 4,
   "metadata": {},
   "outputs": [],
   "source": [
    "bp = sncosmo.get_bandpass('bessellb')"
   ]
  },
  {
   "cell_type": "code",
   "execution_count": 5,
   "metadata": {},
   "outputs": [
    {
     "data": {
      "text/plain": [
       "5700.204554795735"
      ]
     },
     "execution_count": 5,
     "metadata": {},
     "output_type": "execute_result"
    }
   ],
   "source": [
    "bp.wave_eff*1.3"
   ]
  },
  {
   "cell_type": "code",
   "execution_count": 6,
   "metadata": {},
   "outputs": [
    {
     "name": "stdout",
     "output_type": "stream",
     "text": [
      "Downloading http://sncosmo.github.io/data/bandpasses/sdss/sdss_r.dat [Done]\n"
     ]
    },
    {
     "data": {
      "text/plain": [
       "6186.798254522246"
      ]
     },
     "execution_count": 6,
     "metadata": {},
     "output_type": "execute_result"
    }
   ],
   "source": [
    "sncosmo.get_bandpass('sdssr').wave_eff"
   ]
  }
 ],
 "metadata": {
  "kernelspec": {
   "display_name": "Python 3",
   "language": "python",
   "name": "python3"
  },
  "language_info": {
   "codemirror_mode": {
    "name": "ipython",
    "version": 3
   },
   "file_extension": ".py",
   "mimetype": "text/x-python",
   "name": "python",
   "nbconvert_exporter": "python",
   "pygments_lexer": "ipython3",
   "version": "3.7.3"
  }
 },
 "nbformat": 4,
 "nbformat_minor": 4
}
