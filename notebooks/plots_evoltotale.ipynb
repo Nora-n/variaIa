{
 "cells": [
  {
   "cell_type": "markdown",
   "metadata": {},
   "source": [
    "## Modules à importer"
   ]
  },
  {
   "cell_type": "code",
   "execution_count": 3,
   "metadata": {
    "jupyter": {
     "source_hidden": true
    }
   },
   "outputs": [],
   "source": [
    "import math\n",
    "import scipy\n",
    "import numpy as np\n",
    "import pandas as pd\n",
    "import iminuit as im\n",
    "import ipywidgets as ipw\n",
    "from importlib import reload\n",
    "from scipy.stats import poisson\n",
    "from sklearn.cluster import KMeans\n",
    "from variaIa.variaIa import baserate\n",
    "from variaIa.variaIa import stretchevol\n",
    "from astropy.cosmology import Planck15 as cdata\n",
    "from IPython.display import display, Latex\n",
    "import matplotlib.pyplot as plt\n",
    "import random"
   ]
  },
  {
   "cell_type": "markdown",
   "metadata": {},
   "source": [
    "## Définitions pandas, surveys, $z[:z_{\\text{max}}]$, $x_1[:z_{\\text{max}}]$, mean, std et données totales"
   ]
  },
  {
   "cell_type": "code",
   "execution_count": 4,
   "metadata": {
    "jupyter": {
     "source_hidden": true
    }
   },
   "outputs": [],
   "source": [
    "d = pd.read_csv('../Data/data_cheat.csv', sep=' ', index_col = 'CID')\n",
    "d_snf = pd.read_csv('../Data/lssfr_paper_full_sntable.csv',sep=',')\n",
    "\n",
    "surveys = ['SDSS', 'SNLS', 'PS1', 'HST', 'SNF']\n",
    "\n",
    "su = ipw.Dropdown(options=surveys,\n",
    "                  description='Survey:',\n",
    "                  value = 'SNF')\n",
    "\n",
    "surv = {'SDSS': d[d['IDSURVEY'] == 1],\n",
    "        'SNLS': d[d['IDSURVEY'] == 4],\n",
    "        'PS1':  d[d['IDSURVEY'] == 15],\n",
    "        'HST':  d[d['IDSURVEY'].isin([101, 100, 106])],\n",
    "        'SNF':  d_snf}\n",
    "\n",
    "colors = {'SDSS': 'lime',\n",
    "          'SNLS': 'red',\n",
    "          'PS1': 'blue',\n",
    "          'HST': 'purple',\n",
    "          'SNF': 'orange'}\n",
    "\n",
    "zmax = {'SDSS': 0.22,\n",
    "        'SNLS': 0.70,\n",
    "        'PS1': 0.33,\n",
    "        'HST': 10,\n",
    "        'SNF': 10}\n",
    "\n",
    "zmax_cuts = dict()\n",
    "z_zcuts = dict()\n",
    "x1_zcuts = dict()\n",
    "x1_err_zcuts = dict()\n",
    "\n",
    "for survey in surveys[:-1]:\n",
    "    zmax_cuts[survey] = np.where(surv[survey].zCMB.values < zmax[survey])\n",
    "    z_zcuts[survey] = surv[survey].zCMB.values[zmax_cuts[survey]]\n",
    "    x1_zcuts[survey] = surv[survey].x1.values[zmax_cuts[survey]]\n",
    "    x1_err_zcuts[survey] = surv[survey].x1ERR.values[zmax_cuts[survey]]\n",
    "    \n",
    "zmax_cuts['SNF'] = np.where(surv['SNF']['host.zcmb'].values < zmax['SNF'])\n",
    "z_zcuts['SNF'] = surv['SNF']['host.zcmb'].values[zmax_cuts['SNF']]\n",
    "x1_zcuts['SNF'] = surv['SNF']['salt2.X1'].values[zmax_cuts['SNF']]\n",
    "x1_err_zcuts['SNF'] = surv['SNF']['salt2.X1.err'].values[zmax_cuts['SNF']]\n",
    "\n",
    "datax_all = np.concatenate((np.concatenate((np.concatenate((np.concatenate((x1_zcuts['SNF'],\n",
    "                                                                            x1_zcuts['SDSS'])),\n",
    "                                                            x1_zcuts['SNLS'])),\n",
    "                                            x1_zcuts['PS1'])),\n",
    "                            x1_zcuts['HST']))\n",
    "\n",
    "datax_err_all = np.concatenate((np.concatenate((np.concatenate((np.concatenate((x1_err_zcuts['SNF'],\n",
    "                                                                                x1_err_zcuts['SDSS'])),\n",
    "                                                                x1_err_zcuts['SNLS'])),\n",
    "                                                x1_err_zcuts['PS1'])),\n",
    "                                x1_err_zcuts['HST']))\n",
    "\n",
    "dataz_all = np.concatenate((np.concatenate((np.concatenate((np.concatenate((z_zcuts['SNF'],\n",
    "                                                                            z_zcuts['SDSS'])),\n",
    "                                                            z_zcuts['SNLS'])),\n",
    "                                            z_zcuts['PS1'])),\n",
    "                            z_zcuts['HST']))\n",
    "\n",
    "z_mean = dict()\n",
    "z_std = dict()\n",
    "x1_mean = dict()\n",
    "x1_std = dict()\n",
    "\n",
    "for survey in surveys:\n",
    "    z_mean[survey] = np.mean(z_zcuts[survey])\n",
    "    z_std[survey] = np.std(z_zcuts[survey])\n",
    "    x1_mean[survey] = np.mean(x1_zcuts[survey])\n",
    "    x1_std[survey] = np.std(x1_zcuts[survey])\n",
    "\n",
    "z_mean = dict()\n",
    "z_std = dict()\n",
    "x1_mean = dict()\n",
    "x1_std = dict()\n",
    "\n",
    "for survey in surveys:\n",
    "    z_mean[survey] = np.mean(z_zcuts[survey])\n",
    "    z_std[survey] = np.std(z_zcuts[survey])\n",
    "    x1_mean[survey] = np.mean(x1_zcuts[survey])\n",
    "    x1_std[survey] = np.std(x1_zcuts[survey])"
   ]
  },
  {
   "cell_type": "markdown",
   "metadata": {},
   "source": [
    "## Défnition _age-law_ depuis _utilisation-evoldouble-surveys_"
   ]
  },
  {
   "cell_type": "code",
   "execution_count": 5,
   "metadata": {
    "jupyter": {
     "source_hidden": true
    }
   },
   "outputs": [],
   "source": [
    "def age_law(z):\n",
    "    return 0.995806*stretchevol.MockEvol().delta(z) - 0.609263"
   ]
  },
  {
   "cell_type": "markdown",
   "metadata": {},
   "source": [
    "## Utilisation de la classe _stretchevol_ pour le fit double total"
   ]
  },
  {
   "cell_type": "code",
   "execution_count": 10,
   "metadata": {
    "collapsed": true,
    "jupyter": {
     "outputs_hidden": true,
     "source_hidden": true
    }
   },
   "outputs": [],
   "source": [
    "reload(stretchevol)\n",
    "\n",
    "evol3G2M1S = stretchevol.Evol3G2M1S()\n",
    "evol3G2M1S.set_data(dataz_all, datax_all, datax_err_all)\n",
    "\n",
    "evol3G2M1S.minimize(mu_2 = -1)\n",
    "\n",
    "#evol3G2M1S.scatter()\n",
    "\n",
    "#fig=plt.gcf()\n",
    "#fig.savefig('/home/nora/Pictures/BiGaussian.pdf')"
   ]
  },
  {
   "cell_type": "markdown",
   "metadata": {},
   "source": [
    "## Utilisation du _mock_ sur large bande de redshifts"
   ]
  },
  {
   "cell_type": "code",
   "execution_count": 11,
   "metadata": {
    "jupyter": {
     "source_hidden": true
    }
   },
   "outputs": [],
   "source": [
    "evol3G2M1S.param['sigma_2'] = evol3G2M1S.param['sigma_1']\n",
    "\n",
    "def get_stretch_sample(redshift, npoints, shuffle=True):\n",
    "    mock = stretchevol.MockEvol()\n",
    "    mock.set_values(evol3G2M1S.param)\n",
    "    mock.set_data(redshift, npoints)\n",
    "    mock.solver()\n",
    "    mockx = np.concatenate((mock.x1_o,mock.x1_y))\n",
    "    if shuffle:\n",
    "        np.random.shuffle(mockx)\n",
    "    return mockx"
   ]
  },
  {
   "cell_type": "code",
   "execution_count": 12,
   "metadata": {
    "jupyter": {
     "source_hidden": true
    }
   },
   "outputs": [],
   "source": [
    "zz = np.linspace(0, 2.65, 200)\n",
    "x1_z = np.asarray([get_stretch_sample(z_, 100000) for z_ in zz])\n",
    "\n",
    "low_x1 = np.asarray([len(x_[x_<-.5])/len(x_) for x_ in x1_z])"
   ]
  },
  {
   "cell_type": "markdown",
   "metadata": {},
   "source": [
    "## Moyennage sur toutes les données pour plus de points"
   ]
  },
  {
   "cell_type": "markdown",
   "metadata": {},
   "source": [
    "### Définition des bins sur lesquels faire les moyennes"
   ]
  },
  {
   "cell_type": "code",
   "execution_count": 13,
   "metadata": {
    "jupyter": {
     "source_hidden": true
    }
   },
   "outputs": [],
   "source": [
    "def histedges_equalN(x, nbin):\n",
    "    npt = len(x)\n",
    "    return np.interp(np.linspace(0, npt, nbin + 1),\n",
    "                     np.arange(npt),\n",
    "                     np.sort(x))\n",
    "\n",
    "n, bins, patches = plt.hist(dataz_all, histedges_equalN(dataz_all, 6))\n",
    "plt.close()"
   ]
  },
  {
   "cell_type": "markdown",
   "metadata": {},
   "source": [
    "### Tracé des points"
   ]
  },
  {
   "cell_type": "code",
   "execution_count": 15,
   "metadata": {
    "jupyter": {
     "source_hidden": true
    }
   },
   "outputs": [
    {
     "data": {
      "text/plain": [
       "(0.01, 1.4)"
      ]
     },
     "execution_count": 15,
     "metadata": {},
     "output_type": "execute_result"
    },
    {
     "data": {
      "image/png": "[encoded data removed]",
      "text/plain": [
       "<Figure size 640x400 with 1 Axes>"
      ]
     },
     "metadata": {},
     "output_type": "display_data"
    }
   ],
   "source": [
    "fig = plt.figure(figsize=[8, 5])\n",
    "ax = fig.add_axes([0.1, 0.12, 0.8, 0.8])\n",
    "\n",
    "prop = dict(marker=\"o\", ms=10, ecolor=\"0.3\", lw=2, mew=1, mec=\"0.5\", zorder=5)\n",
    "\n",
    "ax.scatter(dataz_all, datax_all, color=\"0.7\")\n",
    "\n",
    "vmap_v = plt.cm.viridis(np.linspace(0, 1, len(bins)))\n",
    "for i in range(len(bins)):\n",
    "    ax.vline(bins[i], color = vmap_v[i])\n",
    "\n",
    "slices = []\n",
    "x1_comp_mean = np.zeros(6)\n",
    "x1_comp_std = np.zeros(6)\n",
    "z_comp_mean = np.zeros(6)\n",
    "z_comp_std = np.zeros(6)\n",
    "\n",
    "for i in range(6):\n",
    "    slices.append(np.where((dataz_all > bins[i]) & (dataz_all <= bins[i+1])))\n",
    "    x1_comp_mean[i] = np.mean(datax_all[slices[i]])\n",
    "    x1_comp_std[i] = np.std(datax_all[slices[i]])\n",
    "    z_comp_mean[i] = np.mean(dataz_all[slices[i]])\n",
    "    z_comp_std[i] = np.std(dataz_all[slices[i]])\n",
    "    \n",
    "vmap_s = plt.cm.viridis(np.linspace(0, 1, 6))\n",
    "for i, c in zip(range(6), vmap_s):\n",
    "   ax.errorbar(z_comp_mean[i], x1_comp_mean[i],\n",
    "               xerr = z_comp_std[i]/np.sqrt(len(dataz_all[slices[i]])),\n",
    "               yerr = x1_comp_std[i]/np.sqrt(len(dataz_all[slices[i]])),\n",
    "               color=vmap_s[i], **prop)\n",
    "\n",
    "zlin = np.linspace(0, 2.65, 1000)\n",
    "\n",
    "ax.plot(zz, np.mean(x1_z, axis=1),\n",
    "        color=\"0.5\", lw=2, zorder=2, label=\"Age model all 1s\")\n",
    "#ax.plot(zz_all, np.mean(x1_z_all, axis=1), color=\"0.7\", zorder=2, label=\"Age model all\")\n",
    "\n",
    "ax.plot(zlin, age_law(zlin),\n",
    "        color=\"0.7\", lw=2, label='Age Model SNF')\n",
    "\n",
    "#ax.plot(zlin, psi(zlin)-0.3,\n",
    "#       color=\"0.5\", lw=2, label='$\\psi(z)$')\n",
    "\n",
    "ax.tick_params(direction = 'in',\n",
    "               length = 5, width = 1,\n",
    "               labelsize = 12,\n",
    "               top = True, right = True)\n",
    "\n",
    "ax.set_xlabel(r\"$\\langle\\mathrm{redshift} \\rangle$ \", fontsize=\"x-large\")\n",
    "ax.set_ylabel(r\"$\\langle\\mathrm{x}_1 \\rangle$ \", fontsize=\"x-large\")\n",
    "\n",
    "plt.legend(ncol=1, loc='center right')\n",
    "\n",
    "#ax.set_ylim(-3, 3)\n",
    "ax.set_ylim(-0.3, 0.4)\n",
    "ax.set_xlim(0.01, 1.4)\n",
    "#ax.set_xscale('log')"
   ]
  },
  {
   "cell_type": "code",
   "execution_count": null,
   "metadata": {},
   "outputs": [],
   "source": []
  }
 ],
 "metadata": {
  "kernelspec": {
   "display_name": "Python 3",
   "language": "python",
   "name": "python3"
  },
  "language_info": {
   "codemirror_mode": {
    "name": "ipython",
    "version": 3
   },
   "file_extension": ".py",
   "mimetype": "text/x-python",
   "name": "python",
   "nbconvert_exporter": "python",
   "pygments_lexer": "ipython3",
   "version": "3.7.3"
  }
 },
 "nbformat": 4,
 "nbformat_minor": 2
}
