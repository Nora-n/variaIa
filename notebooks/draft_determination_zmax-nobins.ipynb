{
 "cells": [
  {
   "cell_type": "markdown",
   "metadata": {},
   "source": [
    "## Modules à importer"
   ]
  },
  {
   "cell_type": "code",
   "execution_count": 2,
   "metadata": {
    "jupyter": {
     "source_hidden": true
    }
   },
   "outputs": [],
   "source": [
    "import math\n",
    "import scipy\n",
    "import pickle\n",
    "import numpy as np\n",
    "import pandas as pd\n",
    "import iminuit as im\n",
    "import ipywidgets as ipw\n",
    "from importlib import reload\n",
    "from scipy.stats import poisson\n",
    "from scipy.optimize import fsolve\n",
    "from variaIa.variaIa import baserate\n",
    "from scipy.interpolate import interp1d\n",
    "from variaIa.variaIa import stretchevol\n",
    "from variaIa.variaIa import ratefitnb\n",
    "from astropy.cosmology import Planck15 as cosmo\n",
    "import matplotlib.pyplot as plt\n",
    "import random"
   ]
  },
  {
   "cell_type": "markdown",
   "metadata": {},
   "source": [
    "## Définitions et sélection de l'échantillon à utiliser"
   ]
  },
  {
   "cell_type": "code",
   "execution_count": 3,
   "metadata": {
    "jupyter": {
     "source_hidden": true
    }
   },
   "outputs": [
    {
     "data": {
      "application/vnd.jupyter.widget-view+json": {
       "model_id": "baabf3120c1244b48dab498d9864b3b9",
       "version_major": 2,
       "version_minor": 0
      },
      "text/plain": [
       "interactive(children=(Dropdown(description='Survey:', index=2, options=('SNF', 'SDSS', 'PS1', 'SNLS', 'HST'), …"
      ]
     },
     "metadata": {},
     "output_type": "display_data"
    }
   ],
   "source": [
    "d = pd.read_csv('../Data/data_cheat.csv', sep=' ', index_col = 'CID')\n",
    "d_snf = pd.read_csv('../Data/lssfr_paper_full_sntable.csv',sep=',')\n",
    "\n",
    "surveys = ['SNF', 'SDSS', 'PS1', 'SNLS', 'HST']\n",
    "\n",
    "su = ipw.Dropdown(options=surveys,\n",
    "                  description='Survey:',\n",
    "                  value = 'PS1')\n",
    "\n",
    "surv = {'SNF':  d_snf,\n",
    "        'SDSS': d[d['IDSURVEY'] == 1],\n",
    "        'PS1':  d[d['IDSURVEY'] == 15],\n",
    "        'SNLS': d[d['IDSURVEY'] == 4],\n",
    "        'HST':  d[d['IDSURVEY'].isin([101, 100, 106])]}\n",
    "\n",
    "# .loc[d_snf['name'].str.contains('SNF|LSQ|PTF',na=False,regex=True)]\n",
    "\n",
    "colors = {'SNF': 'orange',\n",
    "          'SDSS': 'lime',\n",
    "          'PS1': 'blue',\n",
    "          'SNLS': 'red',\n",
    "          'HST': 'purple'}\n",
    "\n",
    "def set_data(su):\n",
    "    global ns_dataz, dataz, ns_datax, datax\n",
    "    if su == 'SNF':\n",
    "        ns_dataz = surv[su]['host.zcmb'].values\n",
    "        dataz = np.sort(ns_dataz)\n",
    "        ns_datax = surv[su]['salt2.X1'].values\n",
    "        datax = np.sort(ns_datax)\n",
    "    else:\n",
    "        ns_dataz = surv[su].zCMB.values\n",
    "        dataz = np.sort(ns_dataz)\n",
    "        ns_datax = surv[su].x1.values\n",
    "        datax = np.sort(ns_datax)\n",
    "    \n",
    "int_data = ipw.interactive(set_data, su = su)\n",
    "display(int_data)"
   ]
  },
  {
   "cell_type": "markdown",
   "metadata": {},
   "source": [
    "## Plot tentative"
   ]
  },
  {
   "cell_type": "code",
   "execution_count": 4,
   "metadata": {},
   "outputs": [],
   "source": [
    "N_sum = np.asarray([i*1 for i in range(1, len(dataz)+1)]).T"
   ]
  },
  {
   "cell_type": "code",
   "execution_count": 5,
   "metadata": {},
   "outputs": [],
   "source": [
    "a = 2.5e-8\n",
    "N_expt = a*cosmo.comoving_volume(dataz).value"
   ]
  },
  {
   "cell_type": "code",
   "execution_count": 7,
   "metadata": {},
   "outputs": [
    {
     "data": {
      "image/png": "[encoded data removed]",
      "text/plain": [
       "<Figure size 576x360 with 1 Axes>"
      ]
     },
     "metadata": {
      "needs_background": "light"
     },
     "output_type": "display_data"
    }
   ],
   "source": [
    "fig = plt.figure(figsize=[8, 5])\n",
    "ax = fig.add_axes([0.1, 0.12, 0.8, 0.8])\n",
    "\n",
    "ax.plot(dataz,\n",
    "        N_sum,\n",
    "        color=colors[su.value],\n",
    "        lw=1.0, label=su.value)\n",
    "\n",
    "ax.plot(dataz,\n",
    "        N_expt,\n",
    "        color='black',\n",
    "        lw=1.0, label='expected')\n",
    "\n",
    "ax.tick_params(direction='in',\n",
    "               length=5, width=1,\n",
    "               labelsize=12,\n",
    "               top=True, right=True)\n",
    "\n",
    "ax.set_xlim(0, np.max(dataz))\n",
    "ax.set_ylim(0, 500)\n",
    "\n",
    "ax.set_xlabel(r'$\\mathrm{redshift}$', fontsize='x-large')\n",
    "ax.set_ylabel(r'$\\mathrm{N}_\\mathrm{SNe\\,Ia}$', fontsize='x-large')\n",
    "                                                                        \n",
    "plt.legend(ncol=1, loc='upper right')\n",
    "                                                                        \n",
    "plt.title(r'$\\mathrm{Evolution\\,\\,of\\,\\,poisson\\,\\,cdf\\,\\,with\\,\\,}$' +\n",
    "          r'$\\mathrm{median\\,\\,for\\,\\,surveys}$',\n",
    "          fontsize='x-large')\n",
    "\n",
    "plt.show()"
   ]
  },
  {
   "cell_type": "code",
   "execution_count": 176,
   "metadata": {},
   "outputs": [
    {
     "data": {
      "text/plain": [
       "array([  1,   2,   3,   4,   5,   6,   7,   8,   9,  10,  11,  12,  13,\n",
       "        14,  15,  16,  17,  18,  19,  20,  21,  22,  23,  24,  25,  26,\n",
       "        27,  28,  29,  30,  31,  32,  33,  34,  35,  36,  37,  38,  39,\n",
       "        40,  41,  42,  43,  44,  45,  46,  47,  48,  49,  50,  51,  52,\n",
       "        53,  54,  55,  56,  57,  58,  59,  60,  61,  62,  63,  64,  65,\n",
       "        66,  67,  68,  69,  70,  71,  72,  73,  74,  75,  76,  77,  78,\n",
       "        79,  80,  81,  82,  83,  84,  85,  86,  87,  88,  89,  90,  91,\n",
       "        92,  93,  94,  95,  96,  97,  98,  99, 100, 101, 102, 103, 104,\n",
       "       105, 106, 107, 108, 109, 110, 111, 112, 113, 114, 115, 116, 117,\n",
       "       118, 119, 120, 121, 122, 123, 124, 125, 126, 127, 128, 129, 130,\n",
       "       131, 132, 133, 134, 135, 136, 137, 138, 139, 140, 141, 142, 143,\n",
       "       144, 145, 146, 147])"
      ]
     },
     "execution_count": 176,
     "metadata": {},
     "output_type": "execute_result"
    }
   ],
   "source": [
    "test.get_cuts(.3)[1]"
   ]
  },
  {
   "cell_type": "code",
   "execution_count": 175,
   "metadata": {},
   "outputs": [
    {
     "data": {
      "text/plain": [
       "array([1.63956685e-01, 2.80143225e-01, 8.66424488e-01, 1.10833898e+00,\n",
       "       1.42929324e+00, 2.29505446e+00, 2.43502819e+00, 3.03802640e+00,\n",
       "       3.12770452e+00, 3.43452049e+00, 3.70232375e+00, 4.32591366e+00,\n",
       "       4.75479190e+00, 6.12481367e+00, 6.32754989e+00, 6.59757069e+00,\n",
       "       7.56684707e+00, 8.30244571e+00, 8.54926166e+00, 9.00543733e+00,\n",
       "       9.03123292e+00, 9.21314532e+00, 9.90959093e+00, 1.03546551e+01,\n",
       "       1.11051478e+01, 1.39382092e+01, 1.41788875e+01, 1.45976889e+01,\n",
       "       1.51323065e+01, 1.57532833e+01, 1.92305234e+01, 2.03444903e+01,\n",
       "       2.07395250e+01, 2.17713401e+01, 2.19540781e+01, 2.23224997e+01,\n",
       "       2.30711857e+01, 2.42240831e+01, 2.50626279e+01, 2.57162448e+01,\n",
       "       2.62263772e+01, 2.72659589e+01, 2.77422294e+01, 2.77954741e+01,\n",
       "       2.88741165e+01, 3.12253959e+01, 3.26221056e+01, 3.33351266e+01,\n",
       "       3.38159428e+01, 3.88683827e+01, 4.02019949e+01, 4.05398707e+01,\n",
       "       4.12210157e+01, 4.17711259e+01, 4.47355751e+01, 4.58256727e+01,\n",
       "       4.58256727e+01, 4.68581310e+01, 4.68581310e+01, 4.70068148e+01,\n",
       "       4.70068148e+01, 4.73050769e+01, 5.03536870e+01, 5.38472680e+01,\n",
       "       5.51545007e+01, 5.91095756e+01, 6.13720175e+01, 6.21676548e+01,\n",
       "       6.23453385e+01, 6.25233412e+01, 6.32385441e+01, 6.32385441e+01,\n",
       "       6.71707804e+01, 7.05781027e+01, 7.08668271e+01, 7.22239864e+01,\n",
       "       7.26147107e+01, 7.64937199e+01, 7.86349280e+01, 8.17581209e+01,\n",
       "       8.34549651e+01, 8.34549651e+01, 8.60411177e+01, 8.71332288e+01,\n",
       "       8.79028173e+01, 8.81234741e+01, 9.18141880e+01, 9.27231248e+01,\n",
       "       9.37523402e+01, 9.39820141e+01, 9.39820141e+01, 9.52514692e+01,\n",
       "       9.72342062e+01, 9.87675612e+01, 1.01155705e+02, 1.03579320e+02,\n",
       "       1.04558737e+02, 1.05050588e+02, 1.05791046e+02, 1.06410555e+02,\n",
       "       1.07032305e+02, 1.08282536e+02, 1.11064731e+02, 1.11831095e+02,\n",
       "       1.12215499e+02, 1.16235515e+02, 1.16235515e+02, 1.16760600e+02,\n",
       "       1.17815154e+02, 1.17947384e+02, 1.18344625e+02, 1.21552264e+02,\n",
       "       1.22362447e+02, 1.29803912e+02, 1.32060861e+02, 1.32486703e+02,\n",
       "       1.35923804e+02, 1.36791535e+02, 1.37371905e+02, 1.38245288e+02,\n",
       "       1.43109723e+02, 1.44304531e+02, 1.46108161e+02, 1.47166616e+02,\n",
       "       1.47318206e+02, 1.47925520e+02, 1.53460286e+02, 1.53615806e+02,\n",
       "       1.54082942e+02, 1.61194227e+02, 1.62318053e+02, 1.68502064e+02,\n",
       "       1.70484215e+02, 1.70815945e+02, 1.71148067e+02, 1.76177063e+02,\n",
       "       1.77533095e+02, 1.78554266e+02, 1.79407958e+02, 1.81811457e+02,\n",
       "       1.82847473e+02, 1.83020489e+02, 1.83020489e+02, 1.87905297e+02,\n",
       "       1.93583640e+02, 1.93583640e+02, 1.95019233e+02])"
      ]
     },
     "execution_count": 175,
     "metadata": {},
     "output_type": "execute_result"
    }
   ],
   "source": [
    "test.get_ratemodel(test.get_cuts(.3)[0], 2.5)"
   ]
  },
  {
   "cell_type": "code",
   "execution_count": 18,
   "metadata": {},
   "outputs": [],
   "source": [
    "reload(ratefitnb)\n",
    "\n",
    "test = ratefitnb.RateFit()\n",
    "test.set_data(dataz)\n",
    "test.set_param([1, .3])\n",
    "test.minimize(limit_a=(2.5, 5), limit_zmax=(.2, .3))"
   ]
  },
  {
   "cell_type": "code",
   "execution_count": 19,
   "metadata": {},
   "outputs": [
    {
     "data": {
      "image/png": "[encoded data removed]",
      "text/plain": [
       "<Figure size 576x360 with 1 Axes>"
      ]
     },
     "metadata": {
      "needs_background": "light"
     },
     "output_type": "display_data"
    }
   ],
   "source": [
    "reload(ratefitnb)\n",
    "\n",
    "test.plot(\"PS1\")"
   ]
  },
  {
   "cell_type": "code",
   "execution_count": 20,
   "metadata": {},
   "outputs": [
    {
     "data": {
      "text/plain": [
       "{'a': 3.6680861328443477, 'zmax': 0.2994857491749853}"
      ]
     },
     "execution_count": 20,
     "metadata": {},
     "output_type": "execute_result"
    }
   ],
   "source": [
    "test.param"
   ]
  },
  {
   "cell_type": "code",
   "execution_count": 21,
   "metadata": {},
   "outputs": [
    {
     "data": {
      "text/plain": [
       "-494023.4171026062"
      ]
     },
     "execution_count": 21,
     "metadata": {},
     "output_type": "execute_result"
    }
   ],
   "source": [
    "test.migrad_out[0]['fval']"
   ]
  },
  {
   "cell_type": "code",
   "execution_count": 23,
   "metadata": {},
   "outputs": [
    {
     "data": {
      "text/plain": [
       "nan"
      ]
     },
     "execution_count": 23,
     "metadata": {},
     "output_type": "execute_result"
    }
   ],
   "source": [
    "test.migrad_out[1][1][3]"
   ]
  },
  {
   "cell_type": "code",
   "execution_count": 24,
   "metadata": {},
   "outputs": [
    {
     "data": {
      "application/vnd.jupyter.widget-view+json": {
       "model_id": "055ad2b84f3449f2bf50a8a82a95ab48",
       "version_major": 2,
       "version_minor": 0
      },
      "text/plain": [
       "interactive(children=(FloatSlider(value=2.5, description='a value:', max=5.0, min=0.5, step=0.01), FloatSlider…"
      ]
     },
     "metadata": {},
     "output_type": "display_data"
    }
   ],
   "source": [
    "a = ipw.FloatSlider(min = .5, max = 5.,\n",
    "                    value = 2.5, step=.01,\n",
    "                    description='a value:',\n",
    "                    continuous_update=True)\n",
    "\n",
    "zmax = ipw.FloatSlider(min = .2, max = .35,\n",
    "                       value = .28, step=.01,\n",
    "                       description='zmax value:',\n",
    "                       continuous_update=True)\n",
    "\n",
    "def get_log(a, zmax):\n",
    "    return(-np.sum((test.get_cuts(zmax)[1]\n",
    "                    - test.get_ratemodel(test.get_cuts(zmax)[0], a))**2))\n",
    "\n",
    "def get_aicc(a, zmax):\n",
    "    k = 2\n",
    "    logl = get_log(a, zmax)\n",
    "    print('Log L = ', -np.sum((test.get_cuts(zmax)[1]\n",
    "                               - test.get_ratemodel(test.get_cuts(zmax)[0], a))**2))\n",
    "    print('AICc = ', 2*k + logl + (2*k*(k+1))/(len(test.get_cuts(zmax)[0])-k-1))\n",
    "\n",
    "    fig = plt.figure(figsize=[8, 5])\n",
    "    ax = fig.add_axes([0.1, 0.12, 0.8, 0.8])\n",
    "\n",
    "    ax.plot(test.data,\n",
    "            test.counts,\n",
    "            color='blue',\n",
    "            lw=1.0, label=\"PS1\")\n",
    "\n",
    "    ax.plot(test.data,\n",
    "            test.get_ratemodel(test.data, a),\n",
    "            color='black',\n",
    "            lw=1.0, label='expected')\n",
    "\n",
    "    ax.vline(zmax,\n",
    "             color=\".3\",\n",
    "             lw=1.0, label=\"zmax\")\n",
    "    \n",
    "    \n",
    "    ax.tick_params(direction='in',\n",
    "                   length=5, width=1,\n",
    "                   labelsize=12,\n",
    "                   top=True, right=True)\n",
    "\n",
    "    ax.set_xlim(0, np.max(test.data))\n",
    "    ax.set_ylim(0, 500)\n",
    "\n",
    "    ax.set_xlabel(r'$\\mathrm{redshift}$', fontsize='x-large')\n",
    "    ax.set_ylabel(r'$\\mathrm{N}_\\mathrm{SNe\\,Ia}$', fontsize='x-large')\n",
    "\n",
    "    plt.legend(ncol=1, loc='upper right')\n",
    "\n",
    "    plt.title(r'$\\mathrm{Evolution\\,\\,of\\,\\,poisson\\,\\,cdf\\,\\,with\\,\\,}$' +\n",
    "              r'$\\mathrm{median\\,\\,for\\,\\,surveys}$',\n",
    "              fontsize='x-large')\n",
    "\n",
    "inter_aicc = ipw.interactive(get_aicc, a=a, zmax=zmax)\n",
    "\n",
    "display(inter_aicc)"
   ]
  },
  {
   "cell_type": "code",
   "execution_count": null,
   "metadata": {},
   "outputs": [],
   "source": []
  }
 ],
 "metadata": {
  "kernelspec": {
   "display_name": "Python 3",
   "language": "python",
   "name": "python3"
  },
  "language_info": {
   "codemirror_mode": {
    "name": "ipython",
    "version": 3
   },
   "file_extension": ".py",
   "mimetype": "text/x-python",
   "name": "python",
   "nbconvert_exporter": "python",
   "pygments_lexer": "ipython3",
   "version": "3.7.3"
  }
 },
 "nbformat": 4,
 "nbformat_minor": 4
}
