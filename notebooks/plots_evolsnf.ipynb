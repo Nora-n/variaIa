{
 "cells": [
  {
   "cell_type": "markdown",
   "metadata": {},
   "source": [
    "## Modules à importer"
   ]
  },
  {
   "cell_type": "code",
   "execution_count": 1,
   "metadata": {
    "jupyter": {
     "source_hidden": true
    }
   },
   "outputs": [],
   "source": [
    "import math\n",
    "import scipy\n",
    "import numpy as np\n",
    "import pandas as pd\n",
    "import iminuit as im\n",
    "import ipywidgets as ipw\n",
    "from importlib import reload\n",
    "from scipy.stats import poisson\n",
    "from sklearn.cluster import KMeans\n",
    "from variaIa.variaIa import baserate\n",
    "from variaIa.variaIa import stretchevol\n",
    "from astropy.cosmology import Planck15 as cdata\n",
    "from IPython.display import display, Latex\n",
    "import matplotlib.pyplot as plt\n",
    "import random"
   ]
  },
  {
   "cell_type": "markdown",
   "metadata": {},
   "source": [
    "## Définitions pandas, surveys, $z[:z_{\\text{max}}]$, $x_1[:z_{\\text{max}}]$, mean et std"
   ]
  },
  {
   "cell_type": "code",
   "execution_count": 2,
   "metadata": {
    "jupyter": {
     "source_hidden": true
    }
   },
   "outputs": [],
   "source": [
    "d = pd.read_csv('../Data/data_cheat.csv', sep=' ', index_col = 'CID')\n",
    "d_snf = pd.read_csv('../Data/lssfr_paper_full_sntable.csv',sep=',')\n",
    "\n",
    "surveys = ['SDSS', 'SNLS', 'PS1', 'HST', 'SNF']\n",
    "\n",
    "su = ipw.Dropdown(options=surveys,\n",
    "                  description='Survey:',\n",
    "                  value = 'SNF')\n",
    "\n",
    "surv = {'SDSS': d[d['IDSURVEY'] == 1],\n",
    "        'SNLS': d[d['IDSURVEY'] == 4],\n",
    "        'PS1':  d[d['IDSURVEY'] == 15],\n",
    "        'HST':  d[d['IDSURVEY'].isin([101, 100, 106])],\n",
    "        'SNF':  d_snf}\n",
    "\n",
    "colors = {'SDSS': 'lime',\n",
    "          'SNLS': 'red',\n",
    "          'PS1': 'blue',\n",
    "          'HST': 'purple',\n",
    "          'SNF': 'orange'}\n",
    "\n",
    "zmax = {'SDSS': 0.22,\n",
    "        'SNLS': 0.70,\n",
    "        'PS1': 0.33,\n",
    "        'HST': 10,\n",
    "        'SNF': 10}\n",
    "\n",
    "zmax_cuts = dict()\n",
    "z_zcuts = dict()\n",
    "x1_zcuts = dict()\n",
    "x1_err_zcuts = dict()\n",
    "c_zcuts = dict()\n",
    "c_err_zcuts = dict()\n",
    "\n",
    "for survey in surveys[:-1]:\n",
    "    zmax_cuts[survey] = np.where(surv[survey].zCMB.values < zmax[survey])\n",
    "    z_zcuts[survey] = surv[survey].zCMB.values[zmax_cuts[survey]]\n",
    "    x1_zcuts[survey] = surv[survey].x1.values[zmax_cuts[survey]]\n",
    "    x1_err_zcuts[survey] = surv[survey].x1ERR.values[zmax_cuts[survey]]\n",
    "    c_zcuts[survey] = surv[survey].c.values[zmax_cuts[survey]]\n",
    "    c_err_zcuts[survey] = surv[survey].cERR.values[zmax_cuts[survey]]\n",
    "    \n",
    "zmax_cuts['SNF'] = np.where(surv['SNF']['host.zcmb'].values < zmax['SNF'])\n",
    "z_zcuts['SNF'] = surv['SNF']['host.zcmb'].values[zmax_cuts['SNF']]\n",
    "x1_zcuts['SNF'] = surv['SNF']['salt2.X1'].values[zmax_cuts['SNF']]\n",
    "x1_err_zcuts['SNF'] = surv['SNF']['salt2.X1.err'].values[zmax_cuts['SNF']]\n",
    "c_zcuts['SNF'] = surv['SNF']['salt2.Color'].values[zmax_cuts['SNF']]\n",
    "c_err_zcuts['SNF'] = surv['SNF']['salt2.Color.err'].values[zmax_cuts['SNF']]\n",
    "\n",
    "z_mean = dict()\n",
    "z_std = dict()\n",
    "x1_mean = dict()\n",
    "x1_std = dict()\n",
    "c_mean = dict()\n",
    "c_std = dict()\n",
    "\n",
    "for survey in surveys:\n",
    "    z_mean[survey] = np.mean(z_zcuts[survey])\n",
    "    z_std[survey] = np.std(z_zcuts[survey])\n",
    "    x1_mean[survey] = np.mean(x1_zcuts[survey])\n",
    "    x1_std[survey] = np.std(x1_zcuts[survey])\n",
    "    c_mean[survey] = np.mean(c_zcuts[survey])\n",
    "    c_std[survey] = np.std(c_zcuts[survey])"
   ]
  },
  {
   "cell_type": "markdown",
   "metadata": {},
   "source": [
    "## Fit results for _SNF_"
   ]
  },
  {
   "cell_type": "code",
   "execution_count": 3,
   "metadata": {},
   "outputs": [],
   "source": [
    "snf_a = 0.477301\n",
    "snf_mu_1 = 0.386896\n",
    "snf_sigma_1 = 0.555105\n",
    "snf_mu_2 = -1.52109\n",
    "snf_sigma_2 = 0.518584"
   ]
  },
  {
   "cell_type": "markdown",
   "metadata": {},
   "source": [
    "## Utilisation de la classe _stretchevol_ pour le fit double"
   ]
  },
  {
   "cell_type": "code",
   "execution_count": 4,
   "metadata": {
    "jupyter": {
     "source_hidden": true
    }
   },
   "outputs": [],
   "source": [
    "reload(stretchevol)\n",
    "\n",
    "evolD = stretchevol.Evol3G2M2SSNF()\n",
    "evolD.set_lssfr(d_snf['salt2.X1'], d_snf['salt2.X1.err'],\n",
    "                        d_snf['lssfr'], d_snf['lssfr.err_down'], d_snf['lssfr.err_up'],\n",
    "                        d_snf['p(prompt)'])\n",
    "\n",
    "evolD.minimize()\n",
    "\n",
    "#evolD.plotter()\n",
    "\n",
    "#fig=plt.gcf()\n",
    "#fig.savefig('/home/nora/Pictures/BiGaussian.pdf')"
   ]
  },
  {
   "cell_type": "markdown",
   "metadata": {},
   "source": [
    "## Utilisation du _mock_ sur large bande de redshifts"
   ]
  },
  {
   "cell_type": "code",
   "execution_count": 5,
   "metadata": {
    "jupyter": {
     "source_hidden": true
    }
   },
   "outputs": [],
   "source": [
    "def get_stretch_sample(redshift, npoints, shuffle=True):\n",
    "    mock = stretchevol.MockEvol()\n",
    "    mock.set_values(evolD.param)\n",
    "    mock.set_data(redshift, npoints)\n",
    "    mock.solver()\n",
    "    mockx = np.concatenate((mock.x1_o,mock.x1_y))\n",
    "    if shuffle:\n",
    "        np.random.shuffle(mockx)\n",
    "    return mockx"
   ]
  },
  {
   "cell_type": "code",
   "execution_count": 6,
   "metadata": {
    "jupyter": {
     "source_hidden": true
    }
   },
   "outputs": [],
   "source": [
    "zz = np.linspace(0, 1.4, 200)\n",
    "x1_z = np.asarray([get_stretch_sample(z_, 100000) for z_ in zz])\n",
    "\n",
    "low_x1 = np.asarray([len(x_[x_<-.5])/len(x_) for x_ in x1_z])"
   ]
  },
  {
   "cell_type": "markdown",
   "metadata": {},
   "source": [
    "## Définition loi analytique"
   ]
  },
  {
   "cell_type": "code",
   "execution_count": 7,
   "metadata": {},
   "outputs": [],
   "source": [
    "def d(z):\n",
    "    return stretchevol.MockEvol().delta(z)\n",
    "\n",
    "def age_law_snf(z):\n",
    "    \"\"\"Analytical law with snf results\"\"\"\n",
    "    return d(z)*snf_mu_1 + (1-d(z))*(snf_a*snf_mu_1 + (1-snf_a)*snf_mu_2)"
   ]
  },
  {
   "cell_type": "markdown",
   "metadata": {},
   "source": [
    "## Tracé des $x_{\\text{mean}}$ en fonction des $z_{\\text{mean}}$ + analytic"
   ]
  },
  {
   "cell_type": "code",
   "execution_count": 8,
   "metadata": {},
   "outputs": [
    {
     "data": {
      "image/png": "[encoded data removed]",
      "text/plain": [
       "<Figure size 640x400 with 1 Axes>"
      ]
     },
     "metadata": {},
     "output_type": "display_data"
    }
   ],
   "source": [
    "fig = plt.figure(figsize=[8, 5])\n",
    "ax = fig.add_axes([0.1, 0.12, 0.8, 0.8])\n",
    "\n",
    "\n",
    "prop = dict(marker=\"o\", ms=10, ecolor=\"0.7\", lw=2, mew=1, mec=\"0.5\", zorder=5)\n",
    "for i in range(5):\n",
    "#    if i != 4:\n",
    "#        continue\n",
    "    ax.errorbar(list(z_mean.values())[i], list(x1_mean.values())[i],\n",
    "                 xerr = list(z_std.values())[i]/np.sqrt(len(list(z_zcuts.values())[i])),\n",
    "                 yerr = list(x1_std.values())[i]/np.sqrt(len(list(x1_zcuts.values())[i])), \n",
    "                 color = list(colors.values())[i], label = surveys[i], **prop)\n",
    "\n",
    "    \n",
    "#ax.plot(zz, np.mean(x1_z, axis=1), color=\"0.7\", zorder=2, label=\"BiGaussianModel\")\n",
    "ax.axhline(np.mean(list(x1_mean.values())), lw=2, ls=\"--\", color=\"0.5\")\n",
    "\n",
    "ax.plot(zz, age_law_snf(zz),\n",
    "        color=\"0.5\", lw=2, label='Model')\n",
    "\n",
    "ax.tick_params(direction = 'in',\n",
    "               length = 5, width = 1,\n",
    "               labelsize = 12,\n",
    "               top = True, right = True)\n",
    "\n",
    "ax.set_xlabel(r\"$\\langle\\mathrm{redshift} \\rangle$ \", fontsize=\"x-large\")\n",
    "ax.set_ylabel(r\"$\\langle\\mathrm{x}_1 \\rangle$ \", fontsize=\"x-large\")\n",
    "\n",
    "#ax.set_ylim(-0.3, 0.4)\n",
    "\n",
    "ax.legend(loc=\"lower right\", ncol=2, fontsize=\"small\")\n",
    "\n",
    "fig=plt.gcf()\n",
    "#fig.savefig('/home/nora/Documents/Thèse/Images/stretchevol.pdf')"
   ]
  },
  {
   "cell_type": "markdown",
   "metadata": {},
   "source": [
    "## Calcul du $\\chi²$"
   ]
  },
  {
   "cell_type": "code",
   "execution_count": 81,
   "metadata": {
    "collapsed": true,
    "jupyter": {
     "outputs_hidden": true,
     "source_hidden": true
    }
   },
   "outputs": [
    {
     "data": {
      "text/latex": [
       "$\\chi²_{\\mathrm{hline}}$ = 7.577977 "
      ],
      "text/plain": [
       "<IPython.core.display.Latex object>"
      ]
     },
     "metadata": {},
     "output_type": "display_data"
    },
    {
     "data": {
      "text/latex": [
       "$\\chi²_{\\mathrm{model}}$ = 1.257632 "
      ],
      "text/plain": [
       "<IPython.core.display.Latex object>"
      ]
     },
     "metadata": {},
     "output_type": "display_data"
    },
    {
     "data": {
      "text/latex": [
       "$\\Delta\\chi²$ = 6.320345 "
      ],
      "text/plain": [
       "<IPython.core.display.Latex object>"
      ]
     },
     "metadata": {},
     "output_type": "display_data"
    }
   ],
   "source": [
    "chi2_hline = 0\n",
    "for i in range(5):\n",
    "    chi2_hline += (list(x1_mean.values())[i] - np.mean(np.asarray(list(x1_mean.values()))))**2\\\n",
    "                    / (list(x1_std.values())[i]/np.sqrt(len(list(x1_zcuts.values())[i])))**2\n",
    "    \n",
    "chi2_model = 0\n",
    "for i in range(5):\n",
    "    chi2_model += (list(x1_mean.values())[i] - mock_law(np.asarray(list(z_mean.values())[i]),\n",
    "                                                          m_mock.values['a'],\n",
    "                                                          m_mock.values['b']))**2\\\n",
    "                    / (list(x1_std.values())[i]/np.sqrt(len(list(x1_zcuts.values())[i])))**2\n",
    "\n",
    "delta_chi2 = chi2_hline - chi2_model\n",
    "\n",
    "display(Latex(\"$\\chi²_{\\mathrm{hline}}$ = %5f \" % chi2_hline))\n",
    "display(Latex(\"$\\chi²_{\\mathrm{model}}$ = %5f \" % chi2_model))\n",
    "display(Latex(\"$\\Delta\\chi²$ = %5f \" % delta_chi2))"
   ]
  }
 ],
 "metadata": {
  "kernelspec": {
   "display_name": "Python 3",
   "language": "python",
   "name": "python3"
  },
  "language_info": {
   "codemirror_mode": {
    "name": "ipython",
    "version": 3
   },
   "file_extension": ".py",
   "mimetype": "text/x-python",
   "name": "python",
   "nbconvert_exporter": "python",
   "pygments_lexer": "ipython3",
   "version": "3.7.3"
  }
 },
 "nbformat": 4,
 "nbformat_minor": 4
}
