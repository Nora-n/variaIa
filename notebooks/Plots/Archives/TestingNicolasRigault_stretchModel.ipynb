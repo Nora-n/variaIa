{
 "cells": [
  {
   "cell_type": "code",
   "execution_count": 1,
   "metadata": {},
   "outputs": [],
   "source": [
    "%matplotlib notebook"
   ]
  },
  {
   "cell_type": "code",
   "execution_count": 1,
   "metadata": {},
   "outputs": [],
   "source": [
    "import pandas\n",
    "import matplotlib.pyplot as mpl\n",
    "import numpy as np\n",
    "from scipy import stats\n",
    "from iminuit import Minuit    \n",
    "import warnings"
   ]
  },
  {
   "cell_type": "code",
   "execution_count": 2,
   "metadata": {},
   "outputs": [],
   "source": [
    "fulldataframe = pandas.read_csv(\"../../Data/lssfr_paper_full_sntable.csv\", sep=\",\")\n",
    "df_snf = fulldataframe.loc[fulldataframe['name'].str.contains('SNF|LSQ|PTF',na=False,regex=True)]"
   ]
  },
  {
   "cell_type": "code",
   "execution_count": null,
   "metadata": {},
   "outputs": [],
   "source": []
  },
  {
   "cell_type": "code",
   "execution_count": 3,
   "metadata": {},
   "outputs": [],
   "source": [
    "class BaseModel( object ):\n",
    "    FREEPARAMETERS = [\"mu1\",\"sigma1\", \"mu2\", \"sigma2\", \"a\"]\n",
    "    \n",
    "    def setup(self, parameters):\n",
    "        \"\"\" \"\"\"\n",
    "        self.parameters = {k:v for k,v in zip(self.FREEPARAMETERS, parameters)}\n",
    "        \n",
    "    # ============ #\n",
    "    #  GETTER      #\n",
    "    # ============ #\n",
    "    def get_probabilities(self, x1, dx1, y):\n",
    "        \"\"\" \"\"\"\n",
    "        mode_up   = self.get_modeup(x1, dx1) \n",
    "        mode_down = self.get_modedown(x1, dx1)\n",
    "        return y * mode_up + (1-y) * (self.parameters[\"a\"] * mode_up + (1-self.parameters[\"a\"])*mode_down)\n",
    "    \n",
    "    def get_modeup(self, x1, dx1):\n",
    "        \"\"\" \"\"\"\n",
    "        return stats.norm.pdf(x1, loc=self.parameters[\"mu1\"], scale=np.sqrt(self.parameters[\"sigma1\"]**2+dx1**2))\n",
    "    \n",
    "    def get_modedown(self, x1, dx1):\n",
    "        \"\"\" \"\"\"\n",
    "        return stats.norm.pdf(x1, loc=self.parameters[\"mu2\"], scale=np.sqrt(self.parameters[\"sigma2\"]**2+dx1**2))\n",
    "    \n",
    "    \n",
    "    def get_loglikelihood(self, x1, dx1, y):\n",
    "        \"\"\" \"\"\"\n",
    "        probas = self.get_probabilities(x1, dx1, y)\n",
    "        return np.log(probas)\n",
    "    \n",
    "    def get_pseudochi2(self, x1, dx1, y):\n",
    "        \"\"\" \"\"\"\n",
    "        return -2* np.sum(self.get_loglikelihood(x1, dx1, y))\n",
    "    \n",
    "    \n",
    "    \n",
    "class Fitter( object ):\n",
    "    \n",
    "    def __init__(self, dataframe):\n",
    "        \"\"\" \"\"\"\n",
    "        self.dataframe = dataframe\n",
    "        self.model = BaseModel()\n",
    "        \n",
    "    # ============ #\n",
    "    #  GETTER      #\n",
    "    # ============ #\n",
    "    def get_args(self, x1key=\"salt2.X1\", dx1key=\"salt2.X1.err\", ykey=\"p(prompt)\"):\n",
    "        \"\"\" \"\"\"\n",
    "        return self.dataframe[x1key], df_snf[dx1key], df_snf[ykey]\n",
    "    \n",
    "    def get_pseudochi2(self, mu1, sigma1, mu2, sigma2, a):\n",
    "        \"\"\" \"\"\"\n",
    "        self.model.setup([mu1,sigma1, mu2, sigma2, a])\n",
    "        pseudo_chi2 = self.model.get_pseudochi2(*self.get_args())\n",
    "        #print(pseudo_chi2)\n",
    "        return pseudo_chi2\n",
    "    \n",
    "    # ============ #\n",
    "    #  FITTER      #\n",
    "    # ============ #\n",
    "    def fit(self, **kwargs):\n",
    "        \"\"\" \"\"\"\n",
    "        self._setup_minuit_(**kwargs)\n",
    "        self._migrad_output_ = self.minuit.migrad()\n",
    "        \n",
    "        if self._migrad_output_[0][\"is_valid\"] is False:\n",
    "            warnings.warn(\"migrad is not valid\")\n",
    "            self.fitOk = False\n",
    "        else:\n",
    "            self.fitOk = True\n",
    "            \n",
    "        self.bestfit_params = np.asarray([self.minuit.values[k]\n",
    "                              for k in self.model.FREEPARAMETERS])\n",
    "        \n",
    "    def setup_guesses(self, **kwargs):\n",
    "        \"\"\" \"\"\"\n",
    "        self.param_input = {**{\"mu1_guess\":+1,\"sigma1_guess\":0.5,\n",
    "                            \"mu2_guess\":-1,\"sigma2_guess\":0.5,\n",
    "                            \"a_guess\":0.5,\n",
    "                            \"sigma1_boundaries\":[0.01, 4],\n",
    "                            \"sigma2_boundaries\":[0.01, 4],\n",
    "                            \"a_boundaries\":[0,1]\n",
    "                           }, \n",
    "                            **kwargs}\n",
    "        return self.param_input\n",
    "\n",
    "    def _setup_minuit_(self, step=0.001, print_level=0, **kwargs):\n",
    "        \"\"\" **kwargs goes to setup_guesses \n",
    "            format: \n",
    "                - '`paramname`_guess'     = VALUE\n",
    "                - '`paramname`_boundaries'= [MIN, MAX]\n",
    "                - '`paramname`_fixed'     = BOOL                \n",
    "        \"\"\"\n",
    "        self.setup_guesses(**kwargs)\n",
    "        \n",
    "        # == Minuit Keys == #\n",
    "        minuit_kwargs = {}\n",
    "        for param in self.model.FREEPARAMETERS:\n",
    "            minuit_kwargs[param]           = self.param_input.get(\"%s_guess\"%param,0)\n",
    "            minuit_kwargs[\"limit_\"+param]  = self.param_input.get(\"%s_boundaries\"%param, [None,None])\n",
    "            minuit_kwargs[\"fix_\"+param]    = self.param_input.get(\"%s_fixed\"%param, False)\n",
    "            \n",
    "\n",
    "        self.minuit = Minuit(self.get_pseudochi2,\n",
    "                             print_level=print_level, errordef=step,\n",
    "                             **minuit_kwargs)\n",
    "        \n",
    "            "
   ]
  },
  {
   "cell_type": "code",
   "execution_count": 4,
   "metadata": {},
   "outputs": [],
   "source": [
    "base = Fitter(df_snf)"
   ]
  },
  {
   "cell_type": "code",
   "execution_count": 5,
   "metadata": {},
   "outputs": [],
   "source": [
    "base.fit()"
   ]
  },
  {
   "cell_type": "code",
   "execution_count": 6,
   "metadata": {},
   "outputs": [
    {
     "data": {
      "text/plain": [
       "array([ 0.40712464,  0.54982906, -1.38417257,  0.43878077,  0.48171466])"
      ]
     },
     "execution_count": 6,
     "metadata": {},
     "output_type": "execute_result"
    }
   ],
   "source": [
    "base.bestfit_params"
   ]
  },
  {
   "cell_type": "code",
   "execution_count": 7,
   "metadata": {},
   "outputs": [
    {
     "data": {
      "text/plain": [
       "268.57681759344376"
      ]
     },
     "execution_count": 7,
     "metadata": {},
     "output_type": "execute_result"
    }
   ],
   "source": [
    "base.model.setup(base.bestfit_params)\n",
    "np.sum(base.model.get_pseudochi2(df_snf[\"salt2.X1\"], df_snf[\"salt2.X1.err\"], df_snf[\"p(prompt)\"]))"
   ]
  },
  {
   "cell_type": "code",
   "execution_count": 61,
   "metadata": {},
   "outputs": [],
   "source": [
    "def show(self):\n",
    "    \"\"\" \"\"\"\n",
    "    x1, dx1, y = self.get_args()\n",
    "    \n",
    "    fig = mpl.figure(figsize=[4,5])\n",
    "    ax   = fig.add_axes([0.1,0.1,0.8,0.8])\n",
    "    \n",
    "    xx1 = np.linspace(-5,5,100)\n",
    "    cmap = mpl.cm.viridis\n",
    "    cvalue = {\"young\":0.01, \"old\":0.99}\n",
    "    #\n",
    "    # Histograms \n",
    "    #\n",
    "    histprop=dict(orientation=\"horizontal\", histtype=\"step\", fill=True, range=(-3, 3), bins=14, density=False) \n",
    "    amp = (histprop['range'][1] - histprop['range'][0])/histprop['bins']\n",
    "    # - Youngs \n",
    "    ax.hist(x1, weights=y, \n",
    "            facecolor=cmap(cvalue[\"young\"], 0.2), \n",
    "            edgecolor=\"None\", #mpl.cm.binary(0.7,0.2),#cmap(cvalue[\"young\"], 0.8), \n",
    "            **histprop)\n",
    "    # - Olds\n",
    "    ax.hist(x1, weights=-(1-y), \n",
    "            facecolor=cmap(cvalue[\"old\"],0.2), \n",
    "            edgecolor=\"None\", #mpl.cm.binary(0.7,0.2), #cmap(cvalue[\"old\"],0.8), \n",
    "            **histprop)\n",
    "    #\n",
    "    # Ideogram\n",
    "    #\n",
    "    # - Youngs \n",
    "    ax.plot( np.dot(y, stats.norm.pdf(xx1[:,None], loc=x1, scale=dx1).T)*amp, \n",
    "            xx1, color=cmap(cvalue[\"young\"],0.8), ls=\"--\")\n",
    "    # - Olds\n",
    "    ax.plot( -np.dot((1-y), stats.norm.pdf(xx1[:,None], loc=x1, scale=dx1).T)*amp,\n",
    "            xx1, color=cmap(cvalue[\"old\"],0.8), ls=\"--\")\n",
    "\n",
    "    # Models\n",
    "    mode_up   =  self.model.get_modeup(xx1, np.median(dx1))*amp\n",
    "    mode_down =  self.model.get_modedown(xx1, np.median(dx1))*amp\n",
    "    # - Youngs\n",
    "    ax.plot( mode_up*np.sum(y), xx1, ls=\"-\", color=cmap(cvalue[\"young\"],0.8))\n",
    "    # - Olds\n",
    "    ax.plot( - self.model.parameters[\"a\"]*mode_up*np.sum(1-y), xx1, \n",
    "           ls=\"-\", color=cmap(cvalue[\"old\"],0.3))\n",
    "    ax.plot( -(1-self.model.parameters[\"a\"])*mode_down*np.sum(1-y), xx1,\n",
    "           ls=\"-\", color=cmap(cvalue[\"old\"],0.3))\n",
    "    ax.plot( -(self.model.parameters[\"a\"]*mode_up + (1-self.model.parameters[\"a\"])*mode_down)*np.sum(1-y), xx1,\n",
    "            ls=\"-\", color=cmap(cvalue[\"old\"],0.8))\n",
    "    \n",
    "    ax.set_xlim(-25,25)\n",
    "    ax.axvline(0, ls=\"-\", color=\"k\", lw=1)\n",
    "    ax.set_frame_on(False)\n",
    "    ax.set_yticks([])"
   ]
  },
  {
   "cell_type": "code",
   "execution_count": 62,
   "metadata": {},
   "outputs": [
    {
     "data": {
      "image/png": "[encoded data removed]",
      "text/plain": [
       "<Figure size 288x360 with 1 Axes>"
      ]
     },
     "metadata": {
      "needs_background": "light"
     },
     "output_type": "display_data"
    }
   ],
   "source": [
    "show(base)"
   ]
  },
  {
   "cell_type": "code",
   "execution_count": 58,
   "metadata": {},
   "outputs": [
    {
     "data": {
      "text/plain": [
       "0.42857142857142855"
      ]
     },
     "execution_count": 58,
     "metadata": {},
     "output_type": "execute_result"
    }
   ],
   "source": [
    "6/14"
   ]
  },
  {
   "cell_type": "code",
   "execution_count": null,
   "metadata": {},
   "outputs": [],
   "source": []
  }
 ],
 "metadata": {
  "kernelspec": {
   "display_name": "Python 3",
   "language": "python",
   "name": "python3"
  },
  "language_info": {
   "codemirror_mode": {
    "name": "ipython",
    "version": 3
   },
   "file_extension": ".py",
   "mimetype": "text/x-python",
   "name": "python",
   "nbconvert_exporter": "python",
   "pygments_lexer": "ipython3",
   "version": "3.7.4"
  }
 },
 "nbformat": 4,
 "nbformat_minor": 4
}
