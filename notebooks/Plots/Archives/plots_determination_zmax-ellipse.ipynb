{
 "cells": [
  {
   "cell_type": "markdown",
   "metadata": {},
   "source": [
    "## Modules à importer"
   ]
  },
  {
   "cell_type": "code",
   "execution_count": 1,
   "metadata": {
    "jupyter": {
     "source_hidden": true
    }
   },
   "outputs": [],
   "source": [
    "import numpy as np\n",
    "import pandas as pd\n",
    "import ipywidgets as ipw\n",
    "from importlib import reload\n",
    "import scipy.integrate as integrate\n",
    "from variaIa.variaIa import ellipse\n",
    "from astropy.cosmology import Planck15\n",
    "import matplotlib.pyplot as plt"
   ]
  },
  {
   "cell_type": "markdown",
   "metadata": {},
   "source": [
    "## Définition des paramètres"
   ]
  },
  {
   "cell_type": "code",
   "execution_count": 4,
   "metadata": {},
   "outputs": [],
   "source": [
    "reload(ellipse)\n",
    "el_test = ellipse.ellipse()\n",
    "\n",
    "params = {'alpha': 0.149,\n",
    "          'beta': 3.15,\n",
    "          'O_m': 0.315,\n",
    "          'O_L': 0.692,\n",
    "          'H0': Planck15.H(0).value*3.2407792899604e-20}\n",
    "\n",
    "el_test.set_param(params)"
   ]
  },
  {
   "cell_type": "markdown",
   "metadata": {},
   "source": [
    "## Définition des variables, calcul, tracé"
   ]
  },
  {
   "cell_type": "code",
   "execution_count": 5,
   "metadata": {},
   "outputs": [
    {
     "data": {
      "application/vnd.jupyter.widget-view+json": {
       "model_id": "c8991e567f2c419893bb242513d8baab",
       "version_major": 2,
       "version_minor": 0
      },
      "text/plain": [
       "interactive(children=(FloatText(value=-19.3, description='M_abs:', step=0.1), FloatText(value=0.5, description…"
      ]
     },
     "metadata": {},
     "output_type": "display_data"
    }
   ],
   "source": [
    "M_abs = ipw.FloatText(description='M_abs:',\n",
    "                      value=-19.3,\n",
    "                      step=.1)\n",
    "\n",
    "z_obs = ipw.FloatText(description='z_obs:',\n",
    "                      value=0.5,\n",
    "                      step=.01)\n",
    "\n",
    "m_max = ipw.FloatText(description='m_max:',\n",
    "                      value=23.1,\n",
    "                      step=.1)\n",
    "\n",
    "def do_all(M_abs, z_obs, m_max):\n",
    "    el_test.set_varia(M_abs, z_obs, m_max)\n",
    "    el_test.m_cal()\n",
    "    el_test.m_plot()\n",
    "\n",
    "do_all = ipw.interactive(do_all,  # el_test.set_varia,\n",
    "                         M_abs=M_abs,\n",
    "                         z_obs=z_obs,\n",
    "                         m_max=m_max)\n",
    "\n",
    "display(do_all)"
   ]
  },
  {
   "cell_type": "code",
   "execution_count": null,
   "metadata": {},
   "outputs": [],
   "source": []
  }
 ],
 "metadata": {
  "kernelspec": {
   "display_name": "Python 3",
   "language": "python",
   "name": "python3"
  },
  "language_info": {
   "codemirror_mode": {
    "name": "ipython",
    "version": 3
   },
   "file_extension": ".py",
   "mimetype": "text/x-python",
   "name": "python",
   "nbconvert_exporter": "python",
   "pygments_lexer": "ipython3",
   "version": "3.7.3"
  }
 },
 "nbformat": 4,
 "nbformat_minor": 4
}
