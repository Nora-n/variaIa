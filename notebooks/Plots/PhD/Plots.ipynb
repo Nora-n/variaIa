{
 "cells": [
  {
   "cell_type": "markdown",
   "metadata": {},
   "source": [
    "## Modules à importer"
   ]
  },
  {
   "cell_type": "code",
   "execution_count": 4,
   "metadata": {
    "jupyter": {
     "source_hidden": true
    }
   },
   "outputs": [],
   "source": [
    "import math\n",
    "import scipy\n",
    "import pickle\n",
    "import sncosmo\n",
    "import numpy as np\n",
    "import pandas as pd\n",
    "import iminuit as im\n",
    "import ipywidgets as ipw\n",
    "from variaIa import tools\n",
    "from variaIa import baserate\n",
    "from importlib import reload\n",
    "from variaIa import stretchevol\n",
    "from scipy.stats import poisson\n",
    "from matplotlib.lines import Line2D\n",
    "from scipy.interpolate import interp1d\n",
    "from matplotlib.patches import Ellipse\n",
    "from astropy.cosmology import Planck15 as cdata\n",
    "from variaIa.tools import surveys, df_cons, df_nc, df_c, df_full, z_max\n",
    "from scipy.ndimage.filters import uniform_filter1d\n",
    "from IPython.display import display, Latex\n",
    "import matplotlib.pyplot as plt\n",
    "import random"
   ]
  },
  {
   "cell_type": "markdown",
   "metadata": {},
   "source": [
    "## Définitions pandas, surveys et sélection de l'échantillon à utiliser"
   ]
  },
  {
   "cell_type": "markdown",
   "metadata": {},
   "source": [
    "### Définition des données à montrer"
   ]
  },
  {
   "cell_type": "code",
   "execution_count": 2,
   "metadata": {
    "jupyter": {
     "source_hidden": true
    }
   },
   "outputs": [
    {
     "data": {
      "application/vnd.jupyter.widget-view+json": {
       "model_id": "b2893c72b0f5468da00fd9d33bf0027d",
       "version_major": 2,
       "version_minor": 0
      },
      "text/plain": [
       "HBox(children=(interactive(children=(Checkbox(value=False, description='Conservative'), Dropdown(description='…"
      ]
     },
     "metadata": {},
     "output_type": "display_data"
    }
   ],
   "source": [
    "btw = ipw.Checkbox(\n",
    "    value=False,\n",
    "    description='btw')\n",
    "after = ipw.Checkbox(\n",
    "    value=False,\n",
    "    description='After')\n",
    "\n",
    "def set_survey(cons, su):\n",
    "    global df\n",
    "    if su == 'All':\n",
    "        df = df_cons(cons)\n",
    "    elif 'n' in su:\n",
    "        df = df_cons(cons)[df_cons(cons)['survey'] != su.split('n')[-1]]\n",
    "    else:\n",
    "        df = df_cons(cons)[df_cons(cons)['survey'] == su]\n",
    "    return df\n",
    "\n",
    "int_set_su = ipw.interactive(set_survey, cons=tools.cons, su=tools.su)\n",
    "display(ipw.HBox([int_set_su, btw, after]))\n",
    "\n",
    "smap = plt.cm.get_cmap('cividis')\n",
    "colors = {'SNF': plt.cm.binary(0.9),\n",
    "          'low-z': (1, 0, 0),\n",
    "          'SDSS': smap(0.1),\n",
    "          'PS1': smap(0.5),\n",
    "          'SNLS': smap(0.8),\n",
    "          'HST': smap(0.99),  # for cividis\n",
    "          #'HST': smap(300)}  # for viridis\n",
    "          'All': (255/255, 51/255, 0/255)}\n",
    "\n",
    "def alphacolors(alpha, survey):\n",
    "    return(colors[survey][0], colors[survey][1], colors[survey][2], alpha)\n",
    "\n",
    "df_nHST = df_nc[df_nc['survey'] != 'HST']\n",
    "surveysnl = surveys[0:1]+surveys[2:]"
   ]
  },
  {
   "cell_type": "markdown",
   "metadata": {},
   "source": [
    "## Définitions des dictionnaires"
   ]
  },
  {
   "cell_type": "code",
   "execution_count": 3,
   "metadata": {
    "jupyter": {
     "source_hidden": true
    }
   },
   "outputs": [],
   "source": [
    "##############################################################################\n",
    "############## $z[:z_max]$, $x_1[:z_max]$, data_all, mean et std #############\n",
    "##############################################################################\n",
    "\n",
    "zmax_cuts = dict()\n",
    "z_zcuts = dict()\n",
    "x1_zcuts = dict()\n",
    "x1_err_zcuts = dict()\n",
    "c_zcuts = dict()\n",
    "c_err_zcuts = dict()\n",
    "\n",
    "for survey in surveys:\n",
    "    zmax_cuts[survey] = np.where(df_full[df_full['survey'] == survey].redshifts.values < z_max[survey][1])\n",
    "    z_zcuts[survey] = df_full[df_full['survey'] == survey].redshifts.values[zmax_cuts[survey]]\n",
    "    x1_zcuts[survey] = df_full[df_full['survey'] == survey].stretchs.values[zmax_cuts[survey]]\n",
    "    x1_err_zcuts[survey] = df_full[df_full['survey'] == survey].stretchs_err.values[zmax_cuts[survey]]\n",
    "    c_zcuts[survey] = df_full[df_full['survey'] == survey].colors.values[zmax_cuts[survey]]\n",
    "    c_err_zcuts[survey] = df_full[df_full['survey'] == survey].colors_err.values[zmax_cuts[survey]]\n",
    "\n",
    "datax_all = (np.concatenate(\n",
    "    (np.concatenate(\n",
    "        (x1_zcuts['SDSS'],\n",
    "         x1_zcuts['PS1'])),\n",
    "     x1_zcuts['SNLS'])))\n",
    "                                                     \n",
    "datax_err_all = (np.concatenate(\n",
    "    (np.concatenate(\n",
    "        (x1_err_zcuts['SDSS'],\n",
    "         x1_err_zcuts['PS1'])),\n",
    "     x1_err_zcuts['SNLS'])))\n",
    "                                                     \n",
    "dataz_all = (np.concatenate(\n",
    "    (np.concatenate(\n",
    "        (z_zcuts['SDSS'],\n",
    "         z_zcuts['PS1'])),\n",
    "     z_zcuts['SNLS'])))\n",
    "\n",
    "z_mean = dict()\n",
    "z_std = dict()\n",
    "x1_mean = dict()\n",
    "x1_std = dict()\n",
    "c_mean = dict()\n",
    "c_std = dict()\n",
    "\n",
    "for survey in surveys:\n",
    "    z_mean[survey] = np.mean(z_zcuts[survey])\n",
    "    z_std[survey] = np.std(z_zcuts[survey])\n",
    "    x1_mean[survey] = np.mean(x1_zcuts[survey])\n",
    "    x1_std[survey] = np.std(x1_zcuts[survey])\n",
    "    c_mean[survey] = np.mean(c_zcuts[survey])\n",
    "    c_std[survey] = np.std(c_zcuts[survey])\n",
    "    \n",
    "##############################################################################\n",
    "##################### $[:z_inf]$, $[z_sup:]$ et mean_inf #####################\n",
    "##############################################################################\n",
    "\n",
    "zinf_cuts = dict()\n",
    "z_zinfcuts = dict()\n",
    "x1_zinfcuts = dict()\n",
    "x1_err_zinfcuts = dict()\n",
    "c_zinfcuts = dict()\n",
    "c_err_zinfcuts = dict()\n",
    "\n",
    "for survey in surveys:\n",
    "    zinf_cuts[survey] = np.where(df_full[df_full['survey'] == survey].redshifts.values < z_max[survey][0])\n",
    "    z_zinfcuts[survey] = df_full[df_full['survey'] == survey].redshifts.values[zinf_cuts[survey]]\n",
    "    x1_zinfcuts[survey] = df_full[df_full['survey'] == survey].stretchs.values[zinf_cuts[survey]]\n",
    "    x1_err_zinfcuts[survey] = df_full[df_full['survey'] == survey].stretchs_err.values[zinf_cuts[survey]]\n",
    "    c_zinfcuts[survey] = df_full[df_full['survey'] == survey].colors.values[zinf_cuts[survey]]\n",
    "    c_err_zinfcuts[survey] = df_full[df_full['survey'] == survey].colors_err.values[zinf_cuts[survey]]\n",
    "\n",
    "z_inf_mean = dict()\n",
    "z_inf_std = dict()\n",
    "x1_inf_mean = dict()\n",
    "x1_inf_std = dict()\n",
    "c_inf_mean = dict()\n",
    "c_inf_std = dict()\n",
    "\n",
    "for survey in surveys:\n",
    "    z_inf_mean[survey] = np.mean(z_zinfcuts[survey])\n",
    "    z_inf_std[survey] = np.std(z_zinfcuts[survey])\n",
    "    x1_inf_mean[survey] = np.mean(x1_zinfcuts[survey])\n",
    "    x1_inf_std[survey] = np.std(x1_zinfcuts[survey])\n",
    "    c_inf_mean[survey] = np.mean(c_zinfcuts[survey])\n",
    "    c_inf_std[survey] = np.std(c_zinfcuts[survey])\n",
    "\n",
    "zsup_cuts = dict()\n",
    "z_zsupcuts = dict()\n",
    "x1_zsupcuts = dict()\n",
    "x1_err_zsupcuts = dict()\n",
    "c_zsupcuts = dict()\n",
    "c_err_zsupcuts = dict()\n",
    "\n",
    "for survey in surveys:\n",
    "    zsup_cuts[survey] = np.where(df_full[df_full['survey'] == survey].redshifts.values > z_max[survey][1])\n",
    "    z_zsupcuts[survey] = df_full[df_full['survey'] == survey].redshifts.values[zsup_cuts[survey]]\n",
    "    x1_zsupcuts[survey] = df_full[df_full['survey'] == survey].stretchs.values[zsup_cuts[survey]]\n",
    "    x1_err_zsupcuts[survey] = df_full[df_full['survey'] == survey].stretchs_err.values[zsup_cuts[survey]]\n",
    "    c_zsupcuts[survey] = df_full[df_full['survey'] == survey].colors.values[zsup_cuts[survey]]\n",
    "    c_err_zsupcuts[survey] = df_full[df_full['survey'] == survey].colors_err.values[zsup_cuts[survey]]\n",
    "   \n",
    "names_sup = []\n",
    "stretchs_sup = []\n",
    "stretchs_err_sup = []\n",
    "colors_sup = []\n",
    "colors_err_sup = []\n",
    "redshifts_sup = []\n",
    "\n",
    "for survey in surveys[1:-1]:\n",
    "    names_sup += [survey for i in range(len(z_zsupcuts[survey]))] \n",
    "    stretchs_sup += list(x1_zsupcuts[survey]) \n",
    "    stretchs_err_sup += list(x1_err_zsupcuts[survey]) \n",
    "    colors_sup += list(c_zsupcuts[survey]) \n",
    "    colors_err_sup += list(c_err_zsupcuts[survey]) \n",
    "    redshifts_sup += list(z_zsupcuts[survey]) \n",
    "\n",
    "df_sup = pd.DataFrame({'survey': names_sup,\n",
    "                        'stretchs': stretchs_sup,\n",
    "                        'stretchs_err': stretchs_err_sup,\n",
    "                        'colors': colors_sup,\n",
    "                        'colors_err': colors_err_sup,\n",
    "                        'redshifts': redshifts_sup})\n",
    "\n",
    "##############################################################################\n",
    "########################## $[z_max, inf:z_max, sup]$ #########################\n",
    "##############################################################################\n",
    "\n",
    "zbtw_cuts = dict()\n",
    "z_zbtwcuts = dict()\n",
    "x1_zbtwcuts = dict()\n",
    "x1_err_zbtwcuts = dict()\n",
    "c_zbtwcuts = dict()\n",
    "c_err_zbtwcuts = dict()\n",
    "\n",
    "for survey in surveys:\n",
    "    zbtw_cuts[survey] = np.where((df_full[df_full['survey'] == survey].redshifts.values > z_max[survey][0])\n",
    "                               & (df_full[df_full['survey'] == survey].redshifts.values < z_max[survey][1]))\n",
    "    z_zbtwcuts[survey] = df_full[df_full['survey'] == survey].redshifts.values[zbtw_cuts[survey]]\n",
    "    x1_zbtwcuts[survey] = df_full[df_full['survey'] == survey].stretchs.values[zbtw_cuts[survey]]\n",
    "    x1_err_zbtwcuts[survey] = df_full[df_full['survey'] == survey].stretchs_err.values[zbtw_cuts[survey]]\n",
    "    c_zbtwcuts[survey] = df_full[df_full['survey'] == survey].colors.values[zbtw_cuts[survey]]\n",
    "    c_err_zbtwcuts[survey] = df_full[df_full['survey'] == survey].colors_err.values[zbtw_cuts[survey]]"
   ]
  },
  {
   "cell_type": "markdown",
   "metadata": {},
   "source": [
    "### Plot base model shape"
   ]
  },
  {
   "cell_type": "code",
   "execution_count": 4,
   "metadata": {},
   "outputs": [],
   "source": [
    "gen = stretchevol.generic()\n",
    "gen.set_model('Evol3G2M2S')\n",
    "baseTOT = gen.fit(df_nc)\n",
    "x_lin = np.linspace(-3, 3, 1000)\n",
    "pdfmodel_mid = baseTOT.likelihood_tot(baseTOT.delta(0.15),\n",
    "                                      x_lin, 0, #np.mean(dx1),\n",
    "                                      baseTOT.param['aa'],\n",
    "                                      baseTOT.param['mu_1'], baseTOT.param['sigma_1'],\n",
    "                                      baseTOT.param['mu_2'], baseTOT.param['sigma_2'])"
   ]
  },
  {
   "cell_type": "code",
   "execution_count": 5,
   "metadata": {},
   "outputs": [],
   "source": [
    "np.savetxt('/home/nicolas/Work/Articles/2022-PhD/Data/basemodel-lin.txt', x_lin)\n",
    "np.savetxt('/home/nicolas/Work/Articles/2022-PhD/Data/basemodel-val.txt', pdfmodel_mid)"
   ]
  },
  {
   "cell_type": "markdown",
   "metadata": {},
   "source": [
    "### Plot asymgaus color shape (PS1)"
   ]
  },
  {
   "cell_type": "code",
   "execution_count": 12,
   "metadata": {},
   "outputs": [],
   "source": [
    "gen.set_model('Evol1G1M2S')\n",
    "asym = gen.fit(df_nc)\n",
    "c_lin = np.linspace(-0.3, 0.3, 1000)\n",
    "casym = asym.likelihood_tot(c_lin, np.array([0. for i in range(len(c_lin))]),\n",
    "                            -0.068, 0.034, 0.123)\n",
    "np.savetxt('/home/nicolas/Work/Articles/2022-PhD/Data/casym-lin.txt', c_lin)\n",
    "np.savetxt('/home/nicolas/Work/Articles/2022-PhD/Data/casym-val.txt', casym)"
   ]
  },
  {
   "cell_type": "markdown",
   "metadata": {},
   "source": [
    "### Plot mass distribution of hostlib"
   ]
  },
  {
   "cell_type": "code",
   "execution_count": 3,
   "metadata": {},
   "outputs": [
    {
     "data": {
      "application/vnd.jupyter.widget-view+json": {
       "model_id": "7ddcd3e5d5b14fc3973af05c635bc515",
       "version_major": 2,
       "version_minor": 0
      },
      "text/plain": [
       "Dropdown(description='Sample:', options=('lowz', 'found', 'highz'), value='lowz')"
      ]
     },
     "metadata": {},
     "output_type": "display_data"
    }
   ],
   "source": [
    "samples = ['lowz', 'found', 'highz']\n",
    "\n",
    "sm = ipw.Dropdown(options=samples,\n",
    "                  description='Sample:',\n",
    "                  value='lowz')\n",
    "\n",
    "display(sm)"
   ]
  },
  {
   "cell_type": "code",
   "execution_count": 4,
   "metadata": {},
   "outputs": [],
   "source": [
    "hostlib = pd.read_csv('/home/nicolas/Work/devpython/variaIa/Data/hostlibs/'+\n",
    "                      f'BP_{sm.value}.HOSTLIB', skiprows=[0], delim_whitespace=True)"
   ]
  },
  {
   "cell_type": "code",
   "execution_count": 5,
   "metadata": {},
   "outputs": [],
   "source": [
    "ran_mass = hostlib['LOGMASS']#.sample(100000)"
   ]
  },
  {
   "cell_type": "code",
   "execution_count": 17,
   "metadata": {},
   "outputs": [
    {
     "data": {
      "text/plain": [
       "<matplotlib.collections.PathCollection at 0x7f1a95be6650>"
      ]
     },
     "execution_count": 17,
     "metadata": {},
     "output_type": "execute_result"
    },
    {
     "data": {
      "image/png": "[encoded data removed]",
      "text/plain": [
       "<Figure size 720x360 with 1 Axes>"
      ]
     },
     "metadata": {},
     "output_type": "display_data"
    }
   ],
   "source": [
    "fig = plt.figure(figsize=[10, 5])\n",
    "ax = fig.add_axes([0.1, 0.12, 0.62, 0.8])\n",
    "\n",
    "histout = ax.hist(ran_mass, bins=20, density=True)\n",
    "ax.scatter((histout[1][:-1]+histout[1][1:])/2, histout[0])"
   ]
  },
  {
   "cell_type": "code",
   "execution_count": 18,
   "metadata": {},
   "outputs": [],
   "source": [
    "np.savetxt('/home/nicolas/Work/Articles/2022-PhD/Data/mdist-lin.txt', (histout[1][:-1]+histout[1][1:])/2)\n",
    "np.savetxt('/home/nicolas/Work/Articles/2022-PhD/Data/mdist-val.txt', histout[0])"
   ]
  },
  {
   "cell_type": "markdown",
   "metadata": {},
   "source": [
    "### $\\texttt{SALT2.4}$ time series and point band PS1"
   ]
  },
  {
   "cell_type": "code",
   "execution_count": null,
   "metadata": {},
   "outputs": [],
   "source": [
    "sncosmo."
   ]
  }
 ],
 "metadata": {
  "kernelspec": {
   "display_name": "Python 3",
   "language": "python",
   "name": "python3"
  },
  "language_info": {
   "codemirror_mode": {
    "name": "ipython",
    "version": 3
   },
   "file_extension": ".py",
   "mimetype": "text/x-python",
   "name": "python",
   "nbconvert_exporter": "python",
   "pygments_lexer": "ipython3",
   "version": "3.7.4"
  }
 },
 "nbformat": 4,
 "nbformat_minor": 4
}
