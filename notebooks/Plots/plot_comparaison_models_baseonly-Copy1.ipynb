{
 "cells": [
  {
   "cell_type": "markdown",
   "metadata": {},
   "source": [
    "## Modules à importer"
   ]
  },
  {
   "cell_type": "code",
   "execution_count": 1,
   "metadata": {
    "jupyter": {
     "source_hidden": true
    }
   },
   "outputs": [],
   "source": [
    "import math\n",
    "import scipy\n",
    "import pickle\n",
    "import numpy as np\n",
    "import pandas as pd\n",
    "import iminuit as im\n",
    "import ipywidgets as ipw\n",
    "from importlib import reload\n",
    "from scipy.stats import poisson\n",
    "from variaIa import baserate\n",
    "from variaIa import stretchevol\n",
    "from astropy.cosmology import Planck15 as cdata\n",
    "from IPython.display import display, Latex\n",
    "import matplotlib.pyplot as plt\n",
    "import random"
   ]
  },
  {
   "cell_type": "markdown",
   "metadata": {},
   "source": [
    "## Comparison plot"
   ]
  },
  {
   "cell_type": "code",
   "execution_count": 3,
   "metadata": {},
   "outputs": [
    {
     "data": {
      "image/png": "[encoded data removed]",
      "text/plain": [
       "<Figure size 432x288 with 1 Axes>"
      ]
     },
     "metadata": {
      "needs_background": "light"
     },
     "output_type": "display_data"
    }
   ],
   "source": [
    "fig = plt.figure(figsize=[6,4])\n",
    "ax = fig.add_axes([0.15,0.3,0.7,0.6])\n",
    "xmax = 8\n",
    "\n",
    "d_mod_comp_py = pd.read_csv('../../Data/df_comparaison.dat')\n",
    "d_mod_comp_cons = pd.read_csv('../../Data/df_comparaison_cons.dat')\n",
    "\n",
    "def show_results(data_, show_text=True, show_aicc=True, **kwargs):\n",
    "    \"\"\" \"\"\"\n",
    "    if show_aicc:\n",
    "        ykey = '$\\Delta$ AIC'\n",
    "        ylow = -35\n",
    "        yscale = 'linear'\n",
    "        shift = 0.95\n",
    "    else:\n",
    "        ykey = 'Proba'\n",
    "        ylow = 1e-6\n",
    "        yscale = 'log'\n",
    "        shift = 1.5\n",
    "    \n",
    "    flag_fixed = np.asarray(data_[\"Fixed\"], dtype=\"bool\")\n",
    "    flag_below = np.asarray(data_[ykey]<ylow, dtype=\"bool\")\n",
    "    prop = {**dict(marker=\"o\", ms=10, ls=\"None\", mew=2, zorder=8),**kwargs}\n",
    "    prop_notfixed = dict(mfc=\"C0\", mec=\"C0\")\n",
    "    prop_fixed = dict(mfc=\"w\", mec=\"C0\")\n",
    "    # above Cut\n",
    "    flag = ~flag_fixed*~flag_below\n",
    "    ax.plot(data_.index[flag], data_[ykey][flag], **{**prop, **prop_notfixed})\n",
    "    flag = flag_fixed*~flag_below\n",
    "    ax.plot(data_.index[flag], data_[ykey][flag],  **{**prop, **prop_fixed})\n",
    "    # Below Cut\n",
    "    propbelow = {**prop, **{\"marker\":\"v\", \"mew\":1.5, \"ms\":8}}\n",
    "    flag = ~flag_fixed*flag_below\n",
    "    ax.plot(data_.index[flag], [ylow*shift]*len(data_.index[flag]), **{**propbelow, **prop_notfixed})\n",
    "    flag = flag_fixed*flag_below\n",
    "    ax.plot(data_.index[flag], [ylow*shift]*len(data_.index[flag]), **{**propbelow, **prop_fixed})\n",
    "    flag = flag_below\n",
    "    if show_text:\n",
    "        for i in data_.index[flag]:\n",
    "            ax.text(i, ylow*shift**2, \"%.0f\"%data_.iloc[i][ykey] if show_aicc else \"%.1e\"%data_.iloc[i][ykey], \n",
    "                    rotation=90, color=\"C0\", va=\"bottom\", ha=\"center\", fontsize=\"small\")\n",
    "    #axt.plot(data.index, data[\"AICc\"])\n",
    "    ax.set_yscale(yscale)\n",
    "    \n",
    "    if not show_aicc:\n",
    "        for i in [1,2,3,4,5]:\n",
    "            cut = stats.norm.pdf(i, loc=0, scale=1)*2\n",
    "            ax.axhspan(1e-20, cut, color=\"C1\", alpha=0.1)\n",
    "            ax.text(xmax,cut,r\"$%d\\sigma$\"%i,va=\"bottom\", ha=\"right\", color=\"C1\")\n",
    "    else:\n",
    "        spanprop = dict(alpha=.05, lw=.5)\n",
    "        textprop = dict(va=\"bottom\", ha=\"right\")\n",
    "        # Between 1 and 2 \\sigma\n",
    "        ax.axhspan(5, -5, color=\"tab:green\", **spanprop)\n",
    "        ax.text(xmax, -5, r\"Acceptable\", color=\"tab:green\", **textprop)\n",
    "        # Between 2 and 3 \\sigma\n",
    "        ax.axhspan(-5, -10, color=\"tab:gray\", **spanprop)\n",
    "        ax.text(xmax, -10, r\"Unfavored\", color=\"tab:gray\", **textprop)\n",
    "        # Between 3 and 5 \\sigma\n",
    "        ax.axhspan(-10, -20, color=\"tab:orange\", **spanprop)\n",
    "        ax.text(xmax, -20, \"Strongly\\n unfavored\", color=\"tab:orange\", **textprop)\n",
    "        # Between 5 and lots of \\sigma\n",
    "        ax.axhspan(-20, ylow, color=\"tab:red\", **spanprop)\n",
    "        ax.text(xmax, ylow, r\"Excluded\", color=\"tab:red\", **textprop)\n",
    "        \n",
    "        if not show_aicc:\n",
    "            ax.set_ylabel(r\"Model Probability ($e^{0.5\\Delta\\mathrm{AIC}}$)\")\n",
    "        else:\n",
    "            ax.set_ylabel(r'$\\Delta\\mathrm{AIC}$')\n",
    "    \n",
    "    return(ylow)\n",
    "\n",
    "ylow = show_results(d_mod_comp_py)\n",
    "ylow = show_results(d_mod_comp_cons, alpha=.4, show_text=False)\n",
    "\n",
    "ax.set_xticks(d_mod_comp_py.index)\n",
    "ax.set_xticklabels([d_mod_comp_py.iloc[i][\"Name\"] for i in d_mod_comp_py.index], rotation=45, \n",
    "                   fontdict=dict(ha=\"right\"))\n",
    "\n",
    "ax.set_ylim(ylow, 2)\n",
    "ax.set_xlim(-0.5, xmax)\n",
    "\n",
    "fig.savefig('../../../../Images/mod_comp.pdf', bbox_inches='tight')"
   ]
  },
  {
   "cell_type": "code",
   "execution_count": null,
   "metadata": {},
   "outputs": [],
   "source": []
  }
 ],
 "metadata": {
  "kernelspec": {
   "display_name": "Python 3",
   "language": "python",
   "name": "python3"
  },
  "language_info": {
   "codemirror_mode": {
    "name": "ipython",
    "version": 3
   },
   "file_extension": ".py",
   "mimetype": "text/x-python",
   "name": "python",
   "nbconvert_exporter": "python",
   "pygments_lexer": "ipython3",
   "version": "3.7.4"
  }
 },
 "nbformat": 4,
 "nbformat_minor": 4
}
