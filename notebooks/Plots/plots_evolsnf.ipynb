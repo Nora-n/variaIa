{
 "cells": [
  {
   "cell_type": "markdown",
   "metadata": {},
   "source": [
    "## Modules à importer"
   ]
  },
  {
   "cell_type": "code",
   "execution_count": 1,
   "metadata": {
    "jupyter": {
     "source_hidden": true
    }
   },
   "outputs": [],
   "source": [
    "import math\n",
    "import scipy\n",
    "import pickle\n",
    "import numpy as np\n",
    "import pandas as pd\n",
    "import iminuit as im\n",
    "import ipywidgets as ipw\n",
    "from importlib import reload\n",
    "from scipy.stats import poisson\n",
    "from variaIa import baserate\n",
    "from variaIa import stretchevol\n",
    "from astropy.cosmology import Planck15 as cdata\n",
    "from IPython.display import display, Latex\n",
    "import matplotlib.pyplot as plt\n",
    "import random\n",
    "\n",
    "%matplotlib inline"
   ]
  },
  {
   "cell_type": "markdown",
   "metadata": {},
   "source": [
    "## Définitions pandas, surveys, $z[:z_{\\text{max}}]$, $x_1[:z_{\\text{max}}]$, mean et std + cons"
   ]
  },
  {
   "cell_type": "code",
   "execution_count": 2,
   "metadata": {},
   "outputs": [],
   "source": [
    "cons = ipw.Checkbox(\n",
    "    value=False,\n",
    "    description='Conservative')"
   ]
  },
  {
   "cell_type": "code",
   "execution_count": 3,
   "metadata": {
    "jupyter": {
     "source_hidden": true
    }
   },
   "outputs": [
    {
     "data": {
      "application/vnd.jupyter.widget-view+json": {
       "model_id": "0fe73f0182404ebc854c3ad99fa47bce",
       "version_major": 2,
       "version_minor": 0
      },
      "text/plain": [
       "interactive(children=(Checkbox(value=False, description='Conservative'), Output()), _dom_classes=('widget-inte…"
      ]
     },
     "metadata": {},
     "output_type": "display_data"
    }
   ],
   "source": [
    "d = pd.read_csv('../../Data/data_cheat.csv', sep=' ', index_col = 'CID')\n",
    "d_snf = pd.read_csv('../../Data/lssfr_paper_full_sntable.csv',sep=',')\n",
    "\n",
    "surveys = ['SNF', 'SDSS', 'PS1', 'SNLS', 'HST']\n",
    "\n",
    "surv = {'SNF':  d_snf.loc[d_snf['name'].str.contains('SNF|LSQ|PTF',na=False,regex=True)],\n",
    "        'SDSS': d[d['IDSURVEY'] == 1],\n",
    "        'PS1':  d[d['IDSURVEY'] == 15],\n",
    "        'SNLS': d[d['IDSURVEY'] == 4],\n",
    "        'HST':  d[d['IDSURVEY'].isin([101, 100, 106])]}\n",
    "\n",
    "dgmap = plt.cm.get_cmap('viridis')\n",
    "colors = {'SNF': dgmap(0),\n",
    "          'SDSS': dgmap(50),\n",
    "          'PS1': dgmap(125),\n",
    "          'SNLS': dgmap(200),\n",
    "          'HST': dgmap(300)}\n",
    "\n",
    "with open('../../Data/zmax_mlim', 'rb') as f:\n",
    "    z_max = pickle.load(f)\n",
    "z_max['HST'] = [10, 10]\n",
    "\n",
    "zmax_cuts = dict()\n",
    "z_zcuts = dict()\n",
    "x1_zcuts = dict()\n",
    "x1_err_zcuts = dict()\n",
    "\n",
    "z_zcuts['SNF'] = surv['SNF']['host.zcmb'].values\n",
    "x1_zcuts['SNF'] = surv['SNF']['salt2.X1'].values\n",
    "x1_err_zcuts['SNF'] = surv['SNF']['salt2.X1.err'].values\n",
    "\n",
    "def set_cons(cons):\n",
    "    global df\n",
    "    \n",
    "    names = []\n",
    "    stretchs = []\n",
    "    stretchs_err = []\n",
    "    redshifts = []\n",
    "    infor = list(surv['SNF']['p(prompt)'])\n",
    "    py = list(surv['SNF']['p(prompt)'])\n",
    "    lssfr = list(surv['SNF']['lssfr'])\n",
    "    lssfr_err_d = list(surv['SNF']['lssfr.err_down'])\n",
    "    lssfr_err_u = list(surv['SNF']['lssfr.err_up'])\n",
    "    \n",
    "    if cons:\n",
    "        for survey in surveys[1:]:\n",
    "            zmax_cuts[survey] = np.where(surv[survey].zCMB.values < z_max[survey][0])\n",
    "            z_zcuts[survey] = surv[survey].zCMB.values[zmax_cuts[survey]]\n",
    "            x1_zcuts[survey] = surv[survey].x1.values[zmax_cuts[survey]]\n",
    "            x1_err_zcuts[survey] = surv[survey].x1ERR.values[zmax_cuts[survey]]\n",
    "    else:\n",
    "        for survey in surveys[1:]:\n",
    "            zmax_cuts[survey] = np.where(surv[survey].zCMB.values < z_max[survey][-1])\n",
    "            z_zcuts[survey] = surv[survey].zCMB.values[zmax_cuts[survey]]\n",
    "            x1_zcuts[survey] = surv[survey].x1.values[zmax_cuts[survey]]\n",
    "            x1_err_zcuts[survey] = surv[survey].x1ERR.values[zmax_cuts[survey]]\n",
    "    \n",
    "    for survey in surveys:\n",
    "        names += [survey for i in range(len(z_zcuts[survey]))]\n",
    "        stretchs += list(x1_zcuts[survey])\n",
    "        stretchs_err += list(x1_err_zcuts[survey])\n",
    "        redshifts += list(z_zcuts[survey])\n",
    "        if survey != 'SNF':\n",
    "            infor += list(stretchevol.Evol2G2M2S().delta(z_zcuts[survey]))\n",
    "            py += list([0 for i in range(len(z_zcuts[survey]))])\n",
    "            lssfr += list([0 for i in range(len(z_zcuts[survey]))])\n",
    "            lssfr_err_d += list([0 for i in range(len(z_zcuts[survey]))])\n",
    "            lssfr_err_u += list([0 for i in range(len(z_zcuts[survey]))])\n",
    "\n",
    "    df = pd.DataFrame({'survey': names,\n",
    "                       'stretchs': stretchs,\n",
    "                       'stretchs_err': stretchs_err,\n",
    "                       'redshifts': redshifts,\n",
    "                       'infor': infor,\n",
    "                       'py': py,\n",
    "                       'lssfr': lssfr,\n",
    "                       'lssfr_err_d': lssfr_err_d,\n",
    "                       'lssfr_err_u': lssfr_err_u})\n",
    "\n",
    "    z_mean = np.mean(df.redshifts)\n",
    "    z_std = np.std(df.redshifts)\n",
    "    x1_mean = np.mean(df.stretchs)\n",
    "    x1_std = np.std(df.stretchs)\n",
    "    \n",
    "    return(df)\n",
    "            \n",
    "int_set_cons = ipw.interactive(set_cons, cons=cons)\n",
    "display(int_set_cons)\n",
    "\n",
    "names = ['SNF' for i in range(len(z_zcuts['SNF']))]\n",
    "stretchs = list(x1_zcuts['SNF'])\n",
    "stretchs_err = list(x1_err_zcuts['SNF'])\n",
    "redshifts = list(z_zcuts['SNF'])\n",
    "infor = list(surv['SNF']['p(prompt)'])\n",
    "py = list(surv['SNF']['p(prompt)'])\n",
    "lssfr = list(surv['SNF']['lssfr'])\n",
    "lssfr_err_d = list(surv['SNF']['lssfr.err_down'])\n",
    "lssfr_err_u = list(surv['SNF']['lssfr.err_up'])\n",
    "\n",
    "for survey in surveys[1:]:\n",
    "    names += [survey for i in range(len(surv[survey].zCMB.values))]\n",
    "    stretchs += list(surv[survey].x1.values)\n",
    "    stretchs_err += list(surv[survey].x1ERR.values)\n",
    "    redshifts += list(surv[survey].zCMB.values)\n",
    "    infor += list(stretchevol.Evol2G2M2S().delta(surv[survey].zCMB.values))\n",
    "    py += list([0 for i in range(len(surv[survey].zCMB.values))])\n",
    "    lssfr += list([0 for i in range(len(surv[survey].zCMB.values))])\n",
    "    lssfr_err_d += list([0 for i in range(len(surv[survey].zCMB.values))])\n",
    "    lssfr_err_u += list([0 for i in range(len(surv[survey].zCMB.values))])\n",
    "\n",
    "df_full = pd.DataFrame({'survey': names,\n",
    "                        'stretchs': stretchs,\n",
    "                        'stretchs_err': stretchs_err,\n",
    "                        'redshifts': redshifts,\n",
    "                        'infor': infor,\n",
    "                        'py': py,\n",
    "                        'lssfr': lssfr,\n",
    "                        'lssfr_err_d': lssfr_err_d,\n",
    "                        'lssfr_err_u': lssfr_err_u})\n",
    "\n",
    "df_nc = set_cons(False)\n",
    "df_c = set_cons(True)"
   ]
  },
  {
   "cell_type": "markdown",
   "metadata": {},
   "source": [
    "## Utilisation de la classe _stretchevol_ pour le fit double"
   ]
  },
  {
   "cell_type": "code",
   "execution_count": 36,
   "metadata": {},
   "outputs": [],
   "source": [
    "evolSNF = stretchevol.Evol3G2M2S()\n",
    "evolSNF.set_data(df[df['survey'] == 'SNF'])\n",
    "\n",
    "evolSNF.minimize()\n",
    "\n",
    "#fig=plt.gcf()\n",
    "#fig.savefig('/home/nora/Documents/Thèse/Images/BiGaussian.pdf', bbox_inches='tight')"
   ]
  },
  {
   "cell_type": "code",
   "execution_count": 35,
   "metadata": {},
   "outputs": [
    {
     "data": {
      "text/plain": [
       "0.500000000974099"
      ]
     },
     "execution_count": 35,
     "metadata": {},
     "output_type": "execute_result"
    }
   ],
   "source": [
    "evolSNF.param['aa']"
   ]
  },
  {
   "cell_type": "code",
   "execution_count": 27,
   "metadata": {},
   "outputs": [],
   "source": [
    "evolSNF.param['aa'] = 0.85"
   ]
  },
  {
   "cell_type": "code",
   "execution_count": 32,
   "metadata": {},
   "outputs": [
    {
     "data": {
      "text/plain": [
       "0.7242474254060964"
      ]
     },
     "execution_count": 32,
     "metadata": {},
     "output_type": "execute_result"
    }
   ],
   "source": [
    "evolSNF.get_a(0.85)"
   ]
  },
  {
   "cell_type": "code",
   "execution_count": 31,
   "metadata": {},
   "outputs": [
    {
     "data": {
      "image/png": "[encoded data removed]",
      "text/plain": [
       "<Figure size 504x252 with 2 Axes>"
      ]
     },
     "metadata": {
      "needs_background": "light"
     },
     "output_type": "display_data"
    }
   ],
   "source": [
    "fig = plt.figure(figsize=[7, 3.5])\n",
    "ax = fig.add_axes([0.1, 0.12, 0.62, 0.8])\n",
    "axh = fig.add_axes([0.75, 0.12, 0.2, 0.8])\n",
    "\n",
    "evolSNF.scatter(ax=ax, mod_lw=1, elw=1, lw=1,\n",
    "                facealpha=1, show_leg=False, model=False)\n",
    "\n",
    "prop = dict(orientation='horizontal',\n",
    "            histtype='step',\n",
    "            fill=True,\n",
    "            range=(-3, 3), bins=16,\n",
    "            lw=1, density=True)\n",
    "\n",
    "\n",
    "y = axh.hist(evolSNF.stretchs.values[np.where(evolSNF.lssfr.values<-10.82)],\n",
    "            # weights=evolSNF.py/12,\n",
    "             facecolor=plt.cm.viridis(0.95, 0.5),\n",
    "#             facecolor=plt.cm.viridis(0.05, 0.5),\n",
    "             edgecolor='0.7',\n",
    "             **prop)\n",
    "#o = axh.hist(evolSNF.stretchs.values[np.where(evolSNF.lssfr.values<-10.82)],\n",
    "#             weights=[-1 for i in range(len(evolSNF.stretchs.values[np.where(evolSNF.lssfr.values<-10.82)]))],\n",
    "#             facecolor=plt.cm.viridis(0.95, 0.5),\n",
    "#             edgecolor=\"0.7\",\n",
    "#             **prop)\n",
    "\n",
    "evolSNF.show_model(ax=axh, facealpha=0,\n",
    "                   edgealpha=1, lw=1, zorder=8,\n",
    "                   o_factor=1, y_factor=0)\n",
    "\n",
    "ax.set_xlim(-14.2, -9.05)\n",
    "ax.set_ylim(-3.2, 3.2)\n",
    "\n",
    "axh.set_ylim(*ax.get_ylim())\n",
    "axh.set_yticks([])\n",
    "axh.set_xticks([])\n",
    "\n",
    "axh.axvline(0, color='k', lw=1, zorder=10)\n",
    "\n",
    "axh.set_frame_on(False)\n",
    "\n",
    "path = '../../Images/model_base_hist.pdf'\n",
    "\n",
    "#fig.savefig(path, bbox_inches='tight')"
   ]
  },
  {
   "cell_type": "code",
   "execution_count": 13,
   "metadata": {},
   "outputs": [
    {
     "data": {
      "text/plain": [
       "53.0"
      ]
     },
     "execution_count": 13,
     "metadata": {},
     "output_type": "execute_result"
    }
   ],
   "source": [
    "np.sum(y[0])"
   ]
  },
  {
   "cell_type": "code",
   "execution_count": 65,
   "metadata": {},
   "outputs": [
    {
     "data": {
      "image/png": "[encoded data removed]",
      "text/plain": [
       "<Figure size 504x252 with 2 Axes>"
      ]
     },
     "metadata": {
      "needs_background": "light"
     },
     "output_type": "display_data"
    }
   ],
   "source": [
    "fig = plt.figure(figsize=[7, 3.5])\n",
    "ax = fig.add_axes([0.1, 0.12, 0.62, 0.8])\n",
    "axh = fig.add_axes([0.75, 0.12, 0.2, 0.8])\n",
    "\n",
    "evolSNF.scatter(ax=ax, mod_lw=1, elw=1, lw=1,\n",
    "                facealpha=1, show_leg=False, model=False)\n",
    "\n",
    "ax.text(-14.1, 3, 'Old',\n",
    "        ha='left', va='top',\n",
    "        fontsize='x-large',\n",
    "        color=plt.cm.viridis(0.97, 0.5))\n",
    "\n",
    "ax.text(-9.2, 3, 'Young',\n",
    "        ha='right', va='top',\n",
    "        fontsize='x-large',\n",
    "        color=plt.cm.viridis(0.05, 0.5))\n",
    "\n",
    "axh.text(-0.25, 3, 'Old',\n",
    "        ha='right', va='top',\n",
    "        fontsize='x-large',\n",
    "        color=plt.cm.viridis(0.97, 0.5))\n",
    "\n",
    "axh.text(0.25, 3, 'Young',\n",
    "        ha='left', va='top',\n",
    "        fontsize='x-large',\n",
    "        color=plt.cm.viridis(0.05, 0.5))\n",
    "\n",
    "prop = dict(orientation='horizontal',\n",
    "            histtype='step',\n",
    "            fill=True,\n",
    "            range=(-3, 3), bins=14,\n",
    "            lw=1)\n",
    "\n",
    "y = axh.hist(evolSNF.stretchs, weights=evolSNF.py/12,\n",
    "         facecolor=plt.cm.viridis(0.05, 0.5),\n",
    "         edgecolor='0.7',\n",
    "         **prop)\n",
    "o = axh.hist(evolSNF.stretchs, weights=(evolSNF.py-1)/12,\n",
    "         facecolor=plt.cm.viridis(0.95, 0.5),\n",
    "         edgecolor=\"0.7\",\n",
    "#         edgecolor=plt.cm.viridis(0.95),\n",
    "         **prop)\n",
    "\n",
    "evolSNF.show_model(ax=axh, facealpha=0,\n",
    "                   edgealpha=1, lw=1, zorder=8)\n",
    "\n",
    "ax.set_xlim(-14.2, -9.05)\n",
    "ax.set_ylim(-3.2, 3.2)\n",
    "\n",
    "axh.set_ylim(*ax.get_ylim())\n",
    "axh.set_yticks([])\n",
    "axh.set_xticks([])\n",
    "\n",
    "axh.axvline(0, color='k', lw=1, zorder=10)\n",
    "\n",
    "axh.set_frame_on(False)\n",
    "\n",
    "fig.savefig('../../Images/model_base_hist.pdf', bbox_inches='tight')\n",
    "fig.savefig('../../Images/png/model_base_hist.png', bbox_inches='tight', dpi=600)"
   ]
  },
  {
   "cell_type": "code",
   "execution_count": 33,
   "metadata": {},
   "outputs": [
    {
     "data": {
      "text/plain": [
       "53.53"
      ]
     },
     "execution_count": 33,
     "metadata": {},
     "output_type": "execute_result"
    }
   ],
   "source": [
    "np.sum(12*-o[0])"
   ]
  },
  {
   "cell_type": "code",
   "execution_count": 26,
   "metadata": {},
   "outputs": [],
   "source": [
    "def pdfSNF(x):\n",
    "    return(evolSNF.likelihood_o(x, 0, evolSNF.param['aa'],\n",
    "                                evolSNF.param['mu_1'], evolSNF.param['sigma_1'],\n",
    "                                evolSNF.param['mu_2'], evolSNF.param['sigma_2']))"
   ]
  },
  {
   "cell_type": "code",
   "execution_count": 27,
   "metadata": {},
   "outputs": [
    {
     "data": {
      "text/plain": [
       "(1.0, 2.0979907447502316e-10)"
      ]
     },
     "execution_count": 27,
     "metadata": {},
     "output_type": "execute_result"
    }
   ],
   "source": [
    "scipy.integrate.quad(pdfSNF, -10, 10)"
   ]
  },
  {
   "cell_type": "markdown",
   "metadata": {},
   "source": [
    "## Fit results for _SNF_"
   ]
  },
  {
   "cell_type": "code",
   "execution_count": 8,
   "metadata": {},
   "outputs": [],
   "source": [
    "path_r = '../../Data/SNF_results'\n",
    "\n",
    "with open(path_r, 'wb') as f:\n",
    "    pickle.dump(evolSNF.param, f)"
   ]
  },
  {
   "cell_type": "markdown",
   "metadata": {},
   "source": [
    "## Définition loi analytique"
   ]
  },
  {
   "cell_type": "code",
   "execution_count": 5,
   "metadata": {},
   "outputs": [],
   "source": [
    "def delta(z):\n",
    "    return stretchevol.MockEvol().delta(z)\n",
    "\n",
    "with open('../../Data/SNF_results', 'rb') as f:\n",
    "    res_SNF = pickle.load(f)\n",
    "\n",
    "def age_law_snf(z):\n",
    "    \"\"\"Analytical law with snf results\"\"\"\n",
    "    return (delta(z)*res_SNF['mu_1'] +\n",
    "        (1-delta(z))*(evolSNF.get_a(res_SNF['aa'])*res_SNF['mu_1']\n",
    "                      + (1-evolSNF.get_a(res_SNF['aa']))*res_SNF['mu_2']))\n",
    "\n",
    "def age_law_gen(z, param_hesse):\n",
    "    \"\"\"Function to get laws with parameters taken wrt there hesse error\"\"\"\n",
    "    return (delta(z)*param_hesse[1]\n",
    "      + (1-delta(z))*(evolSNF.get_a(param_hesse[0])*param_hesse[1]\n",
    "                      + (1 - evolSNF.get_a(param_hesse[0]))*param_hesse[2]))"
   ]
  },
  {
   "cell_type": "markdown",
   "metadata": {},
   "source": [
    "## Définition de _cov_ pour sélection aléatoire des paramètres"
   ]
  },
  {
   "cell_type": "code",
   "execution_count": 6,
   "metadata": {},
   "outputs": [],
   "source": [
    "cov = im.Minuit.matrix(evolSNF.m_tot)\n",
    "mean = [evolSNF.m_tot.values[i] for i in range(5)]\n",
    "param_hesse_mat = scipy.stats.multivariate_normal.rvs(mean=mean, cov=cov, size=500)"
   ]
  },
  {
   "cell_type": "markdown",
   "metadata": {},
   "source": [
    "### Only take _a_, _µ1_ and _µ2_"
   ]
  },
  {
   "cell_type": "code",
   "execution_count": 7,
   "metadata": {},
   "outputs": [],
   "source": [
    "param_hesse_cut = param_hesse_mat[:,[0,1,3]]"
   ]
  },
  {
   "cell_type": "markdown",
   "metadata": {},
   "source": [
    "### List of all the models"
   ]
  },
  {
   "cell_type": "code",
   "execution_count": 8,
   "metadata": {},
   "outputs": [],
   "source": [
    "zlin = np.linspace(0, 2.65, 3000)\n",
    "models_hesse = [[age_law_gen(zi, param_hesse) for zi in zlin] for param_hesse in param_hesse_cut]\n",
    "models_hesse = np.asarray(models_hesse)"
   ]
  },
  {
   "cell_type": "markdown",
   "metadata": {},
   "source": [
    "### Take _std_"
   ]
  },
  {
   "cell_type": "code",
   "execution_count": 9,
   "metadata": {},
   "outputs": [],
   "source": [
    "models_std = np.std(models_hesse, axis=0)"
   ]
  },
  {
   "cell_type": "markdown",
   "metadata": {},
   "source": [
    "## Tracé des $x_{\\text{mean}}$ en fonction des $z_{\\text{mean}}$ + analytic"
   ]
  },
  {
   "cell_type": "code",
   "execution_count": 11,
   "metadata": {},
   "outputs": [
    {
     "data": {
      "image/png": "[encoded data removed]",
      "text/plain": [
       "<Figure size 576x360 with 1 Axes>"
      ]
     },
     "metadata": {
      "needs_background": "light"
     },
     "output_type": "display_data"
    }
   ],
   "source": [
    "fig = plt.figure(figsize=[8, 5])\n",
    "ax = fig.add_axes([0.1, 0.12, 0.8, 0.8])\n",
    "\n",
    "#prop = dict(marker=\"o\", ms=10, ecolor=\"0.7\", lw=2, mew=1, mec=\"0.5\", zorder=5)\n",
    "prop = dict(marker=\"o\", ms=15, ecolor=\"0.7\", mew=1, mec=\"0.5\")\n",
    "\n",
    "for survey in surveys[0:1]:\n",
    "    ax.errorbar(np.mean(df_nc[df_nc['survey'] == survey].redshifts),\n",
    "                np.mean(df_nc[df_nc['survey'] == survey].stretchs),\n",
    "                xerr = np.std(df_nc[df_nc['survey'] == survey].redshifts)\\\n",
    "                /np.sqrt(len(df_nc[df_nc['survey'] == survey].redshifts)),\n",
    "                yerr = np.std(df_nc[df_nc['survey'] == survey].stretchs)\\\n",
    "                /np.sqrt(len(df_nc[df_nc['survey'] == survey].stretchs)),\n",
    "                color = colors[survey], label = survey, **prop)\n",
    "    ax.errorbar(np.mean(df_c[df_c['survey'] == survey].redshifts),\n",
    "                np.mean(df_c[df_c['survey'] == survey].stretchs),\n",
    "                xerr = np.std(df_c[df_c['survey'] == survey].redshifts)\\\n",
    "                /np.sqrt(len(df_c[df_c['survey'] == survey].redshifts)),\n",
    "                yerr = np.std(df_c[df_c['survey'] == survey].stretchs)\\\n",
    "                /np.sqrt(len(df_c[df_c['survey'] == survey].stretchs)),\n",
    "                color = colors[survey], **prop,\n",
    "                alpha=.3)\n",
    "\n",
    "#ax.plot(zz, np.mean(x1_z, axis=1), color=\"0.7\", zorder=2, label=\"BiGaussianModel\")\n",
    "ax.axhline(np.mean(df_nc.stretchs), lw=1, ls=\"-\", color=\"C1\")\n",
    "#ax.axhline(np.mean(df_nc.stretchs), color='C1', lw=1, ls='-', label='Mean stretch')\n",
    "\n",
    "zz = np.linspace(0,1.4,1000)\n",
    "\n",
    "ax.plot(zz, age_law_snf(zz),\n",
    "        color=\"0.5\", lw=2, label='Model')\n",
    "\n",
    "nb_mod = 10\n",
    "ran_mod = np.random.choice(500, nb_mod)\n",
    "\n",
    "#for i in range(nb_mod):\n",
    "#    ax.plot(zz, models_hesse[ran_mod[i]], color=\"C1\", lw=1)\n",
    "\n",
    "ax.fill_between(zlin,\n",
    "                age_law_snf(zlin) + models_std,\n",
    "                age_law_snf(zlin) - models_std,\n",
    "                color=\"0.3\", alpha=.1, lw=2)\n",
    "\n",
    "#ax.tick_params(labelsize=12)\n",
    "\n",
    "ax.set_xlim(0.01, 1.4)\n",
    "ax.set_xscale('log')\n",
    "ax.set_ylim(-0.52, 0.52)\n",
    "\n",
    "ax.set_xlabel(r\"$\\mathrm{redshift}$ \", fontsize=\"x-large\")\n",
    "ax.set_ylabel(r\"$\\mathrm{mean\\,\\,x}_1$ \", fontsize=\"x-large\")\n",
    "\n",
    "ax.legend(loc=\"upper left\", ncol=1, fontsize=\"small\",\n",
    "          borderpad=1.05, labelspacing=2.)\n",
    "\n",
    "fig.savefig('../../../../Images/stretchevol_model_snfonly.pdf', bbox_inches='tight')\n",
    "fig.savefig('../../../../Images/stretchevol_model_snfonly.png', bbox_inches='tight', dpi=600)"
   ]
  },
  {
   "cell_type": "markdown",
   "metadata": {},
   "source": [
    "## Calcul du $\\chi²$"
   ]
  },
  {
   "cell_type": "code",
   "execution_count": 81,
   "metadata": {
    "collapsed": true,
    "jupyter": {
     "outputs_hidden": true,
     "source_hidden": true
    }
   },
   "outputs": [
    {
     "data": {
      "text/latex": [
       "$\\chi²_{\\mathrm{hline}}$ = 7.577977 "
      ],
      "text/plain": [
       "<IPython.core.display.Latex object>"
      ]
     },
     "metadata": {},
     "output_type": "display_data"
    },
    {
     "data": {
      "text/latex": [
       "$\\chi²_{\\mathrm{model}}$ = 1.257632 "
      ],
      "text/plain": [
       "<IPython.core.display.Latex object>"
      ]
     },
     "metadata": {},
     "output_type": "display_data"
    },
    {
     "data": {
      "text/latex": [
       "$\\Delta\\chi²$ = 6.320345 "
      ],
      "text/plain": [
       "<IPython.core.display.Latex object>"
      ]
     },
     "metadata": {},
     "output_type": "display_data"
    }
   ],
   "source": [
    "chi2_hline = 0\n",
    "for i in range(5):\n",
    "    chi2_hline += (list(x1_mean.values())[i] - np.mean(np.asarray(list(x1_mean.values()))))**2\\\n",
    "                    / (list(x1_std.values())[i]/np.sqrt(len(list(x1_zcuts.values())[i])))**2\n",
    "    \n",
    "chi2_model = 0\n",
    "for i in range(5):\n",
    "    chi2_model += (list(x1_mean.values())[i] - mock_law(np.asarray(list(z_mean.values())[i]),\n",
    "                                                          m_mock.values['a'],\n",
    "                                                          m_mock.values['b']))**2\\\n",
    "                    / (list(x1_std.values())[i]/np.sqrt(len(list(x1_zcuts.values())[i])))**2\n",
    "\n",
    "delta_chi2 = chi2_hline - chi2_model\n",
    "\n",
    "display(Latex(\"$\\chi²_{\\mathrm{hline}}$ = %5f \" % chi2_hline))\n",
    "display(Latex(\"$\\chi²_{\\mathrm{model}}$ = %5f \" % chi2_model))\n",
    "display(Latex(\"$\\Delta\\chi²$ = %5f \" % delta_chi2))"
   ]
  }
 ],
 "metadata": {
  "kernelspec": {
   "display_name": "Python 3",
   "language": "python",
   "name": "python3"
  },
  "language_info": {
   "codemirror_mode": {
    "name": "ipython",
    "version": 3
   },
   "file_extension": ".py",
   "mimetype": "text/x-python",
   "name": "python",
   "nbconvert_exporter": "python",
   "pygments_lexer": "ipython3",
   "version": "3.7.4"
  }
 },
 "nbformat": 4,
 "nbformat_minor": 4
}
