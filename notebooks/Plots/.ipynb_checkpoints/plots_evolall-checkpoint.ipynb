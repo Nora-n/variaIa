{
 "cells": [
  {
   "cell_type": "markdown",
   "metadata": {},
   "source": [
    "## Modules à importer"
   ]
  },
  {
   "cell_type": "code",
   "execution_count": 1,
   "metadata": {
    "jupyter": {
     "source_hidden": true
    }
   },
   "outputs": [],
   "source": [
    "import math\n",
    "import scipy\n",
    "import pickle\n",
    "import numpy as np\n",
    "import pandas as pd\n",
    "import iminuit as im\n",
    "import ipywidgets as ipw\n",
    "from importlib import reload\n",
    "from scipy.stats import poisson\n",
    "from sklearn.cluster import KMeans\n",
    "from variaIa import baserate\n",
    "from variaIa import stretchevol\n",
    "from astropy.cosmology import Planck15 as cdata\n",
    "from IPython.display import display, Latex\n",
    "import matplotlib.pyplot as plt\n",
    "import random"
   ]
  },
  {
   "cell_type": "markdown",
   "metadata": {},
   "source": [
    "## Définitions pandas, surveys, $z[:z_{\\text{max}}]$, $x_1[:z_{\\text{max}}]$, mean, std et données totales"
   ]
  },
  {
   "cell_type": "code",
   "execution_count": 2,
   "metadata": {},
   "outputs": [],
   "source": [
    "cons = ipw.Checkbox(\n",
    "    value=False,\n",
    "    description='Conservative')"
   ]
  },
  {
   "cell_type": "code",
   "execution_count": 3,
   "metadata": {
    "jupyter": {
     "source_hidden": true
    }
   },
   "outputs": [
    {
     "data": {
      "application/vnd.jupyter.widget-view+json": {
       "model_id": "0d822dd57a4d4a3790caaeb5ced0bfb5",
       "version_major": 2,
       "version_minor": 0
      },
      "text/plain": [
       "interactive(children=(Checkbox(value=False, description='Conservative'), Output()), _dom_classes=('widget-inte…"
      ]
     },
     "metadata": {},
     "output_type": "display_data"
    }
   ],
   "source": [
    "d = pd.read_csv('../Data/data_cheat.csv', sep=' ', index_col = 'CID')\n",
    "d_snf = pd.read_csv('../Data/lssfr_paper_full_sntable.csv',sep=',')\n",
    "\n",
    "surveys = ['SNF', 'SDSS', 'PS1', 'SNLS', 'HST']\n",
    "\n",
    "surv = {'SNF':  d_snf.loc[d_snf['name'].str.contains('SNF|LSQ|PTF',na=False,regex=True)],\n",
    "        'SDSS': d[d['IDSURVEY'] == 1],\n",
    "        'PS1':  d[d['IDSURVEY'] == 15],\n",
    "        'SNLS': d[d['IDSURVEY'] == 4],\n",
    "        'HST':  d[d['IDSURVEY'].isin([101, 100, 106])]}\n",
    "\n",
    "dgmap = plt.cm.get_cmap('viridis')\n",
    "colors = {'SNF': dgmap(0),\n",
    "          'SDSS': dgmap(50),\n",
    "          'PS1': dgmap(125),\n",
    "          'SNLS': dgmap(200),\n",
    "          'HST': dgmap(300)}\n",
    "\n",
    "with open('../Data/zmax_mlim', 'rb') as f:\n",
    "    z_max = pickle.load(f)\n",
    "z_max['HST'] = [10, 10]\n",
    "\n",
    "zmax_cuts = dict()\n",
    "z_zcuts = dict()\n",
    "x1_zcuts = dict()\n",
    "x1_err_zcuts = dict()\n",
    "\n",
    "z_zcuts['SNF'] = surv['SNF']['host.zcmb'].values\n",
    "x1_zcuts['SNF'] = surv['SNF']['salt2.X1'].values\n",
    "x1_err_zcuts['SNF'] = surv['SNF']['salt2.X1.err'].values\n",
    "\n",
    "def set_cons(cons):\n",
    "    global df\n",
    "    \n",
    "    names = []\n",
    "    stretchs = []\n",
    "    stretchs_err = []\n",
    "    redshifts = []\n",
    "    infor = list(surv['SNF']['p(prompt)'])\n",
    "    py = list(surv['SNF']['p(prompt)'])\n",
    "    lssfr = list(surv['SNF']['lssfr'])\n",
    "    lssfr_err_d = list(surv['SNF']['lssfr.err_down'])\n",
    "    lssfr_err_u = list(surv['SNF']['lssfr.err_up'])\n",
    "    \n",
    "    if cons:\n",
    "        for survey in surveys[1:]:\n",
    "            zmax_cuts[survey] = np.where(surv[survey].zCMB.values < z_max[survey][0])\n",
    "            z_zcuts[survey] = surv[survey].zCMB.values[zmax_cuts[survey]]\n",
    "            x1_zcuts[survey] = surv[survey].x1.values[zmax_cuts[survey]]\n",
    "            x1_err_zcuts[survey] = surv[survey].x1ERR.values[zmax_cuts[survey]]\n",
    "    else:\n",
    "        for survey in surveys[1:]:\n",
    "            zmax_cuts[survey] = np.where(surv[survey].zCMB.values < z_max[survey][-1])\n",
    "            z_zcuts[survey] = surv[survey].zCMB.values[zmax_cuts[survey]]\n",
    "            x1_zcuts[survey] = surv[survey].x1.values[zmax_cuts[survey]]\n",
    "            x1_err_zcuts[survey] = surv[survey].x1ERR.values[zmax_cuts[survey]]\n",
    "    \n",
    "    for survey in surveys:\n",
    "        names += [survey for i in range(len(z_zcuts[survey]))]\n",
    "        stretchs += list(x1_zcuts[survey])\n",
    "        stretchs_err += list(x1_err_zcuts[survey])\n",
    "        redshifts += list(z_zcuts[survey])\n",
    "        if survey != 'SNF':\n",
    "            infor += list(stretchevol.Evol2G2M2S().delta(z_zcuts[survey]))\n",
    "            py += list([0 for i in range(len(z_zcuts[survey]))])\n",
    "            lssfr += list([0 for i in range(len(z_zcuts[survey]))])\n",
    "            lssfr_err_d += list([0 for i in range(len(z_zcuts[survey]))])\n",
    "            lssfr_err_u += list([0 for i in range(len(z_zcuts[survey]))])\n",
    "\n",
    "    df = pd.DataFrame({'survey': names,\n",
    "                       'stretchs': stretchs,\n",
    "                       'stretchs_err': stretchs_err,\n",
    "                       'redshifts': redshifts,\n",
    "                       'infor': infor,\n",
    "                       'py': py,\n",
    "                       'lssfr': lssfr,\n",
    "                       'lssfr_err_d': lssfr_err_d,\n",
    "                       'lssfr_err_u': lssfr_err_u})\n",
    "\n",
    "    z_mean = np.mean(df.redshifts)\n",
    "    z_std = np.std(df.redshifts)\n",
    "    x1_mean = np.mean(df.stretchs)\n",
    "    x1_std = np.std(df.stretchs)\n",
    "    \n",
    "    return(df)\n",
    "            \n",
    "int_set_cons = ipw.interactive(set_cons, cons=cons)\n",
    "display(int_set_cons)\n",
    "\n",
    "names = ['SNF' for i in range(len(z_zcuts['SNF']))]\n",
    "stretchs = list(x1_zcuts['SNF'])\n",
    "stretchs_err = list(x1_err_zcuts['SNF'])\n",
    "redshifts = list(z_zcuts['SNF'])\n",
    "infor = list(surv['SNF']['p(prompt)'])\n",
    "py = list(surv['SNF']['p(prompt)'])\n",
    "lssfr = list(surv['SNF']['lssfr'])\n",
    "lssfr_err_d = list(surv['SNF']['lssfr.err_down'])\n",
    "lssfr_err_u = list(surv['SNF']['lssfr.err_up'])\n",
    "\n",
    "for survey in surveys[1:]:\n",
    "    names += [survey for i in range(len(surv[survey].zCMB.values))]\n",
    "    stretchs += list(surv[survey].x1.values)\n",
    "    stretchs_err += list(surv[survey].x1ERR.values)\n",
    "    redshifts += list(surv[survey].zCMB.values)\n",
    "    infor += list(stretchevol.Evol2G2M2S().delta(surv[survey].zCMB.values))\n",
    "    py += list([0 for i in range(len(surv[survey].zCMB.values))])\n",
    "    lssfr += list([0 for i in range(len(surv[survey].zCMB.values))])\n",
    "    lssfr_err_d += list([0 for i in range(len(surv[survey].zCMB.values))])\n",
    "    lssfr_err_u += list([0 for i in range(len(surv[survey].zCMB.values))])\n",
    "\n",
    "df_full = pd.DataFrame({'survey': names,\n",
    "                        'stretchs': stretchs,\n",
    "                        'stretchs_err': stretchs_err,\n",
    "                        'redshifts': redshifts,\n",
    "                        'infor': infor,\n",
    "                        'py': py,\n",
    "                        'lssfr': lssfr,\n",
    "                        'lssfr_err_d': lssfr_err_d,\n",
    "                        'lssfr_err_u': lssfr_err_u})\n",
    "\n",
    "df_nc = set_cons(False)\n",
    "df_c = set_cons(True)"
   ]
  },
  {
   "cell_type": "markdown",
   "metadata": {},
   "source": [
    "## Utilisation de la classe _stretchevol_ pour le fit double total"
   ]
  },
  {
   "cell_type": "code",
   "execution_count": 4,
   "metadata": {},
   "outputs": [
    {
     "data": {
      "text/html": [
       "<table>\n",
       "<tr style=\"background-color:#F4F4F4;\">\n",
       "<td/>\n",
       "<th title=\"Variable name\">\n",
       "Name\n",
       "</th>\n",
       "<th title=\"Value of parameter\">\n",
       "Value\n",
       "</th>\n",
       "<th title=\"Hesse error\">\n",
       "Hesse Error\n",
       "</th>\n",
       "<th title=\"Minos lower error\">\n",
       "Minos Error-\n",
       "</th>\n",
       "<th title=\"Minos upper error\">\n",
       "Minos Error+\n",
       "</th>\n",
       "<th title=\"Lower limit of the parameter\">\n",
       "Limit-\n",
       "</th>\n",
       "<th title=\"Upper limit of the parameter\">\n",
       "Limit+\n",
       "</th>\n",
       "<th title=\"Is the parameter fixed in the fit\">\n",
       "Fixed\n",
       "</th>\n",
       "</tr>\n",
       "<tr style=\"background-color:#FFFFFF;\">\n",
       "<td>\n",
       "0\n",
       "</td>\n",
       "<td>\n",
       "aa\n",
       "</td>\n",
       "<td>\n",
       "-0.11\n",
       "</td>\n",
       "<td>\n",
       " 0.29\n",
       "</td>\n",
       "<td>\n",
       "\n",
       "</td>\n",
       "<td>\n",
       "\n",
       "</td>\n",
       "<td>\n",
       "\n",
       "</td>\n",
       "<td>\n",
       "\n",
       "</td>\n",
       "<td>\n",
       "\n",
       "</td>\n",
       "</tr>\n",
       "<tr style=\"background-color:#F4F4F4;\">\n",
       "<td>\n",
       "1\n",
       "</td>\n",
       "<td>\n",
       "mu_1\n",
       "</td>\n",
       "<td>\n",
       "0.38\n",
       "</td>\n",
       "<td>\n",
       "0.05\n",
       "</td>\n",
       "<td>\n",
       "\n",
       "</td>\n",
       "<td>\n",
       "\n",
       "</td>\n",
       "<td>\n",
       "\n",
       "</td>\n",
       "<td>\n",
       "\n",
       "</td>\n",
       "<td>\n",
       "\n",
       "</td>\n",
       "</tr>\n",
       "<tr style=\"background-color:#FFFFFF;\">\n",
       "<td>\n",
       "2\n",
       "</td>\n",
       "<td>\n",
       "sigma_1\n",
       "</td>\n",
       "<td>\n",
       "0.60\n",
       "</td>\n",
       "<td>\n",
       "0.04\n",
       "</td>\n",
       "<td>\n",
       "\n",
       "</td>\n",
       "<td>\n",
       "\n",
       "</td>\n",
       "<td>\n",
       "\n",
       "</td>\n",
       "<td>\n",
       "\n",
       "</td>\n",
       "<td>\n",
       "\n",
       "</td>\n",
       "</tr>\n",
       "<tr style=\"background-color:#F4F4F4;\">\n",
       "<td>\n",
       "3\n",
       "</td>\n",
       "<td>\n",
       "mu_2\n",
       "</td>\n",
       "<td>\n",
       "-1.26\n",
       "</td>\n",
       "<td>\n",
       " 0.13\n",
       "</td>\n",
       "<td>\n",
       "\n",
       "</td>\n",
       "<td>\n",
       "\n",
       "</td>\n",
       "<td>\n",
       "\n",
       "</td>\n",
       "<td>\n",
       "\n",
       "</td>\n",
       "<td>\n",
       "\n",
       "</td>\n",
       "</tr>\n",
       "<tr style=\"background-color:#FFFFFF;\">\n",
       "<td>\n",
       "4\n",
       "</td>\n",
       "<td>\n",
       "sigma_2\n",
       "</td>\n",
       "<td>\n",
       "0.53\n",
       "</td>\n",
       "<td>\n",
       "0.08\n",
       "</td>\n",
       "<td>\n",
       "\n",
       "</td>\n",
       "<td>\n",
       "\n",
       "</td>\n",
       "<td>\n",
       "\n",
       "</td>\n",
       "<td>\n",
       "\n",
       "</td>\n",
       "<td>\n",
       "\n",
       "</td>\n",
       "</tr>\n",
       "</table>\n"
      ],
      "text/plain": [
       "---------------------------------------------------------------------------------------------\n",
       "|   | Name    |   Value   | Hesse Err | Minos Err- | Minos Err+ | Limit-  | Limit+  | Fixed |\n",
       "---------------------------------------------------------------------------------------------\n",
       "| 0 | aa      |   -0.11   |    0.29   |            |            |         |         |       |\n",
       "| 1 | mu_1    |   0.38    |   0.05    |            |            |         |         |       |\n",
       "| 2 | sigma_1 |   0.60    |   0.04    |            |            |         |         |       |\n",
       "| 3 | mu_2    |   -1.26   |    0.13   |            |            |         |         |       |\n",
       "| 4 | sigma_2 |   0.53    |   0.08    |            |            |         |         |       |\n",
       "---------------------------------------------------------------------------------------------"
      ]
     },
     "execution_count": 4,
     "metadata": {},
     "output_type": "execute_result"
    }
   ],
   "source": [
    "evol3G2M2S = stretchevol.Evol3G2M2S()\n",
    "evol3G2M2S.set_data(df_nc)\n",
    "\n",
    "evol3G2M2S.GUESSVAL[3] = -1\n",
    "\n",
    "evol3G2M2S.minimize()\n",
    "\n",
    "evol3G2M2S.migrad_out[1]\n",
    "\n",
    "###################################################\n",
    "\n",
    "evol3G2M2S_cons = stretchevol.Evol3G2M2S()\n",
    "evol3G2M2S_cons.set_data(df_c)\n",
    "\n",
    "evol3G2M2S_cons.GUESSVAL[3] = -1\n",
    "\n",
    "evol3G2M2S_cons.minimize()\n",
    "\n",
    "evol3G2M2S_cons.migrad_out[1]\n",
    "\n",
    "#evol3G2M2S.plotter()\n",
    "\n",
    "#fig=plt.gcf()\n",
    "#fig.savefig('/home/nora/Pictures/BiGaussian.pdf')"
   ]
  },
  {
   "cell_type": "markdown",
   "metadata": {},
   "source": [
    "## Test without SNf Data"
   ]
  },
  {
   "cell_type": "code",
   "execution_count": 18,
   "metadata": {},
   "outputs": [],
   "source": [
    "evol3G2M2S_nsnf = stretchevol.Evol3G2M2S()\n",
    "evol3G2M2S_nsnf.set_data(df[df['survey'].isin(['SDSS','PS1','SNLS','HST'])])\n",
    "\n",
    "evol3G2M2S_nsnf.minimize()"
   ]
  },
  {
   "cell_type": "markdown",
   "metadata": {},
   "source": [
    "## Get _a_ and _a-err_"
   ]
  },
  {
   "cell_type": "code",
   "execution_count": 5,
   "metadata": {
    "jupyter": {
     "source_hidden": true
    }
   },
   "outputs": [
    {
     "name": "stdout",
     "output_type": "stream",
     "text": [
      "vmin = 0.399\n",
      "vc = 0.495\n",
      "vmax = 0.606\n",
      "a = 0.5 ^ 0.11 _ -0.1\n",
      "vmin = 0.384\n",
      "vc = 0.471\n",
      "vmax = 0.557\n",
      "a = 0.47 ^ 0.09 _ -0.09\n"
     ]
    }
   ],
   "source": [
    "aa_list = scipy.stats.norm.rvs(loc=evol3G2M2S.migrad_out[1][0]['value'],\n",
    "                               scale=evol3G2M2S.migrad_out[1][0]['error'],\n",
    "                               size=1000)\n",
    "a_list = evol3G2M2S.get_a(aa_list)\n",
    "vmin, vc, vmax = np.percentile(a_list, [16, 50, 84])\n",
    "\n",
    "print('vmin =', round(vmin, 3))\n",
    "print('vc =', round(vc, 3))\n",
    "print('vmax =', round(vmax, 3))\n",
    "print('a =', round(vc, 2), '^', round(vmax-vc, 2), '_', round(-(vc-vmin), 2))\n",
    "\n",
    "aa_list = scipy.stats.norm.rvs(loc=evol3G2M2S_cons.migrad_out[1][0]['value'],\n",
    "                               scale=evol3G2M2S_cons.migrad_out[1][0]['error'],\n",
    "                               size=1000)\n",
    "a_list = evol3G2M2S_cons.get_a(aa_list)\n",
    "vmin, vc, vmax = np.percentile(a_list, [16, 50, 84])\n",
    "\n",
    "print('vmin =', round(vmin, 3))\n",
    "print('vc =', round(vc, 3))\n",
    "print('vmax =', round(vmax, 3))\n",
    "print('a =', round(vc, 2), '^', round(vmax-vc, 2), '_', round(-(vc-vmin), 2))"
   ]
  },
  {
   "cell_type": "markdown",
   "metadata": {},
   "source": [
    "## Défnition _age-law_"
   ]
  },
  {
   "cell_type": "code",
   "execution_count": 19,
   "metadata": {},
   "outputs": [],
   "source": [
    "def delta(z):\n",
    "    return stretchevol.MockEvol().delta(z)\n",
    "\n",
    "with open('../Data/SNF_results', 'rb') as f:\n",
    "    res_SNF = pickle.load(f)\n",
    "\n",
    "def age_law_snf(z):\n",
    "    \"\"\"Analytical law with snf results\"\"\"\n",
    "    return (delta(z)*res_SNF['mu_1'] +\n",
    "        (1-delta(z))*(evolSNF.get_a(res_SNF['aa'])*res_SNF['mu_1']\n",
    "                      + (1-evolSNF.get_a(res_SNF['aa']))*res_SNF['mu_2']))\n",
    "\n",
    "with open('../Data/ALL_results', 'rb') as f:\n",
    "    res_ALL = pickle.load(f)\n",
    "\n",
    "def age_law_all(z):\n",
    "    \"\"\"Analytical law with 3G2M2S results\"\"\"\n",
    "    return (delta(z)*res_ALL['mu_1']\n",
    "      + (1-delta(z))*(evol3G2M2S.get_a(res_ALL['aa'])*res_ALL['mu_1']\n",
    "                      + (1 - evol3G2M2S.get_a(res_ALL['aa']))*res_ALL['mu_2']))\n",
    "\n",
    "def age_law_all_nsnf(z):\n",
    "    \"\"\"Analytical law with 3G2M2S results fitted without SNf\"\"\"\n",
    "    return (delta(z)*evol3G2M2S_nsnf.param['mu_1']\n",
    "      + (1-delta(z))*(evol3G2M2S.get_a(evol3G2M2S_nsnf.param['aa'])*evol3G2M2S_nsnf.param['mu_1']\n",
    "                      + (1 - evol3G2M2S.get_a(evol3G2M2S_nsnf.param['aa']))*evol3G2M2S_nsnf.param['mu_2']))\n",
    "\n",
    "def age_law_all_cons(z):\n",
    "    \"\"\"Analytical law with 3G2M2S results\"\"\"\n",
    "    return (delta(z)*evol3G2M2S_cons.param['mu_1']\n",
    "      + (1-delta(z))*(evol3G2M2S.get_a(evol3G2M2S_cons.param['aa'])*evol3G2M2S_cons.param['mu_1']\n",
    "                      + (1 - evol3G2M2S.get_a(evol3G2M2S_cons.param['aa']))*evol3G2M2S_cons.param['mu_2']))\n",
    "\n",
    "def age_law_gen(z, param_hesse):\n",
    "    \"\"\"Function to get laws with parameters taken wrt there hesse error\"\"\"\n",
    "    return (delta(z)*param_hesse[1]\n",
    "      + (1-delta(z))*(evol3G2M2S.get_a(param_hesse[0])*param_hesse[1]\n",
    "                      + (1 - evol3G2M2S.get_a(param_hesse[0]))*param_hesse[2]))"
   ]
  },
  {
   "cell_type": "markdown",
   "metadata": {},
   "source": [
    "## Définition de _cov_ pour sélection aléatoire des paramètres"
   ]
  },
  {
   "cell_type": "code",
   "execution_count": 7,
   "metadata": {},
   "outputs": [],
   "source": [
    "cov = im.Minuit.matrix(evol3G2M2S.m_tot)\n",
    "mean = [evol3G2M2S.m_tot.values[i] for i in range(5)]\n",
    "param_hesse_mat = scipy.stats.multivariate_normal.rvs(mean=mean, cov=cov, size=500)\n",
    "\n",
    "cov_cons = im.Minuit.matrix(evol3G2M2S_cons.m_tot)\n",
    "mean_cons = [evol3G2M2S_cons.m_tot.values[i] for i in range(5)]\n",
    "param_hesse_mat_cons = scipy.stats.multivariate_normal.rvs(mean=mean_cons, cov=cov_cons, size=500)"
   ]
  },
  {
   "cell_type": "markdown",
   "metadata": {},
   "source": [
    "### Only take _a_, _µ1_ and _µ2_"
   ]
  },
  {
   "cell_type": "code",
   "execution_count": 8,
   "metadata": {},
   "outputs": [],
   "source": [
    "param_hesse_cut = param_hesse_mat[:,[0,1,3]]\n",
    "\n",
    "param_hesse_cut_cons = param_hesse_mat_cons[:,[0,1,3]]"
   ]
  },
  {
   "cell_type": "markdown",
   "metadata": {},
   "source": [
    "### List of all the models"
   ]
  },
  {
   "cell_type": "code",
   "execution_count": 9,
   "metadata": {},
   "outputs": [],
   "source": [
    "zlin = np.linspace(0, 2.65, 1000)\n",
    "models_hesse = [[age_law_gen(zi, param_hesse) for zi in zlin] for param_hesse in param_hesse_cut]\n",
    "models_hesse = np.asarray(models_hesse)\n",
    "\n",
    "models_hesse_cons = [[age_law_gen(zi, param_hesse_cons) for zi in zlin] for param_hesse_cons in param_hesse_cut_cons]\n",
    "models_hesse_cons = np.asarray(models_hesse_cons)"
   ]
  },
  {
   "cell_type": "markdown",
   "metadata": {},
   "source": [
    "### Take _std_"
   ]
  },
  {
   "cell_type": "code",
   "execution_count": 10,
   "metadata": {},
   "outputs": [],
   "source": [
    "models_std = np.std(models_hesse, axis=0)\n",
    "\n",
    "models_std_cons = np.std(models_hesse_cons, axis=0)"
   ]
  },
  {
   "cell_type": "markdown",
   "metadata": {},
   "source": [
    "## Moyennage sur toutes les données pour plus de points"
   ]
  },
  {
   "cell_type": "markdown",
   "metadata": {},
   "source": [
    "### Définition des bins sur lesquels faire les moyennes"
   ]
  },
  {
   "cell_type": "code",
   "execution_count": 11,
   "metadata": {},
   "outputs": [],
   "source": [
    "def histedges_equalN(x, nbin):\n",
    "    npt = len(x)\n",
    "    return np.interp(np.linspace(0, npt, nbin + 1),\n",
    "                     np.arange(npt),\n",
    "                     np.sort(x))\n",
    "\n",
    "_, bins = np.histogram(df_nc.redshifts, histedges_equalN(df_nc.redshifts, 6))\n",
    "_, bins_cons = np.histogram(df_c.redshifts, histedges_equalN(df_c.redshifts, 6))"
   ]
  },
  {
   "cell_type": "markdown",
   "metadata": {},
   "source": [
    "## Utilisation de la classe _stretchevol_ pour le fit double"
   ]
  },
  {
   "cell_type": "code",
   "execution_count": 12,
   "metadata": {
    "jupyter": {
     "source_hidden": true
    }
   },
   "outputs": [],
   "source": [
    "reload(stretchevol)\n",
    "\n",
    "evolSNF = stretchevol.Evol3G2M2SSNF()\n",
    "evolSNF.set_data(df[df['survey'] == 'SNF'])\n",
    "\n",
    "evolSNF.minimize()\n",
    "\n",
    "#fig=plt.gcf()\n",
    "#fig.savefig('/home/nora/Documents/Thèse/Images/BiGaussian.pdf', bbox_inches='tight')"
   ]
  },
  {
   "cell_type": "code",
   "execution_count": 13,
   "metadata": {
    "jupyter": {
     "source_hidden": true
    }
   },
   "outputs": [
    {
     "name": "stdout",
     "output_type": "stream",
     "text": [
      "vmin = 0.402\n",
      "vc = 0.485\n",
      "vmax = 0.56\n",
      "a = 0.48 ^ 0.07 _ -0.08\n"
     ]
    }
   ],
   "source": [
    "aa_list = scipy.stats.norm.rvs(loc=evolSNF.migrad_out[1][0]['value'],\n",
    "                               scale=evolSNF.migrad_out[1][0]['error'],\n",
    "                               size=1000)\n",
    "a_list = evolSNF.get_a(aa_list)\n",
    "vmin, vc, vmax = np.percentile(a_list, [16, 50, 84])\n",
    "\n",
    "print('vmin =', round(vmin, 3))\n",
    "print('vc =', round(vc, 3))\n",
    "print('vmax =', round(vmax, 3))\n",
    "print('a =', round(vc, 2), '^', round(vmax-vc, 2), '_', round(-(vc-vmin), 2))"
   ]
  },
  {
   "cell_type": "markdown",
   "metadata": {},
   "source": [
    "### Tracé des points"
   ]
  },
  {
   "cell_type": "code",
   "execution_count": 29,
   "metadata": {},
   "outputs": [
    {
     "name": "stdout",
     "output_type": "stream",
     "text": [
      "redshift_mean = 0.04789702967139894\n",
      "stretch_mean = -0.1693993896725258 ± 0.09976585656176981\n",
      "redshift_mean = 0.65033125\n",
      "stretch_mean = 0.3354286768181818 ± 0.09727916274977488\n"
     ]
    }
   ],
   "source": [
    "print('redshift_mean =', z_comp_mean[0])\n",
    "print('stretch_mean =', x1_comp_mean[0], '±', x1_comp_std[0]/np.sqrt(len(df_nc.stretchs.values[slices[0]])))\n",
    "print('redshift_mean =', z_comp_mean[-1])\n",
    "print('stretch_mean =', x1_comp_mean[-1], '±', x1_comp_std[-1]/np.sqrt(len(df_nc.stretchs.values[slices[-1]])))"
   ]
  },
  {
   "cell_type": "code",
   "execution_count": 24,
   "metadata": {},
   "outputs": [
    {
     "data": {
      "image/png": "[encoded data removed]",
      "text/plain": [
       "<Figure size 576x360 with 1 Axes>"
      ]
     },
     "metadata": {
      "needs_background": "light"
     },
     "output_type": "display_data"
    }
   ],
   "source": [
    "fig = plt.figure(figsize=[8, 5])\n",
    "ax = fig.add_axes([0.1, 0.12, 0.8, 0.8])\n",
    "#ax2 = fig.add_axes([0.1, 1.05, 0.8, 0.8])\n",
    "\n",
    "prop = dict(marker=\"o\", ms=15, ecolor=\"0.7\", mew=1, mec=\"0.5\")\n",
    "\n",
    "#ax.scatter(dataz_all, datax_all, color=\"0.7\")\n",
    "\n",
    "cmap = 'inferno'\n",
    "\n",
    "vmap_v = plt.cm.get_cmap(cmap)(np.linspace(0, 1, len(bins)))\n",
    "for i in range(len(bins)):\n",
    "    ax.vline(bins[i], color=\"0.7\", lw=1)\n",
    "\n",
    "slices = []\n",
    "x1_comp_mean = np.zeros(6)\n",
    "x1_comp_std = np.zeros(6)\n",
    "z_comp_mean = np.zeros(6)\n",
    "z_comp_std = np.zeros(6)\n",
    "\n",
    "for i in range(6):\n",
    "    slices.append(np.where((df_nc.redshifts > bins[i]) & (df_nc.redshifts <= bins[i+1])))\n",
    "    x1_comp_mean[i] = np.mean(df_nc.stretchs.values[slices[i]])\n",
    "    x1_comp_std[i] = np.std(df_nc.stretchs.values[slices[i]])\n",
    "    z_comp_mean[i] = np.mean(df_nc.redshifts.values[slices[i]])\n",
    "    z_comp_std[i] = np.std(df_nc.redshifts.values[slices[i]])\n",
    "    \n",
    "vmap_s = plt.cm.get_cmap(cmap)(np.linspace(0, 1, 6))\n",
    "for i, c in zip(range(6), vmap_s):\n",
    "   ax.errorbar(z_comp_mean[i], x1_comp_mean[i],\n",
    "               xerr = z_comp_std[i]/np.sqrt(len(df_nc.redshifts.values[slices[i]])),\n",
    "               yerr = x1_comp_std[i]/np.sqrt(len(df_nc.stretchs.values[slices[i]])),\n",
    "               color=vmap_s[i], **prop, zorder=10, lw=1)\n",
    "\n",
    "#ax.plot(zz, np.mean(x1_z, axis=1),\n",
    "#        color=\"0.5\", lw=2, zorder=2, label=\"Age mock all\")\n",
    "#ax.plot(zz_all, np.mean(x1_z_all, axis=1), color=\"0.7\", zorder=2, label=\"Age model all\")\n",
    "\n",
    "ax.plot(zlin, age_law_snf(zlin),\n",
    "        color=\"0.5\", lw=2, ls='-',\n",
    "        label='Model SNf', zorder=6)\n",
    "\n",
    "#ax.fill_between(zlin, age_law_snf(zlin) + models_std_snf,\n",
    "#                age_law_snf(zlin) - models_std_snf,\n",
    "#                color=\"C0\", alpha=.1, lw=2)\n",
    "\n",
    "ax.plot(zlin, age_law_all(zlin),\n",
    "        color=\"C0\", lw=2,\n",
    "        label='Model All', zorder=8)\n",
    "\n",
    "ax.plot(zlin, age_law_all_nsnf(zlin),\n",
    "        color=\"C0\", lw=2, ls='-.',\n",
    "        label='Model All-SNf', zorder=8)\n",
    "\n",
    "ax.fill_between(zlin, age_law_all(zlin) + models_std,\n",
    "                age_law_all(zlin) - models_std,\n",
    "                color=\"C0\", alpha=.1, lw=2)\n",
    "\n",
    "ax.set_xlabel(r\"$\\mathrm{redshift}$ \", fontsize=\"x-large\")\n",
    "ax.set_ylabel(r\"$\\mathrm{mean\\,\\,x}_1$ \", fontsize=\"x-large\")\n",
    "\n",
    "\n",
    "#ax.set_title('Model for non-conservative data')\n",
    "\n",
    "###############################################################\n",
    "\n",
    "#for i in range(len(bins_cons)):\n",
    "#    ax.vline(bins_cons[i], color = vmap_v[i], alpha=.3)\n",
    "\n",
    "slices_cons = []\n",
    "x1_comp_mean_cons = np.zeros(6)\n",
    "x1_comp_std_cons = np.zeros(6)\n",
    "z_comp_mean_cons = np.zeros(6)\n",
    "z_comp_std_cons = np.zeros(6)\n",
    "\n",
    "bins_text = bins\n",
    "bins_text[-1] = 1.4\n",
    "shift_slices = [[0.007, 0.0085],\n",
    "                [0.008, 0.0115],\n",
    "                [0.012, 0.017],\n",
    "                [0.015, 0.023],\n",
    "                [0.029, 0.040],\n",
    "                [0.180, 0.210]]\n",
    "\n",
    "for i in range(6):\n",
    "    slices_cons.append(np.where((df_c.redshifts > bins[i]) & (df_c.redshifts <= bins[i+1])))\n",
    "    x1_comp_mean_cons[i] = np.mean(df_c.stretchs.values[slices_cons[i]])\n",
    "    x1_comp_std_cons[i] = np.std(df_c.stretchs.values[slices_cons[i]])\n",
    "    z_comp_mean_cons[i] = np.mean(df_c.redshifts.values[slices_cons[i]])\n",
    "    z_comp_std_cons[i] = np.std(df_c.redshifts.values[slices_cons[i]])\n",
    "    \n",
    "    if len(df_nc.redshifts.values[slices[i]]) == len(df_c.redshifts.values[slices_cons[i]]):\n",
    "        ax.text((bins_text[i+1]+bins_text[i])/2-shift_slices[i][0], -0.465,\n",
    "                str(len(df_nc.redshifts.values[slices[i]])), alpha=.1)\n",
    "    else:\n",
    "        ax.text((bins_text[i+1]+bins_text[i])/2-shift_slices[i][0], -0.45,\n",
    "                str(len(df_nc.redshifts.values[slices[i]])), alpha=.1)\n",
    "        ax.text((bins_text[i+1]+bins_text[i])/2-shift_slices[i][1], -0.48,\n",
    "                '(' + str(len(df_c.redshifts.values[slices_cons[i]])) + ')', alpha=.1)\n",
    "\n",
    "for i, c in zip(range(6), vmap_s):\n",
    "   ax.errorbar(z_comp_mean_cons[i], x1_comp_mean_cons[i],\n",
    "                xerr = z_comp_std_cons[i]/np.sqrt(len(df_c.redshifts.values[slices_cons[i]])),\n",
    "                yerr = x1_comp_std_cons[i]/np.sqrt(len(df_c.stretchs.values[slices_cons[i]])),\n",
    "                color=vmap_s[i], **prop, alpha=.3, zorder=9, lw=1)\n",
    "\n",
    "#ax.plot(zz, np.mean(x1_z, axis=1),\n",
    "#        color=\"0.5\", lw=2, zorder=2, label=\"Age mock all\")\n",
    "#ax.plot(zz_all, np.mean(x1_z_all, axis=1), color=\"0.7\", zorder=2, label=\"Age model all\")\n",
    "\n",
    "#ax2.plot(zlin, age_law_snf(zlin),\n",
    "#         color=\"0.5\", lw=2, ls='--',\n",
    "#         label='Age model SNF')\n",
    "#\n",
    "ax.plot(zlin, age_law_all_cons(zlin),\n",
    "        color=\"C0\", lw=1.5, ls='--', alpha=.5,\n",
    "        label='Model All(cons)', zorder=7)\n",
    "\n",
    "ax.hline(np.mean(df_nc.stretchs), color='C1', lw=1, ls='-', label='Mean stretch')\n",
    "\n",
    "ax.set_ylim(-0.52, 0.52)\n",
    "ax.set_xlim(0.01, 1.4)\n",
    "ax.set_xscale('log')\n",
    "\n",
    "\n",
    "#\n",
    "#ax.fill_between(zlin, age_law_all_cons(zlin) + models_std_cons,\n",
    "#                age_law_all_cons(zlin) - models_std_cons,\n",
    "#                color=\"C0\", alpha=.1, lw=2, zorder=3)\n",
    "#\n",
    "#ax2.hline(np.mean(datax_cons_all), color='.5', lw=1, ls='--')\n",
    "#\n",
    "#ax2.tick_params(direction = 'in',\n",
    "#                length = 5, width = 1,\n",
    "#                labelsize = 12,\n",
    "#                top = True, right = True)\n",
    "#\n",
    "##ax2.set_xlabel(r\"$\\mathrm{redshift}$ \", fontsize=\"x-large\")\n",
    "#ax2.set_ylabel(r\"$\\mathrm{mean\\,\\,x}_1$ \", fontsize=\"x-large\")\n",
    "#\n",
    "#ax2.legend(ncol=1, loc='lower right')\n",
    "#\n",
    "##ax.set_ylim(-3, 3)\n",
    "#ax2.set_ylim(-0.52, 0.52)\n",
    "#ax2.set_xlim(0.01, 1.4)\n",
    "#ax2.set_xscale('log')\n",
    "#\n",
    "#ax2.set_title('Model for conservative data')\n",
    "\n",
    "ax.legend(ncol=1, loc='upper left')\n",
    "\n",
    "fig.savefig('../../../Images/stretchevol_all_vs_snf_nsnf_maglim-cuts.pdf', bbox_inches='tight')"
   ]
  },
  {
   "cell_type": "code",
   "execution_count": null,
   "metadata": {},
   "outputs": [],
   "source": []
  }
 ],
 "metadata": {
  "kernelspec": {
   "display_name": "Python 3",
   "language": "python",
   "name": "python3"
  },
  "language_info": {
   "codemirror_mode": {
    "name": "ipython",
    "version": 3
   },
   "file_extension": ".py",
   "mimetype": "text/x-python",
   "name": "python",
   "nbconvert_exporter": "python",
   "pygments_lexer": "ipython3",
   "version": "3.7.4"
  }
 },
 "nbformat": 4,
 "nbformat_minor": 4
}
