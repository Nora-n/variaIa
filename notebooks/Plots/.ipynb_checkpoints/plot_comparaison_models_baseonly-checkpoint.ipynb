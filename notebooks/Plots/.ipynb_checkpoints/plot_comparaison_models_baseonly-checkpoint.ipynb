{
 "cells": [
  {
   "cell_type": "markdown",
   "metadata": {},
   "source": [
    "## Modules à importer"
   ]
  },
  {
   "cell_type": "code",
   "execution_count": 2,
   "metadata": {
    "jupyter": {
     "source_hidden": true
    }
   },
   "outputs": [],
   "source": [
    "import math\n",
    "import scipy\n",
    "import pickle\n",
    "import numpy as np\n",
    "import pandas as pd\n",
    "import iminuit as im\n",
    "import ipywidgets as ipw\n",
    "from importlib import reload\n",
    "from scipy.stats import poisson\n",
    "from variaIa import baserate\n",
    "from variaIa import stretchevol\n",
    "from astropy.cosmology import Planck15 as cdata\n",
    "from IPython.display import display, Latex\n",
    "import matplotlib.pyplot as plt\n",
    "import random"
   ]
  },
  {
   "cell_type": "markdown",
   "metadata": {},
   "source": [
    "## Définitions pandas, surveys, $z[:z_{\\text{max}}]$, $x_1[:z_{\\text{max}}]$, mean et std + cons"
   ]
  },
  {
   "cell_type": "code",
   "execution_count": 4,
   "metadata": {},
   "outputs": [],
   "source": [
    "cons = ipw.Checkbox(\n",
    "    value=False,\n",
    "    description='Conservative')"
   ]
  },
  {
   "cell_type": "code",
   "execution_count": 5,
   "metadata": {
    "jupyter": {
     "source_hidden": true
    }
   },
   "outputs": [
    {
     "data": {
      "application/vnd.jupyter.widget-view+json": {
       "model_id": "f08f8d9bbdae4860b931da6039b7b497",
       "version_major": 2,
       "version_minor": 0
      },
      "text/plain": [
       "interactive(children=(Checkbox(value=False, description='Conservative'), Output()), _dom_classes=('widget-inte…"
      ]
     },
     "metadata": {},
     "output_type": "display_data"
    }
   ],
   "source": [
    "d = pd.read_csv('../../Data/data_cheat.csv', sep=' ', index_col = 'CID')\n",
    "d_snf = pd.read_csv('../../Data/lssfr_paper_full_sntable.csv',sep=',')\n",
    "\n",
    "surveys = ['SNF', 'SDSS', 'PS1', 'SNLS', 'HST']\n",
    "\n",
    "surv = {'SNF':  d_snf.loc[d_snf['name'].str.contains('SNF|LSQ|PTF',na=False,regex=True)],\n",
    "        'SDSS': d[d['IDSURVEY'] == 1],\n",
    "        'PS1':  d[d['IDSURVEY'] == 15],\n",
    "        'SNLS': d[d['IDSURVEY'] == 4],\n",
    "        'HST':  d[d['IDSURVEY'].isin([101, 100, 106])]}\n",
    "\n",
    "dgmap = plt.cm.get_cmap('viridis')\n",
    "colors = {'SNF': dgmap(0),\n",
    "          'SDSS': dgmap(50),\n",
    "          'PS1': dgmap(125),\n",
    "          'SNLS': dgmap(200),\n",
    "          'HST': dgmap(300)}\n",
    "\n",
    "with open('../../Data/zmax_mlim', 'rb') as f:\n",
    "    z_max = pickle.load(f)\n",
    "z_max['HST'] = [10, 10]\n",
    "\n",
    "zmax_cuts = dict()\n",
    "z_zcuts = dict()\n",
    "x1_zcuts = dict()\n",
    "x1_err_zcuts = dict()\n",
    "\n",
    "z_zcuts['SNF'] = surv['SNF']['host.zcmb'].values\n",
    "x1_zcuts['SNF'] = surv['SNF']['salt2.X1'].values\n",
    "x1_err_zcuts['SNF'] = surv['SNF']['salt2.X1.err'].values\n",
    "\n",
    "def set_cons(cons):\n",
    "    global df\n",
    "    \n",
    "    names = []\n",
    "    stretchs = []\n",
    "    stretchs_err = []\n",
    "    redshifts = []\n",
    "    infor = list(surv['SNF']['p(prompt)'])\n",
    "    py = list(surv['SNF']['p(prompt)'])\n",
    "    lssfr = list(surv['SNF']['lssfr'])\n",
    "    lssfr_err_d = list(surv['SNF']['lssfr.err_down'])\n",
    "    lssfr_err_u = list(surv['SNF']['lssfr.err_up'])\n",
    "    \n",
    "    if cons:\n",
    "        for survey in surveys[1:]:\n",
    "            zmax_cuts[survey] = np.where(surv[survey].zCMB.values < z_max[survey][0])\n",
    "            z_zcuts[survey] = surv[survey].zCMB.values[zmax_cuts[survey]]\n",
    "            x1_zcuts[survey] = surv[survey].x1.values[zmax_cuts[survey]]\n",
    "            x1_err_zcuts[survey] = surv[survey].x1ERR.values[zmax_cuts[survey]]\n",
    "    else:\n",
    "        for survey in surveys[1:]:\n",
    "            zmax_cuts[survey] = np.where(surv[survey].zCMB.values < z_max[survey][-1])\n",
    "            z_zcuts[survey] = surv[survey].zCMB.values[zmax_cuts[survey]]\n",
    "            x1_zcuts[survey] = surv[survey].x1.values[zmax_cuts[survey]]\n",
    "            x1_err_zcuts[survey] = surv[survey].x1ERR.values[zmax_cuts[survey]]\n",
    "    \n",
    "    for survey in surveys:\n",
    "        names += [survey for i in range(len(z_zcuts[survey]))]\n",
    "        stretchs += list(x1_zcuts[survey])\n",
    "        stretchs_err += list(x1_err_zcuts[survey])\n",
    "        redshifts += list(z_zcuts[survey])\n",
    "        if survey != 'SNF':\n",
    "            infor += list(stretchevol.Evol2G2M2S().delta(z_zcuts[survey]))\n",
    "            py += list([0 for i in range(len(z_zcuts[survey]))])\n",
    "            lssfr += list([0 for i in range(len(z_zcuts[survey]))])\n",
    "            lssfr_err_d += list([0 for i in range(len(z_zcuts[survey]))])\n",
    "            lssfr_err_u += list([0 for i in range(len(z_zcuts[survey]))])\n",
    "\n",
    "    df = pd.DataFrame({'survey': names,\n",
    "                       'stretchs': stretchs,\n",
    "                       'stretchs_err': stretchs_err,\n",
    "                       'redshifts': redshifts,\n",
    "                       'infor': infor,\n",
    "                       'py': py,\n",
    "                       'lssfr': lssfr,\n",
    "                       'lssfr_err_d': lssfr_err_d,\n",
    "                       'lssfr_err_u': lssfr_err_u})\n",
    "\n",
    "    z_mean = np.mean(df.redshifts)\n",
    "    z_std = np.std(df.redshifts)\n",
    "    x1_mean = np.mean(df.stretchs)\n",
    "    x1_std = np.std(df.stretchs)\n",
    "    \n",
    "    return(df)\n",
    "            \n",
    "int_set_cons = ipw.interactive(set_cons, cons=cons)\n",
    "display(int_set_cons)\n",
    "\n",
    "names = ['SNF' for i in range(len(z_zcuts['SNF']))]\n",
    "stretchs = list(x1_zcuts['SNF'])\n",
    "stretchs_err = list(x1_err_zcuts['SNF'])\n",
    "redshifts = list(z_zcuts['SNF'])\n",
    "infor = list(surv['SNF']['p(prompt)'])\n",
    "py = list(surv['SNF']['p(prompt)'])\n",
    "lssfr = list(surv['SNF']['lssfr'])\n",
    "lssfr_err_d = list(surv['SNF']['lssfr.err_down'])\n",
    "lssfr_err_u = list(surv['SNF']['lssfr.err_up'])\n",
    "\n",
    "for survey in surveys[1:]:\n",
    "    names += [survey for i in range(len(surv[survey].zCMB.values))]\n",
    "    stretchs += list(surv[survey].x1.values)\n",
    "    stretchs_err += list(surv[survey].x1ERR.values)\n",
    "    redshifts += list(surv[survey].zCMB.values)\n",
    "    infor += list(stretchevol.Evol2G2M2S().delta(surv[survey].zCMB.values))\n",
    "    py += list([0 for i in range(len(surv[survey].zCMB.values))])\n",
    "    lssfr += list([0 for i in range(len(surv[survey].zCMB.values))])\n",
    "    lssfr_err_d += list([0 for i in range(len(surv[survey].zCMB.values))])\n",
    "    lssfr_err_u += list([0 for i in range(len(surv[survey].zCMB.values))])\n",
    "\n",
    "df_full = pd.DataFrame({'survey': names,\n",
    "                        'stretchs': stretchs,\n",
    "                        'stretchs_err': stretchs_err,\n",
    "                        'redshifts': redshifts,\n",
    "                        'infor': infor,\n",
    "                        'py': py,\n",
    "                        'lssfr': lssfr,\n",
    "                        'lssfr_err_d': lssfr_err_d,\n",
    "                        'lssfr_err_u': lssfr_err_u})\n",
    "\n",
    "df_nc = set_cons(False)\n",
    "df_c = set_cons(True)"
   ]
  },
  {
   "cell_type": "markdown",
   "metadata": {},
   "source": [
    "# Individual model plots"
   ]
  },
  {
   "cell_type": "markdown",
   "metadata": {},
   "source": [
    "## Minimisation des modèles à tracer"
   ]
  },
  {
   "cell_type": "code",
   "execution_count": 6,
   "metadata": {
    "jupyter": {
     "source_hidden": true
    }
   },
   "outputs": [
    {
     "name": "stdout",
     "output_type": "stream",
     "text": [
      "1G1M1S\n",
      "1G1M2S\n",
      "2G2M2S\n",
      "2G2M2SF\n",
      "3G2M2S\n",
      "3G2M2SF\n"
     ]
    }
   ],
   "source": [
    "########################################### Evol Simple\n",
    "\n",
    "evol1G1M1S = stretchevol.Evol1G1M1S()\n",
    "evol1G1M1S.set_data(df)\n",
    "\n",
    "print('1G1M1S')\n",
    "\n",
    "evol1G1M1S.minimize()\n",
    "#evol1G1M1S.show_model_tot()\n",
    "\n",
    "########################################### Evol Kessler\n",
    "\n",
    "evol1G1M2S = stretchevol.Evol1G1M2S()\n",
    "evol1G1M2S.set_data(df)\n",
    "\n",
    "print('1G1M2S')\n",
    "\n",
    "evol1G1M2S.minimize()\n",
    "#evol1G1M2S.show_model_tot()\n",
    "\n",
    "########################################### Evol Howell\n",
    "\n",
    "evol2G2M2S = stretchevol.Evol2G2M2S()\n",
    "evol2G2M2S.set_data(df)\n",
    "\n",
    "print('2G2M2S')\n",
    "\n",
    "evol2G2M2S.minimize()\n",
    "#evol2G2M2S.scatter()\n",
    "\n",
    "########################################### Evol Howell Fixed\n",
    "\n",
    "evol2G2M2SF = stretchevol.Evol2G2M2SF()\n",
    "evol2G2M2SF.set_data(df)\n",
    "\n",
    "print('2G2M2SF')\n",
    "\n",
    "evol2G2M2SF.minimize()\n",
    "#evol2G2M2SF.scatter()\n",
    "\n",
    "########################################### Evol NR 2S\n",
    "\n",
    "evol3G2M2S = stretchevol.Evol3G2M2S()\n",
    "evol3G2M2S.set_data(df)\n",
    "\n",
    "print('3G2M2S')\n",
    "\n",
    "evol3G2M2S.minimize()\n",
    "#evol3G2M2S.scatter()\n",
    "\n",
    "########################################### Evol NR 2S Fixed\n",
    "\n",
    "evol3G2M2SF = stretchevol.Evol3G2M2SF()\n",
    "evol3G2M2SF.set_data(df)\n",
    "\n",
    "print('3G2M2SF')\n",
    "\n",
    "evol3G2M2SF.minimize(limit_f = (0,1))\n",
    "#evol3G2M2SF.scatter()"
   ]
  },
  {
   "cell_type": "markdown",
   "metadata": {},
   "source": [
    "## Gaussian"
   ]
  },
  {
   "cell_type": "code",
   "execution_count": 7,
   "metadata": {},
   "outputs": [
    {
     "ename": "KeyError",
     "evalue": "'f'",
     "output_type": "error",
     "traceback": [
      "\u001b[0;31m---------------------------------------------------------------------------\u001b[0m",
      "\u001b[0;31mKeyError\u001b[0m                                  Traceback (most recent call last)",
      "\u001b[0;32m<ipython-input-7-58a6ac89381e>\u001b[0m in \u001b[0;36m<module>\u001b[0;34m\u001b[0m\n\u001b[1;32m      3\u001b[0m \u001b[0;34m\u001b[0m\u001b[0m\n\u001b[1;32m      4\u001b[0m evol1G1M1S.show_model_tot(ax=ax, lw=1,\n\u001b[0;32m----> 5\u001b[0;31m                           facealpha=.1)\n\u001b[0m\u001b[1;32m      6\u001b[0m \u001b[0;34m\u001b[0m\u001b[0m\n\u001b[1;32m      7\u001b[0m \u001b[0max\u001b[0m\u001b[0;34m.\u001b[0m\u001b[0mset_xlim\u001b[0m\u001b[0;34m(\u001b[0m\u001b[0;34m-\u001b[0m\u001b[0;36m14.2\u001b[0m\u001b[0;34m,\u001b[0m \u001b[0;34m-\u001b[0m\u001b[0;36m9.05\u001b[0m\u001b[0;34m)\u001b[0m\u001b[0;34m\u001b[0m\u001b[0;34m\u001b[0m\u001b[0m\n",
      "\u001b[0;32m~/.installs/anaconda3/lib/python3.7/site-packages/variaIa-0.8.4-py3.7.egg/variaIa/stretchevol.py\u001b[0m in \u001b[0;36mshow_model_tot\u001b[0;34m(self, ax, facealpha, edgealpha, **kwargs)\u001b[0m\n\u001b[1;32m    348\u001b[0m \u001b[0;34m\u001b[0m\u001b[0m\n\u001b[1;32m    349\u001b[0m         ax.fill_between(x_linspace,\n\u001b[0;32m--> 350\u001b[0;31m                         \u001b[0mself\u001b[0m\u001b[0;34m.\u001b[0m\u001b[0mplot_a\u001b[0m\u001b[0;34m(\u001b[0m\u001b[0mx_linspace\u001b[0m\u001b[0;34m)\u001b[0m\u001b[0;34m,\u001b[0m\u001b[0;34m\u001b[0m\u001b[0;34m\u001b[0m\u001b[0m\n\u001b[0m\u001b[1;32m    351\u001b[0m                         \u001b[0mfacecolor\u001b[0m\u001b[0;34m=\u001b[0m\u001b[0;34m(\u001b[0m\u001b[0;36m0\u001b[0m\u001b[0;34m,\u001b[0m \u001b[0;36m1\u001b[0m\u001b[0;34m,\u001b[0m \u001b[0;36m0\u001b[0m\u001b[0;34m,\u001b[0m \u001b[0;36m.1\u001b[0m\u001b[0;34m)\u001b[0m\u001b[0;34m,\u001b[0m\u001b[0;34m\u001b[0m\u001b[0;34m\u001b[0m\u001b[0m\n\u001b[1;32m    352\u001b[0m                         \u001b[0medgecolor\u001b[0m\u001b[0;34m=\u001b[0m\u001b[0;34m(\u001b[0m\u001b[0;36m0\u001b[0m\u001b[0;34m,\u001b[0m \u001b[0;36m1\u001b[0m\u001b[0;34m,\u001b[0m \u001b[0;36m0\u001b[0m\u001b[0;34m)\u001b[0m\u001b[0;34m,\u001b[0m\u001b[0;34m\u001b[0m\u001b[0;34m\u001b[0m\u001b[0m\n",
      "\u001b[0;32m~/.installs/anaconda3/lib/python3.7/site-packages/variaIa-0.8.4-py3.7.egg/variaIa/stretchevol.py\u001b[0m in \u001b[0;36mplot_a\u001b[0;34m(self, x)\u001b[0m\n",
      "\u001b[0;31mKeyError\u001b[0m: 'f'"
     ]
    },
    {
     "data": {
      "image/png": "[encoded data removed]",
      "text/plain": [
       "<Figure size 504x252 with 1 Axes>"
      ]
     },
     "metadata": {
      "needs_background": "light"
     },
     "output_type": "display_data"
    }
   ],
   "source": [
    "fig = plt.figure(figsize=[7, 3.5])\n",
    "ax = fig.add_axes([0.1, 0.12, 0.62, 0.8])\n",
    "\n",
    "evol1G1M1S.show_model_tot(ax=ax, lw=1,\n",
    "                          facealpha=.1)\n",
    "\n",
    "ax.set_xlim(-14.2, -9.05)\n",
    "ax.set_ylim(-3.2, 3.2)"
   ]
  },
  {
   "cell_type": "markdown",
   "metadata": {},
   "source": [
    "## Comparison plot"
   ]
  },
  {
   "cell_type": "code",
   "execution_count": 3,
   "metadata": {},
   "outputs": [
    {
     "data": {
      "image/png": "[encoded data removed]",
      "text/plain": [
       "<Figure size 432x288 with 1 Axes>"
      ]
     },
     "metadata": {
      "needs_background": "light"
     },
     "output_type": "display_data"
    }
   ],
   "source": [
    "fig = plt.figure(figsize=[6,4])\n",
    "ax = fig.add_axes([0.15,0.3,0.7,0.6])\n",
    "xmax = 8\n",
    "\n",
    "d_mod_comp_py = pd.read_csv('../../Data/df_comparaison.dat')\n",
    "d_mod_comp_cons = pd.read_csv('../../Data/df_comparaison_cons.dat')\n",
    "\n",
    "def show_results(data_, show_text=True, show_aicc=True, **kwargs):\n",
    "    \"\"\" \"\"\"\n",
    "    if show_aicc:\n",
    "        ykey = '$\\Delta$ AIC'\n",
    "        ylow = -35\n",
    "        yscale = 'linear'\n",
    "        shift = 0.95\n",
    "    else:\n",
    "        ykey = 'Proba'\n",
    "        ylow = 1e-6\n",
    "        yscale = 'log'\n",
    "        shift = 1.5\n",
    "    \n",
    "    flag_fixed = np.asarray(data_[\"Fixed\"], dtype=\"bool\")\n",
    "    flag_below = np.asarray(data_[ykey]<ylow, dtype=\"bool\")\n",
    "    prop = {**dict(marker=\"o\", ms=10, ls=\"None\", mew=2, zorder=8),**kwargs}\n",
    "    prop_notfixed = dict(mfc=\"C0\", mec=\"C0\")\n",
    "    prop_fixed = dict(mfc=\"w\", mec=\"C0\")\n",
    "    # above Cut\n",
    "    flag = ~flag_fixed*~flag_below\n",
    "    ax.plot(data_.index[flag], data_[ykey][flag], **{**prop, **prop_notfixed})\n",
    "    flag = flag_fixed*~flag_below\n",
    "    ax.plot(data_.index[flag], data_[ykey][flag],  **{**prop, **prop_fixed})\n",
    "    # Below Cut\n",
    "    propbelow = {**prop, **{\"marker\":\"v\", \"mew\":1.5, \"ms\":8}}\n",
    "    flag = ~flag_fixed*flag_below\n",
    "    ax.plot(data_.index[flag], [ylow*shift]*len(data_.index[flag]), **{**propbelow, **prop_notfixed})\n",
    "    flag = flag_fixed*flag_below\n",
    "    ax.plot(data_.index[flag], [ylow*shift]*len(data_.index[flag]), **{**propbelow, **prop_fixed})\n",
    "    flag = flag_below\n",
    "    if show_text:\n",
    "        for i in data_.index[flag]:\n",
    "            ax.text(i, ylow*shift**2, \"%.0f\"%data_.iloc[i][ykey] if show_aicc else \"%.1e\"%data_.iloc[i][ykey], \n",
    "                    rotation=90, color=\"C0\", va=\"bottom\", ha=\"center\", fontsize=\"small\")\n",
    "    #axt.plot(data.index, data[\"AICc\"])\n",
    "    ax.set_yscale(yscale)\n",
    "    \n",
    "    if not show_aicc:\n",
    "        for i in [1,2,3,4,5]:\n",
    "            cut = stats.norm.pdf(i, loc=0, scale=1)*2\n",
    "            ax.axhspan(1e-20, cut, color=\"C1\", alpha=0.1)\n",
    "            ax.text(xmax,cut,r\"$%d\\sigma$\"%i,va=\"bottom\", ha=\"right\", color=\"C1\")\n",
    "    else:\n",
    "        spanprop = dict(alpha=.05, lw=.5)\n",
    "        textprop = dict(va=\"bottom\", ha=\"right\")\n",
    "        # Between 1 and 2 \\sigma\n",
    "        ax.axhspan(5, -5, color=\"tab:green\", **spanprop)\n",
    "        ax.text(xmax, -5, r\"Acceptable\", color=\"tab:green\", **textprop)\n",
    "        # Between 2 and 3 \\sigma\n",
    "        ax.axhspan(-5, -10, color=\"tab:gray\", **spanprop)\n",
    "        ax.text(xmax, -10, r\"Unfavored\", color=\"tab:gray\", **textprop)\n",
    "        # Between 3 and 5 \\sigma\n",
    "        ax.axhspan(-10, -20, color=\"tab:orange\", **spanprop)\n",
    "        ax.text(xmax, -20, \"Strongly\\n unfavored\", color=\"tab:orange\", **textprop)\n",
    "        # Between 5 and lots of \\sigma\n",
    "        ax.axhspan(-20, ylow, color=\"tab:red\", **spanprop)\n",
    "        ax.text(xmax, ylow, r\"Excluded\", color=\"tab:red\", **textprop)\n",
    "        \n",
    "        if not show_aicc:\n",
    "            ax.set_ylabel(r\"Model Probability ($e^{0.5\\Delta\\mathrm{AIC}}$)\")\n",
    "        else:\n",
    "            ax.set_ylabel(r'$\\Delta\\mathrm{AIC}$')\n",
    "    \n",
    "    return(ylow)\n",
    "\n",
    "ylow = show_results(d_mod_comp_py)\n",
    "ylow = show_results(d_mod_comp_cons, alpha=.4, show_text=False)\n",
    "\n",
    "ax.set_xticks(d_mod_comp_py.index)\n",
    "ax.set_xticklabels([d_mod_comp_py.iloc[i][\"Name\"] for i in d_mod_comp_py.index], rotation=45, \n",
    "                   fontdict=dict(ha=\"right\"))\n",
    "\n",
    "ax.set_ylim(ylow, 2)\n",
    "ax.set_xlim(-0.5, xmax)\n",
    "\n",
    "fig.savefig('../../../../Images/mod_comp.pdf', bbox_inches='tight')"
   ]
  },
  {
   "cell_type": "code",
   "execution_count": null,
   "metadata": {},
   "outputs": [],
   "source": []
  }
 ],
 "metadata": {
  "kernelspec": {
   "display_name": "Python 3",
   "language": "python",
   "name": "python3"
  },
  "language_info": {
   "codemirror_mode": {
    "name": "ipython",
    "version": 3
   },
   "file_extension": ".py",
   "mimetype": "text/x-python",
   "name": "python",
   "nbconvert_exporter": "python",
   "pygments_lexer": "ipython3",
   "version": "3.7.4"
  }
 },
 "nbformat": 4,
 "nbformat_minor": 4
}
