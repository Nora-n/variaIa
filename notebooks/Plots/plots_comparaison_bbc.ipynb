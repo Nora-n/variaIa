{
 "cells": [
  {
   "cell_type": "markdown",
   "metadata": {},
   "source": [
    "## Modules à importer"
   ]
  },
  {
   "cell_type": "code",
   "execution_count": 2,
   "metadata": {
    "jupyter": {
     "source_hidden": true
    }
   },
   "outputs": [],
   "source": [
    "import math\n",
    "import scipy\n",
    "import pickle\n",
    "import astropy\n",
    "import numpy as np\n",
    "import pandas as pd\n",
    "import iminuit as im\n",
    "import ipywidgets as ipw\n",
    "from importlib import reload\n",
    "from variaIa import baserate\n",
    "from variaIa import stretchevol\n",
    "from scipy.stats import poisson\n",
    "from matplotlib.lines import Line2D\n",
    "from astropy.cosmology import Planck15\n",
    "from IPython.display import display, Latex\n",
    "import matplotlib.pyplot as plt\n",
    "import random"
   ]
  },
  {
   "cell_type": "markdown",
   "metadata": {},
   "source": [
    "## Définitions pandas, surveys, $z[:z_{\\text{max}}]$, $x_1[:z_{\\text{max}}]$, mean, std et données totales"
   ]
  },
  {
   "cell_type": "code",
   "execution_count": 3,
   "metadata": {
    "jupyter": {
     "source_hidden": true
    }
   },
   "outputs": [],
   "source": [
    "cons = ipw.Checkbox(\n",
    "    value=False,\n",
    "    description='Conservative')"
   ]
  },
  {
   "cell_type": "code",
   "execution_count": 4,
   "metadata": {
    "jupyter": {
     "source_hidden": true
    }
   },
   "outputs": [
    {
     "data": {
      "application/vnd.jupyter.widget-view+json": {
       "model_id": "54ff2f72ffe1451481acc76be5b46e01",
       "version_major": 2,
       "version_minor": 0
      },
      "text/plain": [
       "interactive(children=(Checkbox(value=False, description='Conservative'), Output()), _dom_classes=('widget-inte…"
      ]
     },
     "metadata": {},
     "output_type": "display_data"
    }
   ],
   "source": [
    "d = pd.read_csv('../../Data/data_cheat.csv', sep=' ', index_col = 'CID')\n",
    "d_snf = pd.read_csv('../../Data/lssfr_paper_full_sntable.csv',sep=',')\n",
    "\n",
    "surveys = ['SNF', 'SDSS', 'PS1', 'SNLS', 'HST']\n",
    "\n",
    "surv = {'SNF':  d_snf.loc[d_snf['name'].str.contains('SNF|LSQ|PTF',na=False,regex=True)],\n",
    "        'SDSS': d[d['IDSURVEY'] == 1],\n",
    "        'PS1':  d[d['IDSURVEY'] == 15],\n",
    "        'SNLS': d[d['IDSURVEY'] == 4],\n",
    "        'HST':  d[d['IDSURVEY'].isin([101, 100, 106])]}\n",
    "\n",
    "smap = plt.cm.get_cmap('cividis')\n",
    "colors = {'SNF': plt.cm.binary(0.9),\n",
    "          'SDSS': smap(0.1),\n",
    "          'PS1': smap(0.5),\n",
    "          'SNLS': smap(0.8),\n",
    "          'HST': smap(0.99)}\n",
    "          #'HST': smap(300)} for viridis\n",
    "\n",
    "with open('../../Data/zmax_mlim', 'rb') as f:\n",
    "    z_max = pickle.load(f)\n",
    "z_max['HST'] = [10, 10]\n",
    "\n",
    "def set_cons(cons):\n",
    "    global df\n",
    "    \n",
    "    zmax_cuts = dict()\n",
    "    z_zcuts = dict()\n",
    "    x1_zcuts = dict()\n",
    "    x1_err_zcuts = dict()\n",
    "    \n",
    "    names = ['SNF' for i in range(len(surv['SNF']['host.zcmb']))]\n",
    "    stretchs = list(surv['SNF']['salt2.X1'])\n",
    "    stretchs_err = list(surv['SNF']['salt2.X1.err'])\n",
    "    redshifts = list(surv['SNF']['host.zcmb'])\n",
    "    infor = list(surv['SNF']['p(prompt)'])\n",
    "    py = list(surv['SNF']['p(prompt)'])\n",
    "    lssfr = list(surv['SNF']['lssfr'])\n",
    "    lssfr_err_d = list(surv['SNF']['lssfr.err_down'])\n",
    "    lssfr_err_u = list(surv['SNF']['lssfr.err_up'])\n",
    "    \n",
    "    if cons:\n",
    "        for survey in surveys[1:]:\n",
    "            zmax_cuts[survey] = np.where(surv[survey].zCMB.values < z_max[survey][0])\n",
    "            z_zcuts[survey] = surv[survey].zCMB.values[zmax_cuts[survey]]\n",
    "            x1_zcuts[survey] = surv[survey].x1.values[zmax_cuts[survey]]\n",
    "            x1_err_zcuts[survey] = surv[survey].x1ERR.values[zmax_cuts[survey]]\n",
    "    else:\n",
    "        for survey in surveys[1:]:\n",
    "            zmax_cuts[survey] = np.where(surv[survey].zCMB.values < z_max[survey][-1])\n",
    "            z_zcuts[survey] = surv[survey].zCMB.values[zmax_cuts[survey]]\n",
    "            x1_zcuts[survey] = surv[survey].x1.values[zmax_cuts[survey]]\n",
    "            x1_err_zcuts[survey] = surv[survey].x1ERR.values[zmax_cuts[survey]]\n",
    "    \n",
    "    for survey in surveys[1:]:\n",
    "        names += [survey for i in range(len(z_zcuts[survey]))]\n",
    "        stretchs += list(x1_zcuts[survey])\n",
    "        stretchs_err += list(x1_err_zcuts[survey])\n",
    "        redshifts += list(z_zcuts[survey])\n",
    "        infor += list(stretchevol.Evol2G2M2S().delta(z_zcuts[survey]))\n",
    "        py += list([0 for i in range(len(z_zcuts[survey]))])\n",
    "        lssfr += list([0 for i in range(len(z_zcuts[survey]))])\n",
    "        lssfr_err_d += list([0 for i in range(len(z_zcuts[survey]))])\n",
    "        lssfr_err_u += list([0 for i in range(len(z_zcuts[survey]))])\n",
    "        \n",
    "    df = pd.DataFrame({'survey': names,\n",
    "                       'stretchs': stretchs,\n",
    "                       'stretchs_err': stretchs_err,\n",
    "                       'redshifts': redshifts,\n",
    "                       'infor': infor,\n",
    "                       'py': py,\n",
    "                       'lssfr': lssfr,\n",
    "                       'lssfr_err_d': lssfr_err_d,\n",
    "                       'lssfr_err_u': lssfr_err_u})\n",
    "\n",
    "    z_mean = np.mean(df.redshifts)\n",
    "    z_std = np.std(df.redshifts)\n",
    "    x1_mean = np.mean(df.stretchs)\n",
    "    x1_std = np.std(df.stretchs)\n",
    "    \n",
    "    return(df)\n",
    "            \n",
    "int_set_cons = ipw.interactive(set_cons, cons=cons)\n",
    "display(int_set_cons)\n",
    "\n",
    "names = ['SNF' for i in range(len(surv['SNF']['host.zcmb'].values))]\n",
    "stretchs = list(surv['SNF']['salt2.X1'].values)\n",
    "stretchs_err = list(surv['SNF']['salt2.X1.err'].values)\n",
    "redshifts = list(surv['SNF']['host.zcmb'].values)\n",
    "infor = list(surv['SNF']['p(prompt)'])\n",
    "py = list(surv['SNF']['p(prompt)'])\n",
    "lssfr = list(surv['SNF']['lssfr'])\n",
    "lssfr_err_d = list(surv['SNF']['lssfr.err_down'])\n",
    "lssfr_err_u = list(surv['SNF']['lssfr.err_up'])\n",
    "\n",
    "for survey in surveys[1:]:\n",
    "    names += [survey for i in range(len(surv[survey].zCMB.values))]\n",
    "    stretchs += list(surv[survey].x1.values)\n",
    "    stretchs_err += list(surv[survey].x1ERR.values)\n",
    "    redshifts += list(surv[survey].zCMB.values)\n",
    "    infor += list(stretchevol.Evol2G2M2S().delta(surv[survey].zCMB.values))\n",
    "    py += list([0 for i in range(len(surv[survey].zCMB.values))])\n",
    "    lssfr += list([0 for i in range(len(surv[survey].zCMB.values))])\n",
    "    lssfr_err_d += list([0 for i in range(len(surv[survey].zCMB.values))])\n",
    "    lssfr_err_u += list([0 for i in range(len(surv[survey].zCMB.values))])\n",
    "\n",
    "df_full = pd.DataFrame({'survey': names,\n",
    "                        'stretchs': stretchs,\n",
    "                        'stretchs_err': stretchs_err,\n",
    "                        'redshifts': redshifts,\n",
    "                        'infor': infor,\n",
    "                        'py': py,\n",
    "                        'lssfr': lssfr,\n",
    "                        'lssfr_err_d': lssfr_err_d,\n",
    "                        'lssfr_err_u': lssfr_err_u})"
   ]
  },
  {
   "cell_type": "markdown",
   "metadata": {},
   "source": [
    "## Minimisation des modèles à mettre dans le _pandas_"
   ]
  },
  {
   "cell_type": "code",
   "execution_count": 5,
   "metadata": {
    "jupyter": {
     "source_hidden": true
    }
   },
   "outputs": [],
   "source": [
    "gen = stretchevol.generic()\n",
    "gen.set_model('Evol1G1M2S')\n",
    "\n",
    "gen.set_data(df[df['survey'] == 'PS1'])\n",
    "assymPS1 = gen.fit()\n",
    "\n",
    "gen.set_data(df[df['survey'] == 'SDSS'])\n",
    "assymSDSS = gen.fit()\n",
    "\n",
    "gen.set_data(df[df['survey'] == 'SNLS'])\n",
    "assymSNLS = gen.fit()\n",
    "\n",
    "assym = {'SDSS': assymSDSS,\n",
    "         'PS1': assymPS1,\n",
    "         'SNLS': assymSNLS}"
   ]
  },
  {
   "cell_type": "markdown",
   "metadata": {},
   "source": [
    "## Modèle _base_ pour comparaison"
   ]
  },
  {
   "cell_type": "code",
   "execution_count": 6,
   "metadata": {
    "jupyter": {
     "source_hidden": true
    }
   },
   "outputs": [],
   "source": [
    "gen.set_model('Evol3G2M2S')\n",
    "gen.set_data(df[df['survey'] == 'SNF'])\n",
    "baseSNF = gen.fit()\n",
    "\n",
    "gen.set_data(df)\n",
    "baseTOT = gen.fit()"
   ]
  },
  {
   "cell_type": "markdown",
   "metadata": {},
   "source": [
    "### Définition likelihood generic"
   ]
  },
  {
   "cell_type": "code",
   "execution_count": 7,
   "metadata": {
    "jupyter": {
     "source_hidden": true
    }
   },
   "outputs": [],
   "source": [
    "def assym_law_gen(x, param):\n",
    "    return(assymPS1.likelihood_tot(x, np.zeros(len(x)), param[0], param[1], param[2]))\n",
    "\n",
    "def model_law_gen(deltaz, xx, param_hesse):\n",
    "    \"\"\"Function to get laws with parameters taken wrt there hesse error\"\"\"\n",
    "    return np.sum(baseTOT.likelihood_tot(deltaz, xx, 0,\n",
    "                                         param_hesse[0],\n",
    "                                         param_hesse[1], param_hesse[2],\n",
    "                                         param_hesse[3], param_hesse[4]), axis=1)/len(deltaz)"
   ]
  },
  {
   "cell_type": "markdown",
   "metadata": {},
   "source": [
    "# Pantheon dictionnaries"
   ]
  },
  {
   "cell_type": "markdown",
   "metadata": {},
   "source": [
    "## Définition de _cov_ ASYM pour sélection aléatoire des paramètres"
   ]
  },
  {
   "cell_type": "code",
   "execution_count": 8,
   "metadata": {
    "jupyter": {
     "source_hidden": true
    }
   },
   "outputs": [],
   "source": [
    "cov = dict()\n",
    "mean = dict()\n",
    "param_hesse_mat = dict()\n",
    "models_hesse = dict()\n",
    "models_std = dict()\n",
    "\n",
    "p_sco = {'SDSS': [1.142, 1.652, 0.104],\n",
    "         'PS1': [0.384, 0.987, 0.505],\n",
    "         'SNLS': [0.974, 1.236, 0.283]}\n",
    "\n",
    "xlin = np.linspace(-5, 5, 3000)\n",
    "\n",
    "for survey in surveys[1:-1]:\n",
    "    cov[survey] = im.Minuit.matrix(assym[survey].m_tot)\n",
    "    mean[survey] = [assym[survey].m_tot.values[i] for i in range(3)]\n",
    "    param_hesse_mat[survey] = scipy.stats.multivariate_normal.rvs(mean=mean[survey], cov=cov[survey], size=500)\n",
    "    models_hesse[survey] = [assym_law_gen(xlin, param_hesse) for param_hesse in param_hesse_mat[survey]]\n",
    "    models_hesse[survey] = np.asarray(models_hesse[survey])\n",
    "    models_std[survey] = np.std(models_hesse[survey], axis=0)"
   ]
  },
  {
   "cell_type": "markdown",
   "metadata": {},
   "source": [
    "## Définition de _cov_ BASE pour sélection aléatoire des paramètres"
   ]
  },
  {
   "cell_type": "code",
   "execution_count": 9,
   "metadata": {
    "jupyter": {
     "source_hidden": true
    }
   },
   "outputs": [],
   "source": [
    "cov_base = dict()\n",
    "mean_base = dict()\n",
    "param_hesse_mat_base = dict()\n",
    "models_hesse_base = dict()\n",
    "models_std_base = dict()\n",
    "\n",
    "xx1 = np.linspace(-5, 5, 3000)\n",
    "\n",
    "deltaz = {'SDSS': stretchevol.MockEvol().delta(df[df['survey'] == 'SDSS'].redshifts.values),\n",
    "          'PS1': stretchevol.MockEvol().delta(df[df['survey'] == 'PS1'].redshifts.values),\n",
    "          'SNLS': stretchevol.MockEvol().delta(df[df['survey'] == 'SNLS'].redshifts.values)}\n",
    "\n",
    "for survey in surveys[1:-1]:\n",
    "    cov_base[survey] = im.Minuit.matrix(baseTOT.m_tot)\n",
    "    mean_base[survey] = [baseTOT.m_tot.values[i] for i in range(5)]\n",
    "    param_hesse_mat_base[survey] = scipy.stats.multivariate_normal.rvs(mean=mean_base[survey], cov=cov_base[survey], size=500)\n",
    "    \n",
    "    models_hesse_base[survey] = [model_law_gen(deltaz[survey], xx1[:,None], param_hesse)\n",
    "                                 for param_hesse in param_hesse_mat_base[survey]]\n",
    "    models_hesse_base[survey] = np.asarray(models_hesse_base[survey])\n",
    "    models_std_base[survey] = np.std(models_hesse_base[survey], axis=0)"
   ]
  },
  {
   "cell_type": "markdown",
   "metadata": {},
   "source": [
    "## PDF dict"
   ]
  },
  {
   "cell_type": "code",
   "execution_count": 10,
   "metadata": {
    "jupyter": {
     "source_hidden": true
    }
   },
   "outputs": [],
   "source": [
    "def pdfS(x):\n",
    "    return assymSDSS.likelihood_tot(x,\n",
    "                                    np.zeros(len(x)),\n",
    "                                    assymSDSS.param['mu'],\n",
    "                                    assymSDSS.param['sigma_m'],\n",
    "                                    assymSDSS.param['sigma_p'])\n",
    "\n",
    "def pdfP(x):\n",
    "    return assymPS1.likelihood_tot(x,\n",
    "                                    np.zeros(len(x)),\n",
    "                                    assymPS1.param['mu'],\n",
    "                                    assymPS1.param['sigma_m'],\n",
    "                                    assymPS1.param['sigma_p'])\n",
    "\n",
    "def pdfN(x):\n",
    "    return assymSNLS.likelihood_tot(x,\n",
    "                                    np.zeros(len(x)),\n",
    "                                    assymSNLS.param['mu'],\n",
    "                                    assymSNLS.param['sigma_m'],\n",
    "                                    assymSNLS.param['sigma_p'])\n",
    "\n",
    "def pdfS_sco(x):\n",
    "    return assymSDSS.likelihood_tot(x,\n",
    "                                    np.zeros(len(x)),\n",
    "                                    p_sco['SDSS'][0],\n",
    "                                    p_sco['SDSS'][1],\n",
    "                                    p_sco['SDSS'][2])\n",
    "\n",
    "def pdfP_sco(x):\n",
    "    return assymPS1.likelihood_tot(x,\n",
    "                                    np.zeros(len(x)),\n",
    "                                    p_sco['PS1'][0],\n",
    "                                    p_sco['PS1'][1],\n",
    "                                    p_sco['PS1'][2])\n",
    "\n",
    "def pdfN_sco(x):\n",
    "    return assymSNLS.likelihood_tot(x,\n",
    "                                    np.zeros(len(x)),\n",
    "                                    p_sco['SNLS'][0],\n",
    "                                    p_sco['SNLS'][1],\n",
    "                                    p_sco['SNLS'][2])\n",
    "\n",
    "pdfA = {'SDSS': pdfS,\n",
    "        'PS1': pdfP,\n",
    "        'SNLS': pdfN}\n",
    "\n",
    "pdfA_sco = {'SDSS': pdfS_sco,\n",
    "            'PS1': pdfP_sco,\n",
    "            'SNLS': pdfN_sco}"
   ]
  },
  {
   "cell_type": "markdown",
   "metadata": {},
   "source": [
    "## Tracé"
   ]
  },
  {
   "cell_type": "code",
   "execution_count": 13,
   "metadata": {
    "jupyter": {
     "source_hidden": true
    }
   },
   "outputs": [],
   "source": [
    "def plot_pdfs(surveyname,\n",
    "              color_p=\"C2\", color_s=\"0.2\", color_mb='k',\n",
    "              show_legend=False, ticks_size=12,\n",
    "              zo_base=2, zo_asym=4, zo_sco=3, zo_mb=10,\n",
    "              lw_col=2, lw_mod=2, lw_sco=2, lw_vline=1,\n",
    "              ls_col='-', ls_mod='-', ls_sco='--',\n",
    "              show_base=True, norm_max=True, alpha_base=.1,\n",
    "              show_mean_base=True, show_mean_base_std=False, alpha_mb_std=.3,\n",
    "              show_hist=True, ecolor_h=plt.cm.cividis(0.5, 0.5), fcolor_h=plt.cm.cividis(0.5, 0.1),\n",
    "              use_continuous_redshift=False, n_continuous=50,\n",
    "              perc_zmin=5, perc_zmax=95):\n",
    "    \n",
    "    fig = plt.figure(figsize=[6, 4])\n",
    "    ax = fig.add_axes([0.1, 0.12, 0.8, 0.8])\n",
    "    \n",
    "    x_linspace = np.linspace(-5, 5, 3000)\n",
    "    \n",
    "    ax.plot(x_linspace,\n",
    "            pdfA[surveyname](x_linspace),\n",
    "            color=color_p,\n",
    "            lw=lw_mod, ls=ls_mod,\n",
    "            label=surveyname,\n",
    "            zorder=zo_asym)\n",
    "    \n",
    "    ax.fill_between(x_linspace,\n",
    "                    pdfA[surveyname](x_linspace) + models_std[surveyname],\n",
    "                    pdfA[surveyname](x_linspace) - models_std[surveyname],\n",
    "                    color=color_p,\n",
    "                    lw=0, alpha=.2,\n",
    "                    zorder=zo_asym)\n",
    "    \n",
    "    #ax.vline(assym[surveyname].param['mu'], ymin=0, ymax=np.max(pdfA[surveyname](x_linspace)),\n",
    "    #         color=color_p, alpha=.5, linewidth=lw_vline)\n",
    "    \n",
    "    mu_s = p_sco[surveyname][0]\n",
    "    sigma_m_s = p_sco[surveyname][1]\n",
    "    sigma_p_s = p_sco[surveyname][2]\n",
    "    \n",
    "    pdf_SCO = assym[surveyname].likelihood_tot(x_linspace,\n",
    "                                               np.zeros(len(x_linspace)),\n",
    "                                               mu_s,\n",
    "                                               sigma_m_s,\n",
    "                                               sigma_p_s)\n",
    "    \n",
    "    ax.plot(x_linspace,\n",
    "            pdf_SCO,\n",
    "            color=color_s, label='Scolnic',\n",
    "            lw=lw_sco, ls=ls_sco,\n",
    "            zorder=zo_sco)\n",
    "    \n",
    "    #ax.vline(mu_s, 0, np.max(pdf_SCO),\n",
    "    #         color=color_s, alpha=.5,\n",
    "    #         ls=ls_sco, linewidth=lw_vline)\n",
    "    \n",
    "    dgmap = plt.cm.get_cmap('coolwarm')\n",
    "    nb_base = len(surv[surveyname].zCMB)\n",
    "    i = 0\n",
    "    \n",
    "    z_m, z_p = np.percentile(surv[surveyname].zCMB, [perc_zmin, perc_zmax])\n",
    "    \n",
    "    used_redshift = surv[surveyname].zCMB if not use_continuous_redshift else \\\n",
    "    np.linspace(*np.percentile(surv[surveyname].zCMB, [0, 100]), n_continuous)\n",
    "    \n",
    "    if show_base:\n",
    "        for z in used_redshift: #np.linspace(0.05, 1, nb_base)[:-1]:\n",
    "            pdf = baseTOT.likelihood_tot(baseTOT.delta(z),\n",
    "                                         x_linspace, np.zeros(len(x_linspace)),\n",
    "                                         baseTOT.param['aa'],\n",
    "                                         baseTOT.param['mu_1'], baseTOT.param['sigma_1'],\n",
    "                                         baseTOT.param['mu_2'], baseTOT.param['sigma_2'])\n",
    "            norm_ = 1 if not norm_max else np.max(pdfA[surveyname](x_linspace))/np.max(pdf)\n",
    "            ax.plot(x_linspace,\n",
    "                    norm_*pdf,\n",
    "                    color=dgmap((z-z_m)/(z_p-z_m)), alpha=alpha_base,\n",
    "                    lw=lw_col, ls=ls_col, zorder=zo_base)\n",
    "            i += 1\n",
    "    \n",
    "    df_used = df[df['survey'] == surveyname]\n",
    "    pdfmodel = baseTOT.likelihood_tot(deltaz[surveyname], x_linspace[:,None], 0, #np.mean(dx1),\n",
    "                                      baseTOT.param['aa'],\n",
    "                                      baseTOT.param['mu_1'], baseTOT.param['sigma_1'],\n",
    "                                      baseTOT.param['mu_2'], baseTOT.param['sigma_2'])\n",
    "    \n",
    "    if show_mean_base and not show_mean_base_std:\n",
    "        ax.plot(x_linspace,\n",
    "                np.sum(pdfmodel, axis=1)/len(deltaz[surveyname]),\n",
    "                color=color_mb,\n",
    "                label='Mean base model', zorder=zo_mb)\n",
    "    \n",
    "    if show_mean_base and show_mean_base_std:\n",
    "        ax.plot(x_linspace,\n",
    "                np.sum(pdfmodel, axis=1)/len(deltaz[surveyname]),\n",
    "                color=color_mb,\n",
    "                label='Mean base model', zorder=zo_mb)\n",
    "        ax.fill_between(x_linspace,\n",
    "                np.sum(pdfmodel, axis=1)/len(deltaz[surveyname])-models_std_base[surveyname],\n",
    "                np.sum(pdfmodel, axis=1)/len(deltaz[surveyname])+models_std_base[surveyname],\n",
    "                color=color_mb, alpha=alpha_mb_std, lw=0,\n",
    "                zorder=zo_mb)\n",
    "        \n",
    "    if show_hist:\n",
    "        ax.hist(df_used.stretchs, bins='auto', density=True, histtype='step', fill=True, zorder=1,\n",
    "                edgecolor=ecolor_h, facecolor=fcolor_h)# alpha=0.3)\n",
    "    \n",
    "    ax.set_xlim([-3, 3])\n",
    "    #ax.set_ylim([0, 0.65])\n",
    "    ax.set_ylim(ymin=0)#[0, np.max(pdfA[surveyname](x_linspace)+models_std[surveyname])+0.01])\n",
    "                                                                          \n",
    "    ax.set_ylabel(r'$\\mathrm{Probability}$', fontsize='x-large')\n",
    "    ax.set_xlabel(r'$\\mathrm{x}_1$', fontsize='x-large')\n",
    "    \n",
    "    ax.tick_params(labelsize=ticks_size)\n",
    "    \n",
    "    if show_legend:\n",
    "        ax.legend(ncol=1, loc='upper left')\n",
    "    \n",
    "    return(fig, ax)"
   ]
  },
  {
   "cell_type": "code",
   "execution_count": 18,
   "metadata": {},
   "outputs": [
    {
     "data": {
      "image/png": "[encoded data removed]",
      "text/plain": [
       "<Figure size 432x288 with 1 Axes>"
      ]
     },
     "metadata": {
      "needs_background": "light"
     },
     "output_type": "display_data"
    }
   ],
   "source": [
    "surveyname = 'PS1'\n",
    "fig, ax = plot_pdfs(surveyname,\n",
    "                    color_p=plt.cm.viridis(0.5), color_s=plt.cm.viridis(0.5), lw_sco=1,\n",
    "                    #color_p=colors[surveyname], color_s=colors[surveyname],\n",
    "                    show_legend=False, ticks_size=12,\n",
    "                    show_base=True, norm_max=False, alpha_base=0.05, lw_col=1,\n",
    "                    show_mean_base_std=True, alpha_mb_std=0.20, color_mb=\"0.3\",\n",
    "                    use_continuous_redshift=True, n_continuous=200)\n",
    "\n",
    "path = '../../Images/bbc_comp_' + surveyname + '_hist-nr.pdf'\n",
    "fig.savefig(path, bbox_inches='tight')\n",
    "path = '../../Images/png/bbc_comp_' + surveyname + '_hist-nr.png'\n",
    "fig.savefig(path, bbox_inches='tight', dpi=600)"
   ]
  },
  {
   "cell_type": "markdown",
   "metadata": {},
   "source": [
    "# Associated graphs"
   ]
  },
  {
   "cell_type": "markdown",
   "metadata": {},
   "source": [
    "## Functions definitions"
   ]
  },
  {
   "cell_type": "code",
   "execution_count": 11,
   "metadata": {
    "jupyter": {
     "source_hidden": true
    }
   },
   "outputs": [],
   "source": [
    "with open('../../Data/ALL_results', 'rb') as f:\n",
    "    res_ALL = pickle.load(f)\n",
    "\n",
    "def age_law_all(z):\n",
    "    \"\"\"Analytical law with 3G2M2S results\"\"\"\n",
    "    return (delta(z)*res_ALL['mu_1']\n",
    "      + (1-delta(z))*(baseTOT.get_a(res_ALL['aa'])*res_ALL['mu_1']\n",
    "                      + (1 - baseTOT.get_a(res_ALL['aa']))*res_ALL['mu_2']))\n",
    "\n",
    "with open('../../Data/SNF_results', 'rb') as f:\n",
    "    res_SNF = pickle.load(f)\n",
    "\n",
    "def age_law_snf(z):\n",
    "    \"\"\"Analytical law with snf results\"\"\"\n",
    "    return (delta(z)*res_SNF['mu_1'] +\n",
    "        (1-delta(z))*(baseTOT.get_a(res_SNF['aa'])*res_SNF['mu_1']\n",
    "                      + (1-baseTOT.get_a(res_SNF['aa']))*res_SNF['mu_2']))\n",
    "\n",
    "def delta(z):\n",
    "    return stretchevol.MockEvol().delta(z)"
   ]
  },
  {
   "cell_type": "markdown",
   "metadata": {},
   "source": [
    "## xmean definitions"
   ]
  },
  {
   "cell_type": "code",
   "execution_count": 12,
   "metadata": {
    "jupyter": {
     "source_hidden": true
    }
   },
   "outputs": [],
   "source": [
    "z_linspace = np.linspace(0, 1.4, 3000)\n",
    "x_linspace = np.linspace(-10, 10, 1e7)\n",
    "\n",
    "xmean_asym = dict()\n",
    "xmean_asym_sco = dict()\n",
    "\n",
    "for survey in surveys[1:-1]:\n",
    "    xmean_asym[survey] = np.sum(x_linspace*pdfA[survey](x_linspace))/np.sum(pdfA[survey](x_linspace)) \n",
    "    xmean_asym_sco[survey] = np.sum(x_linspace*pdfA_sco[survey](x_linspace))/np.sum(pdfA_sco[survey](x_linspace)) "
   ]
  },
  {
   "cell_type": "markdown",
   "metadata": {},
   "source": [
    "## Simple BBC-stretchevol"
   ]
  },
  {
   "cell_type": "code",
   "execution_count": 15,
   "metadata": {
    "jupyter": {
     "source_hidden": true
    }
   },
   "outputs": [
    {
     "data": {
      "image/png": "[encoded data removed]",
      "text/plain": [
       "<Figure size 432x288 with 1 Axes>"
      ]
     },
     "metadata": {
      "needs_background": "light"
     },
     "output_type": "display_data"
    }
   ],
   "source": [
    "fig = plt.figure(figsize=[6, 4])\n",
    "ax = fig.add_axes([0.15, 0.15, 0.75, 0.75])\n",
    "\n",
    "alpha = 0.156\n",
    "\n",
    "for survey in surveys[1:-1]:\n",
    "    #ax.plot(df_full[df_full['survey'] == survey].redshifts,\n",
    "    #        alpha*(xmean_asym_sco[survey] - age_law_snf(df_full[df_full['survey'] == survey].redshifts)),\n",
    "    #        color=colors[survey], lw=2, ls='None', marker='.', alpha=.3, ms=3, zorder=6)\n",
    "    \n",
    "    ax.plot(df_full[df_full['survey'] == survey].redshifts,    \n",
    "            alpha*(xmean_asym_sco[survey] - age_law_all(df_full[df_full['survey'] == survey].redshifts)),    \n",
    "            color=colors[survey], lw=2, ls='None', marker='.',    \n",
    "            zorder=6)\n",
    "    \n",
    "ax.hline(0, zorder=2, color=\"0.7\", lw=1)\n",
    "\n",
    "ax.set_xlabel(r\"$\\mathrm{redshift}$ \", fontsize=\"large\")\n",
    "ax.set_ylabel(r\" $\\alpha\\times\\left(\\langle x_1 \\rangle_{\\mathrm{BBC}} - \\langle x_1 \\rangle_{\\mathrm{Base}}\\right)$ [mag]\", fontsize=\"large\")\n",
    "\n",
    "#ax.set_ylim(-0.52, 0.52)\n",
    "ax.set_ylim((-0.03941893539802042, 0.03802656703727667))\n",
    "#ax.set_xlim(0.01, 1.2)\n",
    "ax.set_xlim(0, 1.5)\n",
    "#ax.set_xscale('log')\n",
    "\n",
    "ax.text(0.99, 0.52, 'BBC stretch model',\n",
    "        va='bottom', ha='right', transform=ax.transAxes,\n",
    "        color='0.7')\n",
    "\n",
    "SDSSleg = Line2D([0], [0], color=colors['SDSS'],linewidth=0, marker='.', ms=7)\n",
    "PS1leg = Line2D([0], [0], color=colors['PS1'],linewidth=0, marker='.', ms=7)\n",
    "SNLSleg = Line2D([0], [0], color=colors['SNLS'],linewidth=0, marker='.', ms=7)\n",
    "labels = ['SDSS', 'PS1', 'SNLS']\n",
    "\n",
    "ax.legend([SDSSleg, PS1leg, SNLSleg], labels, columnspacing=0.8,\n",
    "           ncol=3, loc='upper right', frameon=False, fontsize='small')\n",
    "\n",
    "fig.savefig('../../Images/BBC_-stretchevol.pdf', bbox_inches='tight')\n",
    "fig.savefig('../../Images/png/BBC_-stretchevol.png', bbox_inches='tight', dpi=600)"
   ]
  },
  {
   "cell_type": "markdown",
   "metadata": {},
   "source": [
    "## Combined bins definitions"
   ]
  },
  {
   "cell_type": "code",
   "execution_count": 42,
   "metadata": {},
   "outputs": [
    {
     "name": "stderr",
     "output_type": "stream",
     "text": [
      "/home/nicolas/.installs/anaconda3/lib/python3.7/site-packages/ipykernel_launcher.py:8: SettingWithCopyWarning: \n",
      "A value is trying to be set on a copy of a slice from a DataFrame.\n",
      "Try using .loc[row_indexer,col_indexer] = value instead\n",
      "\n",
      "See the caveats in the documentation: http://pandas.pydata.org/pandas-docs/stable/user_guide/indexing.html#returning-a-view-versus-a-copy\n",
      "  \n",
      "/home/nicolas/.installs/anaconda3/lib/python3.7/site-packages/ipykernel_launcher.py:11: SettingWithCopyWarning: \n",
      "A value is trying to be set on a copy of a slice from a DataFrame.\n",
      "Try using .loc[row_indexer,col_indexer] = value instead\n",
      "\n",
      "See the caveats in the documentation: http://pandas.pydata.org/pandas-docs/stable/user_guide/indexing.html#returning-a-view-versus-a-copy\n",
      "  # This is added back by InteractiveShellApp.init_path()\n"
     ]
    }
   ],
   "source": [
    "df_bias = df_full[df_full['survey'].isin(['PS1','SDSS','SNLS'])]\n",
    "\n",
    "def get_bias(df_line, alpha=0.156):\n",
    "    meanBBC = xmean_asym_sco[df_line.survey]\n",
    "    meanBASE = age_law_all(df_line.redshifts)\n",
    "    return(alpha*(meanBBC - meanBASE))\n",
    "\n",
    "df_bias['bias'] = np.asarray([get_bias(df_bias.iloc[l]) for l in range(len(df_bias))])\n",
    "\n",
    "z_bin = np.linspace(0, 1.5, 30)\n",
    "df_bias['zbin'] = np.digitize(df_bias.redshifts, z_bin)\n",
    "\n",
    "df_bias_grouped = df_bias.groupby('zbin').mean()"
   ]
  },
  {
   "cell_type": "markdown",
   "metadata": {},
   "source": [
    "## Advanced BBC-stretchevol + cosmology"
   ]
  },
  {
   "cell_type": "code",
   "execution_count": 43,
   "metadata": {},
   "outputs": [
    {
     "data": {
      "image/png": "[encoded data removed]",
      "text/plain": [
       "<Figure size 432x288 with 1 Axes>"
      ]
     },
     "metadata": {
      "needs_background": "light"
     },
     "output_type": "display_data"
    }
   ],
   "source": [
    "fig = plt.figure(figsize=[6, 4])\n",
    "ax = fig.add_axes([0.15, 0.15, 0.75, 0.75])\n",
    "\n",
    "prop=dict(lw=2, ls='None', marker='o', ms=5, alpha=.1, mew=0, zorder=5)\n",
    "\n",
    "for survey in surveys[1:-1]:\n",
    "    ax.plot(df_full[df_full['survey'] == survey].redshifts,    \n",
    "            alpha*(xmean_asym_sco[survey] - age_law_all(df_full[df_full['survey'] == survey].redshifts)),    \n",
    "            color=colors[survey], **prop)\n",
    "\n",
    "ax.plot(df_bias_grouped.redshifts,\n",
    "        df_bias_grouped.bias, ls='None',\n",
    "        marker='o', mec=\"C1\", mfc='w',\n",
    "        color='C1', ms=7, alpha=.9, zorder=6)\n",
    "\n",
    "ax.axhline(0, color=\"0.7\", lw=1, zorder=1)\n",
    "ax.set_xlim(0, 1.2)\n",
    "ax.set_ylim((-0.03941893539802042, 0.03802656703727667))\n",
    "\n",
    "ax.set_xlabel(r\"$\\mathrm{redshift}$ \", fontsize=\"large\")\n",
    "ax.set_ylabel(r\" $\\alpha\\times\\left(\\langle x_1 \\rangle_{\\mathrm{BBC}} - \\langle x_1 \\rangle_{\\mathrm{Base}}\\right)$ [mag]\", fontsize=\"large\")\n",
    "\n",
    "SDSSleg = Line2D([0], [0], color=colors['SDSS'],linewidth=0, marker='.', ms=7)\n",
    "PS1leg = Line2D([0], [0], color=colors['PS1'],linewidth=0, marker='.', ms=7)\n",
    "SNLSleg = Line2D([0], [0], color=colors['SNLS'],linewidth=0, marker='.', ms=7)\n",
    "labels = ['SDSS', 'PS1', 'SNLS']\n",
    "\n",
    "ax.legend([SDSSleg, PS1leg, SNLSleg], labels, columnspacing=0.8,\n",
    "           ncol=3, loc='upper right', frameon=False, fontsize='small')\n",
    "\n",
    "fig.savefig('../../Images/BBC_-stretchevol_grouped.pdf', bbox_inches='tight')\n",
    "fig.savefig('../../Images/png/BBC_-stretchevol_grouped.png', bbox_inches='tight', dpi=600)"
   ]
  },
  {
   "cell_type": "code",
   "execution_count": 203,
   "metadata": {
    "jupyter": {
     "source_hidden": true
    }
   },
   "outputs": [
    {
     "data": {
      "image/png": "[encoded data removed]",
      "text/plain": [
       "<Figure size 432x288 with 1 Axes>"
      ]
     },
     "metadata": {
      "needs_background": "light"
     },
     "output_type": "display_data"
    }
   ],
   "source": [
    "fig = plt.figure(figsize=[6, 4])\n",
    "ax = fig.add_axes([0.15, 0.15, 0.75, 0.75])\n",
    "\n",
    "prop=dict(lw=2, ls='None', marker='.', ms=4, alpha=.1, mew=0)\n",
    "\n",
    "for survey in surveys[1:-1]:\n",
    "    ax.plot(df_full[df_full['survey'] == survey].redshifts,    \n",
    "            alpha*(xmean_asym_sco[survey] - age_law_all(df_full[df_full['survey'] == survey].redshifts)),    \n",
    "            color=colors[survey], **prop)\n",
    "\n",
    "ax.plot(df_bias_grouped.redshifts,\n",
    "        df_bias_grouped.bias, ls='None', marker='o',\n",
    "        color='C1', ms=5, alpha=.9)\n",
    "\n",
    "zz = 10**np.linspace(-3, 3, 100)\n",
    "wcdm = astropy.cosmology.FlatwCDM(70, 0.30, w0=-1)\n",
    "REFZ = 0.5\n",
    "for w in [[-0.90, -1.10], [-0.95, -1.05],[-0.99, -1.01]]:\n",
    "    deltaup = wcdm.distmod(zz) -astropy.cosmology.FlatwCDM(70, 0.30, w0=w[0]).distmod(zz)\n",
    "    deltalow = wcdm.distmod(zz)-astropy.cosmology.FlatwCDM(70, 0.30, w0=w[1]).distmod(zz)\n",
    "    ax.fill_between(zz,\n",
    "                    deltaup-deltaup[np.argmin(np.abs(zz-REFZ))],\n",
    "                    deltalow-deltalow[np.argmin(np.abs(zz-REFZ))],\n",
    "                    color=\"0.5\", alpha=0.1)\n",
    "\n",
    "ax.text(0.01, 0.03, r'$w = -1.10$', color=\"0.7\", fontsize='x-small',\n",
    "        rotation=-50, va='center', ha='left')\n",
    "ax.text(0.01, 0.015, r'$w = -1.05$', color=\"0.7\", fontsize='x-small',\n",
    "        rotation=-30, va='center', ha='left')\n",
    "ax.text(0.01, 0.0035, r'$w = -1.01$', color=\"0.7\", fontsize='x-small',\n",
    "        rotation=-7, va='center', ha='left')\n",
    "\n",
    "ax.axhline(0, color=\"0.7\", lw=1)\n",
    "ax.set_xlim(0, 1.5)\n",
    "\n",
    "delta_ = wcdm.distmod(zz) -astropy.cosmology.Flatw0waCDM(70, 0.30, w0=-0.95, wa=-0.1).distmod(zz)\n",
    "\n",
    "ax.plot(zz,\n",
    "       delta_-delta_[np.argmin(np.abs(zz-REFZ))],\n",
    "       color='C0')\n",
    "\n",
    "delta_ = wcdm.distmod(zz) -astropy.cosmology.Flatw0waCDM(70, 0.30, w0=-0.98, wa=0.2).distmod(zz)\n",
    "\n",
    "ax.plot(zz,\n",
    "       delta_-delta_[np.argmin(np.abs(zz-REFZ))],\n",
    "       color='C0', ls=':')\n",
    "\n",
    "xmax = ax.get_xlim()[-1]\n",
    "ax.text(xmax-0.01, 0.013, r'$w_0=-0.98, w_a=0.2$', color=\"C0\", fontsize='x-small',\n",
    "        rotation=5, va='center', ha='right')\n",
    "ax.text(xmax-0.01, -0.003, r'$w_0=-0.95, w_a=0.1$', color=\"C0\", fontsize='x-small',\n",
    "        rotation=-2, va='center', ha='right')\n",
    "\n",
    "ax.set_xlabel(r\"$\\mathrm{redshift}$ \", fontsize=\"large\")\n",
    "ax.set_ylabel(r\" $\\alpha\\times\\left(\\langle x_1 \\rangle_{\\mathrm{BBC}} - \\langle x_1 \\rangle_{\\mathrm{Base}}\\right)$ [mag]\", fontsize=\"large\")\n",
    "\n",
    "SDSSleg = Line2D([0], [0], color=colors['SDSS'],linewidth=0, marker='.', ms=7)\n",
    "PS1leg = Line2D([0], [0], color=colors['PS1'],linewidth=0, marker='.', ms=7)\n",
    "SNLSleg = Line2D([0], [0], color=colors['SNLS'],linewidth=0, marker='.', ms=7)\n",
    "labels = ['SDSS', 'PS1', 'SNLS']\n",
    "\n",
    "ax.legend([SDSSleg, PS1leg, SNLSleg], labels, columnspacing=0.8,\n",
    "           ncol=3, loc='upper right', frameon=False, fontsize='small')\n",
    "\n",
    "fig.savefig('../../Images/BBC_distmod_w0wa.pdf', bbox_inches='tight')\n",
    "fig.savefig('../../Images/png/BBC_distmod_w0wa.png', bbox_inches='tight', dpi=600)"
   ]
  },
  {
   "cell_type": "code",
   "execution_count": null,
   "metadata": {},
   "outputs": [],
   "source": []
  }
 ],
 "metadata": {
  "kernelspec": {
   "display_name": "Python 3",
   "language": "python",
   "name": "python3"
  },
  "language_info": {
   "codemirror_mode": {
    "name": "ipython",
    "version": 3
   },
   "file_extension": ".py",
   "mimetype": "text/x-python",
   "name": "python",
   "nbconvert_exporter": "python",
   "pygments_lexer": "ipython3",
   "version": "3.7.4"
  }
 },
 "nbformat": 4,
 "nbformat_minor": 4
}
