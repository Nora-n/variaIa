{
 "cells": [
  {
   "cell_type": "markdown",
   "metadata": {},
   "source": [
    "## Modules à importer"
   ]
  },
  {
   "cell_type": "code",
   "execution_count": 1,
   "metadata": {},
   "outputs": [
    {
     "data": {
      "text/html": [
       "<style>.container { width:100% !important; }</style>"
      ],
      "text/plain": [
       "<IPython.core.display.HTML object>"
      ]
     },
     "metadata": {},
     "output_type": "display_data"
    }
   ],
   "source": [
    "import sep\n",
    "import math\n",
    "import scipy\n",
    "import pickle\n",
    "import random\n",
    "import numpy as np\n",
    "import pandas as pd\n",
    "import iminuit as im\n",
    "import ipywidgets as ipw\n",
    "import matplotlib.pyplot as plt\n",
    "\n",
    "from variaIa import tools\n",
    "from importlib import reload\n",
    "from pymage import panstarrs\n",
    "from pshost import massmeasure\n",
    "from variaIa import stretchevol\n",
    "from variaIa.tools import surveys, df_cons, df_nc, df_c, df_full, z_max\n",
    "from IPython.display import display, HTML, Latex\n",
    "from matplotlib.patches import Ellipse\n",
    "from astropy.cosmology import Planck15 as cosmo\n",
    "from astropy import units\n",
    "\n",
    "display(HTML(\"<style>.container { width:100% !important; }</style>\"))"
   ]
  },
  {
   "cell_type": "markdown",
   "metadata": {},
   "source": [
    "### Définition des données à montrer"
   ]
  },
  {
   "cell_type": "code",
   "execution_count": 2,
   "metadata": {
    "jupyter": {
     "source_hidden": true
    }
   },
   "outputs": [
    {
     "data": {
      "application/vnd.jupyter.widget-view+json": {
       "model_id": "834abdb7c4e148cbac03cbabfd32d87b",
       "version_major": 2,
       "version_minor": 0
      },
      "text/plain": [
       "HBox(children=(interactive(children=(Checkbox(value=False, description='Conservative'), Dropdown(description='…"
      ]
     },
     "metadata": {},
     "output_type": "display_data"
    }
   ],
   "source": [
    "btw = ipw.Checkbox(\n",
    "    value=False,\n",
    "    description='btw')\n",
    "after = ipw.Checkbox(\n",
    "    value=False,\n",
    "    description='After')\n",
    "\n",
    "def set_survey(cons, su):\n",
    "    global df\n",
    "    if su == 'All':\n",
    "        df = df_cons(cons)\n",
    "    elif 'n' in su:\n",
    "        df = df_cons(cons)[df_cons(cons)['survey'] != su.split('n')[-1]]\n",
    "    else:\n",
    "        df = df_cons(cons)[df_cons(cons)['survey'] == su]\n",
    "    return df\n",
    "\n",
    "int_set_su = ipw.interactive(set_survey, cons=tools.cons, su=tools.su)\n",
    "display(ipw.HBox([int_set_su, btw, after]))\n",
    "\n",
    "smap = plt.cm.get_cmap('cividis')\n",
    "colors = {'SNF': plt.cm.binary(0.9),\n",
    "          'low-z': (1, 0, 0),\n",
    "          'SDSS': smap(0.1),\n",
    "          'PS1': smap(0.5),\n",
    "          'SNLS': smap(0.8),\n",
    "          'HST': smap(0.99),  # for cividis\n",
    "          #'HST': smap(300)}  # for viridis\n",
    "          'All': (255/255, 51/255, 0/255)}\n",
    "\n",
    "def alphacolors(alpha, survey):\n",
    "    return(colors[survey][0], colors[survey][1], colors[survey][2], alpha)\n",
    "\n",
    "df_nHST = df_nc[df_nc['survey'] != 'HST']"
   ]
  },
  {
   "cell_type": "markdown",
   "metadata": {},
   "source": [
    "## Low-z ra, dec and zcmb to extract"
   ]
  },
  {
   "cell_type": "code",
   "execution_count": 3,
   "metadata": {},
   "outputs": [],
   "source": [
    "d = pd.read_csv('../../../Data/data_cheat.csv', sep=' ')#, index_col='CID')\n",
    "todl = d[d['IDSURVEY'].isin([5,\n",
    "                             61, 62, 63, 64, 65, 66])][['CID',\n",
    "                                                        'RA',\n",
    "                                                        'DECL',\n",
    "                                                        'zCMB',\n",
    "                                                        'HOST_LOGMASS',\n",
    "                                                        'HOST_LOGMASS_ERR']].values\n",
    "# Indexes 131 and 142 couldn't be recovered with PS1Target\n",
    "CID = np.concatenate((todl[:, 0][:131], todl[:, 0][132:142],\n",
    "                    todl[:, 0][143:]), axis=None)\n",
    "ra = np.concatenate((todl[:, 1][:131], todl[:, 1][132:142],\n",
    "                    todl[:, 1][143:]), axis=None)\n",
    "dec = np.concatenate((todl[:, 2][:131], todl[:, 2][132:142],\n",
    "                     todl[:, 2][143:]), axis=None)\n",
    "zcmb = np.concatenate((todl[:, 3][:131], todl[:, 3][132:142],\n",
    "                      todl[:, 3][143:]), axis=None)\n",
    "mass = np.concatenate((todl[:, 4][:131], todl[:, 4][132:142],\n",
    "                      todl[:, 4][143:]), axis=None)\n",
    "mass_err = np.concatenate((todl[:, 5][:131], todl[:, 5][132:142],\n",
    "                          todl[:, 5][143:]), axis=None)\n",
    "lowz_dict = {'CID': CID,\n",
    "             'ra': ra,\n",
    "             'dec': dec,\n",
    "             'zcmb': zcmb,\n",
    "             'hg_mass_sco': mass,\n",
    "             'hg_masserr_sco': mass_err}\n",
    "lowz_df = pd.DataFrame.from_dict(lowz_dict)"
   ]
  },
  {
   "cell_type": "markdown",
   "metadata": {},
   "source": [
    "## Same for SNF"
   ]
  },
  {
   "cell_type": "code",
   "execution_count": 40,
   "metadata": {},
   "outputs": [],
   "source": [
    "d_snf = pd.read_csv('../../../Data/sne/lssfr_paper_full_sntable.csv', sep=',')\n",
    "\n",
    "#ra = d_snf['target.ra'].values\n",
    "#dec = d_snf['target.dec'].values\n",
    "#zcmb = d_snf['host.zcmb'].values"
   ]
  },
  {
   "cell_type": "markdown",
   "metadata": {},
   "source": [
    "## Set cutout size depending on redshift"
   ]
  },
  {
   "cell_type": "markdown",
   "metadata": {},
   "source": [
    "d_Mpc_rad = cosmo.angular_diameter_distance(zcmb)\n",
    "rad_to_arcsec = (np.pi/180*3600)**(-1)\n",
    "d_Mpc_per_arcsec = d_Mpc_rad*rad_to_arcsec\n",
    "d_Mpc_per_pixel = d_Mpc_per_arcsec*pix_arc\n",
    "nb_pix = np.ceil((100./d_Mpc_per_pixel).value)\n",
    "redownload = nb_pix > 240"
   ]
  },
  {
   "cell_type": "markdown",
   "metadata": {},
   "source": [
    "### Advanced cutout selection using HG ellipses parameters"
   ]
  },
  {
   "cell_type": "markdown",
   "metadata": {},
   "source": [
    "### First study the data"
   ]
  },
  {
   "cell_type": "code",
   "execution_count": 4,
   "metadata": {},
   "outputs": [
    {
     "name": "stderr",
     "output_type": "stream",
     "text": [
      "WARNING: FITSFixedWarning: The WCS transformation has more axes (2) than the image it is associated with (0) [astropy.wcs.wcs]\n"
     ]
    }
   ],
   "source": [
    "with open('../../../Data/mmcls_lowz', 'rb') as f:\n",
    "    mmcls_lowz = pickle.load(f)\n",
    "#with open('../../../Data/mmcls_snf', 'rb') as f:\n",
    "#    mmcls_snf = pickle.load(f)"
   ]
  },
  {
   "cell_type": "code",
   "execution_count": 19,
   "metadata": {},
   "outputs": [],
   "source": [
    "lowz_df['hg_mass_nr'] = [mmcls_lowz[i].hg_mass[0] for i in range(len(lowz_df))]\n",
    "lowz_df['hg_masserr_nr_down'] = [mmcls_lowz[i].hg_mass[1] for i in range(len(lowz_df))]\n",
    "lowz_df['hg_masserr_nr_up'] = [mmcls_lowz[i].hg_mass[2] for i in range(len(lowz_df))]"
   ]
  },
  {
   "cell_type": "code",
   "execution_count": 6,
   "metadata": {
    "collapsed": true,
    "jupyter": {
     "outputs_hidden": true
    }
   },
   "outputs": [
    {
     "name": "stdout",
     "output_type": "stream",
     "text": [
      "0\n",
      "1\n",
      "2\n",
      "3\n",
      "4\n",
      "5\n",
      "6\n",
      "7\n",
      "8\n",
      "9\n",
      "10\n",
      "11\n",
      "12\n",
      "13\n",
      "14\n",
      "15\n",
      "16\n",
      "17\n",
      "18\n",
      "19\n",
      "20\n",
      "21\n",
      "22\n",
      "23\n",
      "24\n",
      "25\n",
      "26\n",
      "27\n",
      "28\n",
      "29\n",
      "30\n",
      "31\n",
      "32\n",
      "33\n",
      "34\n",
      "35\n",
      "36\n",
      "37\n",
      "38\n",
      "39\n",
      "40\n",
      "41\n",
      "42\n",
      "43\n",
      "44\n",
      "45\n",
      "46\n",
      "47\n",
      "48\n",
      "49\n",
      "50\n",
      "51\n"
     ]
    },
    {
     "name": "stderr",
     "output_type": "stream",
     "text": [
      "/home/nicolas/.installs/anaconda3/lib/python3.7/site-packages/astrobject-0.8.6-py3.7.egg/astrobject/collections/photodiagnostics.py:586: UserWarning: 10000/10000 color samplers will be changed to the prior distribution as they have negative flux\n"
     ]
    },
    {
     "name": "stdout",
     "output_type": "stream",
     "text": [
      "52\n",
      "53\n",
      "54\n",
      "55\n",
      "56\n"
     ]
    },
    {
     "name": "stderr",
     "output_type": "stream",
     "text": [
      "/home/nicolas/.installs/anaconda3/lib/python3.7/site-packages/astrobject-0.8.6-py3.7.egg/astrobject/utils/tools.py:134: RuntimeWarning: invalid value encountered in log10\n"
     ]
    },
    {
     "name": "stdout",
     "output_type": "stream",
     "text": [
      "57\n",
      "58\n",
      "59\n",
      "60\n",
      "61\n",
      "62\n",
      "63\n",
      "64\n",
      "65\n",
      "66\n",
      "67\n",
      "68\n",
      "69\n",
      "70\n",
      "71\n",
      "72\n",
      "73\n",
      "74\n",
      "75\n",
      "76\n",
      "77\n",
      "78\n",
      "79\n",
      "80\n",
      "81\n",
      "82\n",
      "83\n",
      "84\n",
      "85\n",
      "86\n",
      "87\n",
      "88\n",
      "89\n",
      "90\n",
      "91\n",
      "92\n",
      "93\n",
      "94\n",
      "95\n",
      "96\n",
      "97\n",
      "98\n",
      "99\n",
      "100\n",
      "101\n",
      "102\n",
      "103\n",
      "104\n",
      "105\n",
      "106\n",
      "107\n",
      "108\n",
      "109\n",
      "110\n",
      "111\n",
      "112\n",
      "113\n",
      "114\n",
      "115\n",
      "116\n",
      "117\n",
      "118\n",
      "119\n",
      "120\n",
      "121\n",
      "122\n",
      "123\n",
      "124\n",
      "125\n",
      "126\n",
      "127\n",
      "128\n",
      "129\n",
      "130\n",
      "131\n",
      "132\n",
      "133\n",
      "134\n",
      "135\n",
      "136\n",
      "137\n",
      "138\n",
      "139\n",
      "140\n",
      "141\n",
      "142\n",
      "143\n",
      "144\n",
      "145\n",
      "146\n",
      "147\n",
      "148\n",
      "149\n",
      "150\n",
      "151\n",
      "152\n",
      "153\n",
      "154\n",
      "155\n",
      "156\n",
      "157\n",
      "158\n",
      "159\n",
      "160\n",
      "161\n",
      "162\n",
      "163\n",
      "164\n",
      "165\n",
      "166\n",
      "167\n",
      "168\n",
      "169\n"
     ]
    }
   ],
   "source": [
    "#mmcls_snf = []\n",
    "for i in range(len(ra)):\n",
    "    print(i)\n",
    "    #if redownload[i]:\n",
    "    #    mmcls_lowz[i].update(size=needed_size[i])\n",
    "    #    mmcls_lowz[i].get_hostgalaxy()\n",
    "    #    mmcls_lowz[i].get_hostgalaxy_params()\n",
    "    #mm = massmeasure.MassMeasure(ra[i], dec[i], zcmb[i], snfcls[i].imgcutout)\n",
    "    #mm.get_hostgalaxy_params()\n",
    "    #mmcls_snf.append(mm)\n",
    "    mmcls_lowz[i].get_hostgalaxy_params()"
   ]
  },
  {
   "cell_type": "code",
   "execution_count": 20,
   "metadata": {},
   "outputs": [],
   "source": [
    "pickle.dump(mmcls_lowz, open('../../../Data/mmcls_lowz', 'wb'))\n",
    "#pickle.dump(mmcls_snf, open('../../../Data/mmcls_snf', 'wb'))"
   ]
  },
  {
   "cell_type": "markdown",
   "metadata": {},
   "source": [
    "#### Get current sizes"
   ]
  },
  {
   "cell_type": "code",
   "execution_count": 5,
   "metadata": {},
   "outputs": [],
   "source": [
    "current_size = []\n",
    "for i in range(len(zcmb)):\n",
    "    current_size.append(len(mmcls_lowz[i].target.imgcutout['r'].data))"
   ]
  },
  {
   "cell_type": "code",
   "execution_count": 16,
   "metadata": {},
   "outputs": [],
   "source": [
    "increment = np.array(needed_size)-np.array(current_size)"
   ]
  },
  {
   "cell_type": "code",
   "execution_count": 125,
   "metadata": {},
   "outputs": [
    {
     "data": {
      "text/plain": [
       "array([  0,   0,   0,   0,   0,   0,   0,   0,   0,   0,   0,   0,   0,\n",
       "         0,   0,   0,   0,   0,  20,   0,   0,   0,   0,   0,   0,   0,\n",
       "         0,  44,   0,   0,   0,   0,   0,   0,  51,   0,   0,   0,  99,\n",
       "         0,   0,   0,   0,   0,   0,   0,   0,   0,   0,   0,   0,   0,\n",
       "        43,   0,   0,   0,  64,   0,   0,   0,   0,   0,   0,   0,   0,\n",
       "         0,   0,   0,   0,   0,   0,   0,   0,   0,   0,   0,   0,   0,\n",
       "         0,   0,   0,   0,   0,   0,   0,   0,   0,   0,   0,   0,   0,\n",
       "         0,   0,   0,   0,   0,   0,   0,   0,   0,   0,   0,   0,  30,\n",
       "         8,   0,   0,   0,   0,   0,   0,   0,   0,   0,   0,   0,   0,\n",
       "         0,   0,   0,   0,   0,   0,   0,   0,   0,   0,   0,   0,   0,\n",
       "         0,   0,   0,   0,   0,   0,   0,   0,   0,   0,   0,   0, 171,\n",
       "         6,   0,   0,   0,   0,   0,   0,  62,   0,   0, 256,   0,   0,\n",
       "         0,   0,   0,  24,   0,   0,   0,   0,   0,   0,   0,   0,   0,\n",
       "         0])"
      ]
     },
     "execution_count": 125,
     "metadata": {},
     "output_type": "execute_result"
    }
   ],
   "source": [
    "increment"
   ]
  },
  {
   "cell_type": "code",
   "execution_count": 17,
   "metadata": {},
   "outputs": [
    {
     "data": {
      "text/plain": [
       "array([ 30, 140,  13,  28, 171,   6,  62, 256,  24])"
      ]
     },
     "execution_count": 17,
     "metadata": {},
     "output_type": "execute_result"
    }
   ],
   "source": [
    "increment[redownload]"
   ]
  },
  {
   "cell_type": "markdown",
   "metadata": {},
   "source": [
    "#### Get ellipses of all host galaxies"
   ]
  },
  {
   "cell_type": "code",
   "execution_count": 6,
   "metadata": {},
   "outputs": [],
   "source": [
    "all_hg_ell_params = []\n",
    "for i in range(len(zcmb)):\n",
    "    all_hg_ell_params.append(mmcls_lowz[i].hg_ellipse)\n",
    "    \n",
    "scaleup = 3\n",
    "\n",
    "all_hg_ell = []\n",
    "for i in range(len(zcmb)):\n",
    "    all_hg_ell.append(Ellipse([all_hg_ell_params[i][0], all_hg_ell_params[i][1]],\n",
    "                              2*all_hg_ell_params[i][2]*scaleup,\n",
    "                              2*all_hg_ell_params[i][3]*scaleup,\n",
    "                              all_hg_ell_params[i][4]*units.rad.to('deg')))"
   ]
  },
  {
   "cell_type": "markdown",
   "metadata": {},
   "source": [
    "#### Compute needed size"
   ]
  },
  {
   "cell_type": "code",
   "execution_count": 7,
   "metadata": {},
   "outputs": [],
   "source": [
    "vertices = []\n",
    "redownload = []\n",
    "needed_size = []\n",
    "for i in range(len(zcmb)):\n",
    "    # Get the path\n",
    "    path = all_hg_ell[i].get_path()\n",
    "    # Get the list of path vertices\n",
    "    vertices.append(path.vertices.copy())\n",
    "    # Transform the vertices so that they have the correct coordinates\n",
    "    vertices[-1] = all_hg_ell[i].get_patch_transform().transform(vertices[-1])\n",
    "    # Take indexes of farthest vertices\n",
    "    ind_xmin = np.argmin(vertices[-1][:,0])\n",
    "    ind_xmax = np.argmax(vertices[-1][:,0])\n",
    "    ind_ymin = np.argmin(vertices[-1][:,1])\n",
    "    ind_ymax = np.argmax(vertices[-1][:,1]) \n",
    "    # Compute distance from center to each farthest vertices\n",
    "    top = np.abs(vertices[-1][ind_ymax] - [current_size[i]/2, current_size[i]/2])\n",
    "    bottom = np.abs(vertices[-1][ind_ymin] - [current_size[i]/2, current_size[i]/2])\n",
    "    left = np.abs(vertices[-1][ind_xmin] - [current_size[i]/2, current_size[i]/2])\n",
    "    right = np.abs(vertices[-1][ind_xmax] - [current_size[i]/2, current_size[i]/2])\n",
    "    tblr = [top, bottom, left, right]\n",
    "    # Check if the farthest of the farthest vertices is outside the box,\n",
    "    # and set needed size to twice the farthest distance\n",
    "    if np.max(tblr) > current_size[i]/2:\n",
    "        redownload.append(True)\n",
    "        needed_size.append(int(np.ceil(2*np.max(tblr))))\n",
    "    # If not, keep the current size\n",
    "    else:\n",
    "        redownload.append(False)\n",
    "        needed_size.append(current_size[i])"
   ]
  },
  {
   "cell_type": "markdown",
   "metadata": {},
   "source": [
    "## Testing part"
   ]
  },
  {
   "cell_type": "code",
   "execution_count": 8,
   "metadata": {},
   "outputs": [
    {
     "data": {
      "text/plain": [
       "(array([False,  True]), array([159,  11]))"
      ]
     },
     "execution_count": 8,
     "metadata": {},
     "output_type": "execute_result"
    }
   ],
   "source": [
    "np.unique(redownload, return_counts=True)"
   ]
  },
  {
   "cell_type": "code",
   "execution_count": 14,
   "metadata": {},
   "outputs": [
    {
     "name": "stderr",
     "output_type": "stream",
     "text": [
      "/home/nicolas/.installs/anaconda3/lib/python3.7/site-packages/astrobject-0.8.6-py3.7.egg/astrobject/utils/mpladdon.py:731: UserWarning: Matplotlib is currently using module://ipykernel.pylab.backend_inline, which is a non-GUI backend, so cannot show the figure.\n",
      "/home/nicolas/.installs/anaconda3/lib/python3.7/site-packages/astrobject-0.8.6-py3.7.egg/astrobject/utils/mpladdon.py:731: UserWarning: Matplotlib is currently using module://ipykernel.pylab.backend_inline, which is a non-GUI backend, so cannot show the figure.\n"
     ]
    },
    {
     "data": {
      "text/plain": [
       "<Figure size 360x360 with 0 Axes>"
      ]
     },
     "metadata": {},
     "output_type": "display_data"
    },
    {
     "data": {
      "text/plain": [
       "<Figure size 360x360 with 0 Axes>"
      ]
     },
     "metadata": {},
     "output_type": "display_data"
    }
   ],
   "source": [
    "#i = 104\n",
    "for i in range(len(zcmb)):\n",
    "    ind_xmin = np.argmin(vertices[i][:,0])\n",
    "    ind_xmax = np.argmax(vertices[i][:,0])\n",
    "    ind_ymin = np.argmin(vertices[i][:,1])\n",
    "    ind_ymax = np.argmax(vertices[i][:,1])\n",
    "    \n",
    "    fig = plt.figure(figsize=[5, 5])\n",
    "    ax = fig.add_axes([0.12, 0.12, 0.8, 0.8])\n",
    "    \n",
    "    mmcls_lowz[i].show(ax=ax, band='r',\n",
    "                      ellipse=True, scaleup=2.5,\n",
    "                      ell_color=(1, 0, 0, 0.1))\n",
    "    ax.scatter([vertices[i][ind_xmin][0], vertices[i][ind_xmax][0],\n",
    "                vertices[i][ind_ymin][0], vertices[i][ind_ymax][0]],\n",
    "               [vertices[i][ind_xmin][1], vertices[i][ind_xmax][1],\n",
    "                vertices[i][ind_ymin][1], vertices[i][ind_ymax][1]],\n",
    "               marker='+', s=80,\n",
    "               color='r')\n",
    "    \n",
    "    fig.savefig(f'../../../Images/pdf/cutouts/lowz/mass_cutout_size_{i}.pdf', bbox_inches='tight')\n",
    "    #fig.savefig(f'../../../Images/png/cutouts/lowz/mass_cutout_size_{i}.png', bbox_inches='tight', dpi=600)\n",
    "    plt.close(fig)"
   ]
  },
  {
   "cell_type": "markdown",
   "metadata": {},
   "source": [
    "## Testing part for sepobjects"
   ]
  },
  {
   "cell_type": "code",
   "execution_count": null,
   "metadata": {},
   "outputs": [],
   "source": [
    "ell_corr = [[157, np.argmax(mmcls_lowz[157].ellipses[:, 2])],\n",
    "            [3, np.where(mmcls_lowz[3].ellipses[:, 2] == np.sort(mmcls_lowz[i].ellipses[:, 2])[-2])[0][0]],\n",
    "            [27, np.argmax(mmcls_lowz[27].ellipses[:, 2])];\n",
    "            [56, np.argmax(mmcls_lowz[56].ellipses[:, 2])],\n",
    "            [77, np.where(mmcls_lowz[77].ellipses[:, 2] == np.sort(mmcls_lowz[i].ellipses[:, 2])[::-1][1])[0][0]]\n",
    "            [86, np.argmax(mmcls_lowz[86].ellipses[:, 2])],\n",
    "            [103, np.argmax(mmcls_lowz[103].ellipses[:, 2])],\n",
    "            [118, np.argmax(mmcls_lowz[118].ellipses[:, 2])],\n",
    "            [142, np.argmax(mmcls_lowz[142].ellipses[:, 2])],\n",
    "            [150, np.argmax(mmcls_lowz[150].ellipses[:, 2])]]"
   ]
  },
  {
   "cell_type": "code",
   "execution_count": 22,
   "metadata": {},
   "outputs": [
    {
     "data": {
      "text/html": [
       "<div>\n",
       "<style scoped>\n",
       "    .dataframe tbody tr th:only-of-type {\n",
       "        vertical-align: middle;\n",
       "    }\n",
       "\n",
       "    .dataframe tbody tr th {\n",
       "        vertical-align: top;\n",
       "    }\n",
       "\n",
       "    .dataframe thead th {\n",
       "        text-align: right;\n",
       "    }\n",
       "</style>\n",
       "<table border=\"1\" class=\"dataframe\">\n",
       "  <thead>\n",
       "    <tr style=\"text-align: right;\">\n",
       "      <th></th>\n",
       "      <th>CID</th>\n",
       "      <th>ra</th>\n",
       "      <th>dec</th>\n",
       "      <th>zcmb</th>\n",
       "      <th>hg_mass_sco</th>\n",
       "      <th>hg_masserr_sco</th>\n",
       "      <th>hg_mass_nr</th>\n",
       "      <th>hg_masserr_nr_down</th>\n",
       "      <th>hg_masserr_nr_up</th>\n",
       "    </tr>\n",
       "  </thead>\n",
       "  <tbody>\n",
       "    <tr>\n",
       "      <td>8</td>\n",
       "      <td>2001V</td>\n",
       "      <td>179.354</td>\n",
       "      <td>25.2026</td>\n",
       "      <td>0.01596</td>\n",
       "      <td>5</td>\n",
       "      <td>10</td>\n",
       "      <td>11.719533</td>\n",
       "      <td>0.100429</td>\n",
       "      <td>0.099825</td>\n",
       "    </tr>\n",
       "    <tr>\n",
       "      <td>41</td>\n",
       "      <td>2006ah</td>\n",
       "      <td>206.556</td>\n",
       "      <td>-9.13109</td>\n",
       "      <td>0.05097</td>\n",
       "      <td>5</td>\n",
       "      <td>10</td>\n",
       "      <td>10.832089</td>\n",
       "      <td>0.099206</td>\n",
       "      <td>0.098539</td>\n",
       "    </tr>\n",
       "    <tr>\n",
       "      <td>44</td>\n",
       "      <td>2006ax</td>\n",
       "      <td>171.014</td>\n",
       "      <td>-12.2915</td>\n",
       "      <td>0.01773</td>\n",
       "      <td>5</td>\n",
       "      <td>10</td>\n",
       "      <td>11.554319</td>\n",
       "      <td>0.097237</td>\n",
       "      <td>0.099165</td>\n",
       "    </tr>\n",
       "    <tr>\n",
       "      <td>55</td>\n",
       "      <td>2006is</td>\n",
       "      <td>79.3932</td>\n",
       "      <td>-23.7819</td>\n",
       "      <td>0.03153</td>\n",
       "      <td>5</td>\n",
       "      <td>10</td>\n",
       "      <td>8.951066</td>\n",
       "      <td>0.104096</td>\n",
       "      <td>0.102932</td>\n",
       "    </tr>\n",
       "    <tr>\n",
       "      <td>99</td>\n",
       "      <td>2008cf</td>\n",
       "      <td>211.886</td>\n",
       "      <td>-26.5522</td>\n",
       "      <td>0.04693</td>\n",
       "      <td>5</td>\n",
       "      <td>10</td>\n",
       "      <td>11.899315</td>\n",
       "      <td>0.099725</td>\n",
       "      <td>0.100736</td>\n",
       "    </tr>\n",
       "    <tr>\n",
       "      <td>108</td>\n",
       "      <td>2008050</td>\n",
       "      <td>204.198</td>\n",
       "      <td>5.14178</td>\n",
       "      <td>0.04702</td>\n",
       "      <td>5</td>\n",
       "      <td>10</td>\n",
       "      <td>11.349091</td>\n",
       "      <td>0.098478</td>\n",
       "      <td>0.100342</td>\n",
       "    </tr>\n",
       "    <tr>\n",
       "      <td>109</td>\n",
       "      <td>2008051</td>\n",
       "      <td>229.995</td>\n",
       "      <td>4.90465</td>\n",
       "      <td>0.03908</td>\n",
       "      <td>5</td>\n",
       "      <td>10</td>\n",
       "      <td>11.010562</td>\n",
       "      <td>0.098737</td>\n",
       "      <td>0.099187</td>\n",
       "    </tr>\n",
       "    <tr>\n",
       "      <td>119</td>\n",
       "      <td>PTF10bjs</td>\n",
       "      <td>195.297</td>\n",
       "      <td>53.816</td>\n",
       "      <td>0.03052</td>\n",
       "      <td>5</td>\n",
       "      <td>10</td>\n",
       "      <td>10.799592</td>\n",
       "      <td>0.097293</td>\n",
       "      <td>0.097450</td>\n",
       "    </tr>\n",
       "  </tbody>\n",
       "</table>\n",
       "</div>"
      ],
      "text/plain": [
       "          CID       ra      dec     zcmb hg_mass_sco hg_masserr_sco  \\\n",
       "8       2001V  179.354  25.2026  0.01596           5             10   \n",
       "41     2006ah  206.556 -9.13109  0.05097           5             10   \n",
       "44     2006ax  171.014 -12.2915  0.01773           5             10   \n",
       "55     2006is  79.3932 -23.7819  0.03153           5             10   \n",
       "99     2008cf  211.886 -26.5522  0.04693           5             10   \n",
       "108   2008050  204.198  5.14178  0.04702           5             10   \n",
       "109   2008051  229.995  4.90465  0.03908           5             10   \n",
       "119  PTF10bjs  195.297   53.816  0.03052           5             10   \n",
       "\n",
       "     hg_mass_nr  hg_masserr_nr_down  hg_masserr_nr_up  \n",
       "8     11.719533            0.100429          0.099825  \n",
       "41    10.832089            0.099206          0.098539  \n",
       "44    11.554319            0.097237          0.099165  \n",
       "55     8.951066            0.104096          0.102932  \n",
       "99    11.899315            0.099725          0.100736  \n",
       "108   11.349091            0.098478          0.100342  \n",
       "109   11.010562            0.098737          0.099187  \n",
       "119   10.799592            0.097293          0.097450  "
      ]
     },
     "execution_count": 22,
     "metadata": {},
     "output_type": "execute_result"
    }
   ],
   "source": [
    "lowz_df[lowz_df['hg_mass_sco'] == 5.]"
   ]
  },
  {
   "cell_type": "code",
   "execution_count": 6,
   "metadata": {},
   "outputs": [
    {
     "data": {
      "text/html": [
       "<div>\n",
       "<style scoped>\n",
       "    .dataframe tbody tr th:only-of-type {\n",
       "        vertical-align: middle;\n",
       "    }\n",
       "\n",
       "    .dataframe tbody tr th {\n",
       "        vertical-align: top;\n",
       "    }\n",
       "\n",
       "    .dataframe thead th {\n",
       "        text-align: right;\n",
       "    }\n",
       "</style>\n",
       "<table border=\"1\" class=\"dataframe\">\n",
       "  <thead>\n",
       "    <tr style=\"text-align: right;\">\n",
       "      <th></th>\n",
       "      <th>CID</th>\n",
       "      <th>ra</th>\n",
       "      <th>dec</th>\n",
       "      <th>zcmb</th>\n",
       "      <th>hg_mass_sco</th>\n",
       "      <th>hg_masserr_sco</th>\n",
       "      <th>hg_mass_nr</th>\n",
       "      <th>hg_masserr_nr_down</th>\n",
       "      <th>hg_masserr_nr_up</th>\n",
       "    </tr>\n",
       "  </thead>\n",
       "  <tbody>\n",
       "    <tr>\n",
       "      <td>51</td>\n",
       "      <td>2006en</td>\n",
       "      <td>347.521</td>\n",
       "      <td>30.2233</td>\n",
       "      <td>0.0308</td>\n",
       "      <td>11.068</td>\n",
       "      <td>0.058</td>\n",
       "      <td>4.867027</td>\n",
       "      <td>0.206847</td>\n",
       "      <td>0.196215</td>\n",
       "    </tr>\n",
       "    <tr>\n",
       "      <td>99</td>\n",
       "      <td>2008cf</td>\n",
       "      <td>211.886</td>\n",
       "      <td>-26.5522</td>\n",
       "      <td>0.04693</td>\n",
       "      <td>5</td>\n",
       "      <td>10</td>\n",
       "      <td>5.249190</td>\n",
       "      <td>0.199599</td>\n",
       "      <td>0.196149</td>\n",
       "    </tr>\n",
       "  </tbody>\n",
       "</table>\n",
       "</div>"
      ],
      "text/plain": [
       "       CID       ra      dec     zcmb hg_mass_sco hg_masserr_sco  hg_mass_nr  \\\n",
       "51  2006en  347.521  30.2233   0.0308      11.068          0.058    4.867027   \n",
       "99  2008cf  211.886 -26.5522  0.04693           5             10    5.249190   \n",
       "\n",
       "    hg_masserr_nr_down  hg_masserr_nr_up  \n",
       "51            0.206847          0.196215  \n",
       "99            0.199599          0.196149  "
      ]
     },
     "execution_count": 6,
     "metadata": {},
     "output_type": "execute_result"
    }
   ],
   "source": [
    "lowz_df[lowz_df['hg_mass_nr'] < 6]"
   ]
  },
  {
   "cell_type": "code",
   "execution_count": 15,
   "metadata": {},
   "outputs": [],
   "source": [
    "i = 51"
   ]
  },
  {
   "cell_type": "code",
   "execution_count": 17,
   "metadata": {},
   "outputs": [],
   "source": [
    "mmcls_lowz[i].un_nan()"
   ]
  },
  {
   "cell_type": "code",
   "execution_count": 18,
   "metadata": {},
   "outputs": [
    {
     "name": "stdout",
     "output_type": "stream",
     "text": [
      "test\n"
     ]
    },
    {
     "data": {
      "text/plain": [
       "(12.747140765329299, 0.09844938101406342, 0.10190214243698215)"
      ]
     },
     "execution_count": 18,
     "metadata": {},
     "output_type": "execute_result"
    }
   ],
   "source": [
    "mmcls_lowz[i].get_hostgalaxy_params()"
   ]
  },
  {
   "cell_type": "code",
   "execution_count": 45,
   "metadata": {},
   "outputs": [
    {
     "data": {
      "text/plain": [
       "8"
      ]
     },
     "execution_count": 45,
     "metadata": {},
     "output_type": "execute_result"
    }
   ],
   "source": [
    "np.argmax(mmcls_lowz[150].ellipses[:, 2])"
   ]
  },
  {
   "cell_type": "code",
   "execution_count": 52,
   "metadata": {},
   "outputs": [],
   "source": [
    "mmcls_lowz[i].get_hostgalaxy()"
   ]
  },
  {
   "cell_type": "code",
   "execution_count": 46,
   "metadata": {},
   "outputs": [],
   "source": [
    "mmcls_lowz[i].hg_ellipse = mmcls_lowz[i].ellipses[8]"
   ]
  },
  {
   "cell_type": "code",
   "execution_count": 18,
   "metadata": {},
   "outputs": [
    {
     "name": "stderr",
     "output_type": "stream",
     "text": [
      "/home/nicolas/.installs/anaconda3/lib/python3.7/site-packages/astrobject-0.8.6-py3.7.egg/astrobject/collections/photodiagnostics.py:586: UserWarning: 10000/10000 color samplers will be changed to the prior distribution as they have negative flux\n"
     ]
    },
    {
     "data": {
      "text/plain": [
       "(4.86702749805802, 0.20684689697327574, 0.1962148262047787)"
      ]
     },
     "execution_count": 18,
     "metadata": {},
     "output_type": "execute_result"
    }
   ],
   "source": [
    "mmcls_lowz[i].get_hostgalaxy_params()#scaleup=0.8)"
   ]
  },
  {
   "cell_type": "code",
   "execution_count": 270,
   "metadata": {},
   "outputs": [],
   "source": [
    "mmcls_lowz[i].target.sep_extract(thresh=0.73)\n",
    "mmcls_lowz[i].target.set_sep()"
   ]
  },
  {
   "cell_type": "code",
   "execution_count": 274,
   "metadata": {},
   "outputs": [],
   "source": [
    "mmcls_lowz[i].ellipses = mmcls_lowz[i].target._sep.sepobjects.get_ellipse_values().T"
   ]
  },
  {
   "cell_type": "code",
   "execution_count": 52,
   "metadata": {},
   "outputs": [
    {
     "name": "stderr",
     "output_type": "stream",
     "text": [
      "/home/nicolas/.installs/anaconda3/lib/python3.7/site-packages/astrobject-0.8.6-py3.7.egg/astrobject/utils/mpladdon.py:731: UserWarning: Matplotlib is currently using module://ipykernel.pylab.backend_inline, which is a non-GUI backend, so cannot show the figure.\n"
     ]
    },
    {
     "data": {
      "image/png": "[encoded data removed]",
      "text/plain": [
       "<Figure size 360x360 with 1 Axes>"
      ]
     },
     "metadata": {
      "needs_background": "light"
     },
     "output_type": "display_data"
    },
    {
     "data": {
      "text/plain": [
       "<Figure size 360x360 with 0 Axes>"
      ]
     },
     "metadata": {},
     "output_type": "display_data"
    }
   ],
   "source": [
    "fig = plt.figure(figsize=[5, 5])\n",
    "ax = fig.add_axes([0.12, 0.12, 0.8, 0.8])\n",
    "\n",
    "mmcls_lowz[i].show(ax=ax, ellipse=False, scaleup=2.5);\n",
    "#ax.imshow(~mask_test)\n",
    "\n",
    "#ax.set_xlim(200, 400)\n",
    "#ax.set_ylim(100, 400)\n",
    "\n",
    "#fig.savefig(f'../../../Images/pdf/cutouts/lowz_mass_cutout_size_{i}_set.pdf', bbox_inches='tight')"
   ]
  },
  {
   "cell_type": "code",
   "execution_count": 22,
   "metadata": {},
   "outputs": [
    {
     "data": {
      "text/plain": [
       "19"
      ]
     },
     "execution_count": 22,
     "metadata": {},
     "output_type": "execute_result"
    }
   ],
   "source": [
    "np.argmax(mmcls_lowz[i].ellipses[:, 2])"
   ]
  },
  {
   "cell_type": "code",
   "execution_count": 290,
   "metadata": {},
   "outputs": [
    {
     "name": "stdout",
     "output_type": "stream",
     "text": [
      "[75.45111084 17.04730988 14.33916759 14.30201054 10.01910686  6.91251278\n",
      "  6.87993145  5.37841082  5.22313499  5.12937832  4.83417559  4.63904381\n",
      "  4.48001528  4.16486597  4.10483646  4.05201244  3.9505198   3.9225502\n",
      "  3.82659745  3.72961903  3.7176168   3.6931572   3.53563023  3.51059198\n",
      "  3.49015975  3.42991209  3.3973      3.37732673  3.36408162  3.32433581\n",
      "  3.31660271  3.21721148  3.18679929  3.16565394  3.14584708  3.13864541\n",
      "  3.07651711  3.05067563  2.98213196  2.9262917   2.88260579  2.79914093\n",
      "  2.75613952  2.74592257  2.72341728  2.71663117  2.67278361  2.64595008\n",
      "  2.63572407  2.62398767  2.54309654  2.44091535  2.42974019  2.39854956\n",
      "  2.37266302  2.36409497  2.36333752  2.33387375  2.32744336  2.31994414\n",
      "  2.30025411  2.28489566  2.28391337  2.26215744  2.2407043   2.23231936\n",
      "  2.23206186  2.22975349  2.22063541  2.19836998  2.19387412  2.17405462\n",
      "  2.16596508  2.16341424  2.15864658  2.15459013  2.11638021  2.10913181\n",
      "  2.10462594  2.05428147  2.02122092  2.01033425  1.99842811  1.97681439\n",
      "  1.93723035  1.92727399  1.9234097   1.91435373  1.88274133  1.83788395\n",
      "  1.80062544  1.78161561  1.77060902  1.75969148  1.74747908  1.71803236\n",
      "  1.71393991  1.6926136   1.68459988  1.67519093  1.6691035   1.66506815\n",
      "  1.66371799  1.65160382  1.64674854  1.64259815  1.62972558  1.62818754\n",
      "  1.62752581  1.61755812  1.60261559  1.58099842  1.56695843  1.56585193\n",
      "  1.56445682  1.55813634  1.55175006  1.54123402  1.53231788  1.5214653\n",
      "  1.5052259   1.49032354  1.48120522  1.46766889  1.46714675  1.45642257\n",
      "  1.43366253  1.42111731  1.41818297  1.41230392  1.41038513  1.39231539\n",
      "  1.38180089  1.37220883  1.35579002  1.34574723  1.34437084  1.33292818\n",
      "  1.32029366  1.31491685  1.31018305  1.27071738  1.21046865  1.20604968\n",
      "  1.18003416  1.15805173  1.1570996   1.13748324  1.01839054  1.00239217\n",
      "  0.98649448  0.98324704  0.98070991  0.9702124   0.95785302  0.90411639\n",
      "  0.89465964  0.8118012   0.79232973  0.79209799  0.77750283  0.77053756\n",
      "  0.75070125  0.74947518  0.74722278  0.74393874  0.74229741  0.73681688\n",
      "  0.73287505  0.73230374  0.73143125  0.72912657  0.71686512  0.71113676]\n",
      "[   5.86355394   41.96302112   74.8425488    71.12268199   72.5809837\n",
      "   15.74150435  220.26288547  111.23050446   59.2245694    47.61117816\n",
      "   78.50536943   24.9065568   356.52706936   35.15172343   78.52442623\n",
      "  190.97747602    2.73038431  169.65932481  122.6336184    19.59423805\n",
      "  314.15042724  129.22643691  237.57370873  226.1058239    58.1664103\n",
      "   55.58432959  362.99139179  105.81164466  116.5443051   203.50149377\n",
      "  126.20037118   95.64183672  200.34812504  331.53414828  130.23043356\n",
      "  467.82635515  328.7503404    54.66622823  134.72183033  459.57716604\n",
      "   48.55522635  233.03327051  150.65251759  288.18127075  144.61000041\n",
      "  751.40667913  176.58206488  188.78433323  115.20136512   45.89662462\n",
      "  124.18462495   18.79855733  163.40223246   64.59369438  221.94042236\n",
      "  209.74628603  122.73375865  112.23092111  227.58017198  108.72740083\n",
      "  217.87400592  130.31956692   42.9279497   111.43776084   72.41027641\n",
      "   83.36528438   52.98568457  146.01045391   37.92971659  229.56299979\n",
      "   94.58320887  241.32118917  401.38960644   65.33473592   37.93729296\n",
      "  473.80693407   47.13380405  232.1451008   369.2722093    56.85983841\n",
      "  209.28758881   46.48000319   68.61376018  262.8937495    32.12016637\n",
      "   62.86165074   26.38015457  142.00615379   63.19125987  107.60878806\n",
      "  345.32035809   82.85240672   58.68774104  201.2646424    64.03107881\n",
      "  403.6011593   335.99787134   46.53999015  597.10649043  126.66127193\n",
      "   59.69175213  487.98530266  233.66269275  144.14808968  527.82744751\n",
      "  103.72659319  276.1008906   402.42130504  243.51174339  114.4738813\n",
      "  131.42258332  290.24524124  280.82214367  266.53840255   76.81861016\n",
      "  147.45787995   43.61275319  212.53737831  132.26047442  227.84205971\n",
      "  384.68376524  109.06877787  834.87268425  476.88825238  532.17160963\n",
      "  620.54302238   98.93390078  733.48703889  382.04325355  360.21316845\n",
      "  144.54834376  210.96819594  319.20368303  325.19326295  601.29728767\n",
      "  263.96833117  350.78925395  577.5937272   267.89840705  125.95282437\n",
      "  344.60526886  290.75586342  270.09414595  296.08672808 1377.17368666\n",
      "  427.34534528  643.2224866   115.43474877  802.79067002  137.66747701\n",
      " 1133.62101335  151.99173911  443.81913142  116.98305942   87.1188764\n",
      "  158.58839372  763.95435913  562.36998217  344.40431201  757.32241398\n",
      "  846.7292823   515.40812598  344.53336227  753.9337053   496.7705608\n",
      "  249.33163465  290.89769727  601.46617683  643.95234863  464.24786127\n",
      "  637.99898863  896.02932246   52.01858157  571.49914848]\n"
     ]
    },
    {
     "data": {
      "text/plain": [
       "12"
      ]
     },
     "execution_count": 290,
     "metadata": {},
     "output_type": "execute_result"
    }
   ],
   "source": [
    "ell_sort = np.argsort(mmcls_lowz[i].ellipses[:, 2])[::-1]\n",
    "ell_sizes = mmcls_lowz[i].ellipses[ell_sort][:, 2]\n",
    "print(ell_sizes)\n",
    "DLR_sorted = mmcls_lowz[i].DLR_list[ell_sort]\n",
    "print(DLR_sorted)\n",
    "np.where(mmcls_lowz[i].ellipses[:, 2] == ell_sizes[1])[0][0]"
   ]
  },
  {
   "cell_type": "code",
   "execution_count": 148,
   "metadata": {},
   "outputs": [
    {
     "name": "stdout",
     "output_type": "stream",
     "text": [
      "downloading BytesIO\n",
      "downloading BytesIO\n",
      "downloading BytesIO\n",
      "downloading BytesIO\n",
      "downloading BytesIO\n",
      "downloading BytesIO\n",
      "downloading BytesIO\n",
      "downloading BytesIO\n",
      "downloading BytesIO\n",
      "downloading BytesIO\n"
     ]
    }
   ],
   "source": [
    "mmcls_lowz[i].update(size=400)"
   ]
  },
  {
   "cell_type": "markdown",
   "metadata": {},
   "source": [
    "### Low-z sample mass calculation"
   ]
  },
  {
   "cell_type": "code",
   "execution_count": 9,
   "metadata": {},
   "outputs": [],
   "source": [
    "lowz_mass = []\n",
    "for i in range(len(ra)):\n",
    "    #mm = massmeasure.MassMeasure(ra[i], dec[i], zcmb[i], pscls[i].imgcutout)\n",
    "    mm = mmcls_lowz[i]\n",
    "    lowz_mass.append(mm.hg_mass)\n",
    "\n",
    "lowz_mass = np.asarray(lowz_mass)"
   ]
  },
  {
   "cell_type": "code",
   "execution_count": 298,
   "metadata": {},
   "outputs": [],
   "source": [
    "pickle.dump(lowz_mass, open('../../../Data/lowz_mass', 'wb'))"
   ]
  },
  {
   "cell_type": "code",
   "execution_count": 34,
   "metadata": {},
   "outputs": [],
   "source": [
    "with open('../../../Data/lowz_mass', 'rb') as f:\n",
    "    lowz_mass = pickle.load(f)"
   ]
  },
  {
   "cell_type": "markdown",
   "metadata": {},
   "source": [
    "### SNf sample mass calculation"
   ]
  },
  {
   "cell_type": "code",
   "execution_count": 6,
   "metadata": {},
   "outputs": [],
   "source": [
    "snf_mass = []\n",
    "for i in range(len(ra)):\n",
    "    #mm = massmeasure.MassMeasure(ra[i], dec[i], zcmb[i], pscls[i].imgcutout)\n",
    "    mm = mmcls_snf[i]\n",
    "    snf_mass.append(mm.hg_mass)\n",
    "\n",
    "snf_mass = np.asarray(snf_mass)"
   ]
  },
  {
   "cell_type": "code",
   "execution_count": 7,
   "metadata": {},
   "outputs": [],
   "source": [
    "pickle.dump(snf_mass, open('../../../Data/snf_mass', 'wb'))"
   ]
  },
  {
   "cell_type": "code",
   "execution_count": 37,
   "metadata": {},
   "outputs": [],
   "source": [
    "with open('../../../Data/mass/snf_mass', 'rb') as f:\n",
    "    snf_mass = pickle.load(f)"
   ]
  },
  {
   "cell_type": "markdown",
   "metadata": {},
   "source": [
    "## `low-z` measured vs PS1 mass histogram"
   ]
  },
  {
   "cell_type": "markdown",
   "metadata": {},
   "source": [
    "### Find closest PS1 catalog entry"
   ]
  },
  {
   "cell_type": "code",
   "execution_count": 32,
   "metadata": {},
   "outputs": [],
   "source": [
    "p = panstarrs.PS1Target.from_coord(ra[i], dec[i])\n",
    "p.download_catalog()"
   ]
  },
  {
   "cell_type": "code",
   "execution_count": 58,
   "metadata": {},
   "outputs": [
    {
     "name": "stdout",
     "output_type": "stream",
     "text": [
      "7.46175 31.392744\n"
     ]
    }
   ],
   "source": [
    "print(ra[i], dec[i])"
   ]
  },
  {
   "cell_type": "markdown",
   "metadata": {},
   "source": [
    "## Hist"
   ]
  },
  {
   "cell_type": "code",
   "execution_count": 15,
   "metadata": {
    "jupyter": {
     "source_hidden": true
    }
   },
   "outputs": [
    {
     "data": {
      "image/png": "[encoded data removed]",
      "text/plain": [
       "<Figure size 576x360 with 1 Axes>"
      ]
     },
     "metadata": {
      "needs_background": "light"
     },
     "output_type": "display_data"
    }
   ],
   "source": [
    "fig = plt.figure(figsize=[8, 5])\n",
    "ax = fig.add_axes([0.1, 0.12, 0.6, 0.5])\n",
    "\n",
    "nb_bins = 14\n",
    "\n",
    "where = np.where(lowz_mass[:, 0] > 8)\n",
    "\n",
    "#h, r = np.histogram(lowz_mass[:, 0][where],\n",
    "#                    range=[8, 12], bins=nb_bins)\n",
    "#xbin = np.mean([r[:-1], r[1:]], axis=0)\n",
    "\n",
    "ax.hist(lowz_mass[:, 0][where],\n",
    "        range=[8, 12], bins=nb_bins,\n",
    "        color='g', alpha=.5,\n",
    "        label='Reconstruction')\n",
    "        \n",
    "#ax.errorbar(xbin, h, yerr=np.array(\n",
    "#    [lowz_mass[i][1:] for i in range(len(h))]).T,\n",
    "#            marker=\"None\", ls=\"None\",\n",
    "#            lw=1, alpha=.5,\n",
    "#            ecolor='g')\n",
    "\n",
    "ax.hist(df.hostmass[df.hostmass > 8],\n",
    "        range=[8,12], bins=nb_bins,\n",
    "        color=colors['low-z'], alpha=.5,\n",
    "        label='As in Scolnic')\n",
    "\n",
    "ax.tick_params(labelsize=15)\n",
    "\n",
    "ax.set_xlabel(r\"$\\mathrm{M}_\\mathrm{host}$\", fontsize=\"x-large\")\n",
    "ax.set_ylabel(r\"$\\mathrm{N}_\\mathrm{host}$\", fontsize=\"x-large\")\n",
    "\n",
    "ax.legend()\n",
    "\n",
    "plt.title('Low-z masses depending on source')\n",
    "\n",
    "fig.savefig('../../../Images/pdf/lowz_comp_hist.pdf', bbox_inches='tight')\n",
    "fig.savefig('../../../Images/png/lowz_comp_hist.png', bbox_inches='tight', dpi=600)"
   ]
  },
  {
   "cell_type": "markdown",
   "metadata": {},
   "source": [
    "## Scatter"
   ]
  },
  {
   "cell_type": "code",
   "execution_count": 25,
   "metadata": {},
   "outputs": [
    {
     "data": {
      "image/png": "[encoded data removed]",
      "text/plain": [
       "<Figure size 504x504 with 1 Axes>"
      ]
     },
     "metadata": {
      "needs_background": "light"
     },
     "output_type": "display_data"
    }
   ],
   "source": [
    "fig = plt.figure(figsize=[7, 7])\n",
    "ax = fig.add_axes([0.1, 0.12, 0.6, 0.5])\n",
    "\n",
    "y_val = lowz_df['hg_mass_nr']\n",
    "y_err = np.array([lowz_df['hg_masserr_nr_down'], lowz_df['hg_masserr_nr_up']])\n",
    "\n",
    "x_val = lowz_df['hg_mass_sco']\n",
    "x_err = lowz_df['hg_masserr_sco']\n",
    "\n",
    "#ax.scatter(np.sort(np.concatenate((lowz_mass[:, 0], [5.0, 5.0]))),#[where],\n",
    "#           np.sort(df.hostmass))\n",
    "\n",
    "ax.scatter(x_val, y_val,\n",
    "           marker='o', s=30,\n",
    "           linewidths=.5,\n",
    "           edgecolors='0.7',\n",
    "           zorder=7)\n",
    "\n",
    "ax.errorbar(x_val, y_val,\n",
    "            yerr=y_err, #yerr=y_err,\n",
    "            ecolor='0.7', alpha=1, ms=0,\n",
    "            lw=.5, ls='none', label=None, zorder=5)\n",
    "\n",
    "ax.tick_params(labelsize=15)\n",
    "\n",
    "#ax.set_ylim(8, 12.5)\n",
    "ax.set_xlim(ax.get_ylim())\n",
    "\n",
    "ax.plot([ax.get_xlim()[0], ax.get_xlim()[1]], [ax.get_xlim()[0], ax.get_xlim()[1]],\n",
    "        lw=1, color='k', zorder=1)\n",
    "\n",
    "ax.set_xlabel(r\"$\\mathrm{N}_\\mathrm{host, low-z}$\", fontsize=\"x-large\")\n",
    "ax.set_ylabel(r\"$\\mathrm{M}_\\mathrm{host, ours}$\", fontsize=\"x-large\")\n",
    "\n",
    "#ax.legend()\n",
    "\n",
    "plt.title('Low-z masses depending on source')\n",
    "\n",
    "fig.savefig('../../../Images/pdf/lowz_comp_scatter.pdf', bbox_inches='tight')\n",
    "fig.savefig('../../../Images/png/lowz_comp_scatter.png', bbox_inches='tight',\n",
    "            dpi=600, transparent=False)"
   ]
  },
  {
   "cell_type": "code",
   "execution_count": 36,
   "metadata": {},
   "outputs": [
    {
     "data": {
      "image/png": "[encoded data removed]",
      "text/plain": [
       "<Figure size 504x504 with 1 Axes>"
      ]
     },
     "metadata": {
      "needs_background": "light"
     },
     "output_type": "display_data"
    }
   ],
   "source": [
    "fig = plt.figure(figsize=[7, 7])\n",
    "ax = fig.add_axes([0.1, 0.12, 0.6, 0.5])\n",
    "\n",
    "lowz_df_cut = lowz_df[lowz_df['hg_mass_sco'] > 5.]\n",
    "\n",
    "y_val = lowz_df_cut['hg_mass_nr'] - lowz_df_cut['hg_mass_sco']\n",
    "mean_shift = np.median(y_val)\n",
    "#y_err = np.array([lowz_df['hg_masserr_nr_down'], lowz_df['hg_masserr_nr_up']])\n",
    "\n",
    "x_val = lowz_df_cut['hg_mass_sco']\n",
    "x_err = lowz_df_cut['hg_masserr_sco']\n",
    "\n",
    "#ax.scatter(np.sort(np.concatenate((lowz_mass[:, 0], [5.0, 5.0]))),#[where],\n",
    "#           np.sort(df.hostmass))\n",
    "\n",
    "ax.scatter(x_val, y_val,\n",
    "           marker='o', s=30,\n",
    "           linewidths=.5,\n",
    "           edgecolors='0.7',\n",
    "           zorder=7)\n",
    "\n",
    "#ax.errorbar(x_val, y_val,\n",
    "#            yerr=y_err, #yerr=y_err,\n",
    "#            ecolor='0.7', alpha=1, ms=0,\n",
    "#            lw=.5, ls='none', label=None, zorder=5)\n",
    "\n",
    "ax.axhline(mean_shift, color='k', lw=1, label=f'Mean shift = {mean_shift:.2f}')\n",
    "\n",
    "ax.tick_params(labelsize=15)\n",
    "\n",
    "#ax.set_ylim(8, 12.5)\n",
    "#ax.set_xlim(ax.get_ylim())\n",
    "\n",
    "#ax.plot([ax.get_xlim()[0], ax.get_xlim()[1]], [ax.get_xlim()[0], ax.get_xlim()[1]],\n",
    "#        lw=1, color='k', zorder=1)\n",
    "\n",
    "ax.set_xlabel(r\"$\\mathrm{N}_\\mathrm{host, low-z}$\", fontsize=\"x-large\")\n",
    "ax.set_ylabel(r\"$\\mathrm{M}_\\mathrm{host, ours} - \\mathrm{N}_\\mathrm{host, low-z}$\",\n",
    "              fontsize=\"x-large\")\n",
    "\n",
    "ax.legend()\n",
    "\n",
    "plt.title('Low-z masses shift depending on source')\n",
    "\n",
    "fig.savefig('../../../Images/pdf/lowz_comp_shift.pdf', bbox_inches='tight')\n",
    "fig.savefig('../../../Images/png/lowz_comp_shift.png', bbox_inches='tight',\n",
    "            dpi=600, transparent=False)"
   ]
  },
  {
   "cell_type": "code",
   "execution_count": 69,
   "metadata": {},
   "outputs": [
    {
     "data": {
      "text/plain": [
       "(array([False,  True]), array([126,  46]))"
      ]
     },
     "execution_count": 69,
     "metadata": {},
     "output_type": "execute_result"
    }
   ],
   "source": [
    "np.unique(list(d[d['IDSURVEY'].isin([5, 61, 62, 63, 64, 65, 66])].HOST_LOGMASS_ERR > 1),\n",
    "          return_counts=True)"
   ]
  },
  {
   "cell_type": "markdown",
   "metadata": {},
   "source": [
    "## `SNf` measurements"
   ]
  },
  {
   "cell_type": "code",
   "execution_count": 310,
   "metadata": {},
   "outputs": [
    {
     "data": {
      "image/png": "[encoded data removed]",
      "text/plain": [
       "<Figure size 360x360 with 1 Axes>"
      ]
     },
     "metadata": {
      "needs_background": "light"
     },
     "output_type": "display_data"
    }
   ],
   "source": [
    "fig = plt.figure(figsize=[5, 5])\n",
    "ax = fig.add_axes([0.1, 0.12, 0.6, 0.5])\n",
    "\n",
    "y_val = snf_mass[:,0]#[select_recons][1:]\n",
    "y_err = np.array([snf_mass[i,1:] for i in range(len(y_val))]).T\n",
    "\n",
    "rig_mass = d_snf['gmass'].values\n",
    "rig_masserr = np.array([np.asarray(d_snf['gmass.err_down']),\n",
    "                        np.asarray(d_snf['gmass.err_up'])]).T\n",
    "x_val = rig_mass\n",
    "x_err = rig_masserr\n",
    "\n",
    "#ax.scatter(np.sort(np.concatenate((lowz_mass[:, 0], [5.0, 5.0]))),#[where],\n",
    "#           np.sort(df.hostmass))\n",
    "\n",
    "ax.scatter(x_val, y_val,\n",
    "           marker='o', s=30,\n",
    "           linewidths=.5,\n",
    "           edgecolors='0.7',\n",
    "           zorder=7)\n",
    "\n",
    "ax.errorbar(x_val, y_val,\n",
    "            xerr=x_err.T, yerr=y_err,\n",
    "            ecolor='0.7', alpha=1, ms=0,\n",
    "            lw=.5, ls='none', label=None, zorder=5)\n",
    "\n",
    "ax.tick_params(labelsize=15)\n",
    "\n",
    "ax.set_ylim(7.5, 12.5)\n",
    "ax.set_xlim(ax.get_ylim())\n",
    "\n",
    "ax.plot([ax.get_xlim()[0], ax.get_xlim()[1]], [ax.get_xlim()[0], ax.get_xlim()[1]],\n",
    "        lw=1, color='k', zorder=1)\n",
    "\n",
    "ax.set_xlabel(r\"$\\mathrm{N}_\\mathrm{host, Rig}$\", fontsize=\"x-large\")\n",
    "ax.set_ylabel(r\"$\\mathrm{M}_\\mathrm{host, mine}$\", fontsize=\"x-large\")\n",
    "\n",
    "#ax.legend()\n",
    "\n",
    "plt.title('SNf masses depending on source')\n",
    "\n",
    "fig.savefig('../../../Images/pdf/snf_comp_scatter.pdf', bbox_inches='tight')\n",
    "fig.savefig('../../../Images/png/snf_comp_scatter.png', bbox_inches='tight',\n",
    "            dpi=600, transparent=False)"
   ]
  },
  {
   "cell_type": "code",
   "execution_count": 50,
   "metadata": {},
   "outputs": [
    {
     "data": {
      "image/png": "[encoded data removed]",
      "text/plain": [
       "<Figure size 360x360 with 1 Axes>"
      ]
     },
     "metadata": {
      "needs_background": "light"
     },
     "output_type": "display_data"
    }
   ],
   "source": [
    "fig = plt.figure(figsize=[5, 5])\n",
    "ax = fig.add_axes([0.1, 0.12, 0.6, 0.5])\n",
    "\n",
    "y_val = snf_mass[:,0]#[select_recons][1:]\n",
    "y_err = np.array([snf_mass[i,1:] for i in range(len(y_val))]).T\n",
    "\n",
    "rig_mass = d_snf['gmass'].values\n",
    "rig_masserr = np.array([np.asarray(d_snf['gmass.err_down']),\n",
    "                        np.asarray(d_snf['gmass.err_up'])]).T\n",
    "x_val = rig_mass\n",
    "x_err = rig_masserr\n",
    "\n",
    "y_val = y_val-x_val\n",
    "mean_shift = np.median(y_val)\n",
    "\n",
    "#ax.scatter(np.sort(np.concatenate((lowz_mass[:, 0], [5.0, 5.0]))),#[where],\n",
    "#           np.sort(df.hostmass))\n",
    "\n",
    "ax.scatter(x_val, y_val,\n",
    "           marker='o', s=30,\n",
    "           linewidths=.5,\n",
    "           edgecolors='0.7',\n",
    "           zorder=7)\n",
    "\n",
    "#ax.errorbar(x_val, y_val,\n",
    "#            xerr=x_err.T, yerr=y_err,\n",
    "#            ecolor='0.7', alpha=1, ms=0,\n",
    "#            lw=.5, ls='none', label=None, zorder=5)\n",
    "\n",
    "ax.axhline(mean_shift, color='k', lw=1, label=f'Mean shift = {mean_shift:.2f}')\n",
    "\n",
    "ax.tick_params(labelsize=15)\n",
    "\n",
    "ax.set_ylim(-4, 4)\n",
    "#ax.set_xlim(ax.get_ylim())\n",
    "\n",
    "#ax.plot([ax.get_xlim()[0], ax.get_xlim()[1]], [ax.get_xlim()[0], ax.get_xlim()[1]],\n",
    "#        lw=1, color='k', zorder=1)\n",
    "\n",
    "ax.set_xlabel(r\"$\\mathrm{N}_\\mathrm{host, Rig}$\", fontsize=\"x-large\")\n",
    "ax.set_ylabel(r\"$\\mathrm{M}_\\mathrm{host, mine}$\", fontsize=\"x-large\")\n",
    "\n",
    "ax.legend()\n",
    "\n",
    "plt.title('SNf masses depending on source')\n",
    "\n",
    "fig.savefig('../../../Images/pdf/snf_comp_shift.pdf', bbox_inches='tight')\n",
    "fig.savefig('../../../Images/png/snf_comp_shift.png', bbox_inches='tight',\n",
    "            dpi=600, transparent=False)"
   ]
  },
  {
   "cell_type": "code",
   "execution_count": null,
   "metadata": {},
   "outputs": [],
   "source": []
  }
 ],
 "metadata": {
  "kernelspec": {
   "display_name": "Python 3",
   "language": "python",
   "name": "python3"
  },
  "language_info": {
   "codemirror_mode": {
    "name": "ipython",
    "version": 3
   },
   "file_extension": ".py",
   "mimetype": "text/x-python",
   "name": "python",
   "nbconvert_exporter": "python",
   "pygments_lexer": "ipython3",
   "version": "3.7.4"
  }
 },
 "nbformat": 4,
 "nbformat_minor": 4
}
