{
 "cells": [
  {
   "cell_type": "markdown",
   "metadata": {},
   "source": [
    "## Modules à importer"
   ]
  },
  {
   "cell_type": "code",
   "execution_count": 1,
   "metadata": {
    "jupyter": {
     "source_hidden": true
    }
   },
   "outputs": [],
   "source": [
    "import math\n",
    "import scipy\n",
    "import pickle\n",
    "import numpy as np\n",
    "import pandas as pd\n",
    "import iminuit as im\n",
    "import ipywidgets as ipw\n",
    "from snprop import survey\n",
    "from variaIa import tools\n",
    "from variaIa.tools import surveys, df_cons, df_nc, df_c, df_full\n",
    "from variaIa import massevol\n",
    "from importlib import reload\n",
    "from variaIa import stretchevol\n",
    "from matplotlib.lines import Line2D\n",
    "import matplotlib.pyplot as plt\n",
    "import random"
   ]
  },
  {
   "cell_type": "markdown",
   "metadata": {},
   "source": [
    "## Définitions pandas, surveys et sélection de l'échantillon à utiliser"
   ]
  },
  {
   "cell_type": "code",
   "execution_count": 2,
   "metadata": {
    "jupyter": {
     "source_hidden": true
    }
   },
   "outputs": [
    {
     "data": {
      "application/vnd.jupyter.widget-view+json": {
       "model_id": "e809f4d49670484787bba7dc548af2c5",
       "version_major": 2,
       "version_minor": 0
      },
      "text/plain": [
       "interactive(children=(Checkbox(value=False, description='Conservative'), Dropdown(description='Survey:', index…"
      ]
     },
     "metadata": {},
     "output_type": "display_data"
    }
   ],
   "source": [
    "def set_survey(cons, su):\n",
    "    global df\n",
    "    if su == 'All':\n",
    "        df = df_cons(cons)\n",
    "    elif 'n' in su:\n",
    "        df = df_cons(cons)[df_cons(cons)['survey'] != su.split('n')[-1]]\n",
    "    else:\n",
    "        df = df_cons(cons)[df_cons(cons)['survey'] == su]\n",
    "\n",
    "int_set_su = ipw.interactive(set_survey, cons=tools.cons, su=tools.su)\n",
    "display(int_set_su)\n",
    "\n",
    "smap = plt.cm.get_cmap('cividis')\n",
    "colors = {'SNF': plt.cm.binary(0.9),\n",
    "          'SDSS': smap(0.1),\n",
    "          'PS1': smap(0.5),\n",
    "          'SNLS': smap(0.8),\n",
    "          'HST': smap(0.99)}  # for cividis\n",
    "          #'HST': smap(300)}  # for viridis\n",
    "\n",
    "alphacolors = {'1': {survey:\n",
    "                     (colors[survey][0], colors[survey][1], colors[survey][2], .1)\n",
    "                     for survey in surveys},\n",
    "               '3': {survey:\n",
    "                     (colors[survey][0], colors[survey][1], colors[survey][2], .3)\n",
    "                     for survey in surveys},\n",
    "               '5': {survey:\n",
    "                     (colors[survey][0], colors[survey][1], colors[survey][2], .5)\n",
    "                     for survey in surveys},\n",
    "               '8': {survey:\n",
    "                     (colors[survey][0], colors[survey][1], colors[survey][2], .8)\n",
    "                     for survey in surveys}} \n",
    "\n",
    "df_nHST = df_nc[df_nc['survey'] != 'HST']"
   ]
  },
  {
   "cell_type": "markdown",
   "metadata": {},
   "source": [
    "## Use of `massevol` to determine a mass/age relationship"
   ]
  },
  {
   "cell_type": "code",
   "execution_count": 6,
   "metadata": {},
   "outputs": [
    {
     "data": {
      "text/plain": [
       "{'mu_1': 9.402120531476637,\n",
       " 'sigma_1': 0.6252631116778261,\n",
       " 'a': 0.21271318064176492,\n",
       " 'mu_2': 9.757650250815667,\n",
       " 'sigma_2': 1.051571624592359,\n",
       " 'mu': 10.661142900294456,\n",
       " 'sigmadown': 0.37272833778544867,\n",
       " 'sigmaup': 0.2916274414602597}"
      ]
     },
     "execution_count": 6,
     "metadata": {},
     "output_type": "execute_result"
    }
   ],
   "source": [
    "massmodelAGG = massevol.Evol3G3M4S(df)\n",
    "massmodelAGG.minimize(limit_a=(0,1), limit_mu_2=(8, 10), limit_mu=(10, 11))\n",
    "massmodelAGG.param"
   ]
  },
  {
   "cell_type": "code",
   "execution_count": 10,
   "metadata": {},
   "outputs": [
    {
     "data": {
      "text/plain": [
       "{'mu_1': 9.40726811874135,\n",
       " 'sigma_1': 0.6228196947194393,\n",
       " 'a': 0.8978081699778082,\n",
       " 'mu_2': 10.596614330808425,\n",
       " 'sigma_2': 0.38052028203200633,\n",
       " 'mu_3': 8.745010425206827,\n",
       " 'sigma_3': 0.42958846271536766}"
      ]
     },
     "execution_count": 10,
     "metadata": {},
     "output_type": "execute_result"
    }
   ],
   "source": [
    "massmodelGGG = massevol.Evol3G3M3S(df)\n",
    "massmodelGGG.minimize(limit_a=(0,1))\n",
    "massmodelGGG.param"
   ]
  },
  {
   "cell_type": "code",
   "execution_count": 3,
   "metadata": {},
   "outputs": [
    {
     "data": {
      "text/plain": [
       "{'mu_1': 9.339838355365332,\n",
       " 'sigma_1': -0.6319173460221872,\n",
       " 'mu_2': 10.582249490536746,\n",
       " 'sigma_2': -0.39445919525975626}"
      ]
     },
     "execution_count": 3,
     "metadata": {},
     "output_type": "execute_result"
    }
   ],
   "source": [
    "massmodelGG = massevol.Evol2G2M2S(df)\n",
    "massmodelGG.minimize()\n",
    "massmodelGG.param"
   ]
  },
  {
   "cell_type": "code",
   "execution_count": 5,
   "metadata": {},
   "outputs": [
    {
     "data": {
      "text/plain": [
       "232.79569405466142"
      ]
     },
     "execution_count": 5,
     "metadata": {},
     "output_type": "execute_result"
    }
   ],
   "source": [
    "massmodelGG.get_aic()"
   ]
  },
  {
   "cell_type": "code",
   "execution_count": 7,
   "metadata": {},
   "outputs": [
    {
     "data": {
      "image/png": "[encoded data removed]",
      "text/plain": [
       "<Figure size 504x252 with 2 Axes>"
      ]
     },
     "metadata": {
      "needs_background": "light"
     },
     "output_type": "display_data"
    }
   ],
   "source": [
    "fig = plt.figure(figsize=[7, 3.5])\n",
    "ax = fig.add_axes([0.1, 0.12, 0.62, 0.8])\n",
    "axh = fig.add_axes([0.75, 0.12, 0.2, 0.8])\n",
    "\n",
    "dgmap = plt.cm.get_cmap('viridis')\n",
    "dg_colors = [dgmap(i, 1) for i in (1-df.py)]\n",
    "\n",
    "massmodelGG.scatter(ax=ax, model=False)\n",
    "massmodelGG.show_hist(ax=axh)\n",
    "massmodelGG.show_model(ax=axh,\n",
    "                     o_factor=-massmodelGG.amp*np.sum(1-massmodelGG.py),\n",
    "                     y_factor=massmodelGG.amp*np.sum(massmodelGG.py),\n",
    "                     facealpha=0, edgealpha=1, lw=1, zorder=8)\n",
    "\n",
    "axh.set_ylim(*ax.get_ylim())\n",
    "axh.set_yticks([])\n",
    "axh.set_xticks([])\n",
    "\n",
    "axh.axvline(0, color='k', lw=1, zorder=10)\n",
    "\n",
    "axh.set_frame_on(False)\n",
    "\n",
    "fig.savefig('../../Images/pdf/model_mass_' + massmodelGG.__doc__ + '_hist.pdf', bbox_inches='tight')\n",
    "fig.savefig('../../Images/png/model_mass_' + massmodelGG.__doc__ + '_hist.png', bbox_inches='tight', dpi=600)"
   ]
  },
  {
   "cell_type": "markdown",
   "metadata": {},
   "source": [
    "## Individual mass histogram"
   ]
  },
  {
   "cell_type": "code",
   "execution_count": 23,
   "metadata": {
    "collapsed": true,
    "jupyter": {
     "outputs_hidden": true,
     "source_hidden": true
    }
   },
   "outputs": [
    {
     "data": {
      "text/plain": [
       "Text(0, 0.5, '$\\\\mathrm{N}_\\\\mathrm{SNe Ia}$ ')"
      ]
     },
     "execution_count": 23,
     "metadata": {},
     "output_type": "execute_result"
    },
    {
     "data": {
      "image/png": "[encoded data removed]",
      "text/plain": [
       "<Figure size 360x216 with 1 Axes>"
      ]
     },
     "metadata": {
      "needs_background": "light"
     },
     "output_type": "display_data"
    }
   ],
   "source": [
    "fig = plt.figure(figsize=[5, 3])\n",
    "ax = fig.add_axes([0.1, 0.12, 0.8, 0.8])\n",
    "\n",
    "ax.hist(df.hostmass,\n",
    "        range=[5, 13], bins=15,\n",
    "        histtype='stepfilled',\n",
    "        color=colors[su.value],\n",
    "        alpha=.5, lw=2, label=su.value)\n",
    "\n",
    "ax.tick_params(labelsize=12)\n",
    "\n",
    "ax.legend()\n",
    "\n",
    "ax.set_xlabel(r\"$\\mathrm{M}_\\mathrm{host}$\", fontsize=\"x-large\")\n",
    "ax.set_ylabel(r\"$\\mathrm{N}_\\mathrm{SNe Ia}$ \", fontsize=\"x-large\")"
   ]
  },
  {
   "cell_type": "markdown",
   "metadata": {},
   "source": [
    "## Total mass fitting tests"
   ]
  },
  {
   "cell_type": "markdown",
   "metadata": {},
   "source": [
    "### One asym"
   ]
  },
  {
   "cell_type": "code",
   "execution_count": 19,
   "metadata": {
    "jupyter": {
     "source_hidden": true
    }
   },
   "outputs": [],
   "source": [
    "def gauss(M, mu, sigma, normed=True):\n",
    "    '''Le modèle de distribution'''\n",
    "    sigma_eff = np.sqrt(sigma**2)\n",
    "    norm = 1 if normed else np.sqrt(2*np.pi)*sigma_eff\n",
    "    return norm*scipy.stats.norm.pdf(M, mu, scale=sigma_eff)\n",
    "\n",
    "def likelihood_asym(M, mu, sigma_m, sigma_p):\n",
    "    '''La fonction prenant en compte la probabilité d'être vieille/jeune'''\n",
    "    flag_up = M >= mu\n",
    "    likelihood = np.zeros(len(M))\n",
    "    likelihood[flag_up] = gauss(M[flag_up],\n",
    "                                mu, sigma_p, normed=False)\n",
    "    likelihood[~flag_up] = gauss(M[~flag_up],\n",
    "                                 mu, sigma_m, normed=False)\n",
    "    norm = np.sqrt(2*np.pi)*(0.5*np.sqrt(sigma_m**2)\n",
    "                             + 0.5*np.sqrt(sigma_p**2))\n",
    "    return likelihood/norm\n",
    "\n",
    "def loglikelihood_asym(mu, sigma_m, sigma_p):\n",
    "    '''La fonction à minimiser'''\n",
    "    return -2*np.sum(np.log(likelihood_asym(df_nHST[df_nHST['hostmass'] > 7].hostmass,\n",
    "                                            mu,\n",
    "                                            sigma_m, sigma_p)))\n",
    "\n",
    "def minimize_asym(print_level=0, **kwargs):\n",
    "    '''Renvoie la meilleure valeur des paramètres'''\n",
    "    m_tot = im.Minuit(loglikelihood_asym,\n",
    "                      print_level=print_level,\n",
    "                      pedantic=False,\n",
    "                      mu=10, sigma_m=2, sigma_p=1,\n",
    "                      **kwargs)\n",
    "    migrad_out = m_tot.migrad()\n",
    "    return(m_tot)\n",
    "\n",
    "bestfit_asym = minimize_asym().values"
   ]
  },
  {
   "cell_type": "markdown",
   "metadata": {},
   "source": [
    "### One asym one Gauss"
   ]
  },
  {
   "cell_type": "code",
   "execution_count": 20,
   "metadata": {
    "jupyter": {
     "source_hidden": true
    }
   },
   "outputs": [],
   "source": [
    "def likelihood_gauss(M, mu_2, sigma_2):\n",
    "    '''La fonction décrivant le modèle des SNe vieilles'''\n",
    "    return gauss(M, mu_2, sigma_2)\n",
    "                                                                            \n",
    "def likelihood_asymgauss(a, M, mu, sigma_m, sigma_p, mu_2, sigma_2):\n",
    "    '''La fonction prenant en compte la probabilité d'être vieille/jeune'''\n",
    "    return a*likelihood_asym(M, mu, sigma_m, sigma_p) + \\\n",
    "        (1-a)*likelihood_gauss(M, mu_2, sigma_2)\n",
    "                                                                            \n",
    "def loglikelihood_asymgauss(a, mu, sigma_m, sigma_p, mu_2, sigma_2):\n",
    "    '''La fonction à minimiser'''\n",
    "    return -2*np.sum(np.log(likelihood_asymgauss(a,\n",
    "                                                 df_nHST[df_nHST['hostmass'] > 7].hostmass,\n",
    "                                                 mu, sigma_m, sigma_p,\n",
    "                                                 mu_2, sigma_2)))\n",
    "\n",
    "def minimize_asymgauss(print_level=0, **kwargs):\n",
    "    '''Renvoie la meilleure valeur des paramètres'''\n",
    "    m_tot = im.Minuit(loglikelihood_asymgauss,\n",
    "                      print_level=print_level,\n",
    "                      pedantic=False,\n",
    "                      a=0.5,\n",
    "                      mu=8, sigma_m=1, sigma_p=0.5,\n",
    "                      mu_2=11, sigma_2=1,\n",
    "                      **kwargs)\n",
    "    migrad_out = m_tot.migrad()\n",
    "    return(m_tot)\n",
    "\n",
    "bestfit_asymgauss = minimize_asymgauss().values"
   ]
  },
  {
   "cell_type": "markdown",
   "metadata": {},
   "source": [
    "### Plotting the tests"
   ]
  },
  {
   "cell_type": "code",
   "execution_count": 21,
   "metadata": {
    "jupyter": {
     "source_hidden": true
    }
   },
   "outputs": [
    {
     "data": {
      "image/png": "[encoded data removed]",
      "text/plain": [
       "<Figure size 576x360 with 1 Axes>"
      ]
     },
     "metadata": {
      "needs_background": "light"
     },
     "output_type": "display_data"
    }
   ],
   "source": [
    "fig = plt.figure(figsize=[8, 5])\n",
    "ax = fig.add_axes([0.1, 0.12, 0.6, 0.5])\n",
    "    \n",
    "stacked_bt = [df_nHST[df_nHST['survey'] == survey].hostmass for survey in surveys[:-1]]\n",
    "hstclrs_bt = [list(alphacolors['5'].values())[i] for i in range(len(surveys[:-1]))]\n",
    "\n",
    "ax.hist(df_nHST.hostmass,\n",
    "        density=True,\n",
    "        bins=10,\n",
    "        histtype='step',\n",
    "        lw=2, color='k',\n",
    "        label='Total')\n",
    "\n",
    "_, rang, _ = ax.hist(stacked_bt,\n",
    "                     density=True,\n",
    "                     stacked=True,\n",
    "                     bins=10,\n",
    "                     histtype='stepfilled',\n",
    "                     color=hstclrs_bt,\n",
    "                     label=surveys)\n",
    "\n",
    "ax.tick_params(labelsize=12)\n",
    "\n",
    "ax.set_xlabel(r'$\\mathrm{M}_\\mathrm{host}$', fontsize = 'x-large')\n",
    "ax.set_ylabel(r\"$\\mathrm{N}_\\mathrm{SNe Ia}$\", fontsize=\"x-large\")\n",
    "\n",
    "ax.legend(loc='upper left', fontsize='medium', ncol=1)\n",
    "\n",
    "path = '../../Images/'\n",
    "name = 'mass-cut_hist_stac'\n",
    "pathpdf = path + 'pdf/' + name + '.pdf'\n",
    "pathpng = path + 'png/' + name + '.png'\n",
    "fig.savefig(pathpdf, bbox_inches='tight')\n",
    "fig.savefig(pathpng, bbox_inches='tight', dpi=600)\n",
    "\n",
    "M_lin = np.linspace(rang[0], 12, 3000)\n",
    "\n",
    "pdf_asymgauss = likelihood_asymgauss(bestfit_asymgauss['a'],\n",
    "                                     M_lin,\n",
    "                                     bestfit_asymgauss['mu'],\n",
    "                                     bestfit_asymgauss['sigma_m'],\n",
    "                                     bestfit_asymgauss['sigma_p'],\n",
    "                                     bestfit_asymgauss['mu_2'],\n",
    "                                     bestfit_asymgauss['sigma_2'])\n",
    "ax.plot(M_lin, pdf_asymgauss,\n",
    "        color='C2', label='Asym Gauss')\n",
    "\n",
    "ax.vline(bestfit_asymgauss['mu'],\n",
    "         color='C2',\n",
    "         ymin=0, ymax=bestfit_asymgauss['a']*\\\n",
    "                      np.max(likelihood_asym(M_lin,\n",
    "                                             bestfit_asymgauss['mu'],\n",
    "                                             bestfit_asymgauss['sigma_m'],\n",
    "                                             bestfit_asymgauss['sigma_p'])))\n",
    "\n",
    "ax.vline(bestfit_asymgauss['mu_2'],\n",
    "         color='C2',\n",
    "         ymin=0, ymax=np.max(pdf_asymgauss))\n",
    "\n",
    "pdf_asym = likelihood_asym(M_lin,\n",
    "                           bestfit_asym['mu'],\n",
    "                           bestfit_asym['sigma_m'],\n",
    "                           bestfit_asym['sigma_p'])\n",
    "\n",
    "ax.plot(M_lin, pdf_asym,\n",
    "        color='C1', label='Asym')\n",
    "ax.vline(bestfit_asym['mu'],\n",
    "         color='C1',\n",
    "         ymin=0, ymax=np.max(pdf_asym))\n",
    "\n",
    "ax.legend(loc='upper left', fontsize='medium', ncol=1)\n",
    "\n",
    "path = '../../Images/'\n",
    "name = 'mass-cut_hist_stac-fit'\n",
    "pathpdf = path + 'pdf/' + name + '.pdf'\n",
    "pathpng = path + 'png/' + name + '.png'\n",
    "fig.savefig(pathpdf, bbox_inches='tight')\n",
    "fig.savefig(pathpng, bbox_inches='tight', dpi=600)"
   ]
  },
  {
   "cell_type": "code",
   "execution_count": null,
   "metadata": {},
   "outputs": [],
   "source": []
  }
 ],
 "metadata": {
  "kernelspec": {
   "display_name": "Python 3",
   "language": "python",
   "name": "python3"
  },
  "language_info": {
   "codemirror_mode": {
    "name": "ipython",
    "version": 3
   },
   "file_extension": ".py",
   "mimetype": "text/x-python",
   "name": "python",
   "nbconvert_exporter": "python",
   "pygments_lexer": "ipython3",
   "version": "3.7.4"
  }
 },
 "nbformat": 4,
 "nbformat_minor": 4
}
