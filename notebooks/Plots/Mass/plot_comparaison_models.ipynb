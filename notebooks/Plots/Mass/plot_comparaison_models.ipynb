{
 "cells": [
  {
   "cell_type": "markdown",
   "metadata": {},
   "source": [
    "## Modules à importer"
   ]
  },
  {
   "cell_type": "code",
   "execution_count": 1,
   "metadata": {
    "jupyter": {
     "source_hidden": true
    },
    "tags": []
   },
   "outputs": [],
   "source": [
    "import math\n",
    "import scipy\n",
    "import pickle\n",
    "import numpy as np\n",
    "import pandas as pd\n",
    "import iminuit as im\n",
    "import ipywidgets as ipw\n",
    "from snprop import age\n",
    "from snprop import survey\n",
    "from variaIa import tools\n",
    "from variaIa.tools import surveys, df_cons, df_nc, df_c, df_full\n",
    "from variaIa import massevol\n",
    "from importlib import reload\n",
    "from variaIa import stretchevol\n",
    "from matplotlib.lines import Line2D\n",
    "from pprint import PrettyPrinter\n",
    "import matplotlib.pyplot as plt\n",
    "plt.rcParams['figure.facecolor'] = 'white'\n",
    "import random"
   ]
  },
  {
   "cell_type": "markdown",
   "metadata": {},
   "source": [
    "## Définitions pandas, surveys et sélection de l'échantillon à utiliser"
   ]
  },
  {
   "cell_type": "code",
   "execution_count": 2,
   "metadata": {
    "jupyter": {
     "source_hidden": true
    },
    "tags": []
   },
   "outputs": [
    {
     "data": {
      "application/vnd.jupyter.widget-view+json": {
       "model_id": "e782cfa239f948c68d9a206cba428ead",
       "version_major": 2,
       "version_minor": 0
      },
      "text/plain": [
       "interactive(children=(Checkbox(value=False, description='Conservative'), Dropdown(description='Survey:', optio…"
      ]
     },
     "metadata": {},
     "output_type": "display_data"
    }
   ],
   "source": [
    "def set_survey(cons, su):\n",
    "    global df\n",
    "    if su == 'All':\n",
    "        df = df_cons(cons)\n",
    "    elif 'n' in su:\n",
    "        df = df_cons(cons)[df_cons(cons)['survey'] != su.split('n')[-1]]\n",
    "    else:\n",
    "        df = df_cons(cons)[df_cons(cons)['survey'] == su]\n",
    "    return df\n",
    "\n",
    "int_set_su = ipw.interactive(set_survey, cons=tools.cons, su=tools.su)\n",
    "display(int_set_su)\n",
    "\n",
    "smap = plt.cm.get_cmap('cividis')\n",
    "colors = {'SNF': plt.cm.binary(0.9),\n",
    "          'SDSS': smap(0.1),\n",
    "          'PS1': smap(0.5),\n",
    "          'SNLS': smap(0.8),\n",
    "          'HST': smap(0.99),  # for cividis\n",
    "          #'HST': smap(300)}  # for viridis\n",
    "          'All': (255/255, 51/255, 0/255)} \n",
    "\n",
    "def alphacolors(alpha, survey):\n",
    "    return(colors[survey][0], colors[survey][1], colors[survey][2], alpha)\n",
    "\n",
    "df_nHST = df_nc[df_nc['survey'] != 'HST']"
   ]
  },
  {
   "cell_type": "markdown",
   "metadata": {},
   "source": [
    "### Use SED fitted SNf data"
   ]
  },
  {
   "cell_type": "code",
   "execution_count": 3,
   "metadata": {
    "tags": []
   },
   "outputs": [
    {
     "name": "stderr",
     "output_type": "stream",
     "text": [
      "/home/nicolas/.installs/anaconda3/lib/python3.7/site-packages/ipykernel_launcher.py:7: SettingWithCopyWarning: \n",
      "A value is trying to be set on a copy of a slice from a DataFrame.\n",
      "Try using .loc[row_indexer,col_indexer] = value instead\n",
      "\n",
      "See the caveats in the documentation: https://pandas.pydata.org/pandas-docs/stable/user_guide/indexing.html#returning-a-view-versus-a-copy\n",
      "  import sys\n",
      "/home/nicolas/.installs/anaconda3/lib/python3.7/site-packages/ipykernel_launcher.py:8: SettingWithCopyWarning: \n",
      "A value is trying to be set on a copy of a slice from a DataFrame.\n",
      "Try using .loc[row_indexer,col_indexer] = value instead\n",
      "\n",
      "See the caveats in the documentation: https://pandas.pydata.org/pandas-docs/stable/user_guide/indexing.html#returning-a-view-versus-a-copy\n",
      "  \n"
     ]
    }
   ],
   "source": [
    "sed = pd.read_csv('../../../Data/mass/SNFactory_SEDfit_Masses.txt')\n",
    "sed = sed.loc[sed['name'].str.contains( 'SNF|LSQ|PTF', na=False, regex=True)]\n",
    "sed = sed.rename(columns={'mass': 'hostmass', 'z': 'redshifts'})\n",
    "sed['hostmass_err'] = np.sqrt((sed['mass_uppererr'].values**2 +\n",
    "                               sed['mass_lowerr'].values**2)/2)\n",
    "sedsnf_df = df_nc[df_nc['survey'] == 'SNF']\n",
    "sedsnf_df['hostmass'] = sed['hostmass'].values\n",
    "sedsnf_df['hostmass_err'] = sed['hostmass_err'].values\n",
    "sedsnf_df_nonan = sedsnf_df[~np.isnan(sedsnf_df['hostmass'])]"
   ]
  },
  {
   "cell_type": "code",
   "execution_count": 4,
   "metadata": {},
   "outputs": [],
   "source": [
    "df_fit = pd.concat([sedsnf_df_nonan,\n",
    "                    df_nc[(df_nc['survey'] != 'SNF') &\n",
    "                          (df_nc['survey'] != 'LOWZ')]])\n",
    "df_fit = df_fit[df_fit['hostmass'] > 7]"
   ]
  },
  {
   "cell_type": "markdown",
   "metadata": {},
   "source": [
    "## Use of `massevol` to determine a mass/age relationship"
   ]
  },
  {
   "cell_type": "markdown",
   "metadata": {},
   "source": [
    "#### SNF only"
   ]
  },
  {
   "cell_type": "code",
   "execution_count": 8,
   "metadata": {},
   "outputs": [
    {
     "name": "stderr",
     "output_type": "stream",
     "text": [
      "/home/nicolas/.installs/anaconda3/lib/python3.7/site-packages/variaIa-0.8.4-py3.7.egg/variaIa/massevol.py:487: RuntimeWarning: invalid value encountered in log\n",
      "  mu_4, sigma_4)))\n",
      "/home/nicolas/.installs/anaconda3/lib/python3.7/site-packages/scipy/stats/_distn_infrastructure.py:1761: RuntimeWarning: invalid value encountered in greater\n",
      "  cond0 = self._argcheck(*args) & (scale > 0)\n",
      "/home/nicolas/.installs/anaconda3/lib/python3.7/site-packages/scipy/stats/_distn_infrastructure.py:1762: RuntimeWarning: invalid value encountered in greater\n",
      "  cond1 = self._support_mask(x, *args) & (scale > 0)\n"
     ]
    },
    {
     "name": "stdout",
     "output_type": "stream",
     "text": [
      "1G1M1S\n",
      "{'mu': 10.115948936767756, 'sigma': 0.7936336156936603}\n",
      "1G1M2S\n",
      "{'mu': 10.537081210470074,\n",
      " 'sigmadown': 1.0532813466253161,\n",
      " 'sigmaup': 0.5175961858983374}\n",
      "2G2M2S\n",
      "{'mu_1': 9.626399462519458,\n",
      " 'mu_2': 10.729864285411596,\n",
      " 'sigma_1': 0.6954419805907796,\n",
      " 'sigma_2': -0.4163648021668908}\n",
      "2G2M3S\n",
      "{'mu': 10.80407178236592,\n",
      " 'mu_1': 9.646031067372641,\n",
      " 'sigma_1': 0.7104183550835206,\n",
      " 'sigmadown': -0.5122358236458001,\n",
      " 'sigmaup': 0.37848640451723103}\n",
      "2G2M4S\n",
      "{'mu_o': 10.739040324149709,\n",
      " 'mu_y': 9.341005384239379,\n",
      " 'sigmad_o': 0.4838947281224723,\n",
      " 'sigmad_y': 0.5090532946899202,\n",
      " 'sigmau_o': 0.3940507772250669,\n",
      " 'sigmau_y': 0.9548941055258211}\n",
      "3G3M3S\n",
      "{'a': 0.9399270164988753,\n",
      " 'mu_1': 9.701756439016641,\n",
      " 'mu_2': 10.733992296290406,\n",
      " 'mu_3': 9.124469141327797,\n",
      " 'sigma_1': 0.7284459133327791,\n",
      " 'sigma_2': 0.4055411606162702,\n",
      " 'sigma_3': 2.5527462306557634e-05}\n",
      "3G3M4S\n",
      "{'a': 0.8621915131958199,\n",
      " 'mu': 9.085939809793636,\n",
      " 'mu_1': 9.712299376999097,\n",
      " 'mu_2': 10.77153251010919,\n",
      " 'sigma_1': 0.7357051499877038,\n",
      " 'sigma_2': 0.3804559174985816,\n",
      " 'sigmadown': -0.00013472307069689387,\n",
      " 'sigmaup': 0.949387412512781}\n",
      "4G4M4S\n",
      "{'a': 1.3308562623444241e-05,\n",
      " 'b': 0.06011667111834845,\n",
      " 'mu_1': 10.059232748845504,\n",
      " 'mu_2': 9.702139604914022,\n",
      " 'mu_3': 9.124452748037909,\n",
      " 'mu_4': 10.734064610138164,\n",
      " 'sigma_1': 0.6775065936403519,\n",
      " 'sigma_2': 0.7286219086480648,\n",
      " 'sigma_3': -7.380314404467224e-05,\n",
      " 'sigma_4': -0.40557163017204884}\n"
     ]
    }
   ],
   "source": [
    "gen = massevol.generic()\n",
    "gen.set_model('Evol4G4M4S')\n",
    "evol4G4M4S_SNF = gen.fit(sedsnf_df_nonan)\n",
    "\n",
    "gen.set_model('Evol3G3M4S')\n",
    "evol3G3M4S_SNF = gen.fit(sedsnf_df_nonan)\n",
    "\n",
    "gen.set_model('Evol3G3M3S')\n",
    "LIMVAL = [None, None, (0, 1),\n",
    "          None, None, None, None]\n",
    "evol3G3M3S_SNF = gen.fit(sedsnf_df_nonan, limits=None)\n",
    "\n",
    "gen.set_model('Evol2G2M4S')\n",
    "evol2G2M4S_SNF = gen.fit(sedsnf_df_nonan)\n",
    "\n",
    "gen.set_model('Evol2G2M3S')\n",
    "evol2G2M3S_SNF = gen.fit(sedsnf_df_nonan)\n",
    "\n",
    "gen.set_model('Evol2G2M2S')\n",
    "evol2G2M2S_SNF = gen.fit(sedsnf_df_nonan)\n",
    "\n",
    "gen.set_model('Evol1G1M2S')\n",
    "evol1G1M2S_SNF = gen.fit(sedsnf_df_nonan)\n",
    "\n",
    "gen.set_model('Evol1G1M1S')\n",
    "evol1G1M1S_SNF = gen.fit(sedsnf_df_nonan)\n",
    "\n",
    "mod_list = [evol1G1M1S, evol1G1M2S,\n",
    "            evol2G2M2S, evol2G2M3S, evol2G2M4S,\n",
    "            evol3G3M3S, evol3G3M4S, evol4G4M4S]\n",
    "mod_name = ['Evol'+mod.__doc__ for mod in mod_list]\n",
    "\n",
    "pp = PrettyPrinter()\n",
    "for mod in mod_list:\n",
    "    print(mod.__doc__)\n",
    "    pp.pprint(mod.param)"
   ]
  },
  {
   "cell_type": "markdown",
   "metadata": {},
   "source": [
    "#### All samples combined"
   ]
  },
  {
   "cell_type": "code",
   "execution_count": 5,
   "metadata": {},
   "outputs": [
    {
     "name": "stdout",
     "output_type": "stream",
     "text": [
      "1G1M1S\n",
      "{'mu': 10.115948936767756, 'sigma': 0.7936336156936603}\n",
      "1G1M2S\n",
      "{'mu': 10.537081210470074,\n",
      " 'sigmadown': 1.0532813466253161,\n",
      " 'sigmaup': 0.5175961858983374}\n",
      "2G2M2S\n",
      "{'mu_1': 9.626399462519458,\n",
      " 'mu_2': 10.729864285411596,\n",
      " 'sigma_1': 0.6954419805907796,\n",
      " 'sigma_2': -0.4163648021668908}\n",
      "2G2M3S\n",
      "{'mu': 10.80407178236592,\n",
      " 'mu_1': 9.646031067372641,\n",
      " 'sigma_1': 0.7104183550835206,\n",
      " 'sigmadown': -0.5122358236458001,\n",
      " 'sigmaup': 0.37848640451723103}\n",
      "2G2M4S\n",
      "{'mu_o': 10.739040324149709,\n",
      " 'mu_y': 9.341005384239379,\n",
      " 'sigmad_o': 0.4838947281224723,\n",
      " 'sigmad_y': 0.5090532946899202,\n",
      " 'sigmau_o': 0.3940507772250669,\n",
      " 'sigmau_y': 0.9548941055258211}\n",
      "3G3M3S\n",
      "{'a': 0.9399270164988753,\n",
      " 'mu_1': 9.701756439016641,\n",
      " 'mu_2': 10.733992296290406,\n",
      " 'mu_3': 9.124469141327797,\n",
      " 'sigma_1': 0.7284459133327791,\n",
      " 'sigma_2': 0.4055411606162702,\n",
      " 'sigma_3': 2.5527462306557634e-05}\n",
      "3G3M4S\n",
      "{'a': 0.8621915131958199,\n",
      " 'mu': 9.085939809793636,\n",
      " 'mu_1': 9.712299376999097,\n",
      " 'mu_2': 10.77153251010919,\n",
      " 'sigma_1': 0.7357051499877038,\n",
      " 'sigma_2': 0.3804559174985816,\n",
      " 'sigmadown': -0.00013472307069689387,\n",
      " 'sigmaup': 0.949387412512781}\n",
      "4G4M4S\n",
      "{'a': 1.3308562623444241e-05,\n",
      " 'b': 0.06011667111834845,\n",
      " 'mu_1': 10.059232748845504,\n",
      " 'mu_2': 9.702139604914022,\n",
      " 'mu_3': 9.124452748037909,\n",
      " 'mu_4': 10.734064610138164,\n",
      " 'sigma_1': 0.6775065936403519,\n",
      " 'sigma_2': 0.7286219086480648,\n",
      " 'sigma_3': -7.380314404467224e-05,\n",
      " 'sigma_4': -0.40557163017204884}\n"
     ]
    }
   ],
   "source": [
    "gen = massevol.generic()\n",
    "gen.set_model('Evol4G4M4S')\n",
    "LIMVAL = [(0, 1), None, None, None, None,\n",
    "          (0, 1), None, None, None, None]\n",
    "evol4G4M4S = gen.fit(df_fit, limits=LIMVAL)\n",
    "\n",
    "gen.set_model('Evol3G3M4S')\n",
    "LIMVAL = [None, None, (0, 1),\n",
    "          None, None, None, None, None]\n",
    "evol3G3M4S = gen.fit(df_fit, limits=LIMVAL)\n",
    "\n",
    "gen.set_model('Evol3G3M3S')\n",
    "LIMVAL = [None, None, (0, 1),\n",
    "          None, None, (5, 15), (-1, 1)]\n",
    "evol3G3M3S = gen.fit(df_fit, limits=LIMVAL)\n",
    "\n",
    "gen.set_model('Evol2G2M4S')\n",
    "evol2G2M4S = gen.fit(df_fit, limits=None)\n",
    "\n",
    "gen.set_model('Evol2G2M3S')\n",
    "evol2G2M3S = gen.fit(df_fit, limits=None)\n",
    "\n",
    "gen.set_model('Evol2G2M2S')\n",
    "evol2G2M2S = gen.fit(df_fit, limits=None)\n",
    "\n",
    "gen.set_model('Evol1G1M2S')\n",
    "evol1G1M2S = gen.fit(df_fit, limits=None)\n",
    "\n",
    "gen.set_model('Evol1G1M1S')\n",
    "evol1G1M1S = gen.fit(df_fit, limits=None)\n",
    "\n",
    "mod_list = [evol1G1M1S, evol1G1M2S,\n",
    "            evol2G2M2S, evol2G2M3S, evol2G2M4S,\n",
    "            evol3G3M3S, evol3G3M4S, evol4G4M4S]\n",
    "mod_name = ['Evol'+mod.__doc__ for mod in mod_list]\n",
    "\n",
    "pp = PrettyPrinter()\n",
    "for mod in mod_list:\n",
    "    print(mod.__doc__)\n",
    "    pp.pprint(mod.param)"
   ]
  },
  {
   "cell_type": "code",
   "execution_count": 22,
   "metadata": {},
   "outputs": [
    {
     "data": {
      "text/plain": [
       "array([[ 6.73065468e-04, -2.54562729e-05],\n",
       "       [-2.54562729e-05,  3.67326603e-04]])"
      ]
     },
     "execution_count": 22,
     "metadata": {},
     "output_type": "execute_result"
    }
   ],
   "source": [
    "evol1G1M1S.migrad_out.covariance"
   ]
  },
  {
   "cell_type": "code",
   "execution_count": 10,
   "metadata": {},
   "outputs": [],
   "source": [
    "fig = plt.figure(figsize=[7, 3.5], facecolor='w')\n",
    "ax = fig.add_axes([0.1, 0.12, 0.62, 0.8])\n",
    "axh = fig.add_axes([0.75, 0.12, 0.2, 0.8])\n",
    "\n",
    "evol2G2M4S_SNF.scatter(ax=ax, model=False)\n",
    "evol2G2M4S_SNF.show_hist(ax=axh, bins=15)\n",
    "evol2G2M4S_SNF.show_model(ax=axh,\n",
    "                 o_factor=-evol2G2M4S_SNF.amp*np.sum(1-evol2G2M4S_SNF.py),\n",
    "                 y_factor=evol2G2M4S_SNF.amp*np.sum(evol2G2M4S_SNF.py),\n",
    "                 # facealpha=0,\n",
    "                 # edgealpha=1,\n",
    "                 lw=1, zorder=8)\n",
    "\n",
    "axh.set_ylim(*ax.get_ylim())\n",
    "axh.set_yticks([])\n",
    "axh.set_xticks([])\n",
    "\n",
    "axh.axvline(0, color='k', lw=1, zorder=10)\n",
    "\n",
    "axh.set_frame_on(False)\n",
    "\n",
    "plt.suptitle('Asymmetric Howell')\n",
    "plt.close()\n",
    "\n",
    "fig.savefig('../../../Images/pdf/model_mass_' + evol2G2M4S.__doc__ + '_hist_SED-nonan.pdf',\n",
    "            bbox_inches='tight')\n",
    "fig.savefig('../../../Images/png/model_mass_' + evol2G2M4S.__doc__ + '_hist_SED-nonan.png',\n",
    "            bbox_inches='tight', dpi=600)"
   ]
  },
  {
   "cell_type": "code",
   "execution_count": 9,
   "metadata": {
    "collapsed": true,
    "jupyter": {
     "outputs_hidden": true
    },
    "tags": []
   },
   "outputs": [
    {
     "name": "stdout",
     "output_type": "stream",
     "text": [
      "Evol1G1M1S\n",
      "Evol1G1M2S\n",
      "Evol2G2M2S\n"
     ]
    },
    {
     "ename": "ValueError",
     "evalue": "weights should have the same shape as x",
     "output_type": "error",
     "traceback": [
      "\u001b[0;31m---------------------------------------------------------------------------\u001b[0m",
      "\u001b[0;31mValueError\u001b[0m                                Traceback (most recent call last)",
      "\u001b[0;32m/tmp/ipykernel_1990/1971725456.py\u001b[0m in \u001b[0;36m<module>\u001b[0;34m\u001b[0m\n\u001b[1;32m     23\u001b[0m     \u001b[0;31m# mod.param = model.param\u001b[0m\u001b[0;34m\u001b[0m\u001b[0;34m\u001b[0m\u001b[0;34m\u001b[0m\u001b[0m\n\u001b[1;32m     24\u001b[0m     \u001b[0mmodel\u001b[0m\u001b[0;34m.\u001b[0m\u001b[0mscatter\u001b[0m\u001b[0;34m(\u001b[0m\u001b[0max\u001b[0m\u001b[0;34m=\u001b[0m\u001b[0max\u001b[0m\u001b[0;34m,\u001b[0m \u001b[0mmodel\u001b[0m\u001b[0;34m=\u001b[0m\u001b[0;32mFalse\u001b[0m\u001b[0;34m)\u001b[0m\u001b[0;34m\u001b[0m\u001b[0;34m\u001b[0m\u001b[0m\n\u001b[0;32m---> 25\u001b[0;31m     \u001b[0mmodel\u001b[0m\u001b[0;34m.\u001b[0m\u001b[0mshow_hist\u001b[0m\u001b[0;34m(\u001b[0m\u001b[0max\u001b[0m\u001b[0;34m=\u001b[0m\u001b[0maxh\u001b[0m\u001b[0;34m,\u001b[0m \u001b[0mbins\u001b[0m\u001b[0;34m=\u001b[0m\u001b[0;36m15\u001b[0m\u001b[0;34m)\u001b[0m\u001b[0;34m\u001b[0m\u001b[0;34m\u001b[0m\u001b[0m\n\u001b[0m\u001b[1;32m     26\u001b[0m     model.show_model(ax=axh,\n\u001b[1;32m     27\u001b[0m                      \u001b[0mo_factor\u001b[0m\u001b[0;34m=\u001b[0m\u001b[0;34m-\u001b[0m\u001b[0mmodel\u001b[0m\u001b[0;34m.\u001b[0m\u001b[0mamp\u001b[0m\u001b[0;34m*\u001b[0m\u001b[0mnp\u001b[0m\u001b[0;34m.\u001b[0m\u001b[0msum\u001b[0m\u001b[0;34m(\u001b[0m\u001b[0;36m1\u001b[0m\u001b[0;34m-\u001b[0m\u001b[0mmodel\u001b[0m\u001b[0;34m.\u001b[0m\u001b[0mpy\u001b[0m\u001b[0;34m)\u001b[0m\u001b[0;34m,\u001b[0m\u001b[0;34m\u001b[0m\u001b[0;34m\u001b[0m\u001b[0m\n",
      "\u001b[0;32m~/.installs/anaconda3/lib/python3.7/site-packages/variaIa-0.8.4-py3.7.egg/variaIa/massevol.py\u001b[0m in \u001b[0;36mshow_hist\u001b[0;34m(self, ax, bottom, range, bins, lw, fcy, fco, yotext, **kwargs)\u001b[0m\n\u001b[1;32m    373\u001b[0m                 \u001b[0mfacecolor\u001b[0m\u001b[0;34m=\u001b[0m\u001b[0mfcy\u001b[0m\u001b[0;34m,\u001b[0m\u001b[0;34m\u001b[0m\u001b[0;34m\u001b[0m\u001b[0m\n\u001b[1;32m    374\u001b[0m                 \u001b[0medgecolor\u001b[0m\u001b[0;34m=\u001b[0m\u001b[0;34m'0.7'\u001b[0m\u001b[0;34m,\u001b[0m \u001b[0mbottom\u001b[0m\u001b[0;34m=\u001b[0m\u001b[0mbottom\u001b[0m\u001b[0;34m,\u001b[0m\u001b[0;34m\u001b[0m\u001b[0;34m\u001b[0m\u001b[0m\n\u001b[0;32m--> 375\u001b[0;31m                 **prop)\n\u001b[0m\u001b[1;32m    376\u001b[0m         ax.hist(self.hostmass, weights=self.py-1,\n\u001b[1;32m    377\u001b[0m                 \u001b[0mfacecolor\u001b[0m\u001b[0;34m=\u001b[0m\u001b[0mfco\u001b[0m\u001b[0;34m,\u001b[0m\u001b[0;34m\u001b[0m\u001b[0;34m\u001b[0m\u001b[0m\n",
      "\u001b[0;32m~/.installs/anaconda3/lib/python3.7/site-packages/matplotlib/__init__.py\u001b[0m in \u001b[0;36minner\u001b[0;34m(ax, data, *args, **kwargs)\u001b[0m\n\u001b[1;32m   1410\u001b[0m     \u001b[0;32mdef\u001b[0m \u001b[0minner\u001b[0m\u001b[0;34m(\u001b[0m\u001b[0max\u001b[0m\u001b[0;34m,\u001b[0m \u001b[0;34m*\u001b[0m\u001b[0margs\u001b[0m\u001b[0;34m,\u001b[0m \u001b[0mdata\u001b[0m\u001b[0;34m=\u001b[0m\u001b[0;32mNone\u001b[0m\u001b[0;34m,\u001b[0m \u001b[0;34m**\u001b[0m\u001b[0mkwargs\u001b[0m\u001b[0;34m)\u001b[0m\u001b[0;34m:\u001b[0m\u001b[0;34m\u001b[0m\u001b[0;34m\u001b[0m\u001b[0m\n\u001b[1;32m   1411\u001b[0m         \u001b[0;32mif\u001b[0m \u001b[0mdata\u001b[0m \u001b[0;32mis\u001b[0m \u001b[0;32mNone\u001b[0m\u001b[0;34m:\u001b[0m\u001b[0;34m\u001b[0m\u001b[0;34m\u001b[0m\u001b[0m\n\u001b[0;32m-> 1412\u001b[0;31m             \u001b[0;32mreturn\u001b[0m \u001b[0mfunc\u001b[0m\u001b[0;34m(\u001b[0m\u001b[0max\u001b[0m\u001b[0;34m,\u001b[0m \u001b[0;34m*\u001b[0m\u001b[0mmap\u001b[0m\u001b[0;34m(\u001b[0m\u001b[0msanitize_sequence\u001b[0m\u001b[0;34m,\u001b[0m \u001b[0margs\u001b[0m\u001b[0;34m)\u001b[0m\u001b[0;34m,\u001b[0m \u001b[0;34m**\u001b[0m\u001b[0mkwargs\u001b[0m\u001b[0;34m)\u001b[0m\u001b[0;34m\u001b[0m\u001b[0;34m\u001b[0m\u001b[0m\n\u001b[0m\u001b[1;32m   1413\u001b[0m \u001b[0;34m\u001b[0m\u001b[0m\n\u001b[1;32m   1414\u001b[0m         \u001b[0mbound\u001b[0m \u001b[0;34m=\u001b[0m \u001b[0mnew_sig\u001b[0m\u001b[0;34m.\u001b[0m\u001b[0mbind\u001b[0m\u001b[0;34m(\u001b[0m\u001b[0max\u001b[0m\u001b[0;34m,\u001b[0m \u001b[0;34m*\u001b[0m\u001b[0margs\u001b[0m\u001b[0;34m,\u001b[0m \u001b[0;34m**\u001b[0m\u001b[0mkwargs\u001b[0m\u001b[0;34m)\u001b[0m\u001b[0;34m\u001b[0m\u001b[0;34m\u001b[0m\u001b[0m\n",
      "\u001b[0;32m~/.installs/anaconda3/lib/python3.7/site-packages/matplotlib/axes/_axes.py\u001b[0m in \u001b[0;36mhist\u001b[0;34m(self, x, bins, range, density, weights, cumulative, bottom, histtype, align, orientation, rwidth, log, color, label, stacked, **kwargs)\u001b[0m\n\u001b[1;32m   6538\u001b[0m             \u001b[0mlen_xi\u001b[0m \u001b[0;34m=\u001b[0m \u001b[0mlen\u001b[0m\u001b[0;34m(\u001b[0m\u001b[0mxi\u001b[0m\u001b[0;34m)\u001b[0m\u001b[0;34m\u001b[0m\u001b[0;34m\u001b[0m\u001b[0m\n\u001b[1;32m   6539\u001b[0m             \u001b[0;32mif\u001b[0m \u001b[0mwi\u001b[0m \u001b[0;32mis\u001b[0m \u001b[0;32mnot\u001b[0m \u001b[0;32mNone\u001b[0m \u001b[0;32mand\u001b[0m \u001b[0mlen\u001b[0m\u001b[0;34m(\u001b[0m\u001b[0mwi\u001b[0m\u001b[0;34m)\u001b[0m \u001b[0;34m!=\u001b[0m \u001b[0mlen_xi\u001b[0m\u001b[0;34m:\u001b[0m\u001b[0;34m\u001b[0m\u001b[0;34m\u001b[0m\u001b[0m\n\u001b[0;32m-> 6540\u001b[0;31m                 \u001b[0;32mraise\u001b[0m \u001b[0mValueError\u001b[0m\u001b[0;34m(\u001b[0m\u001b[0;34m'weights should have the same shape as x'\u001b[0m\u001b[0;34m)\u001b[0m\u001b[0;34m\u001b[0m\u001b[0;34m\u001b[0m\u001b[0m\n\u001b[0m\u001b[1;32m   6541\u001b[0m             \u001b[0;32mif\u001b[0m \u001b[0mlen_xi\u001b[0m\u001b[0;34m:\u001b[0m\u001b[0;34m\u001b[0m\u001b[0;34m\u001b[0m\u001b[0m\n\u001b[1;32m   6542\u001b[0m                 \u001b[0minput_empty\u001b[0m \u001b[0;34m=\u001b[0m \u001b[0;32mFalse\u001b[0m\u001b[0;34m\u001b[0m\u001b[0;34m\u001b[0m\u001b[0m\n",
      "\u001b[0;31mValueError\u001b[0m: weights should have the same shape as x"
     ]
    },
    {
     "data": {
      "image/png": "[encoded data removed]",
      "text/plain": [
       "<Figure size 504x252 with 2 Axes>"
      ]
     },
     "metadata": {},
     "output_type": "display_data"
    }
   ],
   "source": [
    "for name, model in zip(mod_name[:2], mod_list[:2]):\n",
    "    fig = plt.figure(figsize=[7, 3.5], facecolor='w')\n",
    "    ax = fig.add_axes([0.1, 0.12, 0.62, 0.8])\n",
    "    \n",
    "    print(name)\n",
    "    model.show_model_tot(ax=ax)\n",
    "    plt.title(model.__doc__)\n",
    "    plt.close()\n",
    "    \n",
    "    fig.savefig('../../../Images/pdf/model_mass_' + model.__doc__ + '_SED-nonan_all.pdf',\n",
    "                bbox_inches='tight')\n",
    "    fig.savefig('../../../Images/png/model_mass_' + model.__doc__ + '_SED-nonan_all.png',\n",
    "                bbox_inches='tight', dpi=600)\n",
    "    \n",
    "for name, model in zip(mod_name[2:], mod_list[2:]):\n",
    "    fig = plt.figure(figsize=[7, 3.5], facecolor='w')\n",
    "    ax = fig.add_axes([0.1, 0.12, 0.62, 0.8])\n",
    "    axh = fig.add_axes([0.75, 0.12, 0.2, 0.8])\n",
    " \n",
    "    print(name)\n",
    "    # gen.set_model(name)\n",
    "    # mod = gen.model(snf_sed_nonan)\n",
    "    # mod.param = model.param\n",
    "    model.scatter(ax=ax, model=False)\n",
    "    model.show_hist(ax=axh, bins=15)\n",
    "    model.show_model(ax=axh,\n",
    "                     o_factor=-model.amp*np.sum(1-model.py),\n",
    "                     y_factor=model.amp*np.sum(model.py),\n",
    "                     # facealpha=0,\n",
    "                     # edgealpha=1,\n",
    "                     lw=1, zorder=8)\n",
    "    \n",
    "    axh.set_ylim(*ax.get_ylim())\n",
    "    axh.set_yticks([])\n",
    "    axh.set_xticks([])\n",
    "    \n",
    "    axh.axvline(0, color='k', lw=1, zorder=10)\n",
    "    \n",
    "    axh.set_frame_on(False)\n",
    "    \n",
    "    plt.suptitle(model.__doc__)\n",
    "    plt.close()\n",
    "\n",
    "    fig.savefig('../../../Images/pdf/model_mass_' + model.__doc__ + '_hist_SED-nonan_all.pdf',\n",
    "                bbox_inches='tight')\n",
    "    fig.savefig('../../../Images/png/model_mass_' + model.__doc__ + '_hist_SED-nonan_all.png',\n",
    "                bbox_inches='tight', dpi=600)"
   ]
  },
  {
   "cell_type": "code",
   "execution_count": 10,
   "metadata": {},
   "outputs": [
    {
     "ename": "ValueError",
     "evalue": "weights should have the same shape as x",
     "output_type": "error",
     "traceback": [
      "\u001b[0;31m---------------------------------------------------------------------------\u001b[0m",
      "\u001b[0;31mValueError\u001b[0m                                Traceback (most recent call last)",
      "\u001b[0;32m/tmp/ipykernel_1990/3904714572.py\u001b[0m in \u001b[0;36m<module>\u001b[0;34m\u001b[0m\n\u001b[1;32m      2\u001b[0m \u001b[0max\u001b[0m \u001b[0;34m=\u001b[0m \u001b[0mfig\u001b[0m\u001b[0;34m.\u001b[0m\u001b[0madd_axes\u001b[0m\u001b[0;34m(\u001b[0m\u001b[0;34m[\u001b[0m\u001b[0;36m0.1\u001b[0m\u001b[0;34m,\u001b[0m \u001b[0;36m0.12\u001b[0m\u001b[0;34m,\u001b[0m \u001b[0;36m0.8\u001b[0m\u001b[0;34m,\u001b[0m \u001b[0;36m0.8\u001b[0m\u001b[0;34m]\u001b[0m\u001b[0;34m)\u001b[0m\u001b[0;34m\u001b[0m\u001b[0;34m\u001b[0m\u001b[0m\n\u001b[1;32m      3\u001b[0m \u001b[0;34m\u001b[0m\u001b[0m\n\u001b[0;32m----> 4\u001b[0;31m \u001b[0mevol3G3M3S\u001b[0m\u001b[0;34m.\u001b[0m\u001b[0mshow_hist\u001b[0m\u001b[0;34m(\u001b[0m\u001b[0max\u001b[0m\u001b[0;34m=\u001b[0m\u001b[0max\u001b[0m\u001b[0;34m,\u001b[0m \u001b[0mbins\u001b[0m\u001b[0;34m=\u001b[0m\u001b[0;36m15\u001b[0m\u001b[0;34m)\u001b[0m\u001b[0;34m\u001b[0m\u001b[0;34m\u001b[0m\u001b[0m\n\u001b[0m\u001b[1;32m      5\u001b[0m evol3G3M3S.show_model(ax=ax,\n\u001b[1;32m      6\u001b[0m                  \u001b[0mo_factor\u001b[0m\u001b[0;34m=\u001b[0m\u001b[0;34m-\u001b[0m\u001b[0mevol3G3M3S\u001b[0m\u001b[0;34m.\u001b[0m\u001b[0mamp\u001b[0m\u001b[0;34m*\u001b[0m\u001b[0mnp\u001b[0m\u001b[0;34m.\u001b[0m\u001b[0msum\u001b[0m\u001b[0;34m(\u001b[0m\u001b[0;36m1\u001b[0m\u001b[0;34m-\u001b[0m\u001b[0mevol3G3M3S\u001b[0m\u001b[0;34m.\u001b[0m\u001b[0mpy\u001b[0m\u001b[0;34m)\u001b[0m\u001b[0;34m,\u001b[0m\u001b[0;34m\u001b[0m\u001b[0;34m\u001b[0m\u001b[0m\n",
      "\u001b[0;32m~/.installs/anaconda3/lib/python3.7/site-packages/variaIa-0.8.4-py3.7.egg/variaIa/massevol.py\u001b[0m in \u001b[0;36mshow_hist\u001b[0;34m(self, ax, bottom, range, bins, lw, fcy, fco, yotext, **kwargs)\u001b[0m\n\u001b[1;32m    373\u001b[0m                 \u001b[0mfacecolor\u001b[0m\u001b[0;34m=\u001b[0m\u001b[0mfcy\u001b[0m\u001b[0;34m,\u001b[0m\u001b[0;34m\u001b[0m\u001b[0;34m\u001b[0m\u001b[0m\n\u001b[1;32m    374\u001b[0m                 \u001b[0medgecolor\u001b[0m\u001b[0;34m=\u001b[0m\u001b[0;34m'0.7'\u001b[0m\u001b[0;34m,\u001b[0m \u001b[0mbottom\u001b[0m\u001b[0;34m=\u001b[0m\u001b[0mbottom\u001b[0m\u001b[0;34m,\u001b[0m\u001b[0;34m\u001b[0m\u001b[0;34m\u001b[0m\u001b[0m\n\u001b[0;32m--> 375\u001b[0;31m                 **prop)\n\u001b[0m\u001b[1;32m    376\u001b[0m         ax.hist(self.hostmass, weights=self.py-1,\n\u001b[1;32m    377\u001b[0m                 \u001b[0mfacecolor\u001b[0m\u001b[0;34m=\u001b[0m\u001b[0mfco\u001b[0m\u001b[0;34m,\u001b[0m\u001b[0;34m\u001b[0m\u001b[0;34m\u001b[0m\u001b[0m\n",
      "\u001b[0;32m~/.installs/anaconda3/lib/python3.7/site-packages/matplotlib/__init__.py\u001b[0m in \u001b[0;36minner\u001b[0;34m(ax, data, *args, **kwargs)\u001b[0m\n\u001b[1;32m   1410\u001b[0m     \u001b[0;32mdef\u001b[0m \u001b[0minner\u001b[0m\u001b[0;34m(\u001b[0m\u001b[0max\u001b[0m\u001b[0;34m,\u001b[0m \u001b[0;34m*\u001b[0m\u001b[0margs\u001b[0m\u001b[0;34m,\u001b[0m \u001b[0mdata\u001b[0m\u001b[0;34m=\u001b[0m\u001b[0;32mNone\u001b[0m\u001b[0;34m,\u001b[0m \u001b[0;34m**\u001b[0m\u001b[0mkwargs\u001b[0m\u001b[0;34m)\u001b[0m\u001b[0;34m:\u001b[0m\u001b[0;34m\u001b[0m\u001b[0;34m\u001b[0m\u001b[0m\n\u001b[1;32m   1411\u001b[0m         \u001b[0;32mif\u001b[0m \u001b[0mdata\u001b[0m \u001b[0;32mis\u001b[0m \u001b[0;32mNone\u001b[0m\u001b[0;34m:\u001b[0m\u001b[0;34m\u001b[0m\u001b[0;34m\u001b[0m\u001b[0m\n\u001b[0;32m-> 1412\u001b[0;31m             \u001b[0;32mreturn\u001b[0m \u001b[0mfunc\u001b[0m\u001b[0;34m(\u001b[0m\u001b[0max\u001b[0m\u001b[0;34m,\u001b[0m \u001b[0;34m*\u001b[0m\u001b[0mmap\u001b[0m\u001b[0;34m(\u001b[0m\u001b[0msanitize_sequence\u001b[0m\u001b[0;34m,\u001b[0m \u001b[0margs\u001b[0m\u001b[0;34m)\u001b[0m\u001b[0;34m,\u001b[0m \u001b[0;34m**\u001b[0m\u001b[0mkwargs\u001b[0m\u001b[0;34m)\u001b[0m\u001b[0;34m\u001b[0m\u001b[0;34m\u001b[0m\u001b[0m\n\u001b[0m\u001b[1;32m   1413\u001b[0m \u001b[0;34m\u001b[0m\u001b[0m\n\u001b[1;32m   1414\u001b[0m         \u001b[0mbound\u001b[0m \u001b[0;34m=\u001b[0m \u001b[0mnew_sig\u001b[0m\u001b[0;34m.\u001b[0m\u001b[0mbind\u001b[0m\u001b[0;34m(\u001b[0m\u001b[0max\u001b[0m\u001b[0;34m,\u001b[0m \u001b[0;34m*\u001b[0m\u001b[0margs\u001b[0m\u001b[0;34m,\u001b[0m \u001b[0;34m**\u001b[0m\u001b[0mkwargs\u001b[0m\u001b[0;34m)\u001b[0m\u001b[0;34m\u001b[0m\u001b[0;34m\u001b[0m\u001b[0m\n",
      "\u001b[0;32m~/.installs/anaconda3/lib/python3.7/site-packages/matplotlib/axes/_axes.py\u001b[0m in \u001b[0;36mhist\u001b[0;34m(self, x, bins, range, density, weights, cumulative, bottom, histtype, align, orientation, rwidth, log, color, label, stacked, **kwargs)\u001b[0m\n\u001b[1;32m   6538\u001b[0m             \u001b[0mlen_xi\u001b[0m \u001b[0;34m=\u001b[0m \u001b[0mlen\u001b[0m\u001b[0;34m(\u001b[0m\u001b[0mxi\u001b[0m\u001b[0;34m)\u001b[0m\u001b[0;34m\u001b[0m\u001b[0;34m\u001b[0m\u001b[0m\n\u001b[1;32m   6539\u001b[0m             \u001b[0;32mif\u001b[0m \u001b[0mwi\u001b[0m \u001b[0;32mis\u001b[0m \u001b[0;32mnot\u001b[0m \u001b[0;32mNone\u001b[0m \u001b[0;32mand\u001b[0m \u001b[0mlen\u001b[0m\u001b[0;34m(\u001b[0m\u001b[0mwi\u001b[0m\u001b[0;34m)\u001b[0m \u001b[0;34m!=\u001b[0m \u001b[0mlen_xi\u001b[0m\u001b[0;34m:\u001b[0m\u001b[0;34m\u001b[0m\u001b[0;34m\u001b[0m\u001b[0m\n\u001b[0;32m-> 6540\u001b[0;31m                 \u001b[0;32mraise\u001b[0m \u001b[0mValueError\u001b[0m\u001b[0;34m(\u001b[0m\u001b[0;34m'weights should have the same shape as x'\u001b[0m\u001b[0;34m)\u001b[0m\u001b[0;34m\u001b[0m\u001b[0;34m\u001b[0m\u001b[0m\n\u001b[0m\u001b[1;32m   6541\u001b[0m             \u001b[0;32mif\u001b[0m \u001b[0mlen_xi\u001b[0m\u001b[0;34m:\u001b[0m\u001b[0;34m\u001b[0m\u001b[0;34m\u001b[0m\u001b[0m\n\u001b[1;32m   6542\u001b[0m                 \u001b[0minput_empty\u001b[0m \u001b[0;34m=\u001b[0m \u001b[0;32mFalse\u001b[0m\u001b[0;34m\u001b[0m\u001b[0;34m\u001b[0m\u001b[0m\n",
      "\u001b[0;31mValueError\u001b[0m: weights should have the same shape as x"
     ]
    },
    {
     "data": {
      "image/png": "[encoded data removed]",
      "text/plain": [
       "<Figure size 504x252 with 1 Axes>"
      ]
     },
     "metadata": {},
     "output_type": "display_data"
    }
   ],
   "source": [
    "fig = plt.figure(figsize=[7, 3.5], facecolor='w')\n",
    "ax = fig.add_axes([0.1, 0.12, 0.8, 0.8])\n",
    " \n",
    "evol3G3M3S.show_hist(ax=ax, bins=15)\n",
    "evol3G3M3S.show_model(ax=ax,\n",
    "                 o_factor=-evol3G3M3S.amp*np.sum(1-evol3G3M3S.py),\n",
    "                 y_factor=evol3G3M3S.amp*np.sum(evol3G3M3S.py),\n",
    "                 # facealpha=0,\n",
    "                 # edgealpha=1,\n",
    "                 lw=1, zorder=8)\n",
    " \n",
    "ax.axvline(0, color='k', lw=1, zorder=10)\n",
    "\n",
    "#ax.set_xticks([])\n",
    "ax.set_xlim(-10, 12)\n",
    " \n",
    "ax.set_xlabel(r'$\\mathrm{log(LsSFR)}$', fontsize='x-large')\n",
    "ax.set_ylabel(r'$\\mathrm{M}_\\mathrm{host}$', fontsize='x-large')\n",
    "\n",
    "plt.suptitle(evol3G3M3S.__doc__)\n",
    " \n",
    "fig.savefig('../../../Images/pdf/model_mass_' + evol3G3M3S.__doc__ + '_histonly_SED-nonan_all.pdf',\n",
    "            bbox_inches='tight')\n",
    "fig.savefig('../../../Images/png/model_mass_' + evol3G3M3S.__doc__ + '_histonly_SED-nonan_all.png',\n",
    "            bbox_inches='tight', dpi=600)"
   ]
  },
  {
   "cell_type": "code",
   "execution_count": 15,
   "metadata": {},
   "outputs": [
    {
     "data": {
      "image/png": "[encoded data removed]",
      "text/plain": [
       "<Figure size 720x360 with 1 Axes>"
      ]
     },
     "metadata": {},
     "output_type": "display_data"
    }
   ],
   "source": [
    "fig = plt.figure(figsize=[10, 5], facecolor='w')\n",
    "ax = fig.add_axes([0.1, 0.12, 0.62, 0.8])\n",
    "#evol4G4M4S.scatter(model=False, ax=ax)\n",
    "#evol4G4M4S.show_hist(ax, yotext=False, alpha=.1)\n",
    "evol4G4M4S.show_model(ax, shift=-10.82,\n",
    "                      fco=plt.cm.turbo(0.1, 0.05), eco=plt.cm.turbo(0.1, 0.9),\n",
    "                      fcy=plt.cm.turbo(0.1, 0.05), ecy=plt.cm.turbo(0.1, 0.9))\n",
    "                      #o_factor=-evol4G4M4S.amp*np.sum(1-evol4G4M4S.py),\n",
    "                      #y_factor=evol4G4M4S.amp*np.sum(evol4G4M4S.py))\n",
    "#evol3G3M4S.show_hist(ax, yotext=False, alpha=0)\n",
    "evol3G3M4S.show_model(ax, shift=-10.82,\n",
    "                      fco=plt.cm.turbo(0.3, 0.05), eco=plt.cm.turbo(0.3, 0.9),\n",
    "                      fcy=plt.cm.turbo(0.3, 0.05), ecy=plt.cm.turbo(0.3, 0.9))\n",
    "                      #o_factor=-evol3G3M4S.amp*np.sum(1-evol3G3M4S.py),\n",
    "                      #y_factor=evol3G3M4S.amp*np.sum(evol3G3M4S.py))\n",
    "#evol3G3M3S.show_hist(ax, yotext=False, alpha=0)\n",
    "evol3G3M3S.show_model(ax, shift=-10.82,\n",
    "                      fco=plt.cm.turbo(0.5, 0.05), eco=plt.cm.turbo(0.5, 0.9),\n",
    "                      fcy=plt.cm.turbo(0.5, 0.05), ecy=plt.cm.turbo(0.5, 0.9))\n",
    "                      #o_factor=-evol3G3M3S.amp*np.sum(1-evol3G3M3S.py),\n",
    "                      #y_factor=evol3G3M3S.amp*np.sum(evol3G3M3S.py))\n",
    "evol2G2M4S.show_model(ax, shift=-10.82,\n",
    "                      fco=plt.cm.turbo(0.6, 0.05), eco=plt.cm.turbo(0.6, 0.9),\n",
    "                      fcy=plt.cm.turbo(0.6, 0.05), ecy=plt.cm.turbo(0.6, 0.9))\n",
    "#evol2G2M3S.show_hist(ax, yotext=False, alpha=0)\n",
    "evol2G2M3S.show_model(ax, shift=-10.82,\n",
    "                      fco=plt.cm.turbo(0.7, 0.05), eco=plt.cm.turbo(0.7, 0.9),\n",
    "                      fcy=plt.cm.turbo(0.7, 0.05), ecy=plt.cm.turbo(0.7, 0.9))\n",
    "                      #o_factor=-evol2G2M3S.amp*np.sum(1-evol2G2M3S.py),\n",
    "                      #y_factor=evol2G2M3S.amp*np.sum(evol2G2M3S.py))\n",
    "#evol2G2M2S.show_hist(ax, yotext=False, alpha=0)\n",
    "evol2G2M2S.show_model(ax, shift=-10.82,\n",
    "                      fco=plt.cm.turbo(0.9, 0.05), eco=plt.cm.turbo(0.9, 0.9),\n",
    "                      fcy=plt.cm.turbo(0.9, 0.05), ecy=plt.cm.turbo(0.9, 0.9))\n",
    "                      #o_factor=-evol2G2M2S.amp*np.sum(1-evol2G2M2S.py),\n",
    "                      #y_factor=evol2G2M2S.amp*np.sum(evol2G2M2S.py))\n",
    "\n",
    "from matplotlib.lines import Line2D\n",
    "\n",
    "evol4G4M4Sleg = Line2D([0], [0], marker='o',\n",
    "                       color=plt.cm.turbo(0.1,0.9), linewidth=0)\n",
    "evol3G3M4Sleg = Line2D([0], [0], marker='o',\n",
    "                       color=plt.cm.turbo(0.3,0.9), linewidth=0)\n",
    "evol3G3M3Sleg = Line2D([0], [0], marker='o',\n",
    "                       color=plt.cm.turbo(0.5,0.9), linewidth=0)\n",
    "evol2G2M4Sleg = Line2D([0], [0], marker='o',\n",
    "                       color=plt.cm.turbo(0.6,0.9), linewidth=0)\n",
    "evol2G2M3Sleg = Line2D([0], [0], marker='o',\n",
    "                       color=plt.cm.turbo(0.7,0.9), linewidth=0)\n",
    "evol2G2M2Sleg = Line2D([0], [0], marker='o',\n",
    "                       color=plt.cm.turbo(0.9,0.9), linewidth=0)\n",
    "handles = [evol4G4M4Sleg, evol3G3M4Sleg, evol3G3M3Sleg,\n",
    "           evol2G2M4Sleg, evol2G2M3Sleg, evol2G2M2Sleg]\n",
    "labels = ['4G4M4S', '3G3M4S', '3G3M3S', '2G2M4S', '2G2M3S', '2G2M2S']\n",
    "\n",
    "ax.legend(handles, labels,\n",
    "          loc='upper center', fontsize='medium', ncol=5,\n",
    "          bbox_to_anchor=(0.5, 1.0, 0.0, 0.15))\n",
    "\n",
    "fig.savefig('../../../Images/pdf/models_mass_hist_SED-nonan_all.pdf',\n",
    "            bbox_inches='tight')\n",
    "fig.savefig('../../../Images/png/models_mass_hist_SED-nonan_all.png',\n",
    "            bbox_inches='tight', dpi=600)"
   ]
  },
  {
   "cell_type": "markdown",
   "metadata": {},
   "source": [
    "### Weird masses to Mat"
   ]
  },
  {
   "cell_type": "code",
   "execution_count": 9,
   "metadata": {},
   "outputs": [],
   "source": [
    "sed = pd.read_csv('../../../Data/mass/SNFactory_SEDfit_Masses.txt')\n",
    "#sed[(sed['mass'] > 8.2) &\n",
    "#    (sed['mass'] < 9.)].to_csv('../../../Data/mass/weird_sedsnf.csv', sep=' ')"
   ]
  },
  {
   "cell_type": "markdown",
   "metadata": {},
   "source": [
    "### Lowz masses to Mat"
   ]
  },
  {
   "cell_type": "code",
   "execution_count": 10,
   "metadata": {},
   "outputs": [],
   "source": [
    "d = pd.read_csv('../../../Data/sne/data_cheat.csv', sep=' ', index_col='CID')\n",
    "lowz_df = d[d['IDSURVEY'].isin([5, 61, 62, 63, 64, 65, 66])]\n",
    "#lowz_df.to_csv('../../../Data/sne/lowz.csv', sep=' ')"
   ]
  }
 ],
 "metadata": {
  "kernelspec": {
   "display_name": "Python 3",
   "language": "python",
   "name": "python3"
  },
  "language_info": {
   "codemirror_mode": {
    "name": "ipython",
    "version": 3
   },
   "file_extension": ".py",
   "mimetype": "text/x-python",
   "name": "python",
   "nbconvert_exporter": "python",
   "pygments_lexer": "ipython3",
   "version": "3.7.12"
  }
 },
 "nbformat": 4,
 "nbformat_minor": 4
}
