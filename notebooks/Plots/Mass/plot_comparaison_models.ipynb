{
 "cells": [
  {
   "cell_type": "markdown",
   "metadata": {},
   "source": [
    "## Modules à importer"
   ]
  },
  {
   "cell_type": "code",
   "execution_count": 1,
   "metadata": {},
   "outputs": [],
   "source": [
    "import math\n",
    "import scipy\n",
    "import pickle\n",
    "import numpy as np\n",
    "import pandas as pd\n",
    "import iminuit as im\n",
    "import ipywidgets as ipw\n",
    "from snprop import age\n",
    "from snprop import survey\n",
    "from variaIa import tools\n",
    "from variaIa.tools import surveys, df_cons, df_nc, df_c, df_full\n",
    "from variaIa import massevol\n",
    "from importlib import reload\n",
    "from variaIa import stretchevol\n",
    "from matplotlib.lines import Line2D\n",
    "from pprint import PrettyPrinter\n",
    "import matplotlib.pyplot as plt\n",
    "plt.rcParams['figure.facecolor'] = 'white'\n",
    "import random"
   ]
  },
  {
   "cell_type": "markdown",
   "metadata": {},
   "source": [
    "## Définitions pandas, surveys et sélection de l'échantillon à utiliser"
   ]
  },
  {
   "cell_type": "code",
   "execution_count": 2,
   "metadata": {
    "jupyter": {
     "source_hidden": true
    }
   },
   "outputs": [
    {
     "data": {
      "application/vnd.jupyter.widget-view+json": {
       "model_id": "5de10fd853264555b678eea263f12640",
       "version_major": 2,
       "version_minor": 0
      },
      "text/plain": [
       "interactive(children=(Checkbox(value=False, description='Conservative'), Dropdown(description='Survey:', optio…"
      ]
     },
     "metadata": {},
     "output_type": "display_data"
    }
   ],
   "source": [
    "def set_survey(cons, su):\n",
    "    global df\n",
    "    if su == 'All':\n",
    "        df = df_cons(cons)\n",
    "    elif 'n' in su:\n",
    "        df = df_cons(cons)[df_cons(cons)['survey'] != su.split('n')[-1]]\n",
    "    else:\n",
    "        df = df_cons(cons)[df_cons(cons)['survey'] == su]\n",
    "    return df\n",
    "\n",
    "int_set_su = ipw.interactive(set_survey, cons=tools.cons, su=tools.su)\n",
    "display(int_set_su)\n",
    "\n",
    "smap = plt.cm.get_cmap('cividis')\n",
    "colors = {'SNF': plt.cm.binary(0.9),\n",
    "          'SDSS': smap(0.1),\n",
    "          'PS1': smap(0.5),\n",
    "          'SNLS': smap(0.8),\n",
    "          'HST': smap(0.99),  # for cividis\n",
    "          #'HST': smap(300)}  # for viridis\n",
    "          'All': (255/255, 51/255, 0/255)} \n",
    "\n",
    "def alphacolors(alpha, survey):\n",
    "    return(colors[survey][0], colors[survey][1], colors[survey][2], alpha)\n",
    "\n",
    "df_nHST = df_nc[df_nc['survey'] != 'HST']"
   ]
  },
  {
   "cell_type": "markdown",
   "metadata": {},
   "source": [
    "### Use SED fitted SNf data"
   ]
  },
  {
   "cell_type": "code",
   "execution_count": 6,
   "metadata": {
    "tags": []
   },
   "outputs": [
    {
     "name": "stderr",
     "output_type": "stream",
     "text": [
      "/home/nicolas/.installs/anaconda3/lib/python3.7/site-packages/ipykernel_launcher.py:7: SettingWithCopyWarning: \n",
      "A value is trying to be set on a copy of a slice from a DataFrame.\n",
      "Try using .loc[row_indexer,col_indexer] = value instead\n",
      "\n",
      "See the caveats in the documentation: https://pandas.pydata.org/pandas-docs/stable/user_guide/indexing.html#returning-a-view-versus-a-copy\n",
      "  import sys\n",
      "/home/nicolas/.installs/anaconda3/lib/python3.7/site-packages/ipykernel_launcher.py:8: SettingWithCopyWarning: \n",
      "A value is trying to be set on a copy of a slice from a DataFrame.\n",
      "Try using .loc[row_indexer,col_indexer] = value instead\n",
      "\n",
      "See the caveats in the documentation: https://pandas.pydata.org/pandas-docs/stable/user_guide/indexing.html#returning-a-view-versus-a-copy\n",
      "  \n"
     ]
    }
   ],
   "source": [
    "sed = pd.read_csv('../../../Data/mass/SNFactory_SEDfit_Masses.txt')\n",
    "sed = sed.loc[sed['name'].str.contains( 'SNF|LSQ|PTF', na=False, regex=True)]\n",
    "sed = sed.rename(columns={'mass': 'hostmass', 'z': 'redshifts'})\n",
    "sed['hostmass_err'] = np.sqrt((sed['mass_uppererr'].values**2 +\n",
    "                               sed['mass_lowerr'].values**2)/2)\n",
    "sedsnf_df = df_nc[df_nc['survey'] == 'SNF']\n",
    "sedsnf_df['hostmass'] = sed['hostmass'].values\n",
    "sedsnf_df['hostmass_err'] = sed['hostmass_err'].values\n",
    "sedsnf_df_nonan = sedsnf_df[~np.isnan(sedsnf_df['hostmass'])]"
   ]
  },
  {
   "cell_type": "code",
   "execution_count": 4,
   "metadata": {
    "tags": []
   },
   "outputs": [
    {
     "data": {
      "text/html": [
       "<div>\n",
       "<style scoped>\n",
       "    .dataframe tbody tr th:only-of-type {\n",
       "        vertical-align: middle;\n",
       "    }\n",
       "\n",
       "    .dataframe tbody tr th {\n",
       "        vertical-align: top;\n",
       "    }\n",
       "\n",
       "    .dataframe thead th {\n",
       "        text-align: right;\n",
       "    }\n",
       "</style>\n",
       "<table border=\"1\" class=\"dataframe\">\n",
       "  <thead>\n",
       "    <tr style=\"text-align: right;\">\n",
       "      <th></th>\n",
       "      <th>HR</th>\n",
       "      <th>HR.err</th>\n",
       "      <th>HR_o</th>\n",
       "      <th>HR_o.err</th>\n",
       "      <th>gmass</th>\n",
       "      <th>gmass.err_down</th>\n",
       "      <th>gmass.err_up</th>\n",
       "      <th>host.zcmb</th>\n",
       "      <th>host.zhelio</th>\n",
       "      <th>host.zhelio.err</th>\n",
       "      <th>...</th>\n",
       "      <th>salt2.Color.err</th>\n",
       "      <th>salt2.CovColorRestFrameMag_0_B</th>\n",
       "      <th>salt2.CovColorX1</th>\n",
       "      <th>salt2.CovRestFrameMag_0_BX1</th>\n",
       "      <th>salt2.RestFrameMag_0_B</th>\n",
       "      <th>salt2.RestFrameMag_0_B.err</th>\n",
       "      <th>salt2.X1</th>\n",
       "      <th>salt2.X1.err</th>\n",
       "      <th>target.dec</th>\n",
       "      <th>target.ra</th>\n",
       "    </tr>\n",
       "  </thead>\n",
       "  <tbody>\n",
       "    <tr>\n",
       "      <th>13</th>\n",
       "      <td>-0.088795</td>\n",
       "      <td>0.136632</td>\n",
       "      <td>0.053230</td>\n",
       "      <td>0.084007</td>\n",
       "      <td>9.746044</td>\n",
       "      <td>0.100261</td>\n",
       "      <td>0.104981</td>\n",
       "      <td>0.028038</td>\n",
       "      <td>0.028107</td>\n",
       "      <td>0.000003</td>\n",
       "      <td>...</td>\n",
       "      <td>0.026816</td>\n",
       "      <td>0.000758</td>\n",
       "      <td>0.000205</td>\n",
       "      <td>0.000760</td>\n",
       "      <td>16.414515</td>\n",
       "      <td>0.032545</td>\n",
       "      <td>-0.296432</td>\n",
       "      <td>0.098238</td>\n",
       "      <td>35.509828</td>\n",
       "      <td>256.801708</td>\n",
       "    </tr>\n",
       "    <tr>\n",
       "      <th>19</th>\n",
       "      <td>0.176499</td>\n",
       "      <td>0.119955</td>\n",
       "      <td>0.425252</td>\n",
       "      <td>0.051994</td>\n",
       "      <td>9.501506</td>\n",
       "      <td>0.100825</td>\n",
       "      <td>0.099668</td>\n",
       "      <td>0.055268</td>\n",
       "      <td>0.055108</td>\n",
       "      <td>0.000083</td>\n",
       "      <td>...</td>\n",
       "      <td>0.027742</td>\n",
       "      <td>0.000822</td>\n",
       "      <td>0.000984</td>\n",
       "      <td>0.001843</td>\n",
       "      <td>18.305349</td>\n",
       "      <td>0.033897</td>\n",
       "      <td>-0.064233</td>\n",
       "      <td>0.170082</td>\n",
       "      <td>21.085342</td>\n",
       "      <td>247.580500</td>\n",
       "    </tr>\n",
       "    <tr>\n",
       "      <th>101</th>\n",
       "      <td>0.068608</td>\n",
       "      <td>0.118604</td>\n",
       "      <td>-0.166689</td>\n",
       "      <td>0.044396</td>\n",
       "      <td>8.540000</td>\n",
       "      <td>0.550000</td>\n",
       "      <td>0.650000</td>\n",
       "      <td>0.072460</td>\n",
       "      <td>0.071820</td>\n",
       "      <td>0.000050</td>\n",
       "      <td>...</td>\n",
       "      <td>0.027046</td>\n",
       "      <td>0.000752</td>\n",
       "      <td>0.000522</td>\n",
       "      <td>0.001322</td>\n",
       "      <td>18.329603</td>\n",
       "      <td>0.032720</td>\n",
       "      <td>0.462326</td>\n",
       "      <td>0.177360</td>\n",
       "      <td>18.853917</td>\n",
       "      <td>224.055542</td>\n",
       "    </tr>\n",
       "    <tr>\n",
       "      <th>107</th>\n",
       "      <td>-0.060055</td>\n",
       "      <td>0.126699</td>\n",
       "      <td>-0.408409</td>\n",
       "      <td>0.065367</td>\n",
       "      <td>8.615152</td>\n",
       "      <td>0.098953</td>\n",
       "      <td>0.098180</td>\n",
       "      <td>0.038349</td>\n",
       "      <td>0.037770</td>\n",
       "      <td>0.000060</td>\n",
       "      <td>...</td>\n",
       "      <td>0.026922</td>\n",
       "      <td>0.000756</td>\n",
       "      <td>0.000721</td>\n",
       "      <td>0.001271</td>\n",
       "      <td>16.650100</td>\n",
       "      <td>0.032481</td>\n",
       "      <td>0.831178</td>\n",
       "      <td>0.172913</td>\n",
       "      <td>4.904703</td>\n",
       "      <td>229.995458</td>\n",
       "    </tr>\n",
       "  </tbody>\n",
       "</table>\n",
       "<p>4 rows × 30 columns</p>\n",
       "</div>"
      ],
      "text/plain": [
       "           HR    HR.err      HR_o  HR_o.err     gmass  gmass.err_down  \\\n",
       "13  -0.088795  0.136632  0.053230  0.084007  9.746044        0.100261   \n",
       "19   0.176499  0.119955  0.425252  0.051994  9.501506        0.100825   \n",
       "101  0.068608  0.118604 -0.166689  0.044396  8.540000        0.550000   \n",
       "107 -0.060055  0.126699 -0.408409  0.065367  8.615152        0.098953   \n",
       "\n",
       "     gmass.err_up  host.zcmb  host.zhelio  host.zhelio.err  ...  \\\n",
       "13       0.104981   0.028038     0.028107         0.000003  ...   \n",
       "19       0.099668   0.055268     0.055108         0.000083  ...   \n",
       "101      0.650000   0.072460     0.071820         0.000050  ...   \n",
       "107      0.098180   0.038349     0.037770         0.000060  ...   \n",
       "\n",
       "     salt2.Color.err  salt2.CovColorRestFrameMag_0_B  salt2.CovColorX1  \\\n",
       "13          0.026816                        0.000758          0.000205   \n",
       "19          0.027742                        0.000822          0.000984   \n",
       "101         0.027046                        0.000752          0.000522   \n",
       "107         0.026922                        0.000756          0.000721   \n",
       "\n",
       "     salt2.CovRestFrameMag_0_BX1  salt2.RestFrameMag_0_B  \\\n",
       "13                      0.000760               16.414515   \n",
       "19                      0.001843               18.305349   \n",
       "101                     0.001322               18.329603   \n",
       "107                     0.001271               16.650100   \n",
       "\n",
       "     salt2.RestFrameMag_0_B.err  salt2.X1  salt2.X1.err  target.dec  \\\n",
       "13                     0.032545 -0.296432      0.098238   35.509828   \n",
       "19                     0.033897 -0.064233      0.170082   21.085342   \n",
       "101                    0.032720  0.462326      0.177360   18.853917   \n",
       "107                    0.032481  0.831178      0.172913    4.904703   \n",
       "\n",
       "      target.ra  \n",
       "13   256.801708  \n",
       "19   247.580500  \n",
       "101  224.055542  \n",
       "107  229.995458  \n",
       "\n",
       "[4 rows x 30 columns]"
      ]
     },
     "execution_count": 4,
     "metadata": {},
     "output_type": "execute_result"
    }
   ],
   "source": [
    "tools.raw_df_snf.iloc[[10, 16, 81, 87]] "
   ]
  },
  {
   "cell_type": "markdown",
   "metadata": {},
   "source": [
    "## Use of `massevol` to determine a mass/age relationship"
   ]
  },
  {
   "cell_type": "code",
   "execution_count": null,
   "metadata": {},
   "outputs": [],
   "source": [
    "im.Minuit().migrad()"
   ]
  },
  {
   "cell_type": "code",
   "execution_count": 9,
   "metadata": {},
   "outputs": [
    {
     "name": "stderr",
     "output_type": "stream",
     "text": [
      "/home/nicolas/.installs/anaconda3/lib/python3.7/site-packages/variaIa-0.8.4-py3.7.egg/variaIa/massevol.py:209: IMinuitWarning: errordef not set, using 1 (appropriate for least-squares)\n",
      "  self.migrad_out = self.m_tot.migrad()\n",
      "/home/nicolas/.installs/anaconda3/lib/python3.7/site-packages/variaIa-0.8.4-py3.7.egg/variaIa/massevol.py:461: RuntimeWarning: invalid value encountered in log\n",
      "  mu_4, sigma_4)))\n",
      "/home/nicolas/.installs/anaconda3/lib/python3.7/site-packages/scipy/stats/_distn_infrastructure.py:1761: RuntimeWarning: invalid value encountered in greater\n",
      "  cond0 = self._argcheck(*args) & (scale > 0)\n",
      "/home/nicolas/.installs/anaconda3/lib/python3.7/site-packages/scipy/stats/_distn_infrastructure.py:1762: RuntimeWarning: invalid value encountered in greater\n",
      "  cond1 = self._support_mask(x, *args) & (scale > 0)\n",
      "/home/nicolas/.installs/anaconda3/lib/python3.7/site-packages/variaIa-0.8.4-py3.7.egg/variaIa/massevol.py:509: RuntimeWarning: invalid value encountered in log\n",
      "  mu_3, sigma_3)))\n"
     ]
    },
    {
     "name": "stdout",
     "output_type": "stream",
     "text": [
      "1G1M1S\n",
      "{'mu': 9.821876257041007, 'sigma': 0.7456061857908033}\n",
      "1G1M2S\n",
      "{'mu': 10.19375682906604,\n",
      " 'sigmadown': 0.9740459104694558,\n",
      " 'sigmaup': 0.4890663837776053}\n",
      "2G2M2S\n",
      "{'mu_1': 9.32233274708354,\n",
      " 'mu_2': 10.341604799516755,\n",
      " 'sigma_1': 0.5819364913116226,\n",
      " 'sigma_2': 0.5095830489223027}\n",
      "2G2M3S\n",
      "{'mu': 10.556195811330182,\n",
      " 'mu_1': 9.336563770080796,\n",
      " 'sigma_1': -0.5837494222832381,\n",
      " 'sigmadown': 0.7034738058948631,\n",
      " 'sigmaup': 0.3426013149768933}\n",
      "3G3M3S\n",
      "{'a': 925917.6559375139,\n",
      " 'mu_1': 1316.6864284007956,\n",
      " 'mu_2': 9.668590788989235,\n",
      " 'mu_3': -9571951.275227265,\n",
      " 'sigma_1': -1705.360413734208,\n",
      " 'sigma_2': -1.4152647633898296,\n",
      " 'sigma_3': 2756516.667309893}\n",
      "3G3M4S\n",
      "{'a': 0.6221392284621564,\n",
      " 'mu': 10.347755135581806,\n",
      " 'mu_1': 9.34205674011098,\n",
      " 'mu_2': 10.581461990023742,\n",
      " 'sigma_1': 0.5773148422742942,\n",
      " 'sigma_2': 0.3521668797294594,\n",
      " 'sigmadown': 0.8541497554537839,\n",
      " 'sigmaup': 5.869224602350918e-05}\n",
      "4G4M4S\n",
      "{'a': 0.5,\n",
      " 'b': 0.5,\n",
      " 'mu_1': 8.5,\n",
      " 'mu_2': 10.0,\n",
      " 'mu_3': 10.342936913153046,\n",
      " 'mu_4': 10.5,\n",
      " 'sigma_1': 0.8600957727021121,\n",
      " 'sigma_2': 0.4829256140484075,\n",
      " 'sigma_3': 0.5,\n",
      " 'sigma_4': 1.0}\n"
     ]
    }
   ],
   "source": [
    "gen = massevol.generic()\n",
    "gen.set_model('Evol4G4M4S')\n",
    "evol4G4M4S = gen.fit(sedsnf_df_nonan)#,\n",
    "                     # limit_a=(0,1),\n",
    "                     # limit_b=(0,1))\n",
    "\n",
    "gen.set_model('Evol3G3M4S')\n",
    "evol3G3M4S = gen.fit(sedsnf_df_nonan)#,\n",
    "                     # limit_a=(0, 1),\n",
    "                     # limit_mu_2=(8, 10),\n",
    "                     # limit_mu=(10, 11))\n",
    "\n",
    "gen.set_model('Evol3G3M3S')\n",
    "evol3G3M3S = gen.fit(sedsnf_df_nonan)#,\n",
    "                     # limit_a=(0,1),\n",
    "                     # limit_sigma_2=(0, 3))#,\n",
    "                     # limit_sigma_3=(0.2, 3))\n",
    "\n",
    "gen.set_model('Evol2G2M3S')\n",
    "evol2G2M3S = gen.fit(sedsnf_df_nonan)#,\n",
    "                     # limit_sigma_1=(0, 3))\n",
    "\n",
    "gen.set_model('Evol2G2M2S')\n",
    "evol2G2M2S = gen.fit(sedsnf_df_nonan)\n",
    "\n",
    "gen.set_model('Evol1G1M2S')\n",
    "evol1G1M2S = gen.fit(sedsnf_df_nonan)\n",
    "\n",
    "gen.set_model('Evol1G1M1S')\n",
    "evol1G1M1S = gen.fit(sedsnf_df_nonan)\n",
    "\n",
    "mod_list = [evol1G1M1S, evol1G1M2S, evol2G2M2S, evol2G2M3S, evol3G3M3S, evol3G3M4S, evol4G4M4S]\n",
    "mod_name = ['Evol'+mod.__doc__ for mod in mod_list]\n",
    "\n",
    "pp = PrettyPrinter()\n",
    "for mod in mod_list:\n",
    "    print(mod.__doc__)\n",
    "    pp.pprint(mod.param)"
   ]
  },
  {
   "cell_type": "code",
   "execution_count": 14,
   "metadata": {},
   "outputs": [
    {
     "name": "stdout",
     "output_type": "stream",
     "text": [
      "Evol1G1M1S\n",
      "Evol1G1M2S\n",
      "Evol2G2M2S\n",
      "Evol2G2M3S\n",
      "Evol3G3M3S\n",
      "Evol3G3M4S\n",
      "Evol4G4M4S\n"
     ]
    }
   ],
   "source": [
    "for name, model in zip(mod_name[:2], mod_list[:2]):\n",
    "    fig = plt.figure(figsize=[7, 3.5], facecolor='w')\n",
    "    ax = fig.add_axes([0.1, 0.12, 0.62, 0.8])\n",
    "    \n",
    "    print(name)\n",
    "    model.show_model_tot(ax=ax)\n",
    "    plt.title(model.__doc__)\n",
    "    plt.close()\n",
    "    \n",
    "    fig.savefig('../../../Images/pdf/model_mass_' + model.__doc__ + '_SED-nonan.pdf',\n",
    "                bbox_inches='tight')\n",
    "    fig.savefig('../../../Images/png/model_mass_' + model.__doc__ + '_SED-nonan.png',\n",
    "                bbox_inches='tight', dpi=600)\n",
    "    \n",
    "for name, model in zip(mod_name[2:], mod_list[2:]):\n",
    "    fig = plt.figure(figsize=[7, 3.5], facecolor='w')\n",
    "    ax = fig.add_axes([0.1, 0.12, 0.62, 0.8])\n",
    "    axh = fig.add_axes([0.75, 0.12, 0.2, 0.8])\n",
    " \n",
    "    print(name)\n",
    "    # gen.set_model(name)\n",
    "    # mod = gen.model(snf_sed_nonan)\n",
    "    # mod.param = model.param\n",
    "    model.scatter(ax=ax, model=False)\n",
    "    model.show_hist(ax=axh, bins=15)\n",
    "    model.show_model(ax=axh,\n",
    "                   o_factor=-model.amp*np.sum(1-model.py),\n",
    "                   y_factor=model.amp*np.sum(model.py),\n",
    "                   facealpha=0, edgealpha=1, lw=1, zorder=8)\n",
    "    \n",
    "    axh.set_ylim(*ax.get_ylim())\n",
    "    axh.set_yticks([])\n",
    "    axh.set_xticks([])\n",
    "    \n",
    "    axh.axvline(0, color='k', lw=1, zorder=10)\n",
    "    \n",
    "    axh.set_frame_on(False)\n",
    "    \n",
    "    plt.suptitle(model.__doc__)\n",
    "    plt.close()\n",
    "\n",
    "    fig.savefig('../../../Images/pdf/model_mass_' + model.__doc__ + '_hist_SED-nonan.pdf',\n",
    "                bbox_inches='tight')\n",
    "    fig.savefig('../../../Images/png/model_mass_' + model.__doc__ + '_hist_SED-nonan.png',\n",
    "                bbox_inches='tight', dpi=600)"
   ]
  },
  {
   "cell_type": "code",
   "execution_count": 25,
   "metadata": {},
   "outputs": [
    {
     "data": {
      "image/png": "[encoded data removed]",
      "text/plain": [
       "<Figure size 720x360 with 1 Axes>"
      ]
     },
     "metadata": {},
     "output_type": "display_data"
    }
   ],
   "source": [
    "fig = plt.figure(figsize=[10, 5], facecolor='w')\n",
    "ax = fig.add_axes([0.1, 0.12, 0.62, 0.8])\n",
    "evol4G4M4S.scatter(model=False, ax=ax)\n",
    "#evol4G4M4S.show_hist(ax, yotext=False, alpha=.1)\n",
    "evol4G4M4S.show_model(ax, shift=-10.82,\n",
    "                      fco=plt.cm.turbo(0.1, 0.05), eco=plt.cm.turbo(0.1, 0.9),\n",
    "                      fcy=plt.cm.turbo(0.1, 0.05), ecy=plt.cm.turbo(0.1, 0.9))\n",
    "                      #o_factor=-evol4G4M4S.amp*np.sum(1-evol4G4M4S.py),\n",
    "                      #y_factor=evol4G4M4S.amp*np.sum(evol4G4M4S.py))\n",
    "#evol3G3M4S.show_hist(ax, yotext=False, alpha=0)\n",
    "evol3G3M4S.show_model(ax, shift=-10.82,\n",
    "                      fco=plt.cm.turbo(0.3, 0.05), eco=plt.cm.turbo(0.3, 0.9),\n",
    "                      fcy=plt.cm.turbo(0.3, 0.05), ecy=plt.cm.turbo(0.3, 0.9))\n",
    "                      #o_factor=-evol3G3M4S.amp*np.sum(1-evol3G3M4S.py),\n",
    "                      #y_factor=evol3G3M4S.amp*np.sum(evol3G3M4S.py))\n",
    "#evol3G3M3S.show_hist(ax, yotext=False, alpha=0)\n",
    "evol3G3M3S.show_model(ax, shift=-10.82,\n",
    "                      fco=plt.cm.turbo(0.5, 0.05), eco=plt.cm.turbo(0.5, 0.9),\n",
    "                      fcy=plt.cm.turbo(0.5, 0.05), ecy=plt.cm.turbo(0.5, 0.9))\n",
    "                      #o_factor=-evol3G3M3S.amp*np.sum(1-evol3G3M3S.py),\n",
    "                      #y_factor=evol3G3M3S.amp*np.sum(evol3G3M3S.py))\n",
    "#evol2G2M3S.show_hist(ax, yotext=False, alpha=0)\n",
    "evol2G2M3S.show_model(ax, shift=-10.82,\n",
    "                      fco=plt.cm.turbo(0.7, 0.05), eco=plt.cm.turbo(0.7, 0.9),\n",
    "                      fcy=plt.cm.turbo(0.7, 0.05), ecy=plt.cm.turbo(0.7, 0.9))\n",
    "                      #o_factor=-evol2G2M3S.amp*np.sum(1-evol2G2M3S.py),\n",
    "                      #y_factor=evol2G2M3S.amp*np.sum(evol2G2M3S.py))\n",
    "#evol2G2M2S.show_hist(ax, yotext=False, alpha=0)\n",
    "evol2G2M2S.show_model(ax, shift=-10.82,\n",
    "                      fco=plt.cm.turbo(0.9, 0.05), eco=plt.cm.turbo(0.9, 0.9),\n",
    "                      fcy=plt.cm.turbo(0.9, 0.05), ecy=plt.cm.turbo(0.9, 0.9))\n",
    "                      #o_factor=-evol2G2M2S.amp*np.sum(1-evol2G2M2S.py),\n",
    "                      #y_factor=evol2G2M2S.amp*np.sum(evol2G2M2S.py))\n",
    "\n",
    "from matplotlib.lines import Line2D\n",
    "\n",
    "evol4G4M4Sleg = Line2D([0], [0], marker='o',\n",
    "                       color=plt.cm.turbo(0.1,0.9), linewidth=0)\n",
    "evol3G3M4Sleg = Line2D([0], [0], marker='o',\n",
    "                       color=plt.cm.turbo(0.3,0.9), linewidth=0)\n",
    "evol3G3M3Sleg = Line2D([0], [0], marker='o',\n",
    "                       color=plt.cm.turbo(0.5,0.9), linewidth=0)\n",
    "evol2G2M3Sleg = Line2D([0], [0], marker='o',\n",
    "                       color=plt.cm.turbo(0.7,0.9), linewidth=0)\n",
    "evol2G2M2Sleg = Line2D([0], [0], marker='o',\n",
    "                       color=plt.cm.turbo(0.9,0.9), linewidth=0)\n",
    "handles = [evol4G4M4Sleg, evol3G3M4Sleg, evol2G2M3Sleg, evol2G2M3Sleg, evol2G2M2Sleg]\n",
    "labels = ['4G4M4S', '3G3M4S', '3G3M3S', '2G2M3S', '2G2M2S']\n",
    "\n",
    "ax.legend(handles, labels,\n",
    "          loc='upper center', fontsize='medium', ncol=5,\n",
    "          bbox_to_anchor=(0.5, 1.0, 0.0, 0.15))\n",
    "\n",
    "fig.savefig('../../../Images/pdf/models_mass_hist_SED-nonan.pdf',\n",
    "            bbox_inches='tight')\n",
    "fig.savefig('../../../Images/png/models_mass_hist_SED-nonan.png',\n",
    "            bbox_inches='tight', dpi=600)"
   ]
  },
  {
   "cell_type": "markdown",
   "metadata": {},
   "source": [
    "### Weird masses to Mat"
   ]
  },
  {
   "cell_type": "code",
   "execution_count": 32,
   "metadata": {},
   "outputs": [],
   "source": [
    "sed = pd.read_csv('../../../Data/mass/SNFactory_SEDfit_Masses.txt')\n",
    "#sed[(sed['mass'] > 8.2) &\n",
    "#    (sed['mass'] < 9.)].to_csv('../../../Data/mass/weird_sedsnf.csv', sep=' ')"
   ]
  },
  {
   "cell_type": "markdown",
   "metadata": {},
   "source": [
    "### Lowz masses to Mat"
   ]
  },
  {
   "cell_type": "code",
   "execution_count": 30,
   "metadata": {},
   "outputs": [],
   "source": [
    "d = pd.read_csv('../../../Data/sne/data_cheat.csv', sep=' ', index_col='CID')\n",
    "lowz_df = d[d['IDSURVEY'].isin([5, 61, 62, 63, 64, 65, 66])]\n",
    "lowz_df.to_csv('../../../Data/sne/lowz.csv', sep=' ')"
   ]
  }
 ],
 "metadata": {
  "kernelspec": {
   "display_name": "Python 3",
   "language": "python",
   "name": "python3"
  },
  "language_info": {
   "codemirror_mode": {
    "name": "ipython",
    "version": 3
   },
   "file_extension": ".py",
   "mimetype": "text/x-python",
   "name": "python",
   "nbconvert_exporter": "python",
   "pygments_lexer": "ipython3",
   "version": "3.7.12"
  }
 },
 "nbformat": 4,
 "nbformat_minor": 4
}
