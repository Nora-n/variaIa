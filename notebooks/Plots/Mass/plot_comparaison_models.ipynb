{
 "cells": [
  {
   "cell_type": "markdown",
   "metadata": {},
   "source": [
    "## Modules à importer"
   ]
  },
  {
   "cell_type": "code",
   "execution_count": 1,
   "metadata": {
    "jupyter": {
     "source_hidden": true
    }
   },
   "outputs": [],
   "source": [
    "import math\n",
    "import scipy\n",
    "import pickle\n",
    "import numpy as np\n",
    "import pandas as pd\n",
    "import iminuit as im\n",
    "import ipywidgets as ipw\n",
    "from snprop import age\n",
    "from snprop import survey\n",
    "from variaIa import tools\n",
    "from variaIa.tools import surveys, df_cons, df_nc, df_c, df_full\n",
    "from variaIa import massevol\n",
    "from importlib import reload\n",
    "from variaIa import stretchevol\n",
    "from matplotlib.lines import Line2D\n",
    "from pprint import PrettyPrinter\n",
    "import matplotlib.pyplot as plt\n",
    "import random"
   ]
  },
  {
   "cell_type": "markdown",
   "metadata": {},
   "source": [
    "## Définitions pandas, surveys et sélection de l'échantillon à utiliser"
   ]
  },
  {
   "cell_type": "code",
   "execution_count": 2,
   "metadata": {},
   "outputs": [
    {
     "data": {
      "application/vnd.jupyter.widget-view+json": {
       "model_id": "6e09d04a40864b8da4c9af2343d8f04a",
       "version_major": 2,
       "version_minor": 0
      },
      "text/plain": [
       "interactive(children=(Checkbox(value=False, description='Conservative'), Dropdown(description='Survey:', optio…"
      ]
     },
     "metadata": {},
     "output_type": "display_data"
    }
   ],
   "source": [
    "def set_survey(cons, su):\n",
    "    global df\n",
    "    if su == 'All':\n",
    "        df = df_cons(cons)\n",
    "    elif 'n' in su:\n",
    "        df = df_cons(cons)[df_cons(cons)['survey'] != su.split('n')[-1]]\n",
    "    else:\n",
    "        df = df_cons(cons)[df_cons(cons)['survey'] == su]\n",
    "    return df\n",
    "\n",
    "int_set_su = ipw.interactive(set_survey, cons=tools.cons, su=tools.su)\n",
    "display(int_set_su)\n",
    "\n",
    "smap = plt.cm.get_cmap('cividis')\n",
    "colors = {'SNF': plt.cm.binary(0.9),\n",
    "          'SDSS': smap(0.1),\n",
    "          'PS1': smap(0.5),\n",
    "          'SNLS': smap(0.8),\n",
    "          'HST': smap(0.99),  # for cividis\n",
    "          #'HST': smap(300)}  # for viridis\n",
    "          'All': (255/255, 51/255, 0/255)} \n",
    "\n",
    "def alphacolors(alpha, survey):\n",
    "    return(colors[survey][0], colors[survey][1], colors[survey][2], alpha)\n",
    "\n",
    "df_nHST = df_nc[df_nc['survey'] != 'HST']"
   ]
  },
  {
   "cell_type": "markdown",
   "metadata": {},
   "source": [
    "## Use of `massevol` to determine a mass/age relationship"
   ]
  },
  {
   "cell_type": "code",
   "execution_count": 3,
   "metadata": {},
   "outputs": [
    {
     "name": "stderr",
     "output_type": "stream",
     "text": [
      "/home/nicolas/.installs/anaconda3/lib/python3.7/site-packages/pandas/core/series.py:853: RuntimeWarning: divide by zero encountered in log\n",
      "  result = getattr(ufunc, method)(*inputs, **kwargs)\n"
     ]
    },
    {
     "name": "stdout",
     "output_type": "stream",
     "text": [
      "Gaussian\n",
      "{'mu': 9.899600471198278, 'sigma': 0.816644619857764}\n",
      "Asym\n",
      "{'mu': 10.495149912291202,\n",
      " 'sigmadown': 1.157631431963404,\n",
      " 'sigmaup': 0.4171284597726203}\n",
      "2G2M2S\n",
      "{'mu_1': 9.355305737211426,\n",
      " 'mu_2': 10.58210079108396,\n",
      " 'sigma_1': 0.6433441769250937,\n",
      " 'sigma_2': -0.38393439486087133}\n",
      "2G2M3S\n",
      "{'mu': 10.67620053469842,\n",
      " 'mu_1': 9.368589148610129,\n",
      " 'sigma_1': -0.6535418908596325,\n",
      " 'sigmadown': 0.5400359966320671,\n",
      " 'sigmaup': 0.3491354618293428}\n",
      "3G3M3S\n",
      "{'a': 0.902710356796472,\n",
      " 'mu_1': 9.42435033203514,\n",
      " 'mu_2': 10.59321817727873,\n",
      " 'mu_3': 8.74496390066,\n",
      " 'sigma_1': 0.6352164641545026,\n",
      " 'sigma_2': 0.3739487056160915,\n",
      " 'sigma_3': 0.42788950723936164}\n",
      "3G3M4S\n",
      "{'a': 0.20406215756841461,\n",
      " 'mu': 10.654561570801503,\n",
      " 'mu_1': 9.417915376919256,\n",
      " 'mu_2': 9.77714568581221,\n",
      " 'sigma_1': 0.6371659572533067,\n",
      " 'sigma_2': 1.0585822206877296,\n",
      " 'sigmadown': 0.36535052704112453,\n",
      " 'sigmaup': 0.28408381713363023}\n"
     ]
    }
   ],
   "source": [
    "gen = massevol.generic()\n",
    "gen.set_model('Evol3G3M4S')\n",
    "evol3G3M4S = gen.fit(df, limit_a=(0, 1), limit_mu_2=(8, 10), limit_mu=(10, 11))\n",
    "\n",
    "gen.set_model('Evol3G3M3S')\n",
    "evol3G3M3S = gen.fit(df, limit_a=(0,1))\n",
    "\n",
    "gen.set_model('Evol2G2M3S')\n",
    "evol2G2M3S = gen.fit(df)\n",
    "\n",
    "gen.set_model('Evol2G2M2S')\n",
    "evol2G2M2S = gen.fit(df)\n",
    "\n",
    "gen.set_model('Evol1G1M2S')\n",
    "evol1G1M2S = gen.fit(df)\n",
    "\n",
    "gen.set_model('Evol1G1M1S')\n",
    "evol1G1M1S = gen.fit(df)\n",
    "\n",
    "mod_list = [evol1G1M1S, evol1G1M2S, evol2G2M2S, evol2G2M3S, evol3G3M3S, evol3G3M4S]\n",
    "mod_name = ['Evol'+mod.__doc__ for mod in mod_list]\n",
    "\n",
    "pp = PrettyPrinter()\n",
    "for mod in mod_list:\n",
    "    print(mod.__doc__)\n",
    "    pp.pprint(mod.param)"
   ]
  },
  {
   "cell_type": "code",
   "execution_count": 70,
   "metadata": {},
   "outputs": [
    {
     "name": "stdout",
     "output_type": "stream",
     "text": [
      "Evol2G2M2S\n",
      "Evol2G2M3S\n",
      "Evol3G3M3S\n",
      "Evol3G3M4S\n"
     ]
    }
   ],
   "source": [
    "for name, model in zip(mod_name[2:], mod_list[2:]):\n",
    "    fig = plt.figure(figsize=[7, 3.5])\n",
    "    ax = fig.add_axes([0.1, 0.12, 0.62, 0.8])\n",
    "    axh = fig.add_axes([0.75, 0.12, 0.2, 0.8])\n",
    " \n",
    "    print(name)\n",
    "    gen.set_model(name)\n",
    "    mod = gen.model(df)\n",
    "    mod.param = model.param\n",
    "    mod.scatter(ax=ax, model=False)\n",
    "    mod.show_hist(ax=axh)\n",
    "    mod.show_model(ax=axh,\n",
    "                   o_factor=-mod.amp*np.sum(1-mod.py),\n",
    "                   y_factor=mod.amp*np.sum(mod.py),\n",
    "                   facealpha=0, edgealpha=1, lw=1, zorder=8)\n",
    "    \n",
    "    axh.set_ylim(*ax.get_ylim())\n",
    "    axh.set_yticks([])\n",
    "    axh.set_xticks([])\n",
    "    \n",
    "    axh.axvline(0, color='k', lw=1, zorder=10)\n",
    "    \n",
    "    axh.set_frame_on(False)\n",
    "    \n",
    "    plt.close()\n",
    "\n",
    "    fig.savefig('../../../Images/pdf/model_mass_' + mod.__doc__ + '_hist.pdf',\n",
    "                bbox_inches='tight')\n",
    "    #fig.savefig('../../../Images/png/model_mass_' + mod.__doc__ + '_hist.png',\n",
    "    #            bbox_inches='tight', dpi=600)\n",
    "    "
   ]
  },
  {
   "cell_type": "markdown",
   "metadata": {},
   "source": [
    "## Individual mass histogram"
   ]
  },
  {
   "cell_type": "code",
   "execution_count": 7,
   "metadata": {
    "collapsed": true,
    "jupyter": {
     "outputs_hidden": true,
     "source_hidden": true
    }
   },
   "outputs": [
    {
     "data": {
      "text/plain": [
       "Text(0, 0.5, '$\\\\mathrm{N}_\\\\mathrm{SNe Ia}$ ')"
      ]
     },
     "execution_count": 7,
     "metadata": {},
     "output_type": "execute_result"
    },
    {
     "data": {
      "image/png": "[encoded data removed]",
      "text/plain": [
       "<Figure size 360x216 with 1 Axes>"
      ]
     },
     "metadata": {
      "needs_background": "light"
     },
     "output_type": "display_data"
    }
   ],
   "source": [
    "fig = plt.figure(figsize=[5, 3])\n",
    "ax = fig.add_axes([0.1, 0.12, 0.8, 0.8])\n",
    "\n",
    "ax.hist(df.hostmass,\n",
    "        range=[5, 13], bins=15,\n",
    "        histtype='stepfilled',\n",
    "        color=colors[tools.su.value],\n",
    "        alpha=.5, lw=2, label=tools.su.value)\n",
    "\n",
    "ax.tick_params(labelsize=12)\n",
    "\n",
    "ax.legend()\n",
    "\n",
    "ax.set_xlabel(r\"$\\mathrm{M}_\\mathrm{host}$\", fontsize=\"x-large\")\n",
    "ax.set_ylabel(r\"$\\mathrm{N}_\\mathrm{SNe Ia}$ \", fontsize=\"x-large\")"
   ]
  },
  {
   "cell_type": "markdown",
   "metadata": {},
   "source": [
    "### Means of each"
   ]
  },
  {
   "cell_type": "code",
   "execution_count": 8,
   "metadata": {
    "collapsed": true,
    "jupyter": {
     "outputs_hidden": true,
     "source_hidden": true
    }
   },
   "outputs": [
    {
     "name": "stdout",
     "output_type": "stream",
     "text": [
      "Survey: SNF Mean: 9.876485910136639 std: 0.8332716664933211\n",
      "Survey: SDSS Mean: 10.327451612903229 std: 0.7088936786702846\n",
      "Survey: PS1 Mean: 10.154978571428567 std: 0.9427213093000224\n",
      "Survey: SNLS Mean: 9.81382 std: 0.9153911992148492\n",
      "Survey: All Mean: 10.077460871840966 Std: 0.8535895436547255\n"
     ]
    }
   ],
   "source": [
    "for survey in surveys[:-1]:\n",
    "    df_temp = set_survey(0, survey)\n",
    "    print('Survey:', survey,\n",
    "          'Mean:', np.mean(df_temp[df_temp['hostmass'] > 6]['hostmass']),\n",
    "          'std:', np.std(df_temp[df_temp['hostmass'] > 6]['hostmass']))\n",
    "print('Survey:', 'All',\n",
    "      'Mean:', np.mean(df_nc[df_nc['hostmass'] > 6]['hostmass']),\n",
    "      'Std:', np.std(df_nc[df_nc['hostmass'] > 6]['hostmass']))"
   ]
  },
  {
   "cell_type": "markdown",
   "metadata": {},
   "source": [
    "## Total mass fitting tests"
   ]
  },
  {
   "cell_type": "markdown",
   "metadata": {},
   "source": [
    "## One Gauss"
   ]
  },
  {
   "cell_type": "code",
   "execution_count": 16,
   "metadata": {
    "jupyter": {
     "source_hidden": true
    }
   },
   "outputs": [
    {
     "data": {
      "text/plain": [
       "<ValueView of Minuit at 56468a2ca510>\n",
       "  mu: -0.00030893241013408386\n",
       "  sigma: 0.06391450800329923"
      ]
     },
     "execution_count": 16,
     "metadata": {},
     "output_type": "execute_result"
    }
   ],
   "source": [
    "def gauss(c, dc, mu, sigma, normed=True):\n",
    "    '''Le modèle de distribution'''\n",
    "    sigma_eff = np.sqrt(dc**2+sigma**2)\n",
    "    norm = 1 if normed else np.sqrt(2*np.pi)*sigma_eff\n",
    "    return norm*scipy.stats.norm.pdf(c, mu, scale=sigma_eff)\n",
    "\n",
    "def loglikelihood_gauss(mu, sigma):\n",
    "    '''La fonction à minimiser'''\n",
    "    return -2*np.sum(np.log(gauss(df.colors, df.colors_err,\n",
    "                                  mu, sigma)))\n",
    "\n",
    "def minimize_gauss(print_level=0, **kwargs):\n",
    "    '''Renvoie la meilleure valeur des paramètres'''\n",
    "    m_tot = im.Minuit(loglikelihood_gauss,\n",
    "                      print_level=print_level,\n",
    "                      pedantic=False,\n",
    "                      mu=0, sigma=1,\n",
    "                      **kwargs)\n",
    "    migrad_out = m_tot.migrad()\n",
    "    return(m_tot)\n",
    "\n",
    "bestfit_gauss = minimize_gauss().values\n",
    "bestfit_gauss"
   ]
  },
  {
   "cell_type": "code",
   "execution_count": 3,
   "metadata": {},
   "outputs": [
    {
     "name": "stdout",
     "output_type": "stream",
     "text": [
      "{'mu': 10.121863006396344, 'sigma': 0.8118852237092443}\n"
     ]
    },
    {
     "data": {
      "image/png": "[encoded data removed]",
      "text/plain": [
       "<Figure size 504x252 with 1 Axes>"
      ]
     },
     "metadata": {
      "needs_background": "light"
     },
     "output_type": "display_data"
    }
   ],
   "source": [
    "gen = massevol.generic()\n",
    "gen.set_model('Evol1G1M1S')\n",
    "mean_test = gen.fit(df_nc[df_nc['hostmass'] > 7])\n",
    "\n",
    "print(mean_test.param)\n",
    "mean_test.show_model_tot()"
   ]
  },
  {
   "cell_type": "markdown",
   "metadata": {},
   "source": [
    "### One asym"
   ]
  },
  {
   "cell_type": "code",
   "execution_count": 18,
   "metadata": {
    "jupyter": {
     "source_hidden": true
    }
   },
   "outputs": [
    {
     "name": "stderr",
     "output_type": "stream",
     "text": [
      "/home/nicolas/.installs/anaconda3/lib/python3.7/site-packages/ipykernel_launcher.py:23: RuntimeWarning: divide by zero encountered in log\n"
     ]
    },
    {
     "data": {
      "text/plain": [
       "<ValueView of Minuit at 564689c7cf50>\n",
       "  mu: -0.032727889743877754\n",
       "  sigma_m: 0.04583173064572729\n",
       "  sigma_p: 0.08862562820582792"
      ]
     },
     "execution_count": 18,
     "metadata": {},
     "output_type": "execute_result"
    }
   ],
   "source": [
    "def gauss(M, mu, sigma, normed=True):\n",
    "    '''Le modèle de distribution'''\n",
    "    sigma_eff = np.sqrt(sigma**2)\n",
    "    norm = 1 if normed else np.sqrt(2*np.pi)*sigma_eff\n",
    "    return norm*scipy.stats.norm.pdf(M, mu, scale=sigma_eff)\n",
    "\n",
    "def likelihood_asym(M, mu, sigma_m, sigma_p):\n",
    "    '''La fonction prenant en compte la probabilité d'être vieille/jeune'''\n",
    "    flag_up = M >= mu\n",
    "    likelihood = np.zeros(len(M))\n",
    "    likelihood[flag_up] = gauss(M[flag_up],\n",
    "                                mu, sigma_p, normed=False)\n",
    "    likelihood[~flag_up] = gauss(M[~flag_up],\n",
    "                                 mu, sigma_m, normed=False)\n",
    "    norm = np.sqrt(2*np.pi)*(0.5*np.sqrt(sigma_m**2)\n",
    "                             + 0.5*np.sqrt(sigma_p**2))\n",
    "    return likelihood/norm\n",
    "\n",
    "def loglikelihood_asym(mu, sigma_m, sigma_p):\n",
    "    '''La fonction à minimiser'''\n",
    "    return -2*np.sum(np.log(likelihood_asym(df_nHST[df_nHST['hostmass'] > 7].hostmass,\n",
    "                                            mu,\n",
    "                                            sigma_m, sigma_p)))\n",
    "\n",
    "def minimize_asym(print_level=0, **kwargs):\n",
    "    '''Renvoie la meilleure valeur des paramètres'''\n",
    "    m_tot = im.Minuit(loglikelihood_asym,\n",
    "                      print_level=print_level,\n",
    "                      pedantic=False,\n",
    "                      mu=10, sigma_m=2, sigma_p=1,\n",
    "                      **kwargs)\n",
    "    migrad_out = m_tot.migrad()\n",
    "    return(m_tot)\n",
    "\n",
    "bestfit_asym = minimize_asym().values\n",
    "bestfit_asym"
   ]
  },
  {
   "cell_type": "markdown",
   "metadata": {},
   "source": [
    "### One asym one Gauss"
   ]
  },
  {
   "cell_type": "code",
   "execution_count": 20,
   "metadata": {},
   "outputs": [],
   "source": [
    "def likelihood_gauss(M, mu_2, sigma_2):\n",
    "    '''La fonction décrivant le modèle des SNe vieilles'''\n",
    "    return gauss(M, mu_2, sigma_2)\n",
    "                                                                            \n",
    "def likelihood_asymgauss(a, M, mu, sigma_m, sigma_p, mu_2, sigma_2):\n",
    "    '''La fonction prenant en compte la probabilité d'être vieille/jeune'''\n",
    "    return a*likelihood_asym(M, mu, sigma_m, sigma_p) + \\\n",
    "        (1-a)*likelihood_gauss(M, mu_2, sigma_2)\n",
    "                                                                            \n",
    "def loglikelihood_asymgauss(a, mu, sigma_m, sigma_p, mu_2, sigma_2):\n",
    "    '''La fonction à minimiser'''\n",
    "    return -2*np.sum(np.log(likelihood_asymgauss(a,\n",
    "                                                 df_nHST[df_nHST['hostmass'] > 7].hostmass,\n",
    "                                                 mu, sigma_m, sigma_p,\n",
    "                                                 mu_2, sigma_2)))\n",
    "\n",
    "def minimize_asymgauss(print_level=0, **kwargs):\n",
    "    '''Renvoie la meilleure valeur des paramètres'''\n",
    "    m_tot = im.Minuit(loglikelihood_asymgauss,\n",
    "                      print_level=print_level,\n",
    "                      pedantic=False,\n",
    "                      a=0.5,\n",
    "                      mu=8, sigma_m=1, sigma_p=0.5,\n",
    "                      mu_2=11, sigma_2=1,\n",
    "                      **kwargs)\n",
    "    migrad_out = m_tot.migrad()\n",
    "    return(m_tot)\n",
    "\n",
    "bestfit_asymgauss = minimize_asymgauss().values"
   ]
  },
  {
   "cell_type": "markdown",
   "metadata": {},
   "source": [
    "### Plotting the tests"
   ]
  },
  {
   "cell_type": "code",
   "execution_count": 21,
   "metadata": {
    "collapsed": true,
    "jupyter": {
     "outputs_hidden": true
    }
   },
   "outputs": [
    {
     "data": {
      "image/png": "[encoded data removed]",
      "text/plain": [
       "<Figure size 576x360 with 1 Axes>"
      ]
     },
     "metadata": {
      "needs_background": "light"
     },
     "output_type": "display_data"
    }
   ],
   "source": [
    "fig = plt.figure(figsize=[8, 5])\n",
    "ax = fig.add_axes([0.1, 0.12, 0.6, 0.5])\n",
    "    \n",
    "stacked_bt = [df_nHST[df_nHST['survey'] == survey].hostmass for survey in surveys[:-1]]\n",
    "hstclrs_bt = [list(alphacolors['5'].values())[i] for i in range(len(surveys[:-1]))]\n",
    "\n",
    "ax.hist(df_nHST.hostmass,\n",
    "        density=True,\n",
    "        bins=10,\n",
    "        histtype='step',\n",
    "        lw=2, color='k',\n",
    "        label='Total')\n",
    "\n",
    "_, rang, _ = ax.hist(stacked_bt,\n",
    "                     density=True,\n",
    "                     stacked=True,\n",
    "                     bins=10,\n",
    "                     histtype='stepfilled',\n",
    "                     color=hstclrs_bt,\n",
    "                     label=surveys)\n",
    "\n",
    "ax.tick_params(labelsize=12)\n",
    "\n",
    "ax.set_xlabel(r'$\\mathrm{M}_\\mathrm{host}$', fontsize = 'x-large')\n",
    "ax.set_ylabel(r\"$\\mathrm{N}_\\mathrm{SNe Ia}$\", fontsize=\"x-large\")\n",
    "\n",
    "ax.legend(loc='upper left', fontsize='medium', ncol=1)\n",
    "\n",
    "path = '../../Images/'\n",
    "name = 'mass-cut_hist_stac'\n",
    "pathpdf = path + 'pdf/' + name + '.pdf'\n",
    "pathpng = path + 'png/' + name + '.png'\n",
    "fig.savefig(pathpdf, bbox_inches='tight')\n",
    "fig.savefig(pathpng, bbox_inches='tight', dpi=600)\n",
    "\n",
    "M_lin = np.linspace(rang[0], 12, 3000)\n",
    "\n",
    "pdf_asymgauss = likelihood_asymgauss(bestfit_asymgauss['a'],\n",
    "                                     M_lin,\n",
    "                                     bestfit_asymgauss['mu'],\n",
    "                                     bestfit_asymgauss['sigma_m'],\n",
    "                                     bestfit_asymgauss['sigma_p'],\n",
    "                                     bestfit_asymgauss['mu_2'],\n",
    "                                     bestfit_asymgauss['sigma_2'])\n",
    "ax.plot(M_lin, pdf_asymgauss,\n",
    "        color='C2', label='Asym Gauss')\n",
    "\n",
    "ax.vline(bestfit_asymgauss['mu'],\n",
    "         color='C2',\n",
    "         ymin=0, ymax=bestfit_asymgauss['a']*\\\n",
    "                      np.max(likelihood_asym(M_lin,\n",
    "                                             bestfit_asymgauss['mu'],\n",
    "                                             bestfit_asymgauss['sigma_m'],\n",
    "                                             bestfit_asymgauss['sigma_p'])))\n",
    "\n",
    "ax.vline(bestfit_asymgauss['mu_2'],\n",
    "         color='C2',\n",
    "         ymin=0, ymax=np.max(pdf_asymgauss))\n",
    "\n",
    "pdf_asym = likelihood_asym(M_lin,\n",
    "                           bestfit_asym['mu'],\n",
    "                           bestfit_asym['sigma_m'],\n",
    "                           bestfit_asym['sigma_p'])\n",
    "\n",
    "ax.plot(M_lin, pdf_asym,\n",
    "        color='C1', label='Asym')\n",
    "ax.vline(bestfit_asym['mu'],\n",
    "         color='C1',\n",
    "         ymin=0, ymax=np.max(pdf_asym))\n",
    "\n",
    "ax.legend(loc='upper left', fontsize='medium', ncol=1)\n",
    "\n",
    "path = '../../Images/'\n",
    "name = 'mass-cut_hist_stac-fit'\n",
    "pathpdf = path + 'pdf/' + name + '.pdf'\n",
    "pathpng = path + 'png/' + name + '.png'\n",
    "fig.savefig(pathpdf, bbox_inches='tight')\n",
    "fig.savefig(pathpng, bbox_inches='tight', dpi=600)"
   ]
  },
  {
   "cell_type": "code",
   "execution_count": null,
   "metadata": {},
   "outputs": [],
   "source": []
  }
 ],
 "metadata": {
  "kernelspec": {
   "display_name": "Python 3",
   "language": "python",
   "name": "python3"
  },
  "language_info": {
   "codemirror_mode": {
    "name": "ipython",
    "version": 3
   },
   "file_extension": ".py",
   "mimetype": "text/x-python",
   "name": "python",
   "nbconvert_exporter": "python",
   "pygments_lexer": "ipython3",
   "version": "3.7.4"
  }
 },
 "nbformat": 4,
 "nbformat_minor": 4
}
