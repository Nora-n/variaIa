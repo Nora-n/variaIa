{
 "cells": [
  {
   "cell_type": "markdown",
   "metadata": {},
   "source": [
    "## Modules à importer"
   ]
  },
  {
   "cell_type": "code",
   "execution_count": 1,
   "metadata": {
    "jupyter": {
     "source_hidden": true
    },
    "tags": []
   },
   "outputs": [],
   "source": [
    "import math\n",
    "import scipy\n",
    "import pickle\n",
    "import numpy as np\n",
    "import pandas as pd\n",
    "import iminuit as im\n",
    "import ipywidgets as ipw\n",
    "from variaIa import tools_ar\n",
    "from variaIa import baserate\n",
    "from importlib import reload\n",
    "from variaIa import stretchevol\n",
    "from scipy.stats import poisson\n",
    "from matplotlib.lines import Line2D\n",
    "from scipy.interpolate import interp1d\n",
    "from matplotlib.patches import Ellipse\n",
    "from astropy.cosmology import Planck15 as cdata\n",
    "from variaIa.tools_ar import surveys, df_cons, df_nc, df_c, df_full, z_max\n",
    "from scipy.ndimage.filters import uniform_filter1d\n",
    "from IPython.display import display, Latex\n",
    "import matplotlib.pyplot as plt\n",
    "plt.rcParams['figure.facecolor'] = 'w'\n",
    "plt.rcParams.update({\n",
    "    \"text.usetex\": True,\n",
    "    \"font.family\": \"EB Garamond\",\n",
    "})\n",
    "    # \"axes.labelsize\": 'x-large',\n",
    "    # \"xtick.labelsize\": 'x-large',\n",
    "    # \"ytick.labelsize\": 'x-large'})\n",
    "import random"
   ]
  },
  {
   "cell_type": "markdown",
   "metadata": {},
   "source": [
    "## Définitions pandas, surveys et sélection de l'échantillon à utiliser"
   ]
  },
  {
   "cell_type": "code",
   "execution_count": 2,
   "metadata": {
    "jupyter": {
     "source_hidden": true
    },
    "tags": []
   },
   "outputs": [
    {
     "data": {
      "application/vnd.jupyter.widget-view+json": {
       "model_id": "9141baac0e3a41719c9c9f5c70aec940",
       "version_major": 2,
       "version_minor": 0
      },
      "text/plain": [
       "HBox(children=(interactive(children=(Checkbox(value=False, description='Conservative'), Dropdown(description='…"
      ]
     },
     "metadata": {},
     "output_type": "display_data"
    }
   ],
   "source": [
    "btw = ipw.Checkbox(\n",
    "    value=False,\n",
    "    description='btw')\n",
    "after = ipw.Checkbox(\n",
    "    value=False,\n",
    "    description='After')\n",
    "\n",
    "def set_survey(cons, su):\n",
    "    global df\n",
    "    if su == 'All':\n",
    "        df = df_cons(cons)\n",
    "    elif 'n' in su:\n",
    "        df = df_cons(cons)[df_cons(cons)['survey'] != su.split('n')[-1]]\n",
    "    else:\n",
    "        df = df_cons(cons)[df_cons(cons)['survey'] == su]\n",
    "    return df\n",
    "\n",
    "int_set_su = ipw.interactive(set_survey, cons=tools_ar.cons, su=tools_ar.su)\n",
    "display(ipw.HBox([int_set_su, btw, after]))\n",
    "\n",
    "smap = plt.cm.get_cmap('cividis')\n",
    "colors = {'SNF': plt.cm.binary(0.9),\n",
    "          'low-z': (1, 0, 0),\n",
    "          'SDSS': smap(0.1),\n",
    "          'PS1': smap(0.5),\n",
    "          'SNLS': smap(0.8),\n",
    "          'HST': smap(0.99),  # for cividis\n",
    "          #'HST': smap(300)}  # for viridis\n",
    "          'All': (255/255, 51/255, 0/255)}\n",
    "\n",
    "def alphacolors(alpha, survey):\n",
    "    return(colors[survey][0], colors[survey][1], colors[survey][2], alpha)\n",
    "\n",
    "df_nHST = df_nc[df_nc['survey'] != 'HST']\n",
    "surveysnl = surveys[0:1]+surveys[2:]"
   ]
  },
  {
   "cell_type": "markdown",
   "metadata": {},
   "source": [
    "## Utilisation de la classe _stretchevol_ pour le fit double total"
   ]
  },
  {
   "cell_type": "code",
   "execution_count": 3,
   "metadata": {},
   "outputs": [
    {
     "name": "stdout",
     "output_type": "stream",
     "text": [
      "<ErrorView aa=0.23181914689103936 mu_1=0.03796254033295066 sigma_1=0.025420654080614554 mu_2=0.11400034713662424 sigma_2=0.06752723930943813>\n"
     ]
    }
   ],
   "source": [
    "evol3G2M2S = stretchevol.Evol3G2M2S(df_nc)\n",
    "\n",
    "#evol3G2M2S.GUESSVAL[3] = -1\n",
    "\n",
    "evol3G2M2S.minimize()\n",
    "\n",
    "print(evol3G2M2S.migrad_out.errors)\n",
    "\n",
    "###################################################\n",
    "\n",
    "evol3G2M2S_cons = stretchevol.Evol3G2M2S(df_c)\n",
    "\n",
    "#evol3G2M2S_cons.GUESSVAL[3] = -1\n",
    "\n",
    "evol3G2M2S_cons.minimize()\n",
    "\n",
    "#evol3G2M2S_cons.migrad_out[1]\n",
    "\n",
    "#evol3G2M2S.plotter()\n",
    "\n",
    "#fig=plt.gcf()\n",
    "#fig.savefig('/home/nora/Pictures/BiGaussian.pdf')"
   ]
  },
  {
   "cell_type": "markdown",
   "metadata": {},
   "source": [
    "## Test without SNf Data"
   ]
  },
  {
   "cell_type": "code",
   "execution_count": 5,
   "metadata": {
    "jupyter": {
     "source_hidden": true
    },
    "tags": []
   },
   "outputs": [],
   "source": [
    "evol3G2M2S_nsnf = stretchevol.Evol3G2M2S()\n",
    "evol3G2M2S_nsnf.set_data(df[df['survey'].isin(['SDSS','PS1','SNLS','HST'])])\n",
    "\n",
    "evol3G2M2S_nsnf.minimize()"
   ]
  },
  {
   "cell_type": "markdown",
   "metadata": {},
   "source": [
    "## Get _a_ and _a-err_"
   ]
  },
  {
   "cell_type": "code",
   "execution_count": 4,
   "metadata": {
    "tags": []
   },
   "outputs": [
    {
     "name": "stdout",
     "output_type": "stream",
     "text": [
      "vmin = 0.431\n",
      "vc = 0.502\n",
      "vmax = 0.574\n",
      "a = 0.502 ^ 0.07 _ -0.07\n",
      "vmin = 0.406\n",
      "vc = 0.466\n",
      "vmax = 0.53\n",
      "a = 0.47 ^ 0.06 _ -0.06\n"
     ]
    }
   ],
   "source": [
    "aa_list = scipy.stats.norm.rvs(loc=evol3G2M2S.migrad_out.values[0],\n",
    "                               scale=evol3G2M2S.migrad_out.errors[0],\n",
    "                               size=10000)\n",
    "a_list = evol3G2M2S.get_a(aa_list)\n",
    "vmin, vc, vmax = np.percentile(a_list, [16, 50, 84])\n",
    "\n",
    "print('vmin =', round(vmin, 3))\n",
    "print('vc =', round(vc, 3))\n",
    "print('vmax =', round(vmax, 3))\n",
    "print('a =', round(vc, 3), '^', round(vmax-vc, 2), '_', round(-(vc-vmin), 2))\n",
    "\n",
    "aa_list = scipy.stats.norm.rvs(loc=evol3G2M2S_cons.migrad_out.values[0],\n",
    "                               scale=evol3G2M2S_cons.migrad_out.errors[0],\n",
    "                               size=10000)\n",
    "a_list = evol3G2M2S_cons.get_a(aa_list)\n",
    "vmin, vc, vmax = np.percentile(a_list, [16, 50, 84])\n",
    "\n",
    "print('vmin =', round(vmin, 3))\n",
    "print('vc =', round(vc, 3))\n",
    "print('vmax =', round(vmax, 3))\n",
    "print('a =', round(vc, 2), '^', round(vmax-vc, 2), '_', round(-(vc-vmin), 2))"
   ]
  },
  {
   "cell_type": "code",
   "execution_count": 42,
   "metadata": {},
   "outputs": [
    {
     "name": "stdout",
     "output_type": "stream",
     "text": [
      "{'aa': 0.01, 'mu_1': 0.37, 'sigma_1': 0.61, 'mu_2': -1.22, 'sigma_2': 0.56}\n",
      "{'aa_err': 0.23, 'mu_1_err': 0.04, 'sigma_1_err': 0.03, 'mu_2_err': 0.11, 'sigma_2_err': 0.07}\n"
     ]
    }
   ],
   "source": [
    "print({p: round(evol3G2M2S.param[p], 2) for p in evol3G2M2S.param.keys()})\n",
    "print({f'{p}_err': round(evol3G2M2S.m_tot.errors[p], 2) for p in evol3G2M2S.param.keys()})"
   ]
  },
  {
   "cell_type": "code",
   "execution_count": 43,
   "metadata": {},
   "outputs": [
    {
     "name": "stdout",
     "output_type": "stream",
     "text": [
      "{'aa': -0.11, 'mu_1': 0.38, 'sigma_1': 0.6, 'mu_2': -1.26, 'sigma_2': 0.53}\n",
      "{'aa_err': 0.2, 'mu_1_err': 0.04, 'sigma_1_err': 0.03, 'mu_2_err': 0.09, 'sigma_2_err': 0.06}\n"
     ]
    }
   ],
   "source": [
    "print({p: round(evol3G2M2S_cons.param[p], 2) for p in evol3G2M2S_cons.param.keys()})\n",
    "print({f'{p}_err': round(evol3G2M2S_cons.m_tot.errors[p], 2) for p in evol3G2M2S_cons.param.keys()})"
   ]
  },
  {
   "cell_type": "markdown",
   "metadata": {},
   "source": [
    "## Utilisation de la classe _stretchevol_ pour le fit double"
   ]
  },
  {
   "cell_type": "code",
   "execution_count": 4,
   "metadata": {},
   "outputs": [],
   "source": [
    "reload(stretchevol)\n",
    "\n",
    "evolSNF = stretchevol.Evol3G2M2S(df)\n",
    "\n",
    "evolSNF.minimize()\n",
    "\n",
    "#fig=plt.gcf()\n",
    "#fig.savefig('/home/nora/Documents/Thèse/Images/BiGaussian.pdf', bbox_inches='tight')"
   ]
  },
  {
   "cell_type": "code",
   "execution_count": 22,
   "metadata": {
    "tags": []
   },
   "outputs": [
    {
     "name": "stdout",
     "output_type": "stream",
     "text": [
      "vmin = 0.425\n",
      "vc = 0.482\n",
      "vmax = 0.54\n",
      "a = 0.48 ^ 0.06 _ -0.06\n"
     ]
    }
   ],
   "source": [
    "aa_list = scipy.stats.norm.rvs(loc=evolSNF.migrad_out.values[0],\n",
    "                               scale=evolSNF.migrad_out.errors[0],\n",
    "                               size=10000)\n",
    "a_list = evolSNF.get_a(aa_list)\n",
    "vmin, vc, vmax = np.percentile(a_list, [16, 50, 84])\n",
    "\n",
    "print('vmin =', round(vmin, 3))\n",
    "print('vc =', round(vc, 3))\n",
    "print('vmax =', round(vmax, 3))\n",
    "print('a =', round(vc, 2), '^', round(vmax-vc, 2), '_', round(-(vc-vmin), 2))"
   ]
  },
  {
   "cell_type": "code",
   "execution_count": 45,
   "metadata": {},
   "outputs": [
    {
     "name": "stdout",
     "output_type": "stream",
     "text": [
      "{'aa': -0.06, 'mu_1': 0.41, 'sigma_1': 0.55, 'mu_2': -1.38, 'sigma_2': 0.44}\n",
      "{'aa_err': 0.18, 'mu_1_err': 0.05, 'sigma_1_err': 0.04, 'mu_2_err': 0.07, 'sigma_2_err': 0.06}\n"
     ]
    }
   ],
   "source": [
    "print({p: round(evolSNF.param[p], 2) for p in evolSNF.param.keys()})\n",
    "print({f'{p}_err': round(evolSNF.m_tot.errors[p], 2) for p in evolSNF.param.keys()})"
   ]
  },
  {
   "cell_type": "markdown",
   "metadata": {},
   "source": [
    "## Défnition _age-law_"
   ]
  },
  {
   "cell_type": "code",
   "execution_count": 5,
   "metadata": {},
   "outputs": [],
   "source": [
    "def delta(z):\n",
    "    return stretchevol.Evol2G2M2S.delta(z)\n",
    "\n",
    "with open('../../../Data/fits/SNF_results', 'rb') as f:\n",
    "    res_SNF = pickle.load(f)\n",
    "\n",
    "def age_law_snf(z):\n",
    "    \"\"\"Analytical law with snf results\"\"\"\n",
    "    return (delta(z)*res_SNF['mu_1'] +\n",
    "        (1-delta(z))*(evol3G2M2S.get_a(res_SNF['aa'])*res_SNF['mu_1']\n",
    "                      + (1-evol3G2M2S.get_a(res_SNF['aa']))*res_SNF['mu_2']))\n",
    "\n",
    "with open('../../../Data/fits/ALL_results', 'rb') as f:\n",
    "    res_ALL = pickle.load(f)\n",
    "\n",
    "def age_law_all(z):\n",
    "    \"\"\"Analytical law with 3G2M2S results\"\"\"\n",
    "    return (delta(z)*res_ALL['mu_1']\n",
    "      + (1-delta(z))*(evol3G2M2S.get_a(res_ALL['aa'])*res_ALL['mu_1']\n",
    "                      + (1 - evol3G2M2S.get_a(res_ALL['aa']))*res_ALL['mu_2']))\n",
    "\n",
    "def age_law_all_nsnf(z):\n",
    "    \"\"\"Analytical law with 3G2M2S results fitted without SNf\"\"\"\n",
    "    return (delta(z)*evol3G2M2S_nsnf.param['mu_1']\n",
    "      + (1-delta(z))*(evol3G2M2S.get_a(evol3G2M2S_nsnf.param['aa'])*evol3G2M2S_nsnf.param['mu_1']\n",
    "                      + (1 - evol3G2M2S.get_a(evol3G2M2S_nsnf.param['aa']))*evol3G2M2S_nsnf.param['mu_2']))\n",
    "\n",
    "def age_law_all_cons(z):\n",
    "    \"\"\"Analytical law with 3G2M2S results\"\"\"\n",
    "    return (delta(z)*evol3G2M2S_cons.param['mu_1']\n",
    "      + (1-delta(z))*(evol3G2M2S.get_a(evol3G2M2S_cons.param['aa'])*evol3G2M2S_cons.param['mu_1']\n",
    "                      + (1 - evol3G2M2S.get_a(evol3G2M2S_cons.param['aa']))*evol3G2M2S_cons.param['mu_2']))\n",
    "\n",
    "def age_law_gen(z, param_hesse):\n",
    "    \"\"\"Function to get laws with parameters taken wrt there hesse error\"\"\"\n",
    "    return (delta(z)*param_hesse[1]\n",
    "      + (1-delta(z))*(evol3G2M2S.get_a(param_hesse[0])*param_hesse[1]\n",
    "                      + (1 - evol3G2M2S.get_a(param_hesse[0]))*param_hesse[2]))"
   ]
  },
  {
   "cell_type": "markdown",
   "metadata": {},
   "source": [
    "## Définition de _cov_ pour sélection aléatoire des paramètres"
   ]
  },
  {
   "cell_type": "code",
   "execution_count": 6,
   "metadata": {},
   "outputs": [],
   "source": [
    "# cov = im.Minuit.matrix(evol3G2M2S.m_tot)\n",
    "cov = evol3G2M2S.m_tot.covariance\n",
    "mean = [evol3G2M2S.m_tot.values[i] for i in range(5)]\n",
    "param_hesse_mat = scipy.stats.multivariate_normal.rvs(mean=mean, cov=cov, size=500)\n",
    "\n",
    "# cov_cons = im.Minuit.matrix(evol3G2M2S_cons.m_tot)\n",
    "cov_cons = evol3G2M2S_cons.m_tot.covariance\n",
    "mean_cons = [evol3G2M2S_cons.m_tot.values[i] for i in range(5)]\n",
    "param_hesse_mat_cons = scipy.stats.multivariate_normal.rvs(mean=mean_cons, cov=cov_cons, size=500)\n",
    "\n",
    "# cov_snf = im.Minuit.matrix(evolSNF.m_tot)\n",
    "cov_snf = evolSNF.m_tot.covariance\n",
    "mean_snf = [evolSNF.m_tot.values[i] for i in range(5)]\n",
    "param_hesse_mat_snf = scipy.stats.multivariate_normal.rvs(mean=mean_snf, cov=cov_snf, size=500)"
   ]
  },
  {
   "cell_type": "markdown",
   "metadata": {},
   "source": [
    "### Only take _a_, _µ1_ and _µ2_"
   ]
  },
  {
   "cell_type": "code",
   "execution_count": 7,
   "metadata": {},
   "outputs": [],
   "source": [
    "param_hesse_cut = param_hesse_mat[:,[0,1,3]]\n",
    "\n",
    "param_hesse_cut_cons = param_hesse_mat_cons[:,[0,1,3]]\n",
    "\n",
    "param_hesse_cut_snf = param_hesse_mat_snf[:,[0,1,3]]"
   ]
  },
  {
   "cell_type": "markdown",
   "metadata": {},
   "source": [
    "### List of all the models"
   ]
  },
  {
   "cell_type": "code",
   "execution_count": 8,
   "metadata": {},
   "outputs": [],
   "source": [
    "zlin = np.linspace(0, 2.65, 3000)\n",
    "models_hesse = [[age_law_gen(zi, param_hesse) for zi in zlin] for param_hesse in param_hesse_cut]\n",
    "models_hesse = np.asarray(models_hesse)\n",
    "\n",
    "models_hesse_cons = [[age_law_gen(zi, param_hesse_cons) for zi in zlin] for param_hesse_cons in param_hesse_cut_cons]\n",
    "models_hesse_cons = np.asarray(models_hesse_cons)\n",
    "\n",
    "models_hesse_snf = [[age_law_gen(zi, param_hesse) for zi in zlin] for param_hesse in param_hesse_cut_snf]\n",
    "models_hesse_snf = np.asarray(models_hesse_snf)"
   ]
  },
  {
   "cell_type": "markdown",
   "metadata": {},
   "source": [
    "### Take _std_"
   ]
  },
  {
   "cell_type": "code",
   "execution_count": 9,
   "metadata": {},
   "outputs": [],
   "source": [
    "models_std = np.std(models_hesse, axis=0)\n",
    "\n",
    "models_std_cons = np.std(models_hesse_cons, axis=0)\n",
    "\n",
    "models_std_snf = np.std(models_hesse_snf, axis=0)"
   ]
  },
  {
   "cell_type": "markdown",
   "metadata": {},
   "source": [
    "## Moyennage sur toutes les données pour plus de points"
   ]
  },
  {
   "cell_type": "markdown",
   "metadata": {},
   "source": [
    "### Définition des bins sur lesquels faire les moyennes"
   ]
  },
  {
   "cell_type": "code",
   "execution_count": 10,
   "metadata": {},
   "outputs": [],
   "source": [
    "def histedges_equalN(x, nbin):\n",
    "    npt = len(x)\n",
    "    return np.interp(np.linspace(0, npt, nbin + 1),\n",
    "                     np.arange(npt),\n",
    "                     np.sort(x))\n",
    "\n",
    "_, bins = np.histogram(df_nc.redshifts, histedges_equalN(df_nc.redshifts, 6))\n",
    "_, bins_cons = np.histogram(df_c.redshifts, histedges_equalN(df_c.redshifts, 6))\n",
    "\n",
    "bins_text = bins.copy()\n",
    "bins_text[-1] = 1.4"
   ]
  },
  {
   "cell_type": "markdown",
   "metadata": {},
   "source": [
    "### Définition des slices"
   ]
  },
  {
   "cell_type": "code",
   "execution_count": 20,
   "metadata": {
    "collapsed": true,
    "jupyter": {
     "outputs_hidden": true,
     "source_hidden": true
    },
    "tags": []
   },
   "outputs": [
    {
     "data": {
      "text/plain": [
       "26"
      ]
     },
     "execution_count": 20,
     "metadata": {},
     "output_type": "execute_result"
    }
   ],
   "source": [
    "i = -2\n",
    "df_lastbin = df_nc[(df_nc.redshifts > bins[i]) & (df_nc.redshifts <= bins[i+1])]\n",
    "len(df_lastbin[df_lastbin['survey'] == 'HST'])"
   ]
  },
  {
   "cell_type": "code",
   "execution_count": 11,
   "metadata": {},
   "outputs": [],
   "source": [
    "slices = []\n",
    "for i in range(6):\n",
    "    slices.append(np.where((df_nc.redshifts > bins[i])\n",
    "                           & (df_nc.redshifts <= bins[i+1]))[0])\n",
    "\n",
    "slices_cons = []\n",
    "for i in range(6):\n",
    "    slices_cons.append(np.where((df_c.redshifts > bins[i])\n",
    "                                & (df_c.redshifts <= bins[i+1]))[0])"
   ]
  },
  {
   "cell_type": "markdown",
   "metadata": {},
   "source": [
    "## Fit Gaussian stretch to each bin"
   ]
  },
  {
   "cell_type": "code",
   "execution_count": 12,
   "metadata": {},
   "outputs": [],
   "source": [
    "def gauss(x, dx, mu, sigma, normed=True):\n",
    "    '''Le modèle de distribution'''\n",
    "    sigma_eff = np.sqrt(dx**2+sigma**2)\n",
    "    norm = 1 if normed else np.sqrt(2*np.pi)*sigma_eff\n",
    "    return norm*scipy.stats.norm.pdf(x, mu, scale=sigma_eff)\n",
    "\n",
    "def minimize(xc, cons, nslice):\n",
    "    '''Meilleure valeur des paramètres'''\n",
    "    if cons == 'nc':\n",
    "        df_used = df_nc\n",
    "        slices_used = slices\n",
    "    elif cons == 'c':\n",
    "        df_used = df_c\n",
    "        slices_used = slices_cons\n",
    "    else:\n",
    "        raise ValueError(f\"'cons' must be either 'nc' or 'c', {cons} given\")\n",
    "    \n",
    "    if nslice == 'all':\n",
    "        def loglikelihood(mu, sigma):\n",
    "            '''La fonction à minimiser'''\n",
    "            return -2*np.sum(np.log(gauss(df_used[xc].values,\n",
    "                                          df_used[xc+'_err'].values,\n",
    "                                          mu, sigma))) \n",
    "    elif 0 <= nslice <= 5:\n",
    "        def loglikelihood(mu, sigma):\n",
    "            '''La fonction à minimiser'''\n",
    "            return -2*np.sum(np.log(gauss(df_used[xc].values[slices_used[nslice]],\n",
    "                                          df_used[xc+'_err'].values[slices_used[nslice]],\n",
    "                                          mu, sigma)))\n",
    "    else:\n",
    "        raise ValueError(\"'nslice' must be either 'all' or between 0 and 5 (included), \"\n",
    "                         +f'{nslice} given')\n",
    "    \n",
    "    m_tot = im.Minuit(loglikelihood, 0, 1)\n",
    "    m_tot.errordef = im.Minuit.LIKELIHOOD\n",
    "    # m_tot.errordef = im.Minuit.LEAST_SQUARES\n",
    "    migrad_out = m_tot.migrad()\n",
    "    return migrad_out"
   ]
  },
  {
   "cell_type": "markdown",
   "metadata": {},
   "source": [
    "## Computation of means and averages"
   ]
  },
  {
   "cell_type": "code",
   "execution_count": 75,
   "metadata": {},
   "outputs": [
    {
     "data": {
      "text/plain": [
       "'0.05'"
      ]
     },
     "execution_count": 75,
     "metadata": {},
     "output_type": "execute_result"
    }
   ],
   "source": [
    "evol3G2M2S.m_tot.params.to_table()[0][1][3]"
   ]
  },
  {
   "cell_type": "code",
   "execution_count": 27,
   "metadata": {},
   "outputs": [
    {
     "data": {
      "text/plain": [
       "0.0705239634428942"
      ]
     },
     "execution_count": 27,
     "metadata": {},
     "output_type": "execute_result"
    }
   ],
   "source": [
    "minimize('stretchs', 'nc', i).errors[-1]"
   ]
  },
  {
   "cell_type": "code",
   "execution_count": 18,
   "metadata": {},
   "outputs": [],
   "source": [
    "z_comp_mean = np.zeros(6)\n",
    "z_comp_std = np.zeros(6)\n",
    "x1_comp_mean = np.zeros(6)\n",
    "x1_comp_average = np.zeros(6)\n",
    "x1_comp_std = np.zeros(6)\n",
    "c_comp_mean = np.zeros(6)\n",
    "c_comp_average = np.zeros(6)\n",
    "c_comp_std = np.zeros(6)\n",
    "\n",
    "for i in range(6):\n",
    "    z_comp_mean[i] = np.mean(df_nc.redshifts.values[slices[i]])\n",
    "    z_comp_std[i] = np.std(df_nc.redshifts.values[slices[i]])\n",
    "    x1_comp_mean[i] = np.mean(df_nc.stretchs.values[slices[i]])\n",
    "    x1_comp_average[i] = np.average(df_nc.stretchs.values[slices[i]],\n",
    "                                    weights=1/(df_nc.stretchs_err.values[slices[i]]**2 +\n",
    "                                               minimize('stretchs', 'nc', i).errors[-1]**2))\n",
    "    x1_comp_std[i] = np.std(df_nc.stretchs.values[slices[i]])\n",
    "    c_comp_mean[i] = np.mean(df_nc.colors.values[slices[i]])\n",
    "    c_comp_average[i] = np.average(df_nc.colors.values[slices[i]],\n",
    "                                   weights=1/(df_nc.colors_err.values[slices[i]]**2 +\n",
    "                                              minimize('colors', 'nc', i).errors[-1]**2))\n",
    "    c_comp_std[i] = np.std(df_nc.colors.values[slices[i]])\n",
    "\n",
    "z_comp_mean_cons = np.zeros(6)\n",
    "z_comp_std_cons = np.zeros(6)\n",
    "x1_comp_mean_cons = np.zeros(6)\n",
    "x1_comp_average_cons = np.zeros(6)\n",
    "x1_comp_std_cons = np.zeros(6)\n",
    "c_comp_mean_cons = np.zeros(6)\n",
    "c_comp_average_cons = np.zeros(6)\n",
    "c_comp_std_cons = np.zeros(6)\n",
    "\n",
    "for i in range(6):\n",
    "    z_comp_mean_cons[i] = np.mean(df_c.redshifts.values[slices_cons[i]])\n",
    "    z_comp_std_cons[i] = np.std(df_c.redshifts.values[slices_cons[i]])\n",
    "    x1_comp_mean_cons[i] = np.mean(df_c.stretchs.values[slices_cons[i]])\n",
    "    x1_comp_average_cons[i] = np.average(df_c.stretchs.values[slices_cons[i]],\n",
    "                                         weights=1/(df_c.stretchs_err.values[slices_cons[i]]**2 +\n",
    "                                                    minimize('stretchs', 'c', i).errors[-1]**2))\n",
    "    x1_comp_std_cons[i] = np.std(df_c.stretchs.values[slices_cons[i]])\n",
    "    c_comp_mean_cons[i] = np.mean(df_c.colors.values[slices_cons[i]])\n",
    "    c_comp_average_cons[i] = np.average(df_c.colors.values[slices_cons[i]],\n",
    "                                        weights=1/(df_c.colors.values[slices_cons[i]]**2 +\n",
    "                                                   minimize('colors', 'c', i).errors[-1]**2))\n",
    "    c_comp_std_cons[i] = np.std(df_c.colors.values[slices_cons[i]])"
   ]
  },
  {
   "cell_type": "code",
   "execution_count": 33,
   "metadata": {
    "tags": []
   },
   "outputs": [
    {
     "name": "stdout",
     "output_type": "stream",
     "text": [
      "redshift_mean = 0.048\n",
      "stretch_mean = -0.17 ± 0.1\n",
      "stretch_average = -0.2 ± 0.1\n",
      "redshift_mean = 0.72\n",
      "stretch_mean = 0.32 ± 0.097\n",
      "stretch_average = 0.18 ± 0.097\n"
     ]
    }
   ],
   "source": [
    "print(f'redshift_mean = {z_comp_mean[0]:.2}')\n",
    "print(f'stretch_mean = {x1_comp_mean[0]:.2} ± ' +\n",
    "      f'{x1_comp_std[0]/np.sqrt(len(df_nc.stretchs.values[slices[0]])):.2}')\n",
    "print(f'stretch_average = {x1_comp_average[0]:.2} ± ' +\n",
    "      f'{x1_comp_std[0]/np.sqrt(len(df_nc.stretchs.values[slices[0]])):.2}')\n",
    "print(f'redshift_mean = {z_comp_mean[-1]:.2}')\n",
    "print(f'stretch_mean = {x1_comp_mean[-1]:.2} ± ' +\n",
    "      f'{x1_comp_std[-1]/np.sqrt(len(df_nc.stretchs.values[slices[-1]])):.2}')\n",
    "print(f'stretch_average = {x1_comp_average[-1]:.2} ± ' +\n",
    "      f'{x1_comp_std[-1]/np.sqrt(len(df_nc.stretchs.values[slices[-1]])):.2}')"
   ]
  },
  {
   "cell_type": "code",
   "execution_count": 34,
   "metadata": {
    "tags": []
   },
   "outputs": [
    {
     "name": "stdout",
     "output_type": "stream",
     "text": [
      "redshift_mean[0] = 0.048\n",
      "stretch_mean[0] = -0.17 ± 0.1\n",
      "stretch_average[0] = -0.2 ± 0.1\n",
      "redshift_mean[1] = 0.092\n",
      "stretch_mean[1] = 0.039 ± 0.089\n",
      "stretch_average[1] = 0.025 ± 0.089\n",
      "redshift_mean[2] = 0.15\n",
      "stretch_mean[2] = -0.045 ± 0.11\n",
      "stretch_average[2] = 0.069 ± 0.11\n",
      "redshift_mean[3] = 0.2\n",
      "stretch_mean[3] = 0.082 ± 0.087\n",
      "stretch_average[3] = 0.077 ± 0.087\n",
      "redshift_mean[4] = 0.29\n",
      "stretch_mean[4] = 0.11 ± 0.079\n",
      "stretch_average[4] = 0.068 ± 0.079\n",
      "redshift_mean[5] = 0.72\n",
      "stretch_mean[5] = 0.32 ± 0.097\n",
      "stretch_average[5] = 0.18 ± 0.097\n",
      "Global stretch mean = 0.058\n",
      "Global stretch average = 0.0057\n"
     ]
    }
   ],
   "source": [
    "for i in range(6):\n",
    "    print(f'redshift_mean[{i}] = {z_comp_mean[i]:.2}')\n",
    "    print(f'stretch_mean[{i}] = {x1_comp_mean[i]:.2} ± ' +\n",
    "          f'{x1_comp_std[i]/np.sqrt(len(df_nc.stretchs.values[slices[i]])):.2}')\n",
    "    print(f'stretch_average[{i}] = {x1_comp_average[i]:.2} ± ' +\n",
    "          f'{x1_comp_std[i]/np.sqrt(len(df_nc.stretchs.values[slices[i]])):.2}')\n",
    "    \n",
    "tot_x1_ave = np.average(df_nc.stretchs,\n",
    "                        weights=1/(df_nc.stretchs**2 +\n",
    "                                   minimize('stretchs', 'nc', 'all').errors[-1]**2))\n",
    "print(f'Global stretch mean = {np.mean(df_nc.stretchs):.2}')\n",
    "print(f'Global stretch average = {tot_x1_ave:.2}')"
   ]
  },
  {
   "cell_type": "markdown",
   "metadata": {},
   "source": [
    "## Stretch evol"
   ]
  },
  {
   "cell_type": "code",
   "execution_count": 13,
   "metadata": {},
   "outputs": [
    {
     "data": {
      "application/vnd.jupyter.widget-view+json": {
       "model_id": "7c2e211707934340a01f989b0de5b4f2",
       "version_major": 2,
       "version_minor": 0
      },
      "text/plain": [
       "Dropdown(description='Type of mean:', options=('mean', 'weighted'), value='mean')"
      ]
     },
     "metadata": {},
     "output_type": "display_data"
    }
   ],
   "source": [
    "mean_c = ipw.Dropdown(options=['mean', 'weighted'],\n",
    "                      value='mean',\n",
    "                      description='Type of mean:')\n",
    "\n",
    "display(mean_c)"
   ]
  },
  {
   "cell_type": "code",
   "execution_count": 14,
   "metadata": {},
   "outputs": [],
   "source": [
    "evol1G1M1S = stretchevol.Evol1G1M1S(df_nc)\n",
    "evol1G1M1S.minimize()"
   ]
  },
  {
   "cell_type": "code",
   "execution_count": 58,
   "metadata": {
    "jupyter": {
     "source_hidden": true
    },
    "tags": []
   },
   "outputs": [
    {
     "data": {
      "image/png": "[encoded data removed]",
      "text/plain": [
       "<Figure size 576x360 with 1 Axes>"
      ]
     },
     "metadata": {},
     "output_type": "display_data"
    }
   ],
   "source": [
    "fig = plt.figure(figsize=[8, 5])\n",
    "ax = fig.add_axes([0.1, 0.12, 0.8, 0.8])\n",
    "\n",
    "prop2 = dict(marker=\"o\", ms=15, ecolor=\"0.7\", mew=1, mec=\"0.5\")\n",
    "prop = dict(marker=\"o\", ms=15, ecolor=\"k\", mew=1, mec=\"k\", mfc=\"0.7\")\n",
    "\n",
    "cmap = 'inferno'\n",
    "\n",
    "#vmap_v = plt.cm.get_cmap(cmap)(np.linspace(0, 1, len(bins)))\n",
    "for i in range(len(bins)):\n",
    "    ax.vline(bins[i], color=\"0.7\", lw=1)\n",
    "\n",
    "#############################################################################################\n",
    "\n",
    "if mean_c.value == 'mean':\n",
    "    vmap_s = plt.cm.get_cmap(cmap)(np.linspace(0, 1, 6))\n",
    "    for i, c in zip(range(6), vmap_s):\n",
    "        ax.errorbar(z_comp_mean[i], x1_comp_mean[i],\n",
    "                    xerr = z_comp_std[i]/np.sqrt(len(df_nc.redshifts.values[slices[i]])),\n",
    "                    yerr = x1_comp_std[i]/np.sqrt(len(df_nc.stretchs.values[slices[i]])),\n",
    "                    color=vmap_s[i], **prop, zorder=10, lw=1)\n",
    "else:\n",
    "    for i, c in zip(range(6), vmap_s):\n",
    "        ax.errorbar(z_comp_mean[i], x1_comp_average[i],\n",
    "                    xerr = z_comp_std[i]/np.sqrt(len(df_nc.redshifts.values[slices[i]])),\n",
    "                    yerr = x1_comp_std[i]/np.sqrt(len(df_nc.stretchs.values[slices[i]])),\n",
    "                    color=vmap_s[i], **prop, zorder=10, lw=1)\n",
    "\n",
    "\n",
    "ax.plot(zlin, age_law_snf(zlin),\n",
    "        color=\"0.5\", lw=2, ls='-',\n",
    "        label='SNf (114)', zorder=6)\n",
    "\n",
    "#ax.fill_between(zlin, age_law_snf(zlin) + models_std_snf,\n",
    "#                age_law_snf(zlin) - models_std_snf,\n",
    "#                color=\"0.5\", alpha=.1, lw=2)\n",
    "\n",
    "ax.plot(zlin, age_law_all(zlin),\n",
    "        color=\"C0\", lw=2,\n",
    "        label='Fiduciel (569)', zorder=8)\n",
    "##        label='Age-drift Model', zorder=8)\n",
    "\n",
    "ax.fill_between(zlin, age_law_all(zlin) + models_std,\n",
    "                age_law_all(zlin) - models_std,\n",
    "                color=\"C0\", alpha=.1, lw=2)\n",
    "\n",
    "#ax.plot(zlin, age_law_all_nsnf(zlin),\n",
    "#        color=\"0.5\", lw=1, ls='-.',\n",
    "#        label='All but SNf (455)', zorder=8)\n",
    "\n",
    "ax.set_xlabel(r\"redshift\", fontsize=\"x-large\")\n",
    "ax.set_ylabel(r'$x_1$ moyen', fontsize=\"x-large\")\n",
    "\n",
    "ax.tick_params(labelsize='x-large')\n",
    "\n",
    "#############################################################################################\n",
    "\n",
    "if mean_c.value == 'mean':\n",
    "    for i, c in zip(range(6), vmap_s):\n",
    "        ax.errorbar(z_comp_mean_cons[i], x1_comp_mean_cons[i],\n",
    "                     xerr=z_comp_std_cons[i]/np.sqrt(len(df_c.redshifts.values[slices_cons[i]])),\n",
    "                     yerr=x1_comp_std_cons[i]/np.sqrt(len(df_c.stretchs.values[slices_cons[i]])),\n",
    "                     color=vmap_s[i], **prop, alpha=.3, zorder=9, lw=1)\n",
    "\n",
    "else:\n",
    "    for i, c in zip(range(6), vmap_s):\n",
    "        ax.errorbar(z_comp_mean_cons[i], x1_comp_average_cons[i],\n",
    "                     xerr = z_comp_std_cons[i]/np.sqrt(len(df_c.redshifts.values[slices_cons[i]])),\n",
    "                     yerr = x1_comp_std_cons[i]/np.sqrt(len(df_c.stretchs.values[slices_cons[i]])),\n",
    "                     color=vmap_s[i], **prop, alpha=.3, zorder=9, lw=1)\n",
    "\n",
    "ax.plot(zlin, age_law_all_cons(zlin),\n",
    "        color=\"C0\", lw=1.5, ls='--', alpha=.5,\n",
    "        label='Conservatif (422)', zorder=7)\n",
    "\n",
    "#############################################################################################\n",
    "\n",
    "if mean_c.value == 'mean':\n",
    "    ax.hline(evol1G1M1S.param['mu'], color='C1', lw=1, ls='-', label='Étirement moyen')\n",
    "    #ax.hline(np.mean(df_nc.stretchs), color='C1', lw=1, ls='-', label='Mean stretch')\n",
    "\n",
    "else:\n",
    "    ax.hline(np.average(df_nc.stretchs,\n",
    "                        weights=1/(df_nc.stretchs**2 +\n",
    "                                   minimize('stretchs', 'nc', 'all').values[1]**2)),\n",
    "             color='C1', lw=1, ls='-', label='Étirement pondéré')\n",
    "\n",
    "#############################################################################################\n",
    "\n",
    "shift_slices = [[0.007, 0.0085],\n",
    "                [0.008, 0.0115],\n",
    "                [0.011, 0.017],\n",
    "                [0.014, 0.023],\n",
    "                [0.027, 0.040],\n",
    "                [0.178, 0.210]]\n",
    "\n",
    "for i in range(6):\n",
    "    if len(df_nc.redshifts.values[slices[i]]) == len(df_c.redshifts.values[slices_cons[i]]):\n",
    "        ax.text((bins_text[i+1]+bins_text[i])/2-shift_slices[i][0], -0.465,\n",
    "                str(len(df_nc.redshifts.values[slices[i]])), alpha=.2,\n",
    "                fontsize='large')\n",
    "    else:\n",
    "        ax.text((bins_text[i+1]+bins_text[i])/2-shift_slices[i][0], -0.445,\n",
    "                str(len(df_nc.redshifts.values[slices[i]])), alpha=.2,\n",
    "                fontsize='large')\n",
    "        ax.text((bins_text[i+1]+bins_text[i])/2-shift_slices[i][1], -0.48,\n",
    "                '(' + str(len(df_c.redshifts.values[slices_cons[i]])) + ')', alpha=.2,\n",
    "                fontsize='large')\n",
    "\n",
    "#############################################################################################\n",
    "\n",
    "ax.set_ylim(-0.52, 0.52)\n",
    "ax.set_xlim(0.01, 1.4)\n",
    "ax.set_xscale('log')\n",
    "\n",
    "ax.legend(ncol=4, loc='upper center', columnspacing=1.4, fontsize=10)\n",
    "\n",
    "fig.savefig(f'../../../Images/pdf/stretchevol_all_vs_snf-{mean_c.value}.pdf', bbox_inches='tight')\n",
    "fig.savefig(f'../../../Images/png/stretchevol_all_vs_snf-{mean_c.value}.png', bbox_inches='tight', dpi=600)"
   ]
  },
  {
   "cell_type": "markdown",
   "metadata": {},
   "source": [
    "### All simulated"
   ]
  },
  {
   "cell_type": "code",
   "execution_count": 15,
   "metadata": {},
   "outputs": [],
   "source": [
    "evolASYM = stretchevol.Evol1G1M2S(df_nc)\n",
    "evolASYM.minimize()\n",
    "\n",
    "evolHOWDRIFT = stretchevol.Evol2G2M2S(df_nc)\n",
    "evolHOWDRIFT.minimize()\n",
    "def age_law_howdrift(z):\n",
    "    return (delta(z)*evolHOWDRIFT.param['mu_1']\n",
    "      + (1-delta(z))*(evolHOWDRIFT.param['mu_2']))\n",
    "\n",
    "evolHOWFIXED = stretchevol.Evol2G2M2SF(df_nc)\n",
    "evolHOWFIXED.minimize()\n",
    "def age_law_howfix():\n",
    "    return (evolHOWFIXED.param['f']*evolHOWFIXED.param['mu_1']\n",
    "      + (1-evolHOWFIXED.param['f'])*evolHOWFIXED.param['mu_2'])\n",
    "\n",
    "evolBASEF = stretchevol.Evol3G2M2SF(df_nc)\n",
    "evolBASEF.minimize()\n",
    "def age_law_allfix():\n",
    "    return (evolBASEF.param['f']*evolBASEF.param['mu_1']\n",
    "      + (1-evolBASEF.param['f'])*(evolBASEF.get_a(evolBASEF.param['aa'])*evolBASEF.param['mu_1']\n",
    "                      + (1 - evolBASEF.get_a(evolBASEF.param['aa']))*evolBASEF.param['mu_2']))"
   ]
  },
  {
   "cell_type": "code",
   "execution_count": 16,
   "metadata": {},
   "outputs": [
    {
     "data": {
      "text/plain": [
       "{'f': 0.27350610793834024,\n",
       " 'aa': -0.15284704213171574,\n",
       " 'mu_1': 0.5514508907446397,\n",
       " 'sigma_1': 0.52436655214171,\n",
       " 'mu_2': -0.6958721632439983,\n",
       " 'sigma_2': 0.7575796996191871}"
      ]
     },
     "execution_count": 16,
     "metadata": {},
     "output_type": "execute_result"
    }
   ],
   "source": [
    "evolBASEF.param"
   ]
  },
  {
   "cell_type": "code",
   "execution_count": 24,
   "metadata": {},
   "outputs": [
    {
     "data": {
      "text/plain": [
       "{'mu': 0.653078680120545,\n",
       " 'sigma_m': 1.2259716374365965,\n",
       " 'sigma_p': 0.4476850702190851}"
      ]
     },
     "execution_count": 24,
     "metadata": {},
     "output_type": "execute_result"
    }
   ],
   "source": [
    "evolASYM.param"
   ]
  },
  {
   "cell_type": "code",
   "execution_count": 103,
   "metadata": {},
   "outputs": [
    {
     "data": {
      "image/png": "[encoded data removed]",
      "text/plain": [
       "<Figure size 432x288 with 1 Axes>"
      ]
     },
     "metadata": {},
     "output_type": "display_data"
    }
   ],
   "source": [
    "dgmap = plt.cm.get_cmap('bwr')\n",
    "sgmap = plt.cm.get_cmap('inferno')\n",
    "\n",
    "plt.hist(evolHOWFIXED.pd['stretchs'],\n",
    "         bins=12, color='k', alpha=.2,\n",
    "         density=True, histtype='stepfilled')\n",
    "\n",
    "xlin = np.linspace(-3, 3, 1000)\n",
    "plt.plot(xlin, evol1G1M1S.plot_a(xlin), color='limegreen')\n",
    "plt.plot(xlin, evolASYM.plot_a(xlin), color='orange')\n",
    "plt.plot(xlin, evolHOWFIXED.plot_a(xlin), color='firebrick')\n",
    "# plt.plot(xlin, evol3G2M2S.plot_a(xlin, z=np.median(df_nc.redshifts)))\n",
    "\n",
    "zlin = np.linspace(np.min(df_nc.redshifts), np.max(df_nc.redshifts), 20)\n",
    "z_m, z_p = np.percentile(zlin, [5, 95])\n",
    "\n",
    "for z in zlin:\n",
    "    pdfmodel_mid = evol3G2M2S.plot_a(xlin, z)\n",
    "    plt.plot(xlin,\n",
    "            pdfmodel_mid,\n",
    "            color=dgmap((z-z_m)/(z_p-z_m)),\n",
    "            lw=1, ls='--', alpha=.8, zorder=0)\n",
    "    pdfmodel_mid = evolHOWDRIFT.plot_a(xlin, z)\n",
    "    plt.plot(xlin,\n",
    "            pdfmodel_mid,\n",
    "            color=sgmap((z-z_m)/(z_p-z_m)),\n",
    "            lw=1, ls='--', alpha=.8, zorder=0)"
   ]
  },
  {
   "cell_type": "code",
   "execution_count": 83,
   "metadata": {},
   "outputs": [
    {
     "data": {
      "text/plain": [
       "array([1.63012259e-04, 5.29274256e-04, 1.71846731e-03, 5.57958350e-03,\n",
       "       1.81159989e-02, 5.88196982e-02, 1.90977981e-01, 6.20074401e-01,\n",
       "       2.01328060e+00, 6.53679422e+00])"
      ]
     },
     "execution_count": 83,
     "metadata": {},
     "output_type": "execute_result"
    }
   ],
   "source": [
    "zlin"
   ]
  },
  {
   "cell_type": "code",
   "execution_count": 30,
   "metadata": {},
   "outputs": [
    {
     "data": {
      "image/png": "[encoded data removed]",
      "text/plain": [
       "<Figure size 576x360 with 1 Axes>"
      ]
     },
     "metadata": {},
     "output_type": "display_data"
    }
   ],
   "source": [
    "fig = plt.figure(figsize=[8, 5])\n",
    "ax = fig.add_axes([0.1, 0.12, 0.8, 0.8])\n",
    "\n",
    "prop2 = dict(marker=\"o\", ms=15, ecolor=\"0.7\", mew=1, mec=\"0.5\")\n",
    "prop = dict(marker=\"o\", ms=15, ecolor=\"k\", mew=1, mec=\"k\", mfc=\"0.7\")\n",
    "\n",
    "cmap = 'inferno'\n",
    "\n",
    "#vmap_v = plt.cm.get_cmap(cmap)(np.linspace(0, 1, len(bins)))\n",
    "for i in range(len(bins)):\n",
    "    ax.vline(bins[i], color=\"0.7\", lw=1)\n",
    "\n",
    "#############################################################################################\n",
    "\n",
    "if mean_c.value == 'mean':\n",
    "    vmap_s = plt.cm.get_cmap(cmap)(np.linspace(0, 1, 6))\n",
    "    for i, c in zip(range(6), vmap_s):\n",
    "        ax.errorbar(z_comp_mean[i], x1_comp_mean[i],\n",
    "                    xerr = z_comp_std[i]/np.sqrt(len(df_nc.redshifts.values[slices[i]])),\n",
    "                    yerr = x1_comp_std[i]/np.sqrt(len(df_nc.stretchs.values[slices[i]])),\n",
    "                    color=vmap_s[i], **prop, zorder=10, lw=1)\n",
    "else:\n",
    "    for i, c in zip(range(6), vmap_s):\n",
    "        ax.errorbar(z_comp_mean[i], x1_comp_average[i],\n",
    "                    xerr = z_comp_std[i]/np.sqrt(len(df_nc.redshifts.values[slices[i]])),\n",
    "                    yerr = x1_comp_std[i]/np.sqrt(len(df_nc.stretchs.values[slices[i]])),\n",
    "                    color=vmap_s[i], **prop, zorder=10, lw=1)\n",
    "\n",
    "#ax.fill_between(zlin, age_law_snf(zlin) + models_std_snf,\n",
    "#                age_law_snf(zlin) - models_std_snf,\n",
    "#                color=\"0.5\", alpha=.1, lw=2)\n",
    "\n",
    "ax.plot(zlin, age_law_all(zlin),\n",
    "        color=\"cornflowerblue\", lw=2,\n",
    "        label='Référence', zorder=8)\n",
    "##        label='Age-drift Model', zorder=8)\n",
    "\n",
    "ax.fill_between(zlin, age_law_all(zlin) + models_std,\n",
    "                age_law_all(zlin) - models_std,\n",
    "                color=\"cornflowerblue\", alpha=.1, lw=2)\n",
    "\n",
    "# ax.axhline(age_law_allfix(),\n",
    "#            color='firebrick', lw=2,\n",
    "#            label='Référence+const', zorder=6)\n",
    "\n",
    "ax.plot(zlin, age_law_howdrift(zlin),\n",
    "        color=\"limegreen\", lw=2, ls='-',\n",
    "        label='Howell+dérive', zorder=6)\n",
    "\n",
    "# ax.axhline(age_law_howfix(),\n",
    "#            color='r', lw=2,\n",
    "#            label='Howell+const', zorder=6)\n",
    "\n",
    "#ax.plot(zlin, age_law_all_nsnf(zlin),\n",
    "#        color=\"0.5\", lw=1, ls='-.',\n",
    "#        label='All but SNf (455)', zorder=8)\n",
    "\n",
    "ax.set_xlabel(r\"redshift\", fontsize=\"x-large\")\n",
    "ax.set_ylabel(r'$x_1$ moyen', fontsize=\"x-large\")\n",
    "\n",
    "ax.tick_params(labelsize='x-large')\n",
    "\n",
    "#############################################################################################\n",
    "\n",
    "if mean_c.value == 'mean':\n",
    "    for i, c in zip(range(6), vmap_s):\n",
    "        ax.errorbar(z_comp_mean_cons[i], x1_comp_mean_cons[i],\n",
    "                     xerr=z_comp_std_cons[i]/np.sqrt(len(df_c.redshifts.values[slices_cons[i]])),\n",
    "                     yerr=x1_comp_std_cons[i]/np.sqrt(len(df_c.stretchs.values[slices_cons[i]])),\n",
    "                     color=vmap_s[i], **prop, alpha=.3, zorder=9, lw=1)\n",
    "\n",
    "else:\n",
    "    for i, c in zip(range(6), vmap_s):\n",
    "        ax.errorbar(z_comp_mean_cons[i], x1_comp_average_cons[i],\n",
    "                     xerr = z_comp_std_cons[i]/np.sqrt(len(df_c.redshifts.values[slices_cons[i]])),\n",
    "                     yerr = x1_comp_std_cons[i]/np.sqrt(len(df_c.stretchs.values[slices_cons[i]])),\n",
    "                     color=vmap_s[i], **prop, alpha=.3, zorder=9, lw=1)\n",
    "\n",
    "# ax.plot(zlin, age_law_all_cons(zlin),\n",
    "#         color=\"C0\", lw=1.5, ls='--', alpha=.5,\n",
    "#         label='Conservatif (422)', zorder=7)\n",
    "\n",
    "#############################################################################################\n",
    "\n",
    "if mean_c.value == 'mean':\n",
    "    ax.axhline(evol1G1M1S.param['mu'], color='C1', lw=1, ls='-', label='Étirement moyen')\n",
    "    # ax.axhline(evolASYM.param['mu'], color='C1', lw=1, ls='--', label='Moyenne asym')\n",
    "\n",
    "else:\n",
    "    ax.hline(np.average(df_nc.stretchs,\n",
    "                        weights=1/(df_nc.stretchs**2 +\n",
    "                                   minimize('stretchs', 'nc', 'all').values[1]**2)),\n",
    "             color='C1', lw=1, ls='-', label='Étirement pondéré')\n",
    "\n",
    "#############################################################################################\n",
    "\n",
    "shift_slices = [[0.007, 0.0085],\n",
    "                [0.008, 0.0115],\n",
    "                [0.011, 0.017],\n",
    "                [0.014, 0.023],\n",
    "                [0.027, 0.040],\n",
    "                [0.178, 0.210]]\n",
    "\n",
    "for i in range(6):\n",
    "    if len(df_nc.redshifts.values[slices[i]]) == len(df_c.redshifts.values[slices_cons[i]]):\n",
    "        ax.text((bins_text[i+1]+bins_text[i])/2-shift_slices[i][0], -0.465,\n",
    "                str(len(df_nc.redshifts.values[slices[i]])), alpha=.2,\n",
    "                fontsize='large')\n",
    "    else:\n",
    "        ax.text((bins_text[i+1]+bins_text[i])/2-shift_slices[i][0], -0.445,\n",
    "                str(len(df_nc.redshifts.values[slices[i]])), alpha=.2,\n",
    "                fontsize='large')\n",
    "        ax.text((bins_text[i+1]+bins_text[i])/2-shift_slices[i][1], -0.48,\n",
    "                '(' + str(len(df_c.redshifts.values[slices_cons[i]])) + ')', alpha=.2,\n",
    "                fontsize='large')\n",
    "\n",
    "#############################################################################################\n",
    "\n",
    "ax.set_ylim(-0.52, 0.52)\n",
    "ax.set_xlim(0.01, 1.4)\n",
    "ax.set_xscale('log')\n",
    "\n",
    "ax.legend(ncol=4, loc='upper center', columnspacing=1.4, fontsize=10)\n",
    "\n",
    "fig.savefig(f'../../../Images/pdf/stretchevol_all_vs_rest-{mean_c.value}.pdf', bbox_inches='tight')\n",
    "fig.savefig(f'../../../Images/png/stretchevol_all_vs_rest-{mean_c.value}.png', bbox_inches='tight', dpi=600)"
   ]
  },
  {
   "cell_type": "markdown",
   "metadata": {},
   "source": [
    "### Stretchevol all no cons"
   ]
  },
  {
   "cell_type": "code",
   "execution_count": 44,
   "metadata": {
    "tags": []
   },
   "outputs": [
    {
     "data": {
      "image/png": "[encoded data removed]",
      "text/plain": [
       "<Figure size 576x360 with 1 Axes>"
      ]
     },
     "metadata": {},
     "output_type": "display_data"
    }
   ],
   "source": [
    "fig = plt.figure(figsize=[8, 5])\n",
    "ax = fig.add_axes([0.1, 0.12, 0.8, 0.8])\n",
    "\n",
    "prop2 = dict(marker=\"o\", ms=15, ecolor=\"0.7\", mew=1, mec=\"0.5\")\n",
    "prop = dict(marker=\"o\", ms=15, ecolor=\"k\", mew=1, mec=\"k\", mfc=\"0.7\")\n",
    "\n",
    "cmap = 'inferno'\n",
    "\n",
    "#vmap_v = plt.cm.get_cmap(cmap)(np.linspace(0, 1, len(bins)))\n",
    "for i in range(len(bins)):\n",
    "    ax.vline(bins[i], color=\"0.7\", lw=1)\n",
    "\n",
    "#############################################################################################\n",
    "\n",
    "if mean_c.value == 'mean':\n",
    "    vmap_s = plt.cm.get_cmap(cmap)(np.linspace(0, 1, 6))\n",
    "    for i, c in zip(range(6), vmap_s):\n",
    "        ax.errorbar(z_comp_mean[i], x1_comp_mean[i],\n",
    "                    xerr = z_comp_std[i]/np.sqrt(len(df_nc.redshifts.values[slices[i]])),\n",
    "                    yerr = x1_comp_std[i]/np.sqrt(len(df_nc.stretchs.values[slices[i]])),\n",
    "                    color=vmap_s[i], **prop, zorder=10, lw=1)\n",
    "else:\n",
    "    for i, c in zip(range(6), vmap_s):\n",
    "        ax.errorbar(z_comp_mean[i], x1_comp_average[i],\n",
    "                    xerr = z_comp_std[i]/np.sqrt(len(df_nc.redshifts.values[slices[i]])),\n",
    "                    yerr = x1_comp_std[i]/np.sqrt(len(df_nc.stretchs.values[slices[i]])),\n",
    "                    color=vmap_s[i], **prop, zorder=10, lw=1)\n",
    "\n",
    "ax.plot(zlin, age_law_all(zlin),\n",
    "        color=\"C0\", lw=2,\n",
    "        #label='Reference(569)', zorder=8)\n",
    "        label='Age-drift model', zorder=8)\n",
    "\n",
    "ax.fill_between(zlin, age_law_all(zlin) + models_std,\n",
    "                age_law_all(zlin) - models_std,\n",
    "                color=\"C0\", alpha=.1, lw=2)\n",
    "\n",
    "ax.set_xlabel(r\"$\\mathrm{redshift}$ \", fontsize=\"x-large\")\n",
    "ax.set_ylabel(r\"$\\mathrm{mean\\,\\,x}_1$ \", fontsize=\"x-large\")\n",
    "\n",
    "#############################################################################################\n",
    "\n",
    "# if mean_c.value == 'mean':\n",
    "#     for i, c in zip(range(6), vmap_s):\n",
    "#         ax.errorbar(z_comp_mean_cons[i], x1_comp_mean_cons[i],\n",
    "#                      xerr=z_comp_std_cons[i]/np.sqrt(len(df_c.redshifts.values[slices_cons[i]])),\n",
    "#                      yerr=x1_comp_std_cons[i]/np.sqrt(len(df_c.stretchs.values[slices_cons[i]])),\n",
    "#                      color=vmap_s[i], **prop, alpha=.3, zorder=9, lw=1)\n",
    "# \n",
    "# else:\n",
    "#     for i, c in zip(range(6), vmap_s):\n",
    "#         ax.errorbar(z_comp_mean_cons[i], x1_comp_average_cons[i],\n",
    "#                      xerr = z_comp_std_cons[i]/np.sqrt(len(df_c.redshifts.values[slices_cons[i]])),\n",
    "#                      yerr = x1_comp_std_cons[i]/np.sqrt(len(df_c.stretchs.values[slices_cons[i]])),\n",
    "#                      color=vmap_s[i], **prop, alpha=.3, zorder=9, lw=1)\n",
    "\n",
    "#############################################################################################\n",
    "\n",
    "if mean_c.value == 'mean':\n",
    "    ax.hline(evol1G1M1S.param['mu'], color='C1', lw=1, ls='-', label='Mean stretch')\n",
    "    #ax.hline(np.mean(df_nc.stretchs), color='C1', lw=1, ls='-', label='Mean stretch')\n",
    "\n",
    "else:\n",
    "    ax.hline(np.average(df_nc.stretchs,\n",
    "                        weights=1/(df_nc.stretchs**2 +\n",
    "                                   minimize('stretchs', 'nc', 'all')[1][1]['value']**2)),\n",
    "             color='C1', lw=1, ls='-', label='Weighted stretch')\n",
    "\n",
    "#############################################################################################\n",
    "\n",
    "for i in range(6):\n",
    "    if len(df_nc.redshifts.values[slices[i]]) == len(df_c.redshifts.values[slices_cons[i]]):\n",
    "        ax.text((bins_text[i+1]+bins_text[i])/2-shift_slices[i][0], -0.465,\n",
    "                str(len(df_nc.redshifts.values[slices[i]])), alpha=.2)\n",
    "    else:\n",
    "        ax.text((bins_text[i+1]+bins_text[i])/2-shift_slices[i][0], -0.45,\n",
    "                str(len(df_nc.redshifts.values[slices[i]])), alpha=.2)\n",
    "        ax.text((bins_text[i+1]+bins_text[i])/2-shift_slices[i][1], -0.48,\n",
    "                '(' + str(len(df_c.redshifts.values[slices_cons[i]])) + ')', alpha=.2)\n",
    "\n",
    "#############################################################################################\n",
    "\n",
    "ax.set_ylim(-0.52, 0.52)\n",
    "ax.set_xlim(0.01, 1.4)\n",
    "ax.set_xscale('log')\n",
    "\n",
    "ax.legend(ncol=4, loc='upper center', columnspacing=1.4)\n",
    "\n",
    "fig.savefig(f'../../../Images/pdf/stretchevol_all_nocons-{mean_c.value}.pdf', bbox_inches='tight')\n",
    "fig.savefig(f'../../../Images/png/stretchevol_all_nocons-{mean_c.value}.png', bbox_inches='tight', dpi=600)"
   ]
  },
  {
   "cell_type": "markdown",
   "metadata": {},
   "source": [
    "## Stretch and mean evol"
   ]
  },
  {
   "cell_type": "code",
   "execution_count": 94,
   "metadata": {
    "jupyter": {
     "source_hidden": true
    },
    "tags": []
   },
   "outputs": [
    {
     "data": {
      "image/png": "[encoded data removed]",
      "text/plain": [
       "<Figure size 576x360 with 1 Axes>"
      ]
     },
     "metadata": {},
     "output_type": "display_data"
    }
   ],
   "source": [
    "fig = plt.figure(figsize=[8, 5])\n",
    "ax = fig.add_axes([0.1, 0.12, 0.8, 0.8])\n",
    "\n",
    "prop2 = dict(marker=\"o\", ms=15, ecolor=\"0.7\", mew=1, mec=\"0.5\")\n",
    "prop = dict(marker=\"o\", ms=15, ecolor=\"k\", mew=1, mec=\"k\", mfc=\"0.7\")\n",
    "\n",
    "cmap = 'inferno'\n",
    "\n",
    "ax.plot(zlin, age_law_all(zlin),\n",
    "        color=\"C0\", lw=2,\n",
    "        #label='Reference(569)', zorder=8)\n",
    "        label='Age-drift model', zorder=8)\n",
    "\n",
    "ax.fill_between(zlin, age_law_all(zlin) + models_std,\n",
    "                age_law_all(zlin) - models_std,\n",
    "                color=\"C0\", alpha=.1, lw=2)\n",
    "\n",
    "ax.set_xlabel(r\"$\\mathrm{redshift}$ \", fontsize=\"x-large\")\n",
    "ax.set_ylabel(r\"$\\mathrm{mean\\,\\,x}_1$ \", fontsize=\"x-large\")\n",
    "\n",
    "if mean_c.value == 'mean':\n",
    "    ax.hline(evol1G1M1S.param['mu'], color='C1', lw=1, ls='-', label='Mean stretch')\n",
    "    #ax.hline(np.mean(df_nc.stretchs), color='C1', lw=1, ls='-', label='Mean stretch')\n",
    "\n",
    "else:\n",
    "    ax.hline(np.average(df_nc.stretchs,\n",
    "                        weights=1/(df_nc.stretchs**2 +\n",
    "                                   minimize('stretchs', 'nc', 'all')[1][1]['value']**2)),\n",
    "             color='C1', lw=1, ls='-', label='Weighted stretch')\n",
    "\n",
    "ax.set_ylim(-0.52, 0.52)\n",
    "ax.set_xlim(0.01, 1.4)\n",
    "ax.set_xscale('log')\n",
    "\n",
    "ax.legend(ncol=4, loc='upper center', columnspacing=1.4)\n",
    "\n",
    "fig.savefig(f'../../../Images/pdf/stretchevol_meanevol.pdf', bbox_inches='tight')\n",
    "fig.savefig(f'../../../Images/png/stretchevol_meanevol.png', bbox_inches='tight', dpi=600)"
   ]
  },
  {
   "cell_type": "markdown",
   "metadata": {},
   "source": [
    "## Stretchevol"
   ]
  },
  {
   "cell_type": "code",
   "execution_count": 93,
   "metadata": {
    "jupyter": {
     "source_hidden": true
    },
    "tags": []
   },
   "outputs": [
    {
     "data": {
      "image/png": "[encoded data removed]",
      "text/plain": [
       "<Figure size 576x360 with 1 Axes>"
      ]
     },
     "metadata": {},
     "output_type": "display_data"
    }
   ],
   "source": [
    "fig = plt.figure(figsize=[8, 5])\n",
    "ax = fig.add_axes([0.1, 0.12, 0.8, 0.8])\n",
    "\n",
    "prop2 = dict(marker=\"o\", ms=15, ecolor=\"0.7\", mew=1, mec=\"0.5\")\n",
    "prop = dict(marker=\"o\", ms=15, ecolor=\"k\", mew=1, mec=\"k\", mfc=\"0.7\")\n",
    "\n",
    "ax.plot(zlin, age_law_all(zlin),\n",
    "        color=\"C0\", lw=2,\n",
    "        #label='Reference(569)', zorder=8)\n",
    "        label='Age-drift model', zorder=8)\n",
    "\n",
    "ax.fill_between(zlin, age_law_all(zlin) + models_std,\n",
    "                age_law_all(zlin) - models_std,\n",
    "                color=\"C0\", alpha=.1, lw=2)\n",
    "\n",
    "ax.set_xlabel(r\"$\\mathrm{redshift}$ \", fontsize=\"x-large\")\n",
    "ax.set_ylabel(r\"$\\mathrm{mean\\,\\,x}_1$ \", fontsize=\"x-large\")\n",
    "\n",
    "ax.set_ylim(-0.52, 0.52)\n",
    "ax.set_xlim(0.01, 1.4)\n",
    "ax.set_xscale('log')\n",
    "\n",
    "ax.legend(ncol=4, loc='upper center', columnspacing=1.4)\n",
    "\n",
    "fig.savefig(f'../../../Images/pdf/stretchevol.pdf', bbox_inches='tight')\n",
    "fig.savefig(f'../../../Images/png/stretchevol.png', bbox_inches='tight', dpi=600)"
   ]
  }
 ],
 "metadata": {
  "kernelspec": {
   "display_name": "Python 3",
   "language": "python",
   "name": "python3"
  },
  "language_info": {
   "codemirror_mode": {
    "name": "ipython",
    "version": 3
   },
   "file_extension": ".py",
   "mimetype": "text/x-python",
   "name": "python",
   "nbconvert_exporter": "python",
   "pygments_lexer": "ipython3",
   "version": "3.7.12"
  }
 },
 "nbformat": 4,
 "nbformat_minor": 4
}
