{
 "cells": [
  {
   "cell_type": "markdown",
   "metadata": {},
   "source": [
    "## Modules à importer"
   ]
  },
  {
   "cell_type": "code",
   "execution_count": 1,
   "metadata": {
    "jupyter": {
     "source_hidden": true
    },
    "tags": []
   },
   "outputs": [],
   "source": [
    "import math\n",
    "import scipy\n",
    "import pickle\n",
    "import numpy as np\n",
    "import pandas as pd\n",
    "import iminuit as im\n",
    "import ipywidgets as ipw\n",
    "from variaIa import tools_ar\n",
    "from variaIa import baserate\n",
    "from importlib import reload\n",
    "from variaIa import stretchevol\n",
    "from scipy.stats import poisson\n",
    "from matplotlib.lines import Line2D\n",
    "from scipy.interpolate import interp1d\n",
    "from matplotlib.patches import Ellipse\n",
    "from astropy.cosmology import Planck15 as cdata\n",
    "from variaIa.tools_ar import surveys, df_cons, df_nc, df_c, df_full, z_max\n",
    "from scipy.ndimage.filters import uniform_filter1d\n",
    "from IPython.display import display, Latex\n",
    "import matplotlib.pyplot as plt\n",
    "plt.rcParams['figure.facecolor'] = 'w'\n",
    "import random"
   ]
  },
  {
   "cell_type": "markdown",
   "metadata": {},
   "source": [
    "## Définitions pandas, surveys et sélection de l'échantillon à utiliser"
   ]
  },
  {
   "cell_type": "code",
   "execution_count": 2,
   "metadata": {
    "jupyter": {
     "source_hidden": true
    },
    "tags": []
   },
   "outputs": [
    {
     "data": {
      "application/vnd.jupyter.widget-view+json": {
       "model_id": "fdeceededebc461bba6dbd6df80fd288",
       "version_major": 2,
       "version_minor": 0
      },
      "text/plain": [
       "HBox(children=(interactive(children=(Checkbox(value=False, description='Conservative'), Dropdown(description='…"
      ]
     },
     "metadata": {},
     "output_type": "display_data"
    }
   ],
   "source": [
    "btw = ipw.Checkbox(\n",
    "    value=False,\n",
    "    description='btw')\n",
    "after = ipw.Checkbox(\n",
    "    value=False,\n",
    "    description='After')\n",
    "\n",
    "def set_survey(cons, su):\n",
    "    global df\n",
    "    if su == 'All':\n",
    "        df = df_cons(cons)\n",
    "    elif 'n' in su:\n",
    "        df = df_cons(cons)[df_cons(cons)['survey'] != su.split('n')[-1]]\n",
    "    else:\n",
    "        df = df_cons(cons)[df_cons(cons)['survey'] == su]\n",
    "    return df\n",
    "\n",
    "int_set_su = ipw.interactive(set_survey, cons=tools_ar.cons, su=tools_ar.su)\n",
    "display(ipw.HBox([int_set_su, btw, after]))\n",
    "\n",
    "smap = plt.cm.get_cmap('cividis')\n",
    "colors = {'SNF': plt.cm.binary(0.9),\n",
    "          'low-z': (1, 0, 0),\n",
    "          'SDSS': smap(0.1),\n",
    "          'PS1': smap(0.5),\n",
    "          'SNLS': smap(0.8),\n",
    "          'HST': smap(0.99),  # for cividis\n",
    "          #'HST': smap(300)}  # for viridis\n",
    "          'All': (255/255, 51/255, 0/255)}\n",
    "\n",
    "def alphacolors(alpha, survey):\n",
    "    return(colors[survey][0], colors[survey][1], colors[survey][2], alpha)\n",
    "\n",
    "df_nHST = df_nc[df_nc['survey'] != 'HST']\n",
    "surveysnl = surveys[0:1]+surveys[2:]"
   ]
  },
  {
   "cell_type": "markdown",
   "metadata": {},
   "source": [
    "## Utilisation de la classe _stretchevol_ pour le fit double total"
   ]
  },
  {
   "cell_type": "code",
   "execution_count": 9,
   "metadata": {},
   "outputs": [
    {
     "name": "stderr",
     "output_type": "stream",
     "text": [
      "/home/nicolas/.installs/anaconda3/lib/python3.7/site-packages/variaIa-0.8.4-py3.7.egg/variaIa/stretchevol.py:203: IMinuitWarning: errordef not set, using 1 (appropriate for least-squares)\n"
     ]
    },
    {
     "name": "stdout",
     "output_type": "stream",
     "text": [
      "<ErrorView aa=0.3278416207215911 mu_1=0.05368711735662956 sigma_1=0.03595022092773475 mu_2=0.1612207591154897 sigma_2=0.09549790162930145>\n"
     ]
    }
   ],
   "source": [
    "evol3G2M2S = stretchevol.Evol3G2M2S(df_nc)\n",
    "\n",
    "evol3G2M2S.GUESSVAL[3] = -1\n",
    "\n",
    "evol3G2M2S.minimize()\n",
    "\n",
    "print(evol3G2M2S.migrad_out.errors)\n",
    "\n",
    "###################################################\n",
    "\n",
    "evol3G2M2S_cons = stretchevol.Evol3G2M2S(df_c)\n",
    "\n",
    "evol3G2M2S_cons.GUESSVAL[3] = -1\n",
    "\n",
    "evol3G2M2S_cons.minimize()\n",
    "\n",
    "#evol3G2M2S_cons.migrad_out[1]\n",
    "\n",
    "#evol3G2M2S.plotter()\n",
    "\n",
    "#fig=plt.gcf()\n",
    "#fig.savefig('/home/nora/Pictures/BiGaussian.pdf')"
   ]
  },
  {
   "cell_type": "markdown",
   "metadata": {},
   "source": [
    "## Test without SNf Data"
   ]
  },
  {
   "cell_type": "code",
   "execution_count": 5,
   "metadata": {
    "jupyter": {
     "source_hidden": true
    },
    "tags": []
   },
   "outputs": [],
   "source": [
    "evol3G2M2S_nsnf = stretchevol.Evol3G2M2S()\n",
    "evol3G2M2S_nsnf.set_data(df[df['survey'].isin(['SDSS','PS1','SNLS','HST'])])\n",
    "\n",
    "evol3G2M2S_nsnf.minimize()"
   ]
  },
  {
   "cell_type": "markdown",
   "metadata": {},
   "source": [
    "## Get _a_ and _a-err_"
   ]
  },
  {
   "cell_type": "code",
   "execution_count": 6,
   "metadata": {
    "jupyter": {
     "source_hidden": true
    }
   },
   "outputs": [
    {
     "name": "stdout",
     "output_type": "stream",
     "text": [
      "vmin = 0.404\n",
      "vc = 0.499\n",
      "vmax = 0.602\n",
      "a = 0.5 ^ 0.1 _ -0.09\n",
      "vmin = 0.38\n",
      "vc = 0.465\n",
      "vmax = 0.553\n",
      "a = 0.47 ^ 0.09 _ -0.09\n"
     ]
    }
   ],
   "source": [
    "aa_list = scipy.stats.norm.rvs(loc=evol3G2M2S.migrad_out[1][0]['value'],\n",
    "                               scale=evol3G2M2S.migrad_out[1][0]['error'],\n",
    "                               size=1000)\n",
    "a_list = evol3G2M2S.get_a(aa_list)\n",
    "vmin, vc, vmax = np.percentile(a_list, [16, 50, 84])\n",
    "\n",
    "print('vmin =', round(vmin, 3))\n",
    "print('vc =', round(vc, 3))\n",
    "print('vmax =', round(vmax, 3))\n",
    "print('a =', round(vc, 2), '^', round(vmax-vc, 2), '_', round(-(vc-vmin), 2))\n",
    "\n",
    "aa_list = scipy.stats.norm.rvs(loc=evol3G2M2S_cons.migrad_out[1][0]['value'],\n",
    "                               scale=evol3G2M2S_cons.migrad_out[1][0]['error'],\n",
    "                               size=1000)\n",
    "a_list = evol3G2M2S_cons.get_a(aa_list)\n",
    "vmin, vc, vmax = np.percentile(a_list, [16, 50, 84])\n",
    "\n",
    "print('vmin =', round(vmin, 3))\n",
    "print('vc =', round(vc, 3))\n",
    "print('vmax =', round(vmax, 3))\n",
    "print('a =', round(vc, 2), '^', round(vmax-vc, 2), '_', round(-(vc-vmin), 2))"
   ]
  },
  {
   "cell_type": "markdown",
   "metadata": {},
   "source": [
    "## Utilisation de la classe _stretchevol_ pour le fit double"
   ]
  },
  {
   "cell_type": "code",
   "execution_count": 17,
   "metadata": {},
   "outputs": [
    {
     "name": "stderr",
     "output_type": "stream",
     "text": [
      "/home/nicolas/.installs/anaconda3/lib/python3.7/site-packages/variaIa-0.8.4-py3.7.egg/variaIa/stretchevol.py:203: IMinuitWarning: errordef not set, using 1 (appropriate for least-squares)\n"
     ]
    }
   ],
   "source": [
    "reload(stretchevol)\n",
    "\n",
    "evolSNF = stretchevol.Evol3G2M2S(df)\n",
    "\n",
    "evolSNF.minimize()\n",
    "\n",
    "#fig=plt.gcf()\n",
    "#fig.savefig('/home/nora/Documents/Thèse/Images/BiGaussian.pdf', bbox_inches='tight')"
   ]
  },
  {
   "cell_type": "code",
   "execution_count": 10,
   "metadata": {
    "jupyter": {
     "source_hidden": true
    }
   },
   "outputs": [
    {
     "name": "stdout",
     "output_type": "stream",
     "text": [
      "vmin = 0.41\n",
      "vc = 0.487\n",
      "vmax = 0.575\n",
      "a = 0.49 ^ 0.09 _ -0.08\n"
     ]
    }
   ],
   "source": [
    "aa_list = scipy.stats.norm.rvs(loc=evolSNF.migrad_out[1][0]['value'],\n",
    "                               scale=evolSNF.migrad_out[1][0]['error'],\n",
    "                               size=1000)\n",
    "a_list = evolSNF.get_a(aa_list)\n",
    "vmin, vc, vmax = np.percentile(a_list, [16, 50, 84])\n",
    "\n",
    "print('vmin =', round(vmin, 3))\n",
    "print('vc =', round(vc, 3))\n",
    "print('vmax =', round(vmax, 3))\n",
    "print('a =', round(vc, 2), '^', round(vmax-vc, 2), '_', round(-(vc-vmin), 2))"
   ]
  },
  {
   "cell_type": "markdown",
   "metadata": {},
   "source": [
    "## Défnition _age-law_"
   ]
  },
  {
   "cell_type": "code",
   "execution_count": 4,
   "metadata": {},
   "outputs": [],
   "source": [
    "def delta(z):\n",
    "    return stretchevol.Evol2G2M2S.delta(z)\n",
    "\n",
    "with open('../../../Data/fits/SNF_results', 'rb') as f:\n",
    "    res_SNF = pickle.load(f)\n",
    "\n",
    "def age_law_snf(z):\n",
    "    \"\"\"Analytical law with snf results\"\"\"\n",
    "    return (delta(z)*res_SNF['mu_1'] +\n",
    "        (1-delta(z))*(evol3G2M2S.get_a(res_SNF['aa'])*res_SNF['mu_1']\n",
    "                      + (1-evol3G2M2S.get_a(res_SNF['aa']))*res_SNF['mu_2']))\n",
    "\n",
    "with open('../../../Data/fits/ALL_results', 'rb') as f:\n",
    "    res_ALL = pickle.load(f)\n",
    "\n",
    "def age_law_all(z):\n",
    "    \"\"\"Analytical law with 3G2M2S results\"\"\"\n",
    "    return (delta(z)*res_ALL['mu_1']\n",
    "      + (1-delta(z))*(evol3G2M2S.get_a(res_ALL['aa'])*res_ALL['mu_1']\n",
    "                      + (1 - evol3G2M2S.get_a(res_ALL['aa']))*res_ALL['mu_2']))\n",
    "\n",
    "def age_law_all_test(z):\n",
    "    \"\"\"Analytical law with 3G2M2S results\"\"\"\n",
    "    return (delta(z)*evol3G2M2S.param['mu_1']\n",
    "      + (1-delta(z))*(evol3G2M2S.get_a(evol3G2M2S.param['aa'])*evol3G2M2S.param['mu_1']\n",
    "                      + (1 - evol3G2M2S.get_a(evol3G2M2S.param['aa']))*evol3G2M2S.param['mu_2']))\n",
    "\n",
    "def age_law_all_nsnf(z):\n",
    "    \"\"\"Analytical law with 3G2M2S results fitted without SNf\"\"\"\n",
    "    return (delta(z)*evol3G2M2S_nsnf.param['mu_1']\n",
    "      + (1-delta(z))*(evol3G2M2S.get_a(evol3G2M2S_nsnf.param['aa'])*evol3G2M2S_nsnf.param['mu_1']\n",
    "                      + (1 - evol3G2M2S.get_a(evol3G2M2S_nsnf.param['aa']))*evol3G2M2S_nsnf.param['mu_2']))\n",
    "\n",
    "def age_law_all_cons(z):\n",
    "    \"\"\"Analytical law with 3G2M2S results\"\"\"\n",
    "    return (delta(z)*evol3G2M2S_cons.param['mu_1']\n",
    "      + (1-delta(z))*(evol3G2M2S.get_a(evol3G2M2S_cons.param['aa'])*evol3G2M2S_cons.param['mu_1']\n",
    "                      + (1 - evol3G2M2S.get_a(evol3G2M2S_cons.param['aa']))*evol3G2M2S_cons.param['mu_2']))\n",
    "\n",
    "def age_law_gen(z, param_hesse):\n",
    "    \"\"\"Function to get laws with parameters taken wrt there hesse error\"\"\"\n",
    "    return (delta(z)*param_hesse[1]\n",
    "      + (1-delta(z))*(evol3G2M2S.get_a(param_hesse[0])*param_hesse[1]\n",
    "                      + (1 - evol3G2M2S.get_a(param_hesse[0]))*param_hesse[2]))"
   ]
  },
  {
   "cell_type": "markdown",
   "metadata": {},
   "source": [
    "## Définition de _cov_ pour sélection aléatoire des paramètres"
   ]
  },
  {
   "cell_type": "code",
   "execution_count": 18,
   "metadata": {},
   "outputs": [],
   "source": [
    "# cov = im.Minuit.matrix(evol3G2M2S.m_tot)\n",
    "cov = evol3G2M2S.m_tot.covariance\n",
    "mean = [evol3G2M2S.m_tot.values[i] for i in range(5)]\n",
    "param_hesse_mat = scipy.stats.multivariate_normal.rvs(mean=mean, cov=cov, size=500)\n",
    "\n",
    "# cov_cons = im.Minuit.matrix(evol3G2M2S_cons.m_tot)\n",
    "cov_cons = evol3G2M2S_cons.m_tot.covariance\n",
    "mean_cons = [evol3G2M2S_cons.m_tot.values[i] for i in range(5)]\n",
    "param_hesse_mat_cons = scipy.stats.multivariate_normal.rvs(mean=mean_cons, cov=cov_cons, size=500)\n",
    "\n",
    "# cov_snf = im.Minuit.matrix(evolSNF.m_tot)\n",
    "cov_snf = evolSNF.m_tot.covariance\n",
    "mean_snf = [evolSNF.m_tot.values[i] for i in range(5)]\n",
    "param_hesse_mat_snf = scipy.stats.multivariate_normal.rvs(mean=mean_snf, cov=cov_snf, size=500)"
   ]
  },
  {
   "cell_type": "markdown",
   "metadata": {},
   "source": [
    "### Only take _a_, _µ1_ and _µ2_"
   ]
  },
  {
   "cell_type": "code",
   "execution_count": 20,
   "metadata": {},
   "outputs": [],
   "source": [
    "param_hesse_cut = param_hesse_mat[:,[0,1,3]]\n",
    "\n",
    "param_hesse_cut_cons = param_hesse_mat_cons[:,[0,1,3]]\n",
    "\n",
    "param_hesse_cut_snf = param_hesse_mat_snf[:,[0,1,3]]"
   ]
  },
  {
   "cell_type": "markdown",
   "metadata": {},
   "source": [
    "### List of all the models"
   ]
  },
  {
   "cell_type": "code",
   "execution_count": 21,
   "metadata": {},
   "outputs": [],
   "source": [
    "zlin = np.linspace(0, 2.65, 3000)\n",
    "models_hesse = [[age_law_gen(zi, param_hesse) for zi in zlin] for param_hesse in param_hesse_cut]\n",
    "models_hesse = np.asarray(models_hesse)\n",
    "\n",
    "models_hesse_cons = [[age_law_gen(zi, param_hesse_cons) for zi in zlin] for param_hesse_cons in param_hesse_cut_cons]\n",
    "models_hesse_cons = np.asarray(models_hesse_cons)\n",
    "\n",
    "models_hesse_snf = [[age_law_gen(zi, param_hesse) for zi in zlin] for param_hesse in param_hesse_cut_snf]\n",
    "models_hesse_snf = np.asarray(models_hesse_snf)"
   ]
  },
  {
   "cell_type": "markdown",
   "metadata": {},
   "source": [
    "### Take _std_"
   ]
  },
  {
   "cell_type": "code",
   "execution_count": 22,
   "metadata": {},
   "outputs": [],
   "source": [
    "models_std = np.std(models_hesse, axis=0)\n",
    "\n",
    "models_std_cons = np.std(models_hesse_cons, axis=0)\n",
    "\n",
    "models_std_snf = np.std(models_hesse_snf, axis=0)"
   ]
  },
  {
   "cell_type": "markdown",
   "metadata": {},
   "source": [
    "## Moyennage sur toutes les données pour plus de points"
   ]
  },
  {
   "cell_type": "markdown",
   "metadata": {},
   "source": [
    "### Définition des bins sur lesquels faire les moyennes"
   ]
  },
  {
   "cell_type": "code",
   "execution_count": 23,
   "metadata": {},
   "outputs": [],
   "source": [
    "def histedges_equalN(x, nbin):\n",
    "    npt = len(x)\n",
    "    return np.interp(np.linspace(0, npt, nbin + 1),\n",
    "                     np.arange(npt),\n",
    "                     np.sort(x))\n",
    "\n",
    "_, bins = np.histogram(df_nc.redshifts, histedges_equalN(df_nc.redshifts, 6))\n",
    "_, bins_cons = np.histogram(df_c.redshifts, histedges_equalN(df_c.redshifts, 6))\n",
    "\n",
    "bins_text = bins.copy()\n",
    "bins_text[-1] = 1.4\n",
    "shift_slices = [[0.007, 0.0085],\n",
    "                [0.008, 0.0115],\n",
    "                [0.012, 0.017],\n",
    "                [0.015, 0.023],\n",
    "                [0.029, 0.040],\n",
    "                [0.180, 0.210]]"
   ]
  },
  {
   "cell_type": "markdown",
   "metadata": {},
   "source": [
    "### Définition des slices"
   ]
  },
  {
   "cell_type": "code",
   "execution_count": 20,
   "metadata": {
    "collapsed": true,
    "jupyter": {
     "outputs_hidden": true,
     "source_hidden": true
    }
   },
   "outputs": [
    {
     "data": {
      "text/plain": [
       "26"
      ]
     },
     "execution_count": 20,
     "metadata": {},
     "output_type": "execute_result"
    }
   ],
   "source": [
    "i = -2\n",
    "df_lastbin = df_nc[(df_nc.redshifts > bins[i]) & (df_nc.redshifts <= bins[i+1])]\n",
    "len(df_lastbin[df_lastbin['survey'] == 'HST'])"
   ]
  },
  {
   "cell_type": "code",
   "execution_count": 24,
   "metadata": {},
   "outputs": [],
   "source": [
    "slices = []\n",
    "for i in range(6):\n",
    "    slices.append(np.where((df_nc.redshifts > bins[i])\n",
    "                           & (df_nc.redshifts <= bins[i+1]))[0])\n",
    "\n",
    "slices_cons = []\n",
    "for i in range(6):\n",
    "    slices_cons.append(np.where((df_c.redshifts > bins[i])\n",
    "                                & (df_c.redshifts <= bins[i+1]))[0])"
   ]
  },
  {
   "cell_type": "markdown",
   "metadata": {},
   "source": [
    "## Fit Gaussian stretch to each bin"
   ]
  },
  {
   "cell_type": "code",
   "execution_count": 30,
   "metadata": {},
   "outputs": [],
   "source": [
    "def gauss(x, dx, mu, sigma, normed=True):\n",
    "    '''Le modèle de distribution'''\n",
    "    sigma_eff = np.sqrt(dx**2+sigma**2)\n",
    "    norm = 1 if normed else np.sqrt(2*np.pi)*sigma_eff\n",
    "    return norm*scipy.stats.norm.pdf(x, mu, scale=sigma_eff)\n",
    "\n",
    "def minimize(xc, cons, nslice):\n",
    "    '''Meilleure valeur des paramètres'''\n",
    "    if cons == 'nc':\n",
    "        df_used = df_nc\n",
    "        slices_used = slices\n",
    "    elif cons == 'c':\n",
    "        df_used = df_c\n",
    "        slices_used = slices_cons\n",
    "    else:\n",
    "        raise ValueError(f\"'cons' must be either 'nc' or 'c', {cons} given\")\n",
    "    \n",
    "    if nslice == 'all':\n",
    "        def loglikelihood(mu, sigma):\n",
    "            '''La fonction à minimiser'''\n",
    "            return -2*np.sum(np.log(gauss(df_used[xc].values,\n",
    "                                          df_used[xc+'_err'].values,\n",
    "                                          mu, sigma))) \n",
    "    elif 0 <= nslice <= 5:\n",
    "        def loglikelihood(mu, sigma):\n",
    "            '''La fonction à minimiser'''\n",
    "            return -2*np.sum(np.log(gauss(df_used[xc].values[slices_used[nslice]],\n",
    "                                          df_used[xc+'_err'].values[slices_used[nslice]],\n",
    "                                          mu, sigma)))\n",
    "    else:\n",
    "        raise ValueError(\"'nslice' must be either 'all' or between 0 and 5 (included), \"\n",
    "                         +f'{nslice} given')\n",
    "    \n",
    "    m_tot = im.Minuit(loglikelihood, 0, 1)\n",
    "    migrad_out = m_tot.migrad()\n",
    "    return migrad_out"
   ]
  },
  {
   "cell_type": "markdown",
   "metadata": {},
   "source": [
    "## Computation of means and averages"
   ]
  },
  {
   "cell_type": "code",
   "execution_count": 75,
   "metadata": {},
   "outputs": [
    {
     "data": {
      "text/plain": [
       "'0.05'"
      ]
     },
     "execution_count": 75,
     "metadata": {},
     "output_type": "execute_result"
    }
   ],
   "source": [
    "evol3G2M2S.m_tot.params.to_table()[0][1][3]"
   ]
  },
  {
   "cell_type": "code",
   "execution_count": 84,
   "metadata": {},
   "outputs": [
    {
     "name": "stderr",
     "output_type": "stream",
     "text": [
      "/home/nicolas/.installs/anaconda3/lib/python3.7/site-packages/ipykernel_launcher.py:35: IMinuitWarning: errordef not set, using 1 (appropriate for least-squares)\n"
     ]
    },
    {
     "data": {
      "text/plain": [
       "0.0717658140505652"
      ]
     },
     "execution_count": 84,
     "metadata": {},
     "output_type": "execute_result"
    }
   ],
   "source": [
    "minimize('stretchs', 'nc', i).errors[-1]"
   ]
  },
  {
   "cell_type": "code",
   "execution_count": 85,
   "metadata": {},
   "outputs": [
    {
     "name": "stderr",
     "output_type": "stream",
     "text": [
      "/home/nicolas/.installs/anaconda3/lib/python3.7/site-packages/ipykernel_launcher.py:35: IMinuitWarning: errordef not set, using 1 (appropriate for least-squares)\n"
     ]
    }
   ],
   "source": [
    "z_comp_mean = np.zeros(6)\n",
    "z_comp_std = np.zeros(6)\n",
    "x1_comp_mean = np.zeros(6)\n",
    "x1_comp_average = np.zeros(6)\n",
    "x1_comp_std = np.zeros(6)\n",
    "c_comp_mean = np.zeros(6)\n",
    "c_comp_average = np.zeros(6)\n",
    "c_comp_std = np.zeros(6)\n",
    "\n",
    "for i in range(6):\n",
    "    z_comp_mean[i] = np.mean(df_nc.redshifts.values[slices[i]])\n",
    "    z_comp_std[i] = np.std(df_nc.redshifts.values[slices[i]])\n",
    "    x1_comp_mean[i] = np.mean(df_nc.stretchs.values[slices[i]])\n",
    "    x1_comp_average[i] = np.average(df_nc.stretchs.values[slices[i]],\n",
    "                                    weights=1/(df_nc.stretchs_err.values[slices[i]]**2 +\n",
    "                                               minimize('stretchs', 'nc', i).errors[-1]**2))\n",
    "    x1_comp_std[i] = np.std(df_nc.stretchs.values[slices[i]])\n",
    "    c_comp_mean[i] = np.mean(df_nc.colors.values[slices[i]])\n",
    "    c_comp_average[i] = np.average(df_nc.colors.values[slices[i]],\n",
    "                                   weights=1/(df_nc.colors_err.values[slices[i]]**2 +\n",
    "                                              minimize('colors', 'nc', i).errors[-1]**2))\n",
    "    c_comp_std[i] = np.std(df_nc.colors.values[slices[i]])\n",
    "\n",
    "z_comp_mean_cons = np.zeros(6)\n",
    "z_comp_std_cons = np.zeros(6)\n",
    "x1_comp_mean_cons = np.zeros(6)\n",
    "x1_comp_average_cons = np.zeros(6)\n",
    "x1_comp_std_cons = np.zeros(6)\n",
    "c_comp_mean_cons = np.zeros(6)\n",
    "c_comp_average_cons = np.zeros(6)\n",
    "c_comp_std_cons = np.zeros(6)\n",
    "\n",
    "for i in range(6):\n",
    "    z_comp_mean_cons[i] = np.mean(df_c.redshifts.values[slices_cons[i]])\n",
    "    z_comp_std_cons[i] = np.std(df_c.redshifts.values[slices_cons[i]])\n",
    "    x1_comp_mean_cons[i] = np.mean(df_c.stretchs.values[slices_cons[i]])\n",
    "    x1_comp_average_cons[i] = np.average(df_c.stretchs.values[slices_cons[i]],\n",
    "                                         weights=1/(df_c.stretchs_err.values[slices_cons[i]]**2 +\n",
    "                                                    minimize('stretchs', 'c', i).errors[-1]**2))\n",
    "    x1_comp_std_cons[i] = np.std(df_c.stretchs.values[slices_cons[i]])\n",
    "    c_comp_mean_cons[i] = np.mean(df_c.colors.values[slices_cons[i]])\n",
    "    c_comp_average_cons[i] = np.average(df_c.colors.values[slices_cons[i]],\n",
    "                                        weights=1/(df_c.colors.values[slices_cons[i]]**2 +\n",
    "                                                   minimize('colors', 'c', i).errors[-1]**2))\n",
    "    c_comp_std_cons[i] = np.std(df_c.colors.values[slices_cons[i]])"
   ]
  },
  {
   "cell_type": "code",
   "execution_count": 87,
   "metadata": {},
   "outputs": [
    {
     "name": "stdout",
     "output_type": "stream",
     "text": [
      "redshift_mean = 0.048\n",
      "stretch_mean = -0.17 ± 0.1\n",
      "stretch_average = -0.19 ± 0.1\n",
      "redshift_mean = 0.72\n",
      "stretch_mean = 0.32 ± 0.097\n",
      "stretch_average = 0.19 ± 0.097\n"
     ]
    }
   ],
   "source": [
    "print(f'redshift_mean = {z_comp_mean[0]:.2}')\n",
    "print(f'stretch_mean = {x1_comp_mean[0]:.2} ± ' +\n",
    "      f'{x1_comp_std[0]/np.sqrt(len(df_nc.stretchs.values[slices[0]])):.2}')\n",
    "print(f'stretch_average = {x1_comp_average[0]:.2} ± ' +\n",
    "      f'{x1_comp_std[0]/np.sqrt(len(df_nc.stretchs.values[slices[0]])):.2}')\n",
    "print(f'redshift_mean = {z_comp_mean[-1]:.2}')\n",
    "print(f'stretch_mean = {x1_comp_mean[-1]:.2} ± ' +\n",
    "      f'{x1_comp_std[-1]/np.sqrt(len(df_nc.stretchs.values[slices[-1]])):.2}')\n",
    "print(f'stretch_average = {x1_comp_average[-1]:.2} ± ' +\n",
    "      f'{x1_comp_std[-1]/np.sqrt(len(df_nc.stretchs.values[slices[-1]])):.2}')"
   ]
  },
  {
   "cell_type": "code",
   "execution_count": 89,
   "metadata": {},
   "outputs": [
    {
     "name": "stdout",
     "output_type": "stream",
     "text": [
      "redshift_mean[0] = 0.048\n",
      "stretch_mean[0] = -0.17 ± 0.1\n",
      "stretch_average[0] = -0.19 ± 0.1\n",
      "redshift_mean[1] = 0.092\n",
      "stretch_mean[1] = 0.039 ± 0.089\n",
      "stretch_average[1] = 0.031 ± 0.089\n",
      "redshift_mean[2] = 0.15\n",
      "stretch_mean[2] = -0.045 ± 0.11\n",
      "stretch_average[2] = 0.068 ± 0.11\n",
      "redshift_mean[3] = 0.2\n",
      "stretch_mean[3] = 0.082 ± 0.087\n",
      "stretch_average[3] = 0.094 ± 0.087\n",
      "redshift_mean[4] = 0.29\n",
      "stretch_mean[4] = 0.11 ± 0.079\n",
      "stretch_average[4] = 0.063 ± 0.079\n",
      "redshift_mean[5] = 0.72\n",
      "stretch_mean[5] = 0.32 ± 0.097\n",
      "stretch_average[5] = 0.19 ± 0.097\n",
      "Global stretch mean = 0.058\n",
      "Global stretch average = 0.0077\n"
     ]
    },
    {
     "name": "stderr",
     "output_type": "stream",
     "text": [
      "/home/nicolas/.installs/anaconda3/lib/python3.7/site-packages/ipykernel_launcher.py:35: IMinuitWarning: errordef not set, using 1 (appropriate for least-squares)\n"
     ]
    }
   ],
   "source": [
    "for i in range(6):\n",
    "    print(f'redshift_mean[{i}] = {z_comp_mean[i]:.2}')\n",
    "    print(f'stretch_mean[{i}] = {x1_comp_mean[i]:.2} ± ' +\n",
    "          f'{x1_comp_std[i]/np.sqrt(len(df_nc.stretchs.values[slices[i]])):.2}')\n",
    "    print(f'stretch_average[{i}] = {x1_comp_average[i]:.2} ± ' +\n",
    "          f'{x1_comp_std[i]/np.sqrt(len(df_nc.stretchs.values[slices[i]])):.2}')\n",
    "    \n",
    "tot_x1_ave = np.average(df_nc.stretchs,\n",
    "                        weights=1/(df_nc.stretchs**2 +\n",
    "                                   minimize('stretchs', 'nc', 'all').errors[-1]**2))\n",
    "print(f'Global stretch mean = {np.mean(df_nc.stretchs):.2}')\n",
    "print(f'Global stretch average = {tot_x1_ave:.2}')"
   ]
  },
  {
   "cell_type": "markdown",
   "metadata": {},
   "source": [
    "## Stretch evol"
   ]
  },
  {
   "cell_type": "code",
   "execution_count": 90,
   "metadata": {},
   "outputs": [
    {
     "data": {
      "application/vnd.jupyter.widget-view+json": {
       "model_id": "04fbff74260e4b5984b6d4189d0cc680",
       "version_major": 2,
       "version_minor": 0
      },
      "text/plain": [
       "Dropdown(description='Type of mean:', options=('mean', 'weighted'), value='mean')"
      ]
     },
     "metadata": {},
     "output_type": "display_data"
    }
   ],
   "source": [
    "mean_c = ipw.Dropdown(options=['mean', 'weighted'],\n",
    "                      value='mean',\n",
    "                      description='Type of mean:')\n",
    "\n",
    "display(mean_c)"
   ]
  },
  {
   "cell_type": "code",
   "execution_count": 91,
   "metadata": {},
   "outputs": [
    {
     "name": "stderr",
     "output_type": "stream",
     "text": [
      "/home/nicolas/.installs/anaconda3/lib/python3.7/site-packages/variaIa-0.8.4-py3.7.egg/variaIa/stretchevol.py:203: IMinuitWarning: errordef not set, using 1 (appropriate for least-squares)\n"
     ]
    }
   ],
   "source": [
    "evol1G1M1S = stretchevol.Evol1G1M1S(df_nc)\n",
    "evol1G1M1S.minimize()"
   ]
  },
  {
   "cell_type": "code",
   "execution_count": 92,
   "metadata": {},
   "outputs": [
    {
     "data": {
      "text/plain": [
       "{'mu': 0.055969361184295005, 'sigma': 0.8778753128045755}"
      ]
     },
     "execution_count": 92,
     "metadata": {},
     "output_type": "execute_result"
    }
   ],
   "source": [
    "evol1G1M1S.param"
   ]
  },
  {
   "cell_type": "code",
   "execution_count": 37,
   "metadata": {},
   "outputs": [
    {
     "data": {
      "image/png": "[encoded data removed]",
      "text/plain": [
       "<Figure size 576x360 with 1 Axes>"
      ]
     },
     "metadata": {},
     "output_type": "display_data"
    }
   ],
   "source": [
    "fig = plt.figure(figsize=[8, 5])\n",
    "ax = fig.add_axes([0.1, 0.12, 0.8, 0.8])\n",
    "\n",
    "prop2 = dict(marker=\"o\", ms=15, ecolor=\"0.7\", mew=1, mec=\"0.5\")\n",
    "prop = dict(marker=\"o\", ms=15, ecolor=\"k\", mew=1, mec=\"k\", mfc=\"0.7\")\n",
    "\n",
    "cmap = 'inferno'\n",
    "\n",
    "#vmap_v = plt.cm.get_cmap(cmap)(np.linspace(0, 1, len(bins)))\n",
    "for i in range(len(bins)):\n",
    "    ax.vline(bins[i], color=\"0.7\", lw=1)\n",
    "\n",
    "#############################################################################################\n",
    "\n",
    "if mean_c.value == 'mean':\n",
    "    vmap_s = plt.cm.get_cmap(cmap)(np.linspace(0, 1, 6))\n",
    "    for i, c in zip(range(6), vmap_s):\n",
    "        ax.errorbar(z_comp_mean[i], x1_comp_mean[i],\n",
    "                    xerr = z_comp_std[i]/np.sqrt(len(df_nc.redshifts.values[slices[i]])),\n",
    "                    yerr = x1_comp_std[i]/np.sqrt(len(df_nc.stretchs.values[slices[i]])),\n",
    "                    color=vmap_s[i], **prop, zorder=10, lw=1)\n",
    "else:\n",
    "    for i, c in zip(range(6), vmap_s):\n",
    "        ax.errorbar(z_comp_mean[i], x1_comp_average[i],\n",
    "                    xerr = z_comp_std[i]/np.sqrt(len(df_nc.redshifts.values[slices[i]])),\n",
    "                    yerr = x1_comp_std[i]/np.sqrt(len(df_nc.stretchs.values[slices[i]])),\n",
    "                    color=vmap_s[i], **prop, zorder=10, lw=1)\n",
    "\n",
    "\n",
    "ax.plot(zlin, age_law_snf(zlin),\n",
    "        color=\"0.5\", lw=2, ls='-',\n",
    "        label='SNf (114)', zorder=6)\n",
    "\n",
    "#ax.fill_between(zlin, age_law_snf(zlin) + models_std_snf,\n",
    "#                age_law_snf(zlin) - models_std_snf,\n",
    "#                color=\"0.5\", alpha=.1, lw=2)\n",
    "\n",
    "ax.plot(zlin, age_law_all(zlin),\n",
    "        color=\"C0\", lw=2,\n",
    "        label='Reference(569)', zorder=8)\n",
    "##        label='Age-drift Model', zorder=8)\n",
    "\n",
    "ax.fill_between(zlin, age_law_all(zlin) + models_std,\n",
    "                age_law_all(zlin) - models_std,\n",
    "                color=\"C0\", alpha=.1, lw=2)\n",
    "\n",
    "#ax.plot(zlin, age_law_all_nsnf(zlin),\n",
    "#        color=\"0.5\", lw=1, ls='-.',\n",
    "#        label='All but SNf (455)', zorder=8)\n",
    "\n",
    "ax.set_xlabel(r\"$\\mathrm{redshift}$ \", fontsize=\"x-large\")\n",
    "ax.set_ylabel(r\"$\\mathrm{mean\\,\\,x}_1$ \", fontsize=\"x-large\")\n",
    "\n",
    "#############################################################################################\n",
    "\n",
    "if mean_c.value == 'mean':\n",
    "    for i, c in zip(range(6), vmap_s):\n",
    "        ax.errorbar(z_comp_mean_cons[i], x1_comp_mean_cons[i],\n",
    "                     xerr=z_comp_std_cons[i]/np.sqrt(len(df_c.redshifts.values[slices_cons[i]])),\n",
    "                     yerr=x1_comp_std_cons[i]/np.sqrt(len(df_c.stretchs.values[slices_cons[i]])),\n",
    "                     color=vmap_s[i], **prop, alpha=.3, zorder=9, lw=1)\n",
    "\n",
    "else:\n",
    "    for i, c in zip(range(6), vmap_s):\n",
    "        ax.errorbar(z_comp_mean_cons[i], x1_comp_average_cons[i],\n",
    "                     xerr = z_comp_std_cons[i]/np.sqrt(len(df_c.redshifts.values[slices_cons[i]])),\n",
    "                     yerr = x1_comp_std_cons[i]/np.sqrt(len(df_c.stretchs.values[slices_cons[i]])),\n",
    "                     color=vmap_s[i], **prop, alpha=.3, zorder=9, lw=1)\n",
    "\n",
    "ax.plot(zlin, age_law_all_cons(zlin),\n",
    "        color=\"C0\", lw=1.5, ls='--', alpha=.5,\n",
    "        label='Conservative (422)', zorder=7)\n",
    "\n",
    "#############################################################################################\n",
    "\n",
    "if mean_c.value == 'mean':\n",
    "    ax.hline(evol1G1M1S.param['mu'], color='C1', lw=1, ls='-', label='Mean stretch')\n",
    "    #ax.hline(np.mean(df_nc.stretchs), color='C1', lw=1, ls='-', label='Mean stretch')\n",
    "\n",
    "else:\n",
    "    ax.hline(np.average(df_nc.stretchs,\n",
    "                        weights=1/(df_nc.stretchs**2 +\n",
    "                                   minimize('stretchs', 'nc', 'all')[1][1]['value']**2)),\n",
    "             color='C1', lw=1, ls='-', label='Weighted stretch')\n",
    "\n",
    "#############################################################################################\n",
    "\n",
    "for i in range(6):\n",
    "    if len(df_nc.redshifts.values[slices[i]]) == len(df_c.redshifts.values[slices_cons[i]]):\n",
    "        ax.text((bins_text[i+1]+bins_text[i])/2-shift_slices[i][0], -0.465,\n",
    "                str(len(df_nc.redshifts.values[slices[i]])), alpha=.2)\n",
    "    else:\n",
    "        ax.text((bins_text[i+1]+bins_text[i])/2-shift_slices[i][0], -0.45,\n",
    "                str(len(df_nc.redshifts.values[slices[i]])), alpha=.2)\n",
    "        ax.text((bins_text[i+1]+bins_text[i])/2-shift_slices[i][1], -0.48,\n",
    "                '(' + str(len(df_c.redshifts.values[slices_cons[i]])) + ')', alpha=.2)\n",
    "\n",
    "#############################################################################################\n",
    "\n",
    "ax.set_ylim(-0.52, 0.52)\n",
    "ax.set_xlim(0.01, 1.4)\n",
    "ax.set_xscale('log')\n",
    "\n",
    "ax.legend(ncol=4, loc='upper center', columnspacing=1.4)\n",
    "\n",
    "fig.savefig(f'../../../Images/pdf/stretchevol_all_vs_snf-{mean_c.value}.pdf', bbox_inches='tight')\n",
    "fig.savefig(f'../../../Images/png/stretchevol_all_vs_snf-{mean_c.value}.png', bbox_inches='tight', dpi=600)"
   ]
  },
  {
   "cell_type": "markdown",
   "metadata": {},
   "source": [
    "### Stretchevol all no cons"
   ]
  },
  {
   "cell_type": "code",
   "execution_count": 44,
   "metadata": {
    "tags": []
   },
   "outputs": [
    {
     "data": {
      "image/png": "[encoded data removed]",
      "text/plain": [
       "<Figure size 576x360 with 1 Axes>"
      ]
     },
     "metadata": {},
     "output_type": "display_data"
    }
   ],
   "source": [
    "fig = plt.figure(figsize=[8, 5])\n",
    "ax = fig.add_axes([0.1, 0.12, 0.8, 0.8])\n",
    "\n",
    "prop2 = dict(marker=\"o\", ms=15, ecolor=\"0.7\", mew=1, mec=\"0.5\")\n",
    "prop = dict(marker=\"o\", ms=15, ecolor=\"k\", mew=1, mec=\"k\", mfc=\"0.7\")\n",
    "\n",
    "cmap = 'inferno'\n",
    "\n",
    "#vmap_v = plt.cm.get_cmap(cmap)(np.linspace(0, 1, len(bins)))\n",
    "for i in range(len(bins)):\n",
    "    ax.vline(bins[i], color=\"0.7\", lw=1)\n",
    "\n",
    "#############################################################################################\n",
    "\n",
    "if mean_c.value == 'mean':\n",
    "    vmap_s = plt.cm.get_cmap(cmap)(np.linspace(0, 1, 6))\n",
    "    for i, c in zip(range(6), vmap_s):\n",
    "        ax.errorbar(z_comp_mean[i], x1_comp_mean[i],\n",
    "                    xerr = z_comp_std[i]/np.sqrt(len(df_nc.redshifts.values[slices[i]])),\n",
    "                    yerr = x1_comp_std[i]/np.sqrt(len(df_nc.stretchs.values[slices[i]])),\n",
    "                    color=vmap_s[i], **prop, zorder=10, lw=1)\n",
    "else:\n",
    "    for i, c in zip(range(6), vmap_s):\n",
    "        ax.errorbar(z_comp_mean[i], x1_comp_average[i],\n",
    "                    xerr = z_comp_std[i]/np.sqrt(len(df_nc.redshifts.values[slices[i]])),\n",
    "                    yerr = x1_comp_std[i]/np.sqrt(len(df_nc.stretchs.values[slices[i]])),\n",
    "                    color=vmap_s[i], **prop, zorder=10, lw=1)\n",
    "\n",
    "ax.plot(zlin, age_law_all(zlin),\n",
    "        color=\"C0\", lw=2,\n",
    "        #label='Reference(569)', zorder=8)\n",
    "        label='Age-drift model', zorder=8)\n",
    "\n",
    "ax.fill_between(zlin, age_law_all(zlin) + models_std,\n",
    "                age_law_all(zlin) - models_std,\n",
    "                color=\"C0\", alpha=.1, lw=2)\n",
    "\n",
    "ax.set_xlabel(r\"$\\mathrm{redshift}$ \", fontsize=\"x-large\")\n",
    "ax.set_ylabel(r\"$\\mathrm{mean\\,\\,x}_1$ \", fontsize=\"x-large\")\n",
    "\n",
    "#############################################################################################\n",
    "\n",
    "# if mean_c.value == 'mean':\n",
    "#     for i, c in zip(range(6), vmap_s):\n",
    "#         ax.errorbar(z_comp_mean_cons[i], x1_comp_mean_cons[i],\n",
    "#                      xerr=z_comp_std_cons[i]/np.sqrt(len(df_c.redshifts.values[slices_cons[i]])),\n",
    "#                      yerr=x1_comp_std_cons[i]/np.sqrt(len(df_c.stretchs.values[slices_cons[i]])),\n",
    "#                      color=vmap_s[i], **prop, alpha=.3, zorder=9, lw=1)\n",
    "# \n",
    "# else:\n",
    "#     for i, c in zip(range(6), vmap_s):\n",
    "#         ax.errorbar(z_comp_mean_cons[i], x1_comp_average_cons[i],\n",
    "#                      xerr = z_comp_std_cons[i]/np.sqrt(len(df_c.redshifts.values[slices_cons[i]])),\n",
    "#                      yerr = x1_comp_std_cons[i]/np.sqrt(len(df_c.stretchs.values[slices_cons[i]])),\n",
    "#                      color=vmap_s[i], **prop, alpha=.3, zorder=9, lw=1)\n",
    "\n",
    "#############################################################################################\n",
    "\n",
    "if mean_c.value == 'mean':\n",
    "    ax.hline(evol1G1M1S.param['mu'], color='C1', lw=1, ls='-', label='Mean stretch')\n",
    "    #ax.hline(np.mean(df_nc.stretchs), color='C1', lw=1, ls='-', label='Mean stretch')\n",
    "\n",
    "else:\n",
    "    ax.hline(np.average(df_nc.stretchs,\n",
    "                        weights=1/(df_nc.stretchs**2 +\n",
    "                                   minimize('stretchs', 'nc', 'all')[1][1]['value']**2)),\n",
    "             color='C1', lw=1, ls='-', label='Weighted stretch')\n",
    "\n",
    "#############################################################################################\n",
    "\n",
    "for i in range(6):\n",
    "    if len(df_nc.redshifts.values[slices[i]]) == len(df_c.redshifts.values[slices_cons[i]]):\n",
    "        ax.text((bins_text[i+1]+bins_text[i])/2-shift_slices[i][0], -0.465,\n",
    "                str(len(df_nc.redshifts.values[slices[i]])), alpha=.2)\n",
    "    else:\n",
    "        ax.text((bins_text[i+1]+bins_text[i])/2-shift_slices[i][0], -0.45,\n",
    "                str(len(df_nc.redshifts.values[slices[i]])), alpha=.2)\n",
    "        ax.text((bins_text[i+1]+bins_text[i])/2-shift_slices[i][1], -0.48,\n",
    "                '(' + str(len(df_c.redshifts.values[slices_cons[i]])) + ')', alpha=.2)\n",
    "\n",
    "#############################################################################################\n",
    "\n",
    "ax.set_ylim(-0.52, 0.52)\n",
    "ax.set_xlim(0.01, 1.4)\n",
    "ax.set_xscale('log')\n",
    "\n",
    "ax.legend(ncol=4, loc='upper center', columnspacing=1.4)\n",
    "\n",
    "fig.savefig(f'../../../Images/pdf/stretchevol_all_nocons-{mean_c.value}.pdf', bbox_inches='tight')\n",
    "fig.savefig(f'../../../Images/png/stretchevol_all_nocons-{mean_c.value}.png', bbox_inches='tight', dpi=600)"
   ]
  },
  {
   "cell_type": "markdown",
   "metadata": {},
   "source": [
    "## Stretch and mean evol"
   ]
  },
  {
   "cell_type": "code",
   "execution_count": 94,
   "metadata": {
    "jupyter": {
     "source_hidden": true
    },
    "tags": []
   },
   "outputs": [
    {
     "data": {
      "image/png": "[encoded data removed]",
      "text/plain": [
       "<Figure size 576x360 with 1 Axes>"
      ]
     },
     "metadata": {},
     "output_type": "display_data"
    }
   ],
   "source": [
    "fig = plt.figure(figsize=[8, 5])\n",
    "ax = fig.add_axes([0.1, 0.12, 0.8, 0.8])\n",
    "\n",
    "prop2 = dict(marker=\"o\", ms=15, ecolor=\"0.7\", mew=1, mec=\"0.5\")\n",
    "prop = dict(marker=\"o\", ms=15, ecolor=\"k\", mew=1, mec=\"k\", mfc=\"0.7\")\n",
    "\n",
    "cmap = 'inferno'\n",
    "\n",
    "ax.plot(zlin, age_law_all(zlin),\n",
    "        color=\"C0\", lw=2,\n",
    "        #label='Reference(569)', zorder=8)\n",
    "        label='Age-drift model', zorder=8)\n",
    "\n",
    "ax.fill_between(zlin, age_law_all(zlin) + models_std,\n",
    "                age_law_all(zlin) - models_std,\n",
    "                color=\"C0\", alpha=.1, lw=2)\n",
    "\n",
    "ax.set_xlabel(r\"$\\mathrm{redshift}$ \", fontsize=\"x-large\")\n",
    "ax.set_ylabel(r\"$\\mathrm{mean\\,\\,x}_1$ \", fontsize=\"x-large\")\n",
    "\n",
    "if mean_c.value == 'mean':\n",
    "    ax.hline(evol1G1M1S.param['mu'], color='C1', lw=1, ls='-', label='Mean stretch')\n",
    "    #ax.hline(np.mean(df_nc.stretchs), color='C1', lw=1, ls='-', label='Mean stretch')\n",
    "\n",
    "else:\n",
    "    ax.hline(np.average(df_nc.stretchs,\n",
    "                        weights=1/(df_nc.stretchs**2 +\n",
    "                                   minimize('stretchs', 'nc', 'all')[1][1]['value']**2)),\n",
    "             color='C1', lw=1, ls='-', label='Weighted stretch')\n",
    "\n",
    "ax.set_ylim(-0.52, 0.52)\n",
    "ax.set_xlim(0.01, 1.4)\n",
    "ax.set_xscale('log')\n",
    "\n",
    "ax.legend(ncol=4, loc='upper center', columnspacing=1.4)\n",
    "\n",
    "fig.savefig(f'../../../Images/pdf/stretchevol_meanevol.pdf', bbox_inches='tight')\n",
    "fig.savefig(f'../../../Images/png/stretchevol_meanevol.png', bbox_inches='tight', dpi=600)"
   ]
  },
  {
   "cell_type": "markdown",
   "metadata": {},
   "source": [
    "## Stretchevol"
   ]
  },
  {
   "cell_type": "code",
   "execution_count": 93,
   "metadata": {
    "jupyter": {
     "source_hidden": true
    },
    "tags": []
   },
   "outputs": [
    {
     "data": {
      "image/png": "[encoded data removed]",
      "text/plain": [
       "<Figure size 576x360 with 1 Axes>"
      ]
     },
     "metadata": {},
     "output_type": "display_data"
    }
   ],
   "source": [
    "fig = plt.figure(figsize=[8, 5])\n",
    "ax = fig.add_axes([0.1, 0.12, 0.8, 0.8])\n",
    "\n",
    "prop2 = dict(marker=\"o\", ms=15, ecolor=\"0.7\", mew=1, mec=\"0.5\")\n",
    "prop = dict(marker=\"o\", ms=15, ecolor=\"k\", mew=1, mec=\"k\", mfc=\"0.7\")\n",
    "\n",
    "ax.plot(zlin, age_law_all(zlin),\n",
    "        color=\"C0\", lw=2,\n",
    "        #label='Reference(569)', zorder=8)\n",
    "        label='Age-drift model', zorder=8)\n",
    "\n",
    "ax.fill_between(zlin, age_law_all(zlin) + models_std,\n",
    "                age_law_all(zlin) - models_std,\n",
    "                color=\"C0\", alpha=.1, lw=2)\n",
    "\n",
    "ax.set_xlabel(r\"$\\mathrm{redshift}$ \", fontsize=\"x-large\")\n",
    "ax.set_ylabel(r\"$\\mathrm{mean\\,\\,x}_1$ \", fontsize=\"x-large\")\n",
    "\n",
    "ax.set_ylim(-0.52, 0.52)\n",
    "ax.set_xlim(0.01, 1.4)\n",
    "ax.set_xscale('log')\n",
    "\n",
    "ax.legend(ncol=4, loc='upper center', columnspacing=1.4)\n",
    "\n",
    "fig.savefig(f'../../../Images/pdf/stretchevol.pdf', bbox_inches='tight')\n",
    "fig.savefig(f'../../../Images/png/stretchevol.png', bbox_inches='tight', dpi=600)"
   ]
  }
 ],
 "metadata": {
  "kernelspec": {
   "display_name": "Python 3",
   "language": "python",
   "name": "python3"
  },
  "language_info": {
   "codemirror_mode": {
    "name": "ipython",
    "version": 3
   },
   "file_extension": ".py",
   "mimetype": "text/x-python",
   "name": "python",
   "nbconvert_exporter": "python",
   "pygments_lexer": "ipython3",
   "version": "3.7.12"
  }
 },
 "nbformat": 4,
 "nbformat_minor": 4
}
