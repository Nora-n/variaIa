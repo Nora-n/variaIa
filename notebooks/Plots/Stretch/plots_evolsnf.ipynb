{
 "cells": [
  {
   "cell_type": "markdown",
   "metadata": {},
   "source": [
    "## Modules à importer"
   ]
  },
  {
   "cell_type": "code",
   "execution_count": 1,
   "metadata": {
    "jupyter": {
     "source_hidden": true
    }
   },
   "outputs": [],
   "source": [
    "import math\n",
    "import scipy\n",
    "import pickle\n",
    "import numpy as np\n",
    "import pandas as pd\n",
    "import iminuit as im\n",
    "import ipywidgets as ipw\n",
    "from variaIa import tools\n",
    "from variaIa import baserate\n",
    "from importlib import reload\n",
    "from variaIa import stretchevol\n",
    "from scipy.stats import poisson\n",
    "from matplotlib.lines import Line2D\n",
    "from scipy.interpolate import interp1d\n",
    "from matplotlib.patches import Ellipse\n",
    "from astropy.cosmology import Planck15 as cdata\n",
    "from variaIa.tools import surveys, df_cons, df_nc, df_c, df_full, z_max\n",
    "from scipy.ndimage.filters import uniform_filter1d\n",
    "from IPython.display import display, Latex\n",
    "import matplotlib.pyplot as plt\n",
    "import random"
   ]
  },
  {
   "cell_type": "markdown",
   "metadata": {},
   "source": [
    "## Définitions pandas, surveys, $z[:z_{\\text{max}}]$, $x_1[:z_{\\text{max}}]$, mean et std + cons"
   ]
  },
  {
   "cell_type": "markdown",
   "metadata": {},
   "source": [
    "### Définition des données à montrer"
   ]
  },
  {
   "cell_type": "code",
   "execution_count": 2,
   "metadata": {
    "jupyter": {
     "source_hidden": true
    }
   },
   "outputs": [
    {
     "data": {
      "application/vnd.jupyter.widget-view+json": {
       "model_id": "62299b86d93f4440bbc18cd8f8e4d579",
       "version_major": 2,
       "version_minor": 0
      },
      "text/plain": [
       "HBox(children=(interactive(children=(Checkbox(value=False, description='Conservative'), Dropdown(description='…"
      ]
     },
     "metadata": {},
     "output_type": "display_data"
    }
   ],
   "source": [
    "btw = ipw.Checkbox(\n",
    "    value=False,\n",
    "    description='btw')\n",
    "after = ipw.Checkbox(\n",
    "    value=False,\n",
    "    description='After')\n",
    "\n",
    "def set_survey(cons, su):\n",
    "    global df\n",
    "    if su == 'All':\n",
    "        df = df_cons(cons)\n",
    "    elif 'n' in su:\n",
    "        df = df_cons(cons)[df_cons(cons)['survey'] != su.split('n')[-1]]\n",
    "    else:\n",
    "        df = df_cons(cons)[df_cons(cons)['survey'] == su]\n",
    "    return df\n",
    "\n",
    "int_set_su = ipw.interactive(set_survey, cons=tools.cons, su=tools.su)\n",
    "display(ipw.HBox([int_set_su, btw, after]))\n",
    "\n",
    "smap = plt.cm.get_cmap('cividis')\n",
    "colors = {'SNF': plt.cm.binary(0.9),\n",
    "          'low-z': (1, 0, 0),\n",
    "          'SDSS': smap(0.1),\n",
    "          'PS1': smap(0.5),\n",
    "          'SNLS': smap(0.8),\n",
    "          'HST': smap(0.99),  # for cividis\n",
    "          #'HST': smap(300)}  # for viridis\n",
    "          'All': (255/255, 51/255, 0/255)}\n",
    "\n",
    "def alphacolors(alpha, survey):\n",
    "    return(colors[survey][0], colors[survey][1], colors[survey][2], alpha)\n",
    "\n",
    "df_nHST = df_nc[df_nc['survey'] != 'HST']\n",
    "surveysnl = surveys[0:1]+surveys[2:]"
   ]
  },
  {
   "cell_type": "markdown",
   "metadata": {},
   "source": [
    "## Définitions des dictionnaires"
   ]
  },
  {
   "cell_type": "code",
   "execution_count": 3,
   "metadata": {
    "jupyter": {
     "source_hidden": true
    }
   },
   "outputs": [
    {
     "name": "stderr",
     "output_type": "stream",
     "text": [
      "/home/nicolas/.local/lib/python3.7/site-packages/numpy/core/fromnumeric.py:3373: RuntimeWarning: Mean of empty slice.\n",
      "  out=out, **kwargs)\n",
      "/home/nicolas/.local/lib/python3.7/site-packages/numpy/core/_methods.py:170: RuntimeWarning: invalid value encountered in double_scalars\n",
      "  ret = ret.dtype.type(ret / rcount)\n",
      "/home/nicolas/.local/lib/python3.7/site-packages/numpy/core/_methods.py:234: RuntimeWarning: Degrees of freedom <= 0 for slice\n",
      "  keepdims=keepdims)\n",
      "/home/nicolas/.local/lib/python3.7/site-packages/numpy/core/_methods.py:195: RuntimeWarning: invalid value encountered in true_divide\n",
      "  arrmean, rcount, out=arrmean, casting='unsafe', subok=False)\n",
      "/home/nicolas/.local/lib/python3.7/site-packages/numpy/core/_methods.py:226: RuntimeWarning: invalid value encountered in double_scalars\n",
      "  ret = ret.dtype.type(ret / rcount)\n"
     ]
    }
   ],
   "source": [
    "##############################################################################\n",
    "############## $z[:z_max]$, $x_1[:z_max]$, data_all, mean et std #############\n",
    "##############################################################################\n",
    "\n",
    "zmax_cuts = dict()\n",
    "z_zcuts = dict()\n",
    "x1_zcuts = dict()\n",
    "x1_err_zcuts = dict()\n",
    "c_zcuts = dict()\n",
    "c_err_zcuts = dict()\n",
    "\n",
    "for survey in surveys:\n",
    "    zmax_cuts[survey] = np.where(df_full[df_full['survey'] == survey].redshifts.values < z_max[survey][1])\n",
    "    z_zcuts[survey] = df_full[df_full['survey'] == survey].redshifts.values[zmax_cuts[survey]]\n",
    "    x1_zcuts[survey] = df_full[df_full['survey'] == survey].stretchs.values[zmax_cuts[survey]]\n",
    "    x1_err_zcuts[survey] = df_full[df_full['survey'] == survey].stretchs_err.values[zmax_cuts[survey]]\n",
    "    c_zcuts[survey] = df_full[df_full['survey'] == survey].colors.values[zmax_cuts[survey]]\n",
    "    c_err_zcuts[survey] = df_full[df_full['survey'] == survey].colors_err.values[zmax_cuts[survey]]\n",
    "\n",
    "datax_all = (np.concatenate(\n",
    "    (np.concatenate(\n",
    "        (x1_zcuts['SDSS'],\n",
    "         x1_zcuts['PS1'])),\n",
    "     x1_zcuts['SNLS'])))\n",
    "                                                     \n",
    "datax_err_all = (np.concatenate(\n",
    "    (np.concatenate(\n",
    "        (x1_err_zcuts['SDSS'],\n",
    "         x1_err_zcuts['PS1'])),\n",
    "     x1_err_zcuts['SNLS'])))\n",
    "                                                     \n",
    "dataz_all = (np.concatenate(\n",
    "    (np.concatenate(\n",
    "        (z_zcuts['SDSS'],\n",
    "         z_zcuts['PS1'])),\n",
    "     z_zcuts['SNLS'])))\n",
    "\n",
    "z_mean = dict()\n",
    "z_std = dict()\n",
    "x1_mean = dict()\n",
    "x1_std = dict()\n",
    "c_mean = dict()\n",
    "c_std = dict()\n",
    "\n",
    "for survey in surveys:\n",
    "    z_mean[survey] = np.mean(z_zcuts[survey])\n",
    "    z_std[survey] = np.std(z_zcuts[survey])\n",
    "    x1_mean[survey] = np.mean(x1_zcuts[survey])\n",
    "    x1_std[survey] = np.std(x1_zcuts[survey])\n",
    "    c_mean[survey] = np.mean(c_zcuts[survey])\n",
    "    c_std[survey] = np.std(c_zcuts[survey])\n",
    "    \n",
    "##############################################################################\n",
    "##################### $[:z_inf]$, $[z_sup:]$ et mean_inf #####################\n",
    "##############################################################################\n",
    "\n",
    "zinf_cuts = dict()\n",
    "z_zinfcuts = dict()\n",
    "x1_zinfcuts = dict()\n",
    "x1_err_zinfcuts = dict()\n",
    "c_zinfcuts = dict()\n",
    "c_err_zinfcuts = dict()\n",
    "\n",
    "for survey in surveys:\n",
    "    zinf_cuts[survey] = np.where(df_full[df_full['survey'] == survey].redshifts.values < z_max[survey][0])\n",
    "    z_zinfcuts[survey] = df_full[df_full['survey'] == survey].redshifts.values[zinf_cuts[survey]]\n",
    "    x1_zinfcuts[survey] = df_full[df_full['survey'] == survey].stretchs.values[zinf_cuts[survey]]\n",
    "    x1_err_zinfcuts[survey] = df_full[df_full['survey'] == survey].stretchs_err.values[zinf_cuts[survey]]\n",
    "    c_zinfcuts[survey] = df_full[df_full['survey'] == survey].colors.values[zinf_cuts[survey]]\n",
    "    c_err_zinfcuts[survey] = df_full[df_full['survey'] == survey].colors_err.values[zinf_cuts[survey]]\n",
    "\n",
    "z_inf_mean = dict()\n",
    "z_inf_std = dict()\n",
    "x1_inf_mean = dict()\n",
    "x1_inf_std = dict()\n",
    "c_inf_mean = dict()\n",
    "c_inf_std = dict()\n",
    "\n",
    "for survey in surveys:\n",
    "    z_inf_mean[survey] = np.mean(z_zinfcuts[survey])\n",
    "    z_inf_std[survey] = np.std(z_zinfcuts[survey])\n",
    "    x1_inf_mean[survey] = np.mean(x1_zinfcuts[survey])\n",
    "    x1_inf_std[survey] = np.std(x1_zinfcuts[survey])\n",
    "    c_inf_mean[survey] = np.mean(c_zinfcuts[survey])\n",
    "    c_inf_std[survey] = np.std(c_zinfcuts[survey])\n",
    "\n",
    "zsup_cuts = dict()\n",
    "z_zsupcuts = dict()\n",
    "x1_zsupcuts = dict()\n",
    "x1_err_zsupcuts = dict()\n",
    "c_zsupcuts = dict()\n",
    "c_err_zsupcuts = dict()\n",
    "\n",
    "for survey in surveys:\n",
    "    zsup_cuts[survey] = np.where(df_full[df_full['survey'] == survey].redshifts.values > z_max[survey][1])\n",
    "    z_zsupcuts[survey] = df_full[df_full['survey'] == survey].redshifts.values[zsup_cuts[survey]]\n",
    "    x1_zsupcuts[survey] = df_full[df_full['survey'] == survey].stretchs.values[zsup_cuts[survey]]\n",
    "    x1_err_zsupcuts[survey] = df_full[df_full['survey'] == survey].stretchs_err.values[zsup_cuts[survey]]\n",
    "    c_zsupcuts[survey] = df_full[df_full['survey'] == survey].colors.values[zsup_cuts[survey]]\n",
    "    c_err_zsupcuts[survey] = df_full[df_full['survey'] == survey].colors_err.values[zsup_cuts[survey]]\n",
    "   \n",
    "names_sup = []\n",
    "stretchs_sup = []\n",
    "stretchs_err_sup = []\n",
    "colors_sup = []\n",
    "colors_err_sup = []\n",
    "redshifts_sup = []\n",
    "\n",
    "for survey in surveys[1:-1]:\n",
    "    names_sup += [survey for i in range(len(z_zsupcuts[survey]))] \n",
    "    stretchs_sup += list(x1_zsupcuts[survey]) \n",
    "    stretchs_err_sup += list(x1_err_zsupcuts[survey]) \n",
    "    colors_sup += list(c_zsupcuts[survey]) \n",
    "    colors_err_sup += list(c_err_zsupcuts[survey]) \n",
    "    redshifts_sup += list(z_zsupcuts[survey]) \n",
    "\n",
    "df_sup = pd.DataFrame({'survey': names_sup,\n",
    "                        'stretchs': stretchs_sup,\n",
    "                        'stretchs_err': stretchs_err_sup,\n",
    "                        'colors': colors_sup,\n",
    "                        'colors_err': colors_err_sup,\n",
    "                        'redshifts': redshifts_sup})\n",
    "\n",
    "##############################################################################\n",
    "########################## $[z_max, inf:z_max, sup]$ #########################\n",
    "##############################################################################\n",
    "\n",
    "zbtw_cuts = dict()\n",
    "z_zbtwcuts = dict()\n",
    "x1_zbtwcuts = dict()\n",
    "x1_err_zbtwcuts = dict()\n",
    "c_zbtwcuts = dict()\n",
    "c_err_zbtwcuts = dict()\n",
    "\n",
    "for survey in surveys:\n",
    "    zbtw_cuts[survey] = np.where((df_full[df_full['survey'] == survey].redshifts.values > z_max[survey][0])\n",
    "                               & (df_full[df_full['survey'] == survey].redshifts.values < z_max[survey][1]))\n",
    "    z_zbtwcuts[survey] = df_full[df_full['survey'] == survey].redshifts.values[zbtw_cuts[survey]]\n",
    "    x1_zbtwcuts[survey] = df_full[df_full['survey'] == survey].stretchs.values[zbtw_cuts[survey]]\n",
    "    x1_err_zbtwcuts[survey] = df_full[df_full['survey'] == survey].stretchs_err.values[zbtw_cuts[survey]]\n",
    "    c_zbtwcuts[survey] = df_full[df_full['survey'] == survey].colors.values[zbtw_cuts[survey]]\n",
    "    c_err_zbtwcuts[survey] = df_full[df_full['survey'] == survey].colors_err.values[zbtw_cuts[survey]]"
   ]
  },
  {
   "cell_type": "markdown",
   "metadata": {},
   "source": [
    "## Utilisation de la classe _stretchevol_ pour le fit double"
   ]
  },
  {
   "cell_type": "code",
   "execution_count": 4,
   "metadata": {},
   "outputs": [],
   "source": [
    "df_snf = df[df['survey'] == 'SNF']\n",
    "evolSNF = stretchevol.Evol3G2M2S(df_snf)\n",
    "\n",
    "evolSNF.minimize()\n",
    "\n",
    "#fig=plt.gcf()\n",
    "#fig.savefig('/home/nora/Documents/Thèse/Images/BiGaussian.pdf', bbox_inches='tight')"
   ]
  },
  {
   "cell_type": "markdown",
   "metadata": {},
   "source": [
    "## New class for correct representation"
   ]
  },
  {
   "cell_type": "code",
   "execution_count": 5,
   "metadata": {
    "jupyter": {
     "source_hidden": true
    }
   },
   "outputs": [],
   "source": [
    "class BaseModel( object ):\n",
    "    FREEPARAMETERS = [\"mu1\",\"sigma1\", \"mu2\", \"sigma2\", \"a\"]\n",
    "    \n",
    "    def setup(self, parameters):\n",
    "        \"\"\" \"\"\"\n",
    "        self.parameters = {k:v for k,v in zip(self.FREEPARAMETERS, parameters)}\n",
    "        \n",
    "    # ============ #\n",
    "    #  GETTER      #\n",
    "    # ============ #\n",
    "    def get_probabilities(self, x1, dx1, y):\n",
    "        \"\"\" \"\"\"\n",
    "        mode_up   = self.get_modeup(x1, dx1) \n",
    "        mode_down = self.get_modedown(x1, dx1)\n",
    "        return y * mode_up + (1-y) * (self.parameters[\"a\"] * mode_up + (1-self.parameters[\"a\"])*mode_down)\n",
    "    \n",
    "    def get_modeup(self, x1, dx1):\n",
    "        \"\"\" \"\"\"\n",
    "        return scipy.stats.norm.pdf(x1, loc=self.parameters[\"mu1\"], scale=np.sqrt(self.parameters[\"sigma1\"]**2+dx1**2))\n",
    "    \n",
    "    def get_modedown(self, x1, dx1):\n",
    "        \"\"\" \"\"\"\n",
    "        return scipy.stats.norm.pdf(x1, loc=self.parameters[\"mu2\"], scale=np.sqrt(self.parameters[\"sigma2\"]**2+dx1**2))\n",
    "    \n",
    "    \n",
    "    def get_loglikelihood(self, x1, dx1, y):\n",
    "        \"\"\" \"\"\"\n",
    "        probas = self.get_probabilities(x1, dx1, y)\n",
    "        return np.log(probas)\n",
    "    \n",
    "    def get_pseudochi2(self, x1, dx1, y):\n",
    "        \"\"\" \"\"\"\n",
    "        return -2* np.sum(self.get_loglikelihood(x1, dx1, y))\n",
    "    \n",
    "    \n",
    "    \n",
    "class Fitter( object ):\n",
    "    \n",
    "    def __init__(self, dataframe):\n",
    "        \"\"\" \"\"\"\n",
    "        self.dataframe = dataframe\n",
    "        self.model = BaseModel()\n",
    "        \n",
    "    # ============ #\n",
    "    #  GETTER      #\n",
    "    # ============ #\n",
    "    def get_args(self, x1key=\"stretchs\", dx1key=\"stretchs_err\", ykey=\"py\"):\n",
    "        \"\"\" \"\"\"\n",
    "        return self.dataframe[x1key], df_snf[dx1key], df_snf[ykey]\n",
    "    \n",
    "    def get_pseudochi2(self, mu1, sigma1, mu2, sigma2, a):\n",
    "        \"\"\" \"\"\"\n",
    "        self.model.setup([mu1,sigma1, mu2, sigma2, a])\n",
    "        pseudo_chi2 = self.model.get_pseudochi2(*self.get_args())\n",
    "        #print(pseudo_chi2)\n",
    "        return pseudo_chi2\n",
    "    \n",
    "    # ============ #\n",
    "    #  FITTER      #\n",
    "    # ============ #\n",
    "    def fit(self, **kwargs):\n",
    "        \"\"\" \"\"\"\n",
    "        self._setup_minuit_(**kwargs)\n",
    "        self._migrad_output_ = self.minuit.migrad()\n",
    "        \n",
    "        if self._migrad_output_[0][\"is_valid\"] is False:\n",
    "            warnings.warn(\"migrad is not valid\")\n",
    "            self.fitOk = False\n",
    "        else:\n",
    "            self.fitOk = True\n",
    "            \n",
    "        self.bestfit_params = np.asarray([self.minuit.values[k]\n",
    "                              for k in self.model.FREEPARAMETERS])\n",
    "        \n",
    "    def setup_guesses(self, **kwargs):\n",
    "        \"\"\" \"\"\"\n",
    "        self.param_input = {**{\"mu1_guess\":+1,\"sigma1_guess\":0.5,\n",
    "                            \"mu2_guess\":-1,\"sigma2_guess\":0.5,\n",
    "                            \"a_guess\":0.5,\n",
    "                            \"sigma1_boundaries\":[0.01, 4],\n",
    "                            \"sigma2_boundaries\":[0.01, 4],\n",
    "                            \"a_boundaries\":[0,1]\n",
    "                           }, \n",
    "                            **kwargs}\n",
    "        return self.param_input\n",
    "\n",
    "    def _setup_minuit_(self, step=0.001, print_level=0, **kwargs):\n",
    "        \"\"\" **kwargs goes to setup_guesses \n",
    "            format: \n",
    "                - '`paramname`_guess'     = VALUE\n",
    "                - '`paramname`_boundaries'= [MIN, MAX]\n",
    "                - '`paramname`_fixed'     = BOOL                \n",
    "        \"\"\"\n",
    "        self.setup_guesses(**kwargs)\n",
    "        \n",
    "        # == Minuit Keys == #\n",
    "        minuit_kwargs = {}\n",
    "        for param in self.model.FREEPARAMETERS:\n",
    "            minuit_kwargs[param]           = self.param_input.get(\"%s_guess\"%param,0)\n",
    "            minuit_kwargs[\"limit_\"+param]  = self.param_input.get(\"%s_boundaries\"%param, [None,None])\n",
    "            minuit_kwargs[\"fix_\"+param]    = self.param_input.get(\"%s_fixed\"%param, False)\n",
    "            \n",
    "\n",
    "        self.minuit = im.Minuit(self.get_pseudochi2,\n",
    "                                print_level=print_level, errordef=step,\n",
    "                                **minuit_kwargs)"
   ]
  },
  {
   "cell_type": "code",
   "execution_count": 6,
   "metadata": {},
   "outputs": [],
   "source": [
    "test = Fitter(df[df['survey'] == 'SNF'])\n",
    "\n",
    "test.fit()\n",
    "\n",
    "test.model.setup(test.bestfit_params)"
   ]
  },
  {
   "cell_type": "code",
   "execution_count": 7,
   "metadata": {},
   "outputs": [
    {
     "data": {
      "image/png": "[encoded data removed]",
      "text/plain": [
       "<Figure size 504x252 with 2 Axes>"
      ]
     },
     "metadata": {
      "needs_background": "light"
     },
     "output_type": "display_data"
    }
   ],
   "source": [
    "fig = plt.figure(figsize=[7, 3.5])\n",
    "ax = fig.add_axes([0.1, 0.12, 0.62, 0.8])\n",
    "axh = fig.add_axes([0.75, 0.12, 0.2, 0.8])\n",
    "\n",
    "evolSNF.scatter(ax=ax, mod_lw=1, elw=1, lw=1,\n",
    "                facealpha=1, show_leg=False, model=False)\n",
    "\n",
    "ax.text(-14.1, 3, 'Old',\n",
    "        ha='left', va='top',\n",
    "        fontsize='x-large',\n",
    "        color=plt.cm.viridis(1.00))\n",
    "\n",
    "ax.text(-9.2, 3, 'Young',\n",
    "        ha='right', va='top',\n",
    "        fontsize='x-large',\n",
    "        color=plt.cm.viridis(0.05, 0.5))\n",
    "\n",
    "axh.text(-1.30, 3, 'Old',\n",
    "        ha='right', va='top',\n",
    "        fontsize='x-large',\n",
    "        color=plt.cm.viridis(1.00))\n",
    "\n",
    "axh.text(1.30, 3, 'Young',\n",
    "        ha='left', va='top',\n",
    "        fontsize='x-large',\n",
    "        color=plt.cm.viridis(0.05, 0.5))\n",
    "\n",
    "prop = dict(orientation='horizontal',\n",
    "            histtype='step',\n",
    "            fill=True,\n",
    "            range=(-3, 3), bins=14,\n",
    "            lw=1)\n",
    "\n",
    "amp = (prop['range'][1] - prop['range'][0])/prop['bins']\n",
    "\n",
    "y = axh.hist(evolSNF.stretchs, weights=evolSNF.py,\n",
    "             facecolor=plt.cm.viridis(0.05, 0.5),\n",
    "             edgecolor='0.7',\n",
    "             **prop)\n",
    "o = axh.hist(evolSNF.stretchs, weights=(evolSNF.py-1),\n",
    "             facecolor=plt.cm.viridis(0.95, 0.5),\n",
    "             edgecolor=\"0.7\",\n",
    "#             edgecolor=plt.cm.viridis(0.95),\n",
    "             **prop)\n",
    "\n",
    "evolSNF.show_model(ax=axh,\n",
    "                   o_factor=-amp*np.sum(1-evolSNF.py),\n",
    "                   y_factor=amp*np.sum(evolSNF.py),\n",
    "                   facealpha=0, edgealpha=1, lw=1, zorder=8)\n",
    "\n",
    "x1, dx1, y = test.get_args()\n",
    "xx1 = np.linspace(-5,5,100)\n",
    "cmap = plt.cm.viridis\n",
    "cvalue = {\"young\":0.01, \"old\":0.99}\n",
    "\n",
    "# Ideogram\n",
    "#\n",
    "# - Youngs \n",
    "#axh.plot( np.dot(y, scipy.stats.norm.pdf(xx1[:,None], loc=x1, scale=dx1).T)*amp, \n",
    "#        xx1, color=cmap(cvalue[\"young\"],0.8), ls=\"--\")\n",
    "## - Olds\n",
    "#axh.plot( -np.dot((1-y), scipy.stats.norm.pdf(xx1[:,None], loc=x1, scale=dx1).T)*amp,\n",
    "#        xx1, color=cmap(cvalue[\"old\"],0.8), ls=\"--\")\n",
    "#\n",
    "## Models\n",
    "#mode_up   =  test.model.get_modeup(xx1, np.median(dx1))*amp\n",
    "#mode_down =  test.model.get_modedown(xx1, np.median(dx1))*amp\n",
    "## - Youngs\n",
    "#axh.plot( mode_up*np.sum(y), xx1, ls=\"-\", color=cmap(cvalue[\"young\"],0.8))\n",
    "## - Olds\n",
    "#axh.plot( - test.model.parameters[\"a\"]*mode_up*np.sum(1-y), xx1, \n",
    "#       ls=\"-\", color=cmap(cvalue[\"old\"],0.3))\n",
    "#axh.plot( -(1-test.model.parameters[\"a\"])*mode_down*np.sum(1-y), xx1,\n",
    "#       ls=\"-\", color=cmap(cvalue[\"old\"],0.3))\n",
    "#axh.plot( -(test.model.parameters[\"a\"]*mode_up + (1-test.model.parameters[\"a\"])*mode_down)*np.sum(1-y), xx1,\n",
    "#            ls=\"-\", color=cmap(cvalue[\"old\"],0.8))\n",
    "\n",
    "ax.set_xlim(-14.2, -9.05)\n",
    "ax.set_ylim(-3.2, 3.2)\n",
    "\n",
    "axh.set_ylim(*ax.get_ylim())\n",
    "axh.set_yticks([])\n",
    "axh.set_xticks([])\n",
    "\n",
    "axh.axvline(0, color='k', lw=1, zorder=10)\n",
    "\n",
    "axh.set_frame_on(False)\n",
    "\n",
    "fig.savefig('../../../Images/pdf/model_base_hist.pdf', bbox_inches='tight')\n",
    "fig.savefig('../../../Images/png/model_base_hist.png', bbox_inches='tight', dpi=600)"
   ]
  },
  {
   "cell_type": "markdown",
   "metadata": {},
   "source": [
    "## Fit results for _SNF_"
   ]
  },
  {
   "cell_type": "code",
   "execution_count": 5,
   "metadata": {
    "jupyter": {
     "source_hidden": true
    }
   },
   "outputs": [],
   "source": [
    "path_r = '../../Data/SNF_results'\n",
    "\n",
    "with open(path_r, 'wb') as f:\n",
    "    pickle.dump(evolSNF.param, f)"
   ]
  },
  {
   "cell_type": "markdown",
   "metadata": {},
   "source": [
    "## Définition loi analytique"
   ]
  },
  {
   "cell_type": "code",
   "execution_count": 6,
   "metadata": {},
   "outputs": [],
   "source": [
    "def delta(z):\n",
    "    return stretchevol.MockEvol().delta(z)\n",
    "\n",
    "with open('../../Data/SNF_results', 'rb') as f:\n",
    "    res_SNF = pickle.load(f)\n",
    "\n",
    "def age_law_snf(z):\n",
    "    \"\"\"Analytical law with snf results\"\"\"\n",
    "    return (delta(z)*res_SNF['mu_1'] +\n",
    "        (1-delta(z))*(evolSNF.get_a(res_SNF['aa'])*res_SNF['mu_1']\n",
    "                      + (1-evolSNF.get_a(res_SNF['aa']))*res_SNF['mu_2']))\n",
    "\n",
    "def age_law_gen(z, param_hesse):\n",
    "    \"\"\"Function to get laws with parameters taken wrt there hesse error\"\"\"\n",
    "    return (delta(z)*param_hesse[1]\n",
    "      + (1-delta(z))*(evolSNF.get_a(param_hesse[0])*param_hesse[1]\n",
    "                      + (1 - evolSNF.get_a(param_hesse[0]))*param_hesse[2]))"
   ]
  },
  {
   "cell_type": "markdown",
   "metadata": {},
   "source": [
    "## Définition de _cov_ pour sélection aléatoire des paramètres"
   ]
  },
  {
   "cell_type": "code",
   "execution_count": 7,
   "metadata": {},
   "outputs": [],
   "source": [
    "cov = im.Minuit.matrix(evolSNF.m_tot)\n",
    "mean = [evolSNF.m_tot.values[i] for i in range(5)]\n",
    "param_hesse_mat = scipy.stats.multivariate_normal.rvs(mean=mean, cov=cov, size=500)"
   ]
  },
  {
   "cell_type": "markdown",
   "metadata": {},
   "source": [
    "### Only take _a_, _µ1_ and _µ2_"
   ]
  },
  {
   "cell_type": "code",
   "execution_count": 7,
   "metadata": {},
   "outputs": [],
   "source": [
    "param_hesse_cut = param_hesse_mat[:,[0,1,3]]"
   ]
  },
  {
   "cell_type": "markdown",
   "metadata": {},
   "source": [
    "### List of all the models"
   ]
  },
  {
   "cell_type": "code",
   "execution_count": 8,
   "metadata": {},
   "outputs": [],
   "source": [
    "zlin = np.linspace(0, 2.65, 3000)\n",
    "models_hesse = [[age_law_gen(zi, param_hesse) for zi in zlin] for param_hesse in param_hesse_cut]\n",
    "models_hesse = np.asarray(models_hesse)"
   ]
  },
  {
   "cell_type": "markdown",
   "metadata": {},
   "source": [
    "### Take _std_"
   ]
  },
  {
   "cell_type": "code",
   "execution_count": 9,
   "metadata": {},
   "outputs": [],
   "source": [
    "models_std = np.std(models_hesse, axis=0)"
   ]
  },
  {
   "cell_type": "markdown",
   "metadata": {},
   "source": [
    "## Tracé des $x_{\\text{mean}}$ en fonction des $z_{\\text{mean}}$ + analytic"
   ]
  },
  {
   "cell_type": "code",
   "execution_count": 14,
   "metadata": {},
   "outputs": [
    {
     "data": {
      "image/png": "[encoded data removed]",
      "text/plain": [
       "<Figure size 576x360 with 1 Axes>"
      ]
     },
     "metadata": {
      "needs_background": "light"
     },
     "output_type": "display_data"
    }
   ],
   "source": [
    "fig = plt.figure(figsize=[8, 5])\n",
    "ax = fig.add_axes([0.1, 0.12, 0.8, 0.8])\n",
    "\n",
    "#prop = dict(marker=\"o\", ms=10, ecolor=\"0.7\", lw=2, mew=1, mec=\"0.5\", zorder=5)\n",
    "prop = dict(marker=\"o\", ms=15, ecolor=\"0.7\", mew=1, mec=\"0.5\")\n",
    "\n",
    "for survey in surveys[0:1]:\n",
    "    ax.errorbar(np.mean(df_nc[df_nc['survey'] == survey].redshifts),\n",
    "                np.mean(df_nc[df_nc['survey'] == survey].stretchs),\n",
    "                xerr = np.std(df_nc[df_nc['survey'] == survey].redshifts)\\\n",
    "                /np.sqrt(len(df_nc[df_nc['survey'] == survey].redshifts)),\n",
    "                yerr = np.std(df_nc[df_nc['survey'] == survey].stretchs)\\\n",
    "                /np.sqrt(len(df_nc[df_nc['survey'] == survey].stretchs)),\n",
    "                color = colors[survey], label = survey, **prop)\n",
    "    ax.errorbar(np.mean(df_c[df_c['survey'] == survey].redshifts),\n",
    "                np.mean(df_c[df_c['survey'] == survey].stretchs),\n",
    "                xerr = np.std(df_c[df_c['survey'] == survey].redshifts)\\\n",
    "                /np.sqrt(len(df_c[df_c['survey'] == survey].redshifts)),\n",
    "                yerr = np.std(df_c[df_c['survey'] == survey].stretchs)\\\n",
    "                /np.sqrt(len(df_c[df_c['survey'] == survey].stretchs)),\n",
    "                color = colors[survey], **prop,\n",
    "                alpha=.3)\n",
    "\n",
    "#ax.plot(zz, np.mean(x1_z, axis=1), color=\"0.7\", zorder=2, label=\"BiGaussianModel\")\n",
    "ax.axhline(np.mean(df_nc.stretchs), lw=1, ls=\"-\", color=\"C1\")\n",
    "#ax.axhline(np.mean(df_nc.stretchs), color='C1', lw=1, ls='-', label='Mean stretch')\n",
    "\n",
    "zz = np.linspace(0,1.4,1000)\n",
    "\n",
    "ax.plot(zz, age_law_snf(zz),\n",
    "        color=\"0.5\", lw=2, label='Model')\n",
    "\n",
    "nb_mod = 10\n",
    "ran_mod = np.random.choice(500, nb_mod)\n",
    "\n",
    "#for i in range(nb_mod):\n",
    "#    ax.plot(zz, models_hesse[ran_mod[i]], color=\"C1\", lw=1)\n",
    "\n",
    "ax.fill_between(zlin,\n",
    "                age_law_snf(zlin) + models_std,\n",
    "                age_law_snf(zlin) - models_std,\n",
    "                color=\"0.3\", alpha=.1, lw=2)\n",
    "\n",
    "#ax.tick_params(labelsize=12)\n",
    "\n",
    "ax.set_xlim(0.01, 1.4)\n",
    "ax.set_xscale('log')\n",
    "ax.set_ylim(-0.52, 0.52)\n",
    "\n",
    "ax.set_xlabel(r\"$\\mathrm{redshift}$ \", fontsize=\"x-large\")\n",
    "ax.set_ylabel(r\"$\\mathrm{mean\\,\\,x}_1$ \", fontsize=\"x-large\")\n",
    "\n",
    "ax.legend(loc=\"upper left\", ncol=1, fontsize=\"small\",\n",
    "          borderpad=1.05, labelspacing=2.)\n",
    "\n",
    "fig.savefig('../../Images/pdf/stretchevol_model_snfonly.pdf', bbox_inches='tight')\n",
    "fig.savefig('../../Images/png/stretchevol_model_snfonly.png', bbox_inches='tight', dpi=600)"
   ]
  },
  {
   "cell_type": "markdown",
   "metadata": {},
   "source": [
    "## Calcul du $\\chi²$"
   ]
  },
  {
   "cell_type": "code",
   "execution_count": 81,
   "metadata": {
    "collapsed": true,
    "jupyter": {
     "outputs_hidden": true,
     "source_hidden": true
    }
   },
   "outputs": [
    {
     "data": {
      "text/latex": [
       "$\\chi²_{\\mathrm{hline}}$ = 7.577977 "
      ],
      "text/plain": [
       "<IPython.core.display.Latex object>"
      ]
     },
     "metadata": {},
     "output_type": "display_data"
    },
    {
     "data": {
      "text/latex": [
       "$\\chi²_{\\mathrm{model}}$ = 1.257632 "
      ],
      "text/plain": [
       "<IPython.core.display.Latex object>"
      ]
     },
     "metadata": {},
     "output_type": "display_data"
    },
    {
     "data": {
      "text/latex": [
       "$\\Delta\\chi²$ = 6.320345 "
      ],
      "text/plain": [
       "<IPython.core.display.Latex object>"
      ]
     },
     "metadata": {},
     "output_type": "display_data"
    }
   ],
   "source": [
    "chi2_hline = 0\n",
    "for i in range(5):\n",
    "    chi2_hline += (list(x1_mean.values())[i] - np.mean(np.asarray(list(x1_mean.values()))))**2\\\n",
    "                    / (list(x1_std.values())[i]/np.sqrt(len(list(x1_zcuts.values())[i])))**2\n",
    "    \n",
    "chi2_model = 0\n",
    "for i in range(5):\n",
    "    chi2_model += (list(x1_mean.values())[i] - mock_law(np.asarray(list(z_mean.values())[i]),\n",
    "                                                          m_mock.values['a'],\n",
    "                                                          m_mock.values['b']))**2\\\n",
    "                    / (list(x1_std.values())[i]/np.sqrt(len(list(x1_zcuts.values())[i])))**2\n",
    "\n",
    "delta_chi2 = chi2_hline - chi2_model\n",
    "\n",
    "display(Latex(\"$\\chi²_{\\mathrm{hline}}$ = %5f \" % chi2_hline))\n",
    "display(Latex(\"$\\chi²_{\\mathrm{model}}$ = %5f \" % chi2_model))\n",
    "display(Latex(\"$\\Delta\\chi²$ = %5f \" % delta_chi2))"
   ]
  }
 ],
 "metadata": {
  "kernelspec": {
   "display_name": "Python 3",
   "language": "python",
   "name": "python3"
  },
  "language_info": {
   "codemirror_mode": {
    "name": "ipython",
    "version": 3
   },
   "file_extension": ".py",
   "mimetype": "text/x-python",
   "name": "python",
   "nbconvert_exporter": "python",
   "pygments_lexer": "ipython3",
   "version": "3.7.12"
  }
 },
 "nbformat": 4,
 "nbformat_minor": 4
}
