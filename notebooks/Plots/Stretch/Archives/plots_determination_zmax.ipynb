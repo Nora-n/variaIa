{
 "cells": [
  {
   "cell_type": "markdown",
   "metadata": {},
   "source": [
    "## Modules à importer"
   ]
  },
  {
   "cell_type": "code",
   "execution_count": 1,
   "metadata": {
    "jupyter": {
     "source_hidden": true
    },
    "tags": []
   },
   "outputs": [],
   "source": [
    "import math\n",
    "import scipy\n",
    "import pickle\n",
    "import numpy as np\n",
    "import pandas as pd\n",
    "import iminuit as im\n",
    "import ipywidgets as ipw\n",
    "from variaIa import tools\n",
    "from variaIa import baserate\n",
    "from variaIa import stretchevol\n",
    "from scipy.stats import poisson\n",
    "from scipy.optimize import fsolve\n",
    "from scipy.interpolate import interp1d\n",
    "from astropy.cosmology import Planck15 as cosmo\n",
    "from variaIa.tools import surveys, df_cons, df_nc, df_c, df_full, z_max\n",
    "from numpy.random import randint as rdint\n",
    "import matplotlib.pyplot as plt\n",
    "plt.rcParams['figure.facecolor'] = 'w'\n",
    "plt.rcParams.update({\n",
    "    \"text.usetex\": True,\n",
    "    \"font.family\": \"EB Garamond\",\n",
    "    \"axes.labelsize\": 'x-large',\n",
    "    \"xtick.labelsize\": 'x-large',\n",
    "    \"ytick.labelsize\": 'x-large'})\n",
    "import random"
   ]
  },
  {
   "cell_type": "markdown",
   "metadata": {},
   "source": [
    "## Définitions et sélection de l'échantillon à utiliser"
   ]
  },
  {
   "cell_type": "markdown",
   "metadata": {
    "jupyter": {
     "source_hidden": true
    },
    "tags": []
   },
   "source": [
    "d = pd.read_csv('../../../../Data/sne/data_cheat.csv', sep=' ', index_col = 'CID')\n",
    "d_snf = pd.read_csv('../../../../Data/sne/lssfr_paper_full_sntable.csv',sep=',')\n",
    "\n",
    "surveys = ['SNF', 'SDSS', 'PS1', 'SNLS', 'HST']\n",
    "\n",
    "su = ipw.Dropdown(options=surveys,\n",
    "                  description='Survey:',\n",
    "                  value = 'SNLS')\n",
    "\n",
    "surv = {'SNF':  d_snf,\n",
    "        'SDSS': d[d['IDSURVEY'] == 1],\n",
    "        'PS1':  d[d['IDSURVEY'] == 15],\n",
    "        'SNLS': d[d['IDSURVEY'] == 4],\n",
    "        'HST':  d[d['IDSURVEY'].isin([101, 100, 106])]}\n",
    "\n",
    "# .loc[d_snf['name'].str.contains('SNF|LSQ|PTF',na=False,regex=True)]\n",
    "\n",
    "smap = plt.cm.get_cmap('cividis')\n",
    "colors = {'SNF': plt.cm.binary(0.9),\n",
    "          'LOWZ': (1, 0, 0),\n",
    "          'SDSS': smap(0.1),\n",
    "          'PS1': smap(0.5),\n",
    "          'SNLS': smap(0.8),\n",
    "          'HST': smap(0.99),  # for cividis\n",
    "          #'HST': smap(300)}  # for viridis\n",
    "          'All': (255/255, 51/255, 0/255)}\n",
    "\n",
    "def set_data(su):\n",
    "    global ns_dataz, dataz, ns_datax, datax\n",
    "    if su == 'SNF':\n",
    "        dataz = np.sort(surv[su]['host.zcmb'].values)\n",
    "    # if su == 'SNLS':\n",
    "    #     dataz = np.sort(surv[su].zCMB.values)\n",
    "    #     # [np.where(surv[su].zCMB.values > .4)]\n",
    "    else:\n",
    "        dataz = np.sort(surv[su].zCMB.values)\n",
    "    \n",
    "int_data = ipw.interactive(set_data, su = su)\n",
    "display(int_data)"
   ]
  },
  {
   "cell_type": "markdown",
   "metadata": {},
   "source": [
    "### Définition des données à montrer"
   ]
  },
  {
   "cell_type": "code",
   "execution_count": 2,
   "metadata": {
    "jupyter": {
     "source_hidden": true
    },
    "tags": []
   },
   "outputs": [
    {
     "data": {
      "application/vnd.jupyter.widget-view+json": {
       "model_id": "5eb5e7f610f145aaa2cf120ff46d6b58",
       "version_major": 2,
       "version_minor": 0
      },
      "text/plain": [
       "interactive(children=(Checkbox(value=False, description='Conservative'), Dropdown(description='Survey:', optio…"
      ]
     },
     "metadata": {},
     "output_type": "display_data"
    }
   ],
   "source": [
    "def set_survey(cons, su):\n",
    "    global df, dataz\n",
    "    if su == 'All':\n",
    "        df = df_cons(cons)\n",
    "    elif 'n' in su:\n",
    "        df = df_cons(cons)[df_cons(cons)['survey'] != su.split('n')[-1]]\n",
    "    else:\n",
    "        df = df_cons(cons)[df_cons(cons)['survey'] == su]\n",
    "    dataz = np.sort(df_full.loc[df_full['survey'] == su].redshifts)\n",
    "    return df\n",
    "\n",
    "int_set_su = ipw.interactive(set_survey, cons=tools.cons, su=tools.su)\n",
    "#int_set_su = ipw.interactive(set_survey, cons=tools_sc.cons, su=tools_sc.su)\n",
    "display(int_set_su)\n",
    "\n",
    "smap = plt.cm.get_cmap('cividis')\n",
    "colors = {'SNF': plt.cm.binary(0.9),\n",
    "          'ZTF': plt.cm.viridis(0.1),\n",
    "          'SDSS': smap(0.1),\n",
    "          'PS1': smap(0.5),\n",
    "          'SNLS': smap(0.8),\n",
    "          'HST': smap(0.99),  # for cividis\n",
    "          #'HST': smap(300)}  # for viridis\n",
    "          'All': (255/255, 51/255, 0/255)} \n",
    "\n",
    "color_ar = 'cornflowerblue'\n",
    "color_zt = colors['ZTF']\n",
    "\n",
    "def alphacolors(alpha, survey):\n",
    "    return(colors[survey][0], colors[survey][1], colors[survey][2], alpha)\n",
    "\n",
    "df_nHST = df_nc.loc[df_nc['survey'] != 'HST']\n",
    "df_ar = df_nc.loc[~df_nc['survey'].isin(['ZTF', 'LOWZ'])]\n",
    "df_nLOWZ = df_nc.loc[df_nc['survey'] != 'LOWZ']\n",
    "df_nLOWZ_c = df_c.loc[df_c['survey'] != 'LOWZ']\n",
    "surveysnl = surveys[0:1]+surveys[2:]"
   ]
  },
  {
   "cell_type": "markdown",
   "metadata": {},
   "source": [
    "# Détermination des $z_{\\max}$ _via_ baserate"
   ]
  },
  {
   "cell_type": "markdown",
   "metadata": {},
   "source": [
    "## Calcul pour l'échantillon choisi"
   ]
  },
  {
   "cell_type": "code",
   "execution_count": 3,
   "metadata": {
    "jupyter": {
     "source_hidden": true
    },
    "tags": []
   },
   "outputs": [
    {
     "name": "stdout",
     "output_type": "stream",
     "text": [
      "{'a': 131.86614410369427, 'a.err': 26.373228017802546, 'chi2': 11.96201017996407}\n"
     ]
    },
    {
     "data": {
      "image/png": "[encoded data removed]",
      "text/plain": [
       "<Figure size 504x252 with 2 Axes>"
      ]
     },
     "metadata": {},
     "output_type": "display_data"
    }
   ],
   "source": [
    "fig = plt.figure(figsize=[7, 3.5])\n",
    "ax = fig.add_axes([0.1, 0.12, 0.8, 0.8])\n",
    "\n",
    "base_r = baserate.VolumeNoModel()\n",
    "rate_r = baserate.RateFitter()\n",
    "\n",
    "if tools.su.value == 'SNLS':\n",
    "    # define start of histogram randomly between 0.06 and 0.12\n",
    "    data_r_a = rdint(math.floor(dataz[0]*100)/2,\n",
    "                     math.floor(dataz[0]*100))/100\n",
    "    # define end of histogram randomly between 1.10 and 1.15\n",
    "    data_r_b = rdint(math.ceil(dataz[-1]*10)*10,\n",
    "                     (math.ceil(dataz[-1]*10)\n",
    "                      + math.floor(dataz[0]*10)/2)*10)/100\n",
    "elif tools.su.value == 'ZTF':\n",
    "    data_r_a = rdint(0.0000*10000, 0.0001*10000)/10000\n",
    "    data_r_b = rdint(0.20*100, 0.22*100)/100\n",
    "else:\n",
    "    data_r_a = rdint(math.floor(dataz[0]*1000)/2,\n",
    "                     math.floor(dataz[0]*1000))/1000\n",
    "    data_r_b = rdint(math.ceil(dataz[-1]*100)*10,\n",
    "                     (math.ceil(dataz[-1]*100)\n",
    "                      + math.floor(dataz[0]*100)/2)*10)/1000\n",
    "\n",
    "# complete random data is start + normal data + end\n",
    "data_r = np.append(data_r_a, np.append(dataz, data_r_b))\n",
    "# define total number of bins\n",
    "nb_bins_r = rdint(5, 20)\n",
    "# nb_bins_r = 10\n",
    "\n",
    "counts_r, bord_r = np.asarray(np.histogram(data_r, bins=nb_bins_r))\n",
    "\n",
    "bins_r = np.asarray([[bord_r[i], bord_r[i+1]]\n",
    "                    for i in range(len(bord_r)-1)]).T\n",
    "\n",
    "rate_r.set_data(counts_r, bins_r)\n",
    "rate_r.set_model(base_r)\n",
    "\n",
    "rate_r.set_fitted_flag(rate_r._central_redshiftranges\n",
    "                       < rate_r._central_redshiftranges\n",
    "                       #[7])\n",
    "                       [np.random.randint(3, nb_bins_r)])\n",
    "rate_r.fit(True, a_guess=300)\n",
    "\n",
    "rate_r.show(ax=ax, datacolor=colors[tools.su.value], stepalpha=0.8, modelcolor='k')\n",
    "\n",
    "ax.set_xlim([0, 0.24])\n",
    "ax.set_ylim([0, 1000])\n",
    "\n",
    "print(rate_r.get_fitvalues())"
   ]
  },
  {
   "cell_type": "code",
   "execution_count": 49,
   "metadata": {},
   "outputs": [
    {
     "data": {
      "text/plain": [
       "array([0.01666667, 0.05      , 0.08333333, 0.11666667, 0.15      ,\n",
       "       0.18333333])"
      ]
     },
     "execution_count": 49,
     "metadata": {},
     "output_type": "execute_result"
    }
   ],
   "source": [
    "rate_r._central_redshiftranges"
   ]
  },
  {
   "cell_type": "code",
   "execution_count": 69,
   "metadata": {},
   "outputs": [],
   "source": [
    "fig.savefig('../../../../Images/Archives/zmax_method_snls-02.pdf', bbox_inches='tight')"
   ]
  },
  {
   "cell_type": "code",
   "execution_count": 5,
   "metadata": {
    "collapsed": true,
    "jupyter": {
     "outputs_hidden": true
    },
    "tags": []
   },
   "outputs": [
    {
     "name": "stderr",
     "output_type": "stream",
     "text": [
      "/home/nicolas/.installs/anaconda3/lib/python3.7/site-packages/variaIa-0.8.4-py3.7.egg/variaIa/baserate.py:313: RuntimeWarning: divide by zero encountered in log\n",
      "/home/nicolas/.installs/anaconda3/lib/python3.7/site-packages/scipy/stats/_discrete_distns.py:596: RuntimeWarning: invalid value encountered in greater_equal\n",
      "  return mu >= 0\n",
      "/home/nicolas/.installs/anaconda3/lib/python3.7/site-packages/modefit/baseobjects.py:1328: UserWarning: migrad is not valid\n",
      "  warnings.warn(\"migrad is not valid\")\n",
      "/home/nicolas/.installs/anaconda3/lib/python3.7/site-packages/modefit/baseobjects.py:1279: UserWarning: Inaccurate covariance Matrix. Only trace defined\n",
      "  \"Inaccurate covariance Matrix. Only trace defined\")\n"
     ]
    },
    {
     "ename": "AxisError",
     "evalue": "axis 1 is out of bounds for array of dimension 1",
     "output_type": "error",
     "traceback": [
      "\u001b[0;31m---------------------------------------------------------------------------\u001b[0m",
      "\u001b[0;31mAxisError\u001b[0m                                 Traceback (most recent call last)",
      "\u001b[0;32m/tmp/ipykernel_6602/433171667.py\u001b[0m in \u001b[0;36m<module>\u001b[0;34m\u001b[0m\n\u001b[1;32m     11\u001b[0m res_one = {tools.su.value: baserate.zmax_poisson(tools.su.value,\n\u001b[1;32m     12\u001b[0m                                                  \u001b[0mdataz\u001b[0m\u001b[0;34m,\u001b[0m \u001b[0mguess\u001b[0m\u001b[0;34m[\u001b[0m\u001b[0mtools\u001b[0m\u001b[0;34m.\u001b[0m\u001b[0msu\u001b[0m\u001b[0;34m.\u001b[0m\u001b[0mvalue\u001b[0m\u001b[0;34m]\u001b[0m\u001b[0;34m,\u001b[0m\u001b[0;34m\u001b[0m\u001b[0;34m\u001b[0m\u001b[0m\n\u001b[0;32m---> 13\u001b[0;31m                                                  loops, itsc[tools.su.value])}\n\u001b[0m\u001b[1;32m     14\u001b[0m \u001b[0;31m# res_all = {survey: baserate.zmax_poisson(survey, dataz, guess, loops, itsc)\u001b[0m\u001b[0;34m\u001b[0m\u001b[0;34m\u001b[0m\u001b[0;34m\u001b[0m\u001b[0m\n\u001b[1;32m     15\u001b[0m \u001b[0;31m#           for survey in su.options[1:-1]}\u001b[0m\u001b[0;34m\u001b[0m\u001b[0;34m\u001b[0m\u001b[0;34m\u001b[0m\u001b[0m\n",
      "\u001b[0;32m~/.installs/anaconda3/lib/python3.7/site-packages/variaIa-0.8.4-py3.7.egg/variaIa/baserate.py\u001b[0m in \u001b[0;36mzmax_poisson\u001b[0;34m(survey, rawdata, guess, loops, itsc)\u001b[0m\n\u001b[1;32m    585\u001b[0m \u001b[0;34m\u001b[0m\u001b[0m\n\u001b[1;32m    586\u001b[0m     \u001b[0;31m# compute the median of all interpolated curves\u001b[0m\u001b[0;34m\u001b[0m\u001b[0;34m\u001b[0m\u001b[0;34m\u001b[0m\u001b[0m\n\u001b[0;32m--> 587\u001b[0;31m     \u001b[0mp_med\u001b[0m \u001b[0;34m=\u001b[0m \u001b[0mnp\u001b[0m\u001b[0;34m.\u001b[0m\u001b[0mmedian\u001b[0m\u001b[0;34m(\u001b[0m\u001b[0mnp\u001b[0m\u001b[0;34m.\u001b[0m\u001b[0mmedian\u001b[0m\u001b[0;34m(\u001b[0m\u001b[0mp_zintp\u001b[0m\u001b[0;34m,\u001b[0m \u001b[0maxis\u001b[0m\u001b[0;34m=\u001b[0m\u001b[0;36m1\u001b[0m\u001b[0;34m)\u001b[0m\u001b[0;34m,\u001b[0m \u001b[0maxis\u001b[0m\u001b[0;34m=\u001b[0m\u001b[0;36m0\u001b[0m\u001b[0;34m)\u001b[0m\u001b[0;34m\u001b[0m\u001b[0;34m\u001b[0m\u001b[0m\n\u001b[0m\u001b[1;32m    588\u001b[0m     \u001b[0;31m# compute the standard deviation of all interpolated curves\u001b[0m\u001b[0;34m\u001b[0m\u001b[0;34m\u001b[0m\u001b[0;34m\u001b[0m\u001b[0m\n\u001b[1;32m    589\u001b[0m     \u001b[0mp_std\u001b[0m \u001b[0;34m=\u001b[0m \u001b[0mnp\u001b[0m\u001b[0;34m.\u001b[0m\u001b[0mstd\u001b[0m\u001b[0;34m(\u001b[0m\u001b[0mnp\u001b[0m\u001b[0;34m.\u001b[0m\u001b[0mstd\u001b[0m\u001b[0;34m(\u001b[0m\u001b[0mp_zintp\u001b[0m\u001b[0;34m,\u001b[0m \u001b[0maxis\u001b[0m\u001b[0;34m=\u001b[0m\u001b[0;36m1\u001b[0m\u001b[0;34m)\u001b[0m\u001b[0;34m,\u001b[0m \u001b[0maxis\u001b[0m\u001b[0;34m=\u001b[0m\u001b[0;36m0\u001b[0m\u001b[0;34m)\u001b[0m\u001b[0;34m\u001b[0m\u001b[0;34m\u001b[0m\u001b[0m\n",
      "\u001b[0;32m<__array_function__ internals>\u001b[0m in \u001b[0;36mmedian\u001b[0;34m(*args, **kwargs)\u001b[0m\n",
      "\u001b[0;32m~/.installs/anaconda3/lib/python3.7/site-packages/numpy/lib/function_base.py\u001b[0m in \u001b[0;36mmedian\u001b[0;34m(a, axis, out, overwrite_input, keepdims)\u001b[0m\n\u001b[1;32m   3493\u001b[0m     \"\"\"\n\u001b[1;32m   3494\u001b[0m     r, k = _ureduce(a, func=_median, axis=axis, out=out,\n\u001b[0;32m-> 3495\u001b[0;31m                     overwrite_input=overwrite_input)\n\u001b[0m\u001b[1;32m   3496\u001b[0m     \u001b[0;32mif\u001b[0m \u001b[0mkeepdims\u001b[0m\u001b[0;34m:\u001b[0m\u001b[0;34m\u001b[0m\u001b[0;34m\u001b[0m\u001b[0m\n\u001b[1;32m   3497\u001b[0m         \u001b[0;32mreturn\u001b[0m \u001b[0mr\u001b[0m\u001b[0;34m.\u001b[0m\u001b[0mreshape\u001b[0m\u001b[0;34m(\u001b[0m\u001b[0mk\u001b[0m\u001b[0;34m)\u001b[0m\u001b[0;34m\u001b[0m\u001b[0;34m\u001b[0m\u001b[0m\n",
      "\u001b[0;32m~/.installs/anaconda3/lib/python3.7/site-packages/numpy/lib/function_base.py\u001b[0m in \u001b[0;36m_ureduce\u001b[0;34m(a, func, **kwargs)\u001b[0m\n\u001b[1;32m   3381\u001b[0m         \u001b[0mkeepdim\u001b[0m \u001b[0;34m=\u001b[0m \u001b[0mlist\u001b[0m\u001b[0;34m(\u001b[0m\u001b[0ma\u001b[0m\u001b[0;34m.\u001b[0m\u001b[0mshape\u001b[0m\u001b[0;34m)\u001b[0m\u001b[0;34m\u001b[0m\u001b[0;34m\u001b[0m\u001b[0m\n\u001b[1;32m   3382\u001b[0m         \u001b[0mnd\u001b[0m \u001b[0;34m=\u001b[0m \u001b[0ma\u001b[0m\u001b[0;34m.\u001b[0m\u001b[0mndim\u001b[0m\u001b[0;34m\u001b[0m\u001b[0;34m\u001b[0m\u001b[0m\n\u001b[0;32m-> 3383\u001b[0;31m         \u001b[0maxis\u001b[0m \u001b[0;34m=\u001b[0m \u001b[0m_nx\u001b[0m\u001b[0;34m.\u001b[0m\u001b[0mnormalize_axis_tuple\u001b[0m\u001b[0;34m(\u001b[0m\u001b[0maxis\u001b[0m\u001b[0;34m,\u001b[0m \u001b[0mnd\u001b[0m\u001b[0;34m)\u001b[0m\u001b[0;34m\u001b[0m\u001b[0;34m\u001b[0m\u001b[0m\n\u001b[0m\u001b[1;32m   3384\u001b[0m \u001b[0;34m\u001b[0m\u001b[0m\n\u001b[1;32m   3385\u001b[0m         \u001b[0;32mfor\u001b[0m \u001b[0max\u001b[0m \u001b[0;32min\u001b[0m \u001b[0maxis\u001b[0m\u001b[0;34m:\u001b[0m\u001b[0;34m\u001b[0m\u001b[0;34m\u001b[0m\u001b[0m\n",
      "\u001b[0;32m~/.installs/anaconda3/lib/python3.7/site-packages/numpy/core/numeric.py\u001b[0m in \u001b[0;36mnormalize_axis_tuple\u001b[0;34m(axis, ndim, argname, allow_duplicate)\u001b[0m\n\u001b[1;32m   1325\u001b[0m             \u001b[0;32mpass\u001b[0m\u001b[0;34m\u001b[0m\u001b[0;34m\u001b[0m\u001b[0m\n\u001b[1;32m   1326\u001b[0m     \u001b[0;31m# Going via an iterator directly is slower than via list comprehension.\u001b[0m\u001b[0;34m\u001b[0m\u001b[0;34m\u001b[0m\u001b[0;34m\u001b[0m\u001b[0m\n\u001b[0;32m-> 1327\u001b[0;31m     \u001b[0maxis\u001b[0m \u001b[0;34m=\u001b[0m \u001b[0mtuple\u001b[0m\u001b[0;34m(\u001b[0m\u001b[0;34m[\u001b[0m\u001b[0mnormalize_axis_index\u001b[0m\u001b[0;34m(\u001b[0m\u001b[0max\u001b[0m\u001b[0;34m,\u001b[0m \u001b[0mndim\u001b[0m\u001b[0;34m,\u001b[0m \u001b[0margname\u001b[0m\u001b[0;34m)\u001b[0m \u001b[0;32mfor\u001b[0m \u001b[0max\u001b[0m \u001b[0;32min\u001b[0m \u001b[0maxis\u001b[0m\u001b[0;34m]\u001b[0m\u001b[0;34m)\u001b[0m\u001b[0;34m\u001b[0m\u001b[0;34m\u001b[0m\u001b[0m\n\u001b[0m\u001b[1;32m   1328\u001b[0m     \u001b[0;32mif\u001b[0m \u001b[0;32mnot\u001b[0m \u001b[0mallow_duplicate\u001b[0m \u001b[0;32mand\u001b[0m \u001b[0mlen\u001b[0m\u001b[0;34m(\u001b[0m\u001b[0mset\u001b[0m\u001b[0;34m(\u001b[0m\u001b[0maxis\u001b[0m\u001b[0;34m)\u001b[0m\u001b[0;34m)\u001b[0m \u001b[0;34m!=\u001b[0m \u001b[0mlen\u001b[0m\u001b[0;34m(\u001b[0m\u001b[0maxis\u001b[0m\u001b[0;34m)\u001b[0m\u001b[0;34m:\u001b[0m\u001b[0;34m\u001b[0m\u001b[0;34m\u001b[0m\u001b[0m\n\u001b[1;32m   1329\u001b[0m         \u001b[0;32mif\u001b[0m \u001b[0margname\u001b[0m\u001b[0;34m:\u001b[0m\u001b[0;34m\u001b[0m\u001b[0;34m\u001b[0m\u001b[0m\n",
      "\u001b[0;32m~/.installs/anaconda3/lib/python3.7/site-packages/numpy/core/numeric.py\u001b[0m in \u001b[0;36m<listcomp>\u001b[0;34m(.0)\u001b[0m\n\u001b[1;32m   1325\u001b[0m             \u001b[0;32mpass\u001b[0m\u001b[0;34m\u001b[0m\u001b[0;34m\u001b[0m\u001b[0m\n\u001b[1;32m   1326\u001b[0m     \u001b[0;31m# Going via an iterator directly is slower than via list comprehension.\u001b[0m\u001b[0;34m\u001b[0m\u001b[0;34m\u001b[0m\u001b[0;34m\u001b[0m\u001b[0m\n\u001b[0;32m-> 1327\u001b[0;31m     \u001b[0maxis\u001b[0m \u001b[0;34m=\u001b[0m \u001b[0mtuple\u001b[0m\u001b[0;34m(\u001b[0m\u001b[0;34m[\u001b[0m\u001b[0mnormalize_axis_index\u001b[0m\u001b[0;34m(\u001b[0m\u001b[0max\u001b[0m\u001b[0;34m,\u001b[0m \u001b[0mndim\u001b[0m\u001b[0;34m,\u001b[0m \u001b[0margname\u001b[0m\u001b[0;34m)\u001b[0m \u001b[0;32mfor\u001b[0m \u001b[0max\u001b[0m \u001b[0;32min\u001b[0m \u001b[0maxis\u001b[0m\u001b[0;34m]\u001b[0m\u001b[0;34m)\u001b[0m\u001b[0;34m\u001b[0m\u001b[0;34m\u001b[0m\u001b[0m\n\u001b[0m\u001b[1;32m   1328\u001b[0m     \u001b[0;32mif\u001b[0m \u001b[0;32mnot\u001b[0m \u001b[0mallow_duplicate\u001b[0m \u001b[0;32mand\u001b[0m \u001b[0mlen\u001b[0m\u001b[0;34m(\u001b[0m\u001b[0mset\u001b[0m\u001b[0;34m(\u001b[0m\u001b[0maxis\u001b[0m\u001b[0;34m)\u001b[0m\u001b[0;34m)\u001b[0m \u001b[0;34m!=\u001b[0m \u001b[0mlen\u001b[0m\u001b[0;34m(\u001b[0m\u001b[0maxis\u001b[0m\u001b[0;34m)\u001b[0m\u001b[0;34m:\u001b[0m\u001b[0;34m\u001b[0m\u001b[0;34m\u001b[0m\u001b[0m\n\u001b[1;32m   1329\u001b[0m         \u001b[0;32mif\u001b[0m \u001b[0margname\u001b[0m\u001b[0;34m:\u001b[0m\u001b[0;34m\u001b[0m\u001b[0;34m\u001b[0m\u001b[0m\n",
      "\u001b[0;31mAxisError\u001b[0m: axis 1 is out of bounds for array of dimension 1"
     ]
    }
   ],
   "source": [
    "itsc = {'ZTF':  [.55, .5, .45],\n",
    "        'SDSS': [.55, .5, .45],\n",
    "        'PS1':  [.55, .5, .45],\n",
    "        'SNLS': [.55, .5, .45]}\n",
    "guess = {'ZTF': 300,\n",
    "         'SDSS': .2,\n",
    "         'PS1':  .2,\n",
    "         'SNLS': .2}\n",
    "loops = 100\n",
    "\n",
    "res_one = {tools.su.value: baserate.zmax_poisson(tools.su.value,\n",
    "                                                 dataz, guess[tools.su.value],\n",
    "                                                 loops, itsc[tools.su.value])}\n",
    "# res_all = {survey: baserate.zmax_poisson(survey, dataz, guess, loops, itsc)\n",
    "#           for survey in su.options[1:-1]}"
   ]
  },
  {
   "cell_type": "markdown",
   "metadata": {},
   "source": [
    "## Tracé pour l'échantillon choisi"
   ]
  },
  {
   "cell_type": "code",
   "execution_count": null,
   "metadata": {},
   "outputs": [],
   "source": [
    "z_lin = {tools.su.value: res_one[tools.su.value][0]}\n",
    "med = {tools.su.value: res_one[tools.su.value][1]}\n",
    "std = {tools.su.value: res_one[tools.su.value][2]}\n",
    "maxx = {tools.su.value: res_one[tools.su.value][3]}\n",
    "\n",
    "baserate.zmax_pshow(z_lin, med, std, maxx, itsc, True, True)"
   ]
  },
  {
   "cell_type": "markdown",
   "metadata": {},
   "source": [
    "## Tracé pour l'échantillon choisi depuis données sauvegardées"
   ]
  },
  {
   "cell_type": "markdown",
   "metadata": {},
   "source": [
    "with open('../../../../Data/zmax/zmax_spec_result', 'rb') as f:\n",
    "    z_lins, meds, stds, z_max, itsc = pickle.load(f)\n",
    "\n",
    "z_lins_one = {su.value: z_lins[su.value]}\n",
    "meds_one = {su.value: meds[su.value]}\n",
    "stds_one = {su.value: stds[su.value]}\n",
    "z_max_one = {su.value: z_max[su.value]}\n",
    "\n",
    "baserate.zmax_pshow(z_lins_one, meds_one, stds_one, z_max_one,\n",
    "                    itsc, True, True)\n",
    "\n",
    "fig=plt.gcf()\n",
    "#fig.savefig('/home/nora/Documents/Thèse/Images/zmax_' + str(su.value) +\n",
    "#'_095_stds_point.pdf', bbox_inches='tight')"
   ]
  },
  {
   "cell_type": "markdown",
   "metadata": {},
   "source": [
    "## Tracé des trois échantillons"
   ]
  },
  {
   "cell_type": "markdown",
   "metadata": {},
   "source": [
    "### Dictionnaires des z_intp, meds, stds et z_max ± inf/sup"
   ]
  },
  {
   "cell_type": "code",
   "execution_count": null,
   "metadata": {},
   "outputs": [],
   "source": [
    "res = dict()\n",
    "meds = dict()\n",
    "stds = dict()\n",
    "z_lins = dict()\n",
    "z_max = dict()\n",
    "\n",
    "itsc = {'SDSS': [.85, .5, .05],\n",
    "        'PS1': [.9, .5, .05],\n",
    "        'SNLS': [.65, .5, .25]}\n",
    "guess = .2\n",
    "loops = 1000\n",
    "\n",
    "for survey in surveys[1:-1]:\n",
    "    res[survey] = baserate.zmax_poisson(survey,\n",
    "                                        np.sort(surv[survey].zCMB.values),\n",
    "                                        guess, loops, itsc)\n",
    "    z_lins[survey] = res[survey][0]\n",
    "    meds[survey] = res[survey][1]\n",
    "    stds[survey] = res[survey][2]\n",
    "    z_max[survey] = res[survey][3]"
   ]
  },
  {
   "cell_type": "markdown",
   "metadata": {},
   "source": [
    "### Résultats et sauvegarde"
   ]
  },
  {
   "cell_type": "markdown",
   "metadata": {},
   "source": [
    "z_max"
   ]
  },
  {
   "cell_type": "markdown",
   "metadata": {},
   "source": [
    "#### Attention en m'écrasant !"
   ]
  },
  {
   "cell_type": "markdown",
   "metadata": {},
   "source": [
    "with open('../Data/zmax_null_result', 'wb') as f:\n",
    "    pickle.dump([z_lins, meds, stds, z_max, itsc], f)"
   ]
  },
  {
   "cell_type": "markdown",
   "metadata": {},
   "source": [
    "### Tracé effectif"
   ]
  },
  {
   "cell_type": "code",
   "execution_count": 68,
   "metadata": {},
   "outputs": [
    {
     "data": {
      "image/png": "[encoded data removed]",
      "text/plain": [
       "<Figure size 576x360 with 1 Axes>"
      ]
     },
     "metadata": {},
     "output_type": "display_data"
    }
   ],
   "source": [
    "with open('../../../../Data/zmax/zmax_095_result', 'rb') as f:\n",
    "    z_lins, meds, stds, z_max, itsc = pickle.load(f)\n",
    "\n",
    "baserate.zmax_pshow(z_lins, meds, stds, z_max, itsc, True, True)\n",
    "\n",
    "fig=plt.gcf()\n",
    "fig.savefig('../../../../Images/Archives/zmax_all_095_stds_points-cividis.pdf',\n",
    "            bbox_inches='tight')"
   ]
  },
  {
   "cell_type": "code",
   "execution_count": 11,
   "metadata": {},
   "outputs": [],
   "source": [
    "z_max_pm = {survey: [z_max[survey][-1]-z_max[survey][1], z_max[survey][1]-z_max[survey][0]]\n",
    "           for survey in z_max.keys()}"
   ]
  },
  {
   "cell_type": "code",
   "execution_count": 13,
   "metadata": {},
   "outputs": [
    {
     "data": {
      "text/plain": [
       "{'SDSS': array([0.203 , 0.2043, 0.2055]),\n",
       " 'PS1': array([0.2763, 0.284 , 0.29  ]),\n",
       " 'SNLS': array([0.6122, 0.6155, 0.619 ])}"
      ]
     },
     "execution_count": 13,
     "metadata": {},
     "output_type": "execute_result"
    }
   ],
   "source": [
    "z_max"
   ]
  },
  {
   "cell_type": "code",
   "execution_count": 14,
   "metadata": {},
   "outputs": [
    {
     "data": {
      "text/plain": [
       "{'SDSS': [0.0011999999999999789, 0.0012999999999999956],\n",
       " 'PS1': [0.006000000000000005, 0.007699999999999985],\n",
       " 'SNLS': [0.0034999999999999476, 0.0033000000000000806]}"
      ]
     },
     "execution_count": 14,
     "metadata": {},
     "output_type": "execute_result"
    }
   ],
   "source": [
    "z_max_pm"
   ]
  },
  {
   "cell_type": "markdown",
   "metadata": {},
   "source": [
    "# Détermination des $z_{\\text{max}}$ _via_ ratefit"
   ]
  },
  {
   "cell_type": "code",
   "execution_count": null,
   "metadata": {},
   "outputs": [],
   "source": []
  }
 ],
 "metadata": {
  "kernelspec": {
   "display_name": "Python 3",
   "language": "python",
   "name": "python3"
  },
  "language_info": {
   "codemirror_mode": {
    "name": "ipython",
    "version": 3
   },
   "file_extension": ".py",
   "mimetype": "text/x-python",
   "name": "python",
   "nbconvert_exporter": "python",
   "pygments_lexer": "ipython3",
   "version": "3.7.12"
  }
 },
 "nbformat": 4,
 "nbformat_minor": 4
}
