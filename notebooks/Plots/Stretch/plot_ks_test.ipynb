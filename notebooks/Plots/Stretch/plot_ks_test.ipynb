{
 "cells": [
  {
   "cell_type": "markdown",
   "metadata": {},
   "source": [
    "## Modules à importer"
   ]
  },
  {
   "cell_type": "code",
   "execution_count": 1,
   "metadata": {
    "jupyter": {
     "source_hidden": true
    }
   },
   "outputs": [],
   "source": [
    "import math\n",
    "import scipy\n",
    "import pickle\n",
    "import numpy as np\n",
    "import pandas as pd\n",
    "import iminuit as im\n",
    "import ipywidgets as ipw\n",
    "from variaIa import tools_ar\n",
    "from importlib import reload\n",
    "from variaIa import stretchevol\n",
    "from variaIa.tools_ar import surveys, df_cons, df_nc, df_c, df_full, z_max\n",
    "from IPython.display import display, Latex\n",
    "import matplotlib.pyplot as plt\n",
    "import random"
   ]
  },
  {
   "cell_type": "markdown",
   "metadata": {},
   "source": [
    "## Définitions pandas, surveys et sélection de l'échantillon à utiliser"
   ]
  },
  {
   "cell_type": "markdown",
   "metadata": {},
   "source": [
    "### Définition des données à montrer"
   ]
  },
  {
   "cell_type": "code",
   "execution_count": 2,
   "metadata": {
    "jupyter": {
     "source_hidden": true
    }
   },
   "outputs": [
    {
     "data": {
      "application/vnd.jupyter.widget-view+json": {
       "model_id": "fc0d6a386cbc46fa815ee7a3e7e50e97",
       "version_major": 2,
       "version_minor": 0
      },
      "text/plain": [
       "HBox(children=(interactive(children=(Checkbox(value=False, description='Conservative'), Dropdown(description='…"
      ]
     },
     "metadata": {},
     "output_type": "display_data"
    }
   ],
   "source": [
    "btw = ipw.Checkbox(\n",
    "    value=False,\n",
    "    description='btw')\n",
    "after = ipw.Checkbox(\n",
    "    value=False,\n",
    "    description='After')\n",
    "\n",
    "def set_survey(cons, su):\n",
    "    global df\n",
    "    if su == 'All':\n",
    "        df = df_cons(cons)\n",
    "    elif 'n' in su:\n",
    "        df = df_cons(cons)[df_cons(cons)['survey'] != su.split('n')[-1]]\n",
    "    else:\n",
    "        df = df_cons(cons)[df_cons(cons)['survey'] == su]\n",
    "    return df\n",
    "\n",
    "int_set_su = ipw.interactive(set_survey, cons=tools_ar.cons, su=tools_ar.su)\n",
    "display(ipw.HBox([int_set_su, btw, after]))\n",
    "\n",
    "smap = plt.cm.get_cmap('cividis')\n",
    "colors = {'SNF': plt.cm.binary(0.9),\n",
    "          'SDSS': smap(0.1),\n",
    "          'PS1': smap(0.5),\n",
    "          'SNLS': smap(0.8),\n",
    "          'HST': smap(0.99),  # for cividis\n",
    "          #'HST': smap(300)}  # for viridis\n",
    "          'All': (255/255, 51/255, 0/255)} \n",
    "\n",
    "def alphacolors(alpha, survey):\n",
    "    return(colors[survey][0], colors[survey][1], colors[survey][2], alpha)\n",
    "\n",
    "df_nHST = df_nc[df_nc['survey'] != 'HST']"
   ]
  },
  {
   "cell_type": "markdown",
   "metadata": {},
   "source": [
    "## Stretch et color pour SDSS et PS1 overlapping"
   ]
  },
  {
   "cell_type": "markdown",
   "metadata": {},
   "source": [
    "### Modèle _base_ pour comparaison"
   ]
  },
  {
   "cell_type": "code",
   "execution_count": 3,
   "metadata": {},
   "outputs": [],
   "source": [
    "gen = stretchevol.generic()\n",
    "gen.set_model('Evol3G2M2S')\n",
    "baseTOT = gen.fit(df_nc)"
   ]
  },
  {
   "cell_type": "markdown",
   "metadata": {},
   "source": [
    "### KS test"
   ]
  },
  {
   "cell_type": "code",
   "execution_count": 4,
   "metadata": {},
   "outputs": [],
   "source": [
    "df_ncused = df_nc[df_nc['survey'] == 'PS1']\n",
    "df_cmid = df_ncused[(df_ncused['redshifts'] > 0.10)\n",
    "                  & (df_ncused['redshifts'] < 0.20)]\n",
    "x1_ps = df_cmid.stretchs\n",
    "c_ps = df_cmid.colors\n",
    "\n",
    "df_ncused = df_nc[df_nc['survey'] == 'SDSS']\n",
    "df_cmid = df_ncused[(df_ncused['redshifts'] > 0.10)\n",
    "                  & (df_ncused['redshifts'] < 0.20)]\n",
    "x1_sdss = df_cmid.stretchs\n",
    "c_sdss = df_cmid.colors\n",
    "\n",
    "x1_ks = scipy.stats.ks_2samp(x1_ps, x1_sdss)[1]\n",
    "c_ks = scipy.stats.ks_2samp(c_ps, c_sdss)[1]"
   ]
  },
  {
   "cell_type": "markdown",
   "metadata": {},
   "source": [
    "### Tracé des stretchs et colors de survey"
   ]
  },
  {
   "cell_type": "code",
   "execution_count": 17,
   "metadata": {},
   "outputs": [
    {
     "name": "stdout",
     "output_type": "stream",
     "text": [
      "Survey: SDSS #SNe: 146\n",
      "Survey: PS1 #SNe: 52\n",
      "Survey: SDSS #SNe: 146\n",
      "Survey: PS1 #SNe: 52\n"
     ]
    },
    {
     "data": {
      "image/png": "[encoded data removed]",
      "text/plain": [
       "<Figure size 720x216 with 2 Axes>"
      ]
     },
     "metadata": {
      "needs_background": "light"
     },
     "output_type": "display_data"
    }
   ],
   "source": [
    "fig = plt.figure(figsize=[10, 3])\n",
    "\n",
    "prop = dict(marker=\"o\", s=20, lw=1)\n",
    "\n",
    "for k in range(2):\n",
    "    ax = fig.add_subplot(int('12' + str(k+1)))\n",
    "    for i, survey in enumerate(surveys[1:3]):\n",
    "        df_ncused = df_nc[df_nc['survey'] == survey]\n",
    "        df_cused = df_c[df_c['survey'] == survey]\n",
    "        df_clow = df_ncused[(df_ncused['redshifts'] > 0.10)\n",
    "                          & (df_ncused['redshifts'] < 0.15)]\n",
    "        df_cup = df_ncused[(df_ncused['redshifts'] > 0.15)\n",
    "                         & (df_ncused['redshifts'] < 0.20)]\n",
    "        df_cmid = df_ncused[(df_ncused['redshifts'] > 0.10)\n",
    "                          & (df_ncused['redshifts'] < 0.20)]\n",
    "        \n",
    "        print('Survey:', survey, '#SNe:', len(df_cmid))\n",
    "        \n",
    "        toplot = [df_cmid.stretchs, df_cmid.colors]\n",
    "        torange = [[-3, 3], [-0.3, 0.3]]\n",
    "        tolabel = [r'$x_1$', r'$c$']\n",
    "        toname = ['stretch', 'color']\n",
    "        shift = [[-0.05, 0.05], [-0.005, 0.005]]\n",
    "        \n",
    "        prop = {\"range\":torange[k], \"bins\":10}\n",
    "    \n",
    "        h, r = np.histogram(toplot[k], density=False, **prop)\n",
    "        \n",
    "        xbin = np.mean([r[:-1], r[1:]], axis=0)\n",
    "        xbin = xbin + shift[k][i]\n",
    "        \n",
    "        ybin, _ = np.histogram(toplot[k], density=True, **prop)\n",
    "        \n",
    "        norm = h[1]/ybin[1]\n",
    "        yerr = np.sqrt(h)/norm\n",
    "    \n",
    "        ax.hist(toplot[k], density=True,\n",
    "                histtype='step', fill=True, zorder=1,\n",
    "                edgecolor=colors[survey],\n",
    "                facecolor=alphacolors(.5, survey),\n",
    "                label=survey, **prop)\n",
    "        \n",
    "        ax.errorbar(xbin, ybin, yerr=np.sqrt(h)/norm,\n",
    "                    marker=\"None\", ls=\"None\",\n",
    "                    lw=1, alpha=.5,\n",
    "                    ecolor=colors[survey])\n",
    "        \n",
    "    if k == 1:\n",
    "        ax.text(0.97*torange[k][-1], 0.97*ax.get_ylim()[-1],\n",
    "                'pval = ' + '%.1f%%'%(c_ks*100),\n",
    "                horizontalalignment='right',\n",
    "                verticalalignment='top',\n",
    "                alpha=.8)\n",
    "    \n",
    "    else:\n",
    "        ax.text(0.97*torange[k][-1], 0.97*ax.get_ylim()[-1],\n",
    "                'pval = ' + '%.1f%%'%(x1_ks*100),\n",
    "                horizontalalignment='right',\n",
    "                verticalalignment='top',\n",
    "                alpha=.8)\n",
    "    \n",
    "        x_lin = np.linspace(-3, 3, 1000)\n",
    "        pdfmodel_low = baseTOT.likelihood_tot(baseTOT.delta(0.10),\n",
    "                                              x_lin, 0, #np.mean(dx1),\n",
    "                                              baseTOT.param['aa'],\n",
    "                                              baseTOT.param['mu_1'], baseTOT.param['sigma_1'],\n",
    "                                              baseTOT.param['mu_2'], baseTOT.param['sigma_2'])\n",
    "        pdfmodel_mid = baseTOT.likelihood_tot(baseTOT.delta(0.15),\n",
    "                                              x_lin, 0, #np.mean(dx1),\n",
    "                                              baseTOT.param['aa'],\n",
    "                                              baseTOT.param['mu_1'], baseTOT.param['sigma_1'],\n",
    "                                              baseTOT.param['mu_2'], baseTOT.param['sigma_2'])\n",
    "        pdfmodel_upp = baseTOT.likelihood_tot(baseTOT.delta(0.20),\n",
    "                                              x_lin, 0, #np.mean(dx1),\n",
    "                                              baseTOT.param['aa'],\n",
    "                                              baseTOT.param['mu_1'], baseTOT.param['sigma_1'],\n",
    "                                              baseTOT.param['mu_2'], baseTOT.param['sigma_2'])\n",
    "        baseprop = {'lw': 1, 'alpha': 0.3, 'color': 'C1'}\n",
    "        ax.plot(x_lin, pdfmodel_low, **baseprop)\n",
    "        ax.plot(x_lin, pdfmodel_mid, lw=2, color='C1')\n",
    "        ax.plot(x_lin, pdfmodel_upp, **baseprop)\n",
    "        \n",
    "    ax.tick_params(labelsize=12)\n",
    "\n",
    "    ax.set_xlabel(tolabel[k], fontsize = 'x-large')\n",
    "    ax.set_ylabel(r'$N_{\\mathrm{SNe}}$', fontsize = 'x-large')\n",
    "\n",
    "    ax.set_xlim(torange[k][0], torange[k][-1])\n",
    "\n",
    "    ax.legend(loc='upper left', fontsize='medium', ncol=5)\n",
    "    plt.suptitle('PS1 and SDSS distributions for 0.10 < z < 0.20')\n",
    "\n",
    "path = '../../Images/pdf/both-cut'\n",
    "#path = path + '_SDSS_PS1-010-015.pdf'\n",
    "#path = path + '_SDSS_PS1-015-020.pdf'\n",
    "path = path + '_SDSS_PS1-010-020.pdf'\n",
    "fig.savefig(path, bbox_inches='tight')\n",
    "\n",
    "path = '../../Images/png/both-cut'\n",
    "#path = path + '_SDSS_PS1-010-015.png'\n",
    "#path = path + '_SDSS_PS1-015-020.png'\n",
    "path = path + '_SDSS_PS1-010-020.png'\n",
    "fig.savefig(path, bbox_inches='tight', dpi=600)"
   ]
  },
  {
   "cell_type": "markdown",
   "metadata": {},
   "source": [
    "## Same for PS1 and SNLS"
   ]
  },
  {
   "cell_type": "markdown",
   "metadata": {},
   "source": [
    "### KS test"
   ]
  },
  {
   "cell_type": "code",
   "execution_count": 5,
   "metadata": {
    "jupyter": {
     "source_hidden": true
    }
   },
   "outputs": [],
   "source": [
    "df_ncused = df_nc[df_nc['survey'] == 'PS1']\n",
    "df_cut = df_ncused[(df_ncused['redshifts'] > 0.20)\n",
    "                 & (df_ncused['redshifts'] <= z_max['PS1'][-1])]\n",
    "df_cutop = df_ncused[(df_ncused['redshifts'] > 0.20)\n",
    "                   & (df_ncused['redshifts'] <= 0.35)]\n",
    "df_cutsup = df_ncused[(df_ncused['redshifts'] > 0.20)\n",
    "                    & (df_ncused['redshifts'] <= 0.40)]\n",
    "x1_ps_2 = df_cut.stretchs\n",
    "c_ps_2 = df_cut.colors\n",
    "x1_ps_3 = df_cutop.stretchs\n",
    "c_ps_3 = df_cutop.colors\n",
    "x1_ps_4 = df_cutsup.stretchs\n",
    "c_ps_4 = df_cutsup.colors\n",
    "\n",
    "df_ncused = df_nc[df_nc['survey'] == 'SNLS']\n",
    "df_cut = df_ncused[(df_ncused['redshifts'] > 0.20)\n",
    "                 & (df_ncused['redshifts'] <= z_max['PS1'][-1])]\n",
    "df_cutop = df_ncused[(df_ncused['redshifts'] > 0.20)\n",
    "                   & (df_ncused['redshifts'] <= 0.35)]\n",
    "df_cutsup = df_ncused[(df_ncused['redshifts'] > 0.20)\n",
    "                    & (df_ncused['redshifts'] <= 0.40)]\n",
    "x1_snls_2 = df_cut.stretchs\n",
    "c_snls_2 = df_cut.colors\n",
    "x1_snls_3 = df_cutop.stretchs\n",
    "c_snls_3 = df_cutop.colors\n",
    "x1_snls_4 = df_cutsup.stretchs\n",
    "c_snls_4 = df_cutsup.colors\n",
    "\n",
    "x1_ks_2 = scipy.stats.ks_2samp(x1_ps_2, x1_snls_2)[1]\n",
    "c_ks_2 = scipy.stats.ks_2samp(c_ps_2, c_snls_2)[1]\n",
    "x1_ks_3 = scipy.stats.ks_2samp(x1_ps_3, x1_snls_3)[1]\n",
    "c_ks_3 = scipy.stats.ks_2samp(c_ps_3, c_snls_3)[1]\n",
    "x1_ks_4 = scipy.stats.ks_2samp(x1_ps_4, x1_snls_4)[1]\n",
    "c_ks_4 = scipy.stats.ks_2samp(c_ps_4, c_snls_4)[1]"
   ]
  },
  {
   "cell_type": "markdown",
   "metadata": {},
   "source": [
    "## Plot"
   ]
  },
  {
   "cell_type": "code",
   "execution_count": 36,
   "metadata": {
    "jupyter": {
     "source_hidden": true
    }
   },
   "outputs": [
    {
     "name": "stdout",
     "output_type": "stream",
     "text": [
      "Survey: PS1 #SNe: 90\n",
      "Survey: SNLS #SNe: 31\n",
      "Survey: PS1 #SNe: 90\n",
      "Survey: SNLS #SNe: 31\n"
     ]
    },
    {
     "data": {
      "image/png": "[encoded data removed]",
      "text/plain": [
       "<Figure size 720x216 with 2 Axes>"
      ]
     },
     "metadata": {
      "needs_background": "light"
     },
     "output_type": "display_data"
    }
   ],
   "source": [
    "fig = plt.figure(figsize=[10, 3])\n",
    "\n",
    "prop = dict(marker=\"o\", s=20, lw=1)\n",
    "\n",
    "for k in range(2):\n",
    "    ax = fig.add_subplot(int('12' + str(k+1)))\n",
    "    for i, survey in enumerate(['PS1', 'SNLS']):\n",
    "        df_ncused = df_nc[df_nc['survey'] == survey]\n",
    "        df_cused = df_c[df_c['survey'] == survey]\n",
    "        df_cut = df_ncused[(df_ncused['redshifts'] > 0.20)\n",
    "                         & (df_ncused['redshifts'] <= z_max['PS1'][-1])]\n",
    "        df_cutop = df_ncused[(df_ncused['redshifts'] > 0.20)\n",
    "                           & (df_ncused['redshifts'] <= 0.35)]\n",
    "        df_cutsup = df_ncused[(df_ncused['redshifts'] > 0.20)\n",
    "                            & (df_ncused['redshifts'] <= 0.40)]\n",
    "        \n",
    "        print('Survey:', survey, '#SNe:', len(df_cutsup))\n",
    "        \n",
    "        toplot = [df_cutsup.stretchs, df_cutsup.colors]\n",
    "        torange = [[-3, 3], [-0.3, 0.3]]\n",
    "        tolabel = [r'$x_1$', r'$c$']\n",
    "        toname = ['stretch', 'color']\n",
    "        shift = [[-0.05, 0.05], [-0.005, 0.005]]\n",
    "        \n",
    "        prop = {\"range\":torange[k], \"bins\":10}\n",
    "    \n",
    "        h, r = np.histogram(toplot[k], density=False, **prop)\n",
    "        \n",
    "        xbin = np.mean([r[:-1], r[1:]], axis=0)\n",
    "        xbin = xbin + shift[k][i]\n",
    "        \n",
    "        ybin, _ = np.histogram(toplot[k], density=True, **prop)\n",
    "        \n",
    "        norm = h[2]/ybin[2]\n",
    "        yerr = np.sqrt(h)/norm\n",
    "    \n",
    "        ax.hist(toplot[k], density=True,\n",
    "                histtype='step', fill=True, zorder=1,\n",
    "                edgecolor=colors[survey],\n",
    "                facecolor=alphacolors(.5, survey),\n",
    "                label=survey, **prop)\n",
    "        \n",
    "        ax.errorbar(xbin, ybin, yerr=np.sqrt(h)/norm,\n",
    "                    marker=\"None\", ls=\"None\",\n",
    "                    lw=1, alpha=.5,\n",
    "                    ecolor=colors[survey])\n",
    "        \n",
    "    if k == 1:\n",
    "        ax.text(0.97*torange[k][-1], 0.97*ax.get_ylim()[-1],\n",
    "                #'pval = ' + '%.1f%%'%(c_ks_2*100),\n",
    "                #'pval = ' + '%.1f%%'%(c_ks_3*100),\n",
    "                'pval = ' + '%.1f%%'%(c_ks_4*100),\n",
    "                horizontalalignment='right',\n",
    "                verticalalignment='top',\n",
    "                alpha=.8)\n",
    "    \n",
    "    else:\n",
    "        ax.text(0.97*torange[k][-1], 0.97*ax.get_ylim()[-1],\n",
    "                #'pval = ' + '%.1f%%'%(x1_ks_2*100),\n",
    "                #'pval = ' + '%.1f%%'%(x1_ks_3*100),\n",
    "                'pval = ' + '%.1f%%'%(x1_ks_4*100),\n",
    "                horizontalalignment='right',\n",
    "                verticalalignment='top',\n",
    "                alpha=.8)\n",
    "    \n",
    "        x_lin = np.linspace(-3, 3, 1000)\n",
    "        pdfmodel_low = baseTOT.likelihood_tot(baseTOT.delta(0.20),\n",
    "                                              x_lin, 0, #np.mean(dx1),\n",
    "                                              baseTOT.param['aa'],\n",
    "                                              baseTOT.param['mu_1'], baseTOT.param['sigma_1'],\n",
    "                                              baseTOT.param['mu_2'], baseTOT.param['sigma_2'])\n",
    "        pdfmodel_mid = baseTOT.likelihood_tot(baseTOT.delta(0.25),\n",
    "                                              x_lin, 0, #np.mean(dx1),\n",
    "                                              baseTOT.param['aa'],\n",
    "                                              baseTOT.param['mu_1'], baseTOT.param['sigma_1'],\n",
    "                                              baseTOT.param['mu_2'], baseTOT.param['sigma_2'])\n",
    "        pdfmodel_upp = baseTOT.likelihood_tot(baseTOT.delta(0.30),\n",
    "                                              x_lin, 0, #np.mean(dx1),\n",
    "                                              baseTOT.param['aa'],\n",
    "                                              baseTOT.param['mu_1'], baseTOT.param['sigma_1'],\n",
    "                                              baseTOT.param['mu_2'], baseTOT.param['sigma_2'])\n",
    "        baseprop = {'lw': 1, 'alpha': 0.3, 'color': 'C1'}\n",
    "        ax.plot(x_lin, pdfmodel_low, **baseprop)\n",
    "        ax.plot(x_lin, pdfmodel_mid, lw=2, color='C1')\n",
    "        ax.plot(x_lin, pdfmodel_upp, **baseprop)\n",
    "        \n",
    "    ax.tick_params(labelsize=12)\n",
    "\n",
    "    ax.set_xlabel(tolabel[k], fontsize = 'x-large')\n",
    "    ax.set_ylabel(r'$N_{\\mathrm{SNe}}$', fontsize = 'x-large')\n",
    "\n",
    "    ax.set_xlim(torange[k][0], torange[k][-1])\n",
    "\n",
    "    ax.legend(loc='upper left', fontsize='medium', ncol=5)\n",
    "    #plt.suptitle('PS1 and SNLS distributions for 0.20 < z < 0.30')\n",
    "    #plt.suptitle('PS1 and SNLS distributions for 0.20 < z < 0.35')\n",
    "    plt.suptitle('PS1 and SNLS distributions for 0.20 < z < 0.40')\n",
    "\n",
    "path = '../../Images/pdf/both-cut'\n",
    "#path = path + '_SNLS_PS1-020-030.pdf'\n",
    "#path = path + '_SNLS_PS1-020-035.pdf'\n",
    "path = path + '_SNLS_PS1-020-040.pdf'\n",
    "fig.savefig(path, bbox_inches='tight')\n",
    "\n",
    "path = '../../Images/png/both-cut'\n",
    "#path = path + '_SNLS_PS1-020-030.png'\n",
    "#path = path + '_SNLS_PS1-020-035.png'\n",
    "path = path + '_SNLS_PS1-020-040.png'\n",
    "fig.savefig(path, bbox_inches='tight', dpi=600)"
   ]
  },
  {
   "cell_type": "markdown",
   "metadata": {},
   "source": [
    "## Combination of both"
   ]
  },
  {
   "cell_type": "markdown",
   "metadata": {},
   "source": [
    "## Plot"
   ]
  },
  {
   "cell_type": "code",
   "execution_count": 6,
   "metadata": {},
   "outputs": [
    {
     "name": "stdout",
     "output_type": "stream",
     "text": [
      "Survey: SDSS #SNe: 146\n",
      "Survey: PS1 #SNe: 52\n",
      "Survey: PS1 #SNe: 90\n",
      "Survey: SNLS #SNe: 12\n",
      "Survey: SDSS #SNe: 146\n",
      "Survey: PS1 #SNe: 52\n",
      "Survey: PS1 #SNe: 90\n",
      "Survey: SNLS #SNe: 12\n"
     ]
    },
    {
     "data": {
      "image/png": "[encoded data removed]",
      "text/plain": [
       "<Figure size 540x216 with 2 Axes>"
      ]
     },
     "metadata": {
      "needs_background": "light"
     },
     "output_type": "display_data"
    }
   ],
   "source": [
    "fact = 0.75\n",
    "fig = plt.figure(figsize=[fact*10, fact*4])\n",
    "\n",
    "prop = dict(marker=\"o\", s=20, lw=1)\n",
    "\n",
    "# for horiz\n",
    "left, width = 0.12, 0.40\n",
    "bottom, height = 0.11, 0.85\n",
    "xspan = 0.09\n",
    "\n",
    "for k in range(2):\n",
    "    ax = fig.add_axes([left+k*(width+xspan), bottom, width, height])\n",
    "    for i, survey in enumerate(['SDSS', 'PS1', 'PS1', 'SNLS']):\n",
    "        df_ncused = df_nc[df_nc['survey'] == survey]\n",
    "        df_cused = df_c[df_c['survey'] == survey]\n",
    "        \n",
    "        if i < 2:\n",
    "            df_cutsup = df_ncused[(df_ncused['redshifts'] > 0.10)\n",
    "                                & (df_ncused['redshifts'] <= 0.20)]\n",
    "        else:\n",
    "            df_cutsup = df_ncused[(df_ncused['redshifts'] > 0.20)\n",
    "                                & (df_ncused['redshifts'] <= z_max['PS1'][-1])]\n",
    "        \n",
    "        print('Survey:', survey, '#SNe:', len(df_cutsup))\n",
    "        \n",
    "        toplot = [df_cutsup.stretchs, df_cutsup.colors]\n",
    "        torange = [[-3, 3], [-0.3, 0.3]]\n",
    "        torange_y = [[-0.85, 0.85], [-8.5, 8.5]]\n",
    "        tolabel = [r'$x_1$', r'$c$']\n",
    "        tolabelsurv = ['SDSS', 'PS1', '', 'SNLS']\n",
    "        w = [1, 1, -1, -1]\n",
    "        valpos = [0.92, 0.86, 0.21, 0.15]\n",
    "        valali = ['top', 'top', 'bottom', 'bottom']\n",
    "        toname = ['stretch', 'color']\n",
    "        shift = [[-0.05, 0.05], [-0.005, 0.005],\n",
    "                 [-0.05, 0.05], [-0.005, 0.005]]\n",
    "        \n",
    "        prop = {\"range\":torange[k], \"bins\":10}\n",
    "        prop_txt = {'alpha': 0.8, 'fontsize': 'large'}\n",
    "        prop_txt_mid = {'alpha': 0.8, 'fontsize': 'large', 'color': '0.3'}\n",
    "    \n",
    "        h, r = np.histogram(toplot[k], density=False, **prop)\n",
    "        \n",
    "        xbin = np.mean([r[:-1], r[1:]], axis=0)\n",
    "        xbin = xbin + shift[k][i%2]\n",
    "        \n",
    "        ybin, _ = np.histogram(toplot[k], density=True, **prop)\n",
    "        \n",
    "        norm = h[3]/ybin[3]\n",
    "        yerr = np.sqrt(h)/norm\n",
    "        \n",
    "        if k == 0:\n",
    "            ax.hist(toplot[k], weights=[w[i]*1/norm for j in range(len(toplot[k]))],\n",
    "                    histtype='step', fill=True, zorder=1,\n",
    "                    edgecolor=colors[survey],\n",
    "                    facecolor=alphacolors(.5, survey),\n",
    "                    label=tolabelsurv[i], **prop)\n",
    "            \n",
    "            ax.errorbar(xbin, w[i]*ybin, yerr=np.sqrt(h)/norm,\n",
    "                        marker=\"None\", ls=\"None\",\n",
    "                        lw=2, alpha=1,\n",
    "                        ecolor=colors[survey])\n",
    "             \n",
    "            fig.text(0.56, valpos[i],\n",
    "                     f'{survey} = {len(df_cutsup)} SNe',\n",
    "                     horizontalalignment='center',\n",
    "                     verticalalignment=valali[i],\n",
    "                     **prop_txt_mid)\n",
    "                \n",
    "        else:\n",
    "            ax.hist(toplot[k], weights=[w[i]*1/norm for j in range(len(toplot[k]))],\n",
    "                    histtype='step', fill=True, zorder=1,\n",
    "                    edgecolor=colors[survey],\n",
    "                    facecolor=alphacolors(.5, survey),\n",
    "                    label=tolabelsurv[i], **prop)\n",
    "            \n",
    "            ax.errorbar(xbin, w[i]*ybin, yerr=np.sqrt(h)/norm,\n",
    "                        marker=\"None\", ls=\"None\",\n",
    "                        lw=2, alpha=1,\n",
    "                        ecolor=colors[survey])\n",
    "       \n",
    "    if k == 1:\n",
    "        ax.text(0.99, 0.98,\n",
    "                'pval = ' + '%.1f%%'%(c_ks*100),\n",
    "                horizontalalignment='right',\n",
    "                verticalalignment='top',\n",
    "                **prop_txt,\n",
    "                transform=ax.transAxes)\n",
    "        \n",
    "        ax.text(0.99, 0.02,\n",
    "                'pval = ' + '%.1f%%'%(c_ks_2*100),\n",
    "                horizontalalignment='right',\n",
    "                verticalalignment='bottom',\n",
    "                **prop_txt,\n",
    "                transform=ax.transAxes)\n",
    "\n",
    "        fig.text(0.56, 0.80,\n",
    "                 r'$0.10 < z < 0.20$',\n",
    "                 horizontalalignment='center',\n",
    "                 verticalalignment='top',\n",
    "                 **prop_txt_mid)\n",
    "        \n",
    "        fig.text(0.56, 0.28,\n",
    "                 r'$0.20 < z < 0.31$',\n",
    "                 horizontalalignment='center',\n",
    "                 verticalalignment='bottom',\n",
    "                 **prop_txt_mid)\n",
    "        \n",
    "    else:\n",
    "        ax.text(0.01, 0.98,\n",
    "                'pval = ' + '%.1f%%'%(x1_ks*100),\n",
    "                horizontalalignment='left',\n",
    "                verticalalignment='top',\n",
    "                **prop_txt,\n",
    "                transform=ax.transAxes)\n",
    "        \n",
    "        ax.text(0.01, 0.02,\n",
    "                'pval = ' + '%.1f%%'%(x1_ks_2*100),\n",
    "                horizontalalignment='left',\n",
    "                verticalalignment='bottom',\n",
    "                **prop_txt,\n",
    "                transform=ax.transAxes)\n",
    "\n",
    "    if k != 1:\n",
    "        x_lin = np.linspace(-3, 3, 1000)\n",
    "        pdfmodel_low = baseTOT.likelihood_tot(baseTOT.delta(0.10),\n",
    "                                              x_lin, 0, #np.mean(dx1),\n",
    "                                              baseTOT.param['aa'],\n",
    "                                              baseTOT.param['mu_1'], baseTOT.param['sigma_1'],\n",
    "                                              baseTOT.param['mu_2'], baseTOT.param['sigma_2'])\n",
    "        pdfmodel_mid = baseTOT.likelihood_tot(baseTOT.delta(0.15),\n",
    "                                              x_lin, 0, #np.mean(dx1),\n",
    "                                              baseTOT.param['aa'],\n",
    "                                              baseTOT.param['mu_1'], baseTOT.param['sigma_1'],\n",
    "                                              baseTOT.param['mu_2'], baseTOT.param['sigma_2'])\n",
    "        pdfmodel_upp = baseTOT.likelihood_tot(baseTOT.delta(0.20),\n",
    "                                              x_lin, 0, #np.mean(dx1),\n",
    "                                              baseTOT.param['aa'],\n",
    "                                              baseTOT.param['mu_1'], baseTOT.param['sigma_1'],\n",
    "                                              baseTOT.param['mu_2'], baseTOT.param['sigma_2'])\n",
    "        baseprop = {'lw': 1, 'alpha': 0.3, 'color': 'C1'}\n",
    "        #ax.plot(x_lin, pdfmodel_low, **baseprop)\n",
    "        ax.plot(x_lin, pdfmodel_mid, lw=1, color='C1')\n",
    "        #ax.plot(x_lin, pdfmodel_upp, **baseprop)\n",
    "        \n",
    "        pdfmodel_low = -baseTOT.likelihood_tot(baseTOT.delta(0.20),\n",
    "                                               x_lin, 0, #np.mean(dx1),\n",
    "                                               baseTOT.param['aa'],\n",
    "                                               baseTOT.param['mu_1'], baseTOT.param['sigma_1'],\n",
    "                                               baseTOT.param['mu_2'], baseTOT.param['sigma_2'])\n",
    "        pdfmodel_mid = -baseTOT.likelihood_tot(baseTOT.delta(0.25),\n",
    "                                               x_lin, 0, #np.mean(dx1),\n",
    "                                               baseTOT.param['aa'],\n",
    "                                               baseTOT.param['mu_1'], baseTOT.param['sigma_1'],\n",
    "                                               baseTOT.param['mu_2'], baseTOT.param['sigma_2'])\n",
    "        pdfmodel_upp = -baseTOT.likelihood_tot(baseTOT.delta(0.30),\n",
    "                                               x_lin, 0, #np.mean(dx1),\n",
    "                                               baseTOT.param['aa'],\n",
    "                                               baseTOT.param['mu_1'], baseTOT.param['sigma_1'],\n",
    "                                               baseTOT.param['mu_2'], baseTOT.param['sigma_2'])\n",
    "        baseprop = {'lw': 1, 'alpha': 0.3, 'color': 'C1'}\n",
    "        #ax.plot(x_lin, pdfmodel_low, **baseprop)\n",
    "        ax.plot(x_lin, pdfmodel_mid, lw=1, color='C1')\n",
    "        #ax.plot(x_lin, pdfmodel_upp, **baseprop)\n",
    "        \n",
    "    ax.tick_params(labelsize=12, axis='x', direction='inout')\n",
    "\n",
    "    ax.set_xlabel(tolabel[k], fontsize='x-large')\n",
    "\n",
    "    ax.set_yticks([])\n",
    "\n",
    "    ax.set_xlim(torange[k][0], torange[k][-1])\n",
    "    ax.set_ylim(torange_y[k][0], torange_y[k][-1])\n",
    "    if k == 0:\n",
    "        ax.legend(loc='upper center', fontsize='medium', ncol=5,\n",
    "                  #bbox_to_anchor=(1.0, 1.0, 0.20, 0.17))\n",
    "                  bbox_to_anchor=(1.0, 1.0, 0.20, 0.20))\n",
    "        \n",
    "    clearwhich = [\"left\", \"right\", \"top\"]\n",
    "    [ax.spines[which].set_visible(False) for which in clearwhich]\n",
    "    \n",
    "    ax.axhline(y=0, lw=1.5, color='k')\n",
    "    #plt.suptitle('PS1 and SDSS between 0.10 < z < 0.20, PS1 and SNLS between 0.20 < z < 0.40')\n",
    "\n",
    "path = '../../../Images/pdf/both-cut'\n",
    "#path = path + '_SNLS_PS1-020-030.pdf'\n",
    "#path = path + '_SNLS_PS1-020-035.pdf'\n",
    "path = path + '_SDSS_SNLS_PS1.pdf'\n",
    "fig.savefig(path, bbox_inches='tight')\n",
    "\n",
    "path = '../../../Images/png/both-cut'\n",
    "##path = path + '_SNLS_PS1-020-030.png'\n",
    "##path = path + '_SNLS_PS1-020-035.png'\n",
    "path = path + '_SDSS_SNLS_PS1.png'\n",
    "fig.savefig(path, bbox_inches='tight', dpi=600)"
   ]
  },
  {
   "cell_type": "markdown",
   "metadata": {},
   "source": [
    "## Same for SNf, PS1 and SDSS"
   ]
  },
  {
   "cell_type": "markdown",
   "metadata": {},
   "source": [
    "### KS test"
   ]
  },
  {
   "cell_type": "code",
   "execution_count": 64,
   "metadata": {
    "jupyter": {
     "source_hidden": true
    }
   },
   "outputs": [],
   "source": [
    "zrange = [0.05, 0.10]\n",
    "\n",
    "df_ncused = df_three[df_three['survey'] == 'SNF']\n",
    "df_cut = df_ncused[(df_ncused['redshifts'] > zrange[0])\n",
    "                 & (df_ncused['redshifts'] <= zrange[1])]\n",
    "\n",
    "x1_snf = df_cut.stretchs\n",
    "c_snf = df_cut.colors\n",
    "\n",
    "df_ncused = df_three[df_three['survey'] == 'SDSSPS1']\n",
    "df_cut = df_ncused[(df_ncused['redshifts'] > zrange[0])\n",
    "                 & (df_ncused['redshifts'] <= zrange[1])]\n",
    "x1_sdssps = df_cut.stretchs\n",
    "c_sdssps = df_cut.colors\n",
    "\n",
    "x1_ks_5 = scipy.stats.ks_2samp(x1_snf, x1_sdssps)[1]\n",
    "c_ks_5 = scipy.stats.ks_2samp(c_snf, c_sdssps)[1]"
   ]
  },
  {
   "cell_type": "markdown",
   "metadata": {},
   "source": [
    "## Plot"
   ]
  },
  {
   "cell_type": "code",
   "execution_count": 89,
   "metadata": {},
   "outputs": [
    {
     "name": "stdout",
     "output_type": "stream",
     "text": [
      "0.02264582581638153 0.07883286325413175\n",
      "0.03652 0.19867\n",
      "0.0264 0.3092\n"
     ]
    }
   ],
   "source": [
    "for survey in ['SNF', 'SDSS', 'PS1']:\n",
    "    print(np.min(df_nc[df_nc['survey'] == survey]['redshifts']),\n",
    "          np.max(df_nc[df_nc['survey'] == survey]['redshifts']))"
   ]
  },
  {
   "cell_type": "code",
   "execution_count": 22,
   "metadata": {},
   "outputs": [
    {
     "name": "stderr",
     "output_type": "stream",
     "text": [
      "/home/nicolas/.installs/anaconda3/lib/python3.7/site-packages/ipykernel_launcher.py:2: SettingWithCopyWarning: \n",
      "A value is trying to be set on a copy of a slice from a DataFrame.\n",
      "Try using .loc[row_indexer,col_indexer] = value instead\n",
      "\n",
      "See the caveats in the documentation: http://pandas.pydata.org/pandas-docs/stable/user_guide/indexing.html#returning-a-view-versus-a-copy\n",
      "  \n"
     ]
    }
   ],
   "source": [
    "df_comb = df[df['survey'].isin(['PS1', 'SDSS'])]\n",
    "df_comb['survey'] = 'SDSSPS1'"
   ]
  },
  {
   "cell_type": "code",
   "execution_count": 25,
   "metadata": {},
   "outputs": [],
   "source": [
    "df_three = pd.concat([df_comb, df[df['survey'] == 'SNF']])"
   ]
  },
  {
   "cell_type": "code",
   "execution_count": 93,
   "metadata": {
    "jupyter": {
     "source_hidden": true
    }
   },
   "outputs": [
    {
     "name": "stdout",
     "output_type": "stream",
     "text": [
      "Survey: SNF #SNe: 69\n",
      "Survey: SDSSPS1 #SNe: 34\n",
      "Survey: SNF #SNe: 69\n",
      "Survey: SDSSPS1 #SNe: 34\n"
     ]
    },
    {
     "data": {
      "image/png": "[encoded data removed]",
      "text/plain": [
       "<Figure size 720x216 with 2 Axes>"
      ]
     },
     "metadata": {
      "needs_background": "light"
     },
     "output_type": "display_data"
    }
   ],
   "source": [
    "fig = plt.figure(figsize=[10, 3])\n",
    "\n",
    "smap = plt.cm.get_cmap('viridis')\n",
    "colors = {'SNF': smap(0.1),\n",
    "          'SDSS': smap(0.3),\n",
    "          'SDSSPS1': plt.cm.get_cmap('hsv')(0.29),\n",
    "          'PS1': smap(0.5),\n",
    "          'SNLS': smap(0.8),\n",
    "          'HST': smap(0.99)}# for cividis\n",
    "          #'HST': smap(300)}# for viridis\n",
    "surveys = colors.keys()\n",
    "    \n",
    "alpha1colors = dict()\n",
    "for survey in surveys:\n",
    "    alpha1colors[survey] = (colors[survey][0], colors[survey][1], colors[survey][2], .1)\n",
    "\n",
    "alpha3colors = dict()\n",
    "for survey in surveys:\n",
    "    alpha3colors[survey] = (colors[survey][0], colors[survey][1], colors[survey][2], .3)\n",
    "    \n",
    "alpha5colors = dict()\n",
    "for survey in surveys:\n",
    "    alpha5colors[survey] = (colors[survey][0], colors[survey][1], colors[survey][2], .5)\n",
    "\n",
    "alpha8colors = dict()\n",
    "for survey in surveys:\n",
    "    alpha8colors[survey] = (colors[survey][0], colors[survey][1], colors[survey][2], .8)\n",
    "\n",
    "prop = dict(marker=\"o\", s=20, lw=1)\n",
    "\n",
    "zrange = [0.05, 0.10]\n",
    "\n",
    "# for horiz\n",
    "left, width = 0.12, 0.40\n",
    "bottom, height = 0.11, 0.85\n",
    "xspan = 0.03\n",
    "\n",
    "for k in range(2):\n",
    "    ax = fig.add_axes([left+k*(width+xspan), bottom, width, height])\n",
    "    for i, survey in enumerate(['SNF', 'SDSSPS1']):\n",
    "        df_ncused = df_three[df_three['survey'] == survey]\n",
    "        df_cut = df_ncused[(df_ncused['redshifts'] > zrange[0])\n",
    "                         & (df_ncused['redshifts'] <= zrange[1])]\n",
    "       \n",
    "        print('Survey:', survey, '#SNe:', len(df_cut))\n",
    "        \n",
    "        toplot = [df_cut.stretchs, df_cut.colors]\n",
    "        torange = [[-3.5, 3.5], [-0.3, 0.3]]\n",
    "        tolabel = [r'$x_1$', r'$c$']\n",
    "        toname = ['stretch', 'color']\n",
    "        shift = [[-0.05, 0.05], [-0.005, 0.005]]\n",
    "        tobins = [11, 12]\n",
    "        \n",
    "        prop = {\"range\": torange[k], \"bins\": tobins[k]}\n",
    "        \n",
    "        h, r = np.histogram(toplot[k], density=False, **prop)\n",
    "        \n",
    "        xbin = np.mean([r[:-1], r[1:]], axis=0)\n",
    "        xbin = xbin + shift[k][i]\n",
    "        \n",
    "        ybin, _ = np.histogram(toplot[k], density=True, **prop)\n",
    "        \n",
    "        norm = h[3]/ybin[3]\n",
    "        yerr = np.sqrt(h)/norm\n",
    "        \n",
    "        if k == 0:\n",
    "            ax.hist(toplot[k], density=True,\n",
    "                    histtype='step',# fill=True,\n",
    "                    zorder=1,\n",
    "                    edgecolor=colors[survey],\n",
    "                    facecolor=alpha5colors[survey],\n",
    "                    label=survey, **prop)\n",
    "            \n",
    "            ax.errorbar(xbin, ybin, yerr=np.sqrt(h)/norm,\n",
    "                        marker=\"None\", ls=\"None\",\n",
    "                        lw=1, alpha=.5,\n",
    "                        ecolor=colors[survey])\n",
    "        \n",
    "        else:\n",
    "            ax.hist(toplot[k], density=True,\n",
    "                    histtype='step',# fill=True,\n",
    "                    zorder=1,\n",
    "                    edgecolor=colors[survey],\n",
    "                    facecolor=alpha5colors[survey],\n",
    "                    **prop)\n",
    "            \n",
    "            ax.errorbar(xbin, ybin, yerr=np.sqrt(h)/norm,\n",
    "                        marker=\"None\", ls=\"None\",\n",
    "                        lw=1, alpha=.5,\n",
    "                        ecolor=colors[survey])            \n",
    "            \n",
    "        if k == 1:\n",
    "            ax.text(0.98, 0.98,\n",
    "                    'pval = ' + '%.1f%%'%(c_ks_5*100),\n",
    "                    horizontalalignment='right',\n",
    "                    verticalalignment='top',\n",
    "                    alpha=.8, transform=ax.transAxes)\n",
    "        \n",
    "        else:\n",
    "            ax.text(0.98, 0.98,\n",
    "                    'pval = ' + '%.1f%%'%(x1_ks_5*100),\n",
    "                    horizontalalignment='right',\n",
    "                    verticalalignment='top',\n",
    "                    alpha=.8, transform=ax.transAxes)\n",
    "        \n",
    "        if k != 1:\n",
    "            x_lin = np.linspace(-3, 3, 1000)\n",
    "            pdfmodel_low = baseTOT.likelihood_tot(baseTOT.delta(0.05),\n",
    "                                                  x_lin, 0, #np.mean(dx1),\n",
    "                                                  baseTOT.param['aa'],\n",
    "                                                  baseTOT.param['mu_1'], baseTOT.param['sigma_1'],\n",
    "                                                  baseTOT.param['mu_2'], baseTOT.param['sigma_2'])\n",
    "            pdfmodel_mid = baseTOT.likelihood_tot(baseTOT.delta(0.075),\n",
    "                                                  x_lin, 0, #np.mean(dx1),\n",
    "                                                  baseTOT.param['aa'],\n",
    "                                                  baseTOT.param['mu_1'], baseTOT.param['sigma_1'],\n",
    "                                                  baseTOT.param['mu_2'], baseTOT.param['sigma_2'])\n",
    "            pdfmodel_upp = baseTOT.likelihood_tot(baseTOT.delta(0.10),\n",
    "                                                  x_lin, 0, #np.mean(dx1),\n",
    "                                                  baseTOT.param['aa'],\n",
    "                                                  baseTOT.param['mu_1'], baseTOT.param['sigma_1'],\n",
    "                                                  baseTOT.param['mu_2'], baseTOT.param['sigma_2'])\n",
    "            baseprop = {'lw': 1, 'alpha': 0.3, 'color': 'C1'}\n",
    "            ax.plot(x_lin, pdfmodel_low, **baseprop)\n",
    "            ax.plot(x_lin, pdfmodel_mid, lw=1, color='C1')\n",
    "            ax.plot(x_lin, pdfmodel_upp, **baseprop)\n",
    "        \n",
    "    ax.tick_params(labelsize=12)\n",
    "\n",
    "    ax.set_xlabel(tolabel[k], fontsize = 'x-large')\n",
    "\n",
    "    ax.set_yticks([])\n",
    "    ax.set_xlim(torange[k][0], torange[k][-1])\n",
    "\n",
    "    if k == 0:\n",
    "        ax.legend(loc='upper center', fontsize='medium', ncol=5,\n",
    "                  bbox_to_anchor=(1.0, 1.0, 0.20, 0.17))\n",
    "    plt.suptitle(f'SNF, SDSS and PS1 distributions for {zrange[0]} < z < {zrange[1]}', y=1.15, x=0.54)\n",
    "\n",
    "path = '../../Images/pdf/both-cut'\n",
    "path = path + '_SNF_SDSS_PS1-004-010.pdf'\n",
    "fig.savefig(path, bbox_inches='tight')\n",
    "\n",
    "path = '../../Images/png/both-cut'\n",
    "path = path + '_SNF_SDSS_PS1-004-010.png'\n",
    "fig.savefig(path, bbox_inches='tight', dpi=600)"
   ]
  },
  {
   "cell_type": "code",
   "execution_count": null,
   "metadata": {},
   "outputs": [],
   "source": []
  }
 ],
 "metadata": {
  "kernelspec": {
   "display_name": "Python 3",
   "language": "python",
   "name": "python3"
  },
  "language_info": {
   "codemirror_mode": {
    "name": "ipython",
    "version": 3
   },
   "file_extension": ".py",
   "mimetype": "text/x-python",
   "name": "python",
   "nbconvert_exporter": "python",
   "pygments_lexer": "ipython3",
   "version": "3.7.12"
  }
 },
 "nbformat": 4,
 "nbformat_minor": 4
}
