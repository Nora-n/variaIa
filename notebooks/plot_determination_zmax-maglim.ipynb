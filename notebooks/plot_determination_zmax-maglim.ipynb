{
 "cells": [
  {
   "cell_type": "markdown",
   "metadata": {},
   "source": [
    "## Modules à importer"
   ]
  },
  {
   "cell_type": "code",
   "execution_count": 1,
   "metadata": {
    "jupyter": {
     "source_hidden": true
    }
   },
   "outputs": [],
   "source": [
    "import math\n",
    "import scipy\n",
    "import pickle\n",
    "import sncosmo\n",
    "import numpy as np\n",
    "import pandas as pd\n",
    "import iminuit as im\n",
    "import ipywidgets as ipw\n",
    "from importlib import reload\n",
    "from variaIa import baserate\n",
    "from variaIa import stretchevol\n",
    "from scipy.stats import poisson\n",
    "import scipy.integrate as integrate\n",
    "from scipy.interpolate import interp1d\n",
    "from astropy.cosmology import Planck15\n",
    "import matplotlib.pyplot as plt\n",
    "import random"
   ]
  },
  {
   "cell_type": "markdown",
   "metadata": {},
   "source": [
    "## Définitions et sélection de l'échantillon à utiliser"
   ]
  },
  {
   "cell_type": "code",
   "execution_count": 2,
   "metadata": {
    "jupyter": {
     "source_hidden": true
    }
   },
   "outputs": [
    {
     "data": {
      "application/vnd.jupyter.widget-view+json": {
       "model_id": "2491f03b66634282b99b918d25a7dee9",
       "version_major": 2,
       "version_minor": 0
      },
      "text/plain": [
       "interactive(children=(Dropdown(description='Survey:', index=2, options=('SNF', 'SDSS', 'PS1', 'SNLS', 'HST'), …"
      ]
     },
     "metadata": {},
     "output_type": "display_data"
    }
   ],
   "source": [
    "d = pd.read_csv('../Data/data_cheat.csv', sep=' ', index_col='CID')\n",
    "d_snf = pd.read_csv('../Data/lssfr_paper_full_sntable.csv', sep=',')\n",
    "\n",
    "surveys = ['SNF', 'SDSS', 'PS1', 'SNLS', 'HST']\n",
    "\n",
    "su = ipw.Dropdown(options=surveys,\n",
    "                  description='Survey:',\n",
    "                  value='PS1')\n",
    "\n",
    "surv = {'SNF':  d_snf,\n",
    "        'SDSS': d[d['IDSURVEY'] == 1],\n",
    "        'PS1':  d[d['IDSURVEY'] == 15],\n",
    "        'SNLS': d[d['IDSURVEY'] == 4],\n",
    "        'HST':  d[d['IDSURVEY'].isin([101, 100, 106])],\n",
    "        'survey_all': d[d['IDSURVEY'].isin([1, 15, 4])]}\n",
    "\n",
    "# .loc[d_snf['name'].str.contains('SNF|LSQ|PTF',na=False,regex=True)]\n",
    "\n",
    "colors = {'SNF': 'orange',\n",
    "          'SDSS': 'lime',\n",
    "          'PS1': 'blue',\n",
    "          'SNLS': 'red',\n",
    "          'HST': 'purple'}\n",
    "\n",
    "def set_data(su):\n",
    "    global dataz, datax\n",
    "    if su == 'SNF':\n",
    "        dataz = np.sort(surv[su]['host.zcmb'].values)\n",
    "    else:\n",
    "        dataz = np.sort(surv[su].zCMB.values)\n",
    "    \n",
    "int_data = ipw.interactive(set_data, su=su)\n",
    "display(int_data)"
   ]
  },
  {
   "cell_type": "markdown",
   "metadata": {},
   "source": [
    "# Détermination des $z_{\\text{max}}$ _via_ SNcosmo"
   ]
  },
  {
   "cell_type": "markdown",
   "metadata": {},
   "source": [
    "#### For every (x1, c) in an ([-3, 3], [-0.3, 0.3]) ellipse, we want to find the absolute magnitude 5 days prior to the peak value taken at -19.3: M is indeed a function of (x1, c, t).\n",
    "\n",
    "#### We set the SN near z=0, with c and x1 to 0 for that is the value that will give the actual peak absolute magnitude, and then we get M by taking the apparent magnitude it has, minus the distance modulus."
   ]
  },
  {
   "cell_type": "code",
   "execution_count": 67,
   "metadata": {},
   "outputs": [],
   "source": [
    "bp = sncosmo.get_bandpass('bessellb')"
   ]
  },
  {
   "cell_type": "code",
   "execution_count": 128,
   "metadata": {},
   "outputs": [
    {
     "data": {
      "text/plain": [
       "5700.204554795735"
      ]
     },
     "execution_count": 128,
     "metadata": {},
     "output_type": "execute_result"
    }
   ],
   "source": [
    "bp.wave_eff*1.3"
   ]
  },
  {
   "cell_type": "code",
   "execution_count": 134,
   "metadata": {},
   "outputs": [
    {
     "data": {
      "text/plain": [
       "6186.798254522246"
      ]
     },
     "execution_count": 134,
     "metadata": {},
     "output_type": "execute_result"
    }
   ],
   "source": [
    "sncosmo.get_bandpass('sdssr').wave_eff"
   ]
  },
  {
   "cell_type": "code",
   "execution_count": 121,
   "metadata": {},
   "outputs": [],
   "source": [
    "M_list = []\n",
    "model = sncosmo.Model(\"salt2\")\n",
    "model.set(z=0.00000001, t0=55000, c=0., x1=0)\n",
    "model.set_source_peakabsmag(-19.36, \"bessellb\", \"ab\", cosmo=Planck15)\n",
    "\n",
    "a=3.     #radius on the x-axis\n",
    "b=.3    #radius on the y-axis\n",
    "t = np.linspace(0, 2*np.pi, 10000)\n",
    "\n",
    "data = dict()\n",
    "\n",
    "for i in range(len(t)):\n",
    "    data[i] = {'c': b*np.sin(t)[i],\n",
    "               'x1': a*np.cos(t)[i]}\n",
    "    model.update(data[i])\n",
    "    data[i]['M'] = model.bandmag('bessellb', 'ab', model[\"t0\"]-5)\\\n",
    "                 - Planck15.distmod(model[\"z\"]).value\n",
    "\n",
    "df = pd.DataFrame(data).T"
   ]
  },
  {
   "cell_type": "markdown",
   "metadata": {},
   "source": [
    "#### The effective instrinsec magnitude also depends linearly on (x1, c) according to the Tripp equation, and as such we correct for that.\n",
    "#### α is taken at 0.158, and β at 3.138 according to Scolnic 2018a, table 7"
   ]
  },
  {
   "cell_type": "code",
   "execution_count": 122,
   "metadata": {},
   "outputs": [],
   "source": [
    "df['M_eff'] = df['M']-0.158*df['x1']+3.138*df['c']"
   ]
  },
  {
   "cell_type": "markdown",
   "metadata": {},
   "source": [
    "## Plotting the results"
   ]
  },
  {
   "cell_type": "code",
   "execution_count": 112,
   "metadata": {
    "jupyter": {
     "source_hidden": true
    }
   },
   "outputs": [
    {
     "data": {
      "image/png": "[encoded data removed]",
      "text/plain": [
       "<Figure size 576x360 with 2 Axes>"
      ]
     },
     "metadata": {
      "needs_background": "light"
     },
     "output_type": "display_data"
    }
   ],
   "source": [
    "fig = plt.figure(figsize=[8, 5])\n",
    "ax = fig.add_axes([0.1, 0.12, 0.8, 0.8])\n",
    "\n",
    "ts = ax.scatter(df['x1'],\n",
    "                df['c'],\n",
    "                marker='o',\n",
    "                cmap='viridis',\n",
    "                c=df['M_eff'], edgecolors=\"None\",\n",
    "                s=20,\n",
    "                zorder=2)\n",
    "\n",
    "cl = fig.colorbar(ts, label=r'$M$ (mag)')\n",
    "\n",
    "ax.hist2d(surv['survey_all'].x1,\n",
    "          surv['survey_all'].c,\n",
    "          range=[[-4, 4], [-.4, .4]],\n",
    "          bins=20,\n",
    "          cmap=plt.cm.binary,\n",
    "          vmin=1,\n",
    "          alpha=.8)\n",
    "\n",
    "ax.scatter(surv['survey_all'].x1,\n",
    "           surv['survey_all'].c,\n",
    "           marker='.',\n",
    "           fc=plt.cm.Blues(.8, .8),\n",
    "           edgecolors=\"None\",\n",
    "           lw=.5,\n",
    "           s=40,\n",
    "           zorder=2)\n",
    "\n",
    "ax.tick_params(direction='in',\n",
    "               length=5, width=1,\n",
    "               labelsize=15,\n",
    "               top=True, right=True)\n",
    "\n",
    "ax.set_xlabel(r'SALT2.4 $x_1$', fontsize='xx-large')\n",
    "ax.set_ylabel(r'SALT2.4 $c$', fontsize='xx-large')\n",
    "\n",
    "ax.set_xlim(-4, 4)\n",
    "ax.set_ylim(-.4, .4)\n",
    "\n",
    "# plt.legend(ncol=1, loc='upper left', fontsize='x-large')\n",
    "fig=plt.gcf()\n",
    "fig.savefig('/home/nicolas/Documents/Thèse/Images/zmax_maglim_all.pdf')"
   ]
  },
  {
   "cell_type": "markdown",
   "metadata": {},
   "source": [
    "#### Find the values for the lowest effective absolute magnitude"
   ]
  },
  {
   "cell_type": "code",
   "execution_count": 123,
   "metadata": {},
   "outputs": [
    {
     "data": {
      "text/plain": [
       "c         0.249980\n",
       "x1       -1.658620\n",
       "M       -19.127105\n",
       "M_eff   -18.080607\n",
       "Name: 3432, dtype: float64"
      ]
     },
     "execution_count": 123,
     "metadata": {},
     "output_type": "execute_result"
    }
   ],
   "source": [
    "df.sort_values('M_eff', ascending=False).iloc[0]"
   ]
  },
  {
   "cell_type": "code",
   "execution_count": 110,
   "metadata": {},
   "outputs": [
    {
     "name": "stdout",
     "output_type": "stream",
     "text": [
      "-19.35684909918463 -18.30624909918463\n"
     ]
    }
   ],
   "source": [
    "p = model.bandmag('bessellb', 'ab', model[\"t0\"])- Planck15.distmod(model[\"z\"]).value\n",
    "p2 = p -0.16*-1.66 + 3.14*0.25\n",
    "print(p, p2)"
   ]
  },
  {
   "cell_type": "markdown",
   "metadata": {},
   "source": [
    "#### Define a function returning the value of z minimizing the difference in distance modulus, which we get as the difference between the m_lim and M_lim"
   ]
  },
  {
   "cell_type": "code",
   "execution_count": 124,
   "metadata": {},
   "outputs": [],
   "source": [
    "def find_zmax(mag_lim, magabs_lim=-18.00):\n",
    "    return(find_z(mag_lim - magabs_lim))\n",
    "\n",
    "def find_z(distmod, cosmo=None):\n",
    "    if cosmo is None:\n",
    "        from astropy.cosmology import Planck15\n",
    "        cosmo = Planck15\n",
    "    return(scipy.optimize.fmin(lambda z:np.abs(cosmo.distmod(z).value - distmod), 0.1, disp=0))"
   ]
  },
  {
   "cell_type": "markdown",
   "metadata": {},
   "source": [
    "#### Actually compute it for the m_lim of PS1, SDSS and SNLS found in articles"
   ]
  },
  {
   "cell_type": "code",
   "execution_count": 127,
   "metadata": {},
   "outputs": [
    {
     "data": {
      "text/plain": [
       "array([0.64671875])"
      ]
     },
     "execution_count": 127,
     "metadata": {},
     "output_type": "execute_result"
    }
   ],
   "source": [
    "find_zmax(25)"
   ]
  },
  {
   "cell_type": "code",
   "execution_count": 152,
   "metadata": {},
   "outputs": [],
   "source": [
    "m_lim = {'SDSS': 22.5,   # Dilday 2008 page 9, g band and computing the 5\\s from 3.5\\s\n",
    "         'PS1': 23.1,    # Rest 2014 table 2, g band\n",
    "         'SNLS': 24.8,}   # CFHTLS i band"
   ]
  },
  {
   "cell_type": "code",
   "execution_count": 153,
   "metadata": {},
   "outputs": [
    {
     "data": {
      "text/plain": [
       "{'SDSS': 0.2, 'PS1': 0.3094531250000007, 'SNLS': 0.5994531250000017}"
      ]
     },
     "execution_count": 153,
     "metadata": {},
     "output_type": "execute_result"
    }
   ],
   "source": [
    "z_max_ml = dict()\n",
    "\n",
    "for survey in list(m_lim.keys()):\n",
    "    z_max_ml[survey] = find_zmax(m_lim[survey])[0]\n",
    "    \n",
    "z_max_ml['SDSS'] = 0.2    # La littérature dit qu'il faut prendre ça\n",
    "z_max_ml"
   ]
  },
  {
   "cell_type": "code",
   "execution_count": 154,
   "metadata": {},
   "outputs": [],
   "source": [
    "with open('../Data/zmax_mlim', 'wb') as f:\n",
    "    pickle.dump(z_max_ml, f)"
   ]
  },
  {
   "cell_type": "markdown",
   "metadata": {},
   "source": [
    "#### Comparison with z_max found with the statistical approach"
   ]
  },
  {
   "cell_type": "code",
   "execution_count": 19,
   "metadata": {},
   "outputs": [
    {
     "data": {
      "text/plain": [
       "{'SDSS': [0.1728, 0.2039, 0.2301],\n",
       " 'PS1': [0.1821, 0.2732, 0.3568],\n",
       " 'SNLS': [0.5937, 0.6162, 0.6565]}"
      ]
     },
     "execution_count": 19,
     "metadata": {},
     "output_type": "execute_result"
    }
   ],
   "source": [
    "with open('../Data/zmax_spec_result', 'rb') as f:\n",
    "    z_lins, meds, stds, z_max, itsc = pickle.load(f)\n",
    "\n",
    "z_max"
   ]
  },
  {
   "cell_type": "code",
   "execution_count": 148,
   "metadata": {},
   "outputs": [
    {
     "data": {
      "text/plain": [
       "array([0.49507813])"
      ]
     },
     "execution_count": 148,
     "metadata": {},
     "output_type": "execute_result"
    }
   ],
   "source": [
    "find_zmax(24.3)"
   ]
  },
  {
   "cell_type": "code",
   "execution_count": null,
   "metadata": {},
   "outputs": [],
   "source": []
  }
 ],
 "metadata": {
  "kernelspec": {
   "display_name": "Python 3",
   "language": "python",
   "name": "python3"
  },
  "language_info": {
   "codemirror_mode": {
    "name": "ipython",
    "version": 3
   },
   "file_extension": ".py",
   "mimetype": "text/x-python",
   "name": "python",
   "nbconvert_exporter": "python",
   "pygments_lexer": "ipython3",
   "version": "3.7.4"
  }
 },
 "nbformat": 4,
 "nbformat_minor": 4
}
