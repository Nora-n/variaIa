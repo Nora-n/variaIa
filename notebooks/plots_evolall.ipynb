{
 "cells": [
  {
   "cell_type": "markdown",
   "metadata": {},
   "source": [
    "## Modules à importer"
   ]
  },
  {
   "cell_type": "code",
   "execution_count": 2,
   "metadata": {
    "jupyter": {
     "source_hidden": true
    }
   },
   "outputs": [],
   "source": [
    "import math\n",
    "import scipy\n",
    "import pickle\n",
    "import numpy as np\n",
    "import pandas as pd\n",
    "import iminuit as im\n",
    "import ipywidgets as ipw\n",
    "from importlib import reload\n",
    "from scipy.stats import poisson\n",
    "from sklearn.cluster import KMeans\n",
    "from variaIa import baserate\n",
    "from variaIa import stretchevol\n",
    "from astropy.cosmology import Planck15 as cdata\n",
    "from IPython.display import display, Latex\n",
    "import matplotlib.pyplot as plt\n",
    "import random"
   ]
  },
  {
   "cell_type": "markdown",
   "metadata": {},
   "source": [
    "## Définitions pandas, surveys, $z[:z_{\\text{max}}]$, $x_1[:z_{\\text{max}}]$, mean, std et données totales"
   ]
  },
  {
   "cell_type": "code",
   "execution_count": 31,
   "metadata": {},
   "outputs": [],
   "source": [
    "d = pd.read_csv('../Data/data_cheat.csv', sep=' ', index_col = 'CID')\n",
    "d_snf = pd.read_csv('../Data/lssfr_paper_full_sntable.csv',sep=',')\n",
    "\n",
    "surveys = ['SNF', 'SDSS', 'PS1', 'SNLS', 'HST']\n",
    "\n",
    "surv = {'SNF':  d_snf,\n",
    "        'SDSS': d[d['IDSURVEY'] == 1],\n",
    "        'PS1':  d[d['IDSURVEY'] == 15],\n",
    "        'SNLS': d[d['IDSURVEY'] == 4],\n",
    "        'HST':  d[d['IDSURVEY'].isin([101, 100, 106])]}\n",
    "\n",
    "with open('../Data/zmax_mlim', 'rb') as f:\n",
    "    z_max = pickle.load(f)\n",
    "\n",
    "z_max['SNF'] = [10, 10]\n",
    "z_max['HST'] = [10, 10]\n",
    "\n",
    "colors = {'SNF': 'orange',\n",
    "          'SDSS': 'lime',\n",
    "          'PS1': 'blue',\n",
    "          'SNLS': 'red',\n",
    "          'HST': 'purple'}\n",
    "\n",
    "zmax_cuts = dict()\n",
    "z_zcuts = dict()\n",
    "x1_zcuts = dict()\n",
    "x1_err_zcuts = dict()\n",
    "\n",
    "for survey in surveys[1:]:\n",
    "    zmax_cuts[survey] = np.where(surv[survey].zCMB.values < z_max[survey][1])\n",
    "    z_zcuts[survey] = surv[survey].zCMB.values[zmax_cuts[survey]]\n",
    "    x1_zcuts[survey] = surv[survey].x1.values[zmax_cuts[survey]]\n",
    "    x1_err_zcuts[survey] = surv[survey].x1ERR.values[zmax_cuts[survey]]\n",
    "    \n",
    "zmax_cuts['SNF'] = np.where(surv['SNF']['host.zcmb'].values < z_max['SNF'][1])\n",
    "z_zcuts['SNF'] = surv['SNF']['host.zcmb'].values[zmax_cuts['SNF']]\n",
    "x1_zcuts['SNF'] = surv['SNF']['salt2.X1'].values[zmax_cuts['SNF']]\n",
    "x1_err_zcuts['SNF'] = surv['SNF']['salt2.X1.err'].values[zmax_cuts['SNF']]\n",
    "\n",
    "datax_all = np.concatenate(\n",
    "    (np.concatenate(\n",
    "        (np.concatenate(\n",
    "            (np.concatenate((x1_zcuts['SNF'],\n",
    "                             x1_zcuts['SDSS'])),\n",
    "             x1_zcuts['PS1'])),\n",
    "         x1_zcuts['SNLS'])),\n",
    "     x1_zcuts['HST']))\n",
    "                                                     \n",
    "datax_err_all = np.concatenate(\n",
    "    (np.concatenate(\n",
    "        (np.concatenate(\n",
    "            (np.concatenate((x1_err_zcuts['SNF'],\n",
    "                             x1_err_zcuts['SDSS'])),\n",
    "             x1_err_zcuts['PS1'])),\n",
    "         x1_err_zcuts['SNLS'])),\n",
    "     x1_err_zcuts['HST']))\n",
    "                                                     \n",
    "dataz_all = np.concatenate(\n",
    "    (np.concatenate(\n",
    "        (np.concatenate(\n",
    "            (np.concatenate((z_zcuts['SNF'],\n",
    "                             z_zcuts['SDSS'])),\n",
    "             z_zcuts['PS1'])),\n",
    "         z_zcuts['SNLS'])),\n",
    "     z_zcuts['HST']))\n",
    "\n",
    "zinf_cuts = dict()\n",
    "z_zinfcuts = dict()\n",
    "x1_zinfcuts = dict()\n",
    "x1_err_zinfcuts = dict()\n",
    "c_zinfcuts = dict()\n",
    "c_err_zinfcuts = dict()\n",
    "\n",
    "for survey in surveys[1:]:\n",
    "    zinf_cuts[survey] = np.where(surv[survey].zCMB.values < z_max[survey][0])\n",
    "    z_zinfcuts[survey] = surv[survey].zCMB.values[zinf_cuts[survey]]\n",
    "    x1_zinfcuts[survey] = surv[survey].x1.values[zinf_cuts[survey]]\n",
    "    x1_err_zinfcuts[survey] = surv[survey].x1ERR.values[zinf_cuts[survey]]\n",
    "    c_zinfcuts[survey] = surv[survey].c.values[zinf_cuts[survey]]\n",
    "    c_err_zinfcuts[survey] = surv[survey].cERR.values[zinf_cuts[survey]]\n",
    "\n",
    "zinf_cuts['SNF'] = np.where(surv['SNF']['host.zcmb'].values < z_max['SNF'][0])\n",
    "z_zinfcuts['SNF'] = surv['SNF']['host.zcmb'].values[zinf_cuts['SNF']]\n",
    "x1_zinfcuts['SNF'] = surv['SNF']['salt2.X1'].values[zinf_cuts['SNF']]\n",
    "x1_err_zinfcuts['SNF'] = surv['SNF']['salt2.X1.err'].values[zinf_cuts['SNF']]\n",
    "c_zinfcuts['SNF'] = surv['SNF']['salt2.Color'].values[zinf_cuts['SNF']]\n",
    "c_err_zinfcuts['SNF'] = surv['SNF']['salt2.Color.err'].values[zinf_cuts['SNF']]\n",
    "\n",
    "datax_cons_all = np.concatenate(\n",
    "    (np.concatenate(\n",
    "        (np.concatenate(\n",
    "            (np.concatenate((x1_zinfcuts['SNF'],\n",
    "                             x1_zinfcuts['SDSS'])),\n",
    "             x1_zinfcuts['PS1'])),\n",
    "         x1_zinfcuts['SNLS'])),\n",
    "     x1_zinfcuts['HST']))\n",
    "                                                     \n",
    "datax_err_cons_all = np.concatenate(\n",
    "    (np.concatenate(\n",
    "        (np.concatenate(\n",
    "            (np.concatenate((x1_err_zinfcuts['SNF'],\n",
    "                             x1_err_zinfcuts['SDSS'])),\n",
    "             x1_err_zinfcuts['PS1'])),\n",
    "         x1_err_zinfcuts['SNLS'])),\n",
    "     x1_err_zinfcuts['HST']))\n",
    "                                                     \n",
    "dataz_cons_all = np.concatenate(\n",
    "    (np.concatenate(\n",
    "        (np.concatenate(\n",
    "            (np.concatenate((z_zinfcuts['SNF'],\n",
    "                             z_zinfcuts['SDSS'])),\n",
    "             z_zinfcuts['PS1'])),\n",
    "         z_zinfcuts['SNLS'])),\n",
    "     z_zinfcuts['HST']))"
   ]
  },
  {
   "cell_type": "markdown",
   "metadata": {},
   "source": [
    "### Nb de données"
   ]
  },
  {
   "cell_type": "code",
   "execution_count": 10,
   "metadata": {
    "collapsed": true,
    "jupyter": {
     "outputs_hidden": true,
     "source_hidden": true
    }
   },
   "outputs": [
    {
     "name": "stdout",
     "output_type": "stream",
     "text": [
      "Conservative data:\n",
      "SNF = 114\n",
      "SDSS = 82\n",
      "PS1 = 122\n",
      "SNLS = 78\n",
      "HST = 26\n",
      "Sum =  422\n",
      "Non-conservative data:\n",
      "SNF = 141\n",
      "SDSS = 167\n",
      "PS1 = 160\n",
      "SNLS = 102\n",
      "HST = 26\n",
      "Sum =  596\n"
     ]
    }
   ],
   "source": [
    "s = 0\n",
    "print('Conservative data:')\n",
    "for survey in surveys:\n",
    "    s += len(z_zinfcuts[survey])\n",
    "    print(survey + ' =', len(z_zinfcuts[survey]))\n",
    "\n",
    "print('Sum = ', s)\n",
    "\n",
    "s = 0\n",
    "print('Non-conservative data:')\n",
    "for survey in surveys:\n",
    "    s += len(z_zcuts[survey])\n",
    "    print(survey + ' =', len(z_zcuts[survey]))\n",
    "\n",
    "print('Sum = ', s)"
   ]
  },
  {
   "cell_type": "markdown",
   "metadata": {},
   "source": [
    "## Utilisation de la classe _stretchevol_ pour le fit double total"
   ]
  },
  {
   "cell_type": "code",
   "execution_count": 32,
   "metadata": {},
   "outputs": [],
   "source": [
    "reload(stretchevol)\n",
    "\n",
    "evol3G2M2S = stretchevol.Evol3G2M2S()\n",
    "evol3G2M2S.set_data(dataz_all, datax_all, datax_err_all)\n",
    "\n",
    "evol3G2M2S.GUESSVAL[3] = -1\n",
    "\n",
    "evol3G2M2S.minimize()\n",
    "\n",
    "evol3G2M2S_cons = stretchevol.Evol3G2M2S()\n",
    "evol3G2M2S_cons.set_data(dataz_cons_all, datax_cons_all, datax_err_cons_all)\n",
    "\n",
    "evol3G2M2S_cons.GUESSVAL[3] = -1\n",
    "\n",
    "evol3G2M2S_cons.minimize()\n",
    "\n",
    "#evol3G2M2S.plotter()\n",
    "\n",
    "#fig=plt.gcf()\n",
    "#fig.savefig('/home/nora/Pictures/BiGaussian.pdf')"
   ]
  },
  {
   "cell_type": "markdown",
   "metadata": {},
   "source": [
    "## Défnition _age-law_"
   ]
  },
  {
   "cell_type": "code",
   "execution_count": 12,
   "metadata": {
    "jupyter": {
     "source_hidden": true
    }
   },
   "outputs": [],
   "source": [
    "def delta(z):\n",
    "    return stretchevol.MockEvol().delta(z)\n",
    "\n",
    "with open('../Data/SNF_results', 'rb') as f:\n",
    "    res_SNF = pickle.load(f)\n",
    "\n",
    "def age_law_snf(z):\n",
    "    \"\"\"Analytical law with snf results\"\"\"\n",
    "    return (delta(z)*res_SNF['mu_1'] + (1-delta(z))*(res_SNF['a']*res_SNF['mu_1'] + \n",
    "                                                 (1-res_SNF['a'])*res_SNF['mu_2']))\n",
    "    #return delta(z)*0.3869 + (1-delta(z))*(0.4772*0.3869 + (1-0.4772)*-1.5210)\n",
    "\n",
    "def age_law_all(z):\n",
    "    \"\"\"Analytical law with 3G2M2S results\"\"\"\n",
    "    return (delta(z)*evol3G2M2S.param['mu_1']\n",
    "      + (1-delta(z))*(evol3G2M2S.param['a']*evol3G2M2S.param['mu_1']\n",
    "              + (1 - evol3G2M2S.param['a'])*evol3G2M2S.param['mu_2']))\n",
    "\n",
    "def age_law_all_cons(z):\n",
    "    \"\"\"Analytical law with 3G2M2S results\"\"\"\n",
    "    return (delta(z)*evol3G2M2S_cons.param['mu_1']\n",
    "      + (1-delta(z))*(evol3G2M2S_cons.param['a']*evol3G2M2S_cons.param['mu_1']\n",
    "              + (1 - evol3G2M2S_cons.param['a'])*evol3G2M2S_cons.param['mu_2']))\n",
    "\n",
    "def age_law_gen(z, param_hesse):\n",
    "    \"\"\"Function to get laws with parameters taken wrt there hesse error\"\"\"\n",
    "    return (delta(z)*param_hesse[1]\n",
    "      + (1-delta(z))*(param_hesse[0]*param_hesse[1]\n",
    "              + (1 - param_hesse[0])*param_hesse[2]))"
   ]
  },
  {
   "cell_type": "markdown",
   "metadata": {},
   "source": [
    "## Définition de _cov_ pour sélection aléatoire des paramètres"
   ]
  },
  {
   "cell_type": "code",
   "execution_count": 33,
   "metadata": {},
   "outputs": [],
   "source": [
    "cov = im.Minuit.matrix(evol3G2M2S.m_tot)\n",
    "mean = [evol3G2M2S.m_tot.values[i] for i in range(5)]\n",
    "param_hesse_mat = scipy.stats.multivariate_normal.rvs(mean=mean, cov=cov, size=500)\n",
    "\n",
    "cov_cons = im.Minuit.matrix(evol3G2M2S_cons.m_tot)\n",
    "mean_cons = [evol3G2M2S_cons.m_tot.values[i] for i in range(5)]\n",
    "param_hesse_mat_cons = scipy.stats.multivariate_normal.rvs(mean=mean_cons, cov=cov_cons, size=500)"
   ]
  },
  {
   "cell_type": "markdown",
   "metadata": {},
   "source": [
    "### Only take _a_, _µ1_ and _µ2_"
   ]
  },
  {
   "cell_type": "code",
   "execution_count": 34,
   "metadata": {},
   "outputs": [],
   "source": [
    "param_hesse_cut = param_hesse_mat[:,[0,1,3]]\n",
    "\n",
    "param_hesse_cut_cons = param_hesse_mat_cons[:,[0,1,3]]"
   ]
  },
  {
   "cell_type": "markdown",
   "metadata": {},
   "source": [
    "### List of all the models"
   ]
  },
  {
   "cell_type": "code",
   "execution_count": 35,
   "metadata": {},
   "outputs": [],
   "source": [
    "zlin = np.linspace(0, 2.65, 1000)\n",
    "models_hesse = [[age_law_gen(zi, param_hesse) for zi in zlin] for param_hesse in param_hesse_cut]\n",
    "models_hesse = np.asarray(models_hesse)\n",
    "\n",
    "models_hesse_cons = [[age_law_gen(zi, param_hesse_cons) for zi in zlin] for param_hesse_cons in param_hesse_cut_cons]\n",
    "models_hesse_cons = np.asarray(models_hesse_cons)"
   ]
  },
  {
   "cell_type": "markdown",
   "metadata": {},
   "source": [
    "### Take _std_"
   ]
  },
  {
   "cell_type": "code",
   "execution_count": 36,
   "metadata": {},
   "outputs": [],
   "source": [
    "models_std = np.std(models_hesse, axis=0)\n",
    "\n",
    "models_std_cons = np.std(models_hesse_cons, axis=0)"
   ]
  },
  {
   "cell_type": "markdown",
   "metadata": {},
   "source": [
    "## Moyennage sur toutes les données pour plus de points"
   ]
  },
  {
   "cell_type": "markdown",
   "metadata": {},
   "source": [
    "### Définition des bins sur lesquels faire les moyennes"
   ]
  },
  {
   "cell_type": "code",
   "execution_count": 37,
   "metadata": {},
   "outputs": [],
   "source": [
    "def histedges_equalN(x, nbin):\n",
    "    npt = len(x)\n",
    "    return np.interp(np.linspace(0, npt, nbin + 1),\n",
    "                     np.arange(npt),\n",
    "                     np.sort(x))\n",
    "\n",
    "_, bins = np.histogram(dataz_all, histedges_equalN(dataz_all, 6))\n",
    "_, bins_cons = np.histogram(dataz_all, histedges_equalN(dataz_cons_all, 6))"
   ]
  },
  {
   "cell_type": "code",
   "execution_count": 18,
   "metadata": {},
   "outputs": [
    {
     "data": {
      "application/vnd.jupyter.widget-view+json": {
       "model_id": "356c3d1db00d497e99e91df38238e80c",
       "version_major": 2,
       "version_minor": 0
      },
      "text/plain": [
       "Checkbox(value=False, description='Conservative')"
      ]
     },
     "metadata": {},
     "output_type": "display_data"
    }
   ],
   "source": [
    "cons = ipw.Checkbox(\n",
    "    value=False,\n",
    "    description='Conservative')\n",
    "display(cons)"
   ]
  },
  {
   "cell_type": "markdown",
   "metadata": {},
   "source": [
    "## Utilisation de la classe _stretchevol_ pour le fit double"
   ]
  },
  {
   "cell_type": "code",
   "execution_count": 22,
   "metadata": {},
   "outputs": [],
   "source": [
    "reload(stretchevol)\n",
    "\n",
    "evolSNF = stretchevol.Evol3G2M2SSNF()\n",
    "evolSNF.set_lssfr(d_snf['salt2.X1'], d_snf['salt2.X1.err'],\n",
    "                  d_snf['lssfr'], d_snf['lssfr.err_down'], d_snf['lssfr.err_up'],\n",
    "                  d_snf['p(prompt)'])\n",
    "\n",
    "evolSNF.minimize()\n",
    "\n",
    "#fig=plt.gcf()\n",
    "#fig.savefig('/home/nora/Documents/Thèse/Images/BiGaussian.pdf', bbox_inches='tight')"
   ]
  },
  {
   "cell_type": "markdown",
   "metadata": {},
   "source": [
    "## Définition de _cov_ pour sélection aléatoire des paramètres"
   ]
  },
  {
   "cell_type": "code",
   "execution_count": 25,
   "metadata": {},
   "outputs": [],
   "source": [
    "cov_snf = im.Minuit.matrix(evolSNF.m_tot)\n",
    "mean_snf = [evolSNF.m_tot.values[i] for i in range(5)]\n",
    "param_hesse_mat_snf = scipy.stats.multivariate_normal.rvs(mean=mean_snf, cov=cov_snf, size=500)"
   ]
  },
  {
   "cell_type": "markdown",
   "metadata": {},
   "source": [
    "### Only take _a_, _µ1_ and _µ2_"
   ]
  },
  {
   "cell_type": "code",
   "execution_count": 26,
   "metadata": {},
   "outputs": [],
   "source": [
    "param_hesse_cut_snf = param_hesse_mat_snf[:,[0,1,3]]"
   ]
  },
  {
   "cell_type": "markdown",
   "metadata": {},
   "source": [
    "### List of all the models"
   ]
  },
  {
   "cell_type": "code",
   "execution_count": 27,
   "metadata": {},
   "outputs": [],
   "source": [
    "zlin = np.linspace(0, 2.65, 1000)\n",
    "models_hesse_snf = [[age_law_gen(zi, param_hesse) for zi in zlin] for param_hesse in param_hesse_cut_snf]\n",
    "models_hesse_snf = np.asarray(models_hesse_snf)"
   ]
  },
  {
   "cell_type": "markdown",
   "metadata": {},
   "source": [
    "### Take _std_"
   ]
  },
  {
   "cell_type": "code",
   "execution_count": 28,
   "metadata": {},
   "outputs": [],
   "source": [
    "models_std_snf = np.std(models_hesse_snf, axis=0)"
   ]
  },
  {
   "cell_type": "markdown",
   "metadata": {},
   "source": [
    "### Tracé des points"
   ]
  },
  {
   "cell_type": "code",
   "execution_count": 54,
   "metadata": {},
   "outputs": [
    {
     "data": {
      "text/plain": [
       "array([0.02079894, 0.06228038, 0.11632667, 0.16595   , 0.2266    ,\n",
       "       0.37073667, 2.26      ])"
      ]
     },
     "execution_count": 54,
     "metadata": {},
     "output_type": "execute_result"
    }
   ],
   "source": [
    "bins_used"
   ]
  },
  {
   "cell_type": "code",
   "execution_count": 38,
   "metadata": {},
   "outputs": [
    {
     "data": {
      "image/png": "[encoded data removed]",
      "text/plain": [
       "<Figure size 576x360 with 1 Axes>"
      ]
     },
     "metadata": {
      "needs_background": "light"
     },
     "output_type": "display_data"
    }
   ],
   "source": [
    "fig = plt.figure(figsize=[8, 5])\n",
    "ax = fig.add_axes([0.1, 0.12, 0.8, 0.8])\n",
    "#ax2 = fig.add_axes([0.1, 1.05, 0.8, 0.8])\n",
    "\n",
    "prop = dict(marker=\"o\", ms=15, ecolor=\"0.7\", mew=1, mec=\"0.5\")\n",
    "\n",
    "#ax.scatter(dataz_all, datax_all, color=\"0.7\")\n",
    "\n",
    "cmap = 'inferno'\n",
    "\n",
    "if cons.value:\n",
    "    bins_used = bins_cons\n",
    "else:\n",
    "    bins_used = bins\n",
    "\n",
    "vmap_v = plt.cm.get_cmap(cmap)(np.linspace(0, 1, len(bins_used)))\n",
    "for i in range(len(bins)):\n",
    "    ax.vline(bins_used[i], color=\"0.7\", lw=1)\n",
    "\n",
    "slices = []\n",
    "x1_comp_mean = np.zeros(6)\n",
    "x1_comp_std = np.zeros(6)\n",
    "z_comp_mean = np.zeros(6)\n",
    "z_comp_std = np.zeros(6)\n",
    "\n",
    "for i in range(6):\n",
    "    slices.append(np.where((dataz_all > bins[i]) & (dataz_all <= bins_used[i+1])))\n",
    "    x1_comp_mean[i] = np.mean(datax_all[slices[i]])\n",
    "    x1_comp_std[i] = np.std(datax_all[slices[i]])\n",
    "    z_comp_mean[i] = np.mean(dataz_all[slices[i]])\n",
    "    z_comp_std[i] = np.std(dataz_all[slices[i]])\n",
    "    \n",
    "vmap_s = plt.cm.get_cmap(cmap)(np.linspace(0, 1, 6))\n",
    "for i, c in zip(range(6), vmap_s):\n",
    "   ax.errorbar(z_comp_mean[i], x1_comp_mean[i],\n",
    "               xerr = z_comp_std[i]/np.sqrt(len(dataz_all[slices[i]])),\n",
    "               yerr = x1_comp_std[i]/np.sqrt(len(dataz_all[slices[i]])),\n",
    "               color=vmap_s[i], **prop, zorder=10, lw=1)\n",
    "\n",
    "#ax.plot(zz, np.mean(x1_z, axis=1),\n",
    "#        color=\"0.5\", lw=2, zorder=2, label=\"Age mock all\")\n",
    "#ax.plot(zz_all, np.mean(x1_z_all, axis=1), color=\"0.7\", zorder=2, label=\"Age model all\")\n",
    "\n",
    "ax.plot(zlin, age_law_snf(zlin),\n",
    "        color=\"0.5\", lw=2, ls='-',\n",
    "        label='Model SNF', zorder=6)\n",
    "\n",
    "#ax.fill_between(zlin, age_law_snf(zlin) + models_std_snf,\n",
    "#                age_law_snf(zlin) - models_std_snf,\n",
    "#                color=\"C0\", alpha=.1, lw=2)\n",
    "\n",
    "ax.plot(zlin, age_law_all(zlin),\n",
    "        color=\"C0\", lw=2,\n",
    "        label='Model All', zorder=8)\n",
    "\n",
    "ax.fill_between(zlin, age_law_all(zlin) + models_std,\n",
    "                age_law_all(zlin) - models_std,\n",
    "                color=\"C0\", alpha=.1, lw=2)\n",
    "\n",
    "ax.set_xlabel(r\"$\\mathrm{redshift}$ \", fontsize=\"x-large\")\n",
    "ax.set_ylabel(r\"$\\mathrm{mean\\,\\,x}_1$ \", fontsize=\"x-large\")\n",
    "\n",
    "\n",
    "#ax.set_title('Model for non-conservative data')\n",
    "\n",
    "###############################################################\n",
    "\n",
    "#for i in range(len(bins_cons)):\n",
    "#    ax.vline(bins_cons[i], color = vmap_v[i], alpha=.3)\n",
    "\n",
    "slices_cons = []\n",
    "x1_comp_mean_cons = np.zeros(6)\n",
    "x1_comp_std_cons = np.zeros(6)\n",
    "z_comp_mean_cons = np.zeros(6)\n",
    "z_comp_std_cons = np.zeros(6)\n",
    "\n",
    "bins_text = bins_used\n",
    "bins_text[-1] = 1.4\n",
    "shift_slices = [[0.007, 0.0085],\n",
    "                [0.008, 0.0115],\n",
    "                [0.016, 0.017],\n",
    "                [0.015, 0.023],\n",
    "                [0.029, 0.040],\n",
    "                [0.180, 0.210]]\n",
    "\n",
    "for i in range(6):\n",
    "    slices_cons.append(np.where((dataz_cons_all > bins_used[i]) & (dataz_cons_all <= bins_used[i+1])))\n",
    "    x1_comp_mean_cons[i] = np.mean(datax_cons_all[slices_cons[i]])\n",
    "    x1_comp_std_cons[i] = np.std(datax_cons_all[slices_cons[i]])\n",
    "    z_comp_mean_cons[i] = np.mean(dataz_cons_all[slices_cons[i]])\n",
    "    z_comp_std_cons[i] = np.std(dataz_cons_all[slices_cons[i]])\n",
    "    \n",
    "    if len(dataz_all[slices[i]]) == len(dataz_cons_all[slices_cons[i]]):\n",
    "        ax.text((bins_text[i+1]+bins_text[i])/2-shift_slices[i][0], -0.465,\n",
    "                str(len(dataz_all[slices[i]])), alpha=.1)\n",
    "    else:\n",
    "        ax.text((bins_text[i+1]+bins_text[i])/2-shift_slices[i][0], -0.45,\n",
    "                str(len(dataz_all[slices[i]])), alpha=.1)\n",
    "        ax.text((bins_text[i+1]+bins_text[i])/2-shift_slices[i][1], -0.48,\n",
    "                '(' + str(len(dataz_cons_all[slices_cons[i]])) + ')', alpha=.1)\n",
    "\n",
    "for i, c in zip(range(6), vmap_s):\n",
    "   ax.errorbar(z_comp_mean_cons[i], x1_comp_mean_cons[i],\n",
    "                xerr = z_comp_std_cons[i]/np.sqrt(len(dataz_cons_all[slices_cons[i]])),\n",
    "                yerr = x1_comp_std_cons[i]/np.sqrt(len(dataz_cons_all[slices_cons[i]])),\n",
    "                color=vmap_s[i], **prop, alpha=.3, zorder=9, lw=1)\n",
    "\n",
    "#ax.plot(zz, np.mean(x1_z, axis=1),\n",
    "#        color=\"0.5\", lw=2, zorder=2, label=\"Age mock all\")\n",
    "#ax.plot(zz_all, np.mean(x1_z_all, axis=1), color=\"0.7\", zorder=2, label=\"Age model all\")\n",
    "\n",
    "#ax2.plot(zlin, age_law_snf(zlin),\n",
    "#         color=\"0.5\", lw=2, ls='--',\n",
    "#         label='Age model SNF')\n",
    "#\n",
    "ax.plot(zlin, age_law_all_cons(zlin),\n",
    "        color=\"C0\", lw=1.5, ls='--', alpha=.5,\n",
    "        label='Model All(cons)', zorder=7)\n",
    "\n",
    "ax.hline(np.mean(datax_all), color='C1', lw=1, ls='-', label='Mean stretch')\n",
    "\n",
    "ax.set_ylim(-0.52, 0.52)\n",
    "ax.set_xlim(0.01, 1.4)\n",
    "ax.set_xscale('log')\n",
    "\n",
    "#\n",
    "#ax.fill_between(zlin, age_law_all_cons(zlin) + models_std_cons,\n",
    "#                age_law_all_cons(zlin) - models_std_cons,\n",
    "#                color=\"C0\", alpha=.1, lw=2, zorder=3)\n",
    "#\n",
    "#ax2.hline(np.mean(datax_cons_all), color='.5', lw=1, ls='--')\n",
    "#\n",
    "#ax2.tick_params(direction = 'in',\n",
    "#                length = 5, width = 1,\n",
    "#                labelsize = 12,\n",
    "#                top = True, right = True)\n",
    "#\n",
    "##ax2.set_xlabel(r\"$\\mathrm{redshift}$ \", fontsize=\"x-large\")\n",
    "#ax2.set_ylabel(r\"$\\mathrm{mean\\,\\,x}_1$ \", fontsize=\"x-large\")\n",
    "#\n",
    "#ax2.legend(ncol=1, loc='lower right')\n",
    "#\n",
    "##ax.set_ylim(-3, 3)\n",
    "#ax2.set_ylim(-0.52, 0.52)\n",
    "#ax2.set_xlim(0.01, 1.4)\n",
    "#ax2.set_xscale('log')\n",
    "#\n",
    "#ax2.set_title('Model for conservative data')\n",
    "\n",
    "ax.legend(ncol=4, loc='upper left')\n",
    "\n",
    "fig=plt.gcf()\n",
    "fig.savefig('../../../Images/stretchevol_all_vs_snf_maglim-cuts.pdf', bbox_inches='tight')"
   ]
  },
  {
   "cell_type": "code",
   "execution_count": 33,
   "metadata": {},
   "outputs": [
    {
     "data": {
      "text/plain": [
       "-0.001531440657297817"
      ]
     },
     "execution_count": 33,
     "metadata": {},
     "output_type": "execute_result"
    }
   ],
   "source": [
    "np.mean(datax_all)"
   ]
  },
  {
   "cell_type": "code",
   "execution_count": null,
   "metadata": {},
   "outputs": [],
   "source": []
  }
 ],
 "metadata": {
  "kernelspec": {
   "display_name": "Python 3",
   "language": "python",
   "name": "python3"
  },
  "language_info": {
   "codemirror_mode": {
    "name": "ipython",
    "version": 3
   },
   "file_extension": ".py",
   "mimetype": "text/x-python",
   "name": "python",
   "nbconvert_exporter": "python",
   "pygments_lexer": "ipython3",
   "version": "3.7.4"
  }
 },
 "nbformat": 4,
 "nbformat_minor": 4
}
