{
 "cells": [
  {
   "cell_type": "markdown",
   "metadata": {},
   "source": [
    "## Modules à importer"
   ]
  },
  {
   "cell_type": "code",
   "execution_count": 4,
   "metadata": {},
   "outputs": [],
   "source": [
    "import math\n",
    "import scipy\n",
    "import pickle\n",
    "import numpy as np\n",
    "import pandas as pd\n",
    "import iminuit as im\n",
    "import ipywidgets as ipw\n",
    "from importlib import reload\n",
    "from scipy.stats import poisson\n",
    "from sklearn.cluster import KMeans\n",
    "from variaIa import baserate\n",
    "from variaIa import stretchevol\n",
    "from astropy.cosmology import Planck15 as cdata\n",
    "from IPython.display import display, Latex\n",
    "import matplotlib.pyplot as plt\n",
    "import random"
   ]
  },
  {
   "cell_type": "markdown",
   "metadata": {},
   "source": [
    "## Définitions pandas, surveys, $z[:z_{\\text{max}}]$, $x_1[:z_{\\text{max}}]$, mean, std et données totales"
   ]
  },
  {
   "cell_type": "code",
   "execution_count": 48,
   "metadata": {},
   "outputs": [],
   "source": [
    "d = pd.read_csv('../Data/data_cheat.csv', sep=' ', index_col = 'CID')\n",
    "d_snf = pd.read_csv('../Data/lssfr_paper_full_sntable.csv',sep=',')\n",
    "\n",
    "surveys = ['SNF', 'SDSS', 'PS1', 'SNLS', 'HST']\n",
    "\n",
    "surv = {'SNF':  d_snf,\n",
    "        'SDSS': d[d['IDSURVEY'] == 1],\n",
    "        'PS1':  d[d['IDSURVEY'] == 15],\n",
    "        'SNLS': d[d['IDSURVEY'] == 4],\n",
    "        'HST':  d[d['IDSURVEY'].isin([101, 100, 106])]}\n",
    "\n",
    "with open('../Data/zmax_mlim', 'rb') as f:\n",
    "    z_max = pickle.load(f)\n",
    "\n",
    "z_max['SNF'] = [10, 10]\n",
    "z_max['HST'] = [10, 10]\n",
    "\n",
    "colors = {'SNF': 'orange',\n",
    "          'SDSS': 'lime',\n",
    "          'PS1': 'blue',\n",
    "          'SNLS': 'red',\n",
    "          'HST': 'purple'}\n",
    "\n",
    "zmax_cuts = dict()\n",
    "z_zcuts = dict()\n",
    "x1_zcuts = dict()\n",
    "x1_err_zcuts = dict()\n",
    "\n",
    "for survey in surveys[1:]:\n",
    "    zmax_cuts[survey] = np.where(surv[survey].zCMB.values < z_max[survey][1])\n",
    "    z_zcuts[survey] = surv[survey].zCMB.values[zmax_cuts[survey]]\n",
    "    x1_zcuts[survey] = surv[survey].x1.values[zmax_cuts[survey]]\n",
    "    x1_err_zcuts[survey] = surv[survey].x1ERR.values[zmax_cuts[survey]]\n",
    "    \n",
    "zmax_cuts['SNF'] = np.where(surv['SNF']['host.zcmb'].values < z_max['SNF'][1])\n",
    "z_zcuts['SNF'] = surv['SNF']['host.zcmb'].values[zmax_cuts['SNF']]\n",
    "x1_zcuts['SNF'] = surv['SNF']['salt2.X1'].values[zmax_cuts['SNF']]\n",
    "x1_err_zcuts['SNF'] = surv['SNF']['salt2.X1.err'].values[zmax_cuts['SNF']]\n",
    "\n",
    "datax_all = np.concatenate(\n",
    "    (np.concatenate(\n",
    "        (np.concatenate(\n",
    "            (np.concatenate((x1_zcuts['SNF'],\n",
    "                             x1_zcuts['SDSS'])),\n",
    "             x1_zcuts['PS1'])),\n",
    "         x1_zcuts['SNLS'])),\n",
    "     x1_zcuts['HST']))\n",
    "                                                     \n",
    "datax_err_all = np.concatenate(\n",
    "    (np.concatenate(\n",
    "        (np.concatenate(\n",
    "            (np.concatenate((x1_err_zcuts['SNF'],\n",
    "                             x1_err_zcuts['SDSS'])),\n",
    "             x1_err_zcuts['PS1'])),\n",
    "         x1_err_zcuts['SNLS'])),\n",
    "     x1_err_zcuts['HST']))\n",
    "                                                     \n",
    "dataz_all = np.concatenate(\n",
    "    (np.concatenate(\n",
    "        (np.concatenate(\n",
    "            (np.concatenate((z_zcuts['SNF'],\n",
    "                             z_zcuts['SDSS'])),\n",
    "             z_zcuts['PS1'])),\n",
    "         z_zcuts['SNLS'])),\n",
    "     z_zcuts['HST']))"
   ]
  },
  {
   "cell_type": "markdown",
   "metadata": {},
   "source": [
    "## Number of data for each survey and total"
   ]
  },
  {
   "cell_type": "code",
   "execution_count": 4,
   "metadata": {},
   "outputs": [
    {
     "name": "stdout",
     "output_type": "stream",
     "text": [
      "N(SNF) =  141\n",
      "N(SDSS) =  175\n",
      "N(PS1) =  126\n",
      "N(SNLS) =  108\n",
      "N(HST) =  26\n",
      "N(total) =  576\n"
     ]
    }
   ],
   "source": [
    "for survey in surveys:\n",
    "    print(r'N(' + survey + ') = ', len(z_zcuts[survey]))\n",
    "\n",
    "print(r'N(total) = ', np.sum([len(z_zcuts[survey]) for survey in surveys]))"
   ]
  },
  {
   "cell_type": "markdown",
   "metadata": {},
   "source": [
    "## Utilisation de la classe _stretchevol_ pour le fit double total"
   ]
  },
  {
   "cell_type": "code",
   "execution_count": 49,
   "metadata": {},
   "outputs": [
    {
     "data": {
      "image/png": "[encoded data removed]",
      "text/plain": [
       "<Figure size 576x360 with 1 Axes>"
      ]
     },
     "metadata": {
      "needs_background": "light"
     },
     "output_type": "display_data"
    }
   ],
   "source": [
    "reload(stretchevol)\n",
    "\n",
    "evol3G2M2S = stretchevol.Evol3G2M2S()\n",
    "evol3G2M2S.set_data(dataz_all, datax_all, datax_err_all)\n",
    "\n",
    "evol3G2M2S.GUESSVAL[3] = -1\n",
    "\n",
    "evol3G2M2S.minimize()\n",
    "\n",
    "evol3G2M2S.plotter()\n",
    "\n",
    "#fig=plt.gcf()\n",
    "#fig.savefig('/home/nora/Pictures/BiGaussian.pdf')"
   ]
  },
  {
   "cell_type": "markdown",
   "metadata": {},
   "source": [
    "## Défnition _age-law_"
   ]
  },
  {
   "cell_type": "code",
   "execution_count": 50,
   "metadata": {},
   "outputs": [],
   "source": [
    "def delta(z):\n",
    "    return stretchevol.MockEvol().delta(z)\n",
    "\n",
    "with open('../Data/SNF_results', 'rb') as f:\n",
    "    res_SNF = pickle.load(f)\n",
    "\n",
    "def age_law_snf(z):\n",
    "    \"\"\"Analytical law with snf results\"\"\"\n",
    "    return (delta(z)*res_SNF['mu_1'] + (1-delta(z))*(res_SNF['a']*res_SNF['mu_1'] + \n",
    "                                                 (1-res_SNF['a'])*res_SNF['mu_2']))\n",
    "    #return delta(z)*0.3869 + (1-delta(z))*(0.4772*0.3869 + (1-0.4772)*-1.5210)\n",
    "\n",
    "def age_law_all(z):\n",
    "    \"\"\"Analytical law with 3G2M2S results\"\"\"\n",
    "    return (delta(z)*evol3G2M2S.param['mu_1']\n",
    "      + (1-delta(z))*(evol3G2M2S.param['a']*evol3G2M2S.param['mu_1']\n",
    "              + (1 - evol3G2M2S.param['a'])*evol3G2M2S.param['mu_2']))\n",
    "\n",
    "def age_law_gen(z, param_hesse):\n",
    "    \"\"\"Function to get laws with parameters taken wrt there hesse error\"\"\"\n",
    "    return (delta(z)*param_hesse[1]\n",
    "      + (1-delta(z))*(param_hesse[0]*param_hesse[1]\n",
    "              + (1 - param_hesse[0])*param_hesse[2]))"
   ]
  },
  {
   "cell_type": "markdown",
   "metadata": {},
   "source": [
    "## Définition de _cov_ pour sélection aléatoire des paramètres"
   ]
  },
  {
   "cell_type": "code",
   "execution_count": 51,
   "metadata": {},
   "outputs": [],
   "source": [
    "cov = im.Minuit.matrix(evol3G2M2S.m_tot)\n",
    "mean = [evol3G2M2S.m_tot.values[i] for i in range(5)]\n",
    "param_hesse_mat = scipy.stats.multivariate_normal.rvs(mean=mean, cov=cov, size=500)"
   ]
  },
  {
   "cell_type": "code",
   "execution_count": 23,
   "metadata": {},
   "outputs": [
    {
     "data": {
      "text/plain": [
       "<ValueView of Minuit at 55abaa977050>\n",
       "  a: 0.30560323851653853\n",
       "  mu_1: 0.4486822697545148\n",
       "  sigma_1: 0.556055252862088\n",
       "  mu_2: -1.1284479755006687\n",
       "  sigma_2: 0.6604506509087873"
      ]
     },
     "execution_count": 23,
     "metadata": {},
     "output_type": "execute_result"
    }
   ],
   "source": [
    "evol3G2M2S.m_tot.values"
   ]
  },
  {
   "cell_type": "code",
   "execution_count": 24,
   "metadata": {},
   "outputs": [
    {
     "data": {
      "text/html": [
       "<table>\n",
       "<tr>\n",
       "<td/>\n",
       "\n",
       "<th>\n",
       "a\n",
       "</th>\n",
       "<th>\n",
       "mu_1\n",
       "</th>\n",
       "<th>\n",
       "sigma_1\n",
       "</th>\n",
       "<th>\n",
       "mu_2\n",
       "</th>\n",
       "<th>\n",
       "sigma_2\n",
       "</th>\n",
       "</tr>\n",
       "<tr>\n",
       "<th>\n",
       "a\n",
       "</th>\n",
       "<td>\n",
       " 0.054\n",
       "</td>\n",
       "<td style=\"background-color:rgb(131,131,250)\">\n",
       "-0.022\n",
       "</td>\n",
       "<td style=\"background-color:rgb(250,123,123)\">\n",
       " 0.012\n",
       "</td>\n",
       "<td style=\"background-color:rgb(127,127,250)\">\n",
       "-0.063\n",
       "</td>\n",
       "<td style=\"background-color:rgb(136,136,250)\">\n",
       "-0.029\n",
       "</td>\n",
       "</tr>\n",
       "<tr>\n",
       "<th>\n",
       "mu_1\n",
       "</th>\n",
       "<td style=\"background-color:rgb(131,131,250)\">\n",
       "-0.022\n",
       "</td>\n",
       "<td>\n",
       " 0.011\n",
       "</td>\n",
       "<td style=\"background-color:rgb(140,140,250)\">\n",
       "-0.006\n",
       "</td>\n",
       "<td style=\"background-color:rgb(250,115,115)\">\n",
       " 0.027\n",
       "</td>\n",
       "<td style=\"background-color:rgb(250,129,129)\">\n",
       " 0.012\n",
       "</td>\n",
       "</tr>\n",
       "<tr>\n",
       "<th>\n",
       "sigma_1\n",
       "</th>\n",
       "<td style=\"background-color:rgb(250,123,123)\">\n",
       " 0.012\n",
       "</td>\n",
       "<td style=\"background-color:rgb(140,140,250)\">\n",
       "-0.006\n",
       "</td>\n",
       "<td>\n",
       " 0.004\n",
       "</td>\n",
       "<td style=\"background-color:rgb(145,145,250)\">\n",
       "-0.015\n",
       "</td>\n",
       "<td style=\"background-color:rgb(159,159,250)\">\n",
       "-0.006\n",
       "</td>\n",
       "</tr>\n",
       "<tr>\n",
       "<th>\n",
       "mu_2\n",
       "</th>\n",
       "<td style=\"background-color:rgb(127,127,250)\">\n",
       "-0.063\n",
       "</td>\n",
       "<td style=\"background-color:rgb(250,115,115)\">\n",
       " 0.027\n",
       "</td>\n",
       "<td style=\"background-color:rgb(145,145,250)\">\n",
       "-0.015\n",
       "</td>\n",
       "<td>\n",
       " 0.083\n",
       "</td>\n",
       "<td style=\"background-color:rgb(250,115,115)\">\n",
       " 0.036\n",
       "</td>\n",
       "</tr>\n",
       "<tr>\n",
       "<th>\n",
       "sigma_2\n",
       "</th>\n",
       "<td style=\"background-color:rgb(136,136,250)\">\n",
       "-0.029\n",
       "</td>\n",
       "<td style=\"background-color:rgb(250,129,129)\">\n",
       " 0.012\n",
       "</td>\n",
       "<td style=\"background-color:rgb(159,159,250)\">\n",
       "-0.006\n",
       "</td>\n",
       "<td style=\"background-color:rgb(250,115,115)\">\n",
       " 0.036\n",
       "</td>\n",
       "<td>\n",
       " 0.020\n",
       "</td>\n",
       "</tr>\n",
       "</table>\n"
      ],
      "text/plain": [
       "-----------------------------------------------------\n",
       "|         |       a    mu_1 sigma_1    mu_2 sigma_2 |\n",
       "-----------------------------------------------------\n",
       "|       a |   0.054  -0.022   0.012  -0.063  -0.029 |\n",
       "|    mu_1 |  -0.022   0.011  -0.006   0.027   0.012 |\n",
       "| sigma_1 |   0.012  -0.006   0.004  -0.015  -0.006 |\n",
       "|    mu_2 |  -0.063   0.027  -0.015   0.083   0.036 |\n",
       "| sigma_2 |  -0.029   0.012  -0.006   0.036   0.020 |\n",
       "-----------------------------------------------------"
      ]
     },
     "execution_count": 24,
     "metadata": {},
     "output_type": "execute_result"
    }
   ],
   "source": [
    "cov"
   ]
  },
  {
   "cell_type": "markdown",
   "metadata": {},
   "source": [
    "### Only take _a_, _µ1_ and _µ2_"
   ]
  },
  {
   "cell_type": "code",
   "execution_count": 52,
   "metadata": {},
   "outputs": [],
   "source": [
    "param_hesse_cut = param_hesse_mat[:,[0,1,3]]"
   ]
  },
  {
   "cell_type": "markdown",
   "metadata": {},
   "source": [
    "### List of all the models"
   ]
  },
  {
   "cell_type": "code",
   "execution_count": 53,
   "metadata": {},
   "outputs": [],
   "source": [
    "zlin = np.linspace(0, 2.65, 1000)\n",
    "models_hesse = [[age_law_gen(zi, param_hesse) for zi in zlin] for param_hesse in param_hesse_cut]\n",
    "models_hesse = np.asarray(models_hesse)"
   ]
  },
  {
   "cell_type": "markdown",
   "metadata": {},
   "source": [
    "### Take _std_"
   ]
  },
  {
   "cell_type": "code",
   "execution_count": 54,
   "metadata": {},
   "outputs": [],
   "source": [
    "models_std = np.std(models_hesse, axis=0)"
   ]
  },
  {
   "cell_type": "markdown",
   "metadata": {},
   "source": [
    "## Moyennage sur toutes les données pour plus de points"
   ]
  },
  {
   "cell_type": "markdown",
   "metadata": {},
   "source": [
    "### Définition des bins sur lesquels faire les moyennes"
   ]
  },
  {
   "cell_type": "code",
   "execution_count": 55,
   "metadata": {
    "jupyter": {
     "source_hidden": true
    }
   },
   "outputs": [],
   "source": [
    "def histedges_equalN(x, nbin):\n",
    "    npt = len(x)\n",
    "    return np.interp(np.linspace(0, npt, nbin + 1),\n",
    "                     np.arange(npt),\n",
    "                     np.sort(x))\n",
    "\n",
    "n, bins, patches = plt.hist(dataz_all, histedges_equalN(dataz_all, 6))\n",
    "plt.close()"
   ]
  },
  {
   "cell_type": "markdown",
   "metadata": {},
   "source": [
    "### Tracé des points"
   ]
  },
  {
   "cell_type": "code",
   "execution_count": 56,
   "metadata": {},
   "outputs": [
    {
     "data": {
      "image/png": "[encoded data removed]",
      "text/plain": [
       "<Figure size 576x360 with 1 Axes>"
      ]
     },
     "metadata": {
      "needs_background": "light"
     },
     "output_type": "display_data"
    }
   ],
   "source": [
    "fig = plt.figure(figsize=[8, 5])\n",
    "ax = fig.add_axes([0.1, 0.12, 0.8, 0.8])\n",
    "\n",
    "prop = dict(marker=\"o\", ms=15, ecolor=\"0.7\", lw=2, mew=1, mec=\"0.5\", zorder=5)\n",
    "\n",
    "#ax.scatter(dataz_all, datax_all, color=\"0.7\")\n",
    "\n",
    "cmap = 'inferno'\n",
    "\n",
    "vmap_v = plt.cm.get_cmap(cmap)(np.linspace(0, 1, len(bins)))\n",
    "for i in range(len(bins)):\n",
    "    ax.vline(bins[i], color = vmap_v[i])\n",
    "\n",
    "slices = []\n",
    "x1_comp_mean = np.zeros(6)\n",
    "x1_comp_std = np.zeros(6)\n",
    "z_comp_mean = np.zeros(6)\n",
    "z_comp_std = np.zeros(6)\n",
    "\n",
    "for i in range(6):\n",
    "    slices.append(np.where((dataz_all > bins[i]) & (dataz_all <= bins[i+1])))\n",
    "    x1_comp_mean[i] = np.mean(datax_all[slices[i]])\n",
    "    x1_comp_std[i] = np.std(datax_all[slices[i]])\n",
    "    z_comp_mean[i] = np.mean(dataz_all[slices[i]])\n",
    "    z_comp_std[i] = np.std(dataz_all[slices[i]])\n",
    "    \n",
    "vmap_s = plt.cm.get_cmap(cmap)(np.linspace(0, 1, 6))\n",
    "for i, c in zip(range(6), vmap_s):\n",
    "   ax.errorbar(z_comp_mean[i], x1_comp_mean[i],\n",
    "               xerr = z_comp_std[i]/np.sqrt(len(dataz_all[slices[i]])),\n",
    "               yerr = x1_comp_std[i]/np.sqrt(len(dataz_all[slices[i]])),\n",
    "               color=vmap_s[i], **prop)\n",
    "\n",
    "#ax.plot(zz, np.mean(x1_z, axis=1),\n",
    "#        color=\"0.5\", lw=2, zorder=2, label=\"Age mock all\")\n",
    "#ax.plot(zz_all, np.mean(x1_z_all, axis=1), color=\"0.7\", zorder=2, label=\"Age model all\")\n",
    "\n",
    "ax.plot(zlin, age_law_snf(zlin),\n",
    "        color=\"0.5\", lw=2, ls='--',\n",
    "        label='Age model SNF')\n",
    "\n",
    "ax.plot(zlin, age_law_all(zlin),\n",
    "        color=\"C0\", lw=2,\n",
    "        label='Age model all')\n",
    "\n",
    "ax.fill_between(zlin, age_law_all(zlin) + models_std,\n",
    "                age_law_all(zlin) - models_std,\n",
    "                color=\"C0\", alpha=.1, lw=2)\n",
    "\n",
    "ax.hline(np.mean(datax_all), color='.5', lw=1, ls='--')\n",
    "\n",
    "ax.tick_params(direction = 'in',\n",
    "               length = 5, width = 1,\n",
    "               labelsize = 12,\n",
    "               top = True, right = True)\n",
    "\n",
    "ax.set_xlabel(r\"$\\mathrm{redshift}$ \", fontsize=\"x-large\")\n",
    "ax.set_ylabel(r\"$\\mathrm{mean\\,\\,x}_1$ \", fontsize=\"x-large\")\n",
    "\n",
    "ax.legend(ncol=1, loc='lower right')\n",
    "\n",
    "#ax.set_ylim(-3, 3)\n",
    "ax.set_ylim(-0.52, 0.52)\n",
    "ax.set_xlim(0.01, 1.4)\n",
    "ax.set_xscale('log')\n",
    "\n",
    "fig=plt.gcf()\n",
    "fig.savefig('../../../Images/stretchevol_all_vs_snf_maglim_sup.pdf')"
   ]
  },
  {
   "cell_type": "code",
   "execution_count": 33,
   "metadata": {},
   "outputs": [
    {
     "data": {
      "text/plain": [
       "-0.001531440657297817"
      ]
     },
     "execution_count": 33,
     "metadata": {},
     "output_type": "execute_result"
    }
   ],
   "source": [
    "np.mean(datax_all)"
   ]
  },
  {
   "cell_type": "code",
   "execution_count": null,
   "metadata": {},
   "outputs": [],
   "source": []
  }
 ],
 "metadata": {
  "kernelspec": {
   "display_name": "Python 3",
   "language": "python",
   "name": "python3"
  },
  "language_info": {
   "codemirror_mode": {
    "name": "ipython",
    "version": 3
   },
   "file_extension": ".py",
   "mimetype": "text/x-python",
   "name": "python",
   "nbconvert_exporter": "python",
   "pygments_lexer": "ipython3",
   "version": "3.7.4"
  }
 },
 "nbformat": 4,
 "nbformat_minor": 4
}
