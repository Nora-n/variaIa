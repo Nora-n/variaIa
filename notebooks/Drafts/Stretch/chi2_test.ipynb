{
 "cells": [
  {
   "cell_type": "markdown",
   "metadata": {},
   "source": [
    "## Modules à importer"
   ]
  },
  {
   "cell_type": "code",
   "execution_count": 1,
   "metadata": {
    "jupyter": {
     "source_hidden": true
    }
   },
   "outputs": [],
   "source": [
    "import math\n",
    "import scipy\n",
    "import pickle\n",
    "import numpy as np\n",
    "import pandas as pd\n",
    "import iminuit as im\n",
    "import ipywidgets as ipw\n",
    "from importlib import reload\n",
    "from scipy.stats import poisson\n",
    "from variaIa import baserate\n",
    "from variaIa import stretchevol\n",
    "from astropy.cosmology import Planck15 as cdata\n",
    "from IPython.display import display, Latex\n",
    "import matplotlib.pyplot as plt\n",
    "import random"
   ]
  },
  {
   "cell_type": "markdown",
   "metadata": {},
   "source": [
    "## Définitions pandas, surveys, $z[:z_{\\text{max}}]$, $x_1[:z_{\\text{max}}]$, mean, std et données totales"
   ]
  },
  {
   "cell_type": "code",
   "execution_count": 2,
   "metadata": {},
   "outputs": [],
   "source": [
    "cons = ipw.Checkbox(\n",
    "    value=False,\n",
    "    description='Conservative')"
   ]
  },
  {
   "cell_type": "code",
   "execution_count": 3,
   "metadata": {
    "jupyter": {
     "source_hidden": true
    }
   },
   "outputs": [
    {
     "data": {
      "application/vnd.jupyter.widget-view+json": {
       "model_id": "3064f7d706c74cb39ff9c4a7d36dcde4",
       "version_major": 2,
       "version_minor": 0
      },
      "text/plain": [
       "interactive(children=(Checkbox(value=False, description='Conservative'), Output()), _dom_classes=('widget-inte…"
      ]
     },
     "metadata": {},
     "output_type": "display_data"
    }
   ],
   "source": [
    "d = pd.read_csv('../../Data/data_cheat.csv', sep=' ', index_col = 'CID')\n",
    "d_snf = pd.read_csv('../../Data/lssfr_paper_full_sntable.csv',sep=',')\n",
    "\n",
    "surveys = ['SNF', 'SDSS', 'PS1', 'SNLS', 'HST']\n",
    "\n",
    "surv = {'SNF':  d_snf.loc[d_snf['name'].str.contains('SNF|LSQ|PTF',na=False,regex=True)],\n",
    "        'SDSS': d[d['IDSURVEY'] == 1],\n",
    "        'PS1':  d[d['IDSURVEY'] == 15],\n",
    "        'SNLS': d[d['IDSURVEY'] == 4],\n",
    "        'HST':  d[d['IDSURVEY'].isin([101, 100, 106])]}\n",
    "\n",
    "dgmap = plt.cm.get_cmap('viridis')\n",
    "colors = {'SNF': dgmap(0),\n",
    "          'SDSS': dgmap(50),\n",
    "          'PS1': dgmap(125),\n",
    "          'SNLS': dgmap(200),\n",
    "          'HST': dgmap(300)}\n",
    "\n",
    "with open('../../Data/zmax_mlim', 'rb') as f:\n",
    "    z_max = pickle.load(f)\n",
    "z_max['HST'] = [10, 10]\n",
    "\n",
    "def set_cons(cons):\n",
    "    global df\n",
    "    \n",
    "    zmax_cuts = dict()\n",
    "    z_zcuts = dict()\n",
    "    x1_zcuts = dict()\n",
    "    x1_err_zcuts = dict()\n",
    "    \n",
    "    names = ['SNF' for i in range(len(surv['SNF']['host.zcmb']))]\n",
    "    stretchs = list(surv['SNF']['salt2.X1'])\n",
    "    stretchs_err = list(surv['SNF']['salt2.X1.err'])\n",
    "    redshifts = list(surv['SNF']['host.zcmb'])\n",
    "    infor = list(surv['SNF']['p(prompt)'])\n",
    "    py = list(surv['SNF']['p(prompt)'])\n",
    "    lssfr = list(surv['SNF']['lssfr'])\n",
    "    lssfr_err_d = list(surv['SNF']['lssfr.err_down'])\n",
    "    lssfr_err_u = list(surv['SNF']['lssfr.err_up'])\n",
    "    \n",
    "    if cons:\n",
    "        for survey in surveys[1:]:\n",
    "            zmax_cuts[survey] = np.where(surv[survey].zCMB.values < z_max[survey][0])\n",
    "            z_zcuts[survey] = surv[survey].zCMB.values[zmax_cuts[survey]]\n",
    "            x1_zcuts[survey] = surv[survey].x1.values[zmax_cuts[survey]]\n",
    "            x1_err_zcuts[survey] = surv[survey].x1ERR.values[zmax_cuts[survey]]\n",
    "    else:\n",
    "        for survey in surveys[1:]:\n",
    "            zmax_cuts[survey] = np.where(surv[survey].zCMB.values < z_max[survey][-1])\n",
    "            z_zcuts[survey] = surv[survey].zCMB.values[zmax_cuts[survey]]\n",
    "            x1_zcuts[survey] = surv[survey].x1.values[zmax_cuts[survey]]\n",
    "            x1_err_zcuts[survey] = surv[survey].x1ERR.values[zmax_cuts[survey]]\n",
    "    \n",
    "    for survey in surveys[1:]:\n",
    "        names += [survey for i in range(len(z_zcuts[survey]))]\n",
    "        stretchs += list(x1_zcuts[survey])\n",
    "        stretchs_err += list(x1_err_zcuts[survey])\n",
    "        redshifts += list(z_zcuts[survey])\n",
    "        infor += list(stretchevol.Evol2G2M2S().delta(z_zcuts[survey]))\n",
    "        py += list([0 for i in range(len(z_zcuts[survey]))])\n",
    "        lssfr += list([0 for i in range(len(z_zcuts[survey]))])\n",
    "        lssfr_err_d += list([0 for i in range(len(z_zcuts[survey]))])\n",
    "        lssfr_err_u += list([0 for i in range(len(z_zcuts[survey]))])\n",
    "        \n",
    "    df = pd.DataFrame({'survey': names,\n",
    "                       'stretchs': stretchs,\n",
    "                       'stretchs_err': stretchs_err,\n",
    "                       'redshifts': redshifts,\n",
    "                       'infor': infor,\n",
    "                       'py': py,\n",
    "                       'lssfr': lssfr,\n",
    "                       'lssfr_err_d': lssfr_err_d,\n",
    "                       'lssfr_err_u': lssfr_err_u})\n",
    "\n",
    "    z_mean = np.mean(df.redshifts)\n",
    "    z_std = np.std(df.redshifts)\n",
    "    x1_mean = np.mean(df.stretchs)\n",
    "    x1_std = np.std(df.stretchs)\n",
    "    \n",
    "    return(df)\n",
    "            \n",
    "int_set_cons = ipw.interactive(set_cons, cons=cons)\n",
    "display(int_set_cons)\n",
    "\n",
    "names = ['SNF' for i in range(len(surv['SNF']['host.zcmb'].values))]\n",
    "stretchs = list(surv['SNF']['salt2.X1'].values)\n",
    "stretchs_err = list(surv['SNF']['salt2.X1.err'].values)\n",
    "redshifts = list(surv['SNF']['host.zcmb'].values)\n",
    "infor = list(surv['SNF']['p(prompt)'])\n",
    "py = list(surv['SNF']['p(prompt)'])\n",
    "lssfr = list(surv['SNF']['lssfr'])\n",
    "lssfr_err_d = list(surv['SNF']['lssfr.err_down'])\n",
    "lssfr_err_u = list(surv['SNF']['lssfr.err_up'])\n",
    "\n",
    "for survey in surveys[1:]:\n",
    "    names += [survey for i in range(len(surv[survey].zCMB.values))]\n",
    "    stretchs += list(surv[survey].x1.values)\n",
    "    stretchs_err += list(surv[survey].x1ERR.values)\n",
    "    redshifts += list(surv[survey].zCMB.values)\n",
    "    infor += list(stretchevol.Evol2G2M2S().delta(surv[survey].zCMB.values))\n",
    "    py += list([0 for i in range(len(surv[survey].zCMB.values))])\n",
    "    lssfr += list([0 for i in range(len(surv[survey].zCMB.values))])\n",
    "    lssfr_err_d += list([0 for i in range(len(surv[survey].zCMB.values))])\n",
    "    lssfr_err_u += list([0 for i in range(len(surv[survey].zCMB.values))])\n",
    "\n",
    "df_full = pd.DataFrame({'survey': names,\n",
    "                        'stretchs': stretchs,\n",
    "                        'stretchs_err': stretchs_err,\n",
    "                        'redshifts': redshifts,\n",
    "                        'infor': infor,\n",
    "                        'py': py,\n",
    "                        'lssfr': lssfr,\n",
    "                        'lssfr_err_d': lssfr_err_d,\n",
    "                        'lssfr_err_u': lssfr_err_u})"
   ]
  },
  {
   "cell_type": "markdown",
   "metadata": {},
   "source": [
    "## Minimisation des modèles"
   ]
  },
  {
   "cell_type": "code",
   "execution_count": 4,
   "metadata": {
    "jupyter": {
     "source_hidden": true
    }
   },
   "outputs": [
    {
     "name": "stdout",
     "output_type": "stream",
     "text": [
      "1G1M1S\n",
      "1G1M2S\n",
      "2G2M2S\n",
      "2G2M2SF\n",
      "2G2M2Sz\n",
      "2G2M2SFz\n",
      "3G2M2S\n",
      "3G2M2Sz\n",
      "3G2M2SF\n",
      "3G2M2SFz\n",
      "3G3M3S\n",
      "3G3M3Sz\n"
     ]
    }
   ],
   "source": [
    "########################################### Evol Simple\n",
    "\n",
    "evol1G1M1S = stretchevol.Evol1G1M1S()\n",
    "evol1G1M1S.set_data(df)\n",
    "\n",
    "print('1G1M1S')\n",
    "\n",
    "evol1G1M1S.minimize()\n",
    "#evol1G1M1S.show_model_tot()\n",
    "\n",
    "########################################### Evol Kessler\n",
    "\n",
    "evol1G1M2S = stretchevol.Evol1G1M2S()\n",
    "evol1G1M2S.set_data(df)\n",
    "\n",
    "print('1G1M2S')\n",
    "\n",
    "evol1G1M2S.minimize()\n",
    "#evol1G1M2S.show_model_tot()\n",
    "\n",
    "########################################### Evol Howell\n",
    "\n",
    "evol2G2M2S = stretchevol.Evol2G2M2S()\n",
    "evol2G2M2S.set_data(df)\n",
    "\n",
    "print('2G2M2S')\n",
    "\n",
    "evol2G2M2S.minimize()\n",
    "#evol2G2M2S.scatter()\n",
    "\n",
    "########################################### Evol Howell Fixed\n",
    "\n",
    "evol2G2M2SF = stretchevol.Evol2G2M2SF()\n",
    "evol2G2M2SF.set_data(df)\n",
    "\n",
    "print('2G2M2SF')\n",
    "\n",
    "evol2G2M2SF.minimize()\n",
    "#evol2G2M2SF.scatter()\n",
    "\n",
    "########################################### Evol Howell Z\n",
    "\n",
    "evol2G2M2Sz = stretchevol.Evol2G2M2S()\n",
    "evol2G2M2Sz.set_data(df, py=False)\n",
    "\n",
    "print('2G2M2Sz')\n",
    "\n",
    "evol2G2M2Sz.minimize()\n",
    "#evol2G2M2S.scatter()\n",
    "\n",
    "########################################### Evol Howell Fixed Z\n",
    "\n",
    "evol2G2M2SFz = stretchevol.Evol2G2M2SF()\n",
    "evol2G2M2SFz.set_data(df, py=False)\n",
    "\n",
    "print('2G2M2SFz')\n",
    "\n",
    "evol2G2M2SFz.minimize()\n",
    "#evol2G2M2SF.scatter()\n",
    "\n",
    "########################################### Evol NR 2S\n",
    "\n",
    "evol3G2M2S = stretchevol.Evol3G2M2S()\n",
    "evol3G2M2S.set_data(df)\n",
    "\n",
    "print('3G2M2S')\n",
    "\n",
    "evol3G2M2S.minimize()\n",
    "#evol3G2M2S.scatter()\n",
    "\n",
    "########################################### Evol NR 2S z\n",
    "\n",
    "evol3G2M2Sz = stretchevol.Evol3G2M2S()\n",
    "evol3G2M2Sz.set_data(df, py=False)\n",
    "\n",
    "print('3G2M2Sz')\n",
    "\n",
    "evol3G2M2Sz.minimize()\n",
    "#evol3G2M2S.scatter()\n",
    "\n",
    "########################################### Evol NR 2S Fixed\n",
    "\n",
    "evol3G2M2SF = stretchevol.Evol3G2M2SF()\n",
    "evol3G2M2SF.set_data(df)\n",
    "\n",
    "print('3G2M2SF')\n",
    "\n",
    "evol3G2M2SF.minimize(limit_f = (0,1))\n",
    "#evol3G2M2SF.scatter()\n",
    "\n",
    "########################################### Evol NR 2S Fixed Z\n",
    "\n",
    "evol3G2M2SFz = stretchevol.Evol3G2M2SF()\n",
    "evol3G2M2SFz.set_data(df, py=False)\n",
    "\n",
    "print('3G2M2SFz')\n",
    "\n",
    "evol3G2M2SFz.minimize(limit_f = (0,1))\n",
    "#evol3G2M2SF.scatter()\n",
    "\n",
    "########################################### Evol NR 3S\n",
    "\n",
    "evol3G3M3S = stretchevol.Evol3G3M3S()\n",
    "evol3G3M3S.set_data(df)\n",
    "\n",
    "print('3G3M3S')\n",
    "\n",
    "evol3G3M3S.minimize()\n",
    "\n",
    "########################################### Evol NR 3S Z\n",
    "\n",
    "evol3G3M3Sz = stretchevol.Evol3G3M3S()\n",
    "evol3G3M3Sz.set_data(df, py=False)\n",
    "\n",
    "print('3G3M3Sz')\n",
    "\n",
    "evol3G3M3Sz.minimize()"
   ]
  },
  {
   "cell_type": "markdown",
   "metadata": {},
   "source": [
    "# $\\chi^2$ test for Base model"
   ]
  },
  {
   "cell_type": "code",
   "execution_count": 5,
   "metadata": {},
   "outputs": [],
   "source": [
    "modèles = [evol3G2M2S, evol2G2M2S,\n",
    "           evol1G1M2S, evol2G2M2SF, evol3G2M2SF,\n",
    "           evol1G1M1S]"
   ]
  },
  {
   "cell_type": "code",
   "execution_count": 6,
   "metadata": {},
   "outputs": [],
   "source": [
    "ind = 0\n",
    "k = modèles[ind]"
   ]
  },
  {
   "cell_type": "code",
   "execution_count": 7,
   "metadata": {},
   "outputs": [],
   "source": [
    "lnL = -2*np.log(k.likelihood_tot(k.info,\n",
    "                                 k.stretchs,\n",
    "                                 k.stretchs_err,\n",
    "                                 k.param['aa'],\n",
    "                                 k.param['mu_1'],\n",
    "                                 k.param['sigma_1'],\n",
    "                                 k.param['mu_2'],\n",
    "                                 k.param['sigma_2']))"
   ]
  },
  {
   "cell_type": "markdown",
   "metadata": {},
   "source": [
    "We can actually check that the sum of the $-2\\ln(L)$ list derived this way corresponds to the one in the paper, of simply k.get_logl()"
   ]
  },
  {
   "cell_type": "code",
   "execution_count": 11,
   "metadata": {},
   "outputs": [
    {
     "name": "stdout",
     "output_type": "stream",
     "text": [
      "-2ln(L) = 1456.6915735765058\n"
     ]
    }
   ],
   "source": [
    "print('-2ln(L) =', np.sum(lnL))"
   ]
  },
  {
   "cell_type": "code",
   "execution_count": 8,
   "metadata": {},
   "outputs": [],
   "source": [
    "sigma2 = k.stretchs_err**2 + np.mean([k.param['sigma_1']**2, k.param['sigma_2']**2])"
   ]
  },
  {
   "cell_type": "markdown",
   "metadata": {},
   "source": [
    "Now for the actual list of individual contributions"
   ]
  },
  {
   "cell_type": "code",
   "execution_count": 9,
   "metadata": {},
   "outputs": [],
   "source": [
    "chi2 = lnL - np.log(2*np.pi*sigma2)"
   ]
  },
  {
   "cell_type": "markdown",
   "metadata": {},
   "source": [
    "The sum of these should be the same as the global $\\chi^2$"
   ]
  },
  {
   "cell_type": "code",
   "execution_count": 13,
   "metadata": {},
   "outputs": [
    {
     "name": "stdout",
     "output_type": "stream",
     "text": [
      "chi² from sum of individual chi² = 907.0923490836117\n"
     ]
    }
   ],
   "source": [
    "print('chi² from sum of individual chi² =', np.sum(chi2))"
   ]
  },
  {
   "cell_type": "code",
   "execution_count": 15,
   "metadata": {},
   "outputs": [
    {
     "name": "stdout",
     "output_type": "stream",
     "text": [
      "chi² from the global chi² = 907.0923490836117\n"
     ]
    }
   ],
   "source": [
    "print('chi² from the global chi² =', k.get_logl()-np.sum(np.log(2*np.pi*sigma2)))"
   ]
  },
  {
   "cell_type": "markdown",
   "metadata": {},
   "source": [
    "## Now plot it"
   ]
  },
  {
   "cell_type": "code",
   "execution_count": 12,
   "metadata": {},
   "outputs": [
    {
     "data": {
      "image/png": "[encoded data removed]",
      "text/plain": [
       "<Figure size 432x288 with 1 Axes>"
      ]
     },
     "metadata": {
      "needs_background": "light"
     },
     "output_type": "display_data"
    }
   ],
   "source": [
    "fig = plt.figure(figsize=[6,4])\n",
    "ax = fig.add_axes([0.15,0.3,0.7,0.6])\n",
    "\n",
    "ax.hist(chi2, bins=15,\n",
    "        color='C0', alpha=.5,\n",
    "        label='Base model (fiducial cut)')\n",
    "\n",
    "ax.set_xlim([0, 10])\n",
    "ax.set_xlabel(r'$\\chi_i{}^2 = -2\\ln(P_i) - \\ln(2\\pi(\\mathrm{d}x_i{}^2 + \\sigma^2))$')\n",
    "\n",
    "ax.legend()\n",
    "\n",
    "fig.savefig('../../Images/pdf/base_chi2-hist.pdf', bbox_inches='tight')\n",
    "fig.savefig('../../Images/png/base_chi2-hist.png', bbox_inches='tight')"
   ]
  },
  {
   "cell_type": "code",
   "execution_count": 13,
   "metadata": {},
   "outputs": [
    {
     "data": {
      "image/png": "[encoded data removed]",
      "text/plain": [
       "<Figure size 432x288 with 1 Axes>"
      ]
     },
     "metadata": {
      "needs_background": "light"
     },
     "output_type": "display_data"
    }
   ],
   "source": [
    "fig = plt.figure(figsize=[6,4])\n",
    "ax = fig.add_axes([0.15,0.3,0.7,0.6])\n",
    "\n",
    "ax.scatter(k.stretchs, chi2,\n",
    "           color='C0', marker='.',\n",
    "           label='Base model (fiducial cut)')\n",
    "\n",
    "ax.set_xlabel('stretch')\n",
    "ax.set_ylabel(r'$\\chi_i^2$')\n",
    "\n",
    "ax.legend()\n",
    "\n",
    "fig.savefig('../../Images/pdf/base_chi2-x1_scatter.pdf', bbox_inches='tight')\n",
    "fig.savefig('../../Images/png/base_chi2-x1_scatter.png', bbox_inches='tight')"
   ]
  },
  {
   "cell_type": "markdown",
   "metadata": {},
   "source": [
    "# For per-sample"
   ]
  },
  {
   "cell_type": "markdown",
   "metadata": {},
   "source": [
    "## Modèles assymSURVEY"
   ]
  },
  {
   "cell_type": "code",
   "execution_count": 5,
   "metadata": {
    "jupyter": {
     "source_hidden": true
    }
   },
   "outputs": [],
   "source": [
    "gen = stretchevol.generic()\n",
    "gen.set_model('Evol1G1M2S')\n",
    "\n",
    "gen.set_data(df[df['survey'] == 'SNF'])\n",
    "assymSNF = gen.fit()\n",
    "\n",
    "gen.set_data(df[df['survey'] == 'PS1'])\n",
    "assymPS1 = gen.fit()\n",
    "\n",
    "gen.set_data(df[df['survey'] == 'SDSS'])\n",
    "assymSDSS = gen.fit()\n",
    "\n",
    "gen.set_data(df[df['survey'] == 'SNLS'])\n",
    "assymSNLS = gen.fit()\n",
    "\n",
    "gen.set_data(df[df['survey'] == 'HST'])\n",
    "assymHST = gen.fit()\n",
    "\n",
    "gen.set_data(df)\n",
    "assymTOT = gen.fit()\n",
    "\n",
    "gen.set_data(df[df['survey'].isin(['SDSS','PS1','SNLS','HST'])])\n",
    "assymTOT_nsnf = gen.fit()"
   ]
  },
  {
   "cell_type": "markdown",
   "metadata": {},
   "source": [
    "## Modèle BaseTOT"
   ]
  },
  {
   "cell_type": "code",
   "execution_count": 6,
   "metadata": {
    "jupyter": {
     "source_hidden": true
    }
   },
   "outputs": [],
   "source": [
    "gen.set_model('Evol3G2M2S')\n",
    "\n",
    "gen.set_data(assymTOT.pd)\n",
    "baseTOT = gen.fit()"
   ]
  },
  {
   "cell_type": "markdown",
   "metadata": {},
   "source": [
    "## Table of Per Sample's $-2\\ln(L)$"
   ]
  },
  {
   "cell_type": "markdown",
   "metadata": {},
   "source": [
    "#### These are the results used in the paper"
   ]
  },
  {
   "cell_type": "code",
   "execution_count": 7,
   "metadata": {},
   "outputs": [
    {
     "data": {
      "text/html": [
       "<div>\n",
       "<style scoped>\n",
       "    .dataframe tbody tr th:only-of-type {\n",
       "        vertical-align: middle;\n",
       "    }\n",
       "\n",
       "    .dataframe tbody tr th {\n",
       "        vertical-align: top;\n",
       "    }\n",
       "\n",
       "    .dataframe thead th {\n",
       "        text-align: right;\n",
       "    }\n",
       "</style>\n",
       "<table border=\"1\" class=\"dataframe\">\n",
       "  <thead>\n",
       "    <tr style=\"text-align: right;\">\n",
       "      <th></th>\n",
       "      <th>Assym</th>\n",
       "      <th>Free param</th>\n",
       "      <th>$\\sigma^-$</th>\n",
       "      <th>$\\sigma^-_{\\mathrm{err}}$</th>\n",
       "      <th>$\\sigma^+$</th>\n",
       "      <th>$\\sigma^+_{\\mathrm{err}}$</th>\n",
       "      <th>$\\mu^0$</th>\n",
       "      <th>$\\mu^0_{\\mathrm{err}}$</th>\n",
       "      <th>$-2\\ln(L)$</th>\n",
       "      <th>AIC</th>\n",
       "    </tr>\n",
       "  </thead>\n",
       "  <tbody>\n",
       "    <tr>\n",
       "      <td>0</td>\n",
       "      <td>SNf</td>\n",
       "      <td>3</td>\n",
       "      <td>1.34</td>\n",
       "      <td>0.13</td>\n",
       "      <td>-0.41</td>\n",
       "      <td>0.1</td>\n",
       "      <td>0.68</td>\n",
       "      <td>0.15</td>\n",
       "      <td>2.6</td>\n",
       "      <td>305.3</td>\n",
       "    </tr>\n",
       "    <tr>\n",
       "      <td>1</td>\n",
       "      <td>SDSS</td>\n",
       "      <td>3</td>\n",
       "      <td>1.31</td>\n",
       "      <td>0.11</td>\n",
       "      <td>0.42</td>\n",
       "      <td>0.09</td>\n",
       "      <td>0.72</td>\n",
       "      <td>0.13</td>\n",
       "      <td>2.7</td>\n",
       "      <td>451.0</td>\n",
       "    </tr>\n",
       "    <tr>\n",
       "      <td>2</td>\n",
       "      <td>PS1</td>\n",
       "      <td>3</td>\n",
       "      <td>1.01</td>\n",
       "      <td>0.11</td>\n",
       "      <td>-0.52</td>\n",
       "      <td>0.12</td>\n",
       "      <td>0.38</td>\n",
       "      <td>0.16</td>\n",
       "      <td>2.5</td>\n",
       "      <td>403.4</td>\n",
       "    </tr>\n",
       "    <tr>\n",
       "      <td>3</td>\n",
       "      <td>SNLS</td>\n",
       "      <td>3</td>\n",
       "      <td>1.41</td>\n",
       "      <td>0.13</td>\n",
       "      <td>0.15</td>\n",
       "      <td>0.13</td>\n",
       "      <td>1.22</td>\n",
       "      <td>0.15</td>\n",
       "      <td>2.5</td>\n",
       "      <td>258.7</td>\n",
       "    </tr>\n",
       "    <tr>\n",
       "      <td>4</td>\n",
       "      <td>HST</td>\n",
       "      <td>3</td>\n",
       "      <td>0.76</td>\n",
       "      <td>0.36</td>\n",
       "      <td>0.79</td>\n",
       "      <td>0.35</td>\n",
       "      <td>0.11</td>\n",
       "      <td>0.44</td>\n",
       "      <td>2.8</td>\n",
       "      <td>79.7</td>\n",
       "    </tr>\n",
       "    <tr>\n",
       "      <td>5</td>\n",
       "      <td>Total</td>\n",
       "      <td>15</td>\n",
       "      <td>--</td>\n",
       "      <td>--</td>\n",
       "      <td>--</td>\n",
       "      <td>--</td>\n",
       "      <td>--</td>\n",
       "      <td>--</td>\n",
       "      <td>1468.2</td>\n",
       "      <td>1498.2</td>\n",
       "    </tr>\n",
       "  </tbody>\n",
       "</table>\n",
       "</div>"
      ],
      "text/plain": [
       "   Assym  Free param $\\sigma^-$ $\\sigma^-_{\\mathrm{err}}$ $\\sigma^+$  \\\n",
       "0    SNf           3       1.34                      0.13      -0.41   \n",
       "1   SDSS           3       1.31                      0.11       0.42   \n",
       "2    PS1           3       1.01                      0.11      -0.52   \n",
       "3   SNLS           3       1.41                      0.13       0.15   \n",
       "4    HST           3       0.76                      0.36       0.79   \n",
       "5  Total          15         --                        --         --   \n",
       "\n",
       "  $\\sigma^+_{\\mathrm{err}}$ $\\mu^0$ $\\mu^0_{\\mathrm{err}}$  $-2\\ln(L)$     AIC  \n",
       "0                       0.1    0.68                   0.15         2.6   305.3  \n",
       "1                      0.09    0.72                   0.13         2.7   451.0  \n",
       "2                      0.12    0.38                   0.16         2.5   403.4  \n",
       "3                      0.13    1.22                   0.15         2.5   258.7  \n",
       "4                      0.35    0.11                   0.44         2.8    79.7  \n",
       "5                        --      --                     --      1468.2  1498.2  "
      ]
     },
     "execution_count": 7,
     "metadata": {},
     "output_type": "execute_result"
    }
   ],
   "source": [
    "modèles = [assymSNF, assymSDSS, assymPS1, assymSNLS, assymHST]\n",
    "\n",
    "assym_comp = pd.DataFrame({'Assym': ['SNf', 'SDSS', 'PS1', 'SNLS', 'HST', 'Total'],\n",
    "                           'Free param': [len(k.FREEPARAMETERS) for k in modèles] + [np.sum([len(k.FREEPARAMETERS) for k in modèles])],\n",
    "                           '$\\sigma^-$': [round(k.migrad_out[1][1][2],2) for k in modèles] + ['--'],\n",
    "                           '$\\sigma^-_{\\mathrm{err}}$': [round(k.migrad_out[1][1][3],2) for k in modèles] + ['--'],\n",
    "                           '$\\sigma^+$': [round(k.migrad_out[1][2][2],2) for k in modèles] + ['--'],\n",
    "                           '$\\sigma^+_{\\mathrm{err}}$': [round(k.migrad_out[1][2][3],2) for k in modèles] + ['--'],\n",
    "                           '$\\mu^0$': [round(k.migrad_out[1][0][2],2) for k in modèles] + ['--'],\n",
    "                           '$\\mu^0_{\\mathrm{err}}$': [round(k.migrad_out[1][0][3],2) for k in modèles] + ['--'],\n",
    "                           '$-2\\ln(L)$': [round(k.get_logl()/len(k.stretchs),1) for k in modèles] + [round(np.sum([k.get_logl() for k in modèles]),1)],\n",
    "                           'AIC': [round(k.get_aic(),1) for k in modèles] + [round(np.sum([k.get_aic() for k in modèles]),1)]})\n",
    "\n",
    "assym_comp"
   ]
  },
  {
   "cell_type": "code",
   "execution_count": 21,
   "metadata": {},
   "outputs": [
    {
     "name": "stdout",
     "output_type": "stream",
     "text": [
      "Delta AIC w/ BBC-modeling = -31.5\n"
     ]
    }
   ],
   "source": [
    "print('Delta AIC w/ BBC-modeling =',\n",
    "      round(baseTOT.get_aic()-np.sum([k.get_aic() for k in modèles]),1))"
   ]
  },
  {
   "cell_type": "code",
   "execution_count": 22,
   "metadata": {},
   "outputs": [
    {
     "name": "stdout",
     "output_type": "stream",
     "text": [
      "Proba w/ BBC-modeling = 1.4685212637847966e-07\n"
     ]
    }
   ],
   "source": [
    "print('Proba w/ BBC-modeling =',\n",
    "      np.exp((baseTOT.get_aic() - np.sum([k.get_aic() for k in modèles]))/2))"
   ]
  },
  {
   "cell_type": "markdown",
   "metadata": {},
   "source": [
    "## $\\chi^2$ individual contribution determination with sigma contribution"
   ]
  },
  {
   "cell_type": "markdown",
   "metadata": {},
   "source": [
    "We need to determine the total $\\chi^2$ of the 5 samples, each having its own stretchs, errors and bestfit parameters, hence the \"for\" loop.\n",
    "\n",
    "In order to add the correct $\\sigma_\\pm$ to the corresponding $x_{1, \\text{err}}$ if the original $x_1$ was below or above the mean in the sigma2 term, I used a mask keeping only the indexes of where the stretch was below the mean. That way, I concatenate the list of errors corresponding to stretchs below $\\mu$, and the one corresponding to stretchs above $\\mu$.\n",
    "\n",
    "But to determine the total $\\chi^2$, we need to substract this list to the $-2\\ln(L)$ one, so their indexes have to correspond to the same SN. That means that we also need to concatenate the list of $-2\\ln(L)$ for which the stretchs are below and above, respectively.\n",
    "\n",
    "Because we ultimately want to plot the scatter of $\\chi^2$ vs. $x_1$, the stretch *also* needs to be in the same order, explaining the last line of the \"for\" loop."
   ]
  },
  {
   "cell_type": "code",
   "execution_count": 23,
   "metadata": {},
   "outputs": [],
   "source": [
    "lnL = []\n",
    "sigma2 = []\n",
    "stretches = []\n",
    "for t in modèles:\n",
    "    mask = t.stretchs < t.param['mu']\n",
    "    sigma2 += list((t.stretchs_err**2 + t.param['sigma_m']**2)[mask])\\\n",
    "            + list((t.stretchs_err**2 + t.param['sigma_p']**2)[~mask])\n",
    "    lnL += list(-2*np.log(t.likelihood_tot(t.stretchs[mask],\n",
    "                                           t.stretchs_err[mask],\n",
    "                                           t.param['mu'],\n",
    "                                           t.param['sigma_m'],\n",
    "                                           t.param['sigma_p'])).values)\\\n",
    "         + list(-2*np.log(t.likelihood_tot(t.stretchs[~mask],\n",
    "                                           t.stretchs_err[~mask],\n",
    "                                           t.param['mu'],\n",
    "                                           t.param['sigma_m'],\n",
    "                                           t.param['sigma_p'])).values)\n",
    "    stretches += list((t.stretchs)[mask]) + list((t.stretchs)[~mask])\n",
    "lnL = np.asarray(lnL)\n",
    "sigma2 = np.asarray(sigma2)\n",
    "lg2pisigma2 = np.log(2*np.pi*sigma2)\n",
    "stretches = np.asarray(stretches)"
   ]
  },
  {
   "cell_type": "markdown",
   "metadata": {},
   "source": [
    "We can actually check that the sum of the $-2\\ln(L)$ list derived this way corresponds to the one we determined earlier"
   ]
  },
  {
   "cell_type": "code",
   "execution_count": 32,
   "metadata": {},
   "outputs": [
    {
     "name": "stdout",
     "output_type": "stream",
     "text": [
      "-2ln(L) =  1468.1592529754487\n"
     ]
    }
   ],
   "source": [
    "print('-2ln(L) =', np.sum(lnL))"
   ]
  },
  {
   "cell_type": "markdown",
   "metadata": {},
   "source": [
    "Now for the actual list of individual contributions"
   ]
  },
  {
   "cell_type": "code",
   "execution_count": 21,
   "metadata": {},
   "outputs": [],
   "source": [
    "chi2 = lnL-lg2pisigma2"
   ]
  },
  {
   "cell_type": "markdown",
   "metadata": {},
   "source": [
    "The sum of these should be the same as the unordered $\\chi^2$"
   ]
  },
  {
   "cell_type": "code",
   "execution_count": 33,
   "metadata": {},
   "outputs": [
    {
     "name": "stdout",
     "output_type": "stream",
     "text": [
      "chi² from sum of ordered, individual chi² = 457.55415133087877\n"
     ]
    }
   ],
   "source": [
    "print('chi² from sum of ordered, individual chi² =', np.sum(chi2))"
   ]
  },
  {
   "cell_type": "code",
   "execution_count": 35,
   "metadata": {},
   "outputs": [
    {
     "name": "stdout",
     "output_type": "stream",
     "text": [
      "chi² from the sample-sum, unordered chi² = 457.55415133087877\n"
     ]
    }
   ],
   "source": [
    "print('chi² from the sample-sum, unordered chi² =',\n",
    "      np.sum([t.get_logl() for t in modèles]) - np.sum(lg2pisigma2))"
   ]
  },
  {
   "cell_type": "markdown",
   "metadata": {},
   "source": [
    "## Now plot it"
   ]
  },
  {
   "cell_type": "code",
   "execution_count": 23,
   "metadata": {},
   "outputs": [
    {
     "data": {
      "image/png": "[encoded data removed]",
      "text/plain": [
       "<Figure size 432x288 with 1 Axes>"
      ]
     },
     "metadata": {
      "needs_background": "light"
     },
     "output_type": "display_data"
    }
   ],
   "source": [
    "fig = plt.figure(figsize=[6,4])\n",
    "ax = fig.add_axes([0.15,0.3,0.7,0.6])\n",
    "\n",
    "ax.hist(chi2, bins=15,\n",
    "        color='C0', alpha=.5,\n",
    "        label='Per sample model (fiducial cut)')\n",
    "\n",
    "ax.set_xlim([-3, 10])\n",
    "ax.set_xlabel(r'$\\chi_i{}^2 = -2\\ln(P_i) - \\ln(2\\pi(\\mathrm{d}x_i{}^2 + \\sigma^2))$')\n",
    "\n",
    "ax.legend()\n",
    "\n",
    "fig.savefig('../../Images/pdf/per-samp_chi2-hist.pdf', bbox_inches='tight')\n",
    "fig.savefig('../../Images/png/per-samp_chi2-hist.png', bbox_inches='tight')"
   ]
  },
  {
   "cell_type": "code",
   "execution_count": 25,
   "metadata": {},
   "outputs": [
    {
     "data": {
      "image/png": "[encoded data removed]",
      "text/plain": [
       "<Figure size 432x288 with 1 Axes>"
      ]
     },
     "metadata": {
      "needs_background": "light"
     },
     "output_type": "display_data"
    }
   ],
   "source": [
    "fig = plt.figure(figsize=[6,4])\n",
    "ax = fig.add_axes([0.15,0.3,0.7,0.6])\n",
    "\n",
    "ax.scatter(stretches, chi2,\n",
    "           color='C0', marker='.',\n",
    "           label='Per sample model (fiducial cut)')\n",
    "\n",
    "ax.set_xlabel('stretch')\n",
    "ax.set_ylabel(r'$\\chi_i^2$')\n",
    "\n",
    "ax.legend()\n",
    "\n",
    "fig.savefig('../../Images/pdf/per-samp_chi2-x1_scatter.pdf', bbox_inches='tight')\n",
    "fig.savefig('../../Images/png/per-samp_chi2-x1_scatter.png', bbox_inches='tight')"
   ]
  },
  {
   "cell_type": "code",
   "execution_count": null,
   "metadata": {},
   "outputs": [],
   "source": []
  }
 ],
 "metadata": {
  "kernelspec": {
   "display_name": "Python 3",
   "language": "python",
   "name": "python3"
  },
  "language_info": {
   "codemirror_mode": {
    "name": "ipython",
    "version": 3
   },
   "file_extension": ".py",
   "mimetype": "text/x-python",
   "name": "python",
   "nbconvert_exporter": "python",
   "pygments_lexer": "ipython3",
   "version": "3.7.4"
  }
 },
 "nbformat": 4,
 "nbformat_minor": 4
}
