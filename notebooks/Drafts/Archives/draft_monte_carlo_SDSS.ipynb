{
 "cells": [
  {
   "cell_type": "markdown",
   "metadata": {},
   "source": [
    "## Modules à importer"
   ]
  },
  {
   "cell_type": "code",
   "execution_count": 1,
   "metadata": {},
   "outputs": [],
   "source": [
    "import math\n",
    "import scipy\n",
    "import pickle\n",
    "import numpy as np\n",
    "import pandas as pd\n",
    "import iminuit as im\n",
    "import ipywidgets as ipw\n",
    "from importlib import reload\n",
    "from scipy.stats import poisson\n",
    "from sklearn.cluster import KMeans\n",
    "from variaIa.variaIa import baserate\n",
    "from variaIa.variaIa import stretchevol\n",
    "from astropy.cosmology import Planck15 as cdata\n",
    "from IPython.display import display, Latex\n",
    "import matplotlib.pyplot as plt\n",
    "import random"
   ]
  },
  {
   "cell_type": "markdown",
   "metadata": {},
   "source": [
    "## Définitions pandas, surveys, $z[:z_{\\text{max}}]$, $x_1[:z_{\\text{max}}]$, mean, std et données totales + cons"
   ]
  },
  {
   "cell_type": "code",
   "execution_count": 12,
   "metadata": {
    "jupyter": {
     "source_hidden": true
    }
   },
   "outputs": [],
   "source": [
    "d = pd.read_csv('../Data/data_cheat.csv', sep=' ', index_col = 'CID')\n",
    "d_snf = pd.read_csv('../Data/lssfr_paper_full_sntable.csv',sep=',')\n",
    "\n",
    "surveys = ['SNF', 'SDSS', 'PS1', 'SNLS', 'HST']\n",
    "\n",
    "surv = {'SNF':  d_snf,\n",
    "        'SDSS': d[d['IDSURVEY'] == 1],\n",
    "        'PS1':  d[d['IDSURVEY'] == 15],\n",
    "        'SNLS': d[d['IDSURVEY'] == 4],\n",
    "        'HST':  d[d['IDSURVEY'].isin([101, 100, 106])]}\n",
    "\n",
    "with open('../Data/zmax_mlim', 'rb') as f:\n",
    "    z_max = pickle.load(f)\n",
    "\n",
    "z_max['SNF'] = [10, 10]\n",
    "z_max['HST'] = [10, 10]\n",
    "\n",
    "dgmap = plt.cm.get_cmap('viridis')\n",
    "colors = {'SNF': dgmap(0),\n",
    "          'SDSS': dgmap(50),\n",
    "          'PS1': dgmap(125),\n",
    "          'SNLS': dgmap(200),\n",
    "          'HST': dgmap(300)}\n",
    "\n",
    "zmax_cuts = dict()\n",
    "z_zcuts = dict()\n",
    "x1_zcuts = dict()\n",
    "x1_err_zcuts = dict()\n",
    "\n",
    "for survey in surveys[1:]:\n",
    "    zmax_cuts[survey] = np.where(surv[survey].zCMB.values < z_max[survey][1])\n",
    "    z_zcuts[survey] = surv[survey].zCMB.values[zmax_cuts[survey]]\n",
    "    x1_zcuts[survey] = surv[survey].x1.values[zmax_cuts[survey]]\n",
    "    x1_err_zcuts[survey] = surv[survey].x1ERR.values[zmax_cuts[survey]]\n",
    "    \n",
    "zmax_cuts['SNF'] = np.where(surv['SNF']['host.zcmb'].values < z_max['SNF'][1])\n",
    "z_zcuts['SNF'] = surv['SNF']['host.zcmb'].values[zmax_cuts['SNF']]\n",
    "x1_zcuts['SNF'] = surv['SNF']['salt2.X1'].values[zmax_cuts['SNF']]\n",
    "x1_err_zcuts['SNF'] = surv['SNF']['salt2.X1.err'].values[zmax_cuts['SNF']]\n",
    "\n",
    "datax_all = np.concatenate(\n",
    "    (np.concatenate(\n",
    "        (np.concatenate(\n",
    "            (np.concatenate((x1_zcuts['SNF'],\n",
    "                             x1_zcuts['SDSS'])),\n",
    "             x1_zcuts['PS1'])),\n",
    "         x1_zcuts['SNLS'])),\n",
    "     x1_zcuts['HST']))\n",
    "                                                     \n",
    "datax_err_all = np.concatenate(\n",
    "    (np.concatenate(\n",
    "        (np.concatenate(\n",
    "            (np.concatenate((x1_err_zcuts['SNF'],\n",
    "                             x1_err_zcuts['SDSS'])),\n",
    "             x1_err_zcuts['PS1'])),\n",
    "         x1_err_zcuts['SNLS'])),\n",
    "     x1_err_zcuts['HST']))\n",
    "                                                     \n",
    "dataz_all = np.concatenate(\n",
    "    (np.concatenate(\n",
    "        (np.concatenate(\n",
    "            (np.concatenate((z_zcuts['SNF'],\n",
    "                             z_zcuts['SDSS'])),\n",
    "             z_zcuts['PS1'])),\n",
    "         z_zcuts['SNLS'])),\n",
    "     z_zcuts['HST']))\n",
    "\n",
    "zinf_cuts = dict()\n",
    "z_zinfcuts = dict()\n",
    "x1_zinfcuts = dict()\n",
    "x1_err_zinfcuts = dict()\n",
    "c_zinfcuts = dict()\n",
    "c_err_zinfcuts = dict()\n",
    "\n",
    "for survey in surveys[1:]:\n",
    "    zinf_cuts[survey] = np.where(surv[survey].zCMB.values < z_max[survey][0])\n",
    "    z_zinfcuts[survey] = surv[survey].zCMB.values[zinf_cuts[survey]]\n",
    "    x1_zinfcuts[survey] = surv[survey].x1.values[zinf_cuts[survey]]\n",
    "    x1_err_zinfcuts[survey] = surv[survey].x1ERR.values[zinf_cuts[survey]]\n",
    "    c_zinfcuts[survey] = surv[survey].c.values[zinf_cuts[survey]]\n",
    "    c_err_zinfcuts[survey] = surv[survey].cERR.values[zinf_cuts[survey]]\n",
    "    \n",
    "zinf_cuts['SNF'] = np.where(surv['SNF']['host.zcmb'].values < z_max['SNF'][0])\n",
    "z_zinfcuts['SNF'] = surv['SNF']['host.zcmb'].values[zinf_cuts['SNF']]\n",
    "x1_zinfcuts['SNF'] = surv['SNF']['salt2.X1'].values[zinf_cuts['SNF']]\n",
    "x1_err_zinfcuts['SNF'] = surv['SNF']['salt2.X1.err'].values[zinf_cuts['SNF']]\n",
    "c_zinfcuts['SNF'] = surv['SNF']['salt2.Color'].values[zinf_cuts['SNF']]\n",
    "c_err_zinfcuts['SNF'] = surv['SNF']['salt2.Color.err'].values[zinf_cuts['SNF']]\n",
    "\n",
    "datax_cons_all = np.concatenate(\n",
    "    (np.concatenate(\n",
    "        (np.concatenate(\n",
    "            (np.concatenate((x1_zinfcuts['SNF'],\n",
    "                             x1_zinfcuts['SDSS'])),\n",
    "             x1_zinfcuts['PS1'])),\n",
    "         x1_zinfcuts['SNLS'])),\n",
    "     x1_zinfcuts['HST']))\n",
    "                                                     \n",
    "datax_err_cons_all = np.concatenate(\n",
    "    (np.concatenate(\n",
    "        (np.concatenate(\n",
    "            (np.concatenate((x1_err_zinfcuts['SNF'],\n",
    "                             x1_err_zinfcuts['SDSS'])),\n",
    "             x1_err_zinfcuts['PS1'])),\n",
    "         x1_err_zinfcuts['SNLS'])),\n",
    "     x1_err_zinfcuts['HST']))\n",
    "                                                     \n",
    "dataz_cons_all = np.concatenate(\n",
    "    (np.concatenate(\n",
    "        (np.concatenate(\n",
    "            (np.concatenate((z_zinfcuts['SNF'],\n",
    "                             z_zinfcuts['SDSS'])),\n",
    "             z_zinfcuts['PS1'])),\n",
    "         z_zinfcuts['SNLS'])),\n",
    "     z_zinfcuts['HST']))"
   ]
  },
  {
   "cell_type": "code",
   "execution_count": 79,
   "metadata": {},
   "outputs": [
    {
     "data": {
      "text/plain": [
       "'SDSS'"
      ]
     },
     "execution_count": 79,
     "metadata": {},
     "output_type": "execute_result"
    }
   ],
   "source": [
    "survey"
   ]
  },
  {
   "cell_type": "code",
   "execution_count": 84,
   "metadata": {},
   "outputs": [
    {
     "data": {
      "text/plain": [
       "'317'"
      ]
     },
     "execution_count": 84,
     "metadata": {},
     "output_type": "execute_result"
    }
   ],
   "source": [
    "str(len(mean_ran[survey][np.where(mean_ran[survey] < mean_cons[survey])]))"
   ]
  },
  {
   "cell_type": "code",
   "execution_count": 99,
   "metadata": {},
   "outputs": [
    {
     "data": {
      "image/png": "[encoded data removed]",
      "text/plain": [
       "<Figure size 576x576 with 3 Axes>"
      ]
     },
     "metadata": {
      "needs_background": "light"
     },
     "output_type": "display_data"
    }
   ],
   "source": [
    "mean_ran = dict()\n",
    "mean_cons = dict()\n",
    "\n",
    "fig = plt.figure(figsize=[8, 8])\n",
    "\n",
    "i = 1\n",
    "\n",
    "for survey in surveys[1:-1]:\n",
    "    mean_ran[survey] = np.asarray([np.mean(\n",
    "        np.random.choice(x1_zcuts[survey],\n",
    "                         len(z_zinfcuts[survey])))\n",
    "                                   for i in range(1000)])\n",
    "    mean_cons[survey] = np.mean(x1_zinfcuts[survey])\n",
    "\n",
    "    ax = fig.add_subplot(int('31' + str(i)))\n",
    "\n",
    "    ax.hist(mean_ran[survey], bins=13, color=colors[survey])\n",
    "\n",
    "    ax.axvline(mean_cons[survey], lw=2, color='k', label='Mean of conservative ' + survey)\n",
    "    ax.axvline(np.mean(x1_zcuts[survey]), lw=2, color='r', label='Mean of '+ survey)\n",
    "\n",
    "    if i == 3:    \n",
    "        ax.set_xlabel(r\"$\\mathrm{mean\\,\\,x_1}$ \", fontsize=\"x-large\")\n",
    "    ax.set_ylabel(r\"$\\mathrm{N}_\\mathrm{SNe Ia}$\", fontsize=\"x-large\")\n",
    "\n",
    "    ax.legend(loc='upper left',ncol=1, fontsize=\"small\")\n",
    "    \n",
    "    #plt.title('Fraction of random SNe having mean < mean of conservative stretch = '\n",
    "    #      + str(len(mean_ran[survey][np.where(mean_ran[survey] < mean_cons[survey])])))\n",
    "    \n",
    "    i+=1\n",
    "\n",
    "fig=plt.gcf()\n",
    "fig.savefig('../../../Images/monte_carlo_surveys.pdf', bbox_inches='tight')"
   ]
  },
  {
   "cell_type": "code",
   "execution_count": 100,
   "metadata": {},
   "outputs": [
    {
     "name": "stdout",
     "output_type": "stream",
     "text": [
      "Fraction of random SDSS stretchs being < mean_conservative = 0.294\n",
      "Fraction of random PS1 stretchs being < mean_conservative = 0.272\n",
      "Fraction of random SNLS stretchs being < mean_conservative = 0.397\n"
     ]
    }
   ],
   "source": [
    "for survey in surveys[1:-1]:\n",
    "    print('Fraction of random ' + survey + ' stretchs being < mean_conservative =',\n",
    "          len(mean_ran[survey][np.where(mean_ran[survey] < mean_cons[survey])])/len(mean_ran[survey]))"
   ]
  },
  {
   "cell_type": "code",
   "execution_count": null,
   "metadata": {},
   "outputs": [],
   "source": []
  }
 ],
 "metadata": {
  "kernelspec": {
   "display_name": "Python 3",
   "language": "python",
   "name": "python3"
  },
  "language_info": {
   "codemirror_mode": {
    "name": "ipython",
    "version": 3
   },
   "file_extension": ".py",
   "mimetype": "text/x-python",
   "name": "python",
   "nbconvert_exporter": "python",
   "pygments_lexer": "ipython3",
   "version": "3.7.3"
  }
 },
 "nbformat": 4,
 "nbformat_minor": 4
}
