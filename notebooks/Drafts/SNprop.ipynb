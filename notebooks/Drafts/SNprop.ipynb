{
 "cells": [
  {
   "cell_type": "markdown",
   "metadata": {},
   "source": [
    "## Modules à importer"
   ]
  },
  {
   "cell_type": "code",
   "execution_count": null,
   "metadata": {},
   "outputs": [],
   "source": [
    "import math\n",
    "import scipy\n",
    "import pickle\n",
    "import numpy as np\n",
    "import pandas as pd\n",
    "import iminuit as im\n",
    "import ipywidgets as ipw\n",
    "from snprop import survey\n",
    "from variaIa import baserate\n",
    "from importlib import reload\n",
    "from variaIa import stretchevol\n",
    "from scipy.stats import poisson\n",
    "from matplotlib.lines import Line2D\n",
    "from scipy.interpolate import interp1d\n",
    "from matplotlib.patches import Ellipse\n",
    "from astropy.cosmology import Planck15 as cdata\n",
    "from IPython.display import display, Latex\n",
    "import matplotlib.pyplot as plt\n",
    "import random"
   ]
  },
  {
   "cell_type": "markdown",
   "metadata": {},
   "source": [
    "## Définitions pandas, surveys et sélection de l'échantillon à utiliser"
   ]
  },
  {
   "cell_type": "markdown",
   "metadata": {},
   "source": [
    "### Définition des données à montrer"
   ]
  },
  {
   "cell_type": "code",
   "execution_count": null,
   "metadata": {},
   "outputs": [],
   "source": [
    "cons = ipw.Checkbox(\n",
    "    value=False,\n",
    "    description='Conservative')\n",
    "btw = ipw.Checkbox(\n",
    "    value=False,\n",
    "    description='btw')\n",
    "after = ipw.Checkbox(\n",
    "    value=False,\n",
    "    description='After')"
   ]
  },
  {
   "cell_type": "code",
   "execution_count": 5,
   "metadata": {},
   "outputs": [
    {
     "data": {
      "application/vnd.jupyter.widget-view+json": {
       "model_id": "bdf2aa4b72144163bc456e0d8d7d97e7",
       "version_major": 2,
       "version_minor": 0
      },
      "text/plain": [
       "HBox(children=(interactive(children=(Checkbox(value=False, description='Conservative'), Output()), _dom_classe…"
      ]
     },
     "metadata": {},
     "output_type": "display_data"
    },
    {
     "data": {
      "application/vnd.jupyter.widget-view+json": {
       "model_id": "f6e2615ea24f4af38c744cd69b3cb6fc",
       "version_major": 2,
       "version_minor": 0
      },
      "text/plain": [
       "interactive(children=(Dropdown(description='Survey:', index=2, options=('SNF', 'SDSS', 'PS1', 'SNLS', 'HST'), …"
      ]
     },
     "metadata": {},
     "output_type": "display_data"
    }
   ],
   "source": [
    "d = pd.read_csv('../../Data/data_cheat.csv', sep=' ', index_col = 'CID')\n",
    "d_snf = pd.read_csv('../../Data/lssfr_paper_full_sntable.csv',sep=',')\n",
    "\n",
    "surveys = ['SNF', 'SDSS', 'PS1', 'SNLS', 'HST']\n",
    "\n",
    "su = ipw.Dropdown(options=surveys,\n",
    "                  description='Survey:',\n",
    "                  value = 'PS1')\n",
    "\n",
    "raw_df_snf = d_snf.loc[d_snf['name'].str.contains('SNF|LSQ|PTF',na=False,regex=True)]\n",
    "surv = {'SNF':  raw_df_snf[raw_df_snf['salt2.Color'] < 0.3],\n",
    "        'SDSS': d[d['IDSURVEY'] == 1],\n",
    "        'PS1':  d[d['IDSURVEY'] == 15],\n",
    "        'SNLS': d[d['IDSURVEY'] == 4],\n",
    "        'HST':  d[d['IDSURVEY'].isin([101, 100, 106])]}\n",
    "\n",
    "with open('../../Data/zmax_mlim', 'rb') as f:\n",
    "    z_max = pickle.load(f)\n",
    "z_max['HST'] = [10, 10]\n",
    "\n",
    "zmax_cuts = dict()\n",
    "z_zcuts = dict()\n",
    "x1_zcuts = dict()\n",
    "x1_err_zcuts = dict()\n",
    "c_zcuts = dict()\n",
    "c_err_zcuts = dict()\n",
    "M_zcuts = dict()\n",
    "\n",
    "z_zcuts['SNF'] = surv['SNF']['host.zcmb'].values\n",
    "x1_zcuts['SNF'] = surv['SNF']['salt2.X1'].values\n",
    "x1_err_zcuts['SNF'] = surv['SNF']['salt2.X1.err'].values\n",
    "c_zcuts['SNF'] = surv['SNF']['salt2.Color'].values\n",
    "c_err_zcuts['SNF'] = surv['SNF']['salt2.Color.err'].values\n",
    "M_zcuts['SNF'] = surv['SNF']['gmass'].values\n",
    "\n",
    "def set_cons(cons):\n",
    "    global df\n",
    "    \n",
    "    names = []\n",
    "    stretchs = []\n",
    "    stretchs_err = []\n",
    "    colors = []\n",
    "    colors_err = []\n",
    "    hostmass = []\n",
    "    redshifts = []\n",
    "    infor = list(surv['SNF']['p(prompt)'])\n",
    "    py = list(surv['SNF']['p(prompt)'])\n",
    "    lssfr = list(surv['SNF']['lssfr'])\n",
    "    lssfr_err_d = list(surv['SNF']['lssfr.err_down'])\n",
    "    lssfr_err_u = list(surv['SNF']['lssfr.err_up'])\n",
    "    \n",
    "    if cons:\n",
    "        for survey in surveys[1:]:\n",
    "            zmax_cuts[survey] = np.where(surv[survey].zCMB.values < z_max[survey][0])\n",
    "            z_zcuts[survey] = surv[survey].zCMB.values[zmax_cuts[survey]]\n",
    "            x1_zcuts[survey] = surv[survey].x1.values[zmax_cuts[survey]]\n",
    "            x1_err_zcuts[survey] = surv[survey].x1ERR.values[zmax_cuts[survey]]\n",
    "            c_zcuts[survey] = surv[survey].c.values[zmax_cuts[survey]]\n",
    "            c_err_zcuts[survey] = surv[survey].cERR.values[zmax_cuts[survey]]\n",
    "            M_zcuts[survey] = surv[survey].HOST_LOGMASS.values[zmax_cuts[survey]]\n",
    "    else:\n",
    "        for survey in surveys[1:]:\n",
    "            zmax_cuts[survey] = np.where(surv[survey].zCMB.values < z_max[survey][-1])\n",
    "            z_zcuts[survey] = surv[survey].zCMB.values[zmax_cuts[survey]]\n",
    "            x1_zcuts[survey] = surv[survey].x1.values[zmax_cuts[survey]]\n",
    "            x1_err_zcuts[survey] = surv[survey].x1ERR.values[zmax_cuts[survey]]\n",
    "            c_zcuts[survey] = surv[survey].c.values[zmax_cuts[survey]]\n",
    "            c_err_zcuts[survey] = surv[survey].cERR.values[zmax_cuts[survey]]\n",
    "            M_zcuts[survey] = surv[survey].HOST_LOGMASS.values[zmax_cuts[survey]]\n",
    "    \n",
    "    for survey in surveys:\n",
    "        names += [survey for i in range(len(z_zcuts[survey]))]\n",
    "        stretchs += list(x1_zcuts[survey])\n",
    "        stretchs_err += list(x1_err_zcuts[survey])\n",
    "        colors += list(c_zcuts[survey])\n",
    "        colors_err += list(c_err_zcuts[survey])\n",
    "        hostmass += list(M_zcuts[survey])\n",
    "        redshifts += list(z_zcuts[survey])\n",
    "        if survey != 'SNF':\n",
    "            infor += list(stretchevol.Evol2G2M2S().delta(z_zcuts[survey]))\n",
    "            py += list([0 for i in range(len(z_zcuts[survey]))])\n",
    "            lssfr += list([0 for i in range(len(z_zcuts[survey]))])\n",
    "            lssfr_err_d += list([0 for i in range(len(z_zcuts[survey]))])\n",
    "            lssfr_err_u += list([0 for i in range(len(z_zcuts[survey]))])\n",
    "\n",
    "    df = pd.DataFrame({'survey': names,\n",
    "                       'stretchs': stretchs,\n",
    "                       'stretchs_err': stretchs_err,\n",
    "                       'colors': colors,\n",
    "                       'colors_err': colors_err,\n",
    "                       'hostmass': hostmass,\n",
    "                       'redshifts': redshifts,\n",
    "                       'infor': infor,\n",
    "                       'py': py,\n",
    "                       'lssfr': lssfr,\n",
    "                       'lssfr_err_d': lssfr_err_d,\n",
    "                       'lssfr_err_u': lssfr_err_u})\n",
    "\n",
    "    z_mean = np.mean(df.redshifts)\n",
    "    z_std = np.std(df.redshifts)\n",
    "    x1_mean = np.mean(df.stretchs)\n",
    "    x1_std = np.std(df.stretchs)\n",
    "    c_mean = np.mean(df.colors)\n",
    "    c_std = np.std(df.colors)\n",
    "    M_mean = np.mean(df.hostmass)\n",
    "    M_std = np.std(df.hostmass)\n",
    "    \n",
    "    return(df)\n",
    "            \n",
    "int_set_cons = ipw.interactive(set_cons, cons=cons)\n",
    "display(ipw.HBox([int_set_cons, btw, after]))\n",
    "\n",
    "df_nc = set_cons(False)\n",
    "df_c = set_cons(True)\n",
    "df_nHST = df[df['survey'] != 'HST']\n",
    "\n",
    "names = ['SNF' for i in range(len(z_zcuts['SNF']))]\n",
    "stretchs = list(x1_zcuts['SNF'])\n",
    "stretchs_err = list(x1_err_zcuts['SNF'])\n",
    "colors = list(c_zcuts['SNF'])\n",
    "colors_err = list(c_err_zcuts['SNF'])\n",
    "hostmass = list(M_zcuts['SNF'])\n",
    "redshifts = list(z_zcuts['SNF'])\n",
    "infor = list(surv['SNF']['p(prompt)'])\n",
    "py = list(surv['SNF']['p(prompt)'])\n",
    "lssfr = list(surv['SNF']['lssfr'])\n",
    "lssfr_err_d = list(surv['SNF']['lssfr.err_down'])\n",
    "lssfr_err_u = list(surv['SNF']['lssfr.err_up'])\n",
    "\n",
    "for survey in surveys[1:]:\n",
    "    names += [survey for i in range(len(surv[survey].zCMB.values))]\n",
    "    stretchs += list(surv[survey].x1.values)\n",
    "    stretchs_err += list(surv[survey].x1ERR.values)\n",
    "    colors += list(surv[survey].c.values)\n",
    "    colors_err += list(surv[survey].cERR.values)\n",
    "    hostmass += list(surv[survey].HOST_LOGMASS.values)\n",
    "    redshifts += list(surv[survey].zCMB.values)\n",
    "    infor += list(stretchevol.Evol2G2M2S().delta(surv[survey].zCMB.values))\n",
    "    py += list([0 for i in range(len(surv[survey].zCMB.values))])\n",
    "    lssfr += list([0 for i in range(len(surv[survey].zCMB.values))])\n",
    "    lssfr_err_d += list([0 for i in range(len(surv[survey].zCMB.values))])\n",
    "    lssfr_err_u += list([0 for i in range(len(surv[survey].zCMB.values))])\n",
    "\n",
    "df_full = pd.DataFrame({'survey': names,\n",
    "                        'stretchs': stretchs,\n",
    "                        'stretchs_err': stretchs_err,\n",
    "                        'colors': colors,\n",
    "                        'colors_err': colors_err,\n",
    "                        'hostmass': hostmass,\n",
    "                        'redshifts': redshifts,\n",
    "                        'infor': infor,\n",
    "                        'py': py,\n",
    "                        'lssfr': lssfr,\n",
    "                        'lssfr_err_d': lssfr_err_d,\n",
    "                        'lssfr_err_u': lssfr_err_u})\n",
    "\n",
    "smap = plt.cm.get_cmap('cividis')\n",
    "colors = {'SNF': plt.cm.binary(0.9),\n",
    "          'SDSS': smap(0.1),\n",
    "          'PS1': smap(0.5),\n",
    "          'SNLS': smap(0.8),\n",
    "          'HST': smap(0.99)}# for cividis\n",
    "          #'HST': smap(300)}# for viridis\n",
    "\n",
    "def set_data(su):\n",
    "    global dataz, datax\n",
    "    if su == 'SNF':\n",
    "        dataz = np.sort(surv[su]['host.zcmb'].values)\n",
    "        datax = np.sort(surv[su]['salt2.X1'].values)\n",
    "    else:\n",
    "        dataz = np.sort(surv[su].zCMB.values)\n",
    "        datax = np.sort(surv[su].x1.values)\n",
    "    \n",
    "int_data = ipw.interactive(set_data, su = su)\n",
    "display(int_data)"
   ]
  },
  {
   "cell_type": "code",
   "execution_count": 32,
   "metadata": {},
   "outputs": [
    {
     "data": {
      "text/plain": [
       "Text(0, 0.5, '$\\\\mathrm{N}_\\\\mathrm{SNe Ia}$ ')"
      ]
     },
     "execution_count": 32,
     "metadata": {},
     "output_type": "execute_result"
    },
    {
     "data": {
      "image/png": "[encoded data removed]",
      "text/plain": [
       "<Figure size 576x360 with 1 Axes>"
      ]
     },
     "metadata": {
      "needs_background": "light"
     },
     "output_type": "display_data"
    }
   ],
   "source": [
    "fig = plt.figure(figsize=[8, 5])\n",
    "ax = fig.add_axes([0.1, 0.12, 0.8, 0.8])\n",
    "\n",
    "ax.hist(df[df['survey'] == su.value].hostmass,\n",
    "        range=[5, 13],\n",
    "        bins=15,\n",
    "        color=colors[su.value],\n",
    "        alpha = .5, histtype='stepfilled', lw=2)\n",
    "\n",
    "ax.tick_params(direction = 'in',\n",
    "               length = 5, width = 1,\n",
    "               labelsize = 15,\n",
    "               top = True, right = True)\n",
    "\n",
    "ax.set_xlabel(r\"$\\mathrm{M}_\\mathrm{host}$\", fontsize=\"x-large\")\n",
    "ax.set_ylabel(r\"$\\mathrm{N}_\\mathrm{SNe Ia}$ \", fontsize=\"x-large\")"
   ]
  },
  {
   "cell_type": "code",
   "execution_count": 6,
   "metadata": {},
   "outputs": [],
   "source": [
    "def gauss(M, mu, sigma, normed=True):\n",
    "    '''Le modèle de distribution'''\n",
    "    sigma_eff = np.sqrt(sigma**2)\n",
    "    norm = 1 if normed else np.sqrt(2*np.pi)*sigma_eff\n",
    "    return norm*scipy.stats.norm.pdf(M, mu, scale=sigma_eff)\n",
    "\n",
    "def likelihood_asym(M, mu, sigma_m, sigma_p):\n",
    "    '''La fonction prenant en compte la probabilité d'être vieille/jeune'''\n",
    "    flag_up = M >= mu\n",
    "    likelihood = np.zeros(len(M))\n",
    "    likelihood[flag_up] = gauss(M[flag_up],\n",
    "                                mu, sigma_p, normed=False)\n",
    "    likelihood[~flag_up] = gauss(M[~flag_up],\n",
    "                                 mu, sigma_m, normed=False)\n",
    "    norm = np.sqrt(2*np.pi)*(0.5*np.sqrt(sigma_m**2)\n",
    "                             + 0.5*np.sqrt(sigma_p**2))\n",
    "    return likelihood/norm\n",
    "\n",
    "def loglikelihood_asym(mu, sigma_m, sigma_p):\n",
    "    '''La fonction à minimiser'''\n",
    "    return -2*np.sum(np.log(likelihood_asym(df_nHST[df_nHST['hostmass'] > 7].hostmass,\n",
    "                                            mu,\n",
    "                                            sigma_m, sigma_p)))\n",
    "\n",
    "def minimize_asym(print_level=0, **kwargs):\n",
    "    '''Renvoie la meilleure valeur des paramètres'''\n",
    "    m_tot = im.Minuit(loglikelihood_asym,\n",
    "                      print_level=print_level,\n",
    "                      pedantic=False,\n",
    "                      mu=10, sigma_m=2, sigma_p=1,\n",
    "                      **kwargs)\n",
    "    migrad_out = m_tot.migrad()\n",
    "    return(m_tot)\n",
    "\n",
    "bestfit_asym = minimize_asym().values"
   ]
  },
  {
   "cell_type": "code",
   "execution_count": 13,
   "metadata": {},
   "outputs": [
    {
     "data": {
      "text/plain": [
       "0       9.566476\n",
       "1      10.272276\n",
       "2      10.434992\n",
       "3       8.741923\n",
       "4       7.925805\n",
       "         ...    \n",
       "388     9.589000\n",
       "389     9.554000\n",
       "390     9.550000\n",
       "391    10.590000\n",
       "392     9.107000\n",
       "Name: hostmass, Length: 383, dtype: float64"
      ]
     },
     "execution_count": 13,
     "metadata": {},
     "output_type": "execute_result"
    }
   ],
   "source": [
    "df_nHST[df_nHST['hostmass'] > 7].hostmass"
   ]
  },
  {
   "cell_type": "code",
   "execution_count": 9,
   "metadata": {},
   "outputs": [],
   "source": [
    "def likelihood_gauss(M, mu_2, sigma_2):\n",
    "    '''La fonction décrivant le modèle des SNe vieilles'''\n",
    "    return gauss(M, mu_2, sigma_2)\n",
    "                                                                            \n",
    "def likelihood_asymgauss(a, M, mu, sigma_m, sigma_p, mu_2, sigma_2):\n",
    "    '''La fonction prenant en compte la probabilité d'être vieille/jeune'''\n",
    "    return a*likelihood_asym(M, mu, sigma_m, sigma_p) + \\\n",
    "        (1-a)*likelihood_gauss(M, mu_2, sigma_2)\n",
    "                                                                            \n",
    "def loglikelihood_asymgauss(a, mu, sigma_m, sigma_p, mu_2, sigma_2):\n",
    "    '''La fonction à minimiser'''\n",
    "    return -2*np.sum(np.log(likelihood_asymgauss(a,\n",
    "                                                 df_nHST[df_nHST['hostmass'] > 7].hostmass,\n",
    "                                                 mu, sigma_m, sigma_p,\n",
    "                                                 mu_2, sigma_2)))\n",
    "\n",
    "def minimize_asymgauss(print_level=0, **kwargs):\n",
    "    '''Renvoie la meilleure valeur des paramètres'''\n",
    "    m_tot = im.Minuit(loglikelihood_asymgauss,\n",
    "                      print_level=print_level,\n",
    "                      pedantic=False,\n",
    "                      a=0.5,\n",
    "                      mu=8, sigma_m=1, sigma_p=0.5,\n",
    "                      mu_2=11, sigma_2=1,\n",
    "                      **kwargs)\n",
    "    migrad_out = m_tot.migrad()\n",
    "    return(m_tot)\n",
    "\n",
    "bestfit_asymgauss = minimize_asymgauss().values"
   ]
  },
  {
   "cell_type": "code",
   "execution_count": 10,
   "metadata": {},
   "outputs": [
    {
     "data": {
      "text/plain": [
       "<ValueView of Minuit at 55ee0e4ebd20>\n",
       "  a: 0.49609354921325\n",
       "  mu: 9.395368741559103\n",
       "  sigma_m: 0.6854991620436625\n",
       "  sigma_p: 0.6630480233533436\n",
       "  mu_2: 10.696920718796237\n",
       "  sigma_2: 0.44123390333433177"
      ]
     },
     "execution_count": 10,
     "metadata": {},
     "output_type": "execute_result"
    }
   ],
   "source": [
    "bestfit_asymgauss"
   ]
  },
  {
   "cell_type": "code",
   "execution_count": 32,
   "metadata": {},
   "outputs": [
    {
     "data": {
      "image/png": "[encoded data removed]",
      "text/plain": [
       "<Figure size 576x360 with 1 Axes>"
      ]
     },
     "metadata": {
      "needs_background": "light"
     },
     "output_type": "display_data"
    }
   ],
   "source": [
    "fig = plt.figure(figsize=[8, 5])\n",
    "ax = fig.add_axes([0.1, 0.12, 0.6, 0.5])\n",
    "\n",
    "alpha1colors = dict()\n",
    "for survey in surveys:\n",
    "    alpha1colors[survey] = (colors[survey][0], colors[survey][1], colors[survey][2], .1)\n",
    "\n",
    "alpha3colors = dict()\n",
    "for survey in surveys:\n",
    "    alpha3colors[survey] = (colors[survey][0], colors[survey][1], colors[survey][2], .3)\n",
    "    \n",
    "alpha5colors = dict()\n",
    "for survey in surveys:\n",
    "    alpha5colors[survey] = (colors[survey][0], colors[survey][1], colors[survey][2], .5)\n",
    "    \n",
    "alpha8colors = dict()\n",
    "for survey in surveys:\n",
    "    alpha8colors[survey] = (colors[survey][0], colors[survey][1], colors[survey][2], .8)\n",
    "    \n",
    "stacked_bt = [df_nHST[df_nHST['survey'] == survey].hostmass for survey in surveys[:-1]]\n",
    "hstclrs_bt = [list(alpha5colors.values())[i] for i in range(len(surveys[:-1]))]\n",
    "\n",
    "ax.hist(df_nHST.hostmass,\n",
    "        density=True,\n",
    "        bins=10,\n",
    "        histtype='step',\n",
    "        lw=2, color='k',\n",
    "        label='Total')\n",
    "\n",
    "_, rang, _ = ax.hist(stacked_bt,\n",
    "                     density=True,\n",
    "                     stacked=True,\n",
    "                     bins=10,\n",
    "                     histtype='stepfilled',\n",
    "                     color=hstclrs_bt,\n",
    "                     label=surveys)\n",
    "\n",
    "ax.tick_params(labelsize=12)\n",
    "\n",
    "ax.set_xlabel(r'$\\mathrm{M}_\\mathrm{host}$', fontsize = 'x-large')\n",
    "ax.set_ylabel(r\"$\\mathrm{N}_\\mathrm{SNe Ia}$\", fontsize=\"x-large\")\n",
    "\n",
    "ax.legend(loc='upper left', fontsize='medium', ncol=1)\n",
    "\n",
    "path = '../../Images/'\n",
    "name = 'mass-cut_hist_stac'\n",
    "pathpdf = path + 'pdf/' + name + '.pdf'\n",
    "pathpng = path + 'png/' + name + '.png'\n",
    "fig.savefig(pathpdf, bbox_inches='tight')\n",
    "fig.savefig(pathpng, bbox_inches='tight', dpi=600)\n",
    "\n",
    "M_lin = np.linspace(rang[0], 12, 3000)\n",
    "\n",
    "pdf_asymgauss = likelihood_asymgauss(bestfit_asymgauss['a'],\n",
    "                                     M_lin,\n",
    "                                     bestfit_asymgauss['mu'],\n",
    "                                     bestfit_asymgauss['sigma_m'],\n",
    "                                     bestfit_asymgauss['sigma_p'],\n",
    "                                     bestfit_asymgauss['mu_2'],\n",
    "                                     bestfit_asymgauss['sigma_2'])\n",
    "ax.plot(M_lin, pdf_asymgauss,\n",
    "        color='C2', label='Asym Gauss')\n",
    "\n",
    "ax.vline(bestfit_asymgauss['mu'],\n",
    "         color='C2',\n",
    "         ymin=0, ymax=bestfit_asymgauss['a']*\\\n",
    "                      np.max(likelihood_asym(M_lin,\n",
    "                                             bestfit_asymgauss['mu'],\n",
    "                                             bestfit_asymgauss['sigma_m'],\n",
    "                                             bestfit_asymgauss['sigma_p'])))\n",
    "\n",
    "ax.vline(bestfit_asymgauss['mu_2'],\n",
    "         color='C2',\n",
    "         ymin=0, ymax=np.max(pdf_asymgauss))\n",
    "\n",
    "pdf_asym = likelihood_asym(M_lin,\n",
    "                           bestfit_asym['mu'],\n",
    "                           bestfit_asym['sigma_m'],\n",
    "                           bestfit_asym['sigma_p'])\n",
    "\n",
    "ax.plot(M_lin, pdf_asym,\n",
    "        color='C1', label='Asym')\n",
    "ax.vline(bestfit_asym['mu'],\n",
    "         color='C1',\n",
    "         ymin=0, ymax=np.max(pdf_asym))\n",
    "\n",
    "ax.legend(loc='upper left', fontsize='medium', ncol=1)\n",
    "\n",
    "path = '../../Images/'\n",
    "name = 'mass-cut_hist_stac-fit'\n",
    "pathpdf = path + 'pdf/' + name + '.pdf'\n",
    "pathpng = path + 'png/' + name + '.png'\n",
    "fig.savefig(pathpdf, bbox_inches='tight')\n",
    "fig.savefig(pathpng, bbox_inches='tight', dpi=600)"
   ]
  },
  {
   "cell_type": "code",
   "execution_count": 17,
   "metadata": {},
   "outputs": [
    {
     "data": {
      "text/plain": [
       "(-1.669842797222759, 2.168303333707165)"
      ]
     },
     "execution_count": 17,
     "metadata": {},
     "output_type": "execute_result"
    }
   ],
   "source": [
    "ax.get_ylim()"
   ]
  },
  {
   "cell_type": "code",
   "execution_count": 85,
   "metadata": {},
   "outputs": [
    {
     "data": {
      "text/plain": [
       "[<matplotlib.lines.Line2D at 0x7f3f68537410>]"
      ]
     },
     "execution_count": 85,
     "metadata": {},
     "output_type": "execute_result"
    },
    {
     "data": {
      "image/png": "[encoded data removed]",
      "text/plain": [
       "<Figure size 576x360 with 1 Axes>"
      ]
     },
     "metadata": {
      "needs_background": "light"
     },
     "output_type": "display_data"
    }
   ],
   "source": [
    "fig = plt.figure(figsize=[8, 5])\n",
    "ax = fig.add_axes([0.1, 0.12, 0.6, 0.5])\n",
    "M_lin = np.linspace(rang[0], rang[-1], 3000)\n",
    "\n",
    "ax.plot(M_lin, likelihood_tot(M_lin,\n",
    "                              bestfit['mu'],\n",
    "                              bestfit['sigma_m'],\n",
    "                              bestfit['sigma_p']))"
   ]
  },
  {
   "cell_type": "code",
   "execution_count": 2,
   "metadata": {},
   "outputs": [],
   "source": [
    "pdmodel = survey.PrompDelayModel()"
   ]
  },
  {
   "cell_type": "code",
   "execution_count": 3,
   "metadata": {},
   "outputs": [
    {
     "data": {
      "text/plain": [
       "array([0.48197451, 0.49583471])"
      ]
     },
     "execution_count": 3,
     "metadata": {},
     "output_type": "execute_result"
    }
   ],
   "source": [
    "pdmodel.get_distpdf_stretch([0.2, 0.4], 0.5)"
   ]
  }
 ],
 "metadata": {
  "kernelspec": {
   "display_name": "Python 3",
   "language": "python",
   "name": "python3"
  },
  "language_info": {
   "codemirror_mode": {
    "name": "ipython",
    "version": 3
   },
   "file_extension": ".py",
   "mimetype": "text/x-python",
   "name": "python",
   "nbconvert_exporter": "python",
   "pygments_lexer": "ipython3",
   "version": "3.7.4"
  }
 },
 "nbformat": 4,
 "nbformat_minor": 4
}
