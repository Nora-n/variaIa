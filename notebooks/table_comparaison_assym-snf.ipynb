{
 "cells": [
  {
   "cell_type": "markdown",
   "metadata": {},
   "source": [
    "## Modules à importer"
   ]
  },
  {
   "cell_type": "code",
   "execution_count": 1,
   "metadata": {
    "jupyter": {
     "source_hidden": true
    }
   },
   "outputs": [],
   "source": [
    "import math\n",
    "import scipy\n",
    "import pickle\n",
    "import numpy as np\n",
    "import pandas as pd\n",
    "import iminuit as im\n",
    "import ipywidgets as ipw\n",
    "from importlib import reload\n",
    "from scipy.stats import poisson\n",
    "from variaIa import baserate\n",
    "from variaIa import stretchevol\n",
    "from astropy.cosmology import Planck15 as cdata\n",
    "from IPython.display import display, Latex\n",
    "import matplotlib.pyplot as plt\n",
    "import random"
   ]
  },
  {
   "cell_type": "markdown",
   "metadata": {},
   "source": [
    "## Définitions pandas, surveys, $z[:z_{\\text{max}}]$, $x_1[:z_{\\text{max}}]$, mean, std et données totales"
   ]
  },
  {
   "cell_type": "code",
   "execution_count": 2,
   "metadata": {},
   "outputs": [
    {
     "data": {
      "application/vnd.jupyter.widget-view+json": {
       "model_id": "de7622f101f74b97ad962596cc0eb938",
       "version_major": 2,
       "version_minor": 0
      },
      "text/plain": [
       "Checkbox(value=False, description='Conservative')"
      ]
     },
     "metadata": {},
     "output_type": "display_data"
    }
   ],
   "source": [
    "cons = ipw.Checkbox(\n",
    "    value=False,\n",
    "    description='Conservative')\n",
    "display(cons)"
   ]
  },
  {
   "cell_type": "code",
   "execution_count": 3,
   "metadata": {
    "jupyter": {
     "source_hidden": true
    }
   },
   "outputs": [],
   "source": [
    "d = pd.read_csv('../Data/data_cheat.csv', sep=' ', index_col = 'CID')\n",
    "d_snf = pd.read_csv('../Data/lssfr_paper_full_sntable.csv',sep=',')\n",
    "\n",
    "surveys = ['SNF', 'SDSS', 'PS1', 'SNLS', 'HST']\n",
    "\n",
    "#if cons.value:\n",
    "surv = {'SNF':  d_snf.loc[d_snf['name'].str.contains('SNF|LSQ|PTF',na=False,regex=True)],\n",
    "        'SDSS': d[d['IDSURVEY'] == 1],\n",
    "        'PS1':  d[d['IDSURVEY'] == 15],\n",
    "        'SNLS': d[d['IDSURVEY'] == 4],\n",
    "        'HST':  d[d['IDSURVEY'].isin([101, 100, 106])]}\n",
    "#else:\n",
    "#    surv = {'SNF':  d_snf,\n",
    "#            'SDSS': d[d['IDSURVEY'] == 1],\n",
    "#            'PS1':  d[d['IDSURVEY'] == 15],\n",
    "#            'SNLS': d[d['IDSURVEY'] == 4],\n",
    "#            'HST':  d[d['IDSURVEY'].isin([101, 100, 106])]}\n",
    "\n",
    "with open('../Data/zmax_mlim', 'rb') as f:\n",
    "    z_max = pickle.load(f)\n",
    "\n",
    "z_max['SNF'] = [10, 10]\n",
    "z_max['HST'] = [10, 10]\n",
    "\n",
    "dgmap = plt.cm.get_cmap('viridis')\n",
    "colors = {'SNF': dgmap(0),\n",
    "          'SDSS': dgmap(50),\n",
    "          'PS1': dgmap(125),\n",
    "          'SNLS': dgmap(200),\n",
    "          'HST': dgmap(300)}\n",
    "\n",
    "zmax_cuts = dict()\n",
    "z_zcuts = dict()\n",
    "x1_zcuts = dict()\n",
    "x1_err_zcuts = dict()\n",
    "\n",
    "if cons.value:\n",
    "    for survey in surveys[1:]:\n",
    "        zmax_cuts[survey] = np.where(surv[survey].zCMB.values < z_max[survey][0])\n",
    "        z_zcuts[survey] = surv[survey].zCMB.values[zmax_cuts[survey]]\n",
    "        x1_zcuts[survey] = surv[survey].x1.values[zmax_cuts[survey]]\n",
    "        x1_err_zcuts[survey] = surv[survey].x1ERR.values[zmax_cuts[survey]]\n",
    "\n",
    "        zmax_cuts['SNF'] = np.where(surv['SNF']['host.zcmb'].values < z_max['SNF'][0])\n",
    "        z_zcuts['SNF'] = surv['SNF']['host.zcmb'].values[zmax_cuts['SNF']]\n",
    "        x1_zcuts['SNF'] = surv['SNF']['salt2.X1'].values[zmax_cuts['SNF']]\n",
    "        x1_err_zcuts['SNF'] = surv['SNF']['salt2.X1.err'].values[zmax_cuts['SNF']]\n",
    "        \n",
    "        py = surv['SNF']['p(prompt)'].values[zmax_cuts['SNF']]\n",
    "else:\n",
    "    for survey in surveys[1:]:\n",
    "        zmax_cuts[survey] = np.where(surv[survey].zCMB.values < z_max[survey][-1])\n",
    "        z_zcuts[survey] = surv[survey].zCMB.values[zmax_cuts[survey]]\n",
    "        x1_zcuts[survey] = surv[survey].x1.values[zmax_cuts[survey]]\n",
    "        x1_err_zcuts[survey] = surv[survey].x1ERR.values[zmax_cuts[survey]]\n",
    "\n",
    "        zmax_cuts['SNF'] = np.where(surv['SNF']['host.zcmb'].values < z_max['SNF'][-1])\n",
    "        z_zcuts['SNF'] = surv['SNF']['host.zcmb'].values[zmax_cuts['SNF']]\n",
    "        x1_zcuts['SNF'] = surv['SNF']['salt2.X1'].values[zmax_cuts['SNF']]\n",
    "        x1_err_zcuts['SNF'] = surv['SNF']['salt2.X1.err'].values[zmax_cuts['SNF']]\n",
    "        \n",
    "        py = surv['SNF']['p(prompt)'].values[zmax_cuts['SNF']]\n",
    "\n",
    "names = []\n",
    "#stretchs = [x1_zcuts['SNF'][i] for i in range(len(x1_zcuts['SNF']))]\n",
    "stretchs = []\n",
    "stretchs_err = []\n",
    "redshifts = []\n",
    "infor = list(surv['SNF']['p(prompt)'].values[zmax_cuts['SNF']])\n",
    "\n",
    "for survey in surveys:\n",
    "    names += [survey for i in range(len(z_zcuts[survey]))]\n",
    "    #stretchs += [x1_zcuts[survey][i] for i in range(len(x1_zcuts[survey]))]\n",
    "    stretchs += list(x1_zcuts[survey])\n",
    "    stretchs_err += list(x1_err_zcuts[survey])\n",
    "    redshifts += list(z_zcuts[survey])\n",
    "    if survey != 'SNF':\n",
    "        infor += list(z_zcuts[survey])\n",
    "\n",
    "df = pd.DataFrame({'survey': names,\n",
    "                   'stretchs': stretchs,\n",
    "                   'stretchs_err': stretchs_err,\n",
    "                   'redshifts': redshifts,\n",
    "                   'infor': infor})\n",
    "\n",
    "z_mean = np.mean(df.redshifts)\n",
    "z_std = np.std(df.redshifts)\n",
    "x1_mean = np.mean(df.stretchs)\n",
    "x1_std =np.std(df.stretchs)\n",
    "\n",
    "datax_all = np.concatenate(\n",
    "    (np.concatenate(\n",
    "        (np.concatenate(\n",
    "            (np.concatenate((x1_zcuts['SNF'],\n",
    "                             x1_zcuts['SDSS'])),\n",
    "             x1_zcuts['PS1'])),\n",
    "         x1_zcuts['SNLS'])),\n",
    "     x1_zcuts['HST']))\n",
    "                                                     \n",
    "datax_err_all = np.concatenate(\n",
    "    (np.concatenate(\n",
    "        (np.concatenate(\n",
    "            (np.concatenate((x1_err_zcuts['SNF'],\n",
    "                             x1_err_zcuts['SDSS'])),\n",
    "             x1_err_zcuts['PS1'])),\n",
    "         x1_err_zcuts['SNLS'])),\n",
    "     x1_err_zcuts['HST']))\n",
    "                                                     \n",
    "dataz_all = np.concatenate(\n",
    "    (np.concatenate(\n",
    "        (np.concatenate(\n",
    "            (np.concatenate((z_zcuts['SNF'],\n",
    "                             z_zcuts['SDSS'])),\n",
    "             z_zcuts['PS1'])),\n",
    "         z_zcuts['SNLS'])),\n",
    "     z_zcuts['HST']))"
   ]
  },
  {
   "cell_type": "code",
   "execution_count": 9,
   "metadata": {},
   "outputs": [
    {
     "data": {
      "image/png": "[encoded data removed]",
      "text/plain": [
       "<Figure size 576x360 with 1 Axes>"
      ]
     },
     "metadata": {
      "needs_background": "light"
     },
     "output_type": "display_data"
    }
   ],
   "source": [
    "test = stretchevol.fitter()\n",
    "test.set_pandas(df)\n",
    "test.set_model('Evol3G2M2SSNF')\n",
    "test.fit()\n",
    "\n",
    "test.model.param\n",
    "\n",
    "test.model.plotter()"
   ]
  },
  {
   "cell_type": "markdown",
   "metadata": {},
   "source": [
    "## Minimisation des modèles à mettre dans le _pandas_"
   ]
  },
  {
   "cell_type": "code",
   "execution_count": 4,
   "metadata": {},
   "outputs": [
    {
     "name": "stdout",
     "output_type": "stream",
     "text": [
      "PS1\n",
      "PS1 full\n",
      "SDSS\n",
      "SNLS\n"
     ]
    }
   ],
   "source": [
    "########################################### Assym PS1\n",
    "\n",
    "assymPS1 = stretchevol.Evol1G1M2S()\n",
    "assymPS1.set_data(z_zcuts['PS1'], x1_zcuts['PS1'], x1_err_zcuts['PS1'])\n",
    "\n",
    "print('PS1')\n",
    "\n",
    "assymPS1.minimize()\n",
    "# assymPS1.traceur()\n",
    "\n",
    "########################################### Assym PS1_full\n",
    "\n",
    "assymPS1_full = stretchevol.Evol1G1M2S()\n",
    "assymPS1_full.set_data(surv['PS1'].zCMB, surv['PS1'].x1, surv['PS1'].x1ERR)\n",
    "\n",
    "print('PS1 full')\n",
    "\n",
    "assymPS1_full.minimize()\n",
    "\n",
    "########################################### Assym SDSS\n",
    "\n",
    "assymSDSS = stretchevol.Evol1G1M2S()\n",
    "assymSDSS.set_data(z_zcuts['SDSS'], x1_zcuts['SDSS'], x1_err_zcuts['SDSS'])\n",
    "\n",
    "print('SDSS')\n",
    "\n",
    "assymSDSS.minimize()\n",
    "\n",
    "########################################### Assym SNLS\n",
    "\n",
    "assymSNLS = stretchevol.Evol1G1M2S()\n",
    "assymSNLS.set_data(z_zcuts['SNLS'], x1_zcuts['SNLS'], x1_err_zcuts['SNLS'])\n",
    "\n",
    "print('SNLS')\n",
    "\n",
    "assymSNLS.minimize()"
   ]
  },
  {
   "cell_type": "markdown",
   "metadata": {},
   "source": [
    "## Modèle _base_ pour comparaison"
   ]
  },
  {
   "cell_type": "code",
   "execution_count": 9,
   "metadata": {},
   "outputs": [
    {
     "data": {
      "text/plain": [
       "{'aa': -0.05736408165218872,\n",
       " 'mu_1': 0.4072077823779922,\n",
       " 'sigma_1': 0.5497965906630451,\n",
       " 'mu_2': -1.384008608940938,\n",
       " 'sigma_2': 0.43891315006033}"
      ]
     },
     "execution_count": 9,
     "metadata": {},
     "output_type": "execute_result"
    },
    {
     "data": {
      "image/png": "[encoded data removed]",
      "text/plain": [
       "<Figure size 504x252 with 1 Axes>"
      ]
     },
     "metadata": {
      "needs_background": "light"
     },
     "output_type": "display_data"
    }
   ],
   "source": [
    "base = stretchevol.Evol3G2M2SSNF()\n",
    "#base.set_pandas(df, py=True)\n",
    "\n",
    "base.set_lssfr(surv['SNF']['salt2.X1'], surv['SNF']['salt2.X1.err'],\n",
    "                  surv['SNF']['lssfr'], surv['SNF']['lssfr.err_down'], surv['SNF']['lssfr.err_up'],\n",
    "                  surv['SNF']['p(prompt)'])\n",
    "\n",
    "base.minimize()\n",
    "\n",
    "fig = plt.figure(figsize=[7, 3.5])\n",
    "ax = fig.add_axes([0.1, 0.12, 0.62, 0.8])\n",
    "\n",
    "base.scatter(ax=ax, mod_lw=1, elw=1, lw=1,\n",
    "                     facealpha=1, show_leg=False)\n",
    "\n",
    "prop = dict(orientation='horizontal',\n",
    "            histtype='step',\n",
    "            fill=True,\n",
    "            range=(-3, 3), bins=14,\n",
    "            lw=1)\n",
    "\n",
    "base.show_model(ax=ax, facealpha=0,\n",
    "                        edgealpha=1, lw=1, zorder=8)\n",
    "\n",
    "ax.set_xlim(-14.2, -9.05)\n",
    "ax.set_ylim(-3.2, 3.2)\n",
    "\n",
    "base.param"
   ]
  },
  {
   "cell_type": "code",
   "execution_count": 11,
   "metadata": {},
   "outputs": [
    {
     "data": {
      "text/plain": [
       "{'mu': 0.38216522997428914,\n",
       " 'sigma_m': 1.008420809532303,\n",
       " 'sigma_p': -0.5224444954297646}"
      ]
     },
     "execution_count": 11,
     "metadata": {},
     "output_type": "execute_result"
    }
   ],
   "source": [
    "assymPS1.param"
   ]
  },
  {
   "cell_type": "code",
   "execution_count": 10,
   "metadata": {},
   "outputs": [
    {
     "data": {
      "image/png": "[encoded data removed]",
      "text/plain": [
       "<Figure size 576x360 with 1 Axes>"
      ]
     },
     "metadata": {
      "needs_background": "light"
     },
     "output_type": "display_data"
    }
   ],
   "source": [
    "fig = plt.figure(figsize=[8, 5])\n",
    "ax = fig.add_axes([0.1, 0.12, 0.8, 0.8])\n",
    "\n",
    "x_linspace = np.linspace(assymPS1.floor, assymPS1.ceil, 3000)\n",
    "flag_up = x_linspace >= assymPS1.param['mu']\n",
    "\n",
    "color_p = \"C2\"\n",
    "\n",
    "ax.vline(assymPS1.param['mu'], 0, .499,\n",
    "         color=color_p, alpha=.5, linewidth=2.0)\n",
    "\n",
    "ax.plot(x_linspace[flag_up],\n",
    "        (assymPS1.param['sigma_p']) * np.sqrt(np.pi/2) *\n",
    "        assymPS1.gauss(x_linspace[flag_up],\n",
    "                       np.zeros(len(x_linspace[flag_up])),\n",
    "                       assymPS1.param['mu'],\n",
    "                       assymPS1.param['sigma_p']),\n",
    "        color=color_p, label='PS1',\n",
    "        lw=1)\n",
    "ax.plot(x_linspace[~flag_up],\n",
    "        (assymPS1.param['sigma_m']) * np.sqrt(np.pi/2) *\n",
    "        assymPS1.gauss(x_linspace[~flag_up],\n",
    "                       np.zeros(len(x_linspace[~flag_up])),\n",
    "                       assymPS1.param['mu'],\n",
    "                       assymPS1.param['sigma_m']),\n",
    "        color=color_p,\n",
    "        lw=1)\n",
    "\n",
    "mu_s = 0.365\n",
    "sigma_m_s = 0.963\n",
    "sigma_p_s = 0.514\n",
    "flag_up_s = x_linspace >= mu_s\n",
    "\n",
    "color_s = \"C0\"\n",
    "\n",
    "ax.vline(mu_s, 0, .499,\n",
    "         color=color_s, alpha=.5, linewidth=2.0)\n",
    "\n",
    "ax.plot(x_linspace[flag_up_s],\n",
    "        sigma_p_s*np.sqrt(np.pi/2)*\n",
    "        assymPS1.gauss(x_linspace[flag_up_s],\n",
    "                       np.zeros(len(x_linspace[flag_up_s])),\n",
    "                       mu_s,\n",
    "                       sigma_p_s),\n",
    "        color=color_s, label='Scolnic',\n",
    "        lw=1)\n",
    "\n",
    "ax.plot(x_linspace[~flag_up_s],\n",
    "        sigma_m_s*np.sqrt(np.pi/2)*\n",
    "        assymPS1.gauss(x_linspace[~flag_up_s],\n",
    "                       np.zeros(len(x_linspace[~flag_up_s])),\n",
    "                       mu_s,\n",
    "                       sigma_m_s),\n",
    "        color=color_s,\n",
    "        lw=1)\n",
    "\n",
    "dgmap = plt.cm.get_cmap('coolwarm')\n",
    "nb_base = len(surv['PS1'].zCMB)\n",
    "c_linspace = 1-np.linspace(0, 1, len(surv['PS1'].zCMB))\n",
    "i = 0\n",
    "\n",
    "z_m, z_p = np.percentile(surv['PS1'].zCMB, [0,100])\n",
    "\n",
    "for z in surv['PS1'].zCMB: #np.linspace(0.05, 1, nb_base)[:-1]:\n",
    "    ax.plot(x_linspace,\n",
    "            0.5/\n",
    "            np.max(base.likelihood_tot(base.delta(z),\n",
    "                                       x_linspace, np.zeros(len(x_linspace)),\n",
    "                                       base.param['aa'],\n",
    "                                       base.param['mu_1'], base.param['sigma_1'],\n",
    "                                       base.param['mu_2'], base.param['sigma_2']))*\n",
    "            base.likelihood_tot(base.delta(z),\n",
    "                                x_linspace, np.zeros(len(x_linspace)),\n",
    "                                base.param['aa'],\n",
    "                                base.param['mu_1'], base.param['sigma_1'],\n",
    "                                base.param['mu_2'], base.param['sigma_2']),\n",
    "            color=dgmap((z-z_m)/(z_p-z_m)), alpha=.7,\n",
    "            lw=1, zorder=1)\n",
    "    i += 1\n",
    "\n",
    "                                                      \n",
    "ax.tick_params(direction='in',\n",
    "               length=5, width=1,\n",
    "               labelsize=15,\n",
    "               top=True, right=True)\n",
    "                                                                      \n",
    "ax.set_xlim([assymPS1.floor, assymPS1.ceil])\n",
    "ax.set_ylim([0, .52])\n",
    "                                                                      \n",
    "ax.set_ylabel(r'$\\mathrm{Probability}$', fontsize='x-large')\n",
    "ax.set_xlabel(r'$\\mathrm{x}_1$', fontsize='x-large')\n",
    "                                                                      \n",
    "ax.legend(ncol=1, loc='upper right')\n",
    "\n",
    "fig.savefig('../../../Images/bbc_comp.pdf', bbox_inches='tight')"
   ]
  },
  {
   "cell_type": "code",
   "execution_count": 78,
   "metadata": {},
   "outputs": [
    {
     "data": {
      "text/plain": [
       "[<matplotlib.lines.Line2D at 0x7f2a4f8af6d0>]"
      ]
     },
     "execution_count": 78,
     "metadata": {},
     "output_type": "execute_result"
    },
    {
     "data": {
      "image/png": "[encoded data removed]",
      "text/plain": [
       "<Figure size 576x360 with 1 Axes>"
      ]
     },
     "metadata": {
      "needs_background": "light"
     },
     "output_type": "display_data"
    }
   ],
   "source": [
    "fig = plt.figure(figsize=[8, 5])\n",
    "ax = fig.add_axes([0.1, 0.12, 0.8, 0.8])\n",
    "\n",
    "xx = np.linspace(-3, 3, 3000)\n",
    "\n",
    "snf_a = 0.48\n",
    "snf_mu_1 = 0.41\n",
    "snf_sigma_1 = 0.55\n",
    "snf_mu_2 = -1.38\n",
    "snf_sigma_2 = 0.44\n",
    "\n",
    "delta = base.delta(0)\n",
    "\n",
    "pdf_y = scipy.stats.norm.pdf(xx, loc=snf_mu_1, scale=snf_sigma_1)\n",
    "pdf_o = snf_a*scipy.stats.norm.pdf(xx, loc=snf_mu_1, scale=snf_sigma_1)+\\\n",
    "        (1-snf_a)*scipy.stats.norm.pdf(xx, loc=snf_mu_2, scale=snf_sigma_2)\n",
    "\n",
    "pdf = delta*pdf_y + (1-delta)*pdf_o\n",
    "pdf_tot = base.likelihood_tot(delta, xx, np.zeros(len(xx)),\n",
    "                              )\n",
    "\n",
    "ax.plot(xx,\n",
    "        pdf)"
   ]
  },
  {
   "cell_type": "markdown",
   "metadata": {},
   "source": [
    "## Get proba"
   ]
  },
  {
   "cell_type": "code",
   "execution_count": 6,
   "metadata": {},
   "outputs": [],
   "source": [
    "def get_proba(model):\n",
    "    return np.exp((evol3G2M1S.get_aicc() - model.get_aicc())/2)"
   ]
  },
  {
   "cell_type": "code",
   "execution_count": 51,
   "metadata": {
    "jupyter": {
     "source_hidden": true
    }
   },
   "outputs": [
    {
     "data": {
      "text/html": [
       "<div>\n",
       "<style scoped>\n",
       "    .dataframe tbody tr th:only-of-type {\n",
       "        vertical-align: middle;\n",
       "    }\n",
       "\n",
       "    .dataframe tbody tr th {\n",
       "        vertical-align: top;\n",
       "    }\n",
       "\n",
       "    .dataframe thead th {\n",
       "        text-align: right;\n",
       "    }\n",
       "</style>\n",
       "<table border=\"1\" class=\"dataframe\">\n",
       "  <thead>\n",
       "    <tr style=\"text-align: right;\">\n",
       "      <th></th>\n",
       "      <th>Assym</th>\n",
       "      <th>Free param</th>\n",
       "      <th>$\\sigma^-$</th>\n",
       "      <th>$\\sigma^-_{\\mathrm{err}}$</th>\n",
       "      <th>$\\sigma^+$</th>\n",
       "      <th>$\\sigma^+_{\\mathrm{err}}$</th>\n",
       "      <th>$\\mu^0$</th>\n",
       "      <th>$\\mu^0_{\\mathrm{err}}$</th>\n",
       "      <th>ln $\\mathcal{L}$</th>\n",
       "      <th>AICc</th>\n",
       "    </tr>\n",
       "  </thead>\n",
       "  <tbody>\n",
       "    <tr>\n",
       "      <td>0</td>\n",
       "      <td>SDSS</td>\n",
       "      <td>3</td>\n",
       "      <td>1.31986</td>\n",
       "      <td>0.844649</td>\n",
       "      <td>0.406479</td>\n",
       "      <td>0.326006</td>\n",
       "      <td>0.648179</td>\n",
       "      <td>1.19329e-05</td>\n",
       "      <td>459.976390</td>\n",
       "      <td>466.123629</td>\n",
       "    </tr>\n",
       "    <tr>\n",
       "      <td>1</td>\n",
       "      <td>PS1</td>\n",
       "      <td>3</td>\n",
       "      <td>0.970843</td>\n",
       "      <td>0.0751408</td>\n",
       "      <td>0.570267</td>\n",
       "      <td>0.0574317</td>\n",
       "      <td>0.247812</td>\n",
       "      <td>0.000300539</td>\n",
       "      <td>398.601338</td>\n",
       "      <td>404.755184</td>\n",
       "    </tr>\n",
       "    <tr>\n",
       "      <td>2</td>\n",
       "      <td>PS1_full</td>\n",
       "      <td>3</td>\n",
       "      <td>0.942007</td>\n",
       "      <td>0.0458273</td>\n",
       "      <td>0.566399</td>\n",
       "      <td>0.0402743</td>\n",
       "      <td>0.215597</td>\n",
       "      <td>3.20806e-07</td>\n",
       "      <td>700.342255</td>\n",
       "      <td>706.429528</td>\n",
       "    </tr>\n",
       "    <tr>\n",
       "      <td>3</td>\n",
       "      <td>SNLS</td>\n",
       "      <td>3</td>\n",
       "      <td>1.29376</td>\n",
       "      <td>0.0959659</td>\n",
       "      <td>0.31589</td>\n",
       "      <td>0.0575095</td>\n",
       "      <td>0.982796</td>\n",
       "      <td>0.000683284</td>\n",
       "      <td>286.225505</td>\n",
       "      <td>292.470403</td>\n",
       "    </tr>\n",
       "    <tr>\n",
       "      <td>4</td>\n",
       "      <td>Total</td>\n",
       "      <td>12</td>\n",
       "      <td>--</td>\n",
       "      <td>--</td>\n",
       "      <td>--</td>\n",
       "      <td>--</td>\n",
       "      <td>--</td>\n",
       "      <td>--</td>\n",
       "      <td>1845.145488</td>\n",
       "      <td>1869.778744</td>\n",
       "    </tr>\n",
       "  </tbody>\n",
       "</table>\n",
       "</div>"
      ],
      "text/plain": [
       "      Assym  Free param $\\sigma^-$ $\\sigma^-_{\\mathrm{err}}$ $\\sigma^+$  \\\n",
       "0      SDSS           3    1.31986                  0.844649   0.406479   \n",
       "1       PS1           3   0.970843                 0.0751408   0.570267   \n",
       "2  PS1_full           3   0.942007                 0.0458273   0.566399   \n",
       "3      SNLS           3    1.29376                 0.0959659    0.31589   \n",
       "4     Total          12         --                        --         --   \n",
       "\n",
       "  $\\sigma^+_{\\mathrm{err}}$   $\\mu^0$ $\\mu^0_{\\mathrm{err}}$  \\\n",
       "0                  0.326006  0.648179            1.19329e-05   \n",
       "1                 0.0574317  0.247812            0.000300539   \n",
       "2                 0.0402743  0.215597            3.20806e-07   \n",
       "3                 0.0575095  0.982796            0.000683284   \n",
       "4                        --        --                     --   \n",
       "\n",
       "   ln $\\mathcal{L}$         AICc  \n",
       "0        459.976390   466.123629  \n",
       "1        398.601338   404.755184  \n",
       "2        700.342255   706.429528  \n",
       "3        286.225505   292.470403  \n",
       "4       1845.145488  1869.778744  "
      ]
     },
     "execution_count": 51,
     "metadata": {},
     "output_type": "execute_result"
    }
   ],
   "source": [
    "modèles = [assymSDSS, assymPS1, assymPS1_full, assymSNLS]\n",
    "\n",
    "assym_comp = pd.DataFrame({'Assym': ['SDSS', 'PS1', 'PS1_full', 'SNLS', 'Total'],\n",
    "                           'Free param': [len(k.FREEPARAMETERS) for k in modèles] + [np.sum([len(k.FREEPARAMETERS) for k in modèles])],\n",
    "                           '$\\sigma^-$': [k.migrad_out[1][1][2] for k in modèles] + ['--'],\n",
    "                           '$\\sigma^-_{\\mathrm{err}}$': [k.migrad_out[1][1][3] for k in modèles] + ['--'],\n",
    "                           '$\\sigma^+$': [k.migrad_out[1][2][2] for k in modèles] + ['--'],\n",
    "                           '$\\sigma^+_{\\mathrm{err}}$': [k.migrad_out[1][2][3] for k in modèles] + ['--'],\n",
    "                           '$\\mu^0$': [k.migrad_out[1][0][2] for k in modèles] + ['--'],\n",
    "                           '$\\mu^0_{\\mathrm{err}}$': [k.migrad_out[1][0][3] for k in modèles] + ['--'],\n",
    "                           'ln $\\mathcal{L}$': [k.get_logl() for k in modèles] + [np.sum([k.get_logl() for k in modèles])],\n",
    "                           'AICc': [k.get_aicc() for k in modèles] + [np.sum([k.get_aicc() for k in modèles])]})\n",
    "\n",
    "#path = '../Data/assym_comp'\n",
    "#if cons.value:\n",
    "#    path += '_cons'\n",
    "#path += '.dat'\n",
    "#assym_comp.to_csv(path)\n",
    "\n",
    "assym_comp"
   ]
  },
  {
   "cell_type": "markdown",
   "metadata": {},
   "source": [
    "## Minimisation du modèle SNF et calcul $\\mathcal{L}$ pour surveys"
   ]
  },
  {
   "cell_type": "code",
   "execution_count": 25,
   "metadata": {},
   "outputs": [],
   "source": [
    "########################## Get param for SNF #############################\n",
    "\n",
    "baseSNF = stretchevol.Evol3G2M2SSNF()\n",
    "baseSNF.set_lssfr(d_snf['salt2.X1'], d_snf['salt2.X1.err'],\n",
    "                  d_snf['lssfr'], d_snf['lssfr.err_down'], d_snf['lssfr.err_up'],\n",
    "                  d_snf['p(prompt)'])\n",
    "\n",
    "baseSNF.minimize()\n",
    "\n",
    "##################### Define and compute L for SDSS #####################\n",
    "\n",
    "baseSDSS = stretchevol.Evol3G2M2S()\n",
    "baseSDSS.set_data(z_zcuts['SDSS'], x1_zcuts['SDSS'], x1_err_zcuts['SDSS'])\n",
    "\n",
    "SDSS_log = baseSDSS.loglikelihood(baseSNF.param['aa'],\n",
    "                                  baseSNF.param['mu_1'],\n",
    "                                  baseSNF.param['sigma_1'],\n",
    "                                  baseSNF.param['mu_2'],\n",
    "                                  baseSNF.param['sigma_2'])\n",
    "\n",
    "##################### Define and compute L for PS1 #####################\n",
    "\n",
    "basePS1 = stretchevol.Evol3G2M2S()\n",
    "basePS1.set_data(z_zcuts['PS1'], x1_zcuts['PS1'], x1_err_zcuts['PS1'])\n",
    "\n",
    "PS1_log = basePS1.loglikelihood(baseSNF.param['aa'],\n",
    "                                baseSNF.param['mu_1'],\n",
    "                                baseSNF.param['sigma_1'],\n",
    "                                baseSNF.param['mu_2'],\n",
    "                                baseSNF.param['sigma_2'])\n",
    "\n",
    "##################### Define and compute L for SNLS #####################\n",
    "\n",
    "baseSNLS = stretchevol.Evol3G2M2S()\n",
    "baseSNLS.set_data(z_zcuts['SNLS'], x1_zcuts['SNLS'], x1_err_zcuts['SNLS'])\n",
    "\n",
    "SNLS_log = baseSNLS.loglikelihood(baseSNF.param['aa'],\n",
    "                                  baseSNF.param['mu_1'],\n",
    "                                  baseSNF.param['sigma_1'],\n",
    "                                  baseSNF.param['mu_2'],\n",
    "                                  baseSNF.param['sigma_2'])"
   ]
  },
  {
   "cell_type": "code",
   "execution_count": 30,
   "metadata": {},
   "outputs": [
    {
     "data": {
      "text/html": [
       "<div>\n",
       "<style scoped>\n",
       "    .dataframe tbody tr th:only-of-type {\n",
       "        vertical-align: middle;\n",
       "    }\n",
       "\n",
       "    .dataframe tbody tr th {\n",
       "        vertical-align: top;\n",
       "    }\n",
       "\n",
       "    .dataframe thead th {\n",
       "        text-align: right;\n",
       "    }\n",
       "</style>\n",
       "<table border=\"1\" class=\"dataframe\">\n",
       "  <thead>\n",
       "    <tr style=\"text-align: right;\">\n",
       "      <th></th>\n",
       "      <th>Base</th>\n",
       "      <th>Free param</th>\n",
       "      <th>ln $\\mathcal{L}$</th>\n",
       "      <th>AICc</th>\n",
       "    </tr>\n",
       "  </thead>\n",
       "  <tbody>\n",
       "    <tr>\n",
       "      <td>0</td>\n",
       "      <td>SDSS</td>\n",
       "      <td>0</td>\n",
       "      <td>395.227402</td>\n",
       "      <td>405.617012</td>\n",
       "    </tr>\n",
       "    <tr>\n",
       "      <td>1</td>\n",
       "      <td>PS1</td>\n",
       "      <td>0</td>\n",
       "      <td>444.672222</td>\n",
       "      <td>455.044893</td>\n",
       "    </tr>\n",
       "    <tr>\n",
       "      <td>2</td>\n",
       "      <td>SNLS</td>\n",
       "      <td>0</td>\n",
       "      <td>254.104053</td>\n",
       "      <td>264.729053</td>\n",
       "    </tr>\n",
       "    <tr>\n",
       "      <td>3</td>\n",
       "      <td>Total</td>\n",
       "      <td>0</td>\n",
       "      <td>1094.003676</td>\n",
       "      <td>1125.390957</td>\n",
       "    </tr>\n",
       "  </tbody>\n",
       "</table>\n",
       "</div>"
      ],
      "text/plain": [
       "    Base  Free param  ln $\\mathcal{L}$         AICc\n",
       "0   SDSS           0        395.227402   405.617012\n",
       "1    PS1           0        444.672222   455.044893\n",
       "2   SNLS           0        254.104053   264.729053\n",
       "3  Total           0       1094.003676  1125.390957"
      ]
     },
     "execution_count": 30,
     "metadata": {},
     "output_type": "execute_result"
    }
   ],
   "source": [
    "models = [basePS1, baseSDSS, baseSNLS]\n",
    "\n",
    "snf_comp = pd.DataFrame({'Base': ['SDSS', 'PS1', 'SNLS', 'Total'],\n",
    "                         'Free param': [0 for k in models] + [0],\n",
    "                         'ln $\\mathcal{L}$': [k.get_logl() for k in models] + [np.sum([k.get_logl() for k in models])],\n",
    "                         'AICc': [k.get_aicc() for k in models] + [np.sum([k.get_aicc() for k in models])]})\n",
    "\n",
    "path = '../Data/snf_comp'\n",
    "if cons.value:\n",
    "    path += '_cons'\n",
    "path += '.dat'\n",
    "snf_comp.to_csv(path)\n",
    "\n",
    "snf_comp"
   ]
  },
  {
   "cell_type": "code",
   "execution_count": 31,
   "metadata": {},
   "outputs": [
    {
     "data": {
      "text/plain": [
       "37.95825887641331"
      ]
     },
     "execution_count": 31,
     "metadata": {},
     "output_type": "execute_result"
    }
   ],
   "source": [
    "np.sum([k.get_aicc() for k in modèles]) - np.sum([k.get_aicc() for k in models])"
   ]
  },
  {
   "cell_type": "code",
   "execution_count": null,
   "metadata": {},
   "outputs": [],
   "source": []
  },
  {
   "cell_type": "code",
   "execution_count": null,
   "metadata": {},
   "outputs": [],
   "source": []
  },
  {
   "cell_type": "code",
   "execution_count": 68,
   "metadata": {},
   "outputs": [],
   "source": [
    "path = '../Data/df_comparaison'\n",
    "if cons.value:\n",
    "    path += '_cons'\n",
    "path += '.dat'\n",
    "d_mod_comp.to_csv(path)"
   ]
  },
  {
   "cell_type": "code",
   "execution_count": null,
   "metadata": {},
   "outputs": [],
   "source": []
  }
 ],
 "metadata": {
  "kernelspec": {
   "display_name": "Python 3",
   "language": "python",
   "name": "python3"
  },
  "language_info": {
   "codemirror_mode": {
    "name": "ipython",
    "version": 3
   },
   "file_extension": ".py",
   "mimetype": "text/x-python",
   "name": "python",
   "nbconvert_exporter": "python",
   "pygments_lexer": "ipython3",
   "version": "3.7.4"
  }
 },
 "nbformat": 4,
 "nbformat_minor": 4
}
