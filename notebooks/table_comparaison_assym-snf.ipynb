{
 "cells": [
  {
   "cell_type": "markdown",
   "metadata": {},
   "source": [
    "## Modules à importer"
   ]
  },
  {
   "cell_type": "code",
   "execution_count": 1,
   "metadata": {
    "jupyter": {
     "source_hidden": true
    }
   },
   "outputs": [],
   "source": [
    "import math\n",
    "import scipy\n",
    "import pickle\n",
    "import numpy as np\n",
    "import pandas as pd\n",
    "import iminuit as im\n",
    "import ipywidgets as ipw\n",
    "from importlib import reload\n",
    "from scipy.stats import poisson\n",
    "from variaIa import baserate\n",
    "from variaIa import stretchevol\n",
    "from astropy.cosmology import Planck15 as cdata\n",
    "from IPython.display import display, Latex\n",
    "import matplotlib.pyplot as plt\n",
    "import random"
   ]
  },
  {
   "cell_type": "markdown",
   "metadata": {},
   "source": [
    "## Définitions pandas, surveys, $z[:z_{\\text{max}}]$, $x_1[:z_{\\text{max}}]$, mean, std et données totales"
   ]
  },
  {
   "cell_type": "code",
   "execution_count": 2,
   "metadata": {},
   "outputs": [],
   "source": [
    "cons = ipw.Checkbox(\n",
    "    value=False,\n",
    "    description='Conservative')"
   ]
  },
  {
   "cell_type": "code",
   "execution_count": 3,
   "metadata": {
    "jupyter": {
     "source_hidden": true
    }
   },
   "outputs": [
    {
     "data": {
      "application/vnd.jupyter.widget-view+json": {
       "model_id": "eebc8e8643ca45f0b44d6198debca961",
       "version_major": 2,
       "version_minor": 0
      },
      "text/plain": [
       "interactive(children=(Checkbox(value=False, description='Conservative'), Output()), _dom_classes=('widget-inte…"
      ]
     },
     "metadata": {},
     "output_type": "display_data"
    }
   ],
   "source": [
    "d = pd.read_csv('../Data/data_cheat.csv', sep=' ', index_col = 'CID')\n",
    "d_snf = pd.read_csv('../Data/lssfr_paper_full_sntable.csv',sep=',')\n",
    "\n",
    "surveys = ['SNF', 'SDSS', 'PS1', 'SNLS', 'HST']\n",
    "\n",
    "surv = {'SNF':  d_snf.loc[d_snf['name'].str.contains('SNF|LSQ|PTF',na=False,regex=True)],\n",
    "        'SDSS': d[d['IDSURVEY'] == 1],\n",
    "        'PS1':  d[d['IDSURVEY'] == 15],\n",
    "        'SNLS': d[d['IDSURVEY'] == 4],\n",
    "        'HST':  d[d['IDSURVEY'].isin([101, 100, 106])]}\n",
    "\n",
    "dgmap = plt.cm.get_cmap('viridis')\n",
    "colors = {'SNF': dgmap(0),\n",
    "          'SDSS': dgmap(50),\n",
    "          'PS1': dgmap(125),\n",
    "          'SNLS': dgmap(200),\n",
    "          'HST': dgmap(300)}\n",
    "\n",
    "with open('../Data/zmax_mlim', 'rb') as f:\n",
    "    z_max = pickle.load(f)\n",
    "z_max['HST'] = [10, 10]\n",
    "\n",
    "def set_cons(cons):\n",
    "    global df\n",
    "    \n",
    "    zmax_cuts = dict()\n",
    "    z_zcuts = dict()\n",
    "    x1_zcuts = dict()\n",
    "    x1_err_zcuts = dict()\n",
    "    \n",
    "    names = ['SNF' for i in range(len(surv['SNF']['host.zcmb']))]\n",
    "    stretchs = list(surv['SNF']['salt2.X1'])\n",
    "    stretchs_err = list(surv['SNF']['salt2.X1.err'])\n",
    "    redshifts = list(surv['SNF']['host.zcmb'])\n",
    "    infor = list(surv['SNF']['p(prompt)'])\n",
    "    py = list(surv['SNF']['p(prompt)'])\n",
    "    lssfr = list(surv['SNF']['lssfr'])\n",
    "    lssfr_err_d = list(surv['SNF']['lssfr.err_down'])\n",
    "    lssfr_err_u = list(surv['SNF']['lssfr.err_up'])\n",
    "    \n",
    "    if cons:\n",
    "        for survey in surveys[1:]:\n",
    "            zmax_cuts[survey] = np.where(surv[survey].zCMB.values < z_max[survey][0])\n",
    "            z_zcuts[survey] = surv[survey].zCMB.values[zmax_cuts[survey]]\n",
    "            x1_zcuts[survey] = surv[survey].x1.values[zmax_cuts[survey]]\n",
    "            x1_err_zcuts[survey] = surv[survey].x1ERR.values[zmax_cuts[survey]]\n",
    "    else:\n",
    "        for survey in surveys[1:]:\n",
    "            zmax_cuts[survey] = np.where(surv[survey].zCMB.values < z_max[survey][-1])\n",
    "            z_zcuts[survey] = surv[survey].zCMB.values[zmax_cuts[survey]]\n",
    "            x1_zcuts[survey] = surv[survey].x1.values[zmax_cuts[survey]]\n",
    "            x1_err_zcuts[survey] = surv[survey].x1ERR.values[zmax_cuts[survey]]\n",
    "    \n",
    "    for survey in surveys[1:]:\n",
    "        names += [survey for i in range(len(z_zcuts[survey]))]\n",
    "        stretchs += list(x1_zcuts[survey])\n",
    "        stretchs_err += list(x1_err_zcuts[survey])\n",
    "        redshifts += list(z_zcuts[survey])\n",
    "        infor += list(stretchevol.Evol2G2M2S().delta(z_zcuts[survey]))\n",
    "        py += list([0 for i in range(len(z_zcuts[survey]))])\n",
    "        lssfr += list([0 for i in range(len(z_zcuts[survey]))])\n",
    "        lssfr_err_d += list([0 for i in range(len(z_zcuts[survey]))])\n",
    "        lssfr_err_u += list([0 for i in range(len(z_zcuts[survey]))])\n",
    "        \n",
    "    df = pd.DataFrame({'survey': names,\n",
    "                       'stretchs': stretchs,\n",
    "                       'stretchs_err': stretchs_err,\n",
    "                       'redshifts': redshifts,\n",
    "                       'infor': infor,\n",
    "                       'py': py,\n",
    "                       'lssfr': lssfr,\n",
    "                       'lssfr_err_d': lssfr_err_d,\n",
    "                       'lssfr_err_u': lssfr_err_u})\n",
    "\n",
    "    z_mean = np.mean(df.redshifts)\n",
    "    z_std = np.std(df.redshifts)\n",
    "    x1_mean = np.mean(df.stretchs)\n",
    "    x1_std = np.std(df.stretchs)\n",
    "    \n",
    "    return(df)\n",
    "            \n",
    "int_set_cons = ipw.interactive(set_cons, cons=cons)\n",
    "display(int_set_cons)\n",
    "\n",
    "names = ['SNF' for i in range(len(surv['SNF']['host.zcmb'].values))]\n",
    "stretchs = list(surv['SNF']['salt2.X1'].values)\n",
    "stretchs_err = list(surv['SNF']['salt2.X1.err'].values)\n",
    "redshifts = list(surv['SNF']['host.zcmb'].values)\n",
    "infor = list(surv['SNF']['p(prompt)'])\n",
    "py = list(surv['SNF']['p(prompt)'])\n",
    "lssfr = list(surv['SNF']['lssfr'])\n",
    "lssfr_err_d = list(surv['SNF']['lssfr.err_down'])\n",
    "lssfr_err_u = list(surv['SNF']['lssfr.err_up'])\n",
    "\n",
    "for survey in surveys[1:]:\n",
    "    names += [survey for i in range(len(surv[survey].zCMB.values))]\n",
    "    stretchs += list(surv[survey].x1.values)\n",
    "    stretchs_err += list(surv[survey].x1ERR.values)\n",
    "    redshifts += list(surv[survey].zCMB.values)\n",
    "    infor += list(stretchevol.Evol2G2M2S().delta(surv[survey].zCMB.values))\n",
    "    py += list([0 for i in range(len(surv[survey].zCMB.values))])\n",
    "    lssfr += list([0 for i in range(len(surv[survey].zCMB.values))])\n",
    "    lssfr_err_d += list([0 for i in range(len(surv[survey].zCMB.values))])\n",
    "    lssfr_err_u += list([0 for i in range(len(surv[survey].zCMB.values))])\n",
    "\n",
    "df_full = pd.DataFrame({'survey': names,\n",
    "                        'stretchs': stretchs,\n",
    "                        'stretchs_err': stretchs_err,\n",
    "                        'redshifts': redshifts,\n",
    "                        'infor': infor,\n",
    "                        'py': py,\n",
    "                        'lssfr': lssfr,\n",
    "                        'lssfr_err_d': lssfr_err_d,\n",
    "                        'lssfr_err_u': lssfr_err_u})"
   ]
  },
  {
   "cell_type": "markdown",
   "metadata": {},
   "source": [
    "## Minimisation des modèles à mettre dans le _pandas_"
   ]
  },
  {
   "cell_type": "code",
   "execution_count": 7,
   "metadata": {},
   "outputs": [
    {
     "name": "stdout",
     "output_type": "stream",
     "text": [
      "PS1\n",
      "SDSS\n",
      "SNLS\n"
     ]
    }
   ],
   "source": [
    "########################################### Assym PS1\n",
    "\n",
    "assymPS1 = stretchevol.Evol1G1M2S()\n",
    "assymPS1.set_data(df_full[df_full['survey'] == 'PS1'])\n",
    "\n",
    "print('PS1')\n",
    "\n",
    "assymPS1.minimize()\n",
    "# assymPS1.traceur()\n",
    "\n",
    "########################################### Assym SDSS\n",
    "\n",
    "assymSDSS = stretchevol.Evol1G1M2S()\n",
    "assymSDSS.set_data(df_full[df_full['survey'] == 'SDSS'])\n",
    "\n",
    "print('SDSS')\n",
    "\n",
    "assymSDSS.minimize()\n",
    "\n",
    "########################################### Assym SNLS\n",
    "\n",
    "assymSNLS = stretchevol.Evol1G1M2S()\n",
    "assymSNLS.set_data(df_full[df_full['survey'] == 'SNLS'])\n",
    "\n",
    "print('SNLS')\n",
    "\n",
    "assymSNLS.minimize()"
   ]
  },
  {
   "cell_type": "markdown",
   "metadata": {},
   "source": [
    "## Modèle _base_ pour comparaison"
   ]
  },
  {
   "cell_type": "code",
   "execution_count": 5,
   "metadata": {},
   "outputs": [],
   "source": [
    "base = stretchevol.Evol3G2M2SSNF()\n",
    "base.set_data(df[df['survey'] == 'SNF'])\n",
    "\n",
    "base.minimize()\n",
    "#base.scatter()"
   ]
  },
  {
   "cell_type": "code",
   "execution_count": 8,
   "metadata": {},
   "outputs": [
    {
     "data": {
      "image/png": "[encoded data removed]",
      "text/plain": [
       "<Figure size 576x360 with 1 Axes>"
      ]
     },
     "metadata": {
      "needs_background": "light"
     },
     "output_type": "display_data"
    }
   ],
   "source": [
    "fig = plt.figure(figsize=[8, 5])\n",
    "ax = fig.add_axes([0.1, 0.12, 0.8, 0.8])\n",
    "\n",
    "x_linspace = np.linspace(assymPS1.floor, assymPS1.ceil, 3000)\n",
    "flag_up = x_linspace >= assymPS1.param['mu']\n",
    "\n",
    "color_p = \"C2\"\n",
    "\n",
    "ax.vline(assymPS1.param['mu'], 0, .499,\n",
    "         color=color_p, alpha=.5, linewidth=2.0)\n",
    "\n",
    "ax.plot(x_linspace[flag_up],\n",
    "        (assymPS1.param['sigma_p']) * np.sqrt(np.pi/2) *\n",
    "        assymPS1.gauss(x_linspace[flag_up],\n",
    "                       np.zeros(len(x_linspace[flag_up])),\n",
    "                       assymPS1.param['mu'],\n",
    "                       assymPS1.param['sigma_p']),\n",
    "        color=color_p, label='PS1',\n",
    "        lw=1)\n",
    "ax.plot(x_linspace[~flag_up],\n",
    "        (assymPS1.param['sigma_m']) * np.sqrt(np.pi/2) *\n",
    "        assymPS1.gauss(x_linspace[~flag_up],\n",
    "                       np.zeros(len(x_linspace[~flag_up])),\n",
    "                       assymPS1.param['mu'],\n",
    "                       assymPS1.param['sigma_m']),\n",
    "        color=color_p,\n",
    "        lw=1)\n",
    "\n",
    "mu_s = 0.365\n",
    "sigma_m_s = 0.963\n",
    "sigma_p_s = 0.514\n",
    "flag_up_s = x_linspace >= mu_s\n",
    "\n",
    "color_s = \"C0\"\n",
    "\n",
    "ax.vline(mu_s, 0, .499,\n",
    "         color=color_s, alpha=.5, linewidth=2.0)\n",
    "\n",
    "ax.plot(x_linspace[flag_up_s],\n",
    "        sigma_p_s*np.sqrt(np.pi/2)*\n",
    "        assymPS1.gauss(x_linspace[flag_up_s],\n",
    "                       np.zeros(len(x_linspace[flag_up_s])),\n",
    "                       mu_s,\n",
    "                       sigma_p_s),\n",
    "        color=color_s, label='Scolnic',\n",
    "        lw=1)\n",
    "\n",
    "ax.plot(x_linspace[~flag_up_s],\n",
    "        sigma_m_s*np.sqrt(np.pi/2)*\n",
    "        assymPS1.gauss(x_linspace[~flag_up_s],\n",
    "                       np.zeros(len(x_linspace[~flag_up_s])),\n",
    "                       mu_s,\n",
    "                       sigma_m_s),\n",
    "        color=color_s,\n",
    "        lw=1)\n",
    "\n",
    "dgmap = plt.cm.get_cmap('coolwarm')\n",
    "nb_base = len(surv['PS1'].zCMB)\n",
    "i = 0\n",
    "\n",
    "z_m, z_p = np.percentile(surv['PS1'].zCMB, [0,100])\n",
    "\n",
    "for z in surv['PS1'].zCMB: #np.linspace(0.05, 1, nb_base)[:-1]:\n",
    "    pdf = base.likelihood_tot(base.delta(z),\n",
    "                              x_linspace, np.zeros(len(x_linspace)),\n",
    "                              base.param['aa'],\n",
    "                              base.param['mu_1'], base.param['sigma_1'],\n",
    "                              base.param['mu_2'], base.param['sigma_2'])\n",
    "\n",
    "    ax.plot(x_linspace,\n",
    "            0.5/np.max(pdf)*pdf,\n",
    "            color=dgmap((z-z_m)/(z_p-z_m)), alpha=.7,\n",
    "            lw=1, zorder=1)\n",
    "    i += 1\n",
    "\n",
    "                                                      \n",
    "ax.tick_params(direction='in',\n",
    "               length=5, width=1,\n",
    "               labelsize=15,\n",
    "               top=True, right=True)\n",
    " \n",
    "ax.set_xlim([assymPS1.floor, assymPS1.ceil])\n",
    "ax.set_ylim([0, .52])\n",
    "                                                                      \n",
    "ax.set_ylabel(r'$\\mathrm{Probability}$', fontsize='x-large')\n",
    "ax.set_xlabel(r'$\\mathrm{x}_1$', fontsize='x-large')\n",
    "\n",
    "ax.legend(ncol=1, loc='upper right')\n",
    "\n",
    "fig.savefig('../../../Images/bbc_comp.pdf', bbox_inches='tight')"
   ]
  },
  {
   "cell_type": "code",
   "execution_count": 17,
   "metadata": {},
   "outputs": [
    {
     "data": {
      "text/plain": [
       "[<matplotlib.lines.Line2D at 0x7f21e6bad550>]"
      ]
     },
     "execution_count": 17,
     "metadata": {},
     "output_type": "execute_result"
    },
    {
     "data": {
      "image/png": "[encoded data removed]",
      "text/plain": [
       "<Figure size 576x360 with 1 Axes>"
      ]
     },
     "metadata": {
      "needs_background": "light"
     },
     "output_type": "display_data"
    }
   ],
   "source": [
    "fig = plt.figure(figsize=[8, 5])\n",
    "ax = fig.add_axes([0.1, 0.12, 0.8, 0.8])\n",
    "\n",
    "xx = np.linspace(-3, 3, 3000)\n",
    "\n",
    "snf_a = 0.48\n",
    "snf_mu_1 = 0.41\n",
    "snf_sigma_1 = 0.55\n",
    "snf_mu_2 = -1.38\n",
    "snf_sigma_2 = 0.44\n",
    "\n",
    "delta = base.delta(0.3)\n",
    "\n",
    "pdf_y = scipy.stats.norm.pdf(xx, loc=snf_mu_1, scale=snf_sigma_1)\n",
    "pdf_o = snf_a*scipy.stats.norm.pdf(xx, loc=snf_mu_1, scale=snf_sigma_1)+\\\n",
    "        (1-snf_a)*scipy.stats.norm.pdf(xx, loc=snf_mu_2, scale=snf_sigma_2)\n",
    "\n",
    "pdf = delta*pdf_y + (1-delta)*pdf_o\n",
    "#pdf_tot = base.likelihood_tot(delta, xx, np.zeros(len(xx)),)\n",
    "\n",
    "ax.plot(xx,\n",
    "        pdf)"
   ]
  },
  {
   "cell_type": "markdown",
   "metadata": {},
   "source": [
    "## Get proba"
   ]
  },
  {
   "cell_type": "code",
   "execution_count": 6,
   "metadata": {},
   "outputs": [],
   "source": [
    "def get_proba(model):\n",
    "    return np.exp((evol3G2M1S.get_aicc() - model.get_aicc())/2)"
   ]
  },
  {
   "cell_type": "code",
   "execution_count": 11,
   "metadata": {},
   "outputs": [
    {
     "data": {
      "text/html": [
       "<div>\n",
       "<style scoped>\n",
       "    .dataframe tbody tr th:only-of-type {\n",
       "        vertical-align: middle;\n",
       "    }\n",
       "\n",
       "    .dataframe tbody tr th {\n",
       "        vertical-align: top;\n",
       "    }\n",
       "\n",
       "    .dataframe thead th {\n",
       "        text-align: right;\n",
       "    }\n",
       "</style>\n",
       "<table border=\"1\" class=\"dataframe\">\n",
       "  <thead>\n",
       "    <tr style=\"text-align: right;\">\n",
       "      <th></th>\n",
       "      <th>Assym</th>\n",
       "      <th>Free param</th>\n",
       "      <th>$\\sigma^-$</th>\n",
       "      <th>$\\sigma^-_{\\mathrm{err}}$</th>\n",
       "      <th>$\\sigma^+$</th>\n",
       "      <th>$\\sigma^+_{\\mathrm{err}}$</th>\n",
       "      <th>$\\mu^0$</th>\n",
       "      <th>$\\mu^0_{\\mathrm{err}}$</th>\n",
       "      <th>ln $\\mathcal{L}$</th>\n",
       "      <th>AICc</th>\n",
       "    </tr>\n",
       "  </thead>\n",
       "  <tbody>\n",
       "    <tr>\n",
       "      <td>0</td>\n",
       "      <td>SDSS</td>\n",
       "      <td>3</td>\n",
       "      <td>1.25</td>\n",
       "      <td>0.08</td>\n",
       "      <td>0.39</td>\n",
       "      <td>0.07</td>\n",
       "      <td>0.69</td>\n",
       "      <td>0.1</td>\n",
       "      <td>893.9</td>\n",
       "      <td>900.0</td>\n",
       "    </tr>\n",
       "    <tr>\n",
       "      <td>1</td>\n",
       "      <td>PS1</td>\n",
       "      <td>3</td>\n",
       "      <td>1</td>\n",
       "      <td>0.09</td>\n",
       "      <td>-0.49</td>\n",
       "      <td>0.09</td>\n",
       "      <td>0.42</td>\n",
       "      <td>0.12</td>\n",
       "      <td>702.0</td>\n",
       "      <td>708.1</td>\n",
       "    </tr>\n",
       "    <tr>\n",
       "      <td>2</td>\n",
       "      <td>SNLS</td>\n",
       "      <td>3</td>\n",
       "      <td>1.18</td>\n",
       "      <td>0.11</td>\n",
       "      <td>0.39</td>\n",
       "      <td>0.11</td>\n",
       "      <td>0.81</td>\n",
       "      <td>0.15</td>\n",
       "      <td>594.8</td>\n",
       "      <td>600.9</td>\n",
       "    </tr>\n",
       "    <tr>\n",
       "      <td>3</td>\n",
       "      <td>Total</td>\n",
       "      <td>9</td>\n",
       "      <td>--</td>\n",
       "      <td>--</td>\n",
       "      <td>--</td>\n",
       "      <td>--</td>\n",
       "      <td>--</td>\n",
       "      <td>--</td>\n",
       "      <td>2190.7</td>\n",
       "      <td>2209.0</td>\n",
       "    </tr>\n",
       "  </tbody>\n",
       "</table>\n",
       "</div>"
      ],
      "text/plain": [
       "   Assym  Free param $\\sigma^-$ $\\sigma^-_{\\mathrm{err}}$ $\\sigma^+$  \\\n",
       "0   SDSS           3       1.25                      0.08       0.39   \n",
       "1    PS1           3          1                      0.09      -0.49   \n",
       "2   SNLS           3       1.18                      0.11       0.39   \n",
       "3  Total           9         --                        --         --   \n",
       "\n",
       "  $\\sigma^+_{\\mathrm{err}}$ $\\mu^0$ $\\mu^0_{\\mathrm{err}}$  ln $\\mathcal{L}$  \\\n",
       "0                      0.07    0.69                    0.1             893.9   \n",
       "1                      0.09    0.42                   0.12             702.0   \n",
       "2                      0.11    0.81                   0.15             594.8   \n",
       "3                        --      --                     --            2190.7   \n",
       "\n",
       "     AICc  \n",
       "0   900.0  \n",
       "1   708.1  \n",
       "2   600.9  \n",
       "3  2209.0  "
      ]
     },
     "execution_count": 11,
     "metadata": {},
     "output_type": "execute_result"
    }
   ],
   "source": [
    "modèles = [assymSDSS, assymPS1, assymSNLS]\n",
    "\n",
    "assym_comp = pd.DataFrame({'Assym': ['SDSS', 'PS1', 'SNLS', 'Total'],\n",
    "                           'Free param': [len(k.FREEPARAMETERS) for k in modèles] + [np.sum([len(k.FREEPARAMETERS) for k in modèles])],\n",
    "                           '$\\sigma^-$': [round(k.migrad_out[1][1][2],2) for k in modèles] + ['--'],\n",
    "                           '$\\sigma^-_{\\mathrm{err}}$': [round(k.migrad_out[1][1][3],2) for k in modèles] + ['--'],\n",
    "                           '$\\sigma^+$': [round(k.migrad_out[1][2][2],2) for k in modèles] + ['--'],\n",
    "                           '$\\sigma^+_{\\mathrm{err}}$': [round(k.migrad_out[1][2][3],2) for k in modèles] + ['--'],\n",
    "                           '$\\mu^0$': [round(k.migrad_out[1][0][2],2) for k in modèles] + ['--'],\n",
    "                           '$\\mu^0_{\\mathrm{err}}$': [round(k.migrad_out[1][0][3],2) for k in modèles] + ['--'],\n",
    "                           'ln $\\mathcal{L}$': [round(k.get_logl(),1) for k in modèles] + [round(np.sum([k.get_logl() for k in modèles]),1)],\n",
    "                           'AICc': [round(k.get_aicc(),1) for k in modèles] + [round(np.sum([k.get_aicc() for k in modèles]),1)]})\n",
    "\n",
    "#path = '../Data/assym_comp'\n",
    "#if cons.value:\n",
    "#    path += '_cons'\n",
    "#path += '.dat'\n",
    "#assym_comp.to_csv(path)\n",
    "\n",
    "assym_comp"
   ]
  },
  {
   "cell_type": "markdown",
   "metadata": {},
   "source": [
    "## Minimisation du modèle SNF et calcul $\\mathcal{L}$ pour surveys"
   ]
  },
  {
   "cell_type": "code",
   "execution_count": 14,
   "metadata": {},
   "outputs": [],
   "source": [
    "########################## Get param for SNF #############################\n",
    "\n",
    "baseSNF = stretchevol.Evol3G2M2SSNF()\n",
    "baseSNF.set_data(df[df['survey'] == 'SNF'])\n",
    "\n",
    "baseSNF.minimize()\n",
    "\n",
    "##################### Define and compute L for SDSS #####################\n",
    "\n",
    "baseSDSS = stretchevol.Evol3G2M2S()\n",
    "baseSDSS.set_data(df[df['survey'] == 'SDSS'])\n",
    "\n",
    "baseSDSS.minimize()\n",
    "\n",
    "##################### Define and compute L for PS1 #####################\n",
    "\n",
    "basePS1 = stretchevol.Evol3G2M2S()\n",
    "basePS1.set_data(df[df['survey'] == 'PS1'])\n",
    "\n",
    "basePS1.minimize()\n",
    "\n",
    "##################### Define and compute L for SNLS #####################\n",
    "\n",
    "baseSNLS = stretchevol.Evol3G2M2S()\n",
    "baseSNLS.set_data(df[df['survey'] == 'SNLS'])\n",
    "\n",
    "baseSNLS.minimize()"
   ]
  },
  {
   "cell_type": "code",
   "execution_count": 16,
   "metadata": {},
   "outputs": [
    {
     "data": {
      "text/html": [
       "<div>\n",
       "<style scoped>\n",
       "    .dataframe tbody tr th:only-of-type {\n",
       "        vertical-align: middle;\n",
       "    }\n",
       "\n",
       "    .dataframe tbody tr th {\n",
       "        vertical-align: top;\n",
       "    }\n",
       "\n",
       "    .dataframe thead th {\n",
       "        text-align: right;\n",
       "    }\n",
       "</style>\n",
       "<table border=\"1\" class=\"dataframe\">\n",
       "  <thead>\n",
       "    <tr style=\"text-align: right;\">\n",
       "      <th></th>\n",
       "      <th>Base</th>\n",
       "      <th>Free param</th>\n",
       "      <th>ln $\\mathcal{L}$</th>\n",
       "      <th>AICc</th>\n",
       "    </tr>\n",
       "  </thead>\n",
       "  <tbody>\n",
       "    <tr>\n",
       "      <td>0</td>\n",
       "      <td>SDSS</td>\n",
       "      <td>0</td>\n",
       "      <td>395.2</td>\n",
       "      <td>405.6</td>\n",
       "    </tr>\n",
       "    <tr>\n",
       "      <td>1</td>\n",
       "      <td>PS1</td>\n",
       "      <td>0</td>\n",
       "      <td>444.7</td>\n",
       "      <td>455.0</td>\n",
       "    </tr>\n",
       "    <tr>\n",
       "      <td>2</td>\n",
       "      <td>SNLS</td>\n",
       "      <td>0</td>\n",
       "      <td>254.1</td>\n",
       "      <td>264.7</td>\n",
       "    </tr>\n",
       "    <tr>\n",
       "      <td>3</td>\n",
       "      <td>Total</td>\n",
       "      <td>0</td>\n",
       "      <td>1094.0</td>\n",
       "      <td>1125.4</td>\n",
       "    </tr>\n",
       "  </tbody>\n",
       "</table>\n",
       "</div>"
      ],
      "text/plain": [
       "    Base  Free param  ln $\\mathcal{L}$    AICc\n",
       "0   SDSS           0             395.2   405.6\n",
       "1    PS1           0             444.7   455.0\n",
       "2   SNLS           0             254.1   264.7\n",
       "3  Total           0            1094.0  1125.4"
      ]
     },
     "execution_count": 16,
     "metadata": {},
     "output_type": "execute_result"
    }
   ],
   "source": [
    "models = [basePS1, baseSDSS, baseSNLS]\n",
    "\n",
    "snf_comp = pd.DataFrame({'Base': ['SDSS', 'PS1', 'SNLS', 'Total'],\n",
    "                         'Free param': [0 for k in models] + [0],\n",
    "                         'ln $\\mathcal{L}$': [round(k.get_logl(),1) for k in models] + [round(np.sum([k.get_logl() for k in models]),1)],\n",
    "                         'AICc': [round(k.get_aicc(),1) for k in models] + [round(np.sum([k.get_aicc() for k in models]),1)]})\n",
    "\n",
    "path = '../Data/snf_comp'\n",
    "if cons.value:\n",
    "    path += '_cons'\n",
    "path += '.dat'\n",
    "snf_comp.to_csv(path)\n",
    "\n",
    "snf_comp"
   ]
  },
  {
   "cell_type": "code",
   "execution_count": null,
   "metadata": {},
   "outputs": [],
   "source": []
  }
 ],
 "metadata": {
  "kernelspec": {
   "display_name": "Python 3",
   "language": "python",
   "name": "python3"
  },
  "language_info": {
   "codemirror_mode": {
    "name": "ipython",
    "version": 3
   },
   "file_extension": ".py",
   "mimetype": "text/x-python",
   "name": "python",
   "nbconvert_exporter": "python",
   "pygments_lexer": "ipython3",
   "version": "3.7.4"
  }
 },
 "nbformat": 4,
 "nbformat_minor": 4
}
